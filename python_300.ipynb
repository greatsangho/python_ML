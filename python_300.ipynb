{
 "cells": [
  {
   "cell_type": "code",
   "execution_count": 1,
   "id": "2bf75edd-5c77-4f49-8a59-01d5eac5b296",
   "metadata": {},
   "outputs": [],
   "source": [
    "# https://wikidocs.net/book/922"
   ]
  },
  {
   "cell_type": "code",
   "execution_count": 2,
   "id": "b50fbc79-4b29-48c8-8c62-6350edaa491f",
   "metadata": {},
   "outputs": [
    {
     "name": "stdout",
     "output_type": "stream",
     "text": [
      "Hello World\n"
     ]
    }
   ],
   "source": [
    "print('Hello World')"
   ]
  },
  {
   "cell_type": "code",
   "execution_count": 3,
   "id": "6edd0c9a-6557-4fdb-83fa-22d658663fb9",
   "metadata": {},
   "outputs": [
    {
     "name": "stdout",
     "output_type": "stream",
     "text": [
      "Mary's cosmetics\n"
     ]
    }
   ],
   "source": [
    "print('Mary\\'s cosmetics')"
   ]
  },
  {
   "cell_type": "code",
   "execution_count": 4,
   "id": "a4132513-4d85-45ba-ad7d-cdf98656dbe3",
   "metadata": {},
   "outputs": [
    {
     "name": "stdout",
     "output_type": "stream",
     "text": [
      "신씨가 소리질렀다. \"도둑이야\".\n"
     ]
    }
   ],
   "source": [
    "print('신씨가 소리질렀다. \"도둑이야\".')"
   ]
  },
  {
   "cell_type": "code",
   "execution_count": 5,
   "id": "9b76805b-7cc3-4b4d-b9fe-170fca85cba0",
   "metadata": {},
   "outputs": [
    {
     "name": "stdout",
     "output_type": "stream",
     "text": [
      "C:\\Windows\n"
     ]
    }
   ],
   "source": [
    "print('C:\\\\Windows')"
   ]
  },
  {
   "cell_type": "code",
   "execution_count": 6,
   "id": "1ddedf32-abe1-45ba-a66d-6ada75bc9f57",
   "metadata": {},
   "outputs": [
    {
     "name": "stdout",
     "output_type": "stream",
     "text": [
      "안녕하세요.\n",
      "만나서\t\t반갑습니다.\n"
     ]
    }
   ],
   "source": [
    "print(\"안녕하세요.\\n만나서\\t\\t반갑습니다.\")"
   ]
  },
  {
   "cell_type": "code",
   "execution_count": 7,
   "id": "c0492423-4de9-445e-84b2-8f26a85c35d7",
   "metadata": {},
   "outputs": [
    {
     "name": "stdout",
     "output_type": "stream",
     "text": [
      "오늘은 일요일\n"
     ]
    }
   ],
   "source": [
    "print('오늘은','일요일')"
   ]
  },
  {
   "cell_type": "code",
   "execution_count": 8,
   "id": "2878e712-4614-4bed-8c6f-7aaec455fe17",
   "metadata": {},
   "outputs": [
    {
     "name": "stdout",
     "output_type": "stream",
     "text": [
      "naver;kakao;sk;samsung\n"
     ]
    }
   ],
   "source": [
    "print('naver;kakao;sk;samsung')"
   ]
  },
  {
   "cell_type": "code",
   "execution_count": 9,
   "id": "7ff4699a-a32c-4bf6-be88-876e1814130e",
   "metadata": {},
   "outputs": [
    {
     "name": "stdout",
     "output_type": "stream",
     "text": [
      "naver/kakao/sk/samsung\n"
     ]
    }
   ],
   "source": [
    "print('naver','kakao','sk','samsung',sep = '/')"
   ]
  },
  {
   "cell_type": "code",
   "execution_count": 10,
   "id": "0eeb3732-901b-47f9-9519-fc09cc9f421e",
   "metadata": {},
   "outputs": [
    {
     "name": "stdout",
     "output_type": "stream",
     "text": [
      "first\n",
      "second\n"
     ]
    }
   ],
   "source": [
    "print('first',end='\\n');print('second')"
   ]
  },
  {
   "cell_type": "code",
   "execution_count": 11,
   "id": "77d27700-70b0-46e2-b487-e55acbd32f79",
   "metadata": {},
   "outputs": [
    {
     "name": "stdout",
     "output_type": "stream",
     "text": [
      "1.6666666666666667\n"
     ]
    }
   ],
   "source": [
    "print(5/3)"
   ]
  },
  {
   "cell_type": "code",
   "execution_count": 12,
   "id": "fcaff1af-9586-49b2-9dfc-38e1e9169f04",
   "metadata": {},
   "outputs": [
    {
     "name": "stdout",
     "output_type": "stream",
     "text": [
      "500000\n"
     ]
    }
   ],
   "source": [
    "samsung_electronics = 50000\n",
    "stock = 10\n",
    "print(samsung_electronics * stock)"
   ]
  },
  {
   "cell_type": "code",
   "execution_count": 13,
   "id": "b20e7fd5-8e0c-4cac-9c29-104ae7373d67",
   "metadata": {},
   "outputs": [],
   "source": [
    "sichong = '298조'\n",
    "now_price = '50,000원'\n",
    "PER = 15.79"
   ]
  },
  {
   "cell_type": "code",
   "execution_count": 15,
   "id": "5054aa1c-06a3-431a-849d-04ed59bf8290",
   "metadata": {},
   "outputs": [
    {
     "name": "stdout",
     "output_type": "stream",
     "text": [
      "hello! python\n"
     ]
    }
   ],
   "source": [
    "s = 'hello'\n",
    "t = 'python'\n",
    "print(s+'! '+t)"
   ]
  },
  {
   "cell_type": "code",
   "execution_count": 16,
   "id": "082e0371-8269-4b28-8b18-41719518f889",
   "metadata": {},
   "outputs": [
    {
     "data": {
      "text/plain": [
       "8"
      ]
     },
     "execution_count": 16,
     "metadata": {},
     "output_type": "execute_result"
    }
   ],
   "source": [
    "2+2*3"
   ]
  },
  {
   "cell_type": "code",
   "execution_count": 18,
   "id": "de34df45-aa77-48e5-bfb3-a6a1622b2587",
   "metadata": {},
   "outputs": [
    {
     "name": "stdout",
     "output_type": "stream",
     "text": [
      "<class 'int'>\n",
      "<class 'str'>\n"
     ]
    }
   ],
   "source": [
    "a=128\n",
    "print(type(a))\n",
    "b=\"132\"\n",
    "print(type(b))"
   ]
  },
  {
   "cell_type": "code",
   "execution_count": 19,
   "id": "4168469e-5850-4b57-b526-24f3ea0f06f3",
   "metadata": {},
   "outputs": [
    {
     "data": {
      "text/plain": [
       "720"
      ]
     },
     "execution_count": 19,
     "metadata": {},
     "output_type": "execute_result"
    }
   ],
   "source": [
    "num_str = '720'\n",
    "int(num_str)"
   ]
  },
  {
   "cell_type": "code",
   "execution_count": 21,
   "id": "d7e8ab3c-baa1-4356-a42a-a811a543aff0",
   "metadata": {},
   "outputs": [
    {
     "data": {
      "text/plain": [
       "'100'"
      ]
     },
     "execution_count": 21,
     "metadata": {},
     "output_type": "execute_result"
    }
   ],
   "source": [
    "num = 100\n",
    "str1 = str(num)\n",
    "str1"
   ]
  },
  {
   "cell_type": "code",
   "execution_count": 22,
   "id": "ee448623-6790-41b2-8c3f-1739db431394",
   "metadata": {},
   "outputs": [
    {
     "data": {
      "text/plain": [
       "2020"
      ]
     },
     "execution_count": 22,
     "metadata": {},
     "output_type": "execute_result"
    }
   ],
   "source": [
    "int('2020')"
   ]
  },
  {
   "cell_type": "code",
   "execution_count": 23,
   "id": "5f247107-a45f-4736-bc79-3d5a2f52c25d",
   "metadata": {},
   "outputs": [
    {
     "data": {
      "text/plain": [
       "1749024"
      ]
     },
     "execution_count": 23,
     "metadata": {},
     "output_type": "execute_result"
    }
   ],
   "source": [
    "48584*36"
   ]
  },
  {
   "cell_type": "code",
   "execution_count": 24,
   "id": "65017407-0569-47e4-90da-398700979ed2",
   "metadata": {},
   "outputs": [
    {
     "name": "stdout",
     "output_type": "stream",
     "text": [
      "p t\n"
     ]
    }
   ],
   "source": [
    "letters = 'python'\n",
    "print(letters[0],letters[2])"
   ]
  },
  {
   "cell_type": "code",
   "execution_count": 25,
   "id": "17cd7149-f052-4f9e-88df-56f91a2aad6c",
   "metadata": {},
   "outputs": [
    {
     "data": {
      "text/plain": [
       "'2210'"
      ]
     },
     "execution_count": 25,
     "metadata": {},
     "output_type": "execute_result"
    }
   ],
   "source": [
    "license_plate = \"24가 2210\"\n",
    "license_plate[4:]"
   ]
  },
  {
   "cell_type": "code",
   "execution_count": 32,
   "id": "6726dd9b-1bee-4f84-b75f-2c12d7515ba4",
   "metadata": {},
   "outputs": [
    {
     "name": "stdout",
     "output_type": "stream",
     "text": [
      "홀홀홀"
     ]
    },
    {
     "data": {
      "text/plain": [
       "'홀홀홀'"
      ]
     },
     "execution_count": 32,
     "metadata": {},
     "output_type": "execute_result"
    }
   ],
   "source": [
    "string ='홀짝홀짝홀짝'\n",
    "for i in range(len(string)):\n",
    "    if string[i] == '홀':\n",
    "        print(string[i],end='')\n",
    "\n",
    "string[::2]"
   ]
  },
  {
   "cell_type": "code",
   "execution_count": 33,
   "id": "72b006b2-f98f-44bb-a5ce-5cd63996a3b4",
   "metadata": {},
   "outputs": [
    {
     "data": {
      "text/plain": [
       "'nohtyp'"
      ]
     },
     "execution_count": 33,
     "metadata": {},
     "output_type": "execute_result"
    }
   ],
   "source": [
    "string = 'python'\n",
    "string[::-1]"
   ]
  },
  {
   "cell_type": "code",
   "execution_count": 35,
   "id": "a4f918ce-8175-4d5d-bd80-4d889de49108",
   "metadata": {},
   "outputs": [
    {
     "name": "stdout",
     "output_type": "stream",
     "text": [
      "010 1111 2222\n"
     ]
    }
   ],
   "source": [
    "phone_num = '010-1111-2222'\n",
    "phone_num = phone_num.replace('-',' ')\n",
    "print(phone_num)"
   ]
  },
  {
   "cell_type": "code",
   "execution_count": 36,
   "id": "7c7226d5-49e8-42bb-8b17-dbdb23cf5f6b",
   "metadata": {},
   "outputs": [
    {
     "name": "stdout",
     "output_type": "stream",
     "text": [
      "01011112222\n"
     ]
    }
   ],
   "source": [
    "phone_num = '010-1111-2222'\n",
    "phone_num = phone_num.replace('-','')\n",
    "print(phone_num)"
   ]
  },
  {
   "cell_type": "code",
   "execution_count": 38,
   "id": "bac8d053-5c8c-4673-ba2a-28c70b1b3b68",
   "metadata": {},
   "outputs": [
    {
     "name": "stdout",
     "output_type": "stream",
     "text": [
      "com\n"
     ]
    }
   ],
   "source": [
    "url = 'https://google.com'\n",
    "domain = url.split('.')[-1]\n",
    "print(domain)"
   ]
  },
  {
   "cell_type": "code",
   "execution_count": 39,
   "id": "246a6e98-ca61-45c5-8c12-a468e0854d76",
   "metadata": {},
   "outputs": [
    {
     "data": {
      "text/plain": [
       "'Abcdfe2A354A32A'"
      ]
     },
     "execution_count": 39,
     "metadata": {},
     "output_type": "execute_result"
    }
   ],
   "source": [
    "string = 'abcdfe2a354a32a'\n",
    "string.replace('a','A')"
   ]
  },
  {
   "cell_type": "code",
   "execution_count": 1,
   "id": "5361a772-0a0a-4232-baf4-73662f69e35f",
   "metadata": {},
   "outputs": [],
   "source": [
    "class Stock:\n",
    "    def __init__(self, name, code):\n",
    "        self.code = code\n",
    "        self.name = name\n",
    "\n",
    "    def set_name(self, name):\n",
    "        self.name = name\n",
    "\n",
    "    def set_code(self, code):\n",
    "        self.code = code"
   ]
  },
  {
   "cell_type": "code",
   "execution_count": 4,
   "id": "ca996d2f-7b1f-4ef9-b12d-0418269fa81c",
   "metadata": {},
   "outputs": [],
   "source": [
    "class Human:\n",
    "    def __init__(self, name, age, gender):\n",
    "        print('응애응애')"
   ]
  },
  {
   "cell_type": "code",
   "execution_count": 5,
   "id": "d5cbee78-211b-42f2-ba8b-eae84df0239b",
   "metadata": {},
   "outputs": [
    {
     "name": "stdout",
     "output_type": "stream",
     "text": [
      "응애응애\n"
     ]
    }
   ],
   "source": [
    "areum = Human()"
   ]
  },
  {
   "cell_type": "code",
   "execution_count": 22,
   "id": "8ca37878-a736-4d6f-84a4-c7d19f599acf",
   "metadata": {},
   "outputs": [],
   "source": [
    "class Stock:\n",
    "    def __init__(self, name, code, per, pbr, bedang):\n",
    "        self.name = name\n",
    "        self.code = code\n",
    "        self.per = per\n",
    "        self.pbr = pbr\n",
    "        self.bedang = bedang\n",
    "        \n",
    "    def set_name(self, name):\n",
    "        self.name = name\n",
    "\n",
    "    def set_code(self, code):\n",
    "        self.code = code\n",
    "\n",
    "    def get_name(self):\n",
    "        return self.name\n",
    "    def get_code(self):\n",
    "        return self.code\n",
    "    def set_per(self,per):\n",
    "        self.per = per\n",
    "\n",
    "# samsung = Stock('samsung','0033')"
   ]
  },
  {
   "cell_type": "code",
   "execution_count": 23,
   "id": "c602d2f9-eb22-4c64-9495-2e100516f74c",
   "metadata": {},
   "outputs": [
    {
     "name": "stdout",
     "output_type": "stream",
     "text": [
      "samsung\n"
     ]
    }
   ],
   "source": [
    "print(samsung.get_name())"
   ]
  },
  {
   "cell_type": "code",
   "execution_count": 24,
   "id": "49edac3a-57e2-44cd-ae51-a32d0f0b6906",
   "metadata": {},
   "outputs": [
    {
     "data": {
      "text/plain": [
       "2.83"
      ]
     },
     "execution_count": 24,
     "metadata": {},
     "output_type": "execute_result"
    }
   ],
   "source": [
    "samsung = Stock('samsung', '0059', 15.79, 1.33, 2.83)\n",
    "samsung.name\n",
    "samsung.code\n",
    "samsung.per\n",
    "samsung.pbr\n",
    "samsung.bedang"
   ]
  },
  {
   "cell_type": "code",
   "execution_count": 25,
   "id": "f10190d0-132b-4d85-b3b5-753d89745ccd",
   "metadata": {},
   "outputs": [
    {
     "data": {
      "text/plain": [
       "12.75"
      ]
     },
     "execution_count": 25,
     "metadata": {},
     "output_type": "execute_result"
    }
   ],
   "source": [
    "samsung.set_per(12.75)\n",
    "samsung.per"
   ]
  },
  {
   "cell_type": "code",
   "execution_count": 27,
   "id": "7eb843b5-aeb3-4ceb-ae39-c395ade214ff",
   "metadata": {},
   "outputs": [
    {
     "name": "stdout",
     "output_type": "stream",
     "text": [
      "0059 12.75\n"
     ]
    }
   ],
   "source": [
    "list1 = []\n",
    "list1.append(samsung)\n",
    "for i in list1:\n",
    "    print(i.code, i.per)"
   ]
  },
  {
   "cell_type": "code",
   "execution_count": null,
   "id": "1d4bb334-4efe-4540-b115-5736310035fe",
   "metadata": {},
   "outputs": [],
   "source": []
  }
 ],
 "metadata": {
  "kernelspec": {
   "display_name": "Python 3 (ipykernel)",
   "language": "python",
   "name": "python3"
  },
  "language_info": {
   "codemirror_mode": {
    "name": "ipython",
    "version": 3
   },
   "file_extension": ".py",
   "mimetype": "text/x-python",
   "name": "python",
   "nbconvert_exporter": "python",
   "pygments_lexer": "ipython3",
   "version": "3.12.4"
  }
 },
 "nbformat": 4,
 "nbformat_minor": 5
}
