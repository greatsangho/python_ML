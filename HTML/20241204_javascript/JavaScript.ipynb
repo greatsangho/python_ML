{
  "nbformat": 4,
  "nbformat_minor": 0,
  "metadata": {
    "colab": {
      "provenance": []
    },
    "kernelspec": {
      "name": "python3",
      "display_name": "Python 3"
    },
    "language_info": {
      "name": "python"
    }
  },
  "cells": [
    {
      "cell_type": "code",
      "execution_count": null,
      "metadata": {
        "id": "BIDEVqDr-Fcg"
      },
      "outputs": [],
      "source": []
    },
    {
      "cell_type": "markdown",
      "source": [
        "- JavaScript\n",
        "  - 인터프리터 언어 : 별도의 컴파일러(코드->기계어->object파일->링커->EXE) 과정이 없다\n",
        "  - 동적타이핑 : 변수의 타입을 선언하지 않아도 된다  data = \"일십백\"\n",
        "    - var data = 10\n",
        "  - 객체 기반(Object - base/oriented)\n",
        "    - 모든것을 객체로 간주하고 동작\n",
        "  - 비동기 처리 지원\n",
        "    - promise, async/await 비동기 지원\n",
        "  - 우수한 이식성..\n",
        "    - 웹브라우져, node.js 등 기타환경에서 완벽하게 동작\n",
        "\n",
        "\n",
        "- 변수선언\n",
        "   - let x = 10;     변경가능한 변수(지역)\n",
        "   - const y = 20;   상수\n",
        "   - var z = 30;     권장하지 않음 (전역)\n"
      ],
      "metadata": {
        "id": "0WJd4n1e-rdw"
      }
    },
    {
      "cell_type": "code",
      "source": [
        "'''\n",
        "function add(x, y)    head 선언부\n",
        "{                     body 구현부\n",
        "  return x + y\n",
        "}\n",
        "\n",
        "람다.. arrow function  화살표 함수\n",
        "(x,y) => x + y\n",
        "\n",
        "배열 - 리스트   스택처럼 추가 삭제를 한다.\n",
        "let arr = [1,2,3,4,5]\n",
        "arr.push(5)\n",
        "\n",
        "temp = arr.map( x => x * 2   )\n",
        "\n",
        "console.log(temp)\n",
        "\n",
        "반복문 조건문\n",
        "\n",
        "Dom 조작\n",
        "요소가져오기\n",
        "\n",
        "const 변수 -->변수가 스칼라 값이아니라 돔요소와 같은 객체이면... 해당 객체의 내부 데이터등을 못바꾼는게아니라\n",
        "const 변수 자체를 다시 재 할당을 금지\n",
        "\n",
        "<script>\n",
        "const title = document.getElementById('title')\n",
        "const container = document.getElementByClass('container')\n",
        "const button = document.getElementById('btn2')\n",
        "버튼 객체에 이벤트 추가\n",
        "button.addEventListener('click', () => {\n",
        "  title.textContent = 'change title';\n",
        "  title.sytle.color = 'red'\n",
        "}   )\n",
        "\n",
        "let name = '홍길동'\n",
        "let age = 20\n",
        "console.log( \"안녕하세요 저는 ${name} 입니다. 제 나이는 ${age}\"  )\n",
        "\n",
        "</script>\n",
        "\n",
        "<html>\n",
        "  ...\n",
        "  ..\n",
        "  <div id='title'>\n",
        "    ...\n",
        "    ..\n",
        "  </div>\n",
        "  <div class='container'>\n",
        "    ...\n",
        "    ..\n",
        "  </div>\n",
        "\n",
        "\n",
        "  <button id='btn1' onClick='실행할 함수' >버튼1</button>\n",
        "  <button id='btn2'>버튼2</button>\n",
        "\n",
        "\n",
        "</html>\n",
        "\n",
        "'''"
      ],
      "metadata": {
        "id": "W-huATQmBlgl"
      },
      "execution_count": null,
      "outputs": []
    },
    {
      "cell_type": "code",
      "source": [
        "arr = [1,2,3,4,5]"
      ],
      "metadata": {
        "id": "dySG-cIvEorF"
      },
      "execution_count": 1,
      "outputs": []
    },
    {
      "cell_type": "code",
      "source": [
        "name = '홍길동'\n",
        "f\" 안녕하세요 저는 {name} 입니다.\""
      ],
      "metadata": {
        "id": "zaypShxVEqN1"
      },
      "execution_count": null,
      "outputs": []
    }
  ]
}