{
  "nbformat": 4,
  "nbformat_minor": 0,
  "metadata": {
    "colab": {
      "provenance": []
    },
    "kernelspec": {
      "name": "python3",
      "display_name": "Python 3"
    },
    "language_info": {
      "name": "python"
    }
  },
  "cells": [
    {
      "cell_type": "code",
      "execution_count": 2,
      "metadata": {
        "id": "wMEjF6M7lH_K"
      },
      "outputs": [],
      "source": [
        "!pip install pyngrok -qq\n",
        "!pip install fastapi uvicorn -qq"
      ]
    },
    {
      "cell_type": "code",
      "source": [
        "# 필요한 라이브러리 설치\n",
        "!pip install pyngrok fastapi uvicorn nest_asyncio\n",
        "\n",
        "# 필요한 라이브러리 임포트\n",
        "from transformers import pipeline\n",
        "from fastapi import FastAPI\n",
        "from pydantic import BaseModel\n",
        "from pyngrok import ngrok\n",
        "import nest_asyncio\n",
        "import uvicorn\n",
        "import asyncio\n",
        "# ngrok 터널 재시작\n",
        "from pyngrok import ngrok\n",
        "\n",
        "# 기존 ngrok 터널을 종료\n",
        "ngrok.kill()\n",
        "\n",
        "# ngrok 인증 토큰 설정\n",
        "ngrok.set_auth_token(\"회원가입후 토큰발행값\")  # https://dashboard.ngrok.com/get-started/setup/windows\n",
        "\n",
        "# 새로운 ngrok 터널 시작\n",
        "public_url = ngrok.connect(8800)\n",
        "print(f\"FastAPI 서버는 {public_url}에서 실행 중입니다.\")\n",
        "\n",
        "\n",
        "\n",
        "# nest_asyncio 적용\n",
        "nest_asyncio.apply()\n",
        "\n",
        "\n",
        "# FastAPI 앱 생성\n",
        "app = FastAPI()\n",
        "qa_pipeline = pipeline('question-answering', model='distilbert-base-cased-distilled-squad')\n",
        "\n",
        "# 예시 질문-응답 엔드포인트\n",
        "class Question(BaseModel):\n",
        "    question: str\n",
        "    context: str\n",
        "\n",
        "@app.post(\"/qa/\")\n",
        "async def get_answer(question: Question):\n",
        "    # 질문과 context를 모델에 전달하여 답을 얻기\n",
        "    result = qa_pipeline({'question': question.question, 'context': question.context})\n",
        "    return {\"answer\": result['answer']}  # 모델의 답변 반환\n",
        "\n",
        "# GET 요청 엔드포인트\n",
        "@app.get(\"/qa/\")\n",
        "async def get_sample_answer():\n",
        "    return {\"answer\": \"This is a sample answer to a GET request.\"}\n",
        "\n",
        "# ngrok을 통해 외부 URL에 FastAPI 서버 연결\n",
        "public_url = ngrok.connect(8800)\n",
        "print(f\"FastAPI 서버는 {public_url}에서 실행 중입니다.\")\n",
        "\n",
        "# 비동기적으로 FastAPI 서버 실행\n",
        "async def run():\n",
        "    config = uvicorn.Config(app, host=\"0.0.0.0\", port=8800)\n",
        "    server = uvicorn.Server(config)\n",
        "    await server.serve()\n",
        "\n",
        "# asyncio.ensure_future로 서버 실행\n",
        "asyncio.ensure_future(run())\n"
      ],
      "metadata": {
        "colab": {
          "base_uri": "https://localhost:8080/"
        },
        "collapsed": true,
        "id": "tzJKNRyDmnFx",
        "outputId": "235312b2-9b51-4c88-b7fc-1192bd2f1053"
      },
      "execution_count": 5,
      "outputs": [
        {
          "output_type": "stream",
          "name": "stdout",
          "text": [
            "Requirement already satisfied: pyngrok in /usr/local/lib/python3.10/dist-packages (7.2.1)\n",
            "Requirement already satisfied: fastapi in /usr/local/lib/python3.10/dist-packages (0.115.6)\n",
            "Requirement already satisfied: uvicorn in /usr/local/lib/python3.10/dist-packages (0.32.1)\n",
            "Requirement already satisfied: nest_asyncio in /usr/local/lib/python3.10/dist-packages (1.6.0)\n",
            "Requirement already satisfied: PyYAML>=5.1 in /usr/local/lib/python3.10/dist-packages (from pyngrok) (6.0.2)\n",
            "Requirement already satisfied: starlette<0.42.0,>=0.40.0 in /usr/local/lib/python3.10/dist-packages (from fastapi) (0.41.3)\n",
            "Requirement already satisfied: pydantic!=1.8,!=1.8.1,!=2.0.0,!=2.0.1,!=2.1.0,<3.0.0,>=1.7.4 in /usr/local/lib/python3.10/dist-packages (from fastapi) (2.10.3)\n",
            "Requirement already satisfied: typing-extensions>=4.8.0 in /usr/local/lib/python3.10/dist-packages (from fastapi) (4.12.2)\n",
            "Requirement already satisfied: click>=7.0 in /usr/local/lib/python3.10/dist-packages (from uvicorn) (8.1.7)\n",
            "Requirement already satisfied: h11>=0.8 in /usr/local/lib/python3.10/dist-packages (from uvicorn) (0.14.0)\n",
            "Requirement already satisfied: annotated-types>=0.6.0 in /usr/local/lib/python3.10/dist-packages (from pydantic!=1.8,!=1.8.1,!=2.0.0,!=2.0.1,!=2.1.0,<3.0.0,>=1.7.4->fastapi) (0.7.0)\n",
            "Requirement already satisfied: pydantic-core==2.27.1 in /usr/local/lib/python3.10/dist-packages (from pydantic!=1.8,!=1.8.1,!=2.0.0,!=2.0.1,!=2.1.0,<3.0.0,>=1.7.4->fastapi) (2.27.1)\n",
            "Requirement already satisfied: anyio<5,>=3.4.0 in /usr/local/lib/python3.10/dist-packages (from starlette<0.42.0,>=0.40.0->fastapi) (3.7.1)\n",
            "Requirement already satisfied: idna>=2.8 in /usr/local/lib/python3.10/dist-packages (from anyio<5,>=3.4.0->starlette<0.42.0,>=0.40.0->fastapi) (3.10)\n",
            "Requirement already satisfied: sniffio>=1.1 in /usr/local/lib/python3.10/dist-packages (from anyio<5,>=3.4.0->starlette<0.42.0,>=0.40.0->fastapi) (1.3.1)\n",
            "Requirement already satisfied: exceptiongroup in /usr/local/lib/python3.10/dist-packages (from anyio<5,>=3.4.0->starlette<0.42.0,>=0.40.0->fastapi) (1.2.2)\n",
            "FastAPI 서버는 NgrokTunnel: \"https://9e74-34-125-107-166.ngrok-free.app\" -> \"http://localhost:8800\"에서 실행 중입니다.\n"
          ]
        },
        {
          "output_type": "stream",
          "name": "stderr",
          "text": [
            "/usr/local/lib/python3.10/dist-packages/huggingface_hub/utils/_auth.py:94: UserWarning: \n",
            "The secret `HF_TOKEN` does not exist in your Colab secrets.\n",
            "To authenticate with the Hugging Face Hub, create a token in your settings tab (https://huggingface.co/settings/tokens), set it as secret in your Google Colab and restart your session.\n",
            "You will be able to reuse this secret in all of your notebooks.\n",
            "Please note that authentication is recommended but still optional to access public models or datasets.\n",
            "  warnings.warn(\n"
          ]
        },
        {
          "output_type": "stream",
          "name": "stdout",
          "text": [
            "FastAPI 서버는 NgrokTunnel: \"https://4e56-34-125-107-166.ngrok-free.app\" -> \"http://localhost:8800\"에서 실행 중입니다.\n"
          ]
        },
        {
          "output_type": "execute_result",
          "data": {
            "text/plain": [
              "<Task pending name='Task-1' coro=<run() running at <ipython-input-5-e3b42e88192e>:56>>"
            ]
          },
          "metadata": {},
          "execution_count": 5
        },
        {
          "output_type": "stream",
          "name": "stderr",
          "text": [
            "INFO:     Started server process [13784]\n",
            "INFO:     Waiting for application startup.\n",
            "INFO:     Application startup complete.\n",
            "INFO:     Uvicorn running on http://0.0.0.0:8800 (Press CTRL+C to quit)\n"
          ]
        }
      ]
    },
    {
      "cell_type": "code",
      "source": [],
      "metadata": {
        "id": "ZOdN61gilVwT"
      },
      "execution_count": null,
      "outputs": []
    }
  ]
}