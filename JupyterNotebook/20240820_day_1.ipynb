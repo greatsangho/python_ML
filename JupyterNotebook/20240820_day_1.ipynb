{
  "nbformat": 4,
  "nbformat_minor": 0,
  "metadata": {
    "colab": {
      "provenance": [],
      "authorship_tag": "ABX9TyNfb/CIxJaGNHAnPEA8OrE9",
      "include_colab_link": true
    },
    "kernelspec": {
      "name": "python3",
      "display_name": "Python 3"
    },
    "language_info": {
      "name": "python"
    }
  },
  "cells": [
    {
      "cell_type": "markdown",
      "metadata": {
        "id": "view-in-github",
        "colab_type": "text"
      },
      "source": [
        "<a href=\"https://colab.research.google.com/github/greatsangho/python_study/blob/main/20240820_day_1.ipynb\" target=\"_parent\"><img src=\"https://colab.research.google.com/assets/colab-badge.svg\" alt=\"Open In Colab\"/></a>"
      ]
    },
    {
      "cell_type": "code",
      "execution_count": null,
      "metadata": {
        "colab": {
          "base_uri": "https://localhost:8080/"
        },
        "id": "sp2i8O1lJ8U9",
        "outputId": "ad769ff1-26fa-4deb-fc5e-aae7a3e2dcbb"
      },
      "outputs": [
        {
          "output_type": "stream",
          "name": "stdout",
          "text": [
            "2\n",
            "4\n"
          ]
        },
        {
          "output_type": "execute_result",
          "data": {
            "text/plain": [
              "2.0"
            ]
          },
          "metadata": {},
          "execution_count": 7
        }
      ],
      "source": [
        "print(1 + 1)\n",
        "print(2 + 2)\n",
        "# 함수 function, 매개변수 존재\n",
        "# 주석(#)\n",
        "# 덧셈 연산\n",
        "1+1\n",
        "# 나눗셈 연산\n",
        "2/1"
      ]
    },
    {
      "cell_type": "markdown",
      "source": [
        "# 파이썬 기본 사용법 및 기본 문법"
      ],
      "metadata": {
        "id": "g3WehQwONSVr"
      }
    },
    {
      "cell_type": "code",
      "source": [
        "import keyword # 키워드 확인\n",
        "print(keyword.kwlist)"
      ],
      "metadata": {
        "id": "wJHqxDbvLKLK",
        "colab": {
          "base_uri": "https://localhost:8080/"
        },
        "outputId": "ba633699-dcc7-4317-8dce-68db6aeaceaa"
      },
      "execution_count": null,
      "outputs": [
        {
          "output_type": "stream",
          "name": "stdout",
          "text": [
            "['False', 'None', 'True', 'and', 'as', 'assert', 'async', 'await', 'break', 'class', 'continue', 'def', 'del', 'elif', 'else', 'except', 'finally', 'for', 'from', 'global', 'if', 'import', 'in', 'is', 'lambda', 'nonlocal', 'not', 'or', 'pass', 'raise', 'return', 'try', 'while', 'with', 'yield']\n"
          ]
        }
      ]
    },
    {
      "cell_type": "code",
      "source": [
        "keyword.kwlist"
      ],
      "metadata": {
        "colab": {
          "base_uri": "https://localhost:8080/"
        },
        "id": "0E15qbJucnkD",
        "outputId": "2a3d3718-4c10-47a8-c977-8c97fcfffa5b"
      },
      "execution_count": null,
      "outputs": [
        {
          "output_type": "execute_result",
          "data": {
            "text/plain": [
              "['False',\n",
              " 'None',\n",
              " 'True',\n",
              " 'and',\n",
              " 'as',\n",
              " 'assert',\n",
              " 'async',\n",
              " 'await',\n",
              " 'break',\n",
              " 'class',\n",
              " 'continue',\n",
              " 'def',\n",
              " 'del',\n",
              " 'elif',\n",
              " 'else',\n",
              " 'except',\n",
              " 'finally',\n",
              " 'for',\n",
              " 'from',\n",
              " 'global',\n",
              " 'if',\n",
              " 'import',\n",
              " 'in',\n",
              " 'is',\n",
              " 'lambda',\n",
              " 'nonlocal',\n",
              " 'not',\n",
              " 'or',\n",
              " 'pass',\n",
              " 'raise',\n",
              " 'return',\n",
              " 'try',\n",
              " 'while',\n",
              " 'with',\n",
              " 'yield']"
            ]
          },
          "metadata": {},
          "execution_count": 11
        }
      ]
    },
    {
      "cell_type": "code",
      "source": [
        "# 파이썬에서 사용하며 안되는 단어들...\n",
        "# 1. 키워드\n",
        "# 2. 명령어(파이썬에서 사용하는) sum, max, min\n",
        "sum([1,2,3,4,5])"
      ],
      "metadata": {
        "colab": {
          "base_uri": "https://localhost:8080/"
        },
        "id": "Vm5e27FndLL5",
        "outputId": "ac543ba4-b600-4e0f-a58e-45ee3dac5664"
      },
      "execution_count": null,
      "outputs": [
        {
          "output_type": "execute_result",
          "data": {
            "text/plain": [
              "15"
            ]
          },
          "metadata": {},
          "execution_count": 12
        }
      ]
    },
    {
      "cell_type": "code",
      "source": [
        "# sum 이름(변수)에 100을 할당\n",
        "#sum = 100 --> 100 출력 및 나중에 sum 함수 사용 불가능"
      ],
      "metadata": {
        "id": "dNtwiuardjf8"
      },
      "execution_count": null,
      "outputs": []
    },
    {
      "cell_type": "code",
      "source": [
        "max([1,2,3,4,5])"
      ],
      "metadata": {
        "colab": {
          "base_uri": "https://localhost:8080/"
        },
        "id": "8xK4rBNNeiqD",
        "outputId": "db08f6bb-b241-4891-bf1b-eccecfa7c751"
      },
      "execution_count": null,
      "outputs": [
        {
          "output_type": "execute_result",
          "data": {
            "text/plain": [
              "5"
            ]
          },
          "metadata": {},
          "execution_count": 15
        }
      ]
    },
    {
      "cell_type": "code",
      "source": [
        "import numpy as mp\n",
        "mp.mean([1,2,3,4,5])"
      ],
      "metadata": {
        "colab": {
          "base_uri": "https://localhost:8080/"
        },
        "id": "2BNvRARkeoFy",
        "outputId": "ceeb7517-4b44-4cc9-d860-4998f358530e"
      },
      "execution_count": null,
      "outputs": [
        {
          "output_type": "execute_result",
          "data": {
            "text/plain": [
              "3.0"
            ]
          },
          "metadata": {},
          "execution_count": 16
        }
      ]
    },
    {
      "cell_type": "code",
      "source": [
        "# 키워드 중에서 찾고자 하는 단어가 있는지 확인방법\n",
        "keyword.iskeyword('sum')"
      ],
      "metadata": {
        "colab": {
          "base_uri": "https://localhost:8080/"
        },
        "id": "j-TyiaNCesVc",
        "outputId": "1997ec60-65ab-441a-da01-5ab9ca0a8ea7"
      },
      "execution_count": null,
      "outputs": [
        {
          "output_type": "execute_result",
          "data": {
            "text/plain": [
              "False"
            ]
          },
          "metadata": {},
          "execution_count": 17
        }
      ]
    },
    {
      "cell_type": "code",
      "source": [
        "'while' in keyword.kwlist"
      ],
      "metadata": {
        "colab": {
          "base_uri": "https://localhost:8080/"
        },
        "id": "GZ1RVrpdiXWZ",
        "outputId": "26512a7b-d64d-420b-9194-24fae1e0ad34"
      },
      "execution_count": null,
      "outputs": [
        {
          "output_type": "execute_result",
          "data": {
            "text/plain": [
              "True"
            ]
          },
          "metadata": {},
          "execution_count": 19
        }
      ]
    },
    {
      "cell_type": "code",
      "source": [
        "'''\n",
        "동해\n",
        "물과\n",
        "백두산이\n",
        "마르고 닳도록\n",
        "'''"
      ],
      "metadata": {
        "colab": {
          "base_uri": "https://localhost:8080/",
          "height": 35
        },
        "id": "M6Uvfd9Cijgu",
        "outputId": "71d0565b-3940-4333-8b44-a28e44adda97"
      },
      "execution_count": null,
      "outputs": [
        {
          "output_type": "execute_result",
          "data": {
            "text/plain": [
              "'\\n동해\\n물과\\n백두산이\\n마르고 닳도록\\n'"
            ],
            "application/vnd.google.colaboratory.intrinsic+json": {
              "type": "string"
            }
          },
          "metadata": {},
          "execution_count": 22
        }
      ]
    },
    {
      "cell_type": "code",
      "source": [
        "# 사칙연산의 예\n",
        "# 덧셈\n",
        "print(1 + 1)\n",
        "# 뺄셈\n",
        "print(1 - 1)\n",
        "# 곱셈\n",
        "print(1 * 1)\n",
        "# 나눗셈\n",
        "print(1/0)"
      ],
      "metadata": {
        "colab": {
          "base_uri": "https://localhost:8080/",
          "height": 238
        },
        "id": "-hu4tVIPnDoO",
        "outputId": "4aca4984-f35a-4c30-8b24-83ced371da30"
      },
      "execution_count": null,
      "outputs": [
        {
          "output_type": "stream",
          "name": "stdout",
          "text": [
            "2\n",
            "0\n",
            "1\n"
          ]
        },
        {
          "output_type": "error",
          "ename": "ZeroDivisionError",
          "evalue": "division by zero",
          "traceback": [
            "\u001b[0;31m---------------------------------------------------------------------------\u001b[0m",
            "\u001b[0;31mZeroDivisionError\u001b[0m                         Traceback (most recent call last)",
            "\u001b[0;32m<ipython-input-28-9920acc47b1f>\u001b[0m in \u001b[0;36m<cell line: 9>\u001b[0;34m()\u001b[0m\n\u001b[1;32m      7\u001b[0m \u001b[0mprint\u001b[0m\u001b[0;34m(\u001b[0m\u001b[0;36m1\u001b[0m \u001b[0;34m*\u001b[0m \u001b[0;36m1\u001b[0m\u001b[0;34m)\u001b[0m\u001b[0;34m\u001b[0m\u001b[0;34m\u001b[0m\u001b[0m\n\u001b[1;32m      8\u001b[0m \u001b[0;31m# 나눗셈\u001b[0m\u001b[0;34m\u001b[0m\u001b[0;34m\u001b[0m\u001b[0m\n\u001b[0;32m----> 9\u001b[0;31m \u001b[0mprint\u001b[0m\u001b[0;34m(\u001b[0m\u001b[0;36m1\u001b[0m\u001b[0;34m/\u001b[0m\u001b[0;36m0\u001b[0m\u001b[0;34m)\u001b[0m\u001b[0;34m\u001b[0m\u001b[0;34m\u001b[0m\u001b[0m\n\u001b[0m",
            "\u001b[0;31mZeroDivisionError\u001b[0m: division by zero"
          ]
        }
      ]
    },
    {
      "cell_type": "code",
      "source": [
        "hello = '안녕하세요' # 대입 연산자\n",
        "print(hello)"
      ],
      "metadata": {
        "colab": {
          "base_uri": "https://localhost:8080/"
        },
        "id": "KN0d0vNToJde",
        "outputId": "9b993cf6-2d0f-4628-ca28-7864d330d0e7"
      },
      "execution_count": null,
      "outputs": [
        {
          "output_type": "stream",
          "name": "stdout",
          "text": [
            "안녕하세요\n"
          ]
        }
      ]
    },
    {
      "cell_type": "code",
      "source": [
        "hello = 10000\n",
        "print(hello)"
      ],
      "metadata": {
        "colab": {
          "base_uri": "https://localhost:8080/"
        },
        "id": "EyIKM4PCojXJ",
        "outputId": "8ab4839b-5e88-482f-aed2-9b9879add7a7"
      },
      "execution_count": null,
      "outputs": [
        {
          "output_type": "stream",
          "name": "stdout",
          "text": [
            "10000\n"
          ]
        }
      ]
    },
    {
      "cell_type": "code",
      "source": [
        "hello = [1,2,3,4,5]\n",
        "print(hello)"
      ],
      "metadata": {
        "colab": {
          "base_uri": "https://localhost:8080/"
        },
        "id": "uDoTtSwwo4gd",
        "outputId": "1185745e-f927-4412-ccab-0851bfbdf0f9"
      },
      "execution_count": null,
      "outputs": [
        {
          "output_type": "stream",
          "name": "stdout",
          "text": [
            "[1, 2, 3, 4, 5]\n"
          ]
        }
      ]
    },
    {
      "cell_type": "code",
      "source": [
        "사랑 = 'love'\n",
        "print(사랑)"
      ],
      "metadata": {
        "colab": {
          "base_uri": "https://localhost:8080/"
        },
        "id": "yyFvKCQ4pFMr",
        "outputId": "07a57bbc-ee95-4dc0-df33-d776aff6a07b"
      },
      "execution_count": null,
      "outputs": [
        {
          "output_type": "stream",
          "name": "stdout",
          "text": [
            "love\n"
          ]
        }
      ]
    },
    {
      "cell_type": "code",
      "source": [
        "print()"
      ],
      "metadata": {
        "colab": {
          "base_uri": "https://localhost:8080/"
        },
        "id": "_iRQxj3ipTnK",
        "outputId": "276a96e2-bb96-4e4f-e33d-8f60492a5b4f"
      },
      "execution_count": null,
      "outputs": [
        {
          "output_type": "stream",
          "name": "stdout",
          "text": [
            "\n"
          ]
        }
      ]
    },
    {
      "cell_type": "code",
      "source": [
        "print(type(\"안녕하세요\"))\n",
        "print(type(273))"
      ],
      "metadata": {
        "colab": {
          "base_uri": "https://localhost:8080/"
        },
        "id": "-gck9Fzoq8Kt",
        "outputId": "49cf1c6c-189b-4d26-c3ba-66011102295b"
      },
      "execution_count": null,
      "outputs": [
        {
          "output_type": "stream",
          "name": "stdout",
          "text": [
            "<class 'str'>\n",
            "<class 'int'>\n"
          ]
        }
      ]
    },
    {
      "cell_type": "markdown",
      "source": [
        "타입\n",
        " - type() 함수를 이용해서 변수(식별자)의 데이터의 타입을 확인한다"
      ],
      "metadata": {
        "id": "RAX_8Bx-vFCl"
      }
    },
    {
      "cell_type": "code",
      "source": [
        "type('Hello'), type(100), type(10.5), type(True),type([1,2,3,4,5]), type((1,2,3,4,5)), type({1,2,3,4,5}), type({'a':100})"
      ],
      "metadata": {
        "id": "kn1huJYAsZla",
        "colab": {
          "base_uri": "https://localhost:8080/"
        },
        "outputId": "51a06979-bee0-407f-f73a-6ec9fce39a95"
      },
      "execution_count": null,
      "outputs": [
        {
          "output_type": "execute_result",
          "data": {
            "text/plain": [
              "(str, int, float, bool, list, tuple, set, dict)"
            ]
          },
          "metadata": {},
          "execution_count": 35
        }
      ]
    },
    {
      "cell_type": "code",
      "source": [
        "data1 = 'Hello'\n",
        "print(type(data1))\n",
        "data1 = 100\n",
        "print(type(data1))\n",
        "data1 = 10.5\n",
        "print(type(data1))\n",
        "data1 = True\n",
        "print(type(data1))\n",
        "data1 = [1,2,3,4,5]\n",
        "print(type(data1))"
      ],
      "metadata": {
        "colab": {
          "base_uri": "https://localhost:8080/"
        },
        "id": "0UKp8ty5vvml",
        "outputId": "74533045-2de4-4997-82f2-a0c094e9aaff"
      },
      "execution_count": null,
      "outputs": [
        {
          "output_type": "stream",
          "name": "stdout",
          "text": [
            "<class 'str'>\n",
            "<class 'int'>\n",
            "<class 'float'>\n",
            "<class 'bool'>\n",
            "<class 'list'>\n"
          ]
        }
      ]
    },
    {
      "cell_type": "code",
      "source": [
        "song = '동해물과\\n백두산이\\n마르고 닳도록'\n",
        "print(song)"
      ],
      "metadata": {
        "colab": {
          "base_uri": "https://localhost:8080/"
        },
        "id": "m2LaJeDpwBV1",
        "outputId": "1f54464a-be5b-4df5-c0c4-5f5ef08f7083"
      },
      "execution_count": null,
      "outputs": [
        {
          "output_type": "stream",
          "name": "stdout",
          "text": [
            "동해물과\n",
            "백두산이\n",
            "마르고 닳도록\n"
          ]
        }
      ]
    },
    {
      "cell_type": "code",
      "source": [
        "song = '''동해물과\n",
        "백두산이\n",
        "마르고 닳도록'''\n",
        "print(song)"
      ],
      "metadata": {
        "colab": {
          "base_uri": "https://localhost:8080/"
        },
        "id": "s7NlsYIzxy0u",
        "outputId": "f338c19f-e42e-4297-97c1-4c70a9d47f78"
      },
      "execution_count": null,
      "outputs": [
        {
          "output_type": "stream",
          "name": "stdout",
          "text": [
            "동해물과\n",
            "백두산이\n",
            "마르고 닳도록\n"
          ]
        }
      ]
    },
    {
      "cell_type": "code",
      "source": [
        "song = \"동해물과\\n\" \\\n",
        "        \"백두산이\\n\" \\\n",
        "        \"마르고 닳도록\"\n",
        "print(song)"
      ],
      "metadata": {
        "colab": {
          "base_uri": "https://localhost:8080/"
        },
        "id": "LuwMPwpYx00B",
        "outputId": "3b87e894-3c47-4f82-9f84-547928e868ce"
      },
      "execution_count": null,
      "outputs": [
        {
          "output_type": "stream",
          "name": "stdout",
          "text": [
            "동해물과\n",
            "백두산이\n",
            "마르고 닳도록\n"
          ]
        }
      ]
    },
    {
      "cell_type": "code",
      "source": [
        "temp = 100\n",
        "print(temp, temp + 1, temp + 2, temp + 3, \\\n",
        "      temp, temp + 1, temp + 2, temp + 3)"
      ],
      "metadata": {
        "colab": {
          "base_uri": "https://localhost:8080/"
        },
        "id": "23wTLMT0yYyI",
        "outputId": "2e624b9d-55ff-46d2-f052-795f758ae0de"
      },
      "execution_count": null,
      "outputs": [
        {
          "output_type": "stream",
          "name": "stdout",
          "text": [
            "100 101 102 103 100 101 102 103\n"
          ]
        }
      ]
    },
    {
      "cell_type": "code",
      "source": [
        "print(\"안녕\"+\"하세요\")\n",
        "print(\"안녕하세요\"*3)"
      ],
      "metadata": {
        "colab": {
          "base_uri": "https://localhost:8080/"
        },
        "id": "6sDhQTKny0h8",
        "outputId": "c82d06d5-5ddd-4290-ffcc-470193a7e25a"
      },
      "execution_count": null,
      "outputs": [
        {
          "output_type": "stream",
          "name": "stdout",
          "text": [
            "안녕하세요\n",
            "안녕하세요안녕하세요안녕하세요\n"
          ]
        }
      ]
    },
    {
      "cell_type": "code",
      "source": [
        "print(\"안녕하세요\"[1:4])"
      ],
      "metadata": {
        "colab": {
          "base_uri": "https://localhost:8080/"
        },
        "id": "QvTnmhUq0y8H",
        "outputId": "bc751592-2e33-4fa6-a354-c10f46cf5125"
      },
      "execution_count": null,
      "outputs": [
        {
          "output_type": "stream",
          "name": "stdout",
          "text": [
            "녕하세\n"
          ]
        }
      ]
    },
    {
      "cell_type": "markdown",
      "source": [
        "copy"
      ],
      "metadata": {
        "id": "WCst2Gvq4d2r"
      }
    },
    {
      "cell_type": "code",
      "source": [
        "a = 10\n",
        "b = a\n",
        "print(a, b)\n",
        "b = 20\n",
        "print(a, b)"
      ],
      "metadata": {
        "colab": {
          "base_uri": "https://localhost:8080/"
        },
        "id": "NGZ6yWhW3AEb",
        "outputId": "f6c07f93-006b-4980-d22d-bebf03d2beb2"
      },
      "execution_count": null,
      "outputs": [
        {
          "output_type": "stream",
          "name": "stdout",
          "text": [
            "10 10\n",
            "10 20\n"
          ]
        }
      ]
    },
    {
      "cell_type": "code",
      "source": [
        "a = [1,2,3,4,5]\n",
        "b = a\n",
        "print(a, b)\n",
        "b[0] = 10\n",
        "print(b)\n",
        "print(a)\n",
        "# 같은 주소를 참조"
      ],
      "metadata": {
        "colab": {
          "base_uri": "https://localhost:8080/"
        },
        "id": "WWSiW6ax4kIR",
        "outputId": "eadb5e19-1608-4143-a579-8382c8011c79"
      },
      "execution_count": null,
      "outputs": [
        {
          "output_type": "stream",
          "name": "stdout",
          "text": [
            "[1, 2, 3, 4, 5] [1, 2, 3, 4, 5]\n",
            "[10, 2, 3, 4, 5]\n",
            "[10, 2, 3, 4, 5]\n"
          ]
        }
      ]
    },
    {
      "cell_type": "code",
      "source": [
        "a = [1,2,3,4,5]\n",
        "b = a[:]\n",
        "print(a, b)\n",
        "b[0] = 10\n",
        "print(b)\n",
        "print(a)"
      ],
      "metadata": {
        "colab": {
          "base_uri": "https://localhost:8080/"
        },
        "id": "-md4EqsC413d",
        "outputId": "bf7bf337-2fd4-42fc-acb2-7d38c4cb33ea"
      },
      "execution_count": null,
      "outputs": [
        {
          "output_type": "stream",
          "name": "stdout",
          "text": [
            "[1, 2, 3, 4, 5] [1, 2, 3, 4, 5]\n",
            "[10, 2, 3, 4, 5]\n",
            "[1, 2, 3, 4, 5]\n"
          ]
        }
      ]
    },
    {
      "cell_type": "markdown",
      "source": [
        "- 얕은 복사\n",
        "    - 데이터는 같지만 두 변수가 모두 같은 주소(참조)를 가지는 형태\n",
        "- 깊은 복사\n",
        "    - 두 변수가 데이터의 값은 같지만 서로 다른 주소(참조) 가지는 형태"
      ],
      "metadata": {
        "id": "XXTSkSg8LEWA"
      }
    },
    {
      "cell_type": "code",
      "source": [
        "a=1\n",
        "b=a\n",
        "b=2\n",
        "print(a, b)"
      ],
      "metadata": {
        "colab": {
          "base_uri": "https://localhost:8080/"
        },
        "id": "d55pi9lpLDuO",
        "outputId": "1375c3ea-4392-4592-93f4-90f2ac5a4732"
      },
      "execution_count": 55,
      "outputs": [
        {
          "output_type": "stream",
          "name": "stdout",
          "text": [
            "1 2\n"
          ]
        }
      ]
    },
    {
      "cell_type": "code",
      "source": [
        "name = '안녕하세요' # index의 범위는 0~4\n",
        "# print(name[startindex : endindex : step]) # 인덱싱\n",
        "\n",
        "print(name[4])\n",
        "# 문자열의 길이\n",
        "print(len(name))\n",
        "# 마지막 인덱스의 값\n",
        "print(name[-1])\n",
        "# 슬라이싱 거꾸로\n",
        "print(name[:-1])\n",
        "# 두개씩 건너뛰기\n",
        "print(name[::2])\n",
        "# 거꾸로 출력하기\n",
        "print(name[::-1])   # 정렬할 때"
      ],
      "metadata": {
        "id": "IkC3n0AP5iUE",
        "colab": {
          "base_uri": "https://localhost:8080/"
        },
        "outputId": "ce57e5c6-8d84-44c3-866a-8c1ccf2f8661"
      },
      "execution_count": 68,
      "outputs": [
        {
          "output_type": "stream",
          "name": "stdout",
          "text": [
            "요\n",
            "5\n",
            "요\n",
            "안녕하세\n",
            "안하요\n",
            "요세하녕안\n"
          ]
        }
      ]
    },
    {
      "cell_type": "markdown",
      "source": [
        "슬라이싱을 많이 사용하는 경우"
      ],
      "metadata": {
        "id": "X2en6Ts7NlV6"
      }
    },
    {
      "cell_type": "code",
      "source": [
        "import numpy as np\n",
        "sample = np.random.randint(1, 100, 20)   # 1부터 100 중 20개 무작위 추출\n",
        "# sample의 마지막 데이터가 정답이고 나머지는 x로 분리할 때\n",
        "x = sample[:-1]\n",
        "y = sample[-1]\n",
        "print(x, y)\n",
        "# sample 데이터의 개수(크기)\n",
        "print(len(sample))"
      ],
      "metadata": {
        "colab": {
          "base_uri": "https://localhost:8080/"
        },
        "id": "ltkuZ_ygMKix",
        "outputId": "ac409ccb-eb3a-4656-973d-d023ccf0a66d"
      },
      "execution_count": 73,
      "outputs": [
        {
          "output_type": "stream",
          "name": "stdout",
          "text": [
            "[53 62 23 92 42 19 41 10 16 57 81 65  7 59 34 41 69 10 78] 76\n",
            "20\n"
          ]
        }
      ]
    },
    {
      "cell_type": "code",
      "source": [
        "2**4"
      ],
      "metadata": {
        "colab": {
          "base_uri": "https://localhost:8080/"
        },
        "id": "4FigK9joN8sh",
        "outputId": "056c766b-871a-414b-e094-5fffe3519b25"
      },
      "execution_count": 75,
      "outputs": [
        {
          "output_type": "execute_result",
          "data": {
            "text/plain": [
              "16"
            ]
          },
          "metadata": {},
          "execution_count": 75
        }
      ]
    },
    {
      "cell_type": "code",
      "source": [
        "2^4\n",
        "# XOR 0010 0100 0110 --> 6\n",
        "# 수학식에서는 제곱승이지만 파이썬에서는 xor 연산자 --> 임베디드에서 사용"
      ],
      "metadata": {
        "colab": {
          "base_uri": "https://localhost:8080/"
        },
        "id": "Q8oU9_zSSVzU",
        "outputId": "46e92709-eea0-47a7-d042-c1eea727d44d"
      },
      "execution_count": 77,
      "outputs": [
        {
          "output_type": "execute_result",
          "data": {
            "text/plain": [
              "6"
            ]
          },
          "metadata": {},
          "execution_count": 77
        }
      ]
    },
    {
      "cell_type": "markdown",
      "source": [
        "문자열의 연산"
      ],
      "metadata": {
        "id": "P-uRstRmZahO"
      }
    },
    {
      "cell_type": "code",
      "source": [
        "pi = 3.141592\n",
        "print(pi)\n",
        "str(pi) + \"원주율\""
      ],
      "metadata": {
        "colab": {
          "base_uri": "https://localhost:8080/",
          "height": 54
        },
        "id": "hcX4-I2fTKz4",
        "outputId": "5c901398-3696-4b33-d66e-39dccd999231"
      },
      "execution_count": 79,
      "outputs": [
        {
          "output_type": "stream",
          "name": "stdout",
          "text": [
            "3.141592\n"
          ]
        },
        {
          "output_type": "execute_result",
          "data": {
            "text/plain": [
              "'3.141592원주율'"
            ],
            "application/vnd.google.colaboratory.intrinsic+json": {
              "type": "string"
            }
          },
          "metadata": {},
          "execution_count": 79
        }
      ]
    },
    {
      "cell_type": "code",
      "source": [
        "num = input('숫자를 입력하세요')\n",
        "num2 = input('더하고 싶은 숫자를 입력하세요')\n",
        "print(int(num) + int(num2))"
      ],
      "metadata": {
        "colab": {
          "base_uri": "https://localhost:8080/"
        },
        "id": "DHwlZCAbZift",
        "outputId": "62cf34bb-386d-4d2f-d210-609fa897ed50"
      },
      "execution_count": 83,
      "outputs": [
        {
          "output_type": "stream",
          "name": "stdout",
          "text": [
            "숫자를 입력하세요1\n",
            "더하고 싶은 숫자를 입력하세요2\n",
            "3\n"
          ]
        }
      ]
    },
    {
      "cell_type": "code",
      "source": [
        "num = input()\n",
        "type(num)"
      ],
      "metadata": {
        "colab": {
          "base_uri": "https://localhost:8080/"
        },
        "id": "irPHjfutZ74V",
        "outputId": "7350c255-0b4c-48a9-d197-076f4a2cf36d"
      },
      "execution_count": 85,
      "outputs": [
        {
          "name": "stdout",
          "output_type": "stream",
          "text": [
            "10\n"
          ]
        },
        {
          "output_type": "execute_result",
          "data": {
            "text/plain": [
              "str"
            ]
          },
          "metadata": {},
          "execution_count": 85
        }
      ]
    },
    {
      "cell_type": "code",
      "source": [
        "print(int(\"52.3\"))"
      ],
      "metadata": {
        "colab": {
          "base_uri": "https://localhost:8080/",
          "height": 147
        },
        "id": "YBFochFbcBfy",
        "outputId": "04888f1a-42c5-4c45-fa61-7e8acb28c5d1"
      },
      "execution_count": 92,
      "outputs": [
        {
          "output_type": "error",
          "ename": "ValueError",
          "evalue": "invalid literal for int() with base 10: '52.3'",
          "traceback": [
            "\u001b[0;31m---------------------------------------------------------------------------\u001b[0m",
            "\u001b[0;31mValueError\u001b[0m                                Traceback (most recent call last)",
            "\u001b[0;32m<ipython-input-92-7b554d9c9550>\u001b[0m in \u001b[0;36m<cell line: 1>\u001b[0;34m()\u001b[0m\n\u001b[0;32m----> 1\u001b[0;31m \u001b[0mprint\u001b[0m\u001b[0;34m(\u001b[0m\u001b[0mint\u001b[0m\u001b[0;34m(\u001b[0m\u001b[0;34m\"52.3\"\u001b[0m\u001b[0;34m)\u001b[0m\u001b[0;34m)\u001b[0m\u001b[0;34m\u001b[0m\u001b[0;34m\u001b[0m\u001b[0m\n\u001b[0m",
            "\u001b[0;31mValueError\u001b[0m: invalid literal for int() with base 10: '52.3'"
          ]
        }
      ]
    },
    {
      "cell_type": "code",
      "source": [
        "print(float(\"52\"))"
      ],
      "metadata": {
        "colab": {
          "base_uri": "https://localhost:8080/"
        },
        "id": "9Cc20R_RcuHN",
        "outputId": "769cceaf-76d6-4843-adae-8d2774aa6a51"
      },
      "execution_count": 93,
      "outputs": [
        {
          "output_type": "stream",
          "name": "stdout",
          "text": [
            "52.0\n"
          ]
        }
      ]
    },
    {
      "cell_type": "code",
      "source": [
        "bool(1)"
      ],
      "metadata": {
        "colab": {
          "base_uri": "https://localhost:8080/"
        },
        "id": "JSUlRxEwdTRq",
        "outputId": "659b6588-b20a-4b7c-e054-cba9cded58b0"
      },
      "execution_count": 94,
      "outputs": [
        {
          "output_type": "execute_result",
          "data": {
            "text/plain": [
              "True"
            ]
          },
          "metadata": {},
          "execution_count": 94
        }
      ]
    },
    {
      "cell_type": "code",
      "source": [
        "bool(100)"
      ],
      "metadata": {
        "colab": {
          "base_uri": "https://localhost:8080/"
        },
        "id": "WCNro8YKdyM2",
        "outputId": "dfa568fe-c5b5-4cd4-c2d1-d73b67ecce81"
      },
      "execution_count": 95,
      "outputs": [
        {
          "output_type": "execute_result",
          "data": {
            "text/plain": [
              "True"
            ]
          },
          "metadata": {},
          "execution_count": 95
        }
      ]
    },
    {
      "cell_type": "code",
      "source": [
        "bool(-1)"
      ],
      "metadata": {
        "colab": {
          "base_uri": "https://localhost:8080/"
        },
        "id": "gX9MLRFhdzTP",
        "outputId": "0843e703-37f3-495f-e17d-a7646b129455"
      },
      "execution_count": 98,
      "outputs": [
        {
          "output_type": "execute_result",
          "data": {
            "text/plain": [
              "True"
            ]
          },
          "metadata": {},
          "execution_count": 98
        }
      ]
    },
    {
      "cell_type": "code",
      "source": [
        "bool(0)"
      ],
      "metadata": {
        "colab": {
          "base_uri": "https://localhost:8080/"
        },
        "id": "5MMgI99bd0mg",
        "outputId": "1f337b3f-d93e-4ba7-cd7f-b10a2e62c758"
      },
      "execution_count": 99,
      "outputs": [
        {
          "output_type": "execute_result",
          "data": {
            "text/plain": [
              "False"
            ]
          },
          "metadata": {},
          "execution_count": 99
        }
      ]
    },
    {
      "cell_type": "code",
      "source": [
        "bool(1.2)"
      ],
      "metadata": {
        "colab": {
          "base_uri": "https://localhost:8080/"
        },
        "id": "8PLouk2bd6Ou",
        "outputId": "1d491595-c219-4b2e-a8a8-dffba18b3e8a"
      },
      "execution_count": 100,
      "outputs": [
        {
          "output_type": "execute_result",
          "data": {
            "text/plain": [
              "True"
            ]
          },
          "metadata": {},
          "execution_count": 100
        }
      ]
    },
    {
      "cell_type": "code",
      "source": [
        "bool(\"asdfasd\")"
      ],
      "metadata": {
        "colab": {
          "base_uri": "https://localhost:8080/"
        },
        "id": "XJD8uOP1d73X",
        "outputId": "9fe5d036-1503-4fb6-ec31-83d7407cd3ee"
      },
      "execution_count": 101,
      "outputs": [
        {
          "output_type": "execute_result",
          "data": {
            "text/plain": [
              "True"
            ]
          },
          "metadata": {},
          "execution_count": 101
        }
      ]
    },
    {
      "cell_type": "code",
      "source": [
        "num = 0\n",
        "num+=1\n",
        "num+=1\n",
        "num+=1\n",
        "num+=1\n",
        "num+=1"
      ],
      "metadata": {
        "id": "d1w6RyL0eHNp"
      },
      "execution_count": 104,
      "outputs": []
    },
    {
      "cell_type": "code",
      "source": [
        "num"
      ],
      "metadata": {
        "colab": {
          "base_uri": "https://localhost:8080/"
        },
        "id": "VYsim7HGevL1",
        "outputId": "9254c27e-89e3-424b-949b-f1927c0103fb"
      },
      "execution_count": 105,
      "outputs": [
        {
          "output_type": "execute_result",
          "data": {
            "text/plain": [
              "5"
            ]
          },
          "metadata": {},
          "execution_count": 105
        }
      ]
    },
    {
      "cell_type": "code",
      "source": [
        "# 키를 입력 받아서 cm 단위로\n",
        "# m 단위로 환산해서 출력\n",
        "# 1cm = 0.01m\n",
        "# input을 통해 입력한 값은 문자열이기 때문에, 적절한 변환을 거쳐서\n",
        "# 미터 단위로 출력한다.\n",
        "cm = input('키를 cm 단위로 입력하세요> ')\n",
        "h = float(cm)*0.01\n",
        "print('입력한 키는 m 단위로 환산 했을 때:',h, 'm', sep=\"\\t\")"
      ],
      "metadata": {
        "colab": {
          "base_uri": "https://localhost:8080/"
        },
        "id": "wolMffDHevif",
        "outputId": "f61cbf82-d552-4dd2-a234-6b4aef1dae53"
      },
      "execution_count": 111,
      "outputs": [
        {
          "output_type": "stream",
          "name": "stdout",
          "text": [
            "키를 cm 단위로 입력하세요> 185\n",
            "입력한 키는 m 단위로 환산 했을 때:\t1.85\tm\n"
          ]
        }
      ]
    },
    {
      "cell_type": "code",
      "source": [
        "str_input = input('원의 반지름 입력')\n",
        "num_input = float(str_input)\n",
        "print()\n",
        "print('반지름:', num_input)\n",
        "print('둘레:', 2*3.14*num_input)\n",
        "print('넓이:', 3.14*num_input**2)"
      ],
      "metadata": {
        "colab": {
          "base_uri": "https://localhost:8080/"
        },
        "id": "fWf84KJ6fuwl",
        "outputId": "6adc92b9-4d81-4c36-cce7-ce511ea2e7b2"
      },
      "execution_count": 114,
      "outputs": [
        {
          "output_type": "stream",
          "name": "stdout",
          "text": [
            "원의 반지름 입력3\n",
            "\n",
            "반지름: 3.0\n",
            "둘레: 18.84\n",
            "넓이: 28.26\n"
          ]
        }
      ]
    },
    {
      "cell_type": "code",
      "source": [
        "# 문자열로 표현하기\n",
        "num = 125\n",
        "print(\"num의 값은:\", num)"
      ],
      "metadata": {
        "colab": {
          "base_uri": "https://localhost:8080/"
        },
        "id": "rw-Pa_4khUJc",
        "outputId": "1f434406-2376-472e-ae73-2d5bba8ccecf"
      },
      "execution_count": 115,
      "outputs": [
        {
          "output_type": "stream",
          "name": "stdout",
          "text": [
            "num의 값은: 125\n"
          ]
        }
      ]
    },
    {
      "cell_type": "code",
      "source": [
        "print(f\"num의 값은: {num}\")"
      ],
      "metadata": {
        "colab": {
          "base_uri": "https://localhost:8080/"
        },
        "id": "rCbO4ZGCiHFx",
        "outputId": "4bcc8559-744a-4c96-dc75-909336f90efc"
      },
      "execution_count": 116,
      "outputs": [
        {
          "output_type": "stream",
          "name": "stdout",
          "text": [
            "num의 값은: 125\n"
          ]
        }
      ]
    },
    {
      "cell_type": "code",
      "source": [
        "print(\"num의 값은: {}\".format(num)) # 옛날방식임"
      ],
      "metadata": {
        "colab": {
          "base_uri": "https://localhost:8080/"
        },
        "id": "v4FLvFHJiQuE",
        "outputId": "47fa5573-501b-481a-fac1-f8171e9c26b3"
      },
      "execution_count": 117,
      "outputs": [
        {
          "output_type": "stream",
          "name": "stdout",
          "text": [
            "num의 값은: 125\n"
          ]
        }
      ]
    },
    {
      "cell_type": "code",
      "source": [
        "# 안녕하세요 200동 200호 세대주 홍길동님 관리비는 120000 입니다.\n",
        "dong = 200\n",
        "ho = 200\n",
        "name = '홍길동'\n",
        "money = 120000\n",
        "print(f\"안녕하세요 {dong}동 {ho}호 세대주 {name}님 관리비는 {money} 입니다.\")"
      ],
      "metadata": {
        "colab": {
          "base_uri": "https://localhost:8080/"
        },
        "id": "sAenzf3jiYiG",
        "outputId": "0f468413-dfda-4f4d-c15c-0b9a063cfbac"
      },
      "execution_count": 118,
      "outputs": [
        {
          "output_type": "stream",
          "name": "stdout",
          "text": [
            "안녕하세요 200동 200호 세대주 홍길동님 관리비는 120000 입니다.\n"
          ]
        }
      ]
    },
    {
      "cell_type": "code",
      "source": [
        "year_preice = 5000\n",
        "format_a = f\"{year_preice}만 원\"\n",
        "format_b = f\"파이썬 열공하여 첫 연봉 {year_preice}만 원 만들기\"\n",
        "print(format_a)\n",
        "print(format_b)"
      ],
      "metadata": {
        "colab": {
          "base_uri": "https://localhost:8080/"
        },
        "id": "BqpLZLJ5jHq7",
        "outputId": "af6ae36a-1cb1-405e-b51f-3ca3021e263b"
      },
      "execution_count": 121,
      "outputs": [
        {
          "output_type": "stream",
          "name": "stdout",
          "text": [
            "5000만 원\n",
            "파이썬 열공하여 첫 연봉 5000만 원 만들기\n"
          ]
        }
      ]
    },
    {
      "cell_type": "code",
      "source": [
        "str_num = \" 1256\"\n",
        "str_num_strip = str_num.strip()\n",
        "int_num = int(str_num_strip)\n",
        "print(int_num)"
      ],
      "metadata": {
        "colab": {
          "base_uri": "https://localhost:8080/"
        },
        "id": "9hvD3JLcpDXi",
        "outputId": "6b2ec34f-22d5-4629-f6e7-7a098ee39ff6"
      },
      "execution_count": 122,
      "outputs": [
        {
          "output_type": "stream",
          "name": "stdout",
          "text": [
            "1256\n"
          ]
        }
      ]
    },
    {
      "cell_type": "code",
      "source": [
        "print(int(\" 1256\".strip())) # 익숙해지면 이렇게"
      ],
      "metadata": {
        "colab": {
          "base_uri": "https://localhost:8080/"
        },
        "id": "Pqez1Xa3qQMo",
        "outputId": "2647f0b4-d672-4817-f25d-0a82744adea0"
      },
      "execution_count": 125,
      "outputs": [
        {
          "output_type": "stream",
          "name": "stdout",
          "text": [
            "1256\n"
          ]
        }
      ]
    },
    {
      "cell_type": "code",
      "source": [
        "\"안녕하세요\".find(\"해\") # index 위치를 찾지 못했을 때"
      ],
      "metadata": {
        "colab": {
          "base_uri": "https://localhost:8080/"
        },
        "id": "A-5uN24qqWIS",
        "outputId": "dbe3a6d2-19f0-4b7c-9c18-fffd8367797e"
      },
      "execution_count": 128,
      "outputs": [
        {
          "output_type": "execute_result",
          "data": {
            "text/plain": [
              "-1"
            ]
          },
          "metadata": {},
          "execution_count": 128
        }
      ]
    },
    {
      "cell_type": "code",
      "source": [
        "\"안녕안녕하세요\".find(\"안\")"
      ],
      "metadata": {
        "colab": {
          "base_uri": "https://localhost:8080/"
        },
        "id": "TzQ3HRATqx71",
        "outputId": "a5a32932-5670-4caa-ffe7-c0d868d9774f"
      },
      "execution_count": 129,
      "outputs": [
        {
          "output_type": "execute_result",
          "data": {
            "text/plain": [
              "0"
            ]
          },
          "metadata": {},
          "execution_count": 129
        }
      ]
    },
    {
      "cell_type": "code",
      "source": [
        "\"안녕안녕하세요\".rfind(\"안\")"
      ],
      "metadata": {
        "colab": {
          "base_uri": "https://localhost:8080/"
        },
        "id": "3JhbaPIqs3tl",
        "outputId": "9ec491a2-5d03-4047-dfd8-763328bf73c0"
      },
      "execution_count": 130,
      "outputs": [
        {
          "output_type": "execute_result",
          "data": {
            "text/plain": [
              "2"
            ]
          },
          "metadata": {},
          "execution_count": 130
        }
      ]
    },
    {
      "cell_type": "code",
      "source": [
        "bye = \"안녕 반가워요. 안녕 잘가요.\"\n",
        "# 안녕을 다 찾으려면\n",
        "bye.find(\"안녕\")"
      ],
      "metadata": {
        "colab": {
          "base_uri": "https://localhost:8080/"
        },
        "id": "nZq-iE2Vs5Bh",
        "outputId": "63e85654-1b8d-44f8-e926-faea0a603748"
      },
      "execution_count": 131,
      "outputs": [
        {
          "output_type": "execute_result",
          "data": {
            "text/plain": [
              "0"
            ]
          },
          "metadata": {},
          "execution_count": 131
        }
      ]
    },
    {
      "cell_type": "code",
      "source": [
        "a = \"10 20 30 40 50\".split() # \" \"이 기본값\n",
        "print(a)"
      ],
      "metadata": {
        "colab": {
          "base_uri": "https://localhost:8080/"
        },
        "id": "Q-EHoCf4uS6w",
        "outputId": "868fdd33-41af-4b3b-8bcf-8ae230a43ec8"
      },
      "execution_count": 132,
      "outputs": [
        {
          "output_type": "stream",
          "name": "stdout",
          "text": [
            "['10', '20', '30', '40', '50']\n"
          ]
        }
      ]
    },
    {
      "cell_type": "code",
      "source": [
        "\"동해물과,백두산이,마르고\".split(\",\")"
      ],
      "metadata": {
        "colab": {
          "base_uri": "https://localhost:8080/"
        },
        "id": "0h5LPQPbu83Y",
        "outputId": "fdc7397f-42f8-441e-9672-5fbf3bd63eb3"
      },
      "execution_count": 133,
      "outputs": [
        {
          "output_type": "execute_result",
          "data": {
            "text/plain": [
              "['동해물과', '백두산이', '마르고']"
            ]
          },
          "metadata": {},
          "execution_count": 133
        }
      ]
    },
    {
      "cell_type": "code",
      "source": [
        "numbers = input(\"숫자를 공백을 기준으로 입력하세요\").split()\n",
        "numbers"
      ],
      "metadata": {
        "colab": {
          "base_uri": "https://localhost:8080/"
        },
        "id": "dIIobF7BvQTo",
        "outputId": "a575edd5-3e9c-4a37-85c6-3c8490e142eb"
      },
      "execution_count": 134,
      "outputs": [
        {
          "name": "stdout",
          "output_type": "stream",
          "text": [
            "숫자를 공백을 기준으로 입력하세요10 20 30 40 50\n"
          ]
        },
        {
          "output_type": "execute_result",
          "data": {
            "text/plain": [
              "['10', '20', '30', '40', '50']"
            ]
          },
          "metadata": {},
          "execution_count": 134
        }
      ]
    },
    {
      "cell_type": "code",
      "source": [
        "news = '''\n",
        "제9호 태풍 ‘종다리’가 북상함에 따라 제주지역 모든 해안가에 대피령이 내려졌다.\n",
        "\n",
        "제주특별자치도는 20일 오전 11시부터 도내 전 해안가에 대피 명령을 발령했다.\n",
        "\n",
        "대피 명령에 따라 갯바위와 방파제, 어항시설, 연안 절벽 등 도내 해안가 전역에 주민, 관광객, 낚시객, 연안체험 활동객 등의 접근이 전면 금지됐다.\n",
        "'''\n",
        "news.strip().split(\"\\n\")[0].split()"
      ],
      "metadata": {
        "colab": {
          "base_uri": "https://localhost:8080/"
        },
        "id": "vSJTF4fUvkcG",
        "outputId": "caa8a04f-bf2a-4f8e-a123-83432dd7dc0d"
      },
      "execution_count": 141,
      "outputs": [
        {
          "output_type": "execute_result",
          "data": {
            "text/plain": [
              "['제9호', '태풍', '‘종다리’가', '북상함에', '따라', '제주지역', '모든', '해안가에', '대피령이', '내려졌다.']"
            ]
          },
          "metadata": {},
          "execution_count": 141
        }
      ]
    },
    {
      "cell_type": "code",
      "source": [
        "print(\"안녕\" in \"안녕하세요\")\n",
        "print(\"잘가\" in \"안녕하세요\")"
      ],
      "metadata": {
        "colab": {
          "base_uri": "https://localhost:8080/"
        },
        "id": "BtnekpENwBFv",
        "outputId": "2647b301-4ccc-44bb-d98e-d9590558f168"
      },
      "execution_count": 142,
      "outputs": [
        {
          "output_type": "stream",
          "name": "stdout",
          "text": [
            "True\n",
            "False\n"
          ]
        }
      ]
    },
    {
      "cell_type": "code",
      "source": [
        "'바다' in news"
      ],
      "metadata": {
        "colab": {
          "base_uri": "https://localhost:8080/"
        },
        "id": "cUbG9D4ywnFw",
        "outputId": "22fed3c2-0ea7-4277-9675-3ad20a86e0cf"
      },
      "execution_count": 144,
      "outputs": [
        {
          "output_type": "execute_result",
          "data": {
            "text/plain": [
              "False"
            ]
          },
          "metadata": {},
          "execution_count": 144
        }
      ]
    },
    {
      "cell_type": "markdown",
      "source": [
        "확인문제\n",
        "\n",
        "\n",
        "1. 숫자 연산 기초\n",
        "문제: 두 개의 숫자를 입력받아, 이들의 합과 차, 곱, 몫, 나머지를 출력하는 프로그램을 작성하세요.\n",
        "\n",
        "2. 문자열 다루기\n",
        "문제: 사용자로부터 이름과 나이를 입력받아, \"안녕하세요, [이름]님! 당신은 [나이]살입니다.\"라는 문장을 출력하는 프로그램을 작성하세요.\n",
        "\n",
        "3. 문자열 길이 구하기\n",
        "문제: 사용자로부터 문자열을 입력받아, 그 문자열의 길이를 출력하는 프로그램을 작성하세요.\n",
        "\n",
        "4. 숫자와 문자열 변환\n",
        "문제: 사용자로부터 숫자를 입력받아, 그 숫자를 문자열로 변환한 후, 문자열의 길이를 출력하는 프로그램을 작성하세요.\n",
        "\n",
        "5. 문자열 슬라이싱\n",
        "문제: 사용자로부터 문자열을 입력받아, 문자열의 첫 번째 글자와 마지막 글자를 출력하는 프로그램을 작성하세요.\n",
        "\n",
        "6. 문자열 대소문자 변환\n",
        "문제: 사용자로부터 문자열을 입력받아, 해당 문자열을 모두 대문자로 변환한 것과 소문자로 변환한 것을 각각 출력하는 프로그램을 작성하세요.\n",
        "\n",
        "7. 문자열 포함 여부 확인\n",
        "문제: 사용자로부터 두 개의 문자열을 입력받아, 첫 번째 문자열에 두 번째 문자열이 포함되어 있는지 여부를 출력하는 프로그램을 작성하세요."
      ],
      "metadata": {
        "id": "7s-Cqs9jzWYg"
      }
    },
    {
      "cell_type": "code",
      "source": [
        "# 1번 문제\n",
        "a,b = [1,2]\n",
        "num1, num2 = input(\"두개의 숫자를 공백으로 구분하여 입력하세요\").split()\n",
        "print(\"합:\", int(num1) + int(num2))\n",
        "print(\"차:\", int(num1) - int(num2))\n",
        "print(\"곱:\", int(num1) * int(num2))\n",
        "print(\"몫:\", int(num1) // int(num2))\n",
        "print(\"나머지:\", int(num1) % int(num2))"
      ],
      "metadata": {
        "colab": {
          "base_uri": "https://localhost:8080/"
        },
        "id": "rBg1PeFfwsM7",
        "outputId": "1374ed98-9802-4e9d-d6e8-e16241d258a5"
      },
      "execution_count": 159,
      "outputs": [
        {
          "output_type": "stream",
          "name": "stdout",
          "text": [
            "두개의 숫자를 공백으로 구분하여 입력하세요1 2\n",
            "합: 3\n",
            "차: -1\n",
            "곱: 2\n",
            "몫: 0\n",
            "나머지: 1\n"
          ]
        }
      ]
    },
    {
      "cell_type": "code",
      "source": [
        "name = input(\"이름을 입력하세요\")\n",
        "age = input(\"나이를 입력하세요\")\n",
        "print(f\"안녕하세요, {name}님! 당신은 {age}살 입니다.\")"
      ],
      "metadata": {
        "colab": {
          "base_uri": "https://localhost:8080/"
        },
        "id": "tvQtnuJR0Rdp",
        "outputId": "2eb4b1af-8a89-43e8-f221-78ff027eb8f6"
      },
      "execution_count": 147,
      "outputs": [
        {
          "output_type": "stream",
          "name": "stdout",
          "text": [
            "이름을 입력하세요상호\n",
            "나이를 입력하세요26\n",
            "안녕하세요, 상호님! 당신은 26살 입니다.\n"
          ]
        }
      ]
    },
    {
      "cell_type": "code",
      "source": [
        "giri = input(\"문자열을 입력하세요\")\n",
        "print(len(giri))"
      ],
      "metadata": {
        "colab": {
          "base_uri": "https://localhost:8080/"
        },
        "id": "F5ApwVGp031T",
        "outputId": "0ccca555-c217-4dfb-875d-bad914acdfbe"
      },
      "execution_count": 149,
      "outputs": [
        {
          "output_type": "stream",
          "name": "stdout",
          "text": [
            "문자열을 입력하세요안 녕 하 세 요 ?\n",
            "11\n"
          ]
        }
      ]
    },
    {
      "cell_type": "code",
      "source": [
        "num = 1500000\n",
        "num = str(num)\n",
        "print(len(num))"
      ],
      "metadata": {
        "colab": {
          "base_uri": "https://localhost:8080/"
        },
        "id": "46w8T-SK1koJ",
        "outputId": "3ce7e331-2599-453c-d92a-4f40ba41e5e2"
      },
      "execution_count": 160,
      "outputs": [
        {
          "output_type": "stream",
          "name": "stdout",
          "text": [
            "7\n"
          ]
        }
      ]
    },
    {
      "cell_type": "code",
      "source": [
        "s = input(\"문자열을 입력하면 첫글자와 마지막 글자를 출력합니다.\")\n",
        "print(s[0],s[-1])\n",
        "# -1을 사용하지 않고 마지마 문자를 출력\n",
        "print(s[0], s[len(s)-1])"
      ],
      "metadata": {
        "colab": {
          "base_uri": "https://localhost:8080/"
        },
        "id": "lVQ8D6Z_14ax",
        "outputId": "5cab4df3-a595-49b7-8286-82d386395d93"
      },
      "execution_count": 162,
      "outputs": [
        {
          "output_type": "stream",
          "name": "stdout",
          "text": [
            "문자열을 입력하면 첫글자와 마지막 글자를 출력합니다.1234qwer\n",
            "1 r\n",
            "1 r\n"
          ]
        }
      ]
    },
    {
      "cell_type": "code",
      "source": [
        "munja = input(\"영문자를 입력하세요\")\n",
        "print(munja.upper())\n",
        "print(munja.lower())\n",
        "# 두개의 단어를 입력바다서 카멜케이스 형태로 하나의 문장으로 만들어 봅시다."
      ],
      "metadata": {
        "colab": {
          "base_uri": "https://localhost:8080/"
        },
        "id": "oEtYZSEB2N4Z",
        "outputId": "e91607ab-f3f6-4fe1-d712-8b3695732d6a"
      },
      "execution_count": 153,
      "outputs": [
        {
          "output_type": "stream",
          "name": "stdout",
          "text": [
            "영문자를 입력하세요happyhappyHAPPY\n",
            "HAPPYHAPPYHAPPY\n",
            "happyhappyhappy\n"
          ]
        }
      ]
    },
    {
      "cell_type": "code",
      "source": [
        "a, b = input(\"두개의 문자열을 입력하세요\").split()\n",
        "c = (a[0].upper() + a[1:]) + (b[0].upper() + b[1:]) # string은 변경 불가능하므로\n",
        "print(c)\n",
        "# .capitalize()"
      ],
      "metadata": {
        "colab": {
          "base_uri": "https://localhost:8080/"
        },
        "id": "WBeyz9t06Szg",
        "outputId": "6fbbefee-9a1d-492a-c831-80992a2e69fc"
      },
      "execution_count": 167,
      "outputs": [
        {
          "output_type": "stream",
          "name": "stdout",
          "text": [
            "두개의 문자열을 입력하세요best student\n",
            "BestStudent\n"
          ]
        }
      ]
    },
    {
      "cell_type": "code",
      "source": [
        "document = input(\"문자열을 입력하세요:\")\n",
        "search = input(\"찾고자 하는 문자열을 입력하세요: \")\n",
        "print(search in document)"
      ],
      "metadata": {
        "colab": {
          "base_uri": "https://localhost:8080/"
        },
        "id": "h4NOxIpm2q6Z",
        "outputId": "1db6c68f-6b2a-4070-9a70-cc14c6788785"
      },
      "execution_count": 170,
      "outputs": [
        {
          "output_type": "stream",
          "name": "stdout",
          "text": [
            "문자열을 입력하세요:가느다란 물방울\n",
            "찾고자 하는 문자열을 입력하세요: 방울\n",
            "True\n"
          ]
        }
      ]
    },
    {
      "cell_type": "code",
      "source": [],
      "metadata": {
        "id": "gJJ24Fh63AfY"
      },
      "execution_count": null,
      "outputs": []
    }
  ]
}