{
  "nbformat": 4,
  "nbformat_minor": 0,
  "metadata": {
    "colab": {
      "provenance": [],
      "authorship_tag": "ABX9TyN3gTGNixqeOoW3Y0zwgbdi",
      "include_colab_link": true
    },
    "kernelspec": {
      "name": "python3",
      "display_name": "Python 3"
    },
    "language_info": {
      "name": "python"
    }
  },
  "cells": [
    {
      "cell_type": "markdown",
      "metadata": {
        "id": "view-in-github",
        "colab_type": "text"
      },
      "source": [
        "<a href=\"https://colab.research.google.com/github/greatsangho/python_study/blob/main/20240822_day_3.ipynb\" target=\"_parent\"><img src=\"https://colab.research.google.com/assets/colab-badge.svg\" alt=\"Open In Colab\"/></a>"
      ]
    },
    {
      "cell_type": "markdown",
      "source": [
        "for\n",
        "while\n",
        "range() - 함수\n",
        "매개변수 arguments"
      ],
      "metadata": {
        "id": "bGDRLq1wZ3hm"
      }
    },
    {
      "cell_type": "code",
      "execution_count": null,
      "metadata": {
        "colab": {
          "base_uri": "https://localhost:8080/"
        },
        "id": "_8aXuTpvZMfm",
        "outputId": "d6181e0a-1d28-497c-ed31-06fc5574a373"
      },
      "outputs": [
        {
          "output_type": "stream",
          "name": "stdout",
          "text": [
            "0\n",
            "2\n",
            "4\n",
            "6\n",
            "8\n",
            "10\n"
          ]
        }
      ],
      "source": [
        "A = 10\n",
        "for i in range(0, 11, 2):\n",
        "  print(i)"
      ]
    },
    {
      "cell_type": "code",
      "source": [
        "temp = list(range(10)) # 0 ~ 9 시퀀스하게 범위를 나타내는 range를 list화 저장\n",
        "print(temp)\n",
        "print(temp.reverse()) # 리스트 \"변수 자체에 저장된 값을 reverse 그리고 출력은 없음, 원본에 영향을 줌\n",
        "print(temp)\n",
        "\n",
        "print(reversed(temp)) # 리스트 변수의 데이터를 reversed한 결과를 리턴, 원본은 영향이 없다\n",
        "print(list(reversed(temp)))\n",
        "print(temp)"
      ],
      "metadata": {
        "colab": {
          "base_uri": "https://localhost:8080/"
        },
        "id": "Qr6vKhG6ZRc6",
        "outputId": "212ebf1e-b468-4e04-a840-b8eefe6c5b73"
      },
      "execution_count": null,
      "outputs": [
        {
          "output_type": "stream",
          "name": "stdout",
          "text": [
            "[0, 1, 2, 3, 4, 5, 6, 7, 8, 9]\n",
            "None\n",
            "[9, 8, 7, 6, 5, 4, 3, 2, 1, 0]\n",
            "<list_reverseiterator object at 0x7a621f7ca3e0>\n",
            "[0, 1, 2, 3, 4, 5, 6, 7, 8, 9]\n",
            "[9, 8, 7, 6, 5, 4, 3, 2, 1, 0]\n"
          ]
        }
      ]
    },
    {
      "cell_type": "markdown",
      "source": [
        "- 리스트와 같이 파이썬 변수의 내장함수는 그 자체를 변경하는 경우가 많고\n",
        "- 외부함수를 이용하면 결과만 보여주는 경우가 많다.\n",
        "- (.을 찍고 사용하는 기능은 값을 변화시키는 경우가 많음\n",
        "함수 안에 넣는 경우는 값을 보여주는 경우가 많음)"
      ],
      "metadata": {
        "id": "b3-EJEu9bwll"
      }
    },
    {
      "cell_type": "code",
      "source": [
        "list_1 = list(range(10))\n",
        "for i in reversed(list_1):\n",
        "  print(i)\n",
        "print(list_1)"
      ],
      "metadata": {
        "colab": {
          "base_uri": "https://localhost:8080/"
        },
        "id": "jeL3crDuZ_Aw",
        "outputId": "baf419bf-ad6a-4512-bf47-1c382e9b8f67"
      },
      "execution_count": null,
      "outputs": [
        {
          "output_type": "stream",
          "name": "stdout",
          "text": [
            "9\n",
            "8\n",
            "7\n",
            "6\n",
            "5\n",
            "4\n",
            "3\n",
            "2\n",
            "1\n",
            "0\n",
            "[0, 1, 2, 3, 4, 5, 6, 7, 8, 9]\n"
          ]
        }
      ]
    },
    {
      "cell_type": "markdown",
      "source": [
        "while\n",
        " - 조건을 만족할 때까지 실행\n",
        " - if문과 동일하다(조건을 사용) - 다중조건도 사용가능"
      ],
      "metadata": {
        "id": "qPdQVLuBcU3Q"
      }
    },
    {
      "cell_type": "code",
      "source": [
        "count = 0\n",
        "while count < 10:\n",
        "  print(f'hello{count}')\n",
        "  count += 1"
      ],
      "metadata": {
        "colab": {
          "base_uri": "https://localhost:8080/"
        },
        "id": "hc4XjtfqcN1b",
        "outputId": "627dde0f-67d4-4179-8970-4fa259047b2f"
      },
      "execution_count": null,
      "outputs": [
        {
          "output_type": "stream",
          "name": "stdout",
          "text": [
            "hello0\n",
            "hello1\n",
            "hello2\n",
            "hello3\n",
            "hello4\n",
            "hello5\n",
            "hello6\n",
            "hello7\n",
            "hello8\n",
            "hello9\n"
          ]
        }
      ]
    },
    {
      "cell_type": "code",
      "source": [
        "count = 0\n",
        "while True:\n",
        "  print(f'hello{count}')\n",
        "  count += 1\n",
        "  if count >= 10:\n",
        "    break"
      ],
      "metadata": {
        "colab": {
          "base_uri": "https://localhost:8080/"
        },
        "id": "AvkedG2bc0s1",
        "outputId": "812711ab-d46a-425f-f848-9ac1471e82f1"
      },
      "execution_count": null,
      "outputs": [
        {
          "output_type": "stream",
          "name": "stdout",
          "text": [
            "hello0\n",
            "hello1\n",
            "hello2\n",
            "hello3\n",
            "hello4\n",
            "hello5\n",
            "hello6\n",
            "hello7\n",
            "hello8\n",
            "hello9\n"
          ]
        }
      ]
    },
    {
      "cell_type": "code",
      "source": [
        "for i in range(10):\n",
        "  print('Hello')"
      ],
      "metadata": {
        "colab": {
          "base_uri": "https://localhost:8080/"
        },
        "id": "Llgxtjatdd9X",
        "outputId": "3cac0c15-676f-4e30-efb0-f0f9fa84d423"
      },
      "execution_count": null,
      "outputs": [
        {
          "output_type": "stream",
          "name": "stdout",
          "text": [
            "Hello\n",
            "Hello\n",
            "Hello\n",
            "Hello\n",
            "Hello\n",
            "Hello\n",
            "Hello\n",
            "Hello\n",
            "Hello\n",
            "Hello\n"
          ]
        }
      ]
    },
    {
      "cell_type": "code",
      "source": [
        "# 키오스크처럼 계속 실행되는 프로그램 만들기\n",
        "# 1 8000 3 8000 2 9000 4 10000\n",
        "menu1, menu2, menu3, menu4 = 0, 0, 0, 0\n",
        "cost = 0\n",
        "\n",
        "while True:\n",
        "  print('1.짜장\\t\\t 3.우동')\n",
        "  print('2.짬뽕\\t\\t 4.탕수육')\n",
        "  print('종료는 1~4를 제외한 번호를 누르시면 됩니다.')\n",
        "  menu = int(input('메뉴를 선택하세요'))\n",
        "  if menu == 1:\n",
        "    print(f'{menu} 선택하셨습니다.'+'-'*50)\n",
        "    menu1 += 1\n",
        "  elif menu == 2:\n",
        "    print(f'{menu} 선택하셨습니다.'+'-'*50)\n",
        "    menu2 += 1\n",
        "  elif menu == 3:\n",
        "    print(f'{menu} 선택하셨습니다.'+'-'*50)\n",
        "    menu3 += 1\n",
        "  elif menu == 4:\n",
        "    print(f'{menu} 선택하셨습니다.'+'-'*50)\n",
        "    menu4 += 1\n",
        "  else:\n",
        "    cost = menu1*8000 + menu2*9000 + menu3*10000 + menu4*10000\n",
        "    print(f'총 금액은 {cost}원입니다.')\n",
        "    break\n",
        "  # 총 판매금액, 각 메뉴별로 몇개가 팔렸는지 출력\n",
        "\n",
        "  # 사용자가 번호를 입력할 때마다 그 선택 번호를 저장\n",
        "  # 프로그램 사용이 끝나면 저장한 번호를 가지고 카운트를 하고 해당 번호에 대한 금액을 * 카운팅"
      ],
      "metadata": {
        "colab": {
          "base_uri": "https://localhost:8080/"
        },
        "id": "LwALcSwGdkXR",
        "outputId": "8e4e8cfd-011e-44c3-b215-b5a9e92db95e"
      },
      "execution_count": null,
      "outputs": [
        {
          "output_type": "stream",
          "name": "stdout",
          "text": [
            "1.짜장\t\t 3.우동\n",
            "2.짬뽕\t\t 4.탕수육\n",
            "종료는 1~4를 제외한 번호를 누르시면 됩니다.\n",
            "메뉴를 선택하세요2\n",
            "2 선택하셨습니다.--------------------------------------------------\n",
            "1.짜장\t\t 3.우동\n",
            "2.짬뽕\t\t 4.탕수육\n",
            "종료는 1~4를 제외한 번호를 누르시면 됩니다.\n",
            "메뉴를 선택하세요3\n",
            "3 선택하셨습니다.--------------------------------------------------\n",
            "1.짜장\t\t 3.우동\n",
            "2.짬뽕\t\t 4.탕수육\n",
            "종료는 1~4를 제외한 번호를 누르시면 됩니다.\n",
            "메뉴를 선택하세요4\n",
            "4 선택하셨습니다.--------------------------------------------------\n",
            "1.짜장\t\t 3.우동\n",
            "2.짬뽕\t\t 4.탕수육\n",
            "종료는 1~4를 제외한 번호를 누르시면 됩니다.\n",
            "메뉴를 선택하세요5\n",
            "총 금액은 29000원입니다.\n"
          ]
        }
      ]
    },
    {
      "cell_type": "code",
      "source": [
        "choice_num_list = []\n",
        "while True:\n",
        "  print('1.짜장\\t\\t 3.우동')\n",
        "  print('2.짬뽕\\t\\t 4.탕수육')\n",
        "  print('종료는 1~4를 제외한 번호를 누르면 정산이 됩니다.')\n",
        "  menu = int(input('메뉴를 선택하세요'))\n",
        "  if menu > 4 or menu < 1:\n",
        "    break\n",
        "  else:\n",
        "    choice_num_list.append(menu)\n",
        "    print(f'{menu} 선택하였습니다.')\n",
        "    print('-' * 50)\n",
        "print('정산을 시작합니다.')\n",
        "print(choice_num_list)\n",
        "\n",
        "jungSan = {}\n",
        "for i in choice_num_list:\n",
        "  if i in jungSan:\n",
        "    jungSan[i] += 1\n",
        "  else:\n",
        "    jungSan[i] = 1\n",
        "print(jungSan) # {1:5, 2:2}\n",
        "price_list = [None, 8000, 9000, 8000, 10000]\n",
        "total_price = 0\n",
        "for key, value in jungSan.items():\n",
        "  total_price += price_list[key]*value\n",
        "print(total_price)"
      ],
      "metadata": {
        "colab": {
          "base_uri": "https://localhost:8080/"
        },
        "id": "Faup7FUHeKL0",
        "outputId": "c0c9082a-6629-4374-a772-72f824b5154b"
      },
      "execution_count": null,
      "outputs": [
        {
          "output_type": "stream",
          "name": "stdout",
          "text": [
            "1.짜장\t\t 3.우동\n",
            "2.짬뽕\t\t 4.탕수육\n",
            "종료는 1~4를 제외한 번호를 누르면 정산이 됩니다.\n",
            "메뉴를 선택하세요2\n",
            "2 선택하였습니다.\n",
            "--------------------------------------------------\n",
            "1.짜장\t\t 3.우동\n",
            "2.짬뽕\t\t 4.탕수육\n",
            "종료는 1~4를 제외한 번호를 누르면 정산이 됩니다.\n",
            "메뉴를 선택하세요2\n",
            "2 선택하였습니다.\n",
            "--------------------------------------------------\n",
            "1.짜장\t\t 3.우동\n",
            "2.짬뽕\t\t 4.탕수육\n",
            "종료는 1~4를 제외한 번호를 누르면 정산이 됩니다.\n",
            "메뉴를 선택하세요3\n",
            "3 선택하였습니다.\n",
            "--------------------------------------------------\n",
            "1.짜장\t\t 3.우동\n",
            "2.짬뽕\t\t 4.탕수육\n",
            "종료는 1~4를 제외한 번호를 누르면 정산이 됩니다.\n",
            "메뉴를 선택하세요4\n",
            "4 선택하였습니다.\n",
            "--------------------------------------------------\n",
            "1.짜장\t\t 3.우동\n",
            "2.짬뽕\t\t 4.탕수육\n",
            "종료는 1~4를 제외한 번호를 누르면 정산이 됩니다.\n",
            "메뉴를 선택하세요10\n",
            "정산을 시작합니다.\n",
            "[2, 2, 3, 4]\n",
            "{2: 2, 3: 1, 4: 1}\n",
            "36000\n"
          ]
        }
      ]
    },
    {
      "cell_type": "code",
      "source": [
        "import time\n",
        "for i in range(10):\n",
        "  time.sleep(1) # 1초간 멈춤\n",
        "  print(i)"
      ],
      "metadata": {
        "colab": {
          "base_uri": "https://localhost:8080/"
        },
        "id": "_gdAyju9ixx1",
        "outputId": "ca59aaeb-797b-4221-9528-d75db0c11c0f"
      },
      "execution_count": null,
      "outputs": [
        {
          "output_type": "stream",
          "name": "stdout",
          "text": [
            "0\n",
            "1\n",
            "2\n",
            "3\n",
            "4\n",
            "5\n",
            "6\n",
            "7\n",
            "8\n",
            "9\n"
          ]
        }
      ]
    },
    {
      "cell_type": "code",
      "source": [
        "list(range(7,0,-1))"
      ],
      "metadata": {
        "colab": {
          "base_uri": "https://localhost:8080/"
        },
        "id": "CupYzN3Jmt88",
        "outputId": "6bc29455-ebc5-4a42-ef11-66631283eca7"
      },
      "execution_count": null,
      "outputs": [
        {
          "output_type": "execute_result",
          "data": {
            "text/plain": [
              "[7, 6, 5, 4, 3, 2, 1]"
            ]
          },
          "metadata": {},
          "execution_count": 11
        }
      ]
    },
    {
      "cell_type": "code",
      "source": [
        "# 리스트를 딕셔너리로 변환\n",
        "key_list = ['name', 'hp', 'mp', 'level']\n",
        "value_list = ['기사', 200, 30, 5]\n",
        "character = {}\n",
        "for i in range(len(key_list)):\n",
        "  character[key_list[i]] = value_list[i]\n",
        "\n",
        "print(character)"
      ],
      "metadata": {
        "colab": {
          "base_uri": "https://localhost:8080/"
        },
        "id": "MJLBUgsWoscM",
        "outputId": "e5204d10-7b86-46ba-e887-5c2c0ef7b175"
      },
      "execution_count": null,
      "outputs": [
        {
          "output_type": "stream",
          "name": "stdout",
          "text": [
            "{'name': '기사', 'hp': 200, 'mp': 30, 'level': 5}\n"
          ]
        }
      ]
    },
    {
      "cell_type": "code",
      "source": [
        "dict(zip(key_list, value_list)) # 두 집합을 끼리끼리 묶음"
      ],
      "metadata": {
        "colab": {
          "base_uri": "https://localhost:8080/"
        },
        "id": "Ssops3DXpY8W",
        "outputId": "7b344616-beca-4a28-ec37-c9bb214baa72"
      },
      "execution_count": null,
      "outputs": [
        {
          "output_type": "execute_result",
          "data": {
            "text/plain": [
              "{'name': '기사', 'hp': 200, 'mp': 30, 'level': 5}"
            ]
          },
          "metadata": {},
          "execution_count": 13
        }
      ]
    },
    {
      "cell_type": "code",
      "source": [
        "limit = 10000\n",
        "i = 1\n",
        "total = 0\n",
        "\n",
        "while total < 1000:\n",
        "  i += 1\n",
        "  total += i\n",
        "print(i, total)"
      ],
      "metadata": {
        "colab": {
          "base_uri": "https://localhost:8080/"
        },
        "id": "DYdJvg6QqJAu",
        "outputId": "652a5408-a325-46cf-8165-ac4a20e1d849"
      },
      "execution_count": null,
      "outputs": [
        {
          "output_type": "stream",
          "name": "stdout",
          "text": [
            "45 1034\n"
          ]
        }
      ]
    },
    {
      "cell_type": "code",
      "source": [
        "# enumerate - 인덱스가 몇 번째인지 횟수를 알아야 할 때\n",
        "# min, max, sum\n",
        "# reversed\n",
        "list_a = [1,2,3,4,5]\n",
        "list_reversed = reversed(list_a)\n",
        "\n",
        "print('reveresd() 함수')\n",
        "print('reversed([1,2,3,4,5]): ',list_reversed)\n",
        "print('list(reversed([1,2,3,4,5])): ', list(list_reversed))\n",
        "print()\n",
        "\n",
        "print('reversed() 함수와 반복문')\n",
        "print('for i in reversed([1,2,3,4,5]):')\n",
        "for i in reversed(list_a):\n",
        "  print('-', i)"
      ],
      "metadata": {
        "colab": {
          "base_uri": "https://localhost:8080/"
        },
        "id": "X-DBpz1tr-PD",
        "outputId": "8e937981-b64d-4744-9203-138d568730bc"
      },
      "execution_count": null,
      "outputs": [
        {
          "output_type": "stream",
          "name": "stdout",
          "text": [
            "reveresd() 함수\n",
            "reversed([1,2,3,4,5]):  <list_reverseiterator object at 0x7a621f7c8ee0>\n",
            "list(reversed([1,2,3,4,5])):  [5, 4, 3, 2, 1]\n",
            "\n",
            "reversed() 함수와 반복문\n",
            "for i in reversed([1,2,3,4,5]):\n",
            "- 5\n",
            "- 4\n",
            "- 3\n",
            "- 2\n",
            "- 1\n"
          ]
        }
      ]
    },
    {
      "cell_type": "code",
      "source": [
        "temp = reversed([1,2,3,4,5])\n",
        "for i in temp:\n",
        "  print(i)\n",
        "print('-'*50)\n",
        "for i in temp:\n",
        "  print(i)\n",
        "\n",
        "# 인덱스 위치가 바뀐 상태로 있음, C언어 오프셋 위치 변경 명령어 존재\n",
        "# 한번 순환 후 이미 메모리 위치가 끝에 가있고 리셋되지 않음"
      ],
      "metadata": {
        "colab": {
          "base_uri": "https://localhost:8080/"
        },
        "id": "lETEcenWu6TS",
        "outputId": "1fd30b13-b19d-429f-94d8-4454873551c6"
      },
      "execution_count": null,
      "outputs": [
        {
          "output_type": "stream",
          "name": "stdout",
          "text": [
            "5\n",
            "4\n",
            "3\n",
            "2\n",
            "1\n",
            "--------------------------------------------------\n"
          ]
        }
      ]
    },
    {
      "cell_type": "code",
      "source": [
        "example_list = [\"요소A\", \"요소B\", \"요소C\"]\n",
        "\n",
        "print('단순 출력: ')\n",
        "print(example_list)\n",
        "print()\n",
        "\n",
        "print('enumerate() 함수 적용 출력: ')\n",
        "print(list(enumerate(example_list)))\n",
        "print()\n",
        "\n",
        "print(\"list() 함수로 강제 변환 출력\")\n",
        "print(list(enumerate(example_list)))"
      ],
      "metadata": {
        "colab": {
          "base_uri": "https://localhost:8080/"
        },
        "id": "QSjKxgv4wNt0",
        "outputId": "b3370bd9-a98f-4657-899d-8f074c4aefb3"
      },
      "execution_count": null,
      "outputs": [
        {
          "output_type": "stream",
          "name": "stdout",
          "text": [
            "단순 출력: \n",
            "['요소A', '요소B', '요소C']\n",
            "\n",
            "enumerate() 함수 적용 출력: \n",
            "[(0, '요소A'), (1, '요소B'), (2, '요소C')]\n",
            "\n",
            "list() 함수로 강제 변환 출력\n",
            "[(0, '요소A'), (1, '요소B'), (2, '요소C')]\n"
          ]
        }
      ]
    },
    {
      "cell_type": "code",
      "source": [
        "print('반복문과 조합하기')\n",
        "for i, value in enumerate(example_list):\n",
        "  print(f'{i}, {value}')"
      ],
      "metadata": {
        "colab": {
          "base_uri": "https://localhost:8080/"
        },
        "id": "ZO0E2oSRyU82",
        "outputId": "012ac1cf-185d-4396-e7f8-f2ecf96c8057"
      },
      "execution_count": null,
      "outputs": [
        {
          "output_type": "stream",
          "name": "stdout",
          "text": [
            "반복문과 조합하기\n",
            "0, 요소A\n",
            "1, 요소B\n",
            "2, 요소C\n"
          ]
        }
      ]
    },
    {
      "cell_type": "code",
      "source": [
        "exaple_dictionary = {\n",
        "    '키A': '값A',\n",
        "    '키B': '값B',\n",
        "    '키C': '값C'\n",
        "}\n",
        "\n",
        "for key, element in exaple_dictionary.items():\n",
        "  print(f'{key}, {element}')"
      ],
      "metadata": {
        "colab": {
          "base_uri": "https://localhost:8080/"
        },
        "id": "-nU4fUJ_1J9e",
        "outputId": "cf62a1f1-71b9-4f8a-b749-1fb5e80cc516"
      },
      "execution_count": null,
      "outputs": [
        {
          "output_type": "stream",
          "name": "stdout",
          "text": [
            "키A, 값A\n",
            "키B, 값B\n",
            "키C, 값C\n"
          ]
        }
      ]
    },
    {
      "cell_type": "code",
      "source": [
        "array = []\n",
        "\n",
        "for i in range(0, 20, 2):\n",
        "  array.append(i*i)\n",
        "\n",
        "print(array)"
      ],
      "metadata": {
        "colab": {
          "base_uri": "https://localhost:8080/"
        },
        "id": "5YzxOmKx1XS-",
        "outputId": "d3ce7b28-2311-4ee3-8fec-457a41e461bb"
      },
      "execution_count": null,
      "outputs": [
        {
          "output_type": "stream",
          "name": "stdout",
          "text": [
            "[0, 4, 16, 36, 64, 100, 144, 196, 256, 324]\n"
          ]
        }
      ]
    },
    {
      "cell_type": "code",
      "source": [
        "array = [i*i for i in range(0, 20, 2)]\n",
        "print(array)\n",
        "# 리스트 내포\n",
        "# 리스트 이름 = [표현식 for 반복자 in 반복할 수 있는 것]\n",
        "# 리스트 이름 = [표현식 for 반복자 in 반복할 수 있는 것 if 조건문]\n",
        "\n",
        "array1 = ['사과', '자두', '초콜릿', '바나나', '체리']\n",
        "output = [fruit for fruit in array1 if fruit != '초콜릿']\n",
        "print(output)\n",
        "\n",
        "#짝수만 출력하기\n",
        "array2 = [i for i in range(11) if i % 2 == 0]\n",
        "print(array2)"
      ],
      "metadata": {
        "colab": {
          "base_uri": "https://localhost:8080/"
        },
        "id": "IibsaVji1fWB",
        "outputId": "455e3f40-b230-4a73-a84e-de1201c349c8"
      },
      "execution_count": null,
      "outputs": [
        {
          "output_type": "stream",
          "name": "stdout",
          "text": [
            "[0, 4, 16, 36, 64, 100, 144, 196, 256, 324]\n",
            "['사과', '자두', '바나나', '체리']\n",
            "[0, 2, 4, 6, 8, 10]\n"
          ]
        }
      ]
    },
    {
      "cell_type": "code",
      "source": [
        "import random\n",
        "[random.randint(1, 10) for _ in range(5)]"
      ],
      "metadata": {
        "colab": {
          "base_uri": "https://localhost:8080/"
        },
        "id": "kw_t_L-u2fag",
        "outputId": "dd5bf997-e5af-4b0d-a4fc-f8b16c08213c"
      },
      "execution_count": null,
      "outputs": [
        {
          "output_type": "execute_result",
          "data": {
            "text/plain": [
              "[6, 1, 5, 7, 6]"
            ]
          },
          "metadata": {},
          "execution_count": 22
        }
      ]
    },
    {
      "cell_type": "code",
      "source": [
        "sample = ['abc', 123, 25, 56.3, [1,2], {'name':100}]\n",
        "# 다양한 데이터를 가지는 리스트에서 숫자만 추출해서 리스트에 담아보세요 - 리스트 컴프리핸션을 이용\n",
        "[num for num in sample if type(num) == int or type(num) == float]"
      ],
      "metadata": {
        "colab": {
          "base_uri": "https://localhost:8080/"
        },
        "id": "fPv38i7X4P3F",
        "outputId": "13296051-2258-4c2b-8257-cece3ac06d6c"
      },
      "execution_count": null,
      "outputs": [
        {
          "output_type": "execute_result",
          "data": {
            "text/plain": [
              "[123, 25, 56.3]"
            ]
          },
          "metadata": {},
          "execution_count": 23
        }
      ]
    },
    {
      "cell_type": "code",
      "source": [
        "type(123) == int"
      ],
      "metadata": {
        "colab": {
          "base_uri": "https://localhost:8080/"
        },
        "id": "RgADSZmV5efY",
        "outputId": "775aafe8-14c9-40c3-8859-097f850b516f"
      },
      "execution_count": null,
      "outputs": [
        {
          "output_type": "execute_result",
          "data": {
            "text/plain": [
              "True"
            ]
          },
          "metadata": {},
          "execution_count": 24
        }
      ]
    },
    {
      "cell_type": "code",
      "source": [
        "result = ''\n",
        "if 2 % 2 == 0:\n",
        "  result = '짝수'\n",
        "else:\n",
        "  result = '홀수'\n",
        "print(result)"
      ],
      "metadata": {
        "colab": {
          "base_uri": "https://localhost:8080/"
        },
        "id": "PTqMF3vU8Aa9",
        "outputId": "0891049c-b449-488f-da64-4963ef761d18"
      },
      "execution_count": null,
      "outputs": [
        {
          "output_type": "stream",
          "name": "stdout",
          "text": [
            "짝수\n"
          ]
        }
      ]
    },
    {
      "cell_type": "code",
      "source": [
        "result = '짝수' if 2 % 2 == 0 else '홀수'\n",
        "print(result)"
      ],
      "metadata": {
        "colab": {
          "base_uri": "https://localhost:8080/"
        },
        "id": "U26KGhIw8bYG",
        "outputId": "3d8f602b-78ed-440f-8f49-0886a9484d1b"
      },
      "execution_count": null,
      "outputs": [
        {
          "output_type": "stream",
          "name": "stdout",
          "text": [
            "짝수\n"
          ]
        }
      ]
    },
    {
      "cell_type": "code",
      "source": [
        "# 리스트 컴프리핸션 적용해보기\n",
        "# 0 ~ 10 데이터 중에서 짝수면 2로 나누고 홀수면 2로 곱한 결과를 리스트로 나타내기 - 리스트 컴프리핸션\n",
        "[i/2 if i % 2 == 0 else i*2 for i in range(11)]"
      ],
      "metadata": {
        "colab": {
          "base_uri": "https://localhost:8080/"
        },
        "id": "EsCYXIh48ybC",
        "outputId": "286fb4a2-7a64-42a4-c3b7-b15f1bf56515"
      },
      "execution_count": null,
      "outputs": [
        {
          "output_type": "execute_result",
          "data": {
            "text/plain": [
              "[0.0, 2, 1.0, 6, 2.0, 10, 3.0, 14, 4.0, 18, 5.0]"
            ]
          },
          "metadata": {},
          "execution_count": 27
        }
      ]
    },
    {
      "cell_type": "code",
      "source": [
        "# 리스트 컴프리핸션\n",
        "#1. 기본사용법\n",
        "[i**2 for i in range(10)] # 기본 모양\n",
        "\n",
        "[i**2 for i in range(10) if i > 5] # 기본 모양 + 조건문\n",
        "\n",
        "[i**2 if i > 5 else i**5 for i in range(10)] # 기본 모양 + 조건문(if ~ else)"
      ],
      "metadata": {
        "colab": {
          "base_uri": "https://localhost:8080/"
        },
        "id": "gxttNxfn9raL",
        "outputId": "c5a6217e-f269-4ec5-e01a-27a344c578bf"
      },
      "execution_count": null,
      "outputs": [
        {
          "output_type": "execute_result",
          "data": {
            "text/plain": [
              "[0, 1, 32, 243, 1024, 3125, 36, 49, 64, 81]"
            ]
          },
          "metadata": {},
          "execution_count": 28
        }
      ]
    },
    {
      "cell_type": "markdown",
      "source": [
        "리스트 컴프리핸션은 집합 특히 리스트에 대해서 필터의 역할을 할 수 있다\n",
        " - 문자로 되어있는 데어터 집합중에 숫자로 변경 가능한 숫자 형태의 문자열을 필터링 해라"
      ],
      "metadata": {
        "id": "jKPxuiR1-r2K"
      }
    },
    {
      "cell_type": "code",
      "source": [
        "#필터라는 명령어를 사용하지 않을 때\n",
        "sample = ['a10', '10b', '112', '12.5', '30쩜4']\n",
        "# 숫자만 출력하기\n",
        "[i for i in sample if type(i) == int or type(i) == float]\n",
        "\n",
        "# 길이가 2 이상인 것 출력하기\n",
        "[i for i in sample if len(i) >= 2]\n"
      ],
      "metadata": {
        "colab": {
          "base_uri": "https://localhost:8080/"
        },
        "id": "9FxH8T6R91fW",
        "outputId": "8b0b0877-7cab-4eba-feef-ea6f7c946c56"
      },
      "execution_count": null,
      "outputs": [
        {
          "output_type": "execute_result",
          "data": {
            "text/plain": [
              "['a10', '10b', '112', '12.5', '30쩜4']"
            ]
          },
          "metadata": {},
          "execution_count": 29
        }
      ]
    },
    {
      "cell_type": "code",
      "source": [
        "news = '''\n",
        "[앵커]\n",
        "한국은행 금융통화위원회가 이달 기준금리를 3.5%로 동결했습니다.\n",
        "\n",
        "지난해 1월 3.5%로 인상한 이후 이달까지 13차례 연속 동결입니다.\n",
        "\n",
        "취재기자 연결해 자세히 알아보겠습니다.\n",
        "\n",
        "류환홍 기자, 한은 금통위가 예상대로 기준금리를 동결했는데, 동결 이유는 뭔가요?\n",
        "\n",
        "[기자]\n",
        "말씀하신 것처럼 한국은행 금융통화위원회가 오늘 오전 9시 회의를 열어 9시 50분쯤 기준금리 동결이란 결과를 발표했습니다.\n",
        "\n",
        "한은 금통위는 최근 급증하는 가계부채 증가세와 미국 경기둔화 우려 등에 따른 금융·외환시장 변동 가능성 등을 고려할 때 현재의 긴축 기조를 유지할 필요가 있다고 동결 배경을 밝혔습니다.\n",
        "\n",
        "수도권 주택가격과 가계부채 증가세, 금융·외환시장 상황 등을 좀 더 지켜볼 필요가 있겠다고 판단했습니다.\n",
        "\n",
        "다만 물가상승률은 둔화 추세를 이어가고 있고 내수 회복세가 더디다는 인식을 나타냈습니다.\n",
        "\n",
        "금리 인하의 필요성을 충분히 고려하고 있다는 점을 표현한 것으로 보입니다.\n",
        "\n",
        "정부가 내놓은 8.8 주택 공급 대책과 금융당국이 발표한 수도권 주택담보대출 핀셋 규제 등의 효과를 좀 더 지켜보고 금리 인하 시기를 결정하겠다는 것으로 해석됩니다.\n",
        "\n",
        "더욱이 미국 중앙은행인 Fed, 즉 연방준비제도가 다음 달 금리를 인하할 것이란 관측이 우세한 점도 기준금리 동결에 영향을 미쳤을 것으로 보입니다.\n",
        "\n",
        "현재 한미 간 금리 차이가 1.5%p인데 우리가 미국보다 먼저 금리를 내릴 경우 금리 차가 확대돼 자금 유출 가능성이 커질 수 있습니다.\n",
        "\n",
        "지난해 1월 0.25%p 인상 후 이달까지 기준금리는 13회 연속 동결이 됐습니다.\n",
        "\n",
        "역대 최장 동결입니다.\n",
        "\n",
        "이제 관심은 자연스럽게 10월과 11월 2번 남은 금통위 회의에 쏠리고 있습니다.\n",
        "\n",
        "11월 미국 대선을 앞두고 다음 달인 9월에 미국이 금리 인하를 단행한다면, 한은 금통위는 10월에 기준금리를 인하할 가능성이 높아 보입니다.\n",
        "'''"
      ],
      "metadata": {
        "id": "-9rXIqSx_Vuw"
      },
      "execution_count": null,
      "outputs": []
    },
    {
      "cell_type": "code",
      "source": [
        "# 글자수가 2글자인 문자열만 추출해서 리스트에 담아봅시다\n",
        "print([i for i in news.split() if len(i) == 2])"
      ],
      "metadata": {
        "colab": {
          "base_uri": "https://localhost:8080/"
        },
        "collapsed": true,
        "id": "d19iRI3XCnaf",
        "outputId": "bc7ff1d3-1fbf-492c-e767-1ab398141668"
      },
      "execution_count": null,
      "outputs": [
        {
          "output_type": "stream",
          "name": "stdout",
          "text": [
            "['이달', '1월', '이후', '연속', '한은', '동결', '오늘', '오전', '9시', '열어', '9시', '한은', '최근', '미국', '우려', '등에', '따른', '변동', '등을', '긴축', '동결', '상황', '등을', '다만', '둔화', '있고', '내수', '금리', '점을', '주택', '공급', '핀셋', '규제', '등의', '금리', '인하', '미국', '다음', '점도', '현재', '한미', '금리', '먼저', '내릴', '경우', '금리', '차가', '자금', '유출', '커질', '1월', '인상', '연속', '역대', '최장', '이제', '2번', '남은', '미국', '다음', '달인', '금리', '한은', '높아']\n"
          ]
        }
      ]
    },
    {
      "cell_type": "code",
      "source": [
        "# 문장에서 단어 분리 - 외부 라이브러리 이용\n",
        "!pip install konlpy # 공구상자 가져오기\n",
        "import konlpy\n",
        "from konlpy.tag import Okt\n",
        "okt = Okt() # 형태소 분석기\n",
        "okt.nouns(\"아버지가방에들어가신다\")"
      ],
      "metadata": {
        "colab": {
          "base_uri": "https://localhost:8080/"
        },
        "id": "dBIzyWwGCqOm",
        "outputId": "91d9218f-9c73-4200-f55f-cbbd7ad5c90b"
      },
      "execution_count": null,
      "outputs": [
        {
          "output_type": "stream",
          "name": "stdout",
          "text": [
            "Requirement already satisfied: konlpy in /usr/local/lib/python3.10/dist-packages (0.6.0)\n",
            "Requirement already satisfied: JPype1>=0.7.0 in /usr/local/lib/python3.10/dist-packages (from konlpy) (1.5.0)\n",
            "Requirement already satisfied: lxml>=4.1.0 in /usr/local/lib/python3.10/dist-packages (from konlpy) (4.9.4)\n",
            "Requirement already satisfied: numpy>=1.6 in /usr/local/lib/python3.10/dist-packages (from konlpy) (1.26.4)\n",
            "Requirement already satisfied: packaging in /usr/local/lib/python3.10/dist-packages (from JPype1>=0.7.0->konlpy) (24.1)\n"
          ]
        },
        {
          "output_type": "execute_result",
          "data": {
            "text/plain": [
              "['아버지', '가방']"
            ]
          },
          "metadata": {},
          "execution_count": 32
        }
      ]
    },
    {
      "cell_type": "code",
      "source": [
        "nouns_list = okt.nouns(news)\n",
        "nouns_list = [word for word in nouns_list if len(word) >= 2]\n",
        "print(nouns_list)"
      ],
      "metadata": {
        "colab": {
          "base_uri": "https://localhost:8080/"
        },
        "id": "7ryx5e3FDvqV",
        "outputId": "4421fda1-cf1a-4e84-97f4-5b587317d012"
      },
      "execution_count": null,
      "outputs": [
        {
          "output_type": "stream",
          "name": "stdout",
          "text": [
            "['앵커', '한국은행', '금융통화위원회', '기준금리', '동결', '지난해', '인상', '이후', '차례', '연속', '동결', '취재', '기자', '류환', '기자', '금통위', '예상', '기준금리', '동결', '동결', '이유', '뭔가', '기자', '말씀', '한국은행', '금융통화위원회', '오늘', '오전', '회의', '기준금리', '동결', '결과', '발표', '금통위', '최근', '급증', '가계부채', '증가', '미국', '경기', '둔화', '우려', '금융', '외환시장', '변동', '가능성', '고려', '현재', '긴축', '기조', '유지', '필요', '동결', '배경', '수도권', '주택', '가격', '가계부채', '증가', '금융', '외환시장', '상황', '필요', '판단', '다만', '물가상승률', '둔화', '추세', '어가', '회복', '인식', '금리', '인하', '필요성', '고려', '표현', '정부', '주택', '공급', '대책', '금융', '당국', '발표', '수도권', '주택', '담보', '대출', '핀셋', '규제', '효과', '금리', '인하', '시기', '결정', '해석', '더욱이', '미국', '중앙은행', '연방', '준비', '제도', '다음', '금리', '인하', '관측', '점도', '기준금리', '동결', '영향', '현재', '한미', '금리', '차이', '우리', '미국', '먼저', '금리', '경우', '금리', '확대', '자금', '유출', '가능성', '지난해', '인상', '기준금리', '연속', '동결', '역대', '동결', '이제', '관심', '자연', '금통위', '회의', '미국', '대선', '다음', '달인', '미국', '금리', '인하', '단행', '금통위', '기준금리', '인하', '가능성']\n"
          ]
        }
      ]
    },
    {
      "cell_type": "code",
      "source": [
        "news_1 = '''국토교통부가 전세금 반환보증 사고 주택을 활용해 전세로 저렴하게 장기간 거주 가능한 이른바 'HUG 든든전세주택'을 확대, 보완하기로 했습니다.\n",
        "\n",
        "국토부는 신설되는 '든든전세주택 Ⅱ' 유형과 관련해 오는 9월 6일부터 서울, 인천 등 HUG 지사 4곳을 통해 수도권 임대인 대상으로 현장 방문 접수를 실시하고 이 가운데 6천 호 매입을 추진한다고 밝혔습니다.\n",
        "\n",
        "신설되는 '든든전세주택 Ⅱ' 유형은 경매 진행 전에 HUG가 기존 집주인 주택을 대위변제금 이내로 협의 매수한 뒤 임대하는 유형을 뜻합니다.\n",
        "\n",
        "기존 집주인이 HUG에 주택 매각 시 잔여채무에 대해 6년간 원금 상환을 유예하고 원할 경우 잔여채무 상환 시점에 재매수할 수 있는 권리를 부여하는 방식입니다.\n",
        "\n",
        "이에 따라 기존 집주인은 대위변제금과 함께 최대 연 12% 이자 부담을 줄이고 임차인은 기존 든든전세주택과 동일한 조건으로 거주하게 된다는 게 국토부의 설명입니다.\n",
        "\n",
        "국토부는 또 집주인 대신 전세금을 돌려주고 경매 신청한 주택을 HUG가 직접 낙찰받아 입주자 부담이 덜한 전세로 공급하는 공공임대주택인 HUG 든든전세주택의 경우 현재까지 1천98호를 낙찰받았다고 밝혔습니다.\n",
        "\n",
        "이어 이 가운데 주택 소유권 확보와 하자 수선 등 후속 절차가 끝난 주택은 매월 말 임차인 모집 공고를 시행하고 있다고 설명했습니다.\n",
        "\n",
        "앞서 1차 입주자 모집 평균 경쟁률은 89대 1을 기록했고 2차 입주자 모집은 오는 30일부터 9월 13일까지 진행될 예정입니다.'''\n",
        "news_2 = '''국토교통부는 신축매입임대주택을 내년까지 11만 호 이상 차질 없이 공급하기 위해 한국토지주택공사, LH와 추진 상황을 지속 점검, 보완해 나가겠다고 밝혔습니다.\n",
        "\n",
        "신축매입임대주택은 LH가 민간 회사로부터 신축을 매입해 시세보다 저렴하게 임대 공급하는 주택입니다.\n",
        "\n",
        "국토부는 이른바 8.8 대책에 따라 확대 공급하는 2만1천 호는 수도권에 집중 공급해 침체된 비아파트 시장을 정상화하고 전세시장을 안정화하는 데 기여할 것으로 내다봤습니다.\n",
        "\n",
        "이어 그간 정부는 여러 차례 신축매입임대 활성화 대책을 마련해 민간 공급기반 확충을 위해 노력했다며 국토부와 LH는 사업추진 속도를 높이기 위해 역량을 모아 공급기반이 차질없이 작동하도록 적극 협력하겠다고 강조했습니다.\n",
        "\n",
        "또 신혼부부와 신규 출산 가구를 위해 중형 평형 위주 신축주택을 시세 90% 수준의 저렴한 전세로 공급하는 LH 든든전세의 1차 입주자 모집 공고 결과 전국 평균 경쟁률이 21대 1에 달했고 서울지역은 101대 1의 경쟁률을 기록했다고 설명했습니다.\n",
        "\n",
        "신규로 공급하는 분양 전환형 매입임대주택의 경우 입주자가 최소 6년 임대 거주 후 분양 여부를 선택할 수 있다며 역세권 등 우수한 입지에 아파트를 포함한 중형 평형 위주로 매입해 최소 5만 호 공급한다는 계획입니다.'''\n",
        "news_3 = '''지난 2022년 65세 이상 인구 가운데 90.4%가 각종 공적, 사적 연금을 한 가지라도 받았고, 수급액은 평균 65만 원으로 집계됐습니다.\n",
        "\n",
        "통계청은 2022년 65세 이상 인구 가운데 818만2천 명, 90.4%가 국민연금이나 기초연금, 개인연금 등 각종 연금을 한 개 이상 받은 것으로 집계됐다고 밝혔습니다.\n",
        "\n",
        "한 해 전보다 수급률이 41만4천 명, 5.3% 증가했고, 월평균 수급액은 8.3%, 5만 원 증가한 65만 원이었습니다.\n",
        "\n",
        "5명 중 한 명 꼴로 25만 원 미만을 받았고, 10명 중 6명꼴로 50만 원 미만을 받았습니다.\n",
        "\n",
        "65세 이상 인구 가운데 아무런 연금을 받지 않은 사람은 86만4천 명으로 나타났습니다.\n",
        "\n",
        "다만, 이들 가운데는 고액 자산가도 일부 포함돼 있을 수 있습니다.\n",
        "\n",
        "18세에서 59세까지 인구 가운데 연금 가입자는 2천382만6천 명, 80.2%로 한 해 전보다 9만9천 명, 0.4% 증가했습니다.\n",
        "\n",
        "아무런 연금을 가입하고 있지 않은 18~59세까지 인구는 588만 명이었습니다.\n",
        "\n",
        "연금 가입자의 월평균 보험료는 31만8천 원으로, 한 해 전에 비해 3.2% 줄었습니다.\n",
        "\n",
        "통계청은 2022년에는 통계 수집 기관이 일부 바뀌어 보험료 증감률 해석에 유의할 필요가 있다고 설명했습니다.'''\n",
        "# ytn 뉴스 3개"
      ],
      "metadata": {
        "id": "-Nt1DqPuEtNM"
      },
      "execution_count": null,
      "outputs": []
    },
    {
      "cell_type": "code",
      "source": [
        "# 잘하지 못해도 아는 것이다. 해본 것이고 자신있게 말하기, 처음에 어려운 것이지 두려워 말기\n",
        "news_list = [news_1, news_2, news_3]\n",
        "result = []\n",
        "#각각의 결과를 저장하는 리스트\n",
        "for news in news_list:\n",
        "  nouns_list = okt.nouns(news) # 기사\n",
        "  nouns_list = [word for word in nouns_list if len(word) > 1]\n",
        "  result.extend(nouns_list)\n",
        "\n",
        "print(result)\n",
        "\n",
        "# 워드 카운터 - 딕셔너리의 성질을 이용한다\n",
        "word_count = {}\n",
        "for word in result:\n",
        "  if word in word_count:\n",
        "    word_count[word] += 1\n",
        "  else:\n",
        "    word_count[word] = 1\n",
        "print(word_count)\n",
        "sorted(word_count.items(), key=lambda x:x[1], reverse=True)"
      ],
      "metadata": {
        "colab": {
          "base_uri": "https://localhost:8080/"
        },
        "id": "TFc4rUuCGdVz",
        "outputId": "e9688a9b-98d1-480e-b480-ea5af690f441"
      },
      "execution_count": null,
      "outputs": [
        {
          "output_type": "stream",
          "name": "stdout",
          "text": [
            "['국토교통부', '세금', '반환', '보증', '사고', '주택', '활용', '전세', '장기간', '거주', '주택', '확대', '보완', '국토부', '신설', '주택', '유형', '관련', '서울', '인천', '지사', '통해', '수도권', '임대', '대상', '현장', '방문', '접수', '실시', '가운데', '매입', '추진', '신설', '주택', '유형', '경매', '진행', '기존', '집주인', '주택', '대위변제', '이내', '협의', '매수', '임대', '유형', '기존', '집주인', '주택', '매각', '채무', '대해', '원금', '상환', '유예', '경우', '채무', '상환', '시점', '매수', '권리', '부여', '방식', '기존', '집주인', '대위변제', '최대', '이자', '부담', '임차', '기존', '주택', '조건', '거주', '국토부', '설명', '국토부', '집주인', '대신', '세금', '경매', '신청', '주택', '직접', '낙찰', '주자', '부담', '전세', '공급', '임대주택', '주택', '경우', '현재', '낙찰', '가운데', '주택', '소유권', '확보', '하자', '수선', '후속', '절차', '주택', '매월', '임차', '모집', '공고', '시행', '설명', '앞서', '주자', '모집', '평균', '경쟁률', '기록', '주자', '모집', '진행', '예정', '국토교통부', '신축', '매입', '임대주택', '내년', '이상', '차질', '공급', '위해', '한국', '토지', '주택', '공사', '추진', '상황', '지속', '점검', '보완', '신축', '매입', '임대주택', '민간', '회사', '로부터', '신축', '매입', '시세', '임대', '공급', '주택', '국토부', '대책', '확대', '공급', '수도권', '집중', '공급', '침체', '비아', '파트', '시장', '정상화', '시장', '안정화', '기여', '그간', '정부', '여러', '차례', '신축', '매입', '임대', '활성화', '대책', '마련', '민간', '공급', '기반', '확충', '위해', '노력', '국토부', '사업', '추진', '속도', '위해', '역량', '공급', '기반', '차질', '작동', '적극', '협력', '강조', '신혼부부', '신규', '출산', '가구', '위해', '중형', '평형', '위주', '신축', '주택', '시세', '수준', '전세', '공급', '전세', '주자', '모집', '공고', '결과', '전국', '평균', '경쟁률', '지역', '경쟁률', '기록', '설명', '신규', '공급', '분양', '전환', '매입', '임대주택', '경우', '주자', '최소', '임대', '거주', '분양', '여부', '선택', '입지', '아파트', '포함', '중형', '평형', '위주', '매입', '최소', '공급', '계획', '지난', '이상', '인구', '가운데', '각종', '공적', '사적', '연금', '가지', '수급', '평균', '집계', '통계청', '이상', '인구', '가운데', '국민연금', '기초', '연금', '개인', '연금', '각종', '연금', '이상', '집계', '전보', '수급', '증가', '평균', '수급', '증가', '미만', '명꼴', '미만', '이상', '인구', '가운데', '연금', '사람', '다만', '가운데', '고액', '자산', '가도', '일부', '포함', '인구', '가운데', '연금', '가입자', '전보', '증가', '연금', '가입', '인구', '연금', '가입자', '평균', '보험료', '통계청', '통계', '수집', '기관', '일부', '보험료', '증감', '해석', '유의', '필요', '설명']\n",
            "{'국토교통부': 2, '세금': 2, '반환': 1, '보증': 1, '사고': 1, '주택': 14, '활용': 1, '전세': 4, '장기간': 1, '거주': 3, '확대': 2, '보완': 2, '국토부': 5, '신설': 2, '유형': 3, '관련': 1, '서울': 1, '인천': 1, '지사': 1, '통해': 1, '수도권': 2, '임대': 5, '대상': 1, '현장': 1, '방문': 1, '접수': 1, '실시': 1, '가운데': 7, '매입': 7, '추진': 3, '경매': 2, '진행': 2, '기존': 4, '집주인': 4, '대위변제': 2, '이내': 1, '협의': 1, '매수': 2, '매각': 1, '채무': 2, '대해': 1, '원금': 1, '상환': 2, '유예': 1, '경우': 3, '시점': 1, '권리': 1, '부여': 1, '방식': 1, '최대': 1, '이자': 1, '부담': 2, '임차': 2, '조건': 1, '설명': 4, '대신': 1, '신청': 1, '직접': 1, '낙찰': 2, '주자': 5, '공급': 10, '임대주택': 4, '현재': 1, '소유권': 1, '확보': 1, '하자': 1, '수선': 1, '후속': 1, '절차': 1, '매월': 1, '모집': 4, '공고': 2, '시행': 1, '앞서': 1, '평균': 5, '경쟁률': 3, '기록': 2, '예정': 1, '신축': 5, '내년': 1, '이상': 5, '차질': 2, '위해': 4, '한국': 1, '토지': 1, '공사': 1, '상황': 1, '지속': 1, '점검': 1, '민간': 2, '회사': 1, '로부터': 1, '시세': 2, '대책': 2, '집중': 1, '침체': 1, '비아': 1, '파트': 1, '시장': 2, '정상화': 1, '안정화': 1, '기여': 1, '그간': 1, '정부': 1, '여러': 1, '차례': 1, '활성화': 1, '마련': 1, '기반': 2, '확충': 1, '노력': 1, '사업': 1, '속도': 1, '역량': 1, '작동': 1, '적극': 1, '협력': 1, '강조': 1, '신혼부부': 1, '신규': 2, '출산': 1, '가구': 1, '중형': 2, '평형': 2, '위주': 2, '수준': 1, '결과': 1, '전국': 1, '지역': 1, '분양': 2, '전환': 1, '최소': 2, '여부': 1, '선택': 1, '입지': 1, '아파트': 1, '포함': 2, '계획': 1, '지난': 1, '인구': 5, '각종': 2, '공적': 1, '사적': 1, '연금': 8, '가지': 1, '수급': 3, '집계': 2, '통계청': 2, '국민연금': 1, '기초': 1, '개인': 1, '전보': 2, '증가': 3, '미만': 2, '명꼴': 1, '사람': 1, '다만': 1, '고액': 1, '자산': 1, '가도': 1, '일부': 2, '가입자': 2, '가입': 1, '보험료': 2, '통계': 1, '수집': 1, '기관': 1, '증감': 1, '해석': 1, '유의': 1, '필요': 1}\n"
          ]
        },
        {
          "output_type": "execute_result",
          "data": {
            "text/plain": [
              "[('주택', 14),\n",
              " ('공급', 10),\n",
              " ('연금', 8),\n",
              " ('가운데', 7),\n",
              " ('매입', 7),\n",
              " ('국토부', 5),\n",
              " ('임대', 5),\n",
              " ('주자', 5),\n",
              " ('평균', 5),\n",
              " ('신축', 5),\n",
              " ('이상', 5),\n",
              " ('인구', 5),\n",
              " ('전세', 4),\n",
              " ('기존', 4),\n",
              " ('집주인', 4),\n",
              " ('설명', 4),\n",
              " ('임대주택', 4),\n",
              " ('모집', 4),\n",
              " ('위해', 4),\n",
              " ('거주', 3),\n",
              " ('유형', 3),\n",
              " ('추진', 3),\n",
              " ('경우', 3),\n",
              " ('경쟁률', 3),\n",
              " ('수급', 3),\n",
              " ('증가', 3),\n",
              " ('국토교통부', 2),\n",
              " ('세금', 2),\n",
              " ('확대', 2),\n",
              " ('보완', 2),\n",
              " ('신설', 2),\n",
              " ('수도권', 2),\n",
              " ('경매', 2),\n",
              " ('진행', 2),\n",
              " ('대위변제', 2),\n",
              " ('매수', 2),\n",
              " ('채무', 2),\n",
              " ('상환', 2),\n",
              " ('부담', 2),\n",
              " ('임차', 2),\n",
              " ('낙찰', 2),\n",
              " ('공고', 2),\n",
              " ('기록', 2),\n",
              " ('차질', 2),\n",
              " ('민간', 2),\n",
              " ('시세', 2),\n",
              " ('대책', 2),\n",
              " ('시장', 2),\n",
              " ('기반', 2),\n",
              " ('신규', 2),\n",
              " ('중형', 2),\n",
              " ('평형', 2),\n",
              " ('위주', 2),\n",
              " ('분양', 2),\n",
              " ('최소', 2),\n",
              " ('포함', 2),\n",
              " ('각종', 2),\n",
              " ('집계', 2),\n",
              " ('통계청', 2),\n",
              " ('전보', 2),\n",
              " ('미만', 2),\n",
              " ('일부', 2),\n",
              " ('가입자', 2),\n",
              " ('보험료', 2),\n",
              " ('반환', 1),\n",
              " ('보증', 1),\n",
              " ('사고', 1),\n",
              " ('활용', 1),\n",
              " ('장기간', 1),\n",
              " ('관련', 1),\n",
              " ('서울', 1),\n",
              " ('인천', 1),\n",
              " ('지사', 1),\n",
              " ('통해', 1),\n",
              " ('대상', 1),\n",
              " ('현장', 1),\n",
              " ('방문', 1),\n",
              " ('접수', 1),\n",
              " ('실시', 1),\n",
              " ('이내', 1),\n",
              " ('협의', 1),\n",
              " ('매각', 1),\n",
              " ('대해', 1),\n",
              " ('원금', 1),\n",
              " ('유예', 1),\n",
              " ('시점', 1),\n",
              " ('권리', 1),\n",
              " ('부여', 1),\n",
              " ('방식', 1),\n",
              " ('최대', 1),\n",
              " ('이자', 1),\n",
              " ('조건', 1),\n",
              " ('대신', 1),\n",
              " ('신청', 1),\n",
              " ('직접', 1),\n",
              " ('현재', 1),\n",
              " ('소유권', 1),\n",
              " ('확보', 1),\n",
              " ('하자', 1),\n",
              " ('수선', 1),\n",
              " ('후속', 1),\n",
              " ('절차', 1),\n",
              " ('매월', 1),\n",
              " ('시행', 1),\n",
              " ('앞서', 1),\n",
              " ('예정', 1),\n",
              " ('내년', 1),\n",
              " ('한국', 1),\n",
              " ('토지', 1),\n",
              " ('공사', 1),\n",
              " ('상황', 1),\n",
              " ('지속', 1),\n",
              " ('점검', 1),\n",
              " ('회사', 1),\n",
              " ('로부터', 1),\n",
              " ('집중', 1),\n",
              " ('침체', 1),\n",
              " ('비아', 1),\n",
              " ('파트', 1),\n",
              " ('정상화', 1),\n",
              " ('안정화', 1),\n",
              " ('기여', 1),\n",
              " ('그간', 1),\n",
              " ('정부', 1),\n",
              " ('여러', 1),\n",
              " ('차례', 1),\n",
              " ('활성화', 1),\n",
              " ('마련', 1),\n",
              " ('확충', 1),\n",
              " ('노력', 1),\n",
              " ('사업', 1),\n",
              " ('속도', 1),\n",
              " ('역량', 1),\n",
              " ('작동', 1),\n",
              " ('적극', 1),\n",
              " ('협력', 1),\n",
              " ('강조', 1),\n",
              " ('신혼부부', 1),\n",
              " ('출산', 1),\n",
              " ('가구', 1),\n",
              " ('수준', 1),\n",
              " ('결과', 1),\n",
              " ('전국', 1),\n",
              " ('지역', 1),\n",
              " ('전환', 1),\n",
              " ('여부', 1),\n",
              " ('선택', 1),\n",
              " ('입지', 1),\n",
              " ('아파트', 1),\n",
              " ('계획', 1),\n",
              " ('지난', 1),\n",
              " ('공적', 1),\n",
              " ('사적', 1),\n",
              " ('가지', 1),\n",
              " ('국민연금', 1),\n",
              " ('기초', 1),\n",
              " ('개인', 1),\n",
              " ('명꼴', 1),\n",
              " ('사람', 1),\n",
              " ('다만', 1),\n",
              " ('고액', 1),\n",
              " ('자산', 1),\n",
              " ('가도', 1),\n",
              " ('가입', 1),\n",
              " ('통계', 1),\n",
              " ('수집', 1),\n",
              " ('기관', 1),\n",
              " ('증감', 1),\n",
              " ('해석', 1),\n",
              " ('유의', 1),\n",
              " ('필요', 1)]"
            ]
          },
          "metadata": {},
          "execution_count": 35
        }
      ]
    },
    {
      "cell_type": "code",
      "source": [
        "!sudo apt-get install -y fonts-nanum\n",
        "!sudo fc-cache -fv\n",
        "!rm ~/.cache/matplotlib -rf"
      ],
      "metadata": {
        "colab": {
          "base_uri": "https://localhost:8080/"
        },
        "id": "MyfvRGpkKdl7",
        "outputId": "e71e0d71-b3c8-48c7-b235-b8c16bd5dca3"
      },
      "execution_count": null,
      "outputs": [
        {
          "output_type": "stream",
          "name": "stdout",
          "text": [
            "Reading package lists... Done\n",
            "Building dependency tree... Done\n",
            "Reading state information... Done\n",
            "fonts-nanum is already the newest version (20200506-1).\n",
            "0 upgraded, 0 newly installed, 0 to remove and 45 not upgraded.\n",
            "/usr/share/fonts: caching, new cache contents: 0 fonts, 1 dirs\n",
            "/usr/share/fonts/truetype: caching, new cache contents: 0 fonts, 3 dirs\n",
            "/usr/share/fonts/truetype/humor-sans: caching, new cache contents: 1 fonts, 0 dirs\n",
            "/usr/share/fonts/truetype/liberation: caching, new cache contents: 16 fonts, 0 dirs\n",
            "/usr/share/fonts/truetype/nanum: caching, new cache contents: 12 fonts, 0 dirs\n",
            "/usr/local/share/fonts: caching, new cache contents: 0 fonts, 0 dirs\n",
            "/root/.local/share/fonts: skipping, no such directory\n",
            "/root/.fonts: skipping, no such directory\n",
            "/usr/share/fonts/truetype: skipping, looped directory detected\n",
            "/usr/share/fonts/truetype/humor-sans: skipping, looped directory detected\n",
            "/usr/share/fonts/truetype/liberation: skipping, looped directory detected\n",
            "/usr/share/fonts/truetype/nanum: skipping, looped directory detected\n",
            "/var/cache/fontconfig: cleaning cache directory\n",
            "/root/.cache/fontconfig: not cleaning non-existent cache directory\n",
            "/root/.fontconfig: not cleaning non-existent cache directory\n",
            "fc-cache: succeeded\n"
          ]
        }
      ]
    },
    {
      "cell_type": "code",
      "source": [
        "# 코렙에 한글폰트 설치하기\n",
        "import sys\n",
        "\n",
        "# Google Colab 환경에서 실행 중인지 확인\n",
        "if 'google.colab' in sys.modules:\n",
        "    # debconf를 Noninteractive 모드로 설정\n",
        "    !echo 'debconf debconf/frontend select Noninteractive' | \\\n",
        "    debconf-set-selections\n",
        "\n",
        "    # fonts-nanum 패키지를 설치\n",
        "    !sudo apt-get -qq -y install fonts-nanum\n",
        "\n",
        "    # Matplotlib의 폰트 매니저 가져오기\n",
        "    import matplotlib.font_manager as fm\n",
        "\n",
        "    # 나눔 폰트의 시스템 경로 찾기\n",
        "    font_files = fm.findSystemFonts(fontpaths=['/usr/share/fonts/truetype/nanum'])\n",
        "\n",
        "    # 찾은 각 나눔 폰트를 Matplotlib 폰트 매니저에 추가\n",
        "    for fpath in font_files:\n",
        "      print(fpath)  # 설치된 폰트 확인\n",
        "      fm.fontManager.addfont(fpath)"
      ],
      "metadata": {
        "colab": {
          "base_uri": "https://localhost:8080/"
        },
        "id": "PPFU5eL_eN30",
        "outputId": "1ba7d494-e0e9-4d27-d2f1-895a9179bc46"
      },
      "execution_count": null,
      "outputs": [
        {
          "output_type": "stream",
          "name": "stdout",
          "text": [
            "/usr/share/fonts/truetype/nanum/NanumGothicBold.ttf\n",
            "/usr/share/fonts/truetype/nanum/NanumSquareRoundR.ttf\n",
            "/usr/share/fonts/truetype/nanum/NanumSquareRoundB.ttf\n",
            "/usr/share/fonts/truetype/nanum/NanumMyeongjo.ttf\n",
            "/usr/share/fonts/truetype/nanum/NanumGothicCodingBold.ttf\n",
            "/usr/share/fonts/truetype/nanum/NanumSquareB.ttf\n",
            "/usr/share/fonts/truetype/nanum/NanumGothic.ttf\n",
            "/usr/share/fonts/truetype/nanum/NanumBarunGothicBold.ttf\n",
            "/usr/share/fonts/truetype/nanum/NanumMyeongjoBold.ttf\n",
            "/usr/share/fonts/truetype/nanum/NanumSquareR.ttf\n",
            "/usr/share/fonts/truetype/nanum/NanumBarunGothic.ttf\n",
            "/usr/share/fonts/truetype/nanum/NanumGothicCoding.ttf\n"
          ]
        }
      ]
    },
    {
      "cell_type": "code",
      "source": [
        "from wordcloud import WordCloud\n",
        "import matplotlib.pyplot as plt\n",
        "#한글 폰트 - 위에서 출력한 한글폰트중에 하나 선택\n",
        "hangle_fonth_path = '/usr/share/fonts/truetype/nanum/NanumGothic.ttf'\n",
        "w = WordCloud(font_path=hangle_fonth_path).generate_from_frequencies(word_count)\n",
        "plt.imshow(w)\n",
        "plt.axis('off')\n",
        "plt.show()"
      ],
      "metadata": {
        "colab": {
          "base_uri": "https://localhost:8080/",
          "height": 285
        },
        "id": "MZfY33zlJSVH",
        "outputId": "bd3cec38-5209-46a2-fa25-b4d448c30a7f"
      },
      "execution_count": null,
      "outputs": [
        {
          "output_type": "display_data",
          "data": {
            "text/plain": [
              "<Figure size 640x480 with 1 Axes>"
            ],
            "image/png": "[encoded data removed]"
          },
          "metadata": {}
        }
      ]
    },
    {
      "cell_type": "markdown",
      "source": [
        "함수\n",
        " - 호출 : call\n",
        " - 매개변수\n",
        " - 리턴값"
      ],
      "metadata": {
        "id": "q6BIDP7geACL"
      }
    },
    {
      "cell_type": "code",
      "source": [
        "def print_3_times(): # 함수 형태를 위해 뒤에 () 꼭 붙이기\n",
        "  print('안녕하세요')\n",
        "  print('안녕하세요')\n",
        "  print('안녕하세요')\n",
        "\n",
        "print_3_times()"
      ],
      "metadata": {
        "colab": {
          "base_uri": "https://localhost:8080/"
        },
        "id": "XnHmU7CDND9G",
        "outputId": "8b5024aa-ad32-414d-9f45-814078661aa2"
      },
      "execution_count": null,
      "outputs": [
        {
          "output_type": "stream",
          "name": "stdout",
          "text": [
            "안녕하세요\n",
            "안녕하세요\n",
            "안녕하세요\n"
          ]
        }
      ]
    },
    {
      "cell_type": "code",
      "source": [
        "help(print)"
      ],
      "metadata": {
        "colab": {
          "base_uri": "https://localhost:8080/"
        },
        "id": "ijtdHJ0ohBDw",
        "outputId": "13145273-5ae0-446a-da1b-131e929693a8"
      },
      "execution_count": null,
      "outputs": [
        {
          "output_type": "stream",
          "name": "stdout",
          "text": [
            "Help on built-in function print in module builtins:\n",
            "\n",
            "print(...)\n",
            "    print(value, ..., sep=' ', end='\\n', file=sys.stdout, flush=False)\n",
            "    \n",
            "    Prints the values to a stream, or to sys.stdout by default.\n",
            "    Optional keyword arguments:\n",
            "    file:  a file-like object (stream); defaults to the current sys.stdout.\n",
            "    sep:   string inserted between values, default a space.\n",
            "    end:   string appended after the last value, default a newline.\n",
            "    flush: whether to forcibly flush the stream.\n",
            "\n"
          ]
        }
      ]
    },
    {
      "cell_type": "code",
      "source": [
        "def print_n_times(value, n):\n",
        "  for i in range(n):\n",
        "    print(value)\n",
        "# 코드 재활용\n",
        "\n",
        "print_n_times(\"안녕하세요\", 5)"
      ],
      "metadata": {
        "colab": {
          "base_uri": "https://localhost:8080/"
        },
        "id": "NwMD3WkVhSzF",
        "outputId": "a884e6bb-c1a7-418a-fefe-f0f5801c595f"
      },
      "execution_count": null,
      "outputs": [
        {
          "output_type": "stream",
          "name": "stdout",
          "text": [
            "안녕하세요\n",
            "안녕하세요\n",
            "안녕하세요\n",
            "안녕하세요\n",
            "안녕하세요\n"
          ]
        }
      ]
    },
    {
      "cell_type": "code",
      "source": [
        "def print_n_times(value, n):\n",
        "  for i in range(n):\n",
        "    print(value)\n",
        "# 코드 재활용\n",
        "\n",
        "print_n_times(\"안녕하세요\")\n",
        "\n",
        "# positional argument :  위치 정해져 있음\n",
        "# positional argument 아닌 것들은 생략 가능함\n",
        "# 함수 설계 시 써주는 변수는 positional\n"
      ],
      "metadata": {
        "colab": {
          "base_uri": "https://localhost:8080/",
          "height": 183
        },
        "id": "icYmugbHhrTB",
        "outputId": "698d7669-4887-4002-fe3b-edf721465d10"
      },
      "execution_count": null,
      "outputs": [
        {
          "output_type": "error",
          "ename": "TypeError",
          "evalue": "print_n_times() missing 1 required positional argument: 'n'",
          "traceback": [
            "\u001b[0;31m---------------------------------------------------------------------------\u001b[0m",
            "\u001b[0;31mTypeError\u001b[0m                                 Traceback (most recent call last)",
            "\u001b[0;32m<ipython-input-51-9a5e7b1d94a5>\u001b[0m in \u001b[0;36m<cell line: 6>\u001b[0;34m()\u001b[0m\n\u001b[1;32m      4\u001b[0m \u001b[0;31m# 코드 재활용\u001b[0m\u001b[0;34m\u001b[0m\u001b[0;34m\u001b[0m\u001b[0m\n\u001b[1;32m      5\u001b[0m \u001b[0;34m\u001b[0m\u001b[0m\n\u001b[0;32m----> 6\u001b[0;31m \u001b[0mprint_n_times\u001b[0m\u001b[0;34m(\u001b[0m\u001b[0;34m\"안녕하세요\"\u001b[0m\u001b[0;34m)\u001b[0m\u001b[0;34m\u001b[0m\u001b[0;34m\u001b[0m\u001b[0m\n\u001b[0m",
            "\u001b[0;31mTypeError\u001b[0m: print_n_times() missing 1 required positional argument: 'n'"
          ]
        }
      ]
    },
    {
      "cell_type": "code",
      "source": [
        "# 구구단\n",
        "\n",
        "def gugudan_dan(dan):\n",
        "  for i in range(1, 10):\n",
        "    print(f'{dan} * {i} = {dan*i}')\n",
        "\n",
        "for i in range(2, 10, 2):\n",
        "  gugudan_dan(i)\n",
        "  print('-'*50)"
      ],
      "metadata": {
        "colab": {
          "base_uri": "https://localhost:8080/"
        },
        "id": "eYQgU14viNpV",
        "outputId": "e47276f0-0af8-439c-ea15-3defbf1350e8"
      },
      "execution_count": null,
      "outputs": [
        {
          "output_type": "stream",
          "name": "stdout",
          "text": [
            "2 * 1 = 2\n",
            "2 * 2 = 4\n",
            "2 * 3 = 6\n",
            "2 * 4 = 8\n",
            "2 * 5 = 10\n",
            "2 * 6 = 12\n",
            "2 * 7 = 14\n",
            "2 * 8 = 16\n",
            "2 * 9 = 18\n",
            "--------------------------------------------------\n",
            "4 * 1 = 4\n",
            "4 * 2 = 8\n",
            "4 * 3 = 12\n",
            "4 * 4 = 16\n",
            "4 * 5 = 20\n",
            "4 * 6 = 24\n",
            "4 * 7 = 28\n",
            "4 * 8 = 32\n",
            "4 * 9 = 36\n",
            "--------------------------------------------------\n",
            "6 * 1 = 6\n",
            "6 * 2 = 12\n",
            "6 * 3 = 18\n",
            "6 * 4 = 24\n",
            "6 * 5 = 30\n",
            "6 * 6 = 36\n",
            "6 * 7 = 42\n",
            "6 * 8 = 48\n",
            "6 * 9 = 54\n",
            "--------------------------------------------------\n",
            "8 * 1 = 8\n",
            "8 * 2 = 16\n",
            "8 * 3 = 24\n",
            "8 * 4 = 32\n",
            "8 * 5 = 40\n",
            "8 * 6 = 48\n",
            "8 * 7 = 56\n",
            "8 * 8 = 64\n",
            "8 * 9 = 72\n",
            "--------------------------------------------------\n"
          ]
        }
      ]
    },
    {
      "cell_type": "code",
      "source": [
        "# choice_num_list = []\n",
        "# while True:\n",
        "#   print('1.짜장\\t\\t 3.우동')\n",
        "#   print('2.짬뽕\\t\\t 4.탕수육')\n",
        "#   print('종료는 1~4를 제외한 번호를 누르면 정산이 됩니다.')\n",
        "\n",
        "#   menu = int(input('메뉴를 선택하세요'))\n",
        "#   if menu > 4 or menu < 1:\n",
        "#     break\n",
        "#   else:\n",
        "#     choice_num_list.append(menu)\n",
        "#     print(f'{menu} 선택하였습니다.')\n",
        "#     print('-' * 50)\n",
        "# print('정산을 시작합니다.')\n",
        "# print(choice_num_list)\n",
        "\n",
        "# jungSan = {}\n",
        "# for i in choice_num_list:\n",
        "#   if i in jungSan:\n",
        "#     jungSan[i] += 1\n",
        "#   else:\n",
        "#     jungSan[i] = 1\n",
        "# print(jungSan) # {1:5, 2:2}\n",
        "# price_list = [None, 8000, 9000, 8000, 10000]\n",
        "# total_price = 0\n",
        "# for key, value in jungSan.items():\n",
        "#   total_price += price_list[key]*value\n",
        "# print(total_price)\n",
        "\n",
        "\n",
        "\n",
        "'''\n",
        "의사코드\n",
        "while T:\n",
        "  displayMenu()\n",
        "  menu = input()\n",
        "  list.append(menu)\n",
        "  if 조건:\n",
        "    bredk\n",
        "\n",
        "메뉴별 카운트\n",
        "메뉴벌 가격을 리스ㅡ로\n",
        "menudict\n",
        "'''\n",
        "\n",
        "def displayMenu():\n",
        "  print('1.짜장\\t\\t 3.우동')\n",
        "  print('2.짬뽕\\t\\t 4.탕수육')\n",
        "  print('종료는 1~4를 제외한 번호를 누르면 정산이 됩니다.')\n",
        "\n",
        "def getMenu():\n",
        "  menu = int(input('메뉴를 선택하세요'))\n",
        "  if menu > 4 or menu < 1:\n",
        "    return False\n",
        "  return menu\n",
        "\n",
        "# 리스트를 받았을 때 해당 리스트의 숫자를 카운트를 해서 dictionary 형태로 변환\n",
        "def countList(list):\n",
        "  jungSan = {}\n",
        "  for i in choice_num_list:\n",
        "    if i in jungSan:\n",
        "      jungSan[i] += 1\n",
        "    else:\n",
        "      jungSan[i] = 1\n",
        "\n",
        "  print(jungSan) # {1:5, 2:2}\n",
        "  price_list = [None, 8000, 9000, 8000, 10000]\n",
        "  total_price = 0\n",
        "  for key, value in jungSan.items():\n",
        "    total_price += price_list[key]*value\n",
        "  print(total_price)"
      ],
      "metadata": {
        "id": "cdjMMZEuix5H"
      },
      "execution_count": null,
      "outputs": []
    },
    {
      "cell_type": "code",
      "source": [
        "result = []\n",
        "def accumulate_menu():\n",
        "  while True:\n",
        "    displayMenu()\n",
        "    menu = getMenu()\n",
        "    if not menu:\n",
        "      countList(result)\n",
        "      break\n",
        "    result.append(menu)\n",
        "    print(f'{menu} 선택하였습니다.')\n",
        "    print('-' * 50)\n",
        "  return result\n",
        "\n",
        "def getTotalPrice(result):\n",
        "  counter_dict = countList(result)\n",
        "  price_list = [None, 8000, 9000, 8000, 10000]\n",
        "  total_price = 0\n",
        "  for key, value in jungSan.items():\n",
        "    total_price += price_list[key]*value\n",
        "  return total_price"
      ],
      "metadata": {
        "id": "PHZ1RdIOly6X"
      },
      "execution_count": null,
      "outputs": []
    },
    {
      "cell_type": "code",
      "source": [
        "result = accumulate_menu()\n",
        "total_price = getTotalPrice(result)\n",
        "print(f'오늘 총 매출은 : {total_price}입니다.')"
      ],
      "metadata": {
        "colab": {
          "base_uri": "https://localhost:8080/"
        },
        "id": "jIWiMcJvmJZs",
        "outputId": "2874c4ff-74ac-441b-801c-47dd6747212e"
      },
      "execution_count": null,
      "outputs": [
        {
          "output_type": "stream",
          "name": "stdout",
          "text": [
            "1.짜장\t\t 3.우동\n",
            "2.짬뽕\t\t 4.탕수육\n",
            "종료는 1~4를 제외한 번호를 누르면 정산이 됩니다.\n",
            "메뉴를 선택하세요1\n",
            "1 선택하였습니다.\n",
            "--------------------------------------------------\n",
            "1.짜장\t\t 3.우동\n",
            "2.짬뽕\t\t 4.탕수육\n",
            "종료는 1~4를 제외한 번호를 누르면 정산이 됩니다.\n",
            "메뉴를 선택하세요2\n",
            "2 선택하였습니다.\n",
            "--------------------------------------------------\n",
            "1.짜장\t\t 3.우동\n",
            "2.짬뽕\t\t 4.탕수육\n",
            "종료는 1~4를 제외한 번호를 누르면 정산이 됩니다.\n",
            "메뉴를 선택하세요3\n",
            "3 선택하였습니다.\n",
            "--------------------------------------------------\n",
            "1.짜장\t\t 3.우동\n",
            "2.짬뽕\t\t 4.탕수육\n",
            "종료는 1~4를 제외한 번호를 누르면 정산이 됩니다.\n",
            "메뉴를 선택하세요4\n",
            "4 선택하였습니다.\n",
            "--------------------------------------------------\n",
            "1.짜장\t\t 3.우동\n",
            "2.짬뽕\t\t 4.탕수육\n",
            "종료는 1~4를 제외한 번호를 누르면 정산이 됩니다.\n",
            "메뉴를 선택하세요5\n",
            "{2: 2, 3: 1, 4: 1}\n",
            "36000\n",
            "{2: 2, 3: 1, 4: 1}\n",
            "36000\n",
            "오늘 총 매출은 : 72000입니다.\n"
          ]
        }
      ]
    },
    {
      "cell_type": "code",
      "source": [
        "# 가변 매개변수 <-> positional 매개변수\n",
        "\n",
        "def print_n_times(n, *values): # 가변 매개변수 뒤에는 positional 매개변수 올 수 없음 주의\n",
        "  for i in range(n):\n",
        "    for value in values: # 리스트로 판단하여 저장\n",
        "      print(value)\n",
        "    print()\n",
        "\n",
        "print_n_times(3, '안녕하세요', '즐거운', '파이썬')"
      ],
      "metadata": {
        "colab": {
          "base_uri": "https://localhost:8080/"
        },
        "id": "O3frfBFIoHCG",
        "outputId": "fa9b73c9-0223-4664-c254-cf4fd2e229cf"
      },
      "execution_count": null,
      "outputs": [
        {
          "output_type": "stream",
          "name": "stdout",
          "text": [
            "안녕하세요\n",
            "즐거운\n",
            "파이썬\n",
            "\n",
            "안녕하세요\n",
            "즐거운\n",
            "파이썬\n",
            "\n",
            "안녕하세요\n",
            "즐거운\n",
            "파이썬\n",
            "\n"
          ]
        }
      ]
    },
    {
      "cell_type": "code",
      "source": [
        "# 가변 매개변수 적용 - 함수 내부에서 리스트 변수로 받아서 사용\n",
        "def add_all(x,*args):\n",
        "  # result = 0\n",
        "  # for i in args:\n",
        "  #   result += i\n",
        "  result = sum(args)\n",
        "  return result\n",
        "# 리스트로 받아서 넘길 수 있어 잘 사용하지는 않음"
      ],
      "metadata": {
        "id": "T89Gh_Qgooqj"
      },
      "execution_count": null,
      "outputs": []
    },
    {
      "cell_type": "code",
      "source": [
        "add_all(1,2,3,4,5,6,7,8,9,10)"
      ],
      "metadata": {
        "colab": {
          "base_uri": "https://localhost:8080/"
        },
        "id": "I1wSzPchstek",
        "outputId": "b5e6ef6c-15ed-4367-e15f-775ab72751a1"
      },
      "execution_count": null,
      "outputs": [
        {
          "output_type": "execute_result",
          "data": {
            "text/plain": [
              "54"
            ]
          },
          "metadata": {},
          "execution_count": 72
        }
      ]
    },
    {
      "cell_type": "code",
      "source": [
        "# 기본 매개변수\n",
        "def print_n_times(value, n=2):\n",
        "  for i in range(n):\n",
        "    print(value)\n",
        "\n",
        "print_n_times('안녕하세요') # 순서대로 들어가기 때문에 변수 순서가 바뀌면 에러"
      ],
      "metadata": {
        "colab": {
          "base_uri": "https://localhost:8080/"
        },
        "id": "Tng_y-B1swU0",
        "outputId": "18d2945c-d36d-4bf8-9206-11128b65c43d"
      },
      "execution_count": null,
      "outputs": [
        {
          "output_type": "stream",
          "name": "stdout",
          "text": [
            "안녕하세요\n",
            "안녕하세요\n"
          ]
        }
      ]
    },
    {
      "cell_type": "code",
      "source": [
        "def print_n_times(n=2,*values):\n",
        "  for i in range(n):\n",
        "    for value in values:\n",
        "      print(value)\n",
        "    print()\n",
        "\n",
        "print_n_times('안녕하세요', '즐거운', '파이썬') # 순서대로 들어가기 때문에 에러, 생략 불가능"
      ],
      "metadata": {
        "colab": {
          "base_uri": "https://localhost:8080/",
          "height": 311
        },
        "id": "wNEoLESHtzHv",
        "outputId": "92b0b135-67ef-45df-e691-2a1d664e6b62"
      },
      "execution_count": null,
      "outputs": [
        {
          "output_type": "error",
          "ename": "TypeError",
          "evalue": "'str' object cannot be interpreted as an integer",
          "traceback": [
            "\u001b[0;31m---------------------------------------------------------------------------\u001b[0m",
            "\u001b[0;31mTypeError\u001b[0m                                 Traceback (most recent call last)",
            "\u001b[0;32m<ipython-input-75-ea49710553db>\u001b[0m in \u001b[0;36m<cell line: 7>\u001b[0;34m()\u001b[0m\n\u001b[1;32m      5\u001b[0m     \u001b[0mprint\u001b[0m\u001b[0;34m(\u001b[0m\u001b[0;34m)\u001b[0m\u001b[0;34m\u001b[0m\u001b[0;34m\u001b[0m\u001b[0m\n\u001b[1;32m      6\u001b[0m \u001b[0;34m\u001b[0m\u001b[0m\n\u001b[0;32m----> 7\u001b[0;31m \u001b[0mprint_n_times\u001b[0m\u001b[0;34m(\u001b[0m\u001b[0;34m'안녕하세요'\u001b[0m\u001b[0;34m,\u001b[0m \u001b[0;34m'즐거운'\u001b[0m\u001b[0;34m,\u001b[0m \u001b[0;34m'파이썬'\u001b[0m\u001b[0;34m)\u001b[0m\u001b[0;34m\u001b[0m\u001b[0;34m\u001b[0m\u001b[0m\n\u001b[0m",
            "\u001b[0;32m<ipython-input-75-ea49710553db>\u001b[0m in \u001b[0;36mprint_n_times\u001b[0;34m(n, *values)\u001b[0m\n\u001b[1;32m      1\u001b[0m \u001b[0;32mdef\u001b[0m \u001b[0mprint_n_times\u001b[0m\u001b[0;34m(\u001b[0m\u001b[0mn\u001b[0m\u001b[0;34m=\u001b[0m\u001b[0;36m2\u001b[0m\u001b[0;34m,\u001b[0m\u001b[0;34m*\u001b[0m\u001b[0mvalues\u001b[0m\u001b[0;34m)\u001b[0m\u001b[0;34m:\u001b[0m\u001b[0;34m\u001b[0m\u001b[0;34m\u001b[0m\u001b[0m\n\u001b[0;32m----> 2\u001b[0;31m   \u001b[0;32mfor\u001b[0m \u001b[0mi\u001b[0m \u001b[0;32min\u001b[0m \u001b[0mrange\u001b[0m\u001b[0;34m(\u001b[0m\u001b[0mn\u001b[0m\u001b[0;34m)\u001b[0m\u001b[0;34m:\u001b[0m\u001b[0;34m\u001b[0m\u001b[0;34m\u001b[0m\u001b[0m\n\u001b[0m\u001b[1;32m      3\u001b[0m     \u001b[0;32mfor\u001b[0m \u001b[0mvalue\u001b[0m \u001b[0;32min\u001b[0m \u001b[0mvalues\u001b[0m\u001b[0;34m:\u001b[0m\u001b[0;34m\u001b[0m\u001b[0;34m\u001b[0m\u001b[0m\n\u001b[1;32m      4\u001b[0m       \u001b[0mprint\u001b[0m\u001b[0;34m(\u001b[0m\u001b[0mvalue\u001b[0m\u001b[0;34m)\u001b[0m\u001b[0;34m\u001b[0m\u001b[0;34m\u001b[0m\u001b[0m\n\u001b[1;32m      5\u001b[0m     \u001b[0mprint\u001b[0m\u001b[0;34m(\u001b[0m\u001b[0;34m)\u001b[0m\u001b[0;34m\u001b[0m\u001b[0;34m\u001b[0m\u001b[0m\n",
            "\u001b[0;31mTypeError\u001b[0m: 'str' object cannot be interpreted as an integer"
          ]
        }
      ]
    },
    {
      "cell_type": "code",
      "source": [
        "def print_n_times(*values, n=2):\n",
        "  for i in range(n):\n",
        "    for value in values:\n",
        "      print(value)\n",
        "    print()\n",
        "\n",
        "print_n_times('안녕하세요', '즐거운', '파이썬', 3) # n에 값을 할당할 수 없음"
      ],
      "metadata": {
        "colab": {
          "base_uri": "https://localhost:8080/"
        },
        "id": "AcTbu5OAuuBv",
        "outputId": "8fdc088f-1cd7-4be0-f11e-465aa09bc84f"
      },
      "execution_count": null,
      "outputs": [
        {
          "output_type": "stream",
          "name": "stdout",
          "text": [
            "안녕하세요\n",
            "즐거운\n",
            "파이썬\n",
            "3\n",
            "\n",
            "안녕하세요\n",
            "즐거운\n",
            "파이썬\n",
            "3\n",
            "\n"
          ]
        }
      ]
    },
    {
      "cell_type": "code",
      "source": [
        "def myFunction(x, y, a=0, b=0, c=0, d=0, e=0, f=0):\n",
        "  print(f'x : {x}')\n",
        "  print(f'y : {y}')\n",
        "  print(f'a : {a}')\n",
        "  print(f'b : {b}')\n",
        "  print(f'c : {c}')\n",
        "  print(f'd : {d}')\n",
        "  print(f'e : {e}')\n",
        "  print(f'f : {f}')\n",
        "\n",
        "# myFunction(b=1,a=2,c=3) # keyword를 주면 원하는 곳에 넣을 수 있음\n",
        "\n",
        "# 나는 d와 f만 원하는 값으로 호출하고 싶다\n",
        "myFunction(1,2,d=10,f=4) # 복잡한 parameter를 가지는 함수들은 필수적인 옵션은 포지션, 나머지는 기본으로 세팅"
      ],
      "metadata": {
        "colab": {
          "base_uri": "https://localhost:8080/"
        },
        "id": "1P3_Y7M7viRC",
        "outputId": "5a95fc1d-5e6e-48ef-83ab-427bf3efe401"
      },
      "execution_count": null,
      "outputs": [
        {
          "output_type": "stream",
          "name": "stdout",
          "text": [
            "x : 1\n",
            "y : 2\n",
            "a : 0\n",
            "b : 0\n",
            "c : 0\n",
            "d : 10\n",
            "e : 0\n",
            "f : 4\n"
          ]
        }
      ]
    },
    {
      "cell_type": "code",
      "source": [
        "# 딕셔너리 이용\n",
        "params = {\n",
        "    'd' : 1,\n",
        "    'e' : 2,\n",
        "    'f' : 3\n",
        "}\n",
        "myFunction(10,20,**params)"
      ],
      "metadata": {
        "colab": {
          "base_uri": "https://localhost:8080/"
        },
        "id": "klZZ8XGRv9Zz",
        "outputId": "76c55851-c1d4-46ab-e2c4-e501d13c81c3"
      },
      "execution_count": null,
      "outputs": [
        {
          "output_type": "stream",
          "name": "stdout",
          "text": [
            "x : 10\n",
            "y : 20\n",
            "a : 0\n",
            "b : 0\n",
            "c : 0\n",
            "d : 1\n",
            "e : 2\n",
            "f : 3\n"
          ]
        }
      ]
    },
    {
      "cell_type": "code",
      "source": [
        "def print_n_times(*values, n=2):\n",
        "  for i in range(n):\n",
        "    for value in values:\n",
        "      print(value)\n",
        "    print()\n",
        "\n",
        "print_n_times('안녕하세요', '즐거운', '파이썬', n = 3) # n에 값을 지정"
      ],
      "metadata": {
        "colab": {
          "base_uri": "https://localhost:8080/"
        },
        "id": "0PdAL0Kqx9be",
        "outputId": "0c77bb21-0369-4777-acd2-47958f90d64d"
      },
      "execution_count": null,
      "outputs": [
        {
          "output_type": "stream",
          "name": "stdout",
          "text": [
            "안녕하세요\n",
            "즐거운\n",
            "파이썬\n",
            "\n",
            "안녕하세요\n",
            "즐거운\n",
            "파이썬\n",
            "\n",
            "안녕하세요\n",
            "즐거운\n",
            "파이썬\n",
            "\n"
          ]
        }
      ]
    },
    {
      "cell_type": "code",
      "source": [
        "# 리턴\n",
        "def return_test():\n",
        "  print(\"A 위치입니다\")\n",
        "  return\n",
        "  print(\"B 위치입니다\")\n",
        "\n",
        "return_test()\n",
        "print(return_test())"
      ],
      "metadata": {
        "colab": {
          "base_uri": "https://localhost:8080/"
        },
        "id": "_kvvA1dwyLNq",
        "outputId": "a70cb56c-b274-4480-9bcd-d343e8ad66ff"
      },
      "execution_count": null,
      "outputs": [
        {
          "output_type": "stream",
          "name": "stdout",
          "text": [
            "A 위치입니다\n",
            "A 위치입니다\n",
            "None\n"
          ]
        }
      ]
    },
    {
      "cell_type": "code",
      "source": [
        "def mul(*values):\n",
        "  result = 1\n",
        "  for i in values:\n",
        "    result *= i\n",
        "  return result\n",
        "\n",
        "mul(5, 7, 9, 10)"
      ],
      "metadata": {
        "colab": {
          "base_uri": "https://localhost:8080/"
        },
        "id": "v1SzhKm6ypor",
        "outputId": "012d47d2-2def-4a78-e3b3-ca7ade2c392e"
      },
      "execution_count": null,
      "outputs": [
        {
          "output_type": "execute_result",
          "data": {
            "text/plain": [
              "3150"
            ]
          },
          "metadata": {},
          "execution_count": 95
        }
      ]
    },
    {
      "cell_type": "markdown",
      "source": [
        "함수 연습\n",
        "  - 기본모양 만들기\n",
        "   - 매개변수가 있고 없고 리턴값 있고 없고\n",
        "  - 다양한 매개변수\n",
        "   - positional argument\n",
        "   - 기본 매개변수\n",
        "   - 가변 매개변수\n",
        "   - 키워드 가변매개변수"
      ],
      "metadata": {
        "id": "v0TNhouB5JgN"
      }
    },
    {
      "cell_type": "code",
      "source": [
        "# 매개변수 있고 리턴 없는 경우\n",
        "def greeting(name):\n",
        "  print(f'안녕하세요 {name} 고객님')\n",
        "\n",
        "# 매개변수 없고 리턴은 있는 경우\n",
        "import time\n",
        "def get_time():\n",
        "  return time.strftime('%Y-%m-%d %H:%M:%S')\n",
        "\n",
        "# 매개변수 없고 리턴 없는 경우\n",
        "def get_time():\n",
        "  print(time.strftime('%Y-%m-%d %H:%M:%S'))"
      ],
      "metadata": {
        "id": "k0QUy-ZM2KL1"
      },
      "execution_count": null,
      "outputs": []
    },
    {
      "cell_type": "code",
      "source": [
        "# 기본매개변수 - 오른쪽부터 채운다\n",
        "def func1(a,b=0,c=0,d=0,e=0):\n",
        "  print(a,b,c,d,e)\n",
        "\n",
        "# 가변매개변수 : 전달하는 값을 리스트화 해서 하나의 변수로 받는다\n",
        "def func2(*args,a):\n",
        "  for i in args:\n",
        "    print(i)\n",
        "\n",
        "func2(1,2,3, a=100) # 가능\n",
        "#func2(1,2,3,100) # 불가능 a변수에 전달할 수 없다\n",
        "\n",
        "def func3(**args):\n",
        "  '''**args는 딕셔너리 형태로 전달된다'''\n",
        "  for key, value in args.items():\n",
        "    print(key, value)\n",
        "# 받는방법 1\n",
        "func3(a=1,b=2,c=3)\n",
        "\n",
        "# 받는방법 2\n",
        "args = {\n",
        "    'a' : 1,\n",
        "    'b' : 2,\n",
        "    'c' : 3,\n",
        "    'd' : 4,\n",
        "    'e' : 5\n",
        "} # 주로 딕셔너리 형태로 받는 경우가 많음, 값이 많을 때, 사용자에게서 받을 때 등\n",
        "func3(**args) # 딕셔너리를 풀어서 전달; (a=1, b=2, c=3, d=4, e=5)"
      ],
      "metadata": {
        "colab": {
          "base_uri": "https://localhost:8080/"
        },
        "id": "cz3hS2Pw6KJp",
        "outputId": "fdfe2b11-fcbb-4477-f792-e8b1e12825d5"
      },
      "execution_count": null,
      "outputs": [
        {
          "output_type": "stream",
          "name": "stdout",
          "text": [
            "1\n",
            "2\n",
            "3\n",
            "a 1\n",
            "b 2\n",
            "c 3\n",
            "a 1\n",
            "b 2\n",
            "c 3\n",
            "d 4\n",
            "e 5\n"
          ]
        }
      ]
    },
    {
      "cell_type": "code",
      "source": [
        "# 가변과 키워드 가변 매개변수를 같이 사용 경우\n",
        "def display_info(*args, **args2):\n",
        "  print(f'args : {args}')\n",
        "  print(f'args2 : {args2}')\n",
        "\n",
        "# def display_info(**args, *args2): # 키워드 가변 매개변수는 뒤에 와야함 ** 암기(문법 규칙임)\n",
        "#   pass\n",
        "\n",
        "display_info(1,2,3,4,a=1,b=2)"
      ],
      "metadata": {
        "colab": {
          "base_uri": "https://localhost:8080/"
        },
        "id": "WqC6BG-y7C68",
        "outputId": "6306d165-f456-47cc-c2dd-aa0c78435a19"
      },
      "execution_count": null,
      "outputs": [
        {
          "output_type": "stream",
          "name": "stdout",
          "text": [
            "args : (1, 2, 3, 4)\n",
            "args2 : {'a': 1, 'b': 2}\n"
          ]
        }
      ]
    },
    {
      "cell_type": "code",
      "source": [
        "# 재귀함수\n",
        "def myFunc1(x):\n",
        "  if x == 1:\n",
        "    return 1 # 안정적으로 마치기 위해 retun 필요\n",
        "  return x*myFunc1(x-1)"
      ],
      "metadata": {
        "id": "YMozPQcJ-UIl"
      },
      "execution_count": null,
      "outputs": []
    },
    {
      "cell_type": "code",
      "source": [
        "myFunc1(5)"
      ],
      "metadata": {
        "colab": {
          "base_uri": "https://localhost:8080/"
        },
        "id": "5bh7guwNAPhI",
        "outputId": "e1697cb8-7bbe-4872-9843-714a8f457897"
      },
      "execution_count": null,
      "outputs": [
        {
          "output_type": "execute_result",
          "data": {
            "text/plain": [
              "120"
            ]
          },
          "metadata": {},
          "execution_count": 120
        }
      ]
    },
    {
      "cell_type": "markdown",
      "source": [
        "재귀를 하는 이유\n",
        " - 해당되는 디렉토리의 정보를 읽어 모든 파일명 추출, 디렉토리 아래 디렉토리 아래 디렉토리 ...\n",
        " - if 문으로 다 읽기 어려움, lib로 구현되어 있지만,\n",
        " - 들어가서 file이면 리스트에 담고, 디렉토리면 자기 자신 호출\n",
        " - 피보나치, 트리"
      ],
      "metadata": {
        "id": "gorRy7V2CBdc"
      }
    },
    {
      "cell_type": "markdown",
      "source": [
        "- 리스트 컴프리핸션\n",
        " - 조건문을 함께 사용\n",
        "- 함수\n",
        " - 다양한 매개변수"
      ],
      "metadata": {
        "id": "MUgSICqnJF3Z"
      }
    },
    {
      "cell_type": "code",
      "source": [
        "# 주요 기능을 함수로 만들어서 프로그램 개발하기\n",
        "# 함수는 재사용성을 고려해서 만든다. - 함수의 사용이유\n",
        "# 함수는 재사용성이 없어도 가독성 측면에서 함수로 표현한다 - logic을 설명함\n",
        "# 리펙토링의 기본은 적절한 함수 사용임 - 따로 책이 있음"
      ],
      "metadata": {
        "id": "kwLJP1HABKwu"
      },
      "execution_count": null,
      "outputs": []
    },
    {
      "cell_type": "code",
      "source": [
        "# 숫자 맞추기 게임\n",
        "# 0 ~ 100 사이의 임의의 수를 컴퓨터가 선택하면\n",
        "# 사용자가 추측해서 맞추는 게임\n",
        "# 이때 사용자가 추측한 번호가 컴퓨터랑 비교해서 작다 크다는 알려줘야 함\n",
        "# 사용자가 맞출 때까지 반보간다. 그리고 맞추면 몇번만에 맞췄는지 알려줌\n",
        "import random\n",
        "computer_num = random.randint(0,100)\n",
        "human_num = -1\n",
        "try_count = 1\n",
        "\n",
        "def getNumber():\n",
        "  human_num = input(\"0 ~ 100 사이의 숫자를 입력하세요\")\n",
        "  human_num = int(human_num)\n",
        "  if 0<= human_num <= 100:\n",
        "    return human_num\n",
        "  else:\n",
        "    print(\"0 ~ 100 사이의 숫자를 입력하세요\")\n",
        "  return False\n",
        "\n",
        "\n",
        "def findNumber(human_num,computer_num):\n",
        "  if computer_num > human_num:\n",
        "      print('더 큰 수를 입력하세요')\n",
        "  elif computer_num < human_num:\n",
        "      print('더 작은 수를 입력하세요')\n",
        "  else:\n",
        "    print(f'정답입니다. {try_count}번 만에 맞추셨습니다.')\n",
        "    return True\n",
        "\n",
        "while True:\n",
        "  try_count += 1\n",
        "\n",
        "  human_num = getNumber()\n",
        "  if not human_num:\n",
        "    continue\n",
        "\n",
        "  if findNumber(human_num, computer_num):\n",
        "    break\n",
        "\n",
        "# binary search 문제\n"
      ],
      "metadata": {
        "colab": {
          "base_uri": "https://localhost:8080/"
        },
        "id": "7JZKij1kJvlr",
        "outputId": "9c46300d-49a7-4683-b584-b9b9a3c09df5"
      },
      "execution_count": null,
      "outputs": [
        {
          "output_type": "stream",
          "name": "stdout",
          "text": [
            "0 ~ 100 사이의 숫자를 입력하세요50\n",
            "더 큰 수를 입력하세요\n",
            "0 ~ 100 사이의 숫자를 입력하세요75\n",
            "더 작은 수를 입력하세요\n",
            "0 ~ 100 사이의 숫자를 입력하세요60\n",
            "더 큰 수를 입력하세요\n",
            "0 ~ 100 사이의 숫자를 입력하세요70\n",
            "더 큰 수를 입력하세요\n",
            "0 ~ 100 사이의 숫자를 입력하세요73\n",
            "정답입니다. 6번 만에 맞추셨습니다.\n"
          ]
        }
      ]
    },
    {
      "cell_type": "code",
      "source": [
        "# 가위 바위 보 게임\n",
        "# 이길 때까지 계속\n",
        "import random\n",
        "while True:\n",
        "  print(\"가위 바위 보 게임\")\n",
        "  comNum = random.randint(0,2)\n",
        "  num = int(input(\"가위(0) 바위(1) 보(2): \"))\n",
        "  if num == comNum:\n",
        "    print(\"비겼습니다.\")\n",
        "  elif (num == 0 and comNum == 2) or (num == 1 and comNum == 0) or (num == 2 and comNum == 1):\n",
        "    print(\"이겼습니다.\")\n",
        "    break\n",
        "  else:\n",
        "    print(\"졌습니다.\")"
      ],
      "metadata": {
        "colab": {
          "base_uri": "https://localhost:8080/"
        },
        "id": "NLGW9WAsLNAD",
        "outputId": "327fe34e-3666-4a9e-92ba-5c4ba8b615f5"
      },
      "execution_count": null,
      "outputs": [
        {
          "output_type": "stream",
          "name": "stdout",
          "text": [
            "가위 바위 보 게임\n",
            "가위(0) 바위(1) 보(2): 0\n",
            "비겼습니다.\n",
            "가위 바위 보 게임\n",
            "가위(0) 바위(1) 보(2): 1\n",
            "이겼습니다.\n"
          ]
        }
      ]
    },
    {
      "cell_type": "code",
      "source": [
        "# 리스트, 리스트 컴프리핸션\n",
        "# 리스트 2차원 배열\n",
        "# 조건문, 반복문, 함수\n",
        "# 많이 해보기~~^o^"
      ],
      "metadata": {
        "id": "ZIrsgfDyQZCh"
      },
      "execution_count": null,
      "outputs": []
    },
    {
      "cell_type": "code",
      "source": [
        "# 제조사 별 판매량\n",
        "# SUV, 몇년도, 몇년식 ...\n",
        "# 기능에 충실하기"
      ],
      "metadata": {
        "id": "Il9Ci4ndRVr7"
      },
      "execution_count": null,
      "outputs": []
    },
    {
      "cell_type": "code",
      "source": [],
      "metadata": {
        "id": "DcklwmstSHSI"
      },
      "execution_count": null,
      "outputs": []
    }
  ]
}