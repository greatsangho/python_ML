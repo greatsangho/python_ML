{
  "nbformat": 4,
  "nbformat_minor": 0,
  "metadata": {
    "colab": {
      "provenance": [],
      "mount_file_id": "1LBuC7CQyS93YDnTmdNY7QSjZThPFAbwN",
      "authorship_tag": "ABX9TyPQdMwgij1eiimPc4KF2tgk",
      "include_colab_link": true
    },
    "kernelspec": {
      "name": "python3",
      "display_name": "Python 3"
    },
    "language_info": {
      "name": "python"
    }
  },
  "cells": [
    {
      "cell_type": "markdown",
      "metadata": {
        "id": "view-in-github",
        "colab_type": "text"
      },
      "source": [
        "<a href=\"https://colab.research.google.com/github/greatsangho/python_study/blob/main/20240826_day_5_2.ipynb\" target=\"_parent\"><img src=\"https://colab.research.google.com/assets/colab-badge.svg\" alt=\"Open In Colab\"/></a>"
      ]
    },
    {
      "cell_type": "code",
      "execution_count": null,
      "metadata": {
        "id": "g6PCocYnhOuv"
      },
      "outputs": [],
      "source": [
        "# from flask import Flask  # 첫글자가 대문자인 단어는 클래스\n",
        "\n",
        "# app = Flask(__name__)\n",
        "\n",
        "# @app.route(\"/\")\n",
        "# def home():\n",
        "#   return \"<h1>Hello World</h1>\"\n",
        "\n",
        "# if __name__ == \"__main__\":\n",
        "#   app.run()"
      ]
    },
    {
      "cell_type": "code",
      "source": [
        "# 코랩에서는 사용자 모듈을 불러오려면 경로를 시스템에 입력해 줘야 함\n",
        "import sys\n",
        "sys.path.append('/content/drive/MyDrive/module')"
      ],
      "metadata": {
        "id": "44RL--3KyDRt"
      },
      "execution_count": null,
      "outputs": []
    },
    {
      "cell_type": "code",
      "source": [
        "from simpleLibrary import *"
      ],
      "metadata": {
        "id": "2BFHqMhzw-iP"
      },
      "execution_count": 3,
      "outputs": []
    },
    {
      "cell_type": "code",
      "source": [
        "book1 = Book('파이썬','박응용','파이썬 출판사')"
      ],
      "metadata": {
        "id": "KT7VrxeqxP3A"
      },
      "execution_count": 4,
      "outputs": []
    },
    {
      "cell_type": "code",
      "source": [
        "library = Library()\n",
        "library.addBook(book1)\n",
        "for book in library.books:\n",
        "  print(book)"
      ],
      "metadata": {
        "colab": {
          "base_uri": "https://localhost:8080/"
        },
        "id": "LoH37wtLxezb",
        "outputId": "47da5ca3-3a3c-45ef-9186-3b69ffc0457d"
      },
      "execution_count": 5,
      "outputs": [
        {
          "output_type": "stream",
          "name": "stdout",
          "text": [
            "제목 : 파이썬 저자 : 박응용 출판사 : 파이썬 출판사\n"
          ]
        }
      ]
    },
    {
      "cell_type": "code",
      "source": [
        "# stream it"
      ],
      "metadata": {
        "id": "YbQIOWm6xqCs"
      },
      "execution_count": null,
      "outputs": []
    },
    {
      "cell_type": "markdown",
      "source": [
        "클래스의 생성자"
      ],
      "metadata": {
        "id": "VvMPcr6OywyJ"
      }
    },
    {
      "cell_type": "code",
      "source": [
        "class Temp:\n",
        "\n",
        "  # def __init__(self,name='') -> None:\n",
        "  #   self.name = name\n",
        "  #   print('생성자 호출')\n",
        "\n",
        "# 메소드 체이닝\n",
        "\n",
        "  def __init__(self,name, age, addr) -> None:\n",
        "    self.name = \"\"\n",
        "    self.age = \"\"\n",
        "    self.addr = \"\"\n",
        "\n",
        "  def setName(self,name):\n",
        "    self.name = name\n",
        "    return self\n",
        "\n",
        "  def setAge(self,age):\n",
        "    self.age = age\n",
        "    return self\n",
        "\n",
        "  def setAddr(self,addr):\n",
        "    self.addr = addr\n",
        "    return self\n",
        "\n",
        "# 같은 이름일 경우 마지막 하나만 인식함"
      ],
      "metadata": {
        "id": "RoOCsTF9yypR"
      },
      "execution_count": 32,
      "outputs": []
    },
    {
      "cell_type": "code",
      "source": [
        "# 자기 자신 반환(객체.())\n",
        "# temp1 = Temp() \\\n",
        "# .setName('홍길동') \\\n",
        "# .setAge(20) \\\n",
        "# .setAddr('서울')"
      ],
      "metadata": {
        "id": "vrpc8b1gzAXN"
      },
      "execution_count": 33,
      "outputs": []
    },
    {
      "cell_type": "code",
      "source": [
        "# temp1 = Temp().setName('홍길동').setAge(20).setAddr('서울')"
      ],
      "metadata": {
        "id": "Kr74IFgXzBIh"
      },
      "execution_count": 37,
      "outputs": []
    },
    {
      "cell_type": "code",
      "source": [
        "temp2 = Temp('홍길동',20, '서울')"
      ],
      "metadata": {
        "id": "7mKmGxmX1QLI"
      },
      "execution_count": 38,
      "outputs": []
    },
    {
      "cell_type": "code",
      "source": [
        "# 공유변수, 인스턴스 변수"
      ],
      "metadata": {
        "id": "-AVRORs81cx8"
      },
      "execution_count": 39,
      "outputs": []
    },
    {
      "cell_type": "code",
      "source": [
        "# https://wikidocs.net/7014"
      ],
      "metadata": {
        "id": "sFBZbc812Zq6"
      },
      "execution_count": 40,
      "outputs": []
    },
    {
      "cell_type": "code",
      "source": [
        "# https://www.atlassian.com/software/jira"
      ],
      "metadata": {
        "id": "3fjOt-KC3I75"
      },
      "execution_count": null,
      "outputs": []
    },
    {
      "cell_type": "code",
      "source": [
        "from urllib import request\n",
        "from bs4 import BeautifulSoup"
      ],
      "metadata": {
        "id": "z7t1vEoHSUyb"
      },
      "execution_count": 41,
      "outputs": []
    },
    {
      "cell_type": "code",
      "source": [
        "# urlopen() 함수로 기상청 날씨 읽기\n",
        "target = request.urlopen(\"http://www.kma.go.kr/weather/forecast/mid-term-rss3.jsp?stnId=108\")"
      ],
      "metadata": {
        "id": "535se15ZSgRj"
      },
      "execution_count": 43,
      "outputs": []
    },
    {
      "cell_type": "code",
      "source": [
        "# 웹페이지 분석\n",
        "soup = BeautifulSoup(target, \"html.parser\")"
      ],
      "metadata": {
        "colab": {
          "base_uri": "https://localhost:8080/"
        },
        "id": "cnQ056WRSszs",
        "outputId": "a1fa16ef-0f72-412a-caf6-0ad4b61c6783"
      },
      "execution_count": 44,
      "outputs": [
        {
          "output_type": "stream",
          "name": "stderr",
          "text": [
            "/usr/lib/python3.10/html/parser.py:170: XMLParsedAsHTMLWarning: It looks like you're parsing an XML document using an HTML parser. If this really is an HTML document (maybe it's XHTML?), you can ignore or filter this warning. If it's XML, you should know that using an XML parser will be more reliable. To parse this document as XML, make sure you have the lxml package installed, and pass the keyword argument `features=\"xml\"` into the BeautifulSoup constructor.\n",
            "  k = self.parse_starttag(i)\n"
          ]
        }
      ]
    },
    {
      "cell_type": "code",
      "source": [
        "for loacation in soup.select(\"location\"):\n",
        "  print(\"도시:\", loacation.select_one(\"city\").string)\n",
        "  print(\"날씨:\", loacation.select_one(\"wf\").string)\n",
        "  print(\"최저기온:\", loacation.select_one(\"tmn\").string)\n",
        "  print(\"최고기온:\", loacation.select_one(\"tmx\").string)\n",
        "  print()\n",
        ""
      ],
      "metadata": {
        "colab": {
          "base_uri": "https://localhost:8080/"
        },
        "id": "hm-ZiC_tS8nt",
        "outputId": "2594ab77-f454-4079-9dbf-55564849c12c"
      },
      "execution_count": 45,
      "outputs": [
        {
          "output_type": "stream",
          "name": "stdout",
          "text": [
            "도시: 서울\n",
            "날씨: 맑음\n",
            "최저기온: 24\n",
            "최고기온: 33\n",
            "\n",
            "도시: 인천\n",
            "날씨: 맑음\n",
            "최저기온: 24\n",
            "최고기온: 33\n",
            "\n",
            "도시: 수원\n",
            "날씨: 맑음\n",
            "최저기온: 24\n",
            "최고기온: 33\n",
            "\n",
            "도시: 파주\n",
            "날씨: 맑음\n",
            "최저기온: 21\n",
            "최고기온: 32\n",
            "\n",
            "도시: 이천\n",
            "날씨: 맑음\n",
            "최저기온: 22\n",
            "최고기온: 33\n",
            "\n",
            "도시: 평택\n",
            "날씨: 맑음\n",
            "최저기온: 23\n",
            "최고기온: 33\n",
            "\n",
            "도시: 춘천\n",
            "날씨: 맑음\n",
            "최저기온: 21\n",
            "최고기온: 32\n",
            "\n",
            "도시: 원주\n",
            "날씨: 맑음\n",
            "최저기온: 22\n",
            "최고기온: 32\n",
            "\n",
            "도시: 강릉\n",
            "날씨: 구름많고 비\n",
            "최저기온: 23\n",
            "최고기온: 29\n",
            "\n",
            "도시: 대전\n",
            "날씨: 맑음\n",
            "최저기온: 24\n",
            "최고기온: 33\n",
            "\n",
            "도시: 세종\n",
            "날씨: 맑음\n",
            "최저기온: 22\n",
            "최고기온: 33\n",
            "\n",
            "도시: 홍성\n",
            "날씨: 맑음\n",
            "최저기온: 23\n",
            "최고기온: 33\n",
            "\n",
            "도시: 청주\n",
            "날씨: 맑음\n",
            "최저기온: 24\n",
            "최고기온: 34\n",
            "\n",
            "도시: 충주\n",
            "날씨: 맑음\n",
            "최저기온: 22\n",
            "최고기온: 32\n",
            "\n",
            "도시: 영동\n",
            "날씨: 맑음\n",
            "최저기온: 22\n",
            "최고기온: 32\n",
            "\n",
            "도시: 광주\n",
            "날씨: 맑음\n",
            "최저기온: 24\n",
            "최고기온: 34\n",
            "\n",
            "도시: 목포\n",
            "날씨: 맑음\n",
            "최저기온: 25\n",
            "최고기온: 34\n",
            "\n",
            "도시: 여수\n",
            "날씨: 맑음\n",
            "최저기온: 26\n",
            "최고기온: 33\n",
            "\n",
            "도시: 순천\n",
            "날씨: 맑음\n",
            "최저기온: 25\n",
            "최고기온: 34\n",
            "\n",
            "도시: 광양\n",
            "날씨: 맑음\n",
            "최저기온: 25\n",
            "최고기온: 34\n",
            "\n",
            "도시: 나주\n",
            "날씨: 맑음\n",
            "최저기온: 23\n",
            "최고기온: 34\n",
            "\n",
            "도시: 전주\n",
            "날씨: 맑음\n",
            "최저기온: 24\n",
            "최고기온: 33\n",
            "\n",
            "도시: 군산\n",
            "날씨: 맑음\n",
            "최저기온: 24\n",
            "최고기온: 33\n",
            "\n",
            "도시: 정읍\n",
            "날씨: 맑음\n",
            "최저기온: 24\n",
            "최고기온: 34\n",
            "\n",
            "도시: 남원\n",
            "날씨: 맑음\n",
            "최저기온: 23\n",
            "최고기온: 33\n",
            "\n",
            "도시: 고창\n",
            "날씨: 맑음\n",
            "최저기온: 24\n",
            "최고기온: 33\n",
            "\n",
            "도시: 무주\n",
            "날씨: 맑음\n",
            "최저기온: 22\n",
            "최고기온: 32\n",
            "\n",
            "도시: 부산\n",
            "날씨: 구름많고 비\n",
            "최저기온: 26\n",
            "최고기온: 32\n",
            "\n",
            "도시: 울산\n",
            "날씨: 구름많고 비\n",
            "최저기온: 24\n",
            "최고기온: 30\n",
            "\n",
            "도시: 창원\n",
            "날씨: 구름많고 비\n",
            "최저기온: 26\n",
            "최고기온: 33\n",
            "\n",
            "도시: 진주\n",
            "날씨: 구름많고 비\n",
            "최저기온: 24\n",
            "최고기온: 33\n",
            "\n",
            "도시: 거창\n",
            "날씨: 구름많고 비\n",
            "최저기온: 22\n",
            "최고기온: 30\n",
            "\n",
            "도시: 통영\n",
            "날씨: 구름많고 비\n",
            "최저기온: 25\n",
            "최고기온: 33\n",
            "\n",
            "도시: 대구\n",
            "날씨: 구름많음\n",
            "최저기온: 24\n",
            "최고기온: 31\n",
            "\n",
            "도시: 안동\n",
            "날씨: 구름많음\n",
            "최저기온: 23\n",
            "최고기온: 31\n",
            "\n",
            "도시: 포항\n",
            "날씨: 구름많음\n",
            "최저기온: 25\n",
            "최고기온: 28\n",
            "\n",
            "도시: 경주\n",
            "날씨: 구름많음\n",
            "최저기온: 24\n",
            "최고기온: 29\n",
            "\n",
            "도시: 울진\n",
            "날씨: 구름많음\n",
            "최저기온: 23\n",
            "최고기온: 27\n",
            "\n",
            "도시: 울릉도\n",
            "날씨: 구름많음\n",
            "최저기온: 24\n",
            "최고기온: 29\n",
            "\n",
            "도시: 제주\n",
            "날씨: 구름많고 비\n",
            "최저기온: 27\n",
            "최고기온: 32\n",
            "\n",
            "도시: 서귀포\n",
            "날씨: 구름많고 비\n",
            "최저기온: 27\n",
            "최고기온: 33\n",
            "\n"
          ]
        }
      ]
    },
    {
      "cell_type": "code",
      "source": [
        "# 파일 위치 추가하기\n",
        "import sys\n",
        "sys.path.append('/content/moduletest')\n",
        "import test_module\n",
        "\n",
        "print(\"메인의 __name__출력하기\")\n",
        "print(__name__)\n",
        "print()"
      ],
      "metadata": {
        "colab": {
          "base_uri": "https://localhost:8080/"
        },
        "id": "zA0HaOA2TQns",
        "outputId": "6e45057b-95fe-41e9-cbb4-e272b415f055"
      },
      "execution_count": 46,
      "outputs": [
        {
          "output_type": "stream",
          "name": "stdout",
          "text": [
            "모듈의 __name__출력하기\n",
            "test_module\n",
            "\n",
            "메인의 __name__출력하기\n",
            "__main__\n",
            "\n"
          ]
        }
      ]
    },
    {
      "cell_type": "code",
      "source": [],
      "metadata": {
        "id": "hs_InOtZiLUr"
      },
      "execution_count": null,
      "outputs": []
    }
  ]
}