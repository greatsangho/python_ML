{
  "nbformat": 4,
  "nbformat_minor": 0,
  "metadata": {
    "colab": {
      "provenance": [],
      "mount_file_id": "1_VqtyMXyALwT-cRI9ZqyalviyX_hD_w8",
      "authorship_tag": "ABX9TyMHf6K6BDiq8Z8fSmYe5lVz",
      "include_colab_link": true
    },
    "kernelspec": {
      "name": "python3",
      "display_name": "Python 3"
    },
    "language_info": {
      "name": "python"
    }
  },
  "cells": [
    {
      "cell_type": "markdown",
      "metadata": {
        "id": "view-in-github",
        "colab_type": "text"
      },
      "source": [
        "<a href=\"https://colab.research.google.com/github/greatsangho/python_study/blob/main/20240827_day_6.ipynb\" target=\"_parent\"><img src=\"https://colab.research.google.com/assets/colab-badge.svg\" alt=\"Open In Colab\"/></a>"
      ]
    },
    {
      "cell_type": "markdown",
      "source": [
        "- 특수한 이름의 메소드\n",
        " - \\_\\_init\\_\\_ \\_\\_str\\_\\_\n",
        "- 클래스 변수와 메소드\n",
        " - 객체가 아닌 클래스로 접근\n",
        " - 클래스에 파생된 인스턴스는 모두 가능\n",
        "- getter, setter\n",
        "- 가비지 컬렉터 : 따로 호출하지는 않음"
      ],
      "metadata": {
        "id": "jyi62hcEJGxf"
      }
    },
    {
      "cell_type": "code",
      "execution_count": 1,
      "metadata": {
        "colab": {
          "base_uri": "https://localhost:8080/"
        },
        "id": "LVFiBG3AI8LZ",
        "outputId": "10af393f-e2d2-41e2-fc31-59609cfb18bc"
      },
      "outputs": [
        {
          "output_type": "stream",
          "name": "stdout",
          "text": [
            "isinstance(student, Student):  True\n"
          ]
        }
      ],
      "source": [
        "class Student:\n",
        "  def __init__(self):\n",
        "    pass\n",
        "\n",
        "student = Student()\n",
        "\n",
        "print(\"isinstance(student, Student): \", isinstance(student, Student))"
      ]
    },
    {
      "cell_type": "code",
      "source": [
        "class Student:\n",
        "  def study(self):\n",
        "    print(\"공부\")\n",
        "\n",
        "class Teacher:\n",
        "  def teach(self):\n",
        "    print(\"가르침\")\n",
        "\n",
        "# 객체들이 리스트 안에 여러개 존재할 때 분류\n",
        "classroom = [Student(), Student(), Teacher(), Student(), Student()]\n",
        "\n",
        "for person in classroom:\n",
        "  if isinstance(person, Student):\n",
        "    person.study()\n",
        "  elif isinstance(person, Teacher):\n",
        "    person.teach()"
      ],
      "metadata": {
        "colab": {
          "base_uri": "https://localhost:8080/"
        },
        "id": "xIwgXjgvKqC2",
        "outputId": "b801e40a-f4fd-4b26-aad2-742325b73493"
      },
      "execution_count": 2,
      "outputs": [
        {
          "output_type": "stream",
          "name": "stdout",
          "text": [
            "공부\n",
            "공부\n",
            "가르침\n",
            "공부\n",
            "공부\n"
          ]
        }
      ]
    },
    {
      "cell_type": "markdown",
      "source": [
        "isinstance"
      ],
      "metadata": {
        "id": "QM4Z6i8aMjHY"
      }
    },
    {
      "cell_type": "code",
      "source": [
        "class Banana:\n",
        "  def __init__(self, price = 1000):\n",
        "    self.price = price\n",
        "  def getPrice(self):\n",
        "    return self.price\n",
        "class Grape:\n",
        "  def __init__(self, price = 5000):\n",
        "    self.price = price\n",
        "  def getPrice(self):\n",
        "    return self.price\n",
        "class Apple:\n",
        "  def __init__(self, price = 3000):\n",
        "    self.price = price\n",
        "  def getPrice(self):\n",
        "    return self.price\n",
        "class PineApple:\n",
        "  def __init__(self, price = 6000):\n",
        "    self.price = price\n",
        "  def getPrice(self):\n",
        "    return self.price\n",
        "\n",
        "fruite = [Banana(), Banana(), Grape(), Apple(), Grape(), PineApple()]\n",
        "# 과일 값을 계산\n",
        "price = 0\n",
        "for fruit in fruite:\n",
        "  # if isinstance(fruit, Banana):\n",
        "  #   price += fruit.price\n",
        "  # elif isinstance(fruit, Grape):\n",
        "  #   price += fruit.price\n",
        "  # elif isinstance(fruit, Apple):\n",
        "  #   price += fruit.price\n",
        "  # elif isinstance(fruit, PineApple):\n",
        "  #   price += fruit.price\n",
        "\n",
        "  # price += fruit.price\n",
        "\n",
        "  price += fruit.getPrice()\n",
        "print(price)"
      ],
      "metadata": {
        "colab": {
          "base_uri": "https://localhost:8080/"
        },
        "id": "-GnvJGJyMIxk",
        "outputId": "940ac0ef-6963-47e6-84fc-e00d34a58f77"
      },
      "execution_count": 3,
      "outputs": [
        {
          "output_type": "stream",
          "name": "stdout",
          "text": [
            "21000\n"
          ]
        }
      ]
    },
    {
      "cell_type": "code",
      "source": [
        "# __str__ 클래스를 출력했을 때 실행\n",
        "# eq, ne, gt, ge, lt, le\n",
        "# 크기 비교\n",
        "class Student:\n",
        "  def __init__(self, name=\"\", score=0):\n",
        "    self.name = name\n",
        "    self.score = score\n",
        "  def __str__(self): # 프린트를 통해 호출\n",
        "    return f\"이름: {self.name}, 점수: {self.score}\"\n",
        "\n",
        "  # 객체끼리 비교해서 같다를 재정의\n",
        "  def __eq__(self, __o: object) -> bool: # == 구문에서 자동으로 호출\n",
        "    return self.score == __o.score\n",
        "  def __ne__(self, __o: object) -> bool: # != 구문에서 자동으로 호출\n",
        "    return self.score != __o.score\n",
        "  def __gt__(self, __o: object) -> bool: # > 구문에서 자동으로 호출\n",
        "    return self.score > __o.score\n",
        "  def __ge__(self, __o: object) -> bool: # >= 구문에서 자동으로 호출\n",
        "    return self.score >= __o.score\n",
        "  def __lt__(self, __o: object) -> bool: # < 구문에서 자동으로 호출\n",
        "    return self.score < __o.score\n",
        "  def __le__(self, __o: object) -> bool: # <= 구문에서 자동으로 호출\n",
        "    return self.score <= __o.score\n",
        "\n",
        "s1 = Student(score=95)\n",
        "s2 = Student(score=85)\n",
        "s3 = Student(score=75)\n",
        "\n",
        "print(s1 == s2, end=\" \") # 주소값을 비교함, 같은 값을 가져도 False 나옴\n",
        "print(s1 != s2, end=\" \")\n",
        "print(s1 > s2, end=\" \")\n",
        "print(s1 >= s2, end=\" \")\n",
        "print(s1 < s2, end=\" \")\n",
        "print(s1 <= s2, end=\" \")\n"
      ],
      "metadata": {
        "colab": {
          "base_uri": "https://localhost:8080/"
        },
        "id": "YAmAmRXaN5Lm",
        "outputId": "7a0b45f1-895b-442b-dc41-e784d8b0741e"
      },
      "execution_count": 4,
      "outputs": [
        {
          "output_type": "stream",
          "name": "stdout",
          "text": [
            "False True True True False False "
          ]
        }
      ]
    },
    {
      "cell_type": "code",
      "source": [
        "def Test(price: int): # def 함수(변수 : 정보) -> 반환자료형 정보\n",
        "  pass\n",
        "\n",
        "Test(10)"
      ],
      "metadata": {
        "id": "52DOKiFHQgSi"
      },
      "execution_count": 5,
      "outputs": []
    },
    {
      "cell_type": "markdown",
      "source": [
        "클래스 변수 vs 인스턴스 변수\n",
        " - 클래스 내부에서(메소드가 아닌) self 구문 없이 사용\n",
        " - 인스턴스 변수 생성자를 통해 self.변수"
      ],
      "metadata": {
        "id": "mMMUqdRhWm-m"
      }
    },
    {
      "cell_type": "code",
      "source": [
        "class Student:\n",
        "  count = 0 # 클래스 변수\n",
        "  def __init__(self, score):\n",
        "    self.score = score # 인스턴스 변수"
      ],
      "metadata": {
        "id": "e-L6AeK-WgMS"
      },
      "execution_count": 6,
      "outputs": []
    },
    {
      "cell_type": "code",
      "source": [
        "# 객체 생성, 객체는 서로 독립적이다\n",
        "s1 = Student(95)\n",
        "s2 = Student(85)\n",
        "\n",
        "Student.count = 1 # 클래스 변수를 변경, 전부 변경됨\n",
        "print(s1.count, s2.count, Student.count)\n",
        "s1.count = 2 # 인스턴스 변수 생성, s1만 변경\n",
        "print(s1.count, s2.count, Student.count)\n",
        "Student.count = 3\n",
        "print(s1.count, s2.count, Student.count)\n"
      ],
      "metadata": {
        "colab": {
          "base_uri": "https://localhost:8080/"
        },
        "id": "a8dHiUQjXMdy",
        "outputId": "e5191a34-b7e4-41f0-d4dc-0f8b6f7c0da1"
      },
      "execution_count": 7,
      "outputs": [
        {
          "output_type": "stream",
          "name": "stdout",
          "text": [
            "1 1 1\n",
            "2 1 1\n",
            "2 3 3\n"
          ]
        }
      ]
    },
    {
      "cell_type": "code",
      "source": [
        "class Student:\n",
        "  count = 0 # 클래스 변수\n",
        "  def __init__(self):\n",
        "    pass\n",
        "\n",
        "s1 = Student()\n",
        "s2 = Student()\n",
        "s3 = Student()\n",
        "# 객체를 통해 클래스 변수에 접근이 가능하다.(현재 클래스 변수 이름으로 인스턴스 변수가 없으므로)\n",
        "print(s1.count)\n",
        "print(s2.count)\n",
        "print(s3.count)\n",
        "# 객체를 통해서 클래스 변수에 접근할 수 없다.. 객체.클래스변수 = 1 이러한 행위는 클래스변수가 아니라\n",
        "# 크래스 변수와 동일한 인스턴스 변수를 생성한게 된다\n",
        "# 이후 객체.count는 이제 클래스변수가 아니라 인스턴스 변수다"
      ],
      "metadata": {
        "colab": {
          "base_uri": "https://localhost:8080/"
        },
        "id": "53epQSDaXsJt",
        "outputId": "5fe4a005-be6c-47b7-f2d8-61769e4c8ec2"
      },
      "execution_count": 8,
      "outputs": [
        {
          "output_type": "stream",
          "name": "stdout",
          "text": [
            "0\n",
            "0\n",
            "0\n"
          ]
        }
      ]
    },
    {
      "cell_type": "code",
      "source": [
        "class Product:\n",
        "  count = 0\n",
        "  def __init__(self, name=\"\", count=0):\n",
        "    self.name = name\n",
        "    self.count = count\n",
        "p1 = Product(count = 5)\n",
        "p2 = Product(count = 4)\n",
        "print(p1.count, p2.count, Product.count)\n",
        "Product.count = 100\n",
        "print(p1.count, p2.count, Product.count)"
      ],
      "metadata": {
        "colab": {
          "base_uri": "https://localhost:8080/"
        },
        "id": "oTdEmxTjc0Ko",
        "outputId": "4622f95f-c1d5-483e-e50b-7c4e167c0467"
      },
      "execution_count": 9,
      "outputs": [
        {
          "output_type": "stream",
          "name": "stdout",
          "text": [
            "5 4 0\n",
            "5 4 100\n"
          ]
        }
      ]
    },
    {
      "cell_type": "code",
      "source": [
        "class Product:\n",
        "  pass\n",
        "p1 = Product()\n",
        "p1.count = 100 # 생성\n",
        "print(p1.count)"
      ],
      "metadata": {
        "colab": {
          "base_uri": "https://localhost:8080/"
        },
        "id": "BmMHZqfPdVvO",
        "outputId": "4469a1a2-1bf0-449d-de79-33eddd15692a"
      },
      "execution_count": 10,
      "outputs": [
        {
          "output_type": "stream",
          "name": "stdout",
          "text": [
            "100\n"
          ]
        }
      ]
    },
    {
      "cell_type": "markdown",
      "source": [
        "학생 클래스가 있고, 학생 객체가 생성될 때마다 1씩 증가한다"
      ],
      "metadata": {
        "id": "7iBHfKQ6efiU"
      }
    },
    {
      "cell_type": "code",
      "source": [
        "class Student:\n",
        "  count = 0 # 클래스 변수를 선언함과 동시에 클래스 내부에서 인스턴스변수를 생성할 때 사용한다\n",
        "  def __init__(self)->None:\n",
        "    self.count += 1 # 내부적으로 self.count 생성\n",
        "s1 = Student()\n",
        "s2 = Student()\n",
        "s3 = Student()\n",
        "print(s1.count, s2.count, s3.count, Student.count)"
      ],
      "metadata": {
        "colab": {
          "base_uri": "https://localhost:8080/"
        },
        "id": "nPrUZGkpeDgZ",
        "outputId": "a05edd2c-deac-47b6-8a50-dce7216e4fe3"
      },
      "execution_count": 11,
      "outputs": [
        {
          "output_type": "stream",
          "name": "stdout",
          "text": [
            "1 1 1 0\n"
          ]
        }
      ]
    },
    {
      "cell_type": "code",
      "source": [
        "# 객체를 생성할 때 마다 인스턴스 변수의 값을 증가시키려면\n",
        "class Product:\n",
        "  count = 0\n",
        "  def __init__(self):\n",
        "    Product.count += 1\n",
        "    self.count = Product.count\n",
        "s1,s2,s3,s4,s5 = Product(), Product(), Product(), Product(), Product()\n",
        "print(s1.count, s2.count, s3.count, s4.count, s5.count)\n",
        "print(Product.count)"
      ],
      "metadata": {
        "colab": {
          "base_uri": "https://localhost:8080/"
        },
        "id": "igvy3CPQfEdA",
        "outputId": "c7453ea1-48fc-44e0-82d9-dead53afc549"
      },
      "execution_count": 12,
      "outputs": [
        {
          "output_type": "stream",
          "name": "stdout",
          "text": [
            "1 2 3 4 5\n",
            "5\n"
          ]
        }
      ]
    },
    {
      "cell_type": "code",
      "source": [
        "class Student:\n",
        "  def __init__(self):\n",
        "    pass\n",
        "\n",
        "count = 0\n",
        "students=[]\n",
        "\n",
        "s1=Student()\n",
        "count += 1\n",
        "s1.count = count\n",
        "students.append(s1)\n",
        "print(s1.count)\n",
        "\n",
        "s2=Student()\n",
        "count += 1\n",
        "s2.count = count\n",
        "students.append(s2)\n",
        "print(s2.count)\n"
      ],
      "metadata": {
        "colab": {
          "base_uri": "https://localhost:8080/"
        },
        "id": "DCxO7xovg_xy",
        "outputId": "b975e68e-4a39-4df6-e636-a94300045155"
      },
      "execution_count": 13,
      "outputs": [
        {
          "output_type": "stream",
          "name": "stdout",
          "text": [
            "1\n",
            "2\n"
          ]
        }
      ]
    },
    {
      "cell_type": "code",
      "source": [
        "class Student:\n",
        "  count = 0\n",
        "  students = []\n",
        "\n",
        "  def __init__(self):\n",
        "    Student.count += 1\n",
        "    self.count = Student.count\n",
        "    Student.students.append(self)\n",
        "\n",
        "  @classmethod # 클래스 변수, 인스턴스 변수로 접근 하지 말고, 클래스 이름으로 접근해서 사용함\n",
        "  def showAll(cls):\n",
        "    for s in cls.students:\n",
        "      print(s.count)"
      ],
      "metadata": {
        "id": "74nxh6DXm7PK"
      },
      "execution_count": 63,
      "outputs": []
    },
    {
      "cell_type": "code",
      "source": [
        "for i in range(20):\n",
        "  Student()\n",
        "# Student(), Student(), Student(), Student()\n",
        "# print(Student.count)\n",
        "# print(Student.students)\n",
        "print(Student.count)\n",
        "Student.showAll()\n",
        "\n",
        "\n",
        "# for s in Student.students:\n",
        "#   print(s.count)"
      ],
      "metadata": {
        "colab": {
          "base_uri": "https://localhost:8080/"
        },
        "id": "xJN_VhPTnJ5t",
        "outputId": "767e88e5-2770-47f4-b4c9-d31c2b5334bc"
      },
      "execution_count": 64,
      "outputs": [
        {
          "output_type": "stream",
          "name": "stdout",
          "text": [
            "20\n",
            "1\n",
            "2\n",
            "3\n",
            "4\n",
            "5\n",
            "6\n",
            "7\n",
            "8\n",
            "9\n",
            "10\n",
            "11\n",
            "12\n",
            "13\n",
            "14\n",
            "15\n",
            "16\n",
            "17\n",
            "18\n",
            "19\n",
            "20\n"
          ]
        }
      ]
    },
    {
      "cell_type": "markdown",
      "source": [
        "정리\n",
        " - 클래스 변수는 그냥 정의하고 사용할 때는 클래스명, 클래스변수만 사용\n",
        " - 인스턴스 변수는 self.변수명으로 선언하고 사용할 때는 객체.변수명으로 사용한다\n",
        " - 클래스 변수의 예\n",
        "  - 객체자체를 저장하기 위한 리스트나 객체가 생성될 때마다 증가시키는 변수\n",
        "- 클래스 함수\n",
        " - 인스턴스 변수가 사용되지 않는 로직은 굳이 객체로 만들어서 사용할 필요가 없으므로 클래스함수로 만든다\n",
        " - @classmethod를 선언하고 매개변수는 cls를 사용한다"
      ],
      "metadata": {
        "id": "wDQk3g7Yqf1P"
      }
    },
    {
      "cell_type": "code",
      "source": [
        "class Calc:\n",
        "  @classmethod # 클래스의 인스턴스 변수를 활용하지 않음, math.~\n",
        "  def add(cls,x,y):\n",
        "    return x + y\n",
        "\n",
        "  #   self.x = x\n",
        "  #   self.y = y\n",
        "  # def add(self):\n",
        "  #   return self.x + self.y\n",
        "\n",
        "Calc.add(10,20)"
      ],
      "metadata": {
        "colab": {
          "base_uri": "https://localhost:8080/"
        },
        "id": "6N9ndironTGJ",
        "outputId": "97b36bb1-4303-43d3-a114-57766e9253ac"
      },
      "execution_count": 16,
      "outputs": [
        {
          "output_type": "execute_result",
          "data": {
            "text/plain": [
              "30"
            ]
          },
          "metadata": {},
          "execution_count": 16
        }
      ]
    },
    {
      "cell_type": "code",
      "source": [
        "# 프라이빗 변수\n",
        "import math\n",
        "\n",
        "class Circle:\n",
        "  def __init__(self, radius):\n",
        "    self.__radius = radius\n",
        "  def getArea(self):\n",
        "    return self.__radius * self.__radius * math.pi\n",
        "  def getCircum(self):\n",
        "    return self.__radius * 2 * math.pi"
      ],
      "metadata": {
        "id": "WNt89Rmqsmq5"
      },
      "execution_count": 17,
      "outputs": []
    },
    {
      "cell_type": "code",
      "source": [
        "# 함수를 통해서 변수에 접근\n",
        "# 변수를 안정적으로 control\n",
        "# get,set 사용"
      ],
      "metadata": {
        "id": "tKoD5SwLvH0-"
      },
      "execution_count": 18,
      "outputs": []
    },
    {
      "cell_type": "markdown",
      "source": [
        "프라이빗\n",
        " - 클래스 내부에서는 자유롭게 사용 가능하나 객체를 통해서는 접근 불허\n",
        " - 변수이름 앞에 _ _ 변수"
      ],
      "metadata": {
        "id": "BnM184OLyKUv"
      }
    },
    {
      "cell_type": "code",
      "source": [
        "class Student:\n",
        "  def __init__(self, name=\"\",age=1):\n",
        "    self.name = name\n",
        "    self.__age = age\n",
        "\n",
        "  def setAge(self,age):\n",
        "    if age > 0:\n",
        "      self.__age = age\n",
        "    else:\n",
        "      print(\"나이는 0보다 커야 합니다\")\n",
        "\n",
        "  def getAge(self):\n",
        "    return self.__age"
      ],
      "metadata": {
        "id": "7C4KqNG8yWGZ"
      },
      "execution_count": 30,
      "outputs": []
    },
    {
      "cell_type": "code",
      "source": [
        "s1 = Student(\"홍길동\", 20)\n",
        "print(s1.name)\n",
        "s1.setAge(10)\n",
        "print(s1.getAge())\n",
        "# print(s1.__age)\n",
        "# s1.__age = 30 # 인스턴스 속성으로 생성, 사용하지 말 것, 목적에 맞게 사용하기\n",
        "# print(s1.__age) # __age변수는 private 속성을 가지므로 외부에서 직접 접근 불가\n",
        "# print(s1.showAge())\n",
        "\n",
        "# 외부에서 접근하기 어렵도록 class 안의 변수는 private으로 해야 함"
      ],
      "metadata": {
        "colab": {
          "base_uri": "https://localhost:8080/"
        },
        "id": "ISbm8YP8ynkJ",
        "outputId": "603e6cdd-aeed-4674-b519-424121428adf"
      },
      "execution_count": 31,
      "outputs": [
        {
          "output_type": "stream",
          "name": "stdout",
          "text": [
            "홍길동\n",
            "10\n"
          ]
        }
      ]
    },
    {
      "cell_type": "code",
      "source": [
        "# 데코레이터를 사용 -> 함수를 변수처럼 ()없이 사용\n",
        "class Student:\n",
        "  def __init__(self, name=\"\",age=1):\n",
        "    self.name = name\n",
        "    self.__age = age\n",
        "\n",
        "  @property # get함수의 역할\n",
        "  def age(self):\n",
        "    return self.__age\n",
        "\n",
        "  @age.setter # setter의 역할\n",
        "  def age(self,age):\n",
        "    if age > 0:\n",
        "      self.__age = age\n",
        "    else:\n",
        "      print(\"나이는 0보다 커야 합니다\")\n",
        "      # raise ValueError(\"나이는 0보다 커야 합니다\")"
      ],
      "metadata": {
        "id": "FPqi8XzQyvw_"
      },
      "execution_count": 57,
      "outputs": []
    },
    {
      "cell_type": "code",
      "source": [
        "s1 = Student(age=20)\n",
        "print(s1.age)\n",
        "s1.age = -50 # setter 함수 호출\n",
        "print(s1.age)"
      ],
      "metadata": {
        "colab": {
          "base_uri": "https://localhost:8080/"
        },
        "id": "36wO1Tq34YW3",
        "outputId": "7d6baf2e-5e8b-40c4-b221-4000c49a9bb6"
      },
      "execution_count": 58,
      "outputs": [
        {
          "output_type": "stream",
          "name": "stdout",
          "text": [
            "20\n",
            "나이는 0보다 커야 합니다\n",
            "20\n"
          ]
        }
      ]
    },
    {
      "cell_type": "code",
      "source": [
        "# private한 변수를 만들고\n",
        "# 데코레이션을 이용해서 getter setter 역할을 하는 함수를 만들고\n",
        "# 사용할 때는 변수처럼 사용해 보자\n",
        "class Phone:\n",
        "  def __init__(self, number):\n",
        "    self.__number = number\n",
        "\n",
        "  @property\n",
        "  def number(self):\n",
        "    return self.__number\n",
        "\n",
        "  @number.setter\n",
        "  def number(self, number):\n",
        "    if number > 0:\n",
        "      self.__number = number\n",
        "    else:\n",
        "      print(\"번호는 0보다 커야 합니다\")"
      ],
      "metadata": {
        "id": "TJbZDEj44eU9"
      },
      "execution_count": 59,
      "outputs": []
    },
    {
      "cell_type": "code",
      "source": [
        "p1 = Phone(123123123)\n",
        "print(p1.number)\n",
        "p1.number = -123123123\n",
        "print(p1.number)"
      ],
      "metadata": {
        "colab": {
          "base_uri": "https://localhost:8080/"
        },
        "id": "vpbEvHTK81G2",
        "outputId": "46c26c9a-eb08-4316-c780-b3fa5cd76bae"
      },
      "execution_count": 60,
      "outputs": [
        {
          "output_type": "stream",
          "name": "stdout",
          "text": [
            "123123123\n",
            "번호는 0보다 커야 합니다\n",
            "123123123\n"
          ]
        }
      ]
    },
    {
      "cell_type": "markdown",
      "source": [
        "- 상속\n",
        " - 기존 클래스들의 기능을 사용하면서 자체적으로 기능을 새롭게 부여\n",
        " - 부모클래스 + 알파\n",
        " - 부모클래스 확장\n",
        "- 다중상속\n",
        " - 다른 언어에서는 금지\n",
        "- 생성자에서 다른 생성자 생성 시 호출 가능"
      ],
      "metadata": {
        "id": "cGi3Oqn0NUbA"
      }
    },
    {
      "cell_type": "code",
      "source": [
        "class Parent:\n",
        "  def __init__(self,name=\"\"):\n",
        "    print(\"Parent Constructor-----------\")\n",
        "    self.name = name\n",
        "\n",
        "  def showName(self):\n",
        "    print(self.name, '부모 showname')\n",
        "\n",
        "  def method_parant(self):\n",
        "    print (f\"method_parant value : {self.name}\")\n",
        "\n",
        "# 상속을 할 때는 생성자에게 부모생성자를 호출 안 해도 되지만 대부분의 경우\n",
        "# 부모의 메소드는  부모자신의 변수를 사용하기 때문에.. 변수를 생성하려면\n",
        "# 생성자 안에서 부모 생성자를 호출한다.\n",
        "\n",
        "# 부모의 생성자를 호출, 부모의 생성자를 실행해야 변수 부모가 가진 변수생성\n",
        "class Child(Parent):\n",
        "  def __init__(self,name='',nickname='') -> None:  # 상속을 받았을대 기본생성자의 모습\n",
        "    super().__init__(name)\n",
        "    self.nickname = nickname\n",
        "    print(f\"Child Constructor---------\")\n",
        "\n",
        "  def showName(self):\n",
        "    print(self.name,  self.nickname,'자식 showname')\n"
      ],
      "metadata": {
        "id": "pS52S7ji89bm"
      },
      "execution_count": 131,
      "outputs": []
    },
    {
      "cell_type": "code",
      "source": [
        "c1 = Child('홍길동','의적')\n",
        "c1.showName()\n",
        "print(c1.name)"
      ],
      "metadata": {
        "colab": {
          "base_uri": "https://localhost:8080/"
        },
        "id": "LktvuiA8POMe",
        "outputId": "fc396523-c921-4b2e-8401-2b9e94f98ad5"
      },
      "execution_count": 130,
      "outputs": [
        {
          "output_type": "stream",
          "name": "stdout",
          "text": [
            "Parent Constructor-----------\n",
            "Childe Constructor---------\n",
            "홍길동 의적 자식 showname\n",
            "홍길동\n"
          ]
        }
      ]
    },
    {
      "cell_type": "code",
      "source": [
        "class Person:\n",
        "  personList = []\n",
        "  def __init__(self, name=\"\", age=0) -> None:\n",
        "    self.name = name\n",
        "    self.age = age\n",
        "    Person.personList.append(self) # 이름, 나이\n",
        "\n",
        "  def __str__(self):\n",
        "    return f\"이름: {self.name}, 나이: {self.age}\"\n",
        "\n",
        "class Student(Person):\n",
        "  def __init__(self, name=\"\", age=0) -> None:\n",
        "    super().__init__(name,age)\n",
        "  def study(self):\n",
        "    pass\n",
        "\n",
        "class Teacher(Person):\n",
        "  def __init__(self, name=\"\", age=0):\n",
        "    super().__init__(name,age)\n",
        "  def teach(self):\n",
        "    pass\n",
        "\n",
        "class Professor(Person):\n",
        "  def __init__(self, name='',age=0):\n",
        "    super().__init__(name,age)\n",
        "  def reaserch(self):\n",
        "    pass"
      ],
      "metadata": {
        "id": "GU4bWlkaRRx5"
      },
      "execution_count": 105,
      "outputs": []
    },
    {
      "cell_type": "code",
      "source": [
        "Teacher(\"홍길동T\",45),Student(\"홍길동S\",15),Professor(\"홍길동P\",55)\n",
        "for c in Person.personList:\n",
        "  print(c)"
      ],
      "metadata": {
        "colab": {
          "base_uri": "https://localhost:8080/"
        },
        "id": "-zcznfXIYgUn",
        "outputId": "cf619584-6e4c-4bba-e68f-20446f8068ed"
      },
      "execution_count": 106,
      "outputs": [
        {
          "output_type": "stream",
          "name": "stdout",
          "text": [
            "이름: 홍길동T, 나이: 45\n",
            "이름: 홍길동S, 나이: 15\n",
            "이름: 홍길동P, 나이: 55\n"
          ]
        }
      ]
    },
    {
      "cell_type": "markdown",
      "source": [
        "상속을 이용해서 사용자 정의 예외 클래스"
      ],
      "metadata": {
        "id": "HPZ2mNgBc-pv"
      }
    },
    {
      "cell_type": "code",
      "source": [
        "# 0 ~ 100 사이의 숫자가 아니면 애러 발생하기\n",
        "number = int(input(\"input > \"))\n",
        "if number < 0 or number > 100:\n",
        "  raise Exception(\"0 ~ 100 사이의 숫자가 아닙니다\")"
      ],
      "metadata": {
        "colab": {
          "base_uri": "https://localhost:8080/",
          "height": 202
        },
        "id": "urZnscNXb2sF",
        "outputId": "e55605d0-16d0-4bb1-f1f9-94105bb9806d"
      },
      "execution_count": 107,
      "outputs": [
        {
          "name": "stdout",
          "output_type": "stream",
          "text": [
            "input > 500\n"
          ]
        },
        {
          "output_type": "error",
          "ename": "Exception",
          "evalue": "0 ~ 100 사이의 숫자가 아닙니다",
          "traceback": [
            "\u001b[0;31m---------------------------------------------------------------------------\u001b[0m",
            "\u001b[0;31mException\u001b[0m                                 Traceback (most recent call last)",
            "\u001b[0;32m<ipython-input-107-56689166b1ea>\u001b[0m in \u001b[0;36m<cell line: 3>\u001b[0;34m()\u001b[0m\n\u001b[1;32m      2\u001b[0m \u001b[0mnumber\u001b[0m \u001b[0;34m=\u001b[0m \u001b[0mint\u001b[0m\u001b[0;34m(\u001b[0m\u001b[0minput\u001b[0m\u001b[0;34m(\u001b[0m\u001b[0;34m\"input > \"\u001b[0m\u001b[0;34m)\u001b[0m\u001b[0;34m)\u001b[0m\u001b[0;34m\u001b[0m\u001b[0;34m\u001b[0m\u001b[0m\n\u001b[1;32m      3\u001b[0m \u001b[0;32mif\u001b[0m \u001b[0mnumber\u001b[0m \u001b[0;34m<\u001b[0m \u001b[0;36m0\u001b[0m \u001b[0;32mor\u001b[0m \u001b[0mnumber\u001b[0m \u001b[0;34m>\u001b[0m \u001b[0;36m100\u001b[0m\u001b[0;34m:\u001b[0m\u001b[0;34m\u001b[0m\u001b[0;34m\u001b[0m\u001b[0m\n\u001b[0;32m----> 4\u001b[0;31m   \u001b[0;32mraise\u001b[0m \u001b[0mException\u001b[0m\u001b[0;34m(\u001b[0m\u001b[0;34m\"0 ~ 100 사이의 숫자가 아닙니다\"\u001b[0m\u001b[0;34m)\u001b[0m\u001b[0;34m\u001b[0m\u001b[0;34m\u001b[0m\u001b[0m\n\u001b[0m",
            "\u001b[0;31mException\u001b[0m: 0 ~ 100 사이의 숫자가 아닙니다"
          ]
        }
      ]
    },
    {
      "cell_type": "code",
      "source": [
        "# From0To100Error 만들기\n",
        "class From0To100Error(Exception):\n",
        "  def __str__(self) -> str:\n",
        "    return \"0과 100사이에 숫자만 가능합니다\"\n",
        "\n",
        "def checkInvalid(data):\n",
        "  if data > 100 or data < 0:\n",
        "    raise From0To100Error()\n",
        "\n",
        "try:\n",
        "  number = int(input(\"input >\"))\n",
        "  checkInvalid(number)\n",
        "except From0To100Error as e:\n",
        "  print(\"적절한 처리를 한다\",e)\n",
        "except Exception as e:\n",
        "  print(\"사용자가 정의한 예외말고 그 밖의 모든 예외 발생시 처리\",e)"
      ],
      "metadata": {
        "colab": {
          "base_uri": "https://localhost:8080/"
        },
        "id": "8AwAQkbUdXlO",
        "outputId": "6093fea6-d00a-44ec-9ebf-66cf05134c42"
      },
      "execution_count": 113,
      "outputs": [
        {
          "output_type": "stream",
          "name": "stdout",
          "text": [
            "input >500\n",
            "적절한 처리를 한다 0과 100사이에 숫자만 가능합니다\n"
          ]
        }
      ]
    },
    {
      "cell_type": "markdown",
      "source": [
        "공원\n",
        " - 사람 나이를 입력해서\n",
        "  - 어른이면 정가          class Adult\n",
        "  - 미성년이면 40% 할인    class NotAdult\n",
        "  - 시즌권보유자 70% 할인\n",
        "  - 지역주민 20% 할인\n",
        "  - 중목할인은 없고 최대치를 적용\n",
        " - 공원관리 프로그램         class ParkMng\n",
        "  - 어른 객체 또는 미성년 객체의 집합데이터를 관리\n",
        "  - 총합, 평균"
      ],
      "metadata": {
        "id": "Kd9oLYU9f-IA"
      }
    },
    {
      "cell_type": "code",
      "source": [
        "class Person: # 입장객\n",
        "  def __init__(self, price = 20000) -> None:\n",
        "    self.price = price # 프라이빗 변수일 경우 상속 안 됨\n",
        "    ParkMng.person_list.append(self)\n",
        "\n",
        "  def getPrice(self):\n",
        "    return self.price\n",
        "\n",
        "class Adult(Person):\n",
        "  def __init__(self) -> None:\n",
        "    super().__init__()\n",
        "\n",
        "class NotAdult(Person):\n",
        "  def __init__(self) -> None:\n",
        "    super().__init__()\n",
        "    self.price = int(self.price * 0.6) # 성인이 아닌 경우 60%\n",
        "\n",
        "class ParkMng:\n",
        "  person_list =[] # 클래스 변수\n",
        "  @classmethod\n",
        "  def getTotalPrice(cls):\n",
        "    total_price = 0\n",
        "    for person in cls.person_list:\n",
        "      total_price += person.price\n",
        "    return total_price\n",
        "\n",
        "# 입장객 count\n",
        "  @classmethod\n",
        "  def getPersonCount(cls):\n",
        "    dict1 = {'Adult':0,'NotAdult':0}\n",
        "    for p in cls.person_list:\n",
        "      if isinstance(p,Adult):\n",
        "          dict1['Adult'] += 1\n",
        "      elif isinstance(p,NotAdult):\n",
        "          dict1['NotAdult'] += 1\n",
        "    return dict1\n",
        "\n",
        "# 시뮬레이션\n",
        "# 1. 데이터 입력\n",
        "Adult(), Adult(), NotAdult(), NotAdult(), NotAdult()\n",
        "\n",
        "# 2. 총액 계산\n",
        "print(ParkMng.getTotalPrice())\n",
        "print(ParkMng.getPersonCount())"
      ],
      "metadata": {
        "colab": {
          "base_uri": "https://localhost:8080/"
        },
        "id": "XxWuZVhrdxWC",
        "outputId": "014becc9-f0c5-4986-9ba7-3bb3c469b27c"
      },
      "execution_count": 125,
      "outputs": [
        {
          "output_type": "stream",
          "name": "stdout",
          "text": [
            "76000\n",
            "{'Adult': 2, 'NotAdult': 3}\n"
          ]
        }
      ]
    },
    {
      "cell_type": "markdown",
      "source": [
        "- isInstance(객체, 클래스) : 객체가 클래스의 인스턴스 여부\n",
        "- 클래스 변수\n",
        "- 클래스 메소드\n",
        "- private 변수\n",
        " - getter/setter를 대신해서 @property와 @변수명.setter\n",
        "  - 외부에서 함수를 변수처럼 사용한다\n",
        "- _ _ eq _ _ 등 크기 비교\n",
        "- 상속\n",
        " - 생성자에서 반드시 부모생성자를 호출(변수때문에)\n",
        " - private 변수는 상속하지 않는다\n",
        "\n"
      ],
      "metadata": {
        "id": "_N58q2onpnHh"
      }
    },
    {
      "cell_type": "code",
      "source": [
        "# 각각의 case에 대한 예제를 만들어봅시다"
      ],
      "metadata": {
        "id": "tWavqTVPi7sX"
      },
      "execution_count": null,
      "outputs": []
    },
    {
      "cell_type": "markdown",
      "source": [
        "문제 1: isinstance(객체, 클래스) : 객체가 클래스의 인스턴스 여부\n",
        "\n",
        "- 객체 obj가 클래스 MyClass의 인스턴스인지 확인하는 코드를 작성하세요.\n",
        "다른 클래스 OtherClass를 정의하고, obj가 OtherClass의 인스턴스인지 확인하세요.\n",
        "\n",
        "문제 2: 클래스 변수\n",
        "\n",
        "- Employee라는 클래스를 정의하고, 클래스 변수 company를 ABC Corp로 설정하세요.\n",
        "Employee 클래스의 인스턴스 e1과 e2를 생성하고, company 값을 출력하세요.\n",
        "\n",
        "문제 3: 클래스 메소드\n",
        "\n",
        "- Employee 클래스에 클래스 메소드 setcompany를 추가하여 company 값을 변경하는 기능을 구현하세요.\n",
        "Employee 클래스의 인스턴스 e1에서 setcompany 메소드를 사용하여 company를 XYZ Corp로 변경하고, e2의 company 값을 출력하세요.\n",
        "\n",
        "문제 4: Private 변수\n",
        "\n",
        "- Person 클래스를 정의하고, age라는 private 변수를 설정하세요.\n",
        "Person 클래스에서 age에 접근할 수 있는 getage와 setage 메소드를 작성하세요.\n",
        "\n",
        "문제 5: @property와 @변수명.setter\n",
        "\n",
        "- Person 클래스에서 age 변수를 @property와 @age.setter로 관리하여, 외부에서 함수가 아닌 변수처럼 접근할 수 있게 하세요.\n",
        "인스턴스 p1의 나이를 25로 설정하고 출력하세요.\n",
        "\n",
        "문제 6: eq 메소드\n",
        "\n",
        "- Book 클래스를 정의하고, title과 author를 변수로 가지도록 하세요.\n",
        "Book 클래스의 인스턴스 b1과 b2를 생성하고, 두 객체의 title과 author가 같을 때 동일한 객체로 간주되도록 __eq 메소드를 재정의하세요.\n",
        "\n",
        "문제 7: 상속과 생성자에서 부모 생성자 호출\n",
        "\n",
        "- Vehicle 클래스를 정의하고, Vehicle 클래스에 make와 model을 인자로 받는 생성자를 작성하세요.\n",
        "Car 클래스를 정의하여 Vehicle 클래스를 상속받고, Car 클래스의 생성자에서 make, model을 부모 생성자에게 전달하세요.\n",
        "Car 클래스의 인스턴스를 생성하고, make와 model을 출력하세요.\n",
        "\n",
        "문제 8: Private 변수는 상속하지 않는다\n",
        "\n",
        "- ParentClass를 정의하고, private 변수 secret을 설정하세요.\n",
        "ChildClass를 정의하여 ParentClass를 상속받고, secret 변수에 접근하려고 시도해보세요."
      ],
      "metadata": {
        "id": "sNWSBjZsrcBf"
      }
    },
    {
      "cell_type": "code",
      "source": [
        "# 1\n",
        "class MyClass:\n",
        "  pass\n",
        "\n",
        "class OtherClass:\n",
        "  pass\n",
        "\n",
        "obj = MyClass()\n",
        "obj2 = OtherClass()\n",
        "print(isinstance(obj, MyClass))\n",
        "print(isinstance(obj2, MyClass))"
      ],
      "metadata": {
        "colab": {
          "base_uri": "https://localhost:8080/"
        },
        "id": "iG3ErVgirqkk",
        "outputId": "0794b4e1-a4cb-425b-fc5a-430dc1b50713"
      },
      "execution_count": 133,
      "outputs": [
        {
          "output_type": "stream",
          "name": "stdout",
          "text": [
            "True\n",
            "False\n"
          ]
        }
      ]
    },
    {
      "cell_type": "code",
      "source": [
        "# 2\n",
        "class Employee:\n",
        "  company='ABC Crop'\n",
        "\n",
        "e1, e2= Employee(), Employee()\n",
        "# print(e1.company, e2.company)\n",
        "print(Employee.company)"
      ],
      "metadata": {
        "colab": {
          "base_uri": "https://localhost:8080/"
        },
        "id": "RmwyNjL8sXbm",
        "outputId": "e51d16cf-afd2-40e9-a9b8-ee8c7ae93150"
      },
      "execution_count": 141,
      "outputs": [
        {
          "output_type": "stream",
          "name": "stdout",
          "text": [
            "ABC Crop\n"
          ]
        }
      ]
    },
    {
      "cell_type": "code",
      "source": [
        "# 3\n",
        "class Employee:\n",
        "  company='ABC Crop'\n",
        "  @classmethod\n",
        "  def setcompany(cls, name):\n",
        "    cls.company = name\n",
        "\n",
        "# e1 = Employee()\n",
        "# e2 = Employee()\n",
        "# e1.setcompany('XYZ Corp')\n",
        "# print(e1.company, e2.company)\n",
        "Employee.setcompany('XYZ Corp')\n",
        "print(Employee.company)\n"
      ],
      "metadata": {
        "colab": {
          "base_uri": "https://localhost:8080/"
        },
        "id": "Dfg2rVm-s8_4",
        "outputId": "064b372b-7064-427e-c07e-14ee956aab22"
      },
      "execution_count": 142,
      "outputs": [
        {
          "output_type": "stream",
          "name": "stdout",
          "text": [
            "XYZ Corp\n"
          ]
        }
      ]
    },
    {
      "cell_type": "code",
      "source": [
        "# 4\n",
        "class Person:\n",
        "  def __init__(self, age = 0):\n",
        "    self.__age = age\n",
        "\n",
        "  def getAge(self):\n",
        "    return self.__age\n",
        "\n",
        "  def setAge(self, age):\n",
        "    self.__age = age\n",
        "\n",
        "p1 = Person()\n",
        "p1.setAge(25)\n",
        "print(p1.getAge())"
      ],
      "metadata": {
        "colab": {
          "base_uri": "https://localhost:8080/"
        },
        "id": "ggoGHsFwtuRN",
        "outputId": "5e9cb962-79fa-4320-b91b-8b7353dc6289"
      },
      "execution_count": 143,
      "outputs": [
        {
          "output_type": "stream",
          "name": "stdout",
          "text": [
            "25\n"
          ]
        }
      ]
    },
    {
      "cell_type": "code",
      "source": [
        "# 5\n",
        "class Person:\n",
        "  def __init__(self, age = 0):\n",
        "    self.__age = age\n",
        "\n",
        "  @property\n",
        "  def age(self):\n",
        "    return self.__age\n",
        "\n",
        "  @age.setter\n",
        "  def age(self, age):\n",
        "    self.__age = age\n",
        "\n",
        "p1 = Person()\n",
        "p1.age = 25\n",
        "print(p1.age)"
      ],
      "metadata": {
        "colab": {
          "base_uri": "https://localhost:8080/"
        },
        "id": "VgHcZmV2ukxV",
        "outputId": "6e5210c3-4fea-4410-d2e3-09087925d906"
      },
      "execution_count": 137,
      "outputs": [
        {
          "output_type": "stream",
          "name": "stdout",
          "text": [
            "25\n"
          ]
        }
      ]
    },
    {
      "cell_type": "code",
      "source": [
        "# 6 객체간의 비교연산자를 가능하게 하도록 재정의\n",
        "class Dot:\n",
        "  def __init__(self, x):\n",
        "    self.x = x\n",
        "\n",
        "  def __eq__(self, other):\n",
        "    return self.x == other.x\n",
        "\n",
        "  def __ne__(self, other):\n",
        "    return self.x != other.x\n",
        "\n",
        "a = Dot(10)\n",
        "b = Dot(20)\n",
        "print(a == b)\n",
        "print(a != b)"
      ],
      "metadata": {
        "colab": {
          "base_uri": "https://localhost:8080/"
        },
        "id": "UGTtE9FYOmxd",
        "outputId": "e88dda42-edcf-4120-dc81-c5d4a96c5740"
      },
      "execution_count": 13,
      "outputs": [
        {
          "output_type": "stream",
          "name": "stdout",
          "text": [
            "False\n",
            "True\n"
          ]
        }
      ]
    },
    {
      "cell_type": "code",
      "source": [
        "# 7\n",
        "class Vehicle:\n",
        "  def __init__(self, make='', model='') -> None:\n",
        "    self.make = make\n",
        "    self.model = model\n",
        "\n",
        "class Car(Vehicle):\n",
        "  def __init__(self, make='', model='') -> None:\n",
        "    super().__init__(make, model)\n",
        "\n",
        "car = Car('Tesla', 'Model X')\n",
        "print(car.make, car.model)"
      ],
      "metadata": {
        "colab": {
          "base_uri": "https://localhost:8080/"
        },
        "id": "ALjzYIkKwjEU",
        "outputId": "5419934b-ee4d-47c5-a72c-cdc6ded3f0bd"
      },
      "execution_count": 153,
      "outputs": [
        {
          "output_type": "stream",
          "name": "stdout",
          "text": [
            "Tesla Model X\n"
          ]
        }
      ]
    },
    {
      "cell_type": "code",
      "source": [
        "# 8\n",
        "class ParentClass:\n",
        "  def __init__(self):\n",
        "    self.__secret = '비밀'\n",
        "    self.public = '공개'\n",
        "\n",
        "class ChildClass(ParentClass): # 기본 생성자 자동 호출\n",
        "  pass\n",
        "\n",
        "child = ChildClass()\n",
        "print(child.public)\n",
        "print(child.__secret) # private은 상속되지 않는다"
      ],
      "metadata": {
        "colab": {
          "base_uri": "https://localhost:8080/",
          "height": 202
        },
        "id": "thlWHeOmwjtj",
        "outputId": "88981acc-4e4f-4f3b-ad12-15402cb0cf0e"
      },
      "execution_count": 163,
      "outputs": [
        {
          "output_type": "stream",
          "name": "stdout",
          "text": [
            "공개\n"
          ]
        },
        {
          "output_type": "error",
          "ename": "AttributeError",
          "evalue": "'ChildClass' object has no attribute '__secret'",
          "traceback": [
            "\u001b[0;31m---------------------------------------------------------------------------\u001b[0m",
            "\u001b[0;31mAttributeError\u001b[0m                            Traceback (most recent call last)",
            "\u001b[0;32m<ipython-input-163-3b7b216c397b>\u001b[0m in \u001b[0;36m<cell line: 12>\u001b[0;34m()\u001b[0m\n\u001b[1;32m     10\u001b[0m \u001b[0mchild\u001b[0m \u001b[0;34m=\u001b[0m \u001b[0mChildClass\u001b[0m\u001b[0;34m(\u001b[0m\u001b[0;34m)\u001b[0m\u001b[0;34m\u001b[0m\u001b[0;34m\u001b[0m\u001b[0m\n\u001b[1;32m     11\u001b[0m \u001b[0mprint\u001b[0m\u001b[0;34m(\u001b[0m\u001b[0mchild\u001b[0m\u001b[0;34m.\u001b[0m\u001b[0mpublic\u001b[0m\u001b[0;34m)\u001b[0m\u001b[0;34m\u001b[0m\u001b[0;34m\u001b[0m\u001b[0m\n\u001b[0;32m---> 12\u001b[0;31m \u001b[0mprint\u001b[0m\u001b[0;34m(\u001b[0m\u001b[0mchild\u001b[0m\u001b[0;34m.\u001b[0m\u001b[0m__secret\u001b[0m\u001b[0;34m)\u001b[0m\u001b[0;34m\u001b[0m\u001b[0;34m\u001b[0m\u001b[0m\n\u001b[0m",
            "\u001b[0;31mAttributeError\u001b[0m: 'ChildClass' object has no attribute '__secret'"
          ]
        }
      ]
    },
    {
      "cell_type": "code",
      "source": [
        "# 클래스는 연습을 많이..\n",
        "# 상속 --> 딥러닝을 구현할 때 Metwork이라는 신경망 클래스"
      ],
      "metadata": {
        "id": "t8EuIJkUwkmN"
      },
      "execution_count": 164,
      "outputs": []
    },
    {
      "cell_type": "code",
      "source": [
        "# 구구단을 클래스로 표현\n",
        "# 계산기\n",
        "# 두개를 모듈로 0000.py --> 모듈로\n",
        "\n",
        "class GuGu:\n",
        "  def __init__(self, dan) -> None:\n",
        "    self.dan = dan # setter의 dan 값임\n",
        "\n",
        "  @property\n",
        "  def dan(self):\n",
        "    return self.__dan\n",
        "\n",
        "  @dan.setter\n",
        "  def dan(self, dan):\n",
        "    if dan > 9 or dan < 2:\n",
        "      raise Exception(\"2~9단만 가능합니다\")\n",
        "    self.__dan = dan\n",
        "\n",
        "  def show(self):\n",
        "    for i in range(1,10):\n",
        "      print(f\"{self.__dan} x {i} = {self.__dan * i}\")\n"
      ],
      "metadata": {
        "id": "XnoZAgTC6Vgr"
      },
      "execution_count": 1,
      "outputs": []
    },
    {
      "cell_type": "code",
      "source": [
        "for dan in range(2,10):\n",
        "  GuGu(dan).show()\n",
        "  print('-'*100)"
      ],
      "metadata": {
        "colab": {
          "base_uri": "https://localhost:8080/"
        },
        "id": "00DbDMYe-YL7",
        "outputId": "e00496f1-053a-4fa5-ae4c-191f5d124602"
      },
      "execution_count": 12,
      "outputs": [
        {
          "output_type": "stream",
          "name": "stdout",
          "text": [
            "2 x 1 = 2\n",
            "2 x 2 = 4\n",
            "2 x 3 = 6\n",
            "2 x 4 = 8\n",
            "2 x 5 = 10\n",
            "2 x 6 = 12\n",
            "2 x 7 = 14\n",
            "2 x 8 = 16\n",
            "2 x 9 = 18\n",
            "----------------------------------------------------------------------------------------------------\n",
            "3 x 1 = 3\n",
            "3 x 2 = 6\n",
            "3 x 3 = 9\n",
            "3 x 4 = 12\n",
            "3 x 5 = 15\n",
            "3 x 6 = 18\n",
            "3 x 7 = 21\n",
            "3 x 8 = 24\n",
            "3 x 9 = 27\n",
            "----------------------------------------------------------------------------------------------------\n",
            "4 x 1 = 4\n",
            "4 x 2 = 8\n",
            "4 x 3 = 12\n",
            "4 x 4 = 16\n",
            "4 x 5 = 20\n",
            "4 x 6 = 24\n",
            "4 x 7 = 28\n",
            "4 x 8 = 32\n",
            "4 x 9 = 36\n",
            "----------------------------------------------------------------------------------------------------\n",
            "5 x 1 = 5\n",
            "5 x 2 = 10\n",
            "5 x 3 = 15\n",
            "5 x 4 = 20\n",
            "5 x 5 = 25\n",
            "5 x 6 = 30\n",
            "5 x 7 = 35\n",
            "5 x 8 = 40\n",
            "5 x 9 = 45\n",
            "----------------------------------------------------------------------------------------------------\n",
            "6 x 1 = 6\n",
            "6 x 2 = 12\n",
            "6 x 3 = 18\n",
            "6 x 4 = 24\n",
            "6 x 5 = 30\n",
            "6 x 6 = 36\n",
            "6 x 7 = 42\n",
            "6 x 8 = 48\n",
            "6 x 9 = 54\n",
            "----------------------------------------------------------------------------------------------------\n",
            "7 x 1 = 7\n",
            "7 x 2 = 14\n",
            "7 x 3 = 21\n",
            "7 x 4 = 28\n",
            "7 x 5 = 35\n",
            "7 x 6 = 42\n",
            "7 x 7 = 49\n",
            "7 x 8 = 56\n",
            "7 x 9 = 63\n",
            "----------------------------------------------------------------------------------------------------\n",
            "8 x 1 = 8\n",
            "8 x 2 = 16\n",
            "8 x 3 = 24\n",
            "8 x 4 = 32\n",
            "8 x 5 = 40\n",
            "8 x 6 = 48\n",
            "8 x 7 = 56\n",
            "8 x 8 = 64\n",
            "8 x 9 = 72\n",
            "----------------------------------------------------------------------------------------------------\n",
            "9 x 1 = 9\n",
            "9 x 2 = 18\n",
            "9 x 3 = 27\n",
            "9 x 4 = 36\n",
            "9 x 5 = 45\n",
            "9 x 6 = 54\n",
            "9 x 7 = 63\n",
            "9 x 8 = 72\n",
            "9 x 9 = 81\n",
            "----------------------------------------------------------------------------------------------------\n"
          ]
        }
      ]
    },
    {
      "cell_type": "code",
      "source": [
        "# 계산기 - 람다\n",
        "def calculator(func, *args):\n",
        "  return func(*args)\n",
        "\n",
        "calculator(lambda x,y: x+y, 10,20)"
      ],
      "metadata": {
        "colab": {
          "base_uri": "https://localhost:8080/"
        },
        "id": "iqBII897-5v3",
        "outputId": "98aea9cd-5003-4e57-a7cf-3ac30c535f85"
      },
      "execution_count": 3,
      "outputs": [
        {
          "output_type": "execute_result",
          "data": {
            "text/plain": [
              "30"
            ]
          },
          "metadata": {},
          "execution_count": 3
        }
      ]
    },
    {
      "cell_type": "code",
      "source": [
        "def temp(*args):\n",
        "  return sum(map(lambda x : x+5, args))"
      ],
      "metadata": {
        "id": "8XDes0J9_sn4"
      },
      "execution_count": 4,
      "outputs": []
    },
    {
      "cell_type": "code",
      "source": [
        "calculator(temp, 1, 2)"
      ],
      "metadata": {
        "colab": {
          "base_uri": "https://localhost:8080/"
        },
        "id": "gQ3bwhmWAAua",
        "outputId": "838e73f3-a1cf-43d9-879a-14096e9143f4"
      },
      "execution_count": 5,
      "outputs": [
        {
          "output_type": "execute_result",
          "data": {
            "text/plain": [
              "13"
            ]
          },
          "metadata": {},
          "execution_count": 5
        }
      ]
    },
    {
      "cell_type": "code",
      "source": [
        "# 파일 경로 /content/module 로 설정\n",
        "import sys\n",
        "sys.path.append('/content/drive/MyDrive/module')"
      ],
      "metadata": {
        "id": "xZUw9lTv68eB"
      },
      "execution_count": 9,
      "outputs": []
    },
    {
      "cell_type": "code",
      "source": [
        "import numcal"
      ],
      "metadata": {
        "id": "mjuiPKvU79dC"
      },
      "execution_count": 10,
      "outputs": []
    },
    {
      "cell_type": "code",
      "source": [
        "numcal.calculator(lambda x: x*2, 10)"
      ],
      "metadata": {
        "colab": {
          "base_uri": "https://localhost:8080/"
        },
        "id": "zOaRjrlf8D31",
        "outputId": "938a78f7-5f33-49fc-a8ed-7e06037d2a91"
      },
      "execution_count": 16,
      "outputs": [
        {
          "output_type": "execute_result",
          "data": {
            "text/plain": [
              "20"
            ]
          },
          "metadata": {},
          "execution_count": 16
        }
      ]
    },
    {
      "cell_type": "code",
      "source": [],
      "metadata": {
        "id": "UF5pEDJ88Nc_"
      },
      "execution_count": null,
      "outputs": []
    }
  ]
}