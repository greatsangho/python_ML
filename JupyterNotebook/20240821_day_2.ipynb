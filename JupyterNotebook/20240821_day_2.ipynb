{
  "nbformat": 4,
  "nbformat_minor": 0,
  "metadata": {
    "colab": {
      "provenance": [],
      "authorship_tag": "ABX9TyOkZqVUhEnicjzJ4KjYGPu8",
      "include_colab_link": true
    },
    "kernelspec": {
      "name": "python3",
      "display_name": "Python 3"
    },
    "language_info": {
      "name": "python"
    }
  },
  "cells": [
    {
      "cell_type": "markdown",
      "metadata": {
        "id": "view-in-github",
        "colab_type": "text"
      },
      "source": [
        "<a href=\"https://colab.research.google.com/github/greatsangho/python_study/blob/main/20240821_day_2.ipynb\" target=\"_parent\"><img src=\"https://colab.research.google.com/assets/colab-badge.svg\" alt=\"Open In Colab\"/></a>"
      ]
    },
    {
      "cell_type": "markdown",
      "source": [
        "1. 변수\n",
        "    - 식별자\n",
        "    - 식별자() --> 함수\n",
        "    - 첫글자가 대문자인 식별자 --> 클래스\n",
        "    - 네이밍 룰 : 스네이크, 카멜케이스\n",
        "        - 스네이크 : 식별자_식별자\n",
        "        - 카멜케이스 : 각 단어의 첫글자는 대문자로 해서 결합\n",
        "2. 연산자\n",
        "    - 사칙연산자 : + - * /\n",
        "    - 대입연산자 : =\n",
        "    - **, //, %\n",
        "3. 문자열\n",
        "    - 슬라이싱\n",
        "        - [startindex : endindex -1]\n",
        "        - 정방향\n",
        "        - 역방향 : 맨 마지막 데이터를 쉽게 접근\n",
        "        - step :    [ :: -1]\n",
        "        - 연산\n",
        "            - 문자열끼리 더하기\n",
        "            - 문자열 + 숫자\n",
        "4. 파이썬의 특징\n",
        "    - 예약어 : 사용하며 안되지만 사용해도 에러가 안나서 그게 문제\n",
        "    - 우선순위\n",
        "    - 타입이 없지만 조사는 가능 ( type() )\n",
        "    - 타입 변환이 가능하다\n",
        "        - int() float() bool() str() ..."
      ],
      "metadata": {
        "id": "pBuKK938QxcJ"
      }
    },
    {
      "cell_type": "code",
      "execution_count": null,
      "metadata": {
        "id": "4nZfK3s1QwY0"
      },
      "outputs": [],
      "source": [
        "# 변수 만들기 : 직접 데이터를 사용하는 변수\n",
        "# 참조변수\n",
        "a = 10\n",
        "b = 20\n",
        "c = [1,2,3,4,5] # 레퍼런스(ref) 변수\n",
        "d = c # 얕은복사 두 변수가 사실은 같은 변수(같은주소);구글드라이브 공유\n",
        "e = c[:] # 깊은복사 두 변수가 서로 다른 주소를 갖는다;직접 문서 복사, 새로운 ref 변수를 생성"
      ]
    },
    {
      "cell_type": "code",
      "source": [
        "print(\"안녕하세요\")\n",
        "print(\"-\"*100)"
      ],
      "metadata": {
        "colab": {
          "base_uri": "https://localhost:8080/"
        },
        "id": "L6iVGToEVCTr",
        "outputId": "6ca846c4-3b95-46ca-b880-67b981eac1d0"
      },
      "execution_count": null,
      "outputs": [
        {
          "output_type": "stream",
          "name": "stdout",
          "text": [
            "안녕하세요\n",
            "----------------------------------------------------------------------------------------------------\n"
          ]
        }
      ]
    },
    {
      "cell_type": "code",
      "source": [
        "print(10==100)\n",
        "print(10!=100)\n",
        "print(10<100)\n",
        "print(10>100)\n",
        "print(10<=100)\n",
        "print(10>=100)"
      ],
      "metadata": {
        "colab": {
          "base_uri": "https://localhost:8080/"
        },
        "id": "5AaGmDhPVj6h",
        "outputId": "8f5ec680-3869-4ea8-f258-4dff9c3fad8b"
      },
      "execution_count": null,
      "outputs": [
        {
          "output_type": "stream",
          "name": "stdout",
          "text": [
            "False\n",
            "True\n",
            "True\n",
            "False\n",
            "True\n",
            "False\n"
          ]
        }
      ]
    },
    {
      "cell_type": "markdown",
      "source": [
        "비교연산자 만들기"
      ],
      "metadata": {
        "id": "bXphsfOhZvSO"
      }
    },
    {
      "cell_type": "code",
      "source": [
        "# 사용자로부터 2개의 값은 받기\n",
        "num1, num2 = input(\"두개의 값을 입력하세요\").split()\n",
        "# 문자열 숫자를 숫자로 변경하기\n",
        "num1, num2 = int(num1), int(num2)\n",
        "print(f\"num1 == num2 : {num1 == num2}\")\n",
        "print(f\"num1 != num2 : {num1 != num2}\")\n",
        "print(f\"num1 < num2 : {num1 < num2}\")\n",
        "print(f\"num1 > num2 : {num1 > num2}\")\n",
        "print(f\"num1 <= num2 : {num1 <= num2}\")\n",
        "print(f\"num1 >= num2 : {num1 >= num2}\")"
      ],
      "metadata": {
        "colab": {
          "base_uri": "https://localhost:8080/"
        },
        "id": "iW4bsMHMZDNQ",
        "outputId": "f18df235-4f34-48b3-ca63-0f289d9c95f0"
      },
      "execution_count": null,
      "outputs": [
        {
          "output_type": "stream",
          "name": "stdout",
          "text": [
            "두개의 값을 입력하세요10 20\n",
            "num1 == num2 : False\n",
            "num1 != num2 : True\n",
            "num1 < num2 : True\n",
            "num1 > num2 : False\n",
            "num1 <= num2 : True\n",
            "num1 >= num2 : False\n"
          ]
        }
      ]
    },
    {
      "cell_type": "code",
      "source": [
        "print(\"문자열\" == 1)    # 문자열과 숫자는 비교 불가"
      ],
      "metadata": {
        "colab": {
          "base_uri": "https://localhost:8080/"
        },
        "id": "NKy2ePJqaEpY",
        "outputId": "63ae09d4-ac3c-4ebb-cadb-91d3026c0eff"
      },
      "execution_count": null,
      "outputs": [
        {
          "output_type": "stream",
          "name": "stdout",
          "text": [
            "False\n"
          ]
        }
      ]
    },
    {
      "cell_type": "code",
      "source": [
        "print(not True)\n",
        "print(not False)"
      ],
      "metadata": {
        "colab": {
          "base_uri": "https://localhost:8080/"
        },
        "id": "CSRV_ds9dd9-",
        "outputId": "efe0e337-2b79-460e-89ab-d9105d773c46"
      },
      "execution_count": null,
      "outputs": [
        {
          "output_type": "stream",
          "name": "stdout",
          "text": [
            "False\n",
            "True\n"
          ]
        }
      ]
    },
    {
      "cell_type": "code",
      "source": [
        "not (10>20)"
      ],
      "metadata": {
        "colab": {
          "base_uri": "https://localhost:8080/"
        },
        "id": "3zXpV2NidjJ1",
        "outputId": "26aa2dba-019f-4bd7-885a-860525bd0f7f"
      },
      "execution_count": null,
      "outputs": [
        {
          "output_type": "execute_result",
          "data": {
            "text/plain": [
              "True"
            ]
          },
          "metadata": {},
          "execution_count": 11
        }
      ]
    },
    {
      "cell_type": "code",
      "source": [
        "print(True & False, True and False)\n",
        "print(True | False, True or False)"
      ],
      "metadata": {
        "colab": {
          "base_uri": "https://localhost:8080/"
        },
        "id": "Ji6Xme9PhhDK",
        "outputId": "adae5cfb-f057-4054-b269-a57cf1d2fd47"
      },
      "execution_count": null,
      "outputs": [
        {
          "output_type": "stream",
          "name": "stdout",
          "text": [
            "False False\n",
            "True True\n"
          ]
        }
      ]
    },
    {
      "cell_type": "code",
      "source": [
        "# 입력을 받는다\n",
        "num = input(\"정수 입력 : \")\n",
        "if num.isdecimal():\n",
        "    num = int(num)\n",
        "\n",
        "    # 양수조건\n",
        "    if num > 0:\n",
        "        print(\"양수입니다.\")\n",
        "    # 음수조건\n",
        "    if num < 0:\n",
        "        print(\"음수입니다.\")\n",
        "    # 0조건\n",
        "    if num == 0:\n",
        "        print(\"0입니다.\")"
      ],
      "metadata": {
        "colab": {
          "base_uri": "https://localhost:8080/"
        },
        "id": "Ll1Arq25h4l_",
        "outputId": "cb0cfa41-e15c-426f-974b-dfddd5689a9b"
      },
      "execution_count": null,
      "outputs": [
        {
          "output_type": "stream",
          "name": "stdout",
          "text": [
            "정수 입력 : 100\n",
            "양수입니다.\n"
          ]
        }
      ]
    },
    {
      "cell_type": "code",
      "source": [
        "number = '10'\n",
        "number.isdecimal()"
      ],
      "metadata": {
        "colab": {
          "base_uri": "https://localhost:8080/"
        },
        "id": "fIhXF8_7iSc7",
        "outputId": "86cc765d-d7a9-45a6-c3ea-24b6778a2748"
      },
      "execution_count": null,
      "outputs": [
        {
          "output_type": "execute_result",
          "data": {
            "text/plain": [
              "True"
            ]
          },
          "metadata": {},
          "execution_count": 21
        }
      ]
    },
    {
      "cell_type": "code",
      "source": [
        "import datetime\n",
        "now = datetime.datetime.now() + datetime.timedelta(hours = 9)   # 현재 날짜 구하기\n",
        "print(now)\n",
        "print(type(now))\n",
        "print(now.year, \"년\")\n",
        "print(now.month, \"월\")\n",
        "print(now.day, \"일\")\n",
        "print(now.hour, \"시\")\n",
        "print(now.minute, \"분\")\n",
        "print(now.second, \"초\")\n",
        "print(now.microsecond, \"마이크로초\")\n",
        "print(f\"{now.year}년 {now.month}월 {now.day}일 {now.hour}시 {now.minute}분 {now.second}초\")"
      ],
      "metadata": {
        "colab": {
          "base_uri": "https://localhost:8080/"
        },
        "id": "F8B1nXrdka7y",
        "outputId": "ddead94a-00d5-4f5e-ade2-b7f8336bc7e8"
      },
      "execution_count": null,
      "outputs": [
        {
          "output_type": "stream",
          "name": "stdout",
          "text": [
            "2024-08-21 11:02:18.062032\n",
            "<class 'datetime.datetime'>\n",
            "2024 년\n",
            "8 월\n",
            "21 일\n",
            "11 시\n",
            "2 분\n",
            "18 초\n",
            "62032 마이크로초\n",
            "2024년 8월 21일 11시 2분 18초\n"
          ]
        }
      ]
    },
    {
      "cell_type": "code",
      "source": [
        "# 현재시간을 구해서 오전 오후로 나눠서 출력하기\n",
        "if now.hour < 12:\n",
        "    print(f\"현재 시간은 {now.hour}시로 오전입니다.\")\n",
        "if now.hour > 12:\n",
        "    print(f\"현재 시간은 {now.hour}시로 오후입니다.\")"
      ],
      "metadata": {
        "colab": {
          "base_uri": "https://localhost:8080/"
        },
        "id": "lND3KJ3omC5g",
        "outputId": "eb8bc543-b6d5-4491-fd0a-e4f851ff9cd4"
      },
      "execution_count": null,
      "outputs": [
        {
          "output_type": "stream",
          "name": "stdout",
          "text": [
            "현재 시간은 11시로 오전입니다.\n"
          ]
        }
      ]
    },
    {
      "cell_type": "code",
      "source": [
        "import datetime\n",
        "now = datetime.datetime.now()\n",
        "current_monht = now.month\n",
        "if 3<=current_monht<=5:\n",
        "    print(f\"이번달은 {now.month}월로 봄입니다\")\n",
        "if 6<=current_monht<=8:\n",
        "    print(f\"이번달은 {now.month}월로 여름입니다\")\n",
        "if 9<=current_monht<=11:\n",
        "    print(f\"이번달은 {now.month}월로 가을입니다\")\n",
        "if 12==current_monht or current_monht<=2:\n",
        "    print(f\"이번달은 {now.month}월로 겨울입니다\")"
      ],
      "metadata": {
        "colab": {
          "base_uri": "https://localhost:8080/"
        },
        "id": "ftpzzVQNoJgG",
        "outputId": "ee5ce050-2cfc-43dc-f2c1-0b5e7cbc55ae"
      },
      "execution_count": null,
      "outputs": [
        {
          "output_type": "stream",
          "name": "stdout",
          "text": [
            "이번달은 8월로 여름입니다\n"
          ]
        }
      ]
    },
    {
      "cell_type": "code",
      "source": [
        "# 오늘 수업은 오후 5시 50분까지이고 몇시간 몇분이 몇초 남았는지 구하기\n",
        "import datetime\n",
        "now = datetime.datetime.now() + datetime.timedelta(hours = 9)\n",
        "EndHour,EndMinute, EndSecond = 17,50 - 1, 60\n",
        "# print(EndHour - now.hour)\n",
        "# print(EndMinute - now.minute)\n",
        "print(f\"수업 종료까지 {EndHour - now.hour}시간 {EndMinute - now.minute}분 {EndSecond - now.second}초 남았습니다\")"
      ],
      "metadata": {
        "colab": {
          "base_uri": "https://localhost:8080/"
        },
        "id": "syf-U9U1rxqq",
        "outputId": "eb015616-e4b8-4f15-e732-aa0a4e810707"
      },
      "execution_count": null,
      "outputs": [
        {
          "output_type": "stream",
          "name": "stdout",
          "text": [
            "수업 종료까지 6시간 31분 38초 남았습니다\n"
          ]
        }
      ]
    },
    {
      "cell_type": "code",
      "source": [
        "# 현재시간 구하고\n",
        "# 현재시간에 목표시간을 설정한 다음\n",
        "# 두 시간차를 계산\n",
        "now = datetime.datetime.now() + datetime.timedelta(hours =9) # 현재시간\n",
        "target = now.replace(hour=17, minute=50, second=0) # 목표시간\n",
        "RemainTime = target - now # 두 시간차\n",
        "TotalSec = RemainTime.total_seconds() # 두 시간차를 초로 환산"
      ],
      "metadata": {
        "id": "PvbpxvCluCbV"
      },
      "execution_count": null,
      "outputs": []
    },
    {
      "cell_type": "code",
      "source": [
        "# 초단위를 시간 단위로 나눠서 몫은 시간이고 나머지가 있다면\n",
        "# 나머지 값을 다시 분단위로 나눠서 몫은 분이고 나머지가 초\n",
        "# RemainHour = int(TotalSec//3600)\n",
        "# RemainMin = int((TotalSec%3600)//60)\n",
        "# RemainSec = int((TotalSec%3600)%60)\n",
        "# print(f\"수업 종료까지 {RemainHour}시간 {RemainMin}분 {RemainSec}초 남았습니다\")\n",
        "\n",
        "# 버그를 포함하는 코드\n",
        "h = TotalSec // 3600 # 시간\n",
        "m, s = 0, 0  # 초기화 이 부분이 없으면 마지막 코드에서 조건문에 걸리지 않을 때\n",
        "# m과 s가 정의되지 않아서 에러 발생\n",
        "\n",
        "TotalSec %= 3600 # 시간을 뺀 나머지 초단위 값\n",
        "if TotalSec > 0:\n",
        "\n",
        "    m = TotalSec // 60 # 분\n",
        "    TotalSec %= 60 # 분은 뺀 나머지 값\n",
        "    if TotalSec > 0:\n",
        "        s = TotalSec # 초\n",
        "\n",
        "print(f\"수업 종료까지 {int(h)}시간 {int(m)}분 {int(s)}초 남았습니다\")"
      ],
      "metadata": {
        "colab": {
          "base_uri": "https://localhost:8080/"
        },
        "id": "y0XrUDWAvNDm",
        "outputId": "9537d7fe-566e-4be0-98e6-23c06cbc9f58"
      },
      "execution_count": null,
      "outputs": [
        {
          "output_type": "stream",
          "name": "stdout",
          "text": [
            "수업 종료까지 6시간 16분 36초 남았습니다\n"
          ]
        }
      ]
    },
    {
      "cell_type": "code",
      "source": [
        "# 순수하게 강의를 듣는 시간 구하기"
      ],
      "metadata": {
        "id": "FTeVKvrrvwdo"
      },
      "execution_count": null,
      "outputs": []
    },
    {
      "cell_type": "code",
      "source": [
        "import datetime\n",
        "now = datetime.datetime.now() + datetime.timedelta(hours = 9)\n",
        "target = now.replace(hour = 17, minute = 50, second = 0)\n",
        "RemainTime = target - now\n",
        "TotalSec = RemainTime.total_seconds()\n",
        "h = int(TotalSec // 3600)\n",
        "m = int((TotalSec % 3600) // 60)\n",
        "s = int((TotalSec % 3600) % 60)\n",
        "\n",
        "if TotalSec > (3600 * 5 + 600):\n",
        "    TotalSec = TotalSec - 600*h - 3600\n",
        "    h = int(TotalSec // 3600)\n",
        "    m = int((TotalSec % 3600) // 60)\n",
        "    s = int((TotalSec % 3600) % 60)\n",
        "elif TotalSec > 3600 * 4:\n",
        "    TotalSec = TotalSec - 600*h\n",
        "    h = int(TotalSec // 3600)\n",
        "    m = int((TotalSec % 3600) // 60)\n",
        "    s = int((TotalSec % 3600) % 60)\n",
        "else:\n",
        "    TotalSec = TotalSec - 600*h\n",
        "    h = int(TotalSec // 3600)\n",
        "    m = int((TotalSec % 3600) // 60)\n",
        "    s = int((TotalSec % 3600) % 60)\n",
        "\n",
        "print(f\"수업 종료까지 {int(h)}시간 {int(m)}분 {int(s)}초 남았습니다\")\n"
      ],
      "metadata": {
        "colab": {
          "base_uri": "https://localhost:8080/"
        },
        "id": "Z0BfC73GguIp",
        "outputId": "73a698bd-a265-4a64-fe93-02748351e5d7"
      },
      "execution_count": 218,
      "outputs": [
        {
          "output_type": "stream",
          "name": "stdout",
          "text": [
            "수업 종료까지 -2시간 21분 49초 남았습니다\n"
          ]
        }
      ]
    },
    {
      "cell_type": "markdown",
      "source": [
        "간단한 조건문 연습"
      ],
      "metadata": {
        "id": "dJJdh0791OOG"
      }
    },
    {
      "cell_type": "code",
      "source": [
        "# 사용자로 부터 나이를 입력 받아서 미성년자 인지 구분하는 프로그램\n",
        "# 성인 19세 이상\n",
        "# 출력은 성인입니다., 미성년 입니다.\n",
        "# 성인이면 입장료를 25000원 받고 미성년이면 25% 할인해서\n",
        "# 두번째 출력은 입장료는 얼마입니다.\n",
        "age = input(\"나이를 입력하세요: \")\n",
        "cost = 25000\n",
        "if age.isnumeric():\n",
        "    age = int(age)\n",
        "    if age >= 19:\n",
        "        print(\"성인입니다.\")\n",
        "        print(f\"입장료는 {cost}원입니다.\")\n",
        "    else:\n",
        "        print(\"미성년입니다.\")\n",
        "        print(f\"입장료는 {int(cost*0.75)}원입니다.\")\n"
      ],
      "metadata": {
        "colab": {
          "base_uri": "https://localhost:8080/"
        },
        "id": "-NjviuU5wz-I",
        "outputId": "6e512a43-6f09-4652-c912-bca62f3e257c"
      },
      "execution_count": null,
      "outputs": [
        {
          "output_type": "stream",
          "name": "stdout",
          "text": [
            "나이를 입력하세요: 10\n",
            "미성년입니다.\n",
            "입장료는 18750원입니다.\n"
          ]
        }
      ]
    },
    {
      "cell_type": "code",
      "source": [
        "number = input(\"정수 입력 : \")\n",
        "if number.isdecimal():\n",
        "    number = int(number)\n",
        "    if number % 2 == 0:\n",
        "        print(\"짝수입니다.\")\n",
        "    else:\n",
        "        print(\"홀수입니다.\")"
      ],
      "metadata": {
        "colab": {
          "base_uri": "https://localhost:8080/"
        },
        "id": "SKCgmWDF2DaT",
        "outputId": "4255b550-58a2-48f8-a7cb-61046220f3a2"
      },
      "execution_count": null,
      "outputs": [
        {
          "output_type": "stream",
          "name": "stdout",
          "text": [
            "정수 입력 : 123\n",
            "홀수입니다.\n"
          ]
        }
      ]
    },
    {
      "cell_type": "code",
      "source": [
        "if age >= 19:\n",
        "    pass\n",
        "else:\n",
        "    pass"
      ],
      "metadata": {
        "id": "VZsgKs5u7-JZ"
      },
      "execution_count": null,
      "outputs": []
    },
    {
      "cell_type": "code",
      "source": [
        "x, y = 5, 0\n",
        "if x > 4:\n",
        "    if y > 2:\n",
        "        print(x * y)\n",
        "else:\n",
        "    print(x + y)"
      ],
      "metadata": {
        "id": "ljAdmg029Nlw"
      },
      "execution_count": null,
      "outputs": []
    },
    {
      "cell_type": "code",
      "source": [
        "x, y = 5, 0\n",
        "if x > 4 and y > 2:\n",
        "    print(x * y)\n",
        "else:\n",
        "    print(x + y)"
      ],
      "metadata": {
        "colab": {
          "base_uri": "https://localhost:8080/"
        },
        "id": "n8HRENIT-V29",
        "outputId": "2eeea09e-14b3-4a91-9278-4d2533f84a7d"
      },
      "execution_count": null,
      "outputs": [
        {
          "output_type": "stream",
          "name": "stdout",
          "text": [
            "5\n"
          ]
        }
      ]
    },
    {
      "cell_type": "code",
      "source": [
        "# 년도를 입력받아서 해당년도가 윤년인지 판단하는 프로그램을 작성\n",
        "'''\n",
        "그레고리력의 정확한 윤년 규칙은 다음과 같다.\n",
        "\n",
        "서력 기원 연수가 4로 나누어 떨어지는 해는 윤년으로 한다. (1988년, 1992년, 1996년, 2000년, 2004년, 2008년, 2012년, 2016년, 2020년, 2024년, 2028년, 2032년, 2036년, 2040년, 2044년 ...)\n",
        "서력 기원 연수가 4, 100으로 나누어 떨어지는 해는 평년으로 한다. (1700년, 1800년, 1900년, 2100년, 2200년, 2300년...)\n",
        "서력 기원 연수가 4, 100, 400으로 나누어 떨어지는 해는 윤년으로 둔다. (1600년, 2000년, 2400년...)\n",
        "'''\n",
        "# year = input(\"년도를 입력하세요 : \")\n",
        "# year = int(year)\n",
        "\n",
        "for year in range(1988, 2045):\n",
        "    if (year % 4 == 0):\n",
        "        if(year % 100 == 0 and year % 400 != 0):\n",
        "            # print(\"평년\")\n",
        "            pass\n",
        "        else:\n",
        "            print(\"윤년\",year)\n",
        "    else:\n",
        "        # print(\"평년\")\n",
        "        pass\n"
      ],
      "metadata": {
        "colab": {
          "base_uri": "https://localhost:8080/"
        },
        "id": "Pssq3neJ-bvq",
        "outputId": "8a516c1c-8718-4330-ff49-779b6f2475e5"
      },
      "execution_count": null,
      "outputs": [
        {
          "output_type": "stream",
          "name": "stdout",
          "text": [
            "윤년 1988\n",
            "윤년 1992\n",
            "윤년 1996\n",
            "윤년 2000\n",
            "윤년 2004\n",
            "윤년 2008\n",
            "윤년 2012\n",
            "윤년 2016\n",
            "윤년 2020\n",
            "윤년 2024\n",
            "윤년 2028\n",
            "윤년 2032\n",
            "윤년 2036\n",
            "윤년 2040\n",
            "윤년 2044\n"
          ]
        }
      ]
    },
    {
      "cell_type": "markdown",
      "source": [
        "자료구조\n",
        "- list ***\n",
        "- tuple\n",
        "- set\n",
        "- dictionary"
      ],
      "metadata": {
        "id": "i7MsqopCXO3Y"
      }
    },
    {
      "cell_type": "code",
      "source": [
        "list_1 = [1,2]\n",
        "list_2 = [3,4]\n",
        "# 연산은 문자열과 동일...+,*,len()\n",
        "print(list_1 + list_2)\n",
        "print(list_1 * 3)\n",
        "print(len(list_1))"
      ],
      "metadata": {
        "colab": {
          "base_uri": "https://localhost:8080/"
        },
        "id": "1fZejiuvBBTV",
        "outputId": "5389f021-3743-4780-94b1-07562abb526c"
      },
      "execution_count": null,
      "outputs": [
        {
          "output_type": "stream",
          "name": "stdout",
          "text": [
            "[1, 2, 3, 4]\n",
            "[1, 2, 1, 2, 1, 2]\n",
            "2\n"
          ]
        }
      ]
    },
    {
      "cell_type": "markdown",
      "source": [
        "append / insert"
      ],
      "metadata": {
        "id": "2FTBolneZVm4"
      }
    },
    {
      "cell_type": "code",
      "source": [
        "list_3 = []\n",
        "list_3.append(1)\n",
        "print(list_3)\n",
        "list_3.append(2)\n",
        "print(list_3)\n",
        "list_3.append(3)\n",
        "print(list_3)\n",
        "list_3.insert(1,4)\n",
        "print(list_3)"
      ],
      "metadata": {
        "colab": {
          "base_uri": "https://localhost:8080/"
        },
        "id": "QQ3h-vHlXxwm",
        "outputId": "385acb26-5270-42c7-e432-af89ab90f9da"
      },
      "execution_count": null,
      "outputs": [
        {
          "output_type": "stream",
          "name": "stdout",
          "text": [
            "[1]\n",
            "[1, 2]\n",
            "[1, 2, 3]\n",
            "[1, 4, 2, 3]\n"
          ]
        }
      ]
    },
    {
      "cell_type": "markdown",
      "source": [
        "extend\n",
        " - 기존 리스트를 확장한다."
      ],
      "metadata": {
        "id": "dPNqCy8KZx8H"
      }
    },
    {
      "cell_type": "code",
      "source": [
        "list_1 = [1,2,3]\n",
        "list_2 = [4,5]\n",
        "\n",
        "# print(list_1.append(list_2))\n",
        "# print(list_1)\n",
        "# print(len(list_1))\n",
        "print(list_1 + list_2)\n",
        "list_1 += list_2\n",
        "print(list_1)\n",
        "list_1.extend(list_2)\n",
        "print(list_1)"
      ],
      "metadata": {
        "colab": {
          "base_uri": "https://localhost:8080/"
        },
        "id": "bJCRukVYZkYo",
        "outputId": "6f6a82ad-3c96-428a-eb3b-ce0943a26ade"
      },
      "execution_count": null,
      "outputs": [
        {
          "output_type": "stream",
          "name": "stdout",
          "text": [
            "[1, 2, 3, 4, 5]\n",
            "[1, 2, 3, 4, 5]\n",
            "[1, 2, 3, 4, 5, 4, 5]\n"
          ]
        }
      ]
    },
    {
      "cell_type": "markdown",
      "source": [
        "삭제\n",
        " - del, remove : 위치정보와 값으로 제거한다.\n",
        " - pop : 삭제한 데이터를 리턴한다\n",
        " - clear : 전부\n",
        "\n",
        "in/not in"
      ],
      "metadata": {
        "id": "Rf6QhUi8dAGe"
      }
    },
    {
      "cell_type": "code",
      "source": [
        "list_1 = [1,2,3,4,5]\n",
        "del list_1[0]\n",
        "print(list_1)\n",
        "print(list_1.pop()) # 인덱스를 생략하면 마지막 인덱스르 pop 한다\n",
        "print(list_1)\n",
        "list_1.remove(3) # 3이라는 값을 찾아서 삭제.. 전부가 아님\n",
        "print(list_1)\n",
        "list_1.clear() # 전부 삭제함\n",
        "print(list_1)\n",
        "list_1 = [1,2,3,4,5]\n",
        "print(3 in list_1) # 리스트의 요소중에 3이 있으면 true\n",
        "print(3 not in list_1) # 리스트의 요소중에 3이 없으면 true"
      ],
      "metadata": {
        "colab": {
          "base_uri": "https://localhost:8080/"
        },
        "id": "eH8Ks-E6aFRd",
        "outputId": "7a25b513-1389-4cbc-af19-3d4f3dbd9899"
      },
      "execution_count": null,
      "outputs": [
        {
          "output_type": "stream",
          "name": "stdout",
          "text": [
            "[2, 3, 4, 5]\n",
            "5\n",
            "[2, 3, 4]\n",
            "[2, 4]\n",
            "[]\n",
            "True\n",
            "False\n"
          ]
        }
      ]
    },
    {
      "cell_type": "markdown",
      "source": [
        "반복문\n",
        " - 동일한 코드를 연속적으로 실행\n",
        " - 패턴을 분석해서.. 반복문으로 만든다.\n",
        "  - 2 * 1 = 2"
      ],
      "metadata": {
        "id": "Qvo7eBYrec1U"
      }
    },
    {
      "cell_type": "code",
      "source": [
        "i = 1\n",
        "print(f\"2*{i}={2*i}\")\n",
        "i = 2\n",
        "print(f\"2*{i}={2*i}\")\n",
        "i = 3\n",
        "print(f\"2*{i}={2*i}\")\n",
        "i = 4\n",
        "print(f\"2*{i}={2*i}\")\n",
        "i = 5\n",
        "print(f\"2*{i}={2*i}\")\n",
        "i = 6\n",
        "print(f\"2*{i}={2*i}\")\n",
        "i = 7\n",
        "print(f\"2*{i}={2*i}\")\n",
        "i = 8\n",
        "print(f\"2*{i}={2*i}\")\n",
        "i = 9\n",
        "print(f\"2*{i}={2*i}\")"
      ],
      "metadata": {
        "colab": {
          "base_uri": "https://localhost:8080/"
        },
        "id": "aJsOveBPdsMQ",
        "outputId": "82ed4322-9cc2-4ea7-eb19-9cf07c843a7c"
      },
      "execution_count": null,
      "outputs": [
        {
          "output_type": "stream",
          "name": "stdout",
          "text": [
            "2*1=2\n",
            "2*2=4\n",
            "2*3=6\n",
            "2*4=8\n",
            "2*5=10\n",
            "2*6=12\n",
            "2*7=14\n",
            "2*8=16\n",
            "2*9=18\n"
          ]
        }
      ]
    },
    {
      "cell_type": "code",
      "source": [
        "for i in range(1,10):\n",
        "    print(f\"2*{i}={2*i}\")"
      ],
      "metadata": {
        "colab": {
          "base_uri": "https://localhost:8080/"
        },
        "id": "EZJ71Wx4e5RZ",
        "outputId": "fccca6f5-6730-4f38-93a5-4ce9d7619499"
      },
      "execution_count": null,
      "outputs": [
        {
          "output_type": "stream",
          "name": "stdout",
          "text": [
            "2*1=2\n",
            "2*2=4\n",
            "2*3=6\n",
            "2*4=8\n",
            "2*5=10\n",
            "2*6=12\n",
            "2*7=14\n",
            "2*8=16\n",
            "2*9=18\n"
          ]
        }
      ]
    },
    {
      "cell_type": "code",
      "source": [
        "for i in [10,20,300]:\n",
        "    print(i)"
      ],
      "metadata": {
        "colab": {
          "base_uri": "https://localhost:8080/"
        },
        "id": "jVMZDtsLhfoG",
        "outputId": "d1804a55-2432-4ac2-a611-2f19e52a5df3"
      },
      "execution_count": null,
      "outputs": [
        {
          "output_type": "stream",
          "name": "stdout",
          "text": [
            "10\n",
            "20\n",
            "300\n"
          ]
        }
      ]
    },
    {
      "cell_type": "code",
      "source": [
        "for dan in range(2,10):\n",
        "    for i in range(1,10):\n",
        "        print(f\"{dan}*{i}={dan*i}\")"
      ],
      "metadata": {
        "colab": {
          "base_uri": "https://localhost:8080/"
        },
        "id": "e2ptWmj3iqaF",
        "outputId": "c4b5b34b-1624-47d9-e11a-5f160f2ff358"
      },
      "execution_count": null,
      "outputs": [
        {
          "output_type": "stream",
          "name": "stdout",
          "text": [
            "2*1=2\n",
            "2*2=4\n",
            "2*3=6\n",
            "2*4=8\n",
            "2*5=10\n",
            "2*6=12\n",
            "2*7=14\n",
            "2*8=16\n",
            "2*9=18\n",
            "3*1=3\n",
            "3*2=6\n",
            "3*3=9\n",
            "3*4=12\n",
            "3*5=15\n",
            "3*6=18\n",
            "3*7=21\n",
            "3*8=24\n",
            "3*9=27\n",
            "4*1=4\n",
            "4*2=8\n",
            "4*3=12\n",
            "4*4=16\n",
            "4*5=20\n",
            "4*6=24\n",
            "4*7=28\n",
            "4*8=32\n",
            "4*9=36\n",
            "5*1=5\n",
            "5*2=10\n",
            "5*3=15\n",
            "5*4=20\n",
            "5*5=25\n",
            "5*6=30\n",
            "5*7=35\n",
            "5*8=40\n",
            "5*9=45\n",
            "6*1=6\n",
            "6*2=12\n",
            "6*3=18\n",
            "6*4=24\n",
            "6*5=30\n",
            "6*6=36\n",
            "6*7=42\n",
            "6*8=48\n",
            "6*9=54\n",
            "7*1=7\n",
            "7*2=14\n",
            "7*3=21\n",
            "7*4=28\n",
            "7*5=35\n",
            "7*6=42\n",
            "7*7=49\n",
            "7*8=56\n",
            "7*9=63\n",
            "8*1=8\n",
            "8*2=16\n",
            "8*3=24\n",
            "8*4=32\n",
            "8*5=40\n",
            "8*6=48\n",
            "8*7=56\n",
            "8*8=64\n",
            "8*9=72\n",
            "9*1=9\n",
            "9*2=18\n",
            "9*3=27\n",
            "9*4=36\n",
            "9*5=45\n",
            "9*6=54\n",
            "9*7=63\n",
            "9*8=72\n",
            "9*9=81\n"
          ]
        }
      ]
    },
    {
      "cell_type": "code",
      "source": [
        "for dan in range(2,10):\n",
        "    print(\"\\n\"+\"-\"*50 + str(dan) + \"-\"*50)\n",
        "    for i in range(1,10):\n",
        "        print(f\"{dan}*{i}={dan*i}\", end=\"\\t\")"
      ],
      "metadata": {
        "colab": {
          "base_uri": "https://localhost:8080/"
        },
        "id": "-rMKUSNrjoZx",
        "outputId": "4e1361af-7027-4e2e-c03f-2d60dc57d973"
      },
      "execution_count": null,
      "outputs": [
        {
          "output_type": "stream",
          "name": "stdout",
          "text": [
            "\n",
            "--------------------------------------------------2--------------------------------------------------\n",
            "2*1=2\t2*2=4\t2*3=6\t2*4=8\t2*5=10\t2*6=12\t2*7=14\t2*8=16\t2*9=18\t\n",
            "--------------------------------------------------3--------------------------------------------------\n",
            "3*1=3\t3*2=6\t3*3=9\t3*4=12\t3*5=15\t3*6=18\t3*7=21\t3*8=24\t3*9=27\t\n",
            "--------------------------------------------------4--------------------------------------------------\n",
            "4*1=4\t4*2=8\t4*3=12\t4*4=16\t4*5=20\t4*6=24\t4*7=28\t4*8=32\t4*9=36\t\n",
            "--------------------------------------------------5--------------------------------------------------\n",
            "5*1=5\t5*2=10\t5*3=15\t5*4=20\t5*5=25\t5*6=30\t5*7=35\t5*8=40\t5*9=45\t\n",
            "--------------------------------------------------6--------------------------------------------------\n",
            "6*1=6\t6*2=12\t6*3=18\t6*4=24\t6*5=30\t6*6=36\t6*7=42\t6*8=48\t6*9=54\t\n",
            "--------------------------------------------------7--------------------------------------------------\n",
            "7*1=7\t7*2=14\t7*3=21\t7*4=28\t7*5=35\t7*6=42\t7*7=49\t7*8=56\t7*9=63\t\n",
            "--------------------------------------------------8--------------------------------------------------\n",
            "8*1=8\t8*2=16\t8*3=24\t8*4=32\t8*5=40\t8*6=48\t8*7=56\t8*8=64\t8*9=72\t\n",
            "--------------------------------------------------9--------------------------------------------------\n",
            "9*1=9\t9*2=18\t9*3=27\t9*4=36\t9*5=45\t9*6=54\t9*7=63\t9*8=72\t9*9=81\t"
          ]
        }
      ]
    },
    {
      "cell_type": "code",
      "source": [
        "print('a',end = '')\n",
        "print(\"b\")"
      ],
      "metadata": {
        "colab": {
          "base_uri": "https://localhost:8080/"
        },
        "id": "6Nl4PErYkob1",
        "outputId": "f663cbf3-4c18-4d60-d5d2-c51a519802bc"
      },
      "execution_count": null,
      "outputs": [
        {
          "output_type": "stream",
          "name": "stdout",
          "text": [
            "ab\n"
          ]
        }
      ]
    },
    {
      "cell_type": "code",
      "source": [
        "for i in range(5):\n",
        "    for j in range(i+1):\n",
        "        print('*',end='')\n",
        "    print()"
      ],
      "metadata": {
        "colab": {
          "base_uri": "https://localhost:8080/"
        },
        "id": "SQxJZKQUmqRS",
        "outputId": "f79f9dcb-9b79-4afa-defd-b3a0cd08f07f"
      },
      "execution_count": null,
      "outputs": [
        {
          "output_type": "stream",
          "name": "stdout",
          "text": [
            "*\n",
            "**\n",
            "***\n",
            "****\n",
            "*****\n"
          ]
        }
      ]
    },
    {
      "cell_type": "code",
      "source": [
        "for i in range(5):\n",
        "    for j in range(5-i):\n",
        "        print('*', end='')\n",
        "    print()"
      ],
      "metadata": {
        "colab": {
          "base_uri": "https://localhost:8080/"
        },
        "id": "aGUaVZNXm0BU",
        "outputId": "35fc03ab-c736-4127-8004-8ed8a6cffdf3"
      },
      "execution_count": null,
      "outputs": [
        {
          "output_type": "stream",
          "name": "stdout",
          "text": [
            "*****\n",
            "****\n",
            "***\n",
            "**\n",
            "*\n"
          ]
        }
      ]
    },
    {
      "cell_type": "code",
      "source": [
        "for i in range(5):\n",
        "    for j in range(i+1):\n",
        "        print('*',end='')\n",
        "    print()\n",
        "\n",
        "for i in range(5):\n",
        "    for j in range(5-i):\n",
        "        print('*', end='')\n",
        "    print()"
      ],
      "metadata": {
        "colab": {
          "base_uri": "https://localhost:8080/"
        },
        "id": "JWUhR_ROnVJv",
        "outputId": "359bfcf7-cad0-4418-e376-a0dcc9e53efe"
      },
      "execution_count": null,
      "outputs": [
        {
          "output_type": "stream",
          "name": "stdout",
          "text": [
            "*\n",
            "**\n",
            "***\n",
            "****\n",
            "*****\n",
            "*****\n",
            "****\n",
            "***\n",
            "**\n",
            "*\n"
          ]
        }
      ]
    },
    {
      "cell_type": "code",
      "source": [
        "# 오른쪽 정렬하기\n",
        "size = 5\n",
        "for i in range(size):\n",
        "    print(\" \"*(size-i-1), end='')\n",
        "    for j in range(i+1):\n",
        "        print(\"*\", end='')\n",
        "    print()"
      ],
      "metadata": {
        "id": "C7xNjJ_wnjbY",
        "colab": {
          "base_uri": "https://localhost:8080/"
        },
        "outputId": "62d004c8-a23e-4109-b641-c0d3b848ae2d"
      },
      "execution_count": 219,
      "outputs": [
        {
          "output_type": "stream",
          "name": "stdout",
          "text": [
            "    *\n",
            "   **\n",
            "  ***\n",
            " ****\n",
            "*****\n"
          ]
        }
      ]
    },
    {
      "cell_type": "code",
      "source": [
        "for i in range(5):\n",
        "    print(i)"
      ],
      "metadata": {
        "colab": {
          "base_uri": "https://localhost:8080/"
        },
        "id": "jwA6kdBEn9hX",
        "outputId": "17e63159-76e1-4dee-bd3c-02e9c96d98b3"
      },
      "execution_count": null,
      "outputs": [
        {
          "output_type": "stream",
          "name": "stdout",
          "text": [
            "0\n",
            "1\n",
            "2\n",
            "3\n",
            "4\n"
          ]
        }
      ]
    },
    {
      "cell_type": "code",
      "source": [
        "for i in range(4, -1, -1):\n",
        "    print(i)"
      ],
      "metadata": {
        "colab": {
          "base_uri": "https://localhost:8080/"
        },
        "id": "VF-v-a8yoB_w",
        "outputId": "fcdb8015-b07f-4c52-969b-6da6620cbd72"
      },
      "execution_count": null,
      "outputs": [
        {
          "output_type": "stream",
          "name": "stdout",
          "text": [
            "4\n",
            "3\n",
            "2\n",
            "1\n",
            "0\n"
          ]
        }
      ]
    },
    {
      "cell_type": "code",
      "source": [
        "list(range(5))[::-1]"
      ],
      "metadata": {
        "colab": {
          "base_uri": "https://localhost:8080/"
        },
        "id": "Qunqgo_foK-L",
        "outputId": "48654ca0-7793-4c92-e1fe-19190cb7e36d"
      },
      "execution_count": null,
      "outputs": [
        {
          "output_type": "execute_result",
          "data": {
            "text/plain": [
              "[4, 3, 2, 1, 0]"
            ]
          },
          "metadata": {},
          "execution_count": 113
        }
      ]
    },
    {
      "cell_type": "code",
      "source": [
        "for i in range(5)[::-1]:\n",
        "    print(i)"
      ],
      "metadata": {
        "colab": {
          "base_uri": "https://localhost:8080/"
        },
        "id": "oXbOlvYwoZiP",
        "outputId": "390fe1a0-bf67-4bf1-9199-1ca360f282e0"
      },
      "execution_count": null,
      "outputs": [
        {
          "output_type": "stream",
          "name": "stdout",
          "text": [
            "4\n",
            "3\n",
            "2\n",
            "1\n",
            "0\n"
          ]
        }
      ]
    },
    {
      "cell_type": "code",
      "source": [
        "list_1 = list(range(5))\n",
        "list_1.reverse()\n",
        "print(list_1)\n",
        "for i in list_1:\n",
        "    print(i)"
      ],
      "metadata": {
        "colab": {
          "base_uri": "https://localhost:8080/"
        },
        "id": "QhD5CLSIosfC",
        "outputId": "396a7a8a-0396-4fa0-cb82-b3eb87eb84ec"
      },
      "execution_count": 202,
      "outputs": [
        {
          "output_type": "stream",
          "name": "stdout",
          "text": [
            "[4, 3, 2, 1, 0]\n",
            "4\n",
            "3\n",
            "2\n",
            "1\n",
            "0\n"
          ]
        }
      ]
    },
    {
      "cell_type": "code",
      "source": [
        "# 1부터 100까지 중에서 3ㅢ 배수(3으로 나누어서 0으로 떨어지는 수)의 합\n",
        "# 5의 배수 또는 7의 배수들의 수를 리스트로 담아주세요\n",
        "total = 0\n",
        "list_5_7 =[]\n",
        "for i in range(1,101):\n",
        "    if i % 3 ==0:\n",
        "        total += i\n",
        "    if (i % 5 == 0) or (i % 7 == 0):\n",
        "        list_5_7.append(i)\n",
        "print(total)\n",
        "print(list_5_7)"
      ],
      "metadata": {
        "colab": {
          "base_uri": "https://localhost:8080/"
        },
        "id": "ZTll_2cQpDmC",
        "outputId": "a72b70b2-4cbe-41b3-f0ac-a3ba2e57e686"
      },
      "execution_count": null,
      "outputs": [
        {
          "output_type": "stream",
          "name": "stdout",
          "text": [
            "1683\n",
            "[5, 7, 10, 14, 15, 20, 21, 25, 28, 30, 35, 40, 42, 45, 49, 50, 55, 56, 60, 63, 65, 70, 75, 77, 80, 84, 85, 90, 91, 95, 98, 100]\n"
          ]
        }
      ]
    },
    {
      "cell_type": "code",
      "source": [
        "YunYear = []\n",
        "for year in range(1988, 2045):\n",
        "    if (year % 4 == 0):\n",
        "        if(year % 100 == 0 and year % 400 != 0):\n",
        "            # print(\"평년\")\n",
        "            pass\n",
        "        else:\n",
        "            YunYear.append(year)\n",
        "    else:\n",
        "        # print(\"평년\")\n",
        "        pass\n",
        "\n",
        "print(YunYear)\n"
      ],
      "metadata": {
        "colab": {
          "base_uri": "https://localhost:8080/"
        },
        "id": "r_YVkZyQqHWW",
        "outputId": "c4c0b6ac-31eb-4893-b472-ae91a0c5195d"
      },
      "execution_count": null,
      "outputs": [
        {
          "output_type": "stream",
          "name": "stdout",
          "text": [
            "[1988, 1992, 1996, 2000, 2004, 2008, 2012, 2016, 2020, 2024, 2028, 2032, 2036, 2040, 2044]\n"
          ]
        }
      ]
    },
    {
      "cell_type": "markdown",
      "source": [
        "리스트가 리스트를 요소로 갖는 2차원 리스트"
      ],
      "metadata": {
        "id": "e6pZIXmUsCEK"
      }
    },
    {
      "cell_type": "code",
      "source": [
        "import random\n",
        "lotto = []\n",
        "lottos = []\n",
        "\n",
        "# random.randint(1,100) 1~99 사이의 숫자중에 랜덤한 숫자를 반환\n",
        "# for문을 이용해서 리스트에 랜덤한 데이터 3개를 저장\n",
        "for j in range(5):\n",
        "    lotto.clear() # 재 사용을 위해서 저장했던 리스트를 비움\n",
        "    for i in range(6):\n",
        "        lotto.append(random.randint(1,46)) # 1 ~ 45 랜덤한 수사를 발생 후 저장\n",
        "\n",
        "    lottos.append(lotto) # 랜덤한 6개의 숫자로 된 리스트를 다시 리스트에 저장\n",
        "\n",
        "# 출력\n",
        "for i in lottos:\n",
        "    print(i)\n",
        "\n",
        "# 참조한 것을 다시 참조해서 결국 같은 주소를 가져오게 되므로\n",
        "# 마지막 가져온 값으로 똑같이 가져옴"
      ],
      "metadata": {
        "colab": {
          "base_uri": "https://localhost:8080/"
        },
        "id": "63kvoQgJr_js",
        "outputId": "544a75f1-c384-4143-924a-f47f6fe0fdc8"
      },
      "execution_count": null,
      "outputs": [
        {
          "output_type": "stream",
          "name": "stdout",
          "text": [
            "[28, 21, 16, 46, 40, 28]\n",
            "[28, 21, 16, 46, 40, 28]\n",
            "[28, 21, 16, 46, 40, 28]\n",
            "[28, 21, 16, 46, 40, 28]\n",
            "[28, 21, 16, 46, 40, 28]\n"
          ]
        }
      ]
    },
    {
      "cell_type": "code",
      "source": [
        "import random\n",
        "\n",
        "lottos = []\n",
        "\n",
        "# random.randint(1,100) 1~99 사이의 숫자중에 랜덤한 숫자를 반환\n",
        "# for문을 이용해서 리스트에 랜덤한 데이터 3개를 저장\n",
        "for j in range(5):\n",
        "    lotto = [] # 재 사용을 위해서 저장했던 리스트를 비움\n",
        "    for i in range(6):\n",
        "        lotto.append(random.randint(1,46)) # 1 ~ 45 랜덤한 수사를 발생 후 저장\n",
        "\n",
        "    lottos.append(lotto) # 랜덤한 6개의 숫자로 된 리스트를 다시 리스트에 저장\n",
        "\n",
        "# 출력\n",
        "for i in lottos:\n",
        "    print(i)\n",
        "\n",
        "# 매번 새로 리스트를 만들어 사용, 참조형임을 주의"
      ],
      "metadata": {
        "colab": {
          "base_uri": "https://localhost:8080/"
        },
        "id": "TQpx3sM2sX7f",
        "outputId": "4a2aa842-469e-45b7-adc8-d358b3beff69"
      },
      "execution_count": null,
      "outputs": [
        {
          "output_type": "stream",
          "name": "stdout",
          "text": [
            "[15, 24, 25, 27, 45, 2]\n",
            "[25, 8, 12, 6, 37, 23]\n",
            "[10, 1, 40, 4, 44, 30]\n",
            "[35, 24, 20, 8, 11, 22]\n",
            "[4, 6, 43, 36, 7, 33]\n"
          ]
        }
      ]
    },
    {
      "cell_type": "markdown",
      "source": [
        "중복없이 1~45 사이의 데이터 중에 6개를 생성해서 리스트에 담는다\n",
        " - in\n",
        " - if\n",
        " - break\n",
        " - append"
      ],
      "metadata": {
        "id": "8IAyZuKdzTnj"
      }
    },
    {
      "cell_type": "code",
      "source": [
        "# 순환문 탈출하기\n",
        "# 순환문 안에서 더이상 순환할 필요가 없을 때 중간에 종료하는 기법\n",
        "# break\n",
        "\n",
        "for i in range(10):\n",
        "    if i == 5:\n",
        "        break  # 5가 되면 탈출\n",
        "    print(i)\n",
        "\n",
        "print()\n",
        "\n",
        "for i in range(10):\n",
        "    if i == 5:\n",
        "        continue # 5를 제외하고\n",
        "    print(i)"
      ],
      "metadata": {
        "colab": {
          "base_uri": "https://localhost:8080/"
        },
        "id": "JHuN9Kj-y-Q6",
        "outputId": "ac934073-adb2-4515-e4ed-28239a6af71d"
      },
      "execution_count": null,
      "outputs": [
        {
          "output_type": "stream",
          "name": "stdout",
          "text": [
            "0\n",
            "1\n",
            "2\n",
            "3\n",
            "4\n",
            "\n",
            "0\n",
            "1\n",
            "2\n",
            "3\n",
            "4\n",
            "6\n",
            "7\n",
            "8\n",
            "9\n"
          ]
        }
      ]
    },
    {
      "cell_type": "code",
      "source": [
        "# 중복없이 1 ~ 45 사이의 데이터 중에 6개를 생성해서 리스트에 담는다\n",
        "lotto = []\n",
        "\n",
        "for i in range(100):\n",
        "    if len(lotto) == 6:\n",
        "        break\n",
        "    random_data = random.randint(1, 45)\n",
        "    if random_data not in lotto:\n",
        "        lotto.append(random_data)\n",
        "\n",
        "print(lotto)"
      ],
      "metadata": {
        "colab": {
          "base_uri": "https://localhost:8080/"
        },
        "id": "NfSX2Tjcz6Gn",
        "outputId": "83615e2c-0146-40a4-d3b2-4993538afde5"
      },
      "execution_count": null,
      "outputs": [
        {
          "output_type": "stream",
          "name": "stdout",
          "text": [
            "[18, 43, 45, 7, 32, 23]\n"
          ]
        }
      ]
    },
    {
      "cell_type": "code",
      "source": [
        "lotto = []\n",
        "\n",
        "while len(lotto) < 6:\n",
        "    random_data = random.randint(1, 45)\n",
        "    if random_data not in lotto:\n",
        "        lotto.append(random_data)\n",
        "\n",
        "print(lotto)"
      ],
      "metadata": {
        "colab": {
          "base_uri": "https://localhost:8080/"
        },
        "id": "zSiYG7m312tj",
        "outputId": "df7888a2-f81d-45e2-8c29-e46d91730fea"
      },
      "execution_count": null,
      "outputs": [
        {
          "output_type": "stream",
          "name": "stdout",
          "text": [
            "[13, 30, 17, 22, 42, 41]\n"
          ]
        }
      ]
    },
    {
      "cell_type": "markdown",
      "source": [
        "Dictionary"
      ],
      "metadata": {
        "id": "nDFb7VKv3pEO"
      }
    },
    {
      "cell_type": "code",
      "source": [
        "dic_1 = {'name':'홍길동', 'age':20}\n",
        "print(dic_1)"
      ],
      "metadata": {
        "colab": {
          "base_uri": "https://localhost:8080/"
        },
        "id": "8Qk2A47c26gh",
        "outputId": "ea5372eb-a6e4-4b5d-bd39-fe8a1b9de6f3"
      },
      "execution_count": null,
      "outputs": [
        {
          "output_type": "stream",
          "name": "stdout",
          "text": [
            "{'name': '홍길동', 'age': 20}\n"
          ]
        }
      ]
    },
    {
      "cell_type": "code",
      "source": [
        "# key:value 가 한쌍으로 이루어진 데이터의 집합\n",
        "# 자료구조는 crud 가능해야 한다\n",
        "# c : 생성\n",
        "# r : 읽기\n",
        "# u : 업데이트\n",
        "# d : 삭제\n",
        "\n",
        "print(dic_1['name']) # 키 값을 이용해서 데이터를 읽어온다.\n",
        "print(dic_1['age'])\n",
        "# 업데이트\n",
        "dic_1['name'] = '홍길순'\n",
        "print(dic_1)\n",
        "# 삭제\n",
        "del dic_1['age']\n",
        "print(dic_1)\n",
        "# 추가\n",
        "dic_1['address'] = '서울'\n",
        "print(dic_1)"
      ],
      "metadata": {
        "colab": {
          "base_uri": "https://localhost:8080/"
        },
        "id": "wb_Z8IXR3yTc",
        "outputId": "9fe79eb8-7e97-4bed-f77f-7a7fad32d525"
      },
      "execution_count": null,
      "outputs": [
        {
          "output_type": "stream",
          "name": "stdout",
          "text": [
            "홍길동\n",
            "20\n",
            "{'name': '홍길순', 'age': 20}\n",
            "{'name': '홍길순'}\n",
            "{'name': '홍길순', 'address': '서울'}\n"
          ]
        }
      ]
    },
    {
      "cell_type": "code",
      "source": [
        "students = {\n",
        "    '홍길동':{\n",
        "    'score':{'국어': 80, '영어' : 85, '수학' : 90},\n",
        "    \"출석률\": 85,\n",
        "    '장래희망':'유튜버'\n",
        "    },\n",
        "    '홍길순':{\n",
        "    'score':{'국어': 80, '영어' : 95, '수학' : 97},\n",
        "    \"출석률\": 100,\n",
        "    '장래희망':'의적'\n",
        "    }\n",
        "}\n",
        "# 웹에서 json 형태임\n",
        "\n",
        "students['홍길동']['score']['수학']=100\n",
        "print(students)"
      ],
      "metadata": {
        "colab": {
          "base_uri": "https://localhost:8080/"
        },
        "id": "FlQqooC24HdO",
        "outputId": "82e57d63-e439-49e6-bf31-609ee8f2ca5b"
      },
      "execution_count": null,
      "outputs": [
        {
          "output_type": "stream",
          "name": "stdout",
          "text": [
            "{'홍길동': {'score': {'국어': 80, '영어': 85, '수학': 100}, '출석률': 85, '장래희망': '유튜버'}, '홍길순': {'score': {'국어': 80, '영어': 95, '수학': 97}, '출석률': 100, '장래희망': '의적'}}\n"
          ]
        }
      ]
    },
    {
      "cell_type": "code",
      "source": [
        "dict_1 = {}\n",
        "print(dict_1)\n",
        "dict_1['name'] = '홍길동'\n",
        "print(dict_1)\n",
        "dict_1['name'] = '홍길동2'\n",
        "print(dict_1)\n",
        "dict_1['score'] = 100\n",
        "print(dict_1)\n",
        "# 없으면 생성, 있으면 업데이트"
      ],
      "metadata": {
        "colab": {
          "base_uri": "https://localhost:8080/"
        },
        "id": "D9_yLcxr657m",
        "outputId": "7dbbb34d-f37d-498a-dcc4-4ce25f4373ee"
      },
      "execution_count": null,
      "outputs": [
        {
          "output_type": "stream",
          "name": "stdout",
          "text": [
            "{}\n",
            "{'name': '홍길동'}\n",
            "{'name': '홍길동2'}\n",
            "{'name': '홍길동2', 'score': 100}\n"
          ]
        }
      ]
    },
    {
      "cell_type": "code",
      "source": [
        "# key가 존재하는지 확인하는 방법\n",
        "'name' in dict_1"
      ],
      "metadata": {
        "colab": {
          "base_uri": "https://localhost:8080/"
        },
        "id": "afbIoIF1-Z4p",
        "outputId": "23726ba3-1e72-4525-d04b-c8c422f649e6"
      },
      "execution_count": null,
      "outputs": [
        {
          "output_type": "execute_result",
          "data": {
            "text/plain": [
              "True"
            ]
          },
          "metadata": {},
          "execution_count": 172
        }
      ]
    },
    {
      "cell_type": "code",
      "source": [
        "# key 값들만 리스트로 반환한다\n",
        "print(dict_1.keys())\n",
        "# value 값들만 리스트로 반환한다\n",
        "print(dict_1.values())"
      ],
      "metadata": {
        "colab": {
          "base_uri": "https://localhost:8080/"
        },
        "id": "RIsQDUSp-x4h",
        "outputId": "0efa96fa-64e8-4048-c367-6003c7025161"
      },
      "execution_count": null,
      "outputs": [
        {
          "output_type": "stream",
          "name": "stdout",
          "text": [
            "dict_keys([])\n",
            "dict_values([])\n"
          ]
        }
      ]
    },
    {
      "cell_type": "code",
      "source": [
        "# key, value의 각 쌍으로 데이터를 집합화\n",
        "print(dict_1.items())\n",
        "print(dict_1)\n",
        "dict_1.clear()\n",
        "print(dict_1)"
      ],
      "metadata": {
        "colab": {
          "base_uri": "https://localhost:8080/"
        },
        "id": "dWEUOd_D_EEN",
        "outputId": "7239abd0-cdec-4c45-ad37-ab3fa1353177"
      },
      "execution_count": 203,
      "outputs": [
        {
          "output_type": "stream",
          "name": "stdout",
          "text": [
            "dict_items([('홍길동', 4), ('나길동', 1)])\n",
            "{'홍길동': 4, '나길동': 1}\n",
            "{}\n"
          ]
        }
      ]
    },
    {
      "cell_type": "code",
      "source": [
        "# 1. 임의의 dictionary 데이터를 만든다\n",
        "# 2. 키 값들을 for문으로 순환해서 key를 출력\n",
        "# 3. value 값들을 for문으로 순환해서 value를 출력\n",
        "# 4. (key,value) 순환문으로 출력"
      ],
      "metadata": {
        "id": "TWa464cE_dqF"
      },
      "execution_count": null,
      "outputs": []
    },
    {
      "cell_type": "code",
      "source": [
        "for key in dict_1:\n",
        "    print(key)"
      ],
      "metadata": {
        "colab": {
          "base_uri": "https://localhost:8080/"
        },
        "id": "CXQyOnn8ACQZ",
        "outputId": "c78d48d5-4055-469b-f930-6d5b2f18ba00"
      },
      "execution_count": null,
      "outputs": [
        {
          "output_type": "stream",
          "name": "stdout",
          "text": [
            "name\n",
            "score\n"
          ]
        }
      ]
    },
    {
      "cell_type": "code",
      "source": [
        "for value in dict_1.values():\n",
        "    print(value)"
      ],
      "metadata": {
        "colab": {
          "base_uri": "https://localhost:8080/"
        },
        "id": "V0yDajBoAJNU",
        "outputId": "dde9fa58-6d52-41b4-ca25-0b1258da9aa4"
      },
      "execution_count": null,
      "outputs": [
        {
          "output_type": "stream",
          "name": "stdout",
          "text": [
            "홍길동2\n",
            "100\n"
          ]
        }
      ]
    },
    {
      "cell_type": "code",
      "source": [
        "for key, value in dict_1.items():\n",
        "    print(key, value)"
      ],
      "metadata": {
        "colab": {
          "base_uri": "https://localhost:8080/"
        },
        "id": "tBxHFaOpAh21",
        "outputId": "7fd29c7b-014b-450b-d406-19c8ed1e717e"
      },
      "execution_count": null,
      "outputs": [
        {
          "output_type": "stream",
          "name": "stdout",
          "text": [
            "name 홍길동2\n",
            "score 100\n"
          ]
        }
      ]
    },
    {
      "cell_type": "code",
      "source": [
        "# key가 없으면 에러\n",
        "# dict_1['key'] = value --> key가 존재하면 업데이트고 없으면 추가\n",
        "dict_1 = {}\n",
        "dict_1['홍길동'] = 0\n",
        "dict_1['홍길동'] += 1\n",
        "dict_1['홍길동'] += 1\n",
        "dict_1['홍길동'] += 1\n",
        "dict_1['홍길동'] += 1\n",
        "dict_1['나길동'] = 0\n",
        "dict_1['나길동'] += 1\n",
        "\n",
        "print(dict_1)\n",
        "# 투표 시스템"
      ],
      "metadata": {
        "colab": {
          "base_uri": "https://localhost:8080/"
        },
        "id": "xYM6pPKyAl9K",
        "outputId": "222af533-eb7d-4685-b0ae-826f442ee96a"
      },
      "execution_count": null,
      "outputs": [
        {
          "output_type": "stream",
          "name": "stdout",
          "text": [
            "{'홍길동': 4, '나길동': 1}\n"
          ]
        }
      ]
    },
    {
      "cell_type": "code",
      "source": [
        "# 리스트와 딕셔너리를 이요한 투표시스템 작성\n",
        "candidate = ['홍길동', '나길동', '이길동']\n",
        "# 유권자가 20명이고 각 후보에 투표를 한다는 시뮬레이션\n",
        "# 투표리스트에 [0,0,0,1,2,0,1,2] --> 랜덤을 이용해서 0~2사이의 데이터를 20개 뽑는다\n",
        "import random\n",
        "vote_list = []\n",
        "for i in range(20):\n",
        "    vote_list.append(random.randint(0,2))\n",
        "print(vote_list)"
      ],
      "metadata": {
        "colab": {
          "base_uri": "https://localhost:8080/"
        },
        "id": "JhTj5vfsBUCp",
        "outputId": "4988e9f8-443f-48e5-a084-66436025e92b"
      },
      "execution_count": null,
      "outputs": [
        {
          "output_type": "stream",
          "name": "stdout",
          "text": [
            "[2, 2, 1, 0, 2, 1, 1, 0, 0, 2, 1, 1, 2, 0, 1, 0, 2, 1, 2, 2]\n"
          ]
        }
      ]
    },
    {
      "cell_type": "code",
      "source": [
        "result_dict = {\n",
        "    '홍길동':0,\n",
        "    '나길동':0,\n",
        "    '이길동':0\n",
        "}\n",
        "\n",
        "for vote in vote_list:\n",
        "    result_dict[candidate[vote]] += 1\n",
        "print(result_dict)\n",
        "# vote_list와 candidate를 이용해서 최종 득표수를 구해보세요"
      ],
      "metadata": {
        "colab": {
          "base_uri": "https://localhost:8080/"
        },
        "id": "bV_AY4MLCaQz",
        "outputId": "08071552-650a-4660-834b-828316b48d90"
      },
      "execution_count": null,
      "outputs": [
        {
          "output_type": "stream",
          "name": "stdout",
          "text": [
            "{'홍길동': 5, '나길동': 7, '이길동': 8}\n"
          ]
        }
      ]
    },
    {
      "cell_type": "code",
      "source": [
        "# 단어의 빈도수 구하기\n",
        "words = ['뉴스','자동차','뉴스','자동차','화재','전기차','내연기관','뉴스']\n",
        "word_dict = {}\n",
        "for word in words:\n",
        "    if word in word_dict:\n",
        "        word_dict[word] += 1\n",
        "    else:\n",
        "        word_dict[word] = 1\n",
        "print(word_dict)\n",
        "\n",
        "# dictionary 특성을 이용해 word cloud까지 활용 가능"
      ],
      "metadata": {
        "colab": {
          "base_uri": "https://localhost:8080/"
        },
        "id": "hkBNq8aLD4w2",
        "outputId": "d01fa364-0e98-45e3-803e-e0623e837fce"
      },
      "execution_count": null,
      "outputs": [
        {
          "output_type": "stream",
          "name": "stdout",
          "text": [
            "{'뉴스': 3, '자동차': 2, '화재': 1, '전기차': 1, '내연기관': 1}\n"
          ]
        }
      ]
    },
    {
      "cell_type": "code",
      "source": [
        "# character 만들기 문제\n",
        "character = {\n",
        "    \"name\" : \"기사\",\n",
        "    \"level\" : 12,\n",
        "    \"items\" : {\n",
        "        \"sword\" : \"불꽃의 검\",\n",
        "        \"armor\" : \"풀플레이트\"\n",
        "    },\n",
        "    \"skill\" : [\"베기\",\"세게 베기\",\"아주 세게 베기\"]\n",
        "}\n",
        "\n",
        "for key in character:\n",
        "    print(character.values())\n",
        "\n",
        "    # if type(character.values()) is str:\n",
        "    #     print(f\"{key}:{character[key]}\")\n",
        "    # if type(character.values()) is list:\n",
        "    #     for list_1 in key:\n",
        "    #         print(f\"{key}:{list_1[key]}\")\n",
        "    # if type(character.values()) is dict:\n",
        "    #     for dict_1 in key:\n",
        "    #         print(f\"{key}:{dict_1[key].value()}\")"
      ],
      "metadata": {
        "id": "zisFUczlFm5z",
        "colab": {
          "base_uri": "https://localhost:8080/"
        },
        "outputId": "7292f6b9-6fc3-461c-c550-5a564f54c8ff"
      },
      "execution_count": 215,
      "outputs": [
        {
          "output_type": "stream",
          "name": "stdout",
          "text": [
            "dict_values(['기사', 12, {'sword': '불꽃의 검', 'armor': '풀플레이트'}, ['베기', '세게 베기', '아주 세게 베기']])\n",
            "dict_values(['기사', 12, {'sword': '불꽃의 검', 'armor': '풀플레이트'}, ['베기', '세게 베기', '아주 세게 베기']])\n",
            "dict_values(['기사', 12, {'sword': '불꽃의 검', 'armor': '풀플레이트'}, ['베기', '세게 베기', '아주 세게 베기']])\n",
            "dict_values(['기사', 12, {'sword': '불꽃의 검', 'armor': '풀플레이트'}, ['베기', '세게 베기', '아주 세게 베기']])\n"
          ]
        }
      ]
    },
    {
      "cell_type": "code",
      "source": [],
      "metadata": {
        "id": "pDY8ko4LdwYB"
      },
      "execution_count": null,
      "outputs": []
    }
  ]
}