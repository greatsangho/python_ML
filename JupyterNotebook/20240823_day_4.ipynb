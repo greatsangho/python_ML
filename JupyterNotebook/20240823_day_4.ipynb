{
  "nbformat": 4,
  "nbformat_minor": 0,
  "metadata": {
    "colab": {
      "provenance": [],
      "authorship_tag": "ABX9TyO5UfRHFcG41OxH6LmdZu31",
      "include_colab_link": true
    },
    "kernelspec": {
      "name": "python3",
      "display_name": "Python 3"
    },
    "language_info": {
      "name": "python"
    }
  },
  "cells": [
    {
      "cell_type": "markdown",
      "metadata": {
        "id": "view-in-github",
        "colab_type": "text"
      },
      "source": [
        "<a href=\"https://colab.research.google.com/github/greatsangho/python_study/blob/main/2240823_day_4.ipynb\" target=\"_parent\"><img src=\"https://colab.research.google.com/assets/colab-badge.svg\" alt=\"Open In Colab\"/></a>"
      ]
    },
    {
      "cell_type": "markdown",
      "source": [
        "# 함수 Review"
      ],
      "metadata": {
        "id": "tHWBsza0jUKy"
      }
    },
    {
      "cell_type": "code",
      "execution_count": 1,
      "metadata": {
        "id": "jpR1VfYejD0-"
      },
      "outputs": [],
      "source": [
        "# 매개변수\n",
        "  # 연산자 기호를 문자열로 전달, 대상이 되는 피연산자를 개수에 상관없이 전달했을 때 해다 내용으 수행\n",
        "  # calc('+', 1,2,3) calc('-',1,2,3,4,5) calc('*', 1,2) calc('/', 1,2,3,4)\n",
        "def calc(oper, *args):\n",
        "  result = 0\n",
        "  if oper == '+':\n",
        "    for i in args:\n",
        "      result += i\n",
        "  elif oper == '-':\n",
        "    for i in args:\n",
        "      result -= i\n",
        "  elif oper == '*':\n",
        "    result = 1\n",
        "    for i in args:\n",
        "       result *= i\n",
        "  elif oper == '/':\n",
        "    result = 1\n",
        "    for i in args:\n",
        "      result /= i\n",
        "  return result"
      ]
    },
    {
      "cell_type": "code",
      "source": [
        "calc('+',1,2,3,4,5)"
      ],
      "metadata": {
        "colab": {
          "base_uri": "https://localhost:8080/"
        },
        "id": "aehIkslAkQFT",
        "outputId": "0c675fe4-fe2c-44c2-9379-6e04cf79f6bb"
      },
      "execution_count": 2,
      "outputs": [
        {
          "output_type": "execute_result",
          "data": {
            "text/plain": [
              "15"
            ]
          },
          "metadata": {},
          "execution_count": 2
        }
      ]
    },
    {
      "cell_type": "markdown",
      "source": [
        "eval 표현식\n",
        " - 문자열을 그대로 명령어로 변환해주는 기능"
      ],
      "metadata": {
        "id": "l1svIZIzkzpb"
      }
    },
    {
      "cell_type": "code",
      "source": [
        "operation = '1 + 2 + 3 * 20+1'\n",
        "eval(operation)"
      ],
      "metadata": {
        "colab": {
          "base_uri": "https://localhost:8080/"
        },
        "id": "FIc0jxWykWgW",
        "outputId": "164069ae-41f4-4172-d7aa-8cb3ad7e94aa"
      },
      "execution_count": 3,
      "outputs": [
        {
          "output_type": "execute_result",
          "data": {
            "text/plain": [
              "64"
            ]
          },
          "metadata": {},
          "execution_count": 3
        }
      ]
    },
    {
      "cell_type": "code",
      "source": [
        "operation = \"calc('+',1,2,3,4,5)\"\n",
        "eval(operation)"
      ],
      "metadata": {
        "colab": {
          "base_uri": "https://localhost:8080/"
        },
        "id": "xRY6UcC5lIA3",
        "outputId": "a9019dc1-b37c-4fbe-f2fe-4f4441b65d83"
      },
      "execution_count": 4,
      "outputs": [
        {
          "output_type": "execute_result",
          "data": {
            "text/plain": [
              "15"
            ]
          },
          "metadata": {},
          "execution_count": 4
        }
      ]
    },
    {
      "cell_type": "code",
      "source": [
        "# 튜플 - 집합의 데이터를 변경 불가함(읽기전용)\n",
        "# 람다 - 이름없는 함수, 매개변수로 함수를 전달(기능만 전달)\n",
        "# with 구문 - 알아서 정리해줌, 파일 닫기나 MySQL과 연동 시 사용\n",
        "# 파일을 열고 닫아야 함\n",
        "# 좀비 프로세스 - 프로세스 제어권을 잃은 프로세스, 쓰레드 프로그래밍 잘못하면 생성됨"
      ],
      "metadata": {
        "id": "hZG8uFdCly9I"
      },
      "execution_count": 5,
      "outputs": []
    },
    {
      "cell_type": "markdown",
      "source": [
        "# 튜플\n",
        " - 변경 불가능하다"
      ],
      "metadata": {
        "id": "iQOqeQ-Oq8Nm"
      }
    },
    {
      "cell_type": "code",
      "source": [
        "tuple1 = 1,2,3,4,5\n",
        "tuple1"
      ],
      "metadata": {
        "colab": {
          "base_uri": "https://localhost:8080/"
        },
        "id": "oGU57n1nrAq8",
        "outputId": "e28b1934-4d67-41e4-f2a3-b162f6cbbaac"
      },
      "execution_count": 6,
      "outputs": [
        {
          "output_type": "execute_result",
          "data": {
            "text/plain": [
              "(1, 2, 3, 4, 5)"
            ]
          },
          "metadata": {},
          "execution_count": 6
        }
      ]
    },
    {
      "cell_type": "code",
      "source": [
        "a,b = [1,[2,3,4]]\n",
        "a,b = 1,(2,3,4)\n",
        "print(a, b)\n",
        "\n",
        "# pack - 여러개를 하나로; *args, unpack - 딕셔너리를 함수에 전달할 때 풀어서; **args"
      ],
      "metadata": {
        "colab": {
          "base_uri": "https://localhost:8080/"
        },
        "id": "NbudwqADrIaL",
        "outputId": "7b810bfb-b015-48e4-9cf2-117fbd0677ab"
      },
      "execution_count": 7,
      "outputs": [
        {
          "output_type": "stream",
          "name": "stdout",
          "text": [
            "1 (2, 3, 4)\n"
          ]
        }
      ]
    },
    {
      "cell_type": "code",
      "source": [
        "def test():\n",
        "  return (10, 20)\n",
        "\n",
        "a, b = test()\n",
        "print(a, b)"
      ],
      "metadata": {
        "colab": {
          "base_uri": "https://localhost:8080/"
        },
        "id": "andvq_fHowDS",
        "outputId": "7cc80bfa-74cc-4a6e-dbfc-900c58cd71fd"
      },
      "execution_count": 8,
      "outputs": [
        {
          "output_type": "stream",
          "name": "stdout",
          "text": [
            "10 20\n"
          ]
        }
      ]
    },
    {
      "cell_type": "code",
      "source": [
        "# 생성\n",
        "# 읽기\n",
        "tuple1 = 1,2,3,4,5,6,7,8,9,2\n",
        "tuple1[:5]"
      ],
      "metadata": {
        "colab": {
          "base_uri": "https://localhost:8080/"
        },
        "id": "7_15laEUsSdg",
        "outputId": "55e35d80-650a-4685-ce32-2f66cf5caa66"
      },
      "execution_count": 9,
      "outputs": [
        {
          "output_type": "execute_result",
          "data": {
            "text/plain": [
              "(1, 2, 3, 4, 5)"
            ]
          },
          "metadata": {},
          "execution_count": 9
        }
      ]
    },
    {
      "cell_type": "code",
      "source": [
        "list_1 = [1,2]\n",
        "tuple1.index(2) # 처음 나오는 것 하나의 위치 찾기"
      ],
      "metadata": {
        "colab": {
          "base_uri": "https://localhost:8080/"
        },
        "id": "Rfnw3j7GsuBO",
        "outputId": "a8d3e361-173c-443c-dcb5-3b2c79c7923b"
      },
      "execution_count": 10,
      "outputs": [
        {
          "output_type": "execute_result",
          "data": {
            "text/plain": [
              "1"
            ]
          },
          "metadata": {},
          "execution_count": 10
        }
      ]
    },
    {
      "cell_type": "markdown",
      "source": [
        "# 람다\n",
        " - 이름없이 구현하는 함수"
      ],
      "metadata": {
        "id": "7oq9E-RRw2FZ"
      }
    },
    {
      "cell_type": "code",
      "source": [
        "def calc( func, *args ):\n",
        "  return func( *args )"
      ],
      "metadata": {
        "id": "BS9T_PKOuY0z"
      },
      "execution_count": 11,
      "outputs": []
    },
    {
      "cell_type": "code",
      "source": [
        "def add(*args):\n",
        "  result = 0\n",
        "  for i in args:\n",
        "    result += i\n",
        "  return result"
      ],
      "metadata": {
        "id": "3AFDfNy3xEFL"
      },
      "execution_count": 12,
      "outputs": []
    },
    {
      "cell_type": "code",
      "source": [
        "calc(add, 1,2,3,4,5,6)"
      ],
      "metadata": {
        "colab": {
          "base_uri": "https://localhost:8080/"
        },
        "id": "IFKA7-1bxVcN",
        "outputId": "81ff0e0c-369d-436b-88fe-2108962a1880"
      },
      "execution_count": 13,
      "outputs": [
        {
          "output_type": "execute_result",
          "data": {
            "text/plain": [
              "21"
            ]
          },
          "metadata": {},
          "execution_count": 13
        }
      ]
    },
    {
      "cell_type": "code",
      "source": [
        "calc(max, 1,2,3,4,5,6)"
      ],
      "metadata": {
        "colab": {
          "base_uri": "https://localhost:8080/"
        },
        "id": "Cw_b_ZEZxZBf",
        "outputId": "cb599106-cbf1-40dc-ab15-943e69d4e46c"
      },
      "execution_count": 14,
      "outputs": [
        {
          "output_type": "execute_result",
          "data": {
            "text/plain": [
              "6"
            ]
          },
          "metadata": {},
          "execution_count": 14
        }
      ]
    },
    {
      "cell_type": "code",
      "source": [
        "def mean(*args):\n",
        "  return sum(args) / len(args)\n",
        "\n",
        "calc(mean, 1,2,3,4,5,6) # 함수를 만들기 귀찮음, 기능만 하는 함수를 원함"
      ],
      "metadata": {
        "colab": {
          "base_uri": "https://localhost:8080/"
        },
        "id": "CUmSG9Lkx5ai",
        "outputId": "88dcd7da-716d-43ef-b06d-aad72333cafc"
      },
      "execution_count": 15,
      "outputs": [
        {
          "output_type": "execute_result",
          "data": {
            "text/plain": [
              "3.5"
            ]
          },
          "metadata": {},
          "execution_count": 15
        }
      ]
    },
    {
      "cell_type": "markdown",
      "source": [
        "lambda 매개변수 : 리턴값\n",
        " - 람다는 무조건 리턴하는 함수임\n",
        " - 대입연산자 이용하여 비휘발성 함수로도 활용 가능\n",
        " - 주로 정렬할 때"
      ],
      "metadata": {
        "id": "srViAKVIzEOO"
      }
    },
    {
      "cell_type": "code",
      "source": [
        "myF = lambda *args : sum(args) / len(args)\n",
        "\n",
        "myF(1,2,3,4,5,6)"
      ],
      "metadata": {
        "colab": {
          "base_uri": "https://localhost:8080/"
        },
        "id": "1W_AUk9YzD5K",
        "outputId": "c5c4d05d-ec9a-42a3-cc7d-53522cefde9a"
      },
      "execution_count": 16,
      "outputs": [
        {
          "output_type": "execute_result",
          "data": {
            "text/plain": [
              "3.5"
            ]
          },
          "metadata": {},
          "execution_count": 16
        }
      ]
    },
    {
      "cell_type": "code",
      "source": [
        "calc(myF, 1,2,3,4,5,6)"
      ],
      "metadata": {
        "colab": {
          "base_uri": "https://localhost:8080/"
        },
        "id": "FkvGDXRpyN93",
        "outputId": "fdb34de9-ba97-48e3-a5d6-99680d42bcdc"
      },
      "execution_count": 17,
      "outputs": [
        {
          "output_type": "execute_result",
          "data": {
            "text/plain": [
              "3.5"
            ]
          },
          "metadata": {},
          "execution_count": 17
        }
      ]
    },
    {
      "cell_type": "code",
      "source": [
        "calc(lambda *args : sum(args) / len(args), 1,2,3,4,5,6)"
      ],
      "metadata": {
        "colab": {
          "base_uri": "https://localhost:8080/"
        },
        "id": "4R-I_3fazpVr",
        "outputId": "a4128520-fbc5-4c5e-87de-6ab7d1c20628"
      },
      "execution_count": 18,
      "outputs": [
        {
          "output_type": "execute_result",
          "data": {
            "text/plain": [
              "3.5"
            ]
          },
          "metadata": {},
          "execution_count": 18
        }
      ]
    },
    {
      "cell_type": "code",
      "source": [
        "power = lambda x : x * x\n",
        "under_3 = lambda x : x < 3\n",
        "\n",
        "list_input_a = [1,2,3,4,5]\n",
        "\n",
        "output_a = map(power, list_input_a)\n",
        "print(output_a) # 객체 출력\n",
        "print(list(output_a))\n",
        "\n",
        "output_b = filter(under_3, list_input_a)\n",
        "print(list(output_b))\n"
      ],
      "metadata": {
        "colab": {
          "base_uri": "https://localhost:8080/"
        },
        "id": "Kch61uQBzv5D",
        "outputId": "cc5a6ab0-2e20-40a5-dcb7-58e787e4259d"
      },
      "execution_count": 19,
      "outputs": [
        {
          "output_type": "stream",
          "name": "stdout",
          "text": [
            "<map object at 0x78c298253be0>\n",
            "[1, 4, 9, 16, 25]\n",
            "[1, 2]\n"
          ]
        }
      ]
    },
    {
      "cell_type": "code",
      "source": [
        "list_1 = [1,2,3,4,5]\n",
        "list(map(lambda x : x + 10, list_1))"
      ],
      "metadata": {
        "id": "AvqsuOKf1JLO",
        "colab": {
          "base_uri": "https://localhost:8080/"
        },
        "outputId": "98e5fca8-28b6-4d32-e229-c4039e78ff5b"
      },
      "execution_count": 20,
      "outputs": [
        {
          "output_type": "execute_result",
          "data": {
            "text/plain": [
              "[11, 12, 13, 14, 15]"
            ]
          },
          "metadata": {},
          "execution_count": 20
        }
      ]
    },
    {
      "cell_type": "code",
      "source": [
        "list(map(int, ['11','12','13', '14']))"
      ],
      "metadata": {
        "colab": {
          "base_uri": "https://localhost:8080/"
        },
        "id": "rp_SWok12CNZ",
        "outputId": "4408226b-881b-445d-ff9a-284b93754be5"
      },
      "execution_count": 21,
      "outputs": [
        {
          "output_type": "execute_result",
          "data": {
            "text/plain": [
              "[11, 12, 13, 14]"
            ]
          },
          "metadata": {},
          "execution_count": 21
        }
      ]
    },
    {
      "cell_type": "code",
      "source": [
        "num1, num2 = map(int, input('두개의 숫자를 공백으로 분리해서 입력하세요').split())\n",
        "print(num1 + num2)"
      ],
      "metadata": {
        "colab": {
          "base_uri": "https://localhost:8080/"
        },
        "id": "OyVDFbVA2dXb",
        "outputId": "c0e61ce3-0faa-4037-d54f-98cc338a75cc"
      },
      "execution_count": 22,
      "outputs": [
        {
          "output_type": "stream",
          "name": "stdout",
          "text": [
            "두개의 숫자를 공백으로 분리해서 입력하세요12 13\n",
            "25\n"
          ]
        }
      ]
    },
    {
      "cell_type": "markdown",
      "source": [
        "# filter\n",
        " - 집합에서 조건에 맞는 데이터만 추출"
      ],
      "metadata": {
        "id": "jPpK2xo43lcC"
      }
    },
    {
      "cell_type": "code",
      "source": [
        "import random\n",
        "# 1 ~ 100 사이의 데이터 중에서 랜덤하게 10개 리스트로\n",
        "list_1 = [random.randint(1,100) for i in range(10)]\n",
        "print(f'list_1 : {list_1}')\n",
        "# 50보다 큰 데이터만 추출\n",
        "list(filter(lambda x : x > 50, list_1))"
      ],
      "metadata": {
        "colab": {
          "base_uri": "https://localhost:8080/"
        },
        "id": "v4YLJzGu2mWa",
        "outputId": "c160e0c5-b245-46e0-87fd-230bd6090d83"
      },
      "execution_count": 23,
      "outputs": [
        {
          "output_type": "stream",
          "name": "stdout",
          "text": [
            "list_1 : [74, 94, 85, 93, 88, 23, 28, 13, 93, 16]\n"
          ]
        },
        {
          "output_type": "execute_result",
          "data": {
            "text/plain": [
              "[74, 94, 85, 93, 88, 93]"
            ]
          },
          "metadata": {},
          "execution_count": 23
        }
      ]
    },
    {
      "cell_type": "code",
      "source": [
        "list(filter(lambda x : x % 2 == 0, list_1))"
      ],
      "metadata": {
        "colab": {
          "base_uri": "https://localhost:8080/"
        },
        "id": "_uhGO0fC4Ui7",
        "outputId": "cebd7905-e6f2-45cf-fc44-0b6c8033caf1"
      },
      "execution_count": 24,
      "outputs": [
        {
          "output_type": "execute_result",
          "data": {
            "text/plain": [
              "[74, 94, 88, 28, 16]"
            ]
          },
          "metadata": {},
          "execution_count": 24
        }
      ]
    },
    {
      "cell_type": "code",
      "source": [
        "list(map(lambda x : 0 if x % 2 == 0 else 1, list_1))"
      ],
      "metadata": {
        "colab": {
          "base_uri": "https://localhost:8080/"
        },
        "id": "qVWyirYq5Ijx",
        "outputId": "51288f7e-f6ac-49c3-d91f-bf9460eea0b9"
      },
      "execution_count": 25,
      "outputs": [
        {
          "output_type": "execute_result",
          "data": {
            "text/plain": [
              "[0, 0, 1, 1, 0, 1, 0, 1, 1, 0]"
            ]
          },
          "metadata": {},
          "execution_count": 25
        }
      ]
    },
    {
      "cell_type": "code",
      "source": [
        "# 주어진 리스트 : 리스트 컴프리핸션을 이용해서 랜덤한 값 10개(1~100)\n",
        "import random\n",
        "rand_list = [random.randint(1,100) for i in range(10)]\n",
        "print(rand_list)\n",
        "# map : 주어진 리스트에 적당한 연산을 수행\n",
        "print(list(map(lambda x : x * 10, rand_list)))\n",
        "# filter : 주어진 리스트 중에 3과 5의 배수만 필터링\n",
        "print(list(filter(lambda x : x %3 == 0 or x %5 == 0, rand_list)))"
      ],
      "metadata": {
        "colab": {
          "base_uri": "https://localhost:8080/"
        },
        "id": "OYdE8-NQ5eZo",
        "outputId": "1b283f85-6f8c-4ce3-83f5-10efa7ccfefd"
      },
      "execution_count": 26,
      "outputs": [
        {
          "output_type": "stream",
          "name": "stdout",
          "text": [
            "[100, 51, 18, 16, 40, 7, 85, 50, 73, 28]\n",
            "[1000, 510, 180, 160, 400, 70, 850, 500, 730, 280]\n",
            "[100, 51, 18, 40, 85, 50]\n"
          ]
        }
      ]
    },
    {
      "cell_type": "code",
      "source": [
        "sample1 = [[random.randint(1,100) for i in range(3)] for j in range(3)]\n",
        "sample1"
      ],
      "metadata": {
        "colab": {
          "base_uri": "https://localhost:8080/"
        },
        "id": "z07WzVyL73kT",
        "outputId": "5437dc45-a0ed-45d8-9eed-296d127c91bd"
      },
      "execution_count": 27,
      "outputs": [
        {
          "output_type": "execute_result",
          "data": {
            "text/plain": [
              "[[74, 96, 9], [17, 99, 49], [69, 40, 85]]"
            ]
          },
          "metadata": {},
          "execution_count": 27
        }
      ]
    },
    {
      "cell_type": "code",
      "source": [
        "result =[]\n",
        "for i in sample1:\n",
        "  result.extend(i) # 리스트를 확장\n",
        "result"
      ],
      "metadata": {
        "colab": {
          "base_uri": "https://localhost:8080/"
        },
        "id": "8UAl-UBG-yYo",
        "outputId": "cda94d76-811b-4d6f-9abc-79282908d0d5"
      },
      "execution_count": 28,
      "outputs": [
        {
          "output_type": "execute_result",
          "data": {
            "text/plain": [
              "[74, 96, 9, 17, 99, 49, 69, 40, 85]"
            ]
          },
          "metadata": {},
          "execution_count": 28
        }
      ]
    },
    {
      "cell_type": "code",
      "source": [
        "result = []\n",
        "for i in sample1:\n",
        "  for j in i:\n",
        "    result.append(j)\n",
        "\n",
        "print(result)\n",
        "\n",
        "sum(sample1, []) # 암기... 2차원 데이터를 1차원으로 flatten(펴기)"
      ],
      "metadata": {
        "colab": {
          "base_uri": "https://localhost:8080/"
        },
        "id": "lIJrK6Gj_F4Z",
        "outputId": "a7c358a7-455e-4baa-e4ad-8482d4093057"
      },
      "execution_count": 29,
      "outputs": [
        {
          "output_type": "stream",
          "name": "stdout",
          "text": [
            "[74, 96, 9, 17, 99, 49, 69, 40, 85]\n"
          ]
        },
        {
          "output_type": "execute_result",
          "data": {
            "text/plain": [
              "[74, 96, 9, 17, 99, 49, 69, 40, 85]"
            ]
          },
          "metadata": {},
          "execution_count": 29
        }
      ]
    },
    {
      "cell_type": "code",
      "source": [
        "file = open('basic.txt', 'w') # 상대경로 <-> 절대경로\n",
        "file.write('Hello Python')\n",
        "file.close() # 반드시 닫아줘야 함"
      ],
      "metadata": {
        "id": "7U6_J19sAaCc"
      },
      "execution_count": 30,
      "outputs": []
    },
    {
      "cell_type": "code",
      "source": [
        "with open('basic.txt', 'w') as file:\n",
        "  file.write('Hello Python')\n",
        "# close 생략할 수 있음\n",
        "# 파일 쓰기"
      ],
      "metadata": {
        "id": "X58WGyDzCWrv"
      },
      "execution_count": 31,
      "outputs": []
    },
    {
      "cell_type": "code",
      "source": [
        "# 파일 읽기\n",
        "with open('basic.txt', 'r') as file:\n",
        "  content = file.read()\n",
        "\n",
        "print(content)"
      ],
      "metadata": {
        "colab": {
          "base_uri": "https://localhost:8080/"
        },
        "id": "U1n7-0z0Dkyu",
        "outputId": "bc0502fa-ed5a-400f-f8b9-51d4371d05e7"
      },
      "execution_count": 32,
      "outputs": [
        {
          "output_type": "stream",
          "name": "stdout",
          "text": [
            "Hello Python\n"
          ]
        }
      ]
    },
    {
      "cell_type": "markdown",
      "source": [
        "- 람다\n",
        "- map\n",
        "- filter\n",
        "- 튜플\n",
        "- 파일조작"
      ],
      "metadata": {
        "id": "rwqxeCj8Eg5T"
      }
    },
    {
      "cell_type": "code",
      "source": [
        "# functools 라는 이름의 모듈 중에서 reduce 함수를 사용하도록 가져온다\n",
        "from functools import reduce # functcools 공구상자에서 reduce 공구를 꺼내서 사용\n",
        "print(reduce(lambda x, y : x + y, [1,2,3,4,5])) # 앞에서부터 2개 계산한 뒤 그 결과를 옆과 계산"
      ],
      "metadata": {
        "colab": {
          "base_uri": "https://localhost:8080/"
        },
        "id": "eQEVZzEfECsD",
        "outputId": "614d18d1-ee57-457a-fa74-9830c652c8f7"
      },
      "execution_count": 33,
      "outputs": [
        {
          "output_type": "stream",
          "name": "stdout",
          "text": [
            "15\n"
          ]
        }
      ]
    },
    {
      "cell_type": "code",
      "source": [
        "sample1 = [[random.randint(1,100) for i in range(3)] for j in range(4)]\n",
        "print(sample1)\n",
        "reduce(lambda x,y: x+y, sample1)"
      ],
      "metadata": {
        "colab": {
          "base_uri": "https://localhost:8080/"
        },
        "id": "MYZQYZcxFQFL",
        "outputId": "12824c68-5828-4321-8a99-f95e4ec68ff5"
      },
      "execution_count": 34,
      "outputs": [
        {
          "output_type": "stream",
          "name": "stdout",
          "text": [
            "[[29, 91, 93], [43, 12, 97], [83, 16, 80], [37, 30, 68]]\n"
          ]
        },
        {
          "output_type": "execute_result",
          "data": {
            "text/plain": [
              "[29, 91, 93, 43, 12, 97, 83, 16, 80, 37, 30, 68]"
            ]
          },
          "metadata": {},
          "execution_count": 34
        }
      ]
    },
    {
      "cell_type": "markdown",
      "source": [
        "# 딕셔너리 정렬"
      ],
      "metadata": {
        "id": "ii9zhvQxG3g4"
      }
    },
    {
      "cell_type": "code",
      "source": [
        "# 임의의 딕셔너리를 생성\n",
        "  # 두개의 집합을 만들고\n",
        "  # zip을 이용해서 두 집합의 요소를 튜플로 만들어서 리스트화\n",
        "  # dict 함수에 넣으면 딕셔너리가 완성"
      ],
      "metadata": {
        "id": "S2P3w4ueGKtz"
      },
      "execution_count": 35,
      "outputs": []
    },
    {
      "cell_type": "code",
      "source": [
        "list_1 = ['김','이','박','최','홍']\n",
        "list_2 = [random.randint(1,100) for i in range(5)]\n",
        "dict_1 = dict(list(zip(list_1, list_2)))\n",
        "dict_1"
      ],
      "metadata": {
        "colab": {
          "base_uri": "https://localhost:8080/"
        },
        "id": "o_4sOhYOHaEW",
        "outputId": "78d58a49-fc31-403c-f669-524aefd7015b"
      },
      "execution_count": 36,
      "outputs": [
        {
          "output_type": "execute_result",
          "data": {
            "text/plain": [
              "{'김': 65, '이': 72, '박': 20, '최': 32, '홍': 61}"
            ]
          },
          "metadata": {},
          "execution_count": 36
        }
      ]
    },
    {
      "cell_type": "code",
      "source": [
        "sorted(dict_1.items(), key=lambda x : x[1])"
      ],
      "metadata": {
        "colab": {
          "base_uri": "https://localhost:8080/"
        },
        "id": "QPDVC7o3HwkQ",
        "outputId": "7003d3e2-b5bb-4c42-f868-199d6c111ae5"
      },
      "execution_count": 37,
      "outputs": [
        {
          "output_type": "execute_result",
          "data": {
            "text/plain": [
              "[('박', 20), ('최', 32), ('홍', 61), ('김', 65), ('이', 72)]"
            ]
          },
          "metadata": {},
          "execution_count": 37
        }
      ]
    },
    {
      "cell_type": "code",
      "source": [
        "dict(sorted(dict_1.items(), key=lambda x : x[1], reverse = True))"
      ],
      "metadata": {
        "colab": {
          "base_uri": "https://localhost:8080/"
        },
        "id": "jZh-w3YMIo7j",
        "outputId": "626acc86-9ce6-458a-d384-32a4ed5e62db"
      },
      "execution_count": 38,
      "outputs": [
        {
          "output_type": "execute_result",
          "data": {
            "text/plain": [
              "{'이': 72, '김': 65, '홍': 61, '최': 32, '박': 20}"
            ]
          },
          "metadata": {},
          "execution_count": 38
        }
      ]
    },
    {
      "cell_type": "code",
      "source": [
        "# 3 x 3 형태의 2차원 리스트를 만들어서\n",
        "# 각각의 row.col 및 좌우 대각선이 평균을 구해보세요\n",
        "sample = [[random.randint(1,100) for i in range(3)] for i in range (3)]\n",
        "for i in range(3):\n",
        "  for j in range(3):\n",
        "    print(sample[i][j], end='\\t')\n",
        "  print()\n",
        "\n",
        "print('-'*100)\n",
        "# 각 row/col 합\n",
        "row = list(map(lambda x : sum(x) / len(x), sample))\n",
        "print(row)\n",
        "\n",
        "print('-'*100)\n",
        "\n",
        "col_avg = []\n",
        "for i in range(3):\n",
        "  total = 0\n",
        "  for j in range(3):\n",
        "    total += sample[j][i]\n",
        "  col_avg.append(total/3)\n",
        "print(col_avg)\n",
        "\n",
        "print('-'*100)\n",
        "\n",
        "# 오른쪽 대각선의 합\n",
        "diag_avg = []\n",
        "total = 0\n",
        "for i in range(3):\n",
        "  total += sample[i][i]\n",
        "print(total/len(sample))\n",
        "\n",
        "print('-'*100)\n",
        "\n",
        "#왼쪽 대각선의 합\n",
        "diag_avg = []\n",
        "total = 0\n",
        "for i in range(3):\n",
        "  total += sample[i][-i-1]\n",
        "print(total/len(sample))"
      ],
      "metadata": {
        "colab": {
          "base_uri": "https://localhost:8080/"
        },
        "id": "d9VsgrpOI9C1",
        "outputId": "1ff57826-d0b9-4853-b3dd-dc1c154358a6"
      },
      "execution_count": 39,
      "outputs": [
        {
          "output_type": "stream",
          "name": "stdout",
          "text": [
            "95\t36\t62\t\n",
            "35\t50\t75\t\n",
            "48\t4\t22\t\n",
            "----------------------------------------------------------------------------------------------------\n",
            "[64.33333333333333, 53.333333333333336, 24.666666666666668]\n",
            "----------------------------------------------------------------------------------------------------\n",
            "[59.333333333333336, 30.0, 53.0]\n",
            "----------------------------------------------------------------------------------------------------\n",
            "55.666666666666664\n",
            "----------------------------------------------------------------------------------------------------\n",
            "53.333333333333336\n"
          ]
        }
      ]
    },
    {
      "cell_type": "code",
      "source": [
        "# 오른쪽 대각선의 합\n",
        "total = 0\n",
        "for i in range(3):\n",
        "  total += sample[i][i]\n",
        "print(f\"오른쪽 대각선의 합 : {total}\")\n",
        "\n",
        "# 왼쪽 대각선의 합\n",
        "total = 0\n",
        "for i in range(3):  # 0 1 2 -> -1 -2 -3\n",
        "  total += sample[i][-i-1]\n",
        "print(f\"왼쪽 대각선의 합 : {total}\")\n",
        "\n",
        "# 각 row/colr 합\n",
        "for i in range(3):\n",
        "  total = 0\n",
        "  row_total = 0\n",
        "  col_total = 0\n",
        "  for j in range(3):\n",
        "    row_total += sample[i][j]\n",
        "    col_total += sample[j][i]\n",
        "  print(f\"row들의 각각 합 : {row_total}\")\n",
        "  print(f\"col들의 각각 합 : {col_total}\")"
      ],
      "metadata": {
        "colab": {
          "base_uri": "https://localhost:8080/"
        },
        "id": "HBLvDKYJNJi2",
        "outputId": "a02e8cba-ac8d-4295-e8bf-282e32024253"
      },
      "execution_count": 40,
      "outputs": [
        {
          "output_type": "stream",
          "name": "stdout",
          "text": [
            "오른쪽 대각선의 합 : 167\n",
            "왼쪽 대각선의 합 : 160\n",
            "row들의 각각 합 : 193\n",
            "col들의 각각 합 : 178\n",
            "row들의 각각 합 : 160\n",
            "col들의 각각 합 : 90\n",
            "row들의 각각 합 : 74\n",
            "col들의 각각 합 : 159\n"
          ]
        }
      ]
    },
    {
      "cell_type": "code",
      "source": [
        "def right_diag_sum(sample):\n",
        "  total = 0\n",
        "  for i in range(len(sample)):\n",
        "    total += sample[i][i]\n",
        "    print(f\"오른쪽 대각선의 합 : {total}\")\n",
        "\n",
        "def left_diag_sum(sample):\n",
        "  total = 0\n",
        "  for i in range(len(sample)):\n",
        "    total += sample[i][-i-1]\n",
        "  print(f\"왼쪽 대각선의 합 : {total}\")\n",
        "\n",
        "def row_col_sum(sample):\n",
        "  row, col = [], []\n",
        "  for i in range(3):\n",
        "    total = 0\n",
        "    row_total = 0\n",
        "    col_total = 0\n",
        "    for j in range(3):\n",
        "      row_total += sample[i][j]\n",
        "      col_total += sample[j][i]\n",
        "\n",
        "    print(f\"row들의 각각 합 : {row_total}\")\n",
        "    print(f\"col들의 각각 합 : {col_total}\")"
      ],
      "metadata": {
        "id": "TDgT9oo2R4So"
      },
      "execution_count": 41,
      "outputs": []
    },
    {
      "cell_type": "code",
      "source": [
        "# 리스트의 모양이 정사각형 모양이면 각 대각선의 합도 리턴하고\n",
        "# 그렇지 않으면 row 별 col별 합을 리턴\n",
        "sample = [[random.randint(1,100) for i in range(3)] for i in range (3)]\n",
        "sample"
      ],
      "metadata": {
        "colab": {
          "base_uri": "https://localhost:8080/"
        },
        "id": "Tgo4VEHqSrUz",
        "outputId": "65657f81-3906-43c4-8844-8ec32bdfe355"
      },
      "execution_count": 42,
      "outputs": [
        {
          "output_type": "execute_result",
          "data": {
            "text/plain": [
              "[[26, 46, 86], [55, 4, 67], [1, 32, 86]]"
            ]
          },
          "metadata": {},
          "execution_count": 42
        }
      ]
    },
    {
      "cell_type": "code",
      "source": [
        "def crossVal(listData):\n",
        "  row = len(listData)\n",
        "  col = len(listData[0])\n",
        "  crossVals = []  # 각 대각선의합(오른쪽왼쪽,왼쪽오른쪽)\n",
        "  if row == col:\n",
        "    # 각 대각선합을 구하고\n",
        "    # 오른쪽 대각선의 합\n",
        "    total = 0\n",
        "    for i in range(row):\n",
        "      total += listData[i][i]\n",
        "    crossVals.append(total)\n",
        "    # 왼쪽 대각선의 합\n",
        "    total = 0\n",
        "    for i in range(row):  # 0 1 2 -> -1 -2 -3\n",
        "      total += listData[i][-i-1]\n",
        "    crossVals.append(total)\n",
        "  return crossVals\n",
        "\n",
        "def rows_sum(listData):\n",
        "  rows = []\n",
        "  row = len(listData)\n",
        "  col = len(listData[0])\n",
        "  for i in range(row):\n",
        "    row_total = 0\n",
        "    for j in range(col):\n",
        "      row_total += listData[i][j]\n",
        "    rows.append(row_total)\n",
        "  return rows\n",
        "\n",
        "def cols_sum(listData):\n",
        "  cols = []\n",
        "  row = len(listData)\n",
        "  col = len(listData[0])\n",
        "  for i in range(col):\n",
        "    col_total = 0\n",
        "    for j in range(row):\n",
        "      col_total += listData[j][i]\n",
        "    cols.append(col_total)\n",
        "  return cols\n"
      ],
      "metadata": {
        "id": "mdQrLS2ToboY"
      },
      "execution_count": 43,
      "outputs": []
    },
    {
      "cell_type": "code",
      "source": [
        "# sample의 shape 알아내기\n",
        "def multiSummeray(sample):\n",
        "  crossVals = crossVal(sample)\n",
        "  # row = len(listData)\n",
        "  # col = len(listData[0])\n",
        "  # crossVals = []  # 각 대각선의합(오른쪽왼쪽,왼쪽오른쪽)\n",
        "  # if row == col:\n",
        "  #   # 각 대각선합을 구하고\n",
        "  #   # 오른쪽 대각선의 합\n",
        "  #   total = 0\n",
        "  #   for i in range(row):\n",
        "  #     total += sample[i][i]\n",
        "  #   crossVals.append(total)\n",
        "  #   # 왼쪽 대각선의 합\n",
        "  #   total = 0\n",
        "  #   for i in range(row):  # 0 1 2 -> -1 -2 -3\n",
        "  #     total += sample[i][-i-1]\n",
        "  #   crossVals.append(total)\n",
        "\n",
        "  # row별 합을 구하고\n",
        "  rows = rows_sum(sample)\n",
        "  # rows,cols = [],[]\n",
        "  # for i in range(row):\n",
        "  #   total = 0\n",
        "  #   row_total = 0\n",
        "  #   for j in range(col):\n",
        "  #     row_total += sample[i][j]\n",
        "  #   rows.append(row_total)\n",
        "\n",
        "  # col별 합을 구하고\n",
        "  cols = cols_sum(sample)\n",
        "  # for i in range(col):\n",
        "  #   total = 0\n",
        "  #   col_total = 0\n",
        "  #   for j in range(row):\n",
        "  #     col_total += sample[j][i]\n",
        "  #   cols.append(col_total)\n",
        "\n",
        "  return rows,cols,crossVals"
      ],
      "metadata": {
        "id": "Z0PgcfXQTYf1"
      },
      "execution_count": 44,
      "outputs": []
    },
    {
      "cell_type": "code",
      "source": [
        "multiSummeray(sample)"
      ],
      "metadata": {
        "colab": {
          "base_uri": "https://localhost:8080/"
        },
        "id": "O_AA4qWGTjZ9",
        "outputId": "baae7cca-c483-4d7d-e808-e52bf141cc01"
      },
      "execution_count": 45,
      "outputs": [
        {
          "output_type": "execute_result",
          "data": {
            "text/plain": [
              "([158, 126, 119], [82, 82, 239], [116, 91])"
            ]
          },
          "metadata": {},
          "execution_count": 45
        }
      ]
    },
    {
      "cell_type": "code",
      "source": [
        "# 예외가 발생하면 로그가 쌓임\n",
        "# syntax error - 구문오류, 오타\n",
        "# runtime error / exception"
      ],
      "metadata": {
        "id": "RWEDrxseVbGw"
      },
      "execution_count": 46,
      "outputs": []
    },
    {
      "cell_type": "code",
      "source": [
        "number_input_a = input('정수 입력> ')\n",
        "if number_input_a.isdigit():\n",
        "  number_input_a = int(number_input_a)\n",
        "  print(\"원의 반지름\", number_input_a)\n",
        "  print(\"원의 둘레\", 2 * 3.14 * number_input_a)\n",
        "  print(\"원의 넓이\", 3.14 * number_input_a * number_input_a)\n",
        "else:\n",
        "  print(\"정수를 입력하세요\")"
      ],
      "metadata": {
        "colab": {
          "base_uri": "https://localhost:8080/"
        },
        "id": "mV2YcVd7tOgd",
        "outputId": "f7ea5c5a-1f2d-4939-c594-4dac4b7b1d0c"
      },
      "execution_count": 47,
      "outputs": [
        {
          "output_type": "stream",
          "name": "stdout",
          "text": [
            "정수 입력> 100\n",
            "원의 반지름 100\n",
            "원의 둘레 628.0\n",
            "원의 넓이 31400.0\n"
          ]
        }
      ]
    },
    {
      "cell_type": "code",
      "source": [
        "try:\n",
        "  number_input_a = input('정수 입력> ')\n",
        "  number_input_a = int(number_input_a)\n",
        "  print(\"원의 반지름\", number_input_a)\n",
        "  print(\"원의 둘레\", 2 * 3.14 * number_input_a)\n",
        "  print(\"원의 넓이\", 3.14 * number_input_a * number_input_a)\n",
        "\n",
        "except:\n",
        "  print(\"무언가 잘못되었습니다\")"
      ],
      "metadata": {
        "colab": {
          "base_uri": "https://localhost:8080/"
        },
        "id": "-DC3x770uT9K",
        "outputId": "8c69da44-2db1-4b2d-d692-6919509b74ab"
      },
      "execution_count": 48,
      "outputs": [
        {
          "output_type": "stream",
          "name": "stdout",
          "text": [
            "정수 입력> asdf\n",
            "무언가 잘못되었습니다\n"
          ]
        }
      ]
    },
    {
      "cell_type": "code",
      "source": [
        "list_input = ['52','273','32','스파이','103',[1,2,], {}, (1,2),'123', 1,2,3]\n",
        "\n",
        "list_number = []\n",
        "for item in list_input:\n",
        "  try:\n",
        "    float(item)\n",
        "    list_number.append(item)\n",
        "  except:\n",
        "    print('ops!!')\n",
        "    # pass\n",
        "  else:\n",
        "    print('good')\n",
        "  finally: # 무조건 실행할 필요가 있는 것, 문서 close 할 때, 하지만 with 절로 인해 잘 사용안함\n",
        "    print('완료')\n",
        "\n",
        "print(list_number)\n",
        "\n",
        "# try 개발자가 예상하지 못하는 문제 해결하기 위해"
      ],
      "metadata": {
        "colab": {
          "base_uri": "https://localhost:8080/"
        },
        "id": "2Fo6owK1wEwP",
        "outputId": "7d03d6c7-54d2-4d31-f691-1a0f55810513"
      },
      "execution_count": 56,
      "outputs": [
        {
          "output_type": "stream",
          "name": "stdout",
          "text": [
            "good\n",
            "완료\n",
            "good\n",
            "완료\n",
            "good\n",
            "완료\n",
            "ops!!\n",
            "완료\n",
            "good\n",
            "완료\n",
            "ops!!\n",
            "완료\n",
            "ops!!\n",
            "완료\n",
            "ops!!\n",
            "완료\n",
            "good\n",
            "완료\n",
            "good\n",
            "완료\n",
            "good\n",
            "완료\n",
            "good\n",
            "완료\n",
            "['52', '273', '32', '103', '123', 1, 2, 3]\n"
          ]
        }
      ]
    },
    {
      "cell_type": "code",
      "source": [
        "givemenu = input('정수를 입력하세요')\n",
        "try:\n",
        "  number_input = int(givemenu)\n",
        "  print(number_input)\n",
        "except:\n",
        "  print('잘못되었습니다')\n",
        "else:\n",
        "  print('예외가 발생하지 않았습니다')\n",
        "finally:\n",
        "  print('어떻게든 끝났습니다')"
      ],
      "metadata": {
        "colab": {
          "base_uri": "https://localhost:8080/"
        },
        "id": "1-1Vgr-e15Iu",
        "outputId": "256e1004-9916-4265-f8db-279b9ffb392f"
      },
      "execution_count": 59,
      "outputs": [
        {
          "output_type": "stream",
          "name": "stdout",
          "text": [
            "정수를 입력하세요123\n",
            "123\n",
            "예외가 발생하지 않았습니다\n",
            "어떻게든 끝났습니다\n"
          ]
        }
      ]
    },
    {
      "cell_type": "code",
      "source": [
        "# try + except\n",
        "# finally 구문은, break로 for, while 구문 나올때에도 실행함\n",
        "# raise - 예외를 발생시킴"
      ],
      "metadata": {
        "id": "kh562TsQ54j4"
      },
      "execution_count": 60,
      "outputs": []
    },
    {
      "cell_type": "code",
      "source": [
        "# 예외가 발생하면 타입별로 처리하는 걸 달리할지\n",
        "# 모든 예외 발생시 동일한 처리를 할 건지\n",
        "try:\n",
        "  index_number = int(input(\"인덱스 번호 입력> \")) # ValueError\n",
        "  sample = [random.randint(1,100) for i in range(10)]\n",
        "  print(sample[index_number]) # indexError\n",
        "  num1, num2 = map(int,input(\"공백을 기준으로 두개의 정수를 입력\").split())\n",
        "  print(f'{num1} / {num2} = {num1/num2}') # zeroDivisionError\n",
        "\n",
        "except ValueError as error: # as - 변수화\n",
        "  print(error)\n",
        "except IndexError as error:\n",
        "  print(error)\n",
        "except ZeroDivisionError as error:\n",
        "  print(error)\n",
        "except Exception as error: # 그 외 나머지, else --> 에러 구문을 나눈 경우 반드시 포함해야 에러 방지!!\n",
        "  print(error)\n",
        "\n",
        "# 다른 언어에서 try ~ catch와 비슷"
      ],
      "metadata": {
        "colab": {
          "base_uri": "https://localhost:8080/"
        },
        "id": "X7sZ2s1e7Lbd",
        "outputId": "20bcfddf-c6f7-48d8-c1f7-dab853571ac5"
      },
      "execution_count": 78,
      "outputs": [
        {
          "name": "stdout",
          "output_type": "stream",
          "text": [
            "인덱스 번호 입력> 0\n",
            "85\n",
            "공백을 기준으로 두개의 정수를 입력1 0\n"
          ]
        }
      ]
    },
    {
      "cell_type": "code",
      "source": [
        "list_number = [52, 273, 32, 72, 100]\n",
        "\n",
        "try:\n",
        "  number_input = int(input(\"정수 입력> \"))\n",
        "  print(f'{number_input}번째 요소: {list_number[number_input]}')\n",
        "except ValueError:\n",
        "  print('정수를 입력해주세요')\n",
        "except IndexError:\n",
        "  print('리스트의 인덱스를 벗어났습니다')\n"
      ],
      "metadata": {
        "colab": {
          "base_uri": "https://localhost:8080/"
        },
        "id": "XDMc-nl17iV_",
        "outputId": "bb251273-d106-4951-8152-63bc4c2de9aa"
      },
      "execution_count": 77,
      "outputs": [
        {
          "output_type": "stream",
          "name": "stdout",
          "text": [
            "정수 입력> yes\n",
            "정수를 입력해주세요\n"
          ]
        }
      ]
    },
    {
      "cell_type": "code",
      "source": [
        "number = input(\"정수 입력> \")\n",
        "number = int(number)\n",
        "\n",
        "if number > 0:\n",
        "  raise NotImplementedError('아직 구현하지 않음') # 구현되지 않은 상태\n",
        "else:\n",
        "  raise NotImplementedError # 구현되지 않은 상태"
      ],
      "metadata": {
        "colab": {
          "base_uri": "https://localhost:8080/",
          "height": 238
        },
        "id": "WqUMWI09_OSH",
        "outputId": "c4f2be19-2926-4f75-e971-30b40fa7e34d"
      },
      "execution_count": 81,
      "outputs": [
        {
          "name": "stdout",
          "output_type": "stream",
          "text": [
            "정수 입력> 1\n"
          ]
        },
        {
          "output_type": "error",
          "ename": "NotImplementedError",
          "evalue": "아직 구현하지 않음",
          "traceback": [
            "\u001b[0;31m---------------------------------------------------------------------------\u001b[0m",
            "\u001b[0;31mNotImplementedError\u001b[0m                       Traceback (most recent call last)",
            "\u001b[0;32m<ipython-input-81-fa5f9c4e1a07>\u001b[0m in \u001b[0;36m<cell line: 4>\u001b[0;34m()\u001b[0m\n\u001b[1;32m      3\u001b[0m \u001b[0;34m\u001b[0m\u001b[0m\n\u001b[1;32m      4\u001b[0m \u001b[0;32mif\u001b[0m \u001b[0mnumber\u001b[0m \u001b[0;34m>\u001b[0m \u001b[0;36m0\u001b[0m\u001b[0;34m:\u001b[0m\u001b[0;34m\u001b[0m\u001b[0;34m\u001b[0m\u001b[0m\n\u001b[0;32m----> 5\u001b[0;31m   \u001b[0;32mraise\u001b[0m \u001b[0mNotImplementedError\u001b[0m\u001b[0;34m(\u001b[0m\u001b[0;34m'아직 구현하지 않음'\u001b[0m\u001b[0;34m)\u001b[0m \u001b[0;31m# 구현되지 않은 상태\u001b[0m\u001b[0;34m\u001b[0m\u001b[0;34m\u001b[0m\u001b[0m\n\u001b[0m\u001b[1;32m      6\u001b[0m \u001b[0;32melse\u001b[0m\u001b[0;34m:\u001b[0m\u001b[0;34m\u001b[0m\u001b[0;34m\u001b[0m\u001b[0m\n\u001b[1;32m      7\u001b[0m   \u001b[0;32mraise\u001b[0m \u001b[0mNotImplementedError\u001b[0m \u001b[0;31m# 구현되지 않은 상태\u001b[0m\u001b[0;34m\u001b[0m\u001b[0;34m\u001b[0m\u001b[0m\n",
            "\u001b[0;31mNotImplementedError\u001b[0m: 아직 구현하지 않음"
          ]
        }
      ]
    },
    {
      "cell_type": "code",
      "source": [
        "raise Exception('에러발생') # Exception이 가장 상위임"
      ],
      "metadata": {
        "colab": {
          "base_uri": "https://localhost:8080/",
          "height": 147
        },
        "id": "WoRMntKIDV4m",
        "outputId": "dd55205b-8e17-49ee-ac34-e81462833255"
      },
      "execution_count": 82,
      "outputs": [
        {
          "output_type": "error",
          "ename": "Exception",
          "evalue": "에러발생",
          "traceback": [
            "\u001b[0;31m---------------------------------------------------------------------------\u001b[0m",
            "\u001b[0;31mException\u001b[0m                                 Traceback (most recent call last)",
            "\u001b[0;32m<ipython-input-82-fee289e1284f>\u001b[0m in \u001b[0;36m<cell line: 1>\u001b[0;34m()\u001b[0m\n\u001b[0;32m----> 1\u001b[0;31m \u001b[0;32mraise\u001b[0m \u001b[0mException\u001b[0m\u001b[0;34m(\u001b[0m\u001b[0;34m'에러발생'\u001b[0m\u001b[0;34m)\u001b[0m\u001b[0;34m\u001b[0m\u001b[0;34m\u001b[0m\u001b[0m\n\u001b[0m",
            "\u001b[0;31mException\u001b[0m: 에러발생"
          ]
        }
      ]
    },
    {
      "cell_type": "code",
      "source": [
        "# 사용자로부터 1 ~ 10 사이의 정수를 입력\n",
        "# 정수가 아닌 수를 입력하면 --> 수를 입력\n",
        "# 정수를 입력했는데, 1~10 사이가 아니면 적당 에외 메세지를 출력\n",
        "\n",
        "def getData():\n",
        "  # try:\n",
        "    number = int(input(\"1~10 사이의 정수를 입력하세요 : \"))\n",
        "  # except ValueError as error:\n",
        "  #   print(error)\n",
        "  #   return None\n",
        "  # else:\n",
        "    if number >= 1 and number <= 10:\n",
        "      return number\n",
        "    else:\n",
        "      raise Exception(\"1~10 사이의 정수가 아닙니다\")"
      ],
      "metadata": {
        "id": "eF_X2gIfEIbC"
      },
      "execution_count": 91,
      "outputs": []
    },
    {
      "cell_type": "code",
      "source": [
        "try:\n",
        "  print(getData())\n",
        "except Exception as error:\n",
        "  print(error)"
      ],
      "metadata": {
        "colab": {
          "base_uri": "https://localhost:8080/"
        },
        "id": "ZKQtVEMQFDY-",
        "outputId": "036dbb7d-ef11-40b1-b31a-c57174189c96"
      },
      "execution_count": 96,
      "outputs": [
        {
          "output_type": "stream",
          "name": "stdout",
          "text": [
            "1~10 사이의 정수를 입력하세요 : 123\n",
            "1~10 사이의 정수가 아닙니다\n"
          ]
        }
      ]
    },
    {
      "cell_type": "markdown",
      "source": [
        "# 자료구조\n",
        " - 리스트\n",
        " - 튜플\n",
        " - 딕셔너리\n",
        " - set\n",
        "  - 저장순서를 보장하지 않는다\n",
        "  - 중복을 허용하지 않는다\n",
        "  - 차집합, 합집합, 교집합을 구현할 수 있다\n",
        "  - {1,2,3,4}\n",
        "- 리스트, 튜플, 셋은 서로 타입변환이 가능하다\n",
        " - list(), tuple(), set()"
      ],
      "metadata": {
        "id": "lHwaOKSFIS7v"
      }
    },
    {
      "cell_type": "code",
      "source": [
        "# 랜덤하게 생성한 리스트 중에서 중복을 제거해 보자\n",
        "sample = [random.randint(1,15) for i in range(10)]\n",
        "print(f'original : {sample}')\n",
        "print(f'중복제거 : {list(set(sample))}')\n",
        "\n",
        "# 만들기\n",
        "set_1 = {1,2,3}\n",
        "set_1.add(3)\n",
        "set_1"
      ],
      "metadata": {
        "colab": {
          "base_uri": "https://localhost:8080/"
        },
        "id": "Z18UVQEAFJ-l",
        "outputId": "8d4ea699-1d20-486b-9d6c-1e1c2ad2bfa5"
      },
      "execution_count": 102,
      "outputs": [
        {
          "output_type": "stream",
          "name": "stdout",
          "text": [
            "original : [4, 12, 3, 1, 2, 2, 9, 8, 7, 1]\n",
            "중복제거 : [1, 2, 3, 4, 7, 8, 9, 12]\n"
          ]
        },
        {
          "output_type": "execute_result",
          "data": {
            "text/plain": [
              "{1, 2, 3}"
            ]
          },
          "metadata": {},
          "execution_count": 102
        }
      ]
    },
    {
      "cell_type": "code",
      "source": [
        "lottos = set()\n",
        "while len(lottos) < 6:\n",
        "  lottos.add(random.randint(1,45))\n",
        "lottos"
      ],
      "metadata": {
        "colab": {
          "base_uri": "https://localhost:8080/"
        },
        "id": "-2fuB1xQJNkr",
        "outputId": "c787eb7b-bcbe-4033-acd0-dda1a5a7d39f"
      },
      "execution_count": 105,
      "outputs": [
        {
          "output_type": "execute_result",
          "data": {
            "text/plain": [
              "{8, 14, 16, 19, 34, 37}"
            ]
          },
          "metadata": {},
          "execution_count": 105
        }
      ]
    },
    {
      "cell_type": "code",
      "source": [
        "list(lottos), tuple(lottos)"
      ],
      "metadata": {
        "colab": {
          "base_uri": "https://localhost:8080/"
        },
        "id": "xNhyrCjeKZIV",
        "outputId": "c4dd5170-9d42-431b-8419-b75f9e6f6480"
      },
      "execution_count": 107,
      "outputs": [
        {
          "output_type": "execute_result",
          "data": {
            "text/plain": [
              "([34, 37, 8, 14, 16, 19], (34, 37, 8, 14, 16, 19))"
            ]
          },
          "metadata": {},
          "execution_count": 107
        }
      ]
    },
    {
      "cell_type": "code",
      "source": [
        "for i in lottos:\n",
        "  print(i)"
      ],
      "metadata": {
        "colab": {
          "base_uri": "https://localhost:8080/"
        },
        "id": "-Qx688CCKsw2",
        "outputId": "f04f8bd3-77d4-4a65-90c7-03853747605e"
      },
      "execution_count": 109,
      "outputs": [
        {
          "output_type": "stream",
          "name": "stdout",
          "text": [
            "34\n",
            "37\n",
            "8\n",
            "14\n",
            "16\n",
            "19\n"
          ]
        }
      ]
    },
    {
      "cell_type": "code",
      "source": [
        "sample1 = [ random.randint(1,15) for i in range(10)]\n",
        "sample2 = [ random.randint(1,15) for i in range(10)]\n",
        "\n",
        "print(f'sample1 : {sample1}')\n",
        "print(f'sample2 : {sample2}')"
      ],
      "metadata": {
        "colab": {
          "base_uri": "https://localhost:8080/"
        },
        "id": "_NeKJ8hPK0r8",
        "outputId": "7e19a00c-4c02-4d85-ca50-d9042a17f88d"
      },
      "execution_count": 110,
      "outputs": [
        {
          "output_type": "stream",
          "name": "stdout",
          "text": [
            "sample1 : [12, 3, 14, 7, 6, 15, 5, 14, 7, 7]\n",
            "sample2 : [1, 7, 8, 12, 7, 3, 5, 10, 11, 15]\n"
          ]
        }
      ]
    },
    {
      "cell_type": "code",
      "source": [
        "s1 = set(sample1)\n",
        "s2 = set(sample2)"
      ],
      "metadata": {
        "id": "aLkBC-9nMWB6"
      },
      "execution_count": 116,
      "outputs": []
    },
    {
      "cell_type": "code",
      "source": [
        "# 차집합\n",
        "print(set(s2) - set(s1))\n",
        "print(s2.difference(s1))"
      ],
      "metadata": {
        "colab": {
          "base_uri": "https://localhost:8080/"
        },
        "id": "8eXsyDMULUhQ",
        "outputId": "43e08e3e-bca8-46df-8e09-f3a22e26f897"
      },
      "execution_count": 123,
      "outputs": [
        {
          "output_type": "stream",
          "name": "stdout",
          "text": [
            "{8, 1, 10, 11}\n",
            "{8, 1, 10, 11}\n"
          ]
        }
      ]
    },
    {
      "cell_type": "code",
      "source": [
        "# 교집합\n",
        "print(set(s2) & set(s1))\n",
        "print(s2.intersection(s1))"
      ],
      "metadata": {
        "colab": {
          "base_uri": "https://localhost:8080/"
        },
        "id": "8S354IWiLX9D",
        "outputId": "192d6331-c043-4af7-c5ab-055536e905d9"
      },
      "execution_count": 124,
      "outputs": [
        {
          "output_type": "stream",
          "name": "stdout",
          "text": [
            "{3, 5, 7, 12, 15}\n",
            "{3, 5, 7, 12, 15}\n"
          ]
        }
      ]
    },
    {
      "cell_type": "code",
      "source": [
        "# 합집합\n",
        "print(set(s2) | set(s1))\n",
        "print(s2.union(s1))"
      ],
      "metadata": {
        "colab": {
          "base_uri": "https://localhost:8080/"
        },
        "id": "eG6DwOTTL7bD",
        "outputId": "2da204c3-1d9c-43e9-bcee-d9959a028e99"
      },
      "execution_count": 125,
      "outputs": [
        {
          "output_type": "stream",
          "name": "stdout",
          "text": [
            "{1, 3, 5, 6, 7, 8, 10, 11, 12, 14, 15}\n",
            "{1, 3, 5, 6, 7, 8, 10, 11, 12, 14, 15}\n"
          ]
        }
      ]
    },
    {
      "cell_type": "markdown",
      "source": [
        "- 변수\n",
        "- 문자열\n",
        "- 자료형 : 숫자, 불 ...\n",
        "- 조건문 : if 조건 else 거짓\n",
        "- 반복문\n",
        " - break / continue\n",
        "- 자료구조\n",
        " - 리스트, 튜플, 딕셔너리, 셋\n",
        " - 리스트 컴프리핸션\n",
        "- 함수\n",
        " - 매개변수 : 다양하게 존재\n",
        " - 리턴값\n",
        "- 익명함수 --> 람다\n",
        " - 파이썬에는 함수를 매개변수로 받는 함수가 존재\n",
        " - map, filter, reduce(functool)\n",
        "- 파일처리 : with 절\n",
        "- 예외처리\n",
        " - try ~ except\n",
        " - raise Exception(\"예외발생\")"
      ],
      "metadata": {
        "id": "0GcnXBoqQXxC"
      }
    },
    {
      "cell_type": "code",
      "source": [
        "# 학사관리 프로그램 - 이름은 중복없이 고유값\n",
        "# 1. 입력 2. 출력\n",
        "# 3. 삭제 4. 수정\n",
        "# 5. 종료\n",
        "# 입력 : 공백을 기준으로 : 이름 나이 성적\n",
        "# 출력 : 전체 DB를 출력\n",
        "# 삭제 : 이름에 해당하는 데이터를 DB에서 제거\n",
        "# 수정 : 나이와 성적을 공백 기준으로 입력 받아서 수정\n",
        "# 종료 : 프로그램 종료"
      ],
      "metadata": {
        "id": "5i-9KSx3L-WO"
      },
      "execution_count": 126,
      "outputs": []
    },
    {
      "cell_type": "code",
      "source": [
        "db = [\n",
        "    {\n",
        "        'name' : '홍길동',\n",
        "        'age' : 20,\n",
        "        'grade' : 100\n",
        "    },\n",
        "    {\n",
        "        'name' : '홍길순',\n",
        "        'age' : 20,\n",
        "        'grade' : 100\n",
        "    }\n",
        "]"
      ],
      "metadata": {
        "id": "XGKxYKXyVEDq"
      },
      "execution_count": 129,
      "outputs": []
    },
    {
      "cell_type": "code",
      "source": [
        "from logging import info\n",
        "# 데이터 구조\n",
        "info = []\n",
        "#입력\n",
        "def menuNumber():\n",
        "  menu = 0\n",
        "  print(\"1. 입력\\t\\t 2. 출력\")\n",
        "  print(\"3. 삭제\\t\\t 4. 수정\")\n",
        "  print(\"5. 종료\")\n",
        "  menu = int(input(\"메뉴를 선택하세요 > \"))\n",
        "  if 1<= menu <= 5:\n",
        "    return int(menu)\n",
        "  else:\n",
        "    print(\"잘못된 입력입니다\")\n",
        "    return menuNumber()\n",
        "\n",
        "def inputData():\n",
        "  student, age, grade = input(\"공백을 기준으로 학생의 이름 나이 성적을 입력하세요\").split()\n",
        "  info.append(dict(zip(['student', 'age', 'grade'],[student, age, grade])))\n",
        "\n",
        "def deleteData(db):\n",
        "  name = input(\"삭제할 학생의 이름을 입력하세요\")\n",
        "  for i in range(len(db)):\n",
        "    if db[i]['student'] == name:\n",
        "      del db[i]\n",
        "      break\n",
        "  else:\n",
        "    print(\"해당하는 학생이 없습니다\")\n",
        "\n",
        "def sujungData(db):\n",
        "  student, age, grade = input(\"공백을 기준으로 수정할 학생의 이름 나이 성적을 입력하세요\").split()\n",
        "  for i in range(len(info)):\n",
        "    if info[i]['student'] == student:\n",
        "      info[i]['age'] = age\n",
        "      info[i]['grade'] = grade\n",
        "      break\n",
        "  else:\n",
        "    print(\"해당하는 학생이 없습니다\")\n",
        "\n",
        "while True:\n",
        "  menu_num = menuNumber()\n",
        "\n",
        "  if menu_num == 1:\n",
        "    inputData()\n",
        "\n",
        "  elif menu_num == 2:\n",
        "    print(info)\n",
        "\n",
        "  elif menu_num == 3:\n",
        "    deleteData(info)\n",
        "\n",
        "  elif menu_num == 4:\n",
        "    sujungData(info)\n",
        "\n",
        "  elif menu_num == 5:\n",
        "    break\n",
        "\n",
        "  else:\n",
        "    print(\"잘못된 입력입니다\")\n",
        "\n"
      ],
      "metadata": {
        "colab": {
          "base_uri": "https://localhost:8080/"
        },
        "id": "Nm1glQ5JSYJO",
        "outputId": "2f94b7c8-cf34-4e9c-da4e-10e841f165e8"
      },
      "execution_count": 143,
      "outputs": [
        {
          "name": "stdout",
          "output_type": "stream",
          "text": [
            "1. 입력\t\t 2. 출력\n",
            "3. 삭제\t\t 4. 수정\n",
            "5. 종료\n",
            "메뉴를 선택하세요 > 1\n",
            "공백을 기준으로 학생의 이름 나이 성적을 입력하세요김 34 34\n",
            "1. 입력\t\t 2. 출력\n",
            "3. 삭제\t\t 4. 수정\n",
            "5. 종료\n",
            "메뉴를 선택하세요 > 1\n",
            "공백을 기준으로 학생의 이름 나이 성적을 입력하세요이 23 23\n",
            "1. 입력\t\t 2. 출력\n",
            "3. 삭제\t\t 4. 수정\n",
            "5. 종료\n",
            "메뉴를 선택하세요 > 1\n",
            "공백을 기준으로 학생의 이름 나이 성적을 입력하세요박 25 25\n",
            "1. 입력\t\t 2. 출력\n",
            "3. 삭제\t\t 4. 수정\n",
            "5. 종료\n",
            "메뉴를 선택하세요 > 2\n",
            "[{'student': '김', 'age': '34', 'grade': '34'}, {'student': '이', 'age': '23', 'grade': '23'}, {'student': '박', 'age': '25', 'grade': '25'}]\n",
            "1. 입력\t\t 2. 출력\n",
            "3. 삭제\t\t 4. 수정\n",
            "5. 종료\n",
            "메뉴를 선택하세요 > 3\n",
            "삭제할 학생의 이름을 입력하세요김\n",
            "1. 입력\t\t 2. 출력\n",
            "3. 삭제\t\t 4. 수정\n",
            "5. 종료\n",
            "메뉴를 선택하세요 > 2\n",
            "[{'student': '이', 'age': '23', 'grade': '23'}, {'student': '박', 'age': '25', 'grade': '25'}]\n",
            "1. 입력\t\t 2. 출력\n",
            "3. 삭제\t\t 4. 수정\n",
            "5. 종료\n",
            "메뉴를 선택하세요 > 4\n",
            "공백을 기준으로 수정할 학생의 이름 나이 성적을 입력하세요이 24 80\n",
            "1. 입력\t\t 2. 출력\n",
            "3. 삭제\t\t 4. 수정\n",
            "5. 종료\n",
            "메뉴를 선택하세요 > 2\n",
            "[{'student': '이', 'age': '24', 'grade': '80'}, {'student': '박', 'age': '25', 'grade': '25'}]\n",
            "1. 입력\t\t 2. 출력\n",
            "3. 삭제\t\t 4. 수정\n",
            "5. 종료\n",
            "메뉴를 선택하세요 > 5\n"
          ]
        }
      ]
    },
    {
      "cell_type": "code",
      "source": [],
      "metadata": {
        "id": "tOuaLlZfUrfn"
      },
      "execution_count": null,
      "outputs": []
    }
  ]
}
