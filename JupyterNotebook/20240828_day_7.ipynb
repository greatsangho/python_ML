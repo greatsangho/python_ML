{
  "nbformat": 4,
  "nbformat_minor": 0,
  "metadata": {
    "colab": {
      "provenance": [],
      "mount_file_id": "13-DOvcZ_yJ0pIBWUykiXVeMNV-BHyrNV",
      "authorship_tag": "ABX9TyN78yaTKv6hEbilPNh9iX2N",
      "include_colab_link": true
    },
    "kernelspec": {
      "name": "python3",
      "display_name": "Python 3"
    },
    "language_info": {
      "name": "python"
    }
  },
  "cells": [
    {
      "cell_type": "markdown",
      "metadata": {
        "id": "view-in-github",
        "colab_type": "text"
      },
      "source": [
        "<a href=\"https://colab.research.google.com/github/greatsangho/python_study/blob/main/20240828_day_7.ipynb\" target=\"_parent\"><img src=\"https://colab.research.google.com/assets/colab-badge.svg\" alt=\"Open In Colab\"/></a>"
      ]
    },
    {
      "cell_type": "markdown",
      "source": [
        "pandas\n",
        " - csv 및 기타 파일을 객체형태로 관리 모듈(프레임 웍)"
      ],
      "metadata": {
        "id": "6W-100ccTE6e"
      }
    },
    {
      "cell_type": "code",
      "execution_count": null,
      "metadata": {
        "id": "JzrpiBBmQiNM"
      },
      "outputs": [],
      "source": [
        "# !pip install pandas\n",
        "# !conda install pandas"
      ]
    },
    {
      "cell_type": "code",
      "source": [
        "import pandas as pd"
      ],
      "metadata": {
        "id": "6hPmwABmTjKl"
      },
      "execution_count": null,
      "outputs": []
    },
    {
      "cell_type": "code",
      "source": [
        "pd.DataFrame() # 빈 데이터 프레임 클래스 초기화\n",
        "d = {'col1': [1, 2], 'col2': [3, 4]}\n",
        "df = pd.DataFrame(d)\n",
        "df # 딕셔너리는 세로로"
      ],
      "metadata": {
        "colab": {
          "base_uri": "https://localhost:8080/",
          "height": 125
        },
        "id": "WI4rrPFGTlN7",
        "outputId": "74cca721-2c83-471b-fedf-de5a63e50c76"
      },
      "execution_count": null,
      "outputs": [
        {
          "output_type": "execute_result",
          "data": {
            "text/plain": [
              "   col1  col2\n",
              "0     1     3\n",
              "1     2     4"
            ],
            "text/html": [
              "\n",
              "  <div id=\"df-6514c438-a9df-4f46-ad3b-8299e6e36cce\" class=\"colab-df-container\">\n",
              "    <div>\n",
              "<style scoped>\n",
              "    .dataframe tbody tr th:only-of-type {\n",
              "        vertical-align: middle;\n",
              "    }\n",
              "\n",
              "    .dataframe tbody tr th {\n",
              "        vertical-align: top;\n",
              "    }\n",
              "\n",
              "    .dataframe thead th {\n",
              "        text-align: right;\n",
              "    }\n",
              "</style>\n",
              "<table border=\"1\" class=\"dataframe\">\n",
              "  <thead>\n",
              "    <tr style=\"text-align: right;\">\n",
              "      <th></th>\n",
              "      <th>col1</th>\n",
              "      <th>col2</th>\n",
              "    </tr>\n",
              "  </thead>\n",
              "  <tbody>\n",
              "    <tr>\n",
              "      <th>0</th>\n",
              "      <td>1</td>\n",
              "      <td>3</td>\n",
              "    </tr>\n",
              "    <tr>\n",
              "      <th>1</th>\n",
              "      <td>2</td>\n",
              "      <td>4</td>\n",
              "    </tr>\n",
              "  </tbody>\n",
              "</table>\n",
              "</div>\n",
              "    <div class=\"colab-df-buttons\">\n",
              "\n",
              "  <div class=\"colab-df-container\">\n",
              "    <button class=\"colab-df-convert\" onclick=\"convertToInteractive('df-6514c438-a9df-4f46-ad3b-8299e6e36cce')\"\n",
              "            title=\"Convert this dataframe to an interactive table.\"\n",
              "            style=\"display:none;\">\n",
              "\n",
              "  <svg xmlns=\"http://www.w3.org/2000/svg\" height=\"24px\" viewBox=\"0 -960 960 960\">\n",
              "    <path d=\"M120-120v-720h720v720H120Zm60-500h600v-160H180v160Zm220 220h160v-160H400v160Zm0 220h160v-160H400v160ZM180-400h160v-160H180v160Zm440 0h160v-160H620v160ZM180-180h160v-160H180v160Zm440 0h160v-160H620v160Z\"/>\n",
              "  </svg>\n",
              "    </button>\n",
              "\n",
              "  <style>\n",
              "    .colab-df-container {\n",
              "      display:flex;\n",
              "      gap: 12px;\n",
              "    }\n",
              "\n",
              "    .colab-df-convert {\n",
              "      background-color: #E8F0FE;\n",
              "      border: none;\n",
              "      border-radius: 50%;\n",
              "      cursor: pointer;\n",
              "      display: none;\n",
              "      fill: #1967D2;\n",
              "      height: 32px;\n",
              "      padding: 0 0 0 0;\n",
              "      width: 32px;\n",
              "    }\n",
              "\n",
              "    .colab-df-convert:hover {\n",
              "      background-color: #E2EBFA;\n",
              "      box-shadow: 0px 1px 2px rgba(60, 64, 67, 0.3), 0px 1px 3px 1px rgba(60, 64, 67, 0.15);\n",
              "      fill: #174EA6;\n",
              "    }\n",
              "\n",
              "    .colab-df-buttons div {\n",
              "      margin-bottom: 4px;\n",
              "    }\n",
              "\n",
              "    [theme=dark] .colab-df-convert {\n",
              "      background-color: #3B4455;\n",
              "      fill: #D2E3FC;\n",
              "    }\n",
              "\n",
              "    [theme=dark] .colab-df-convert:hover {\n",
              "      background-color: #434B5C;\n",
              "      box-shadow: 0px 1px 3px 1px rgba(0, 0, 0, 0.15);\n",
              "      filter: drop-shadow(0px 1px 2px rgba(0, 0, 0, 0.3));\n",
              "      fill: #FFFFFF;\n",
              "    }\n",
              "  </style>\n",
              "\n",
              "    <script>\n",
              "      const buttonEl =\n",
              "        document.querySelector('#df-6514c438-a9df-4f46-ad3b-8299e6e36cce button.colab-df-convert');\n",
              "      buttonEl.style.display =\n",
              "        google.colab.kernel.accessAllowed ? 'block' : 'none';\n",
              "\n",
              "      async function convertToInteractive(key) {\n",
              "        const element = document.querySelector('#df-6514c438-a9df-4f46-ad3b-8299e6e36cce');\n",
              "        const dataTable =\n",
              "          await google.colab.kernel.invokeFunction('convertToInteractive',\n",
              "                                                    [key], {});\n",
              "        if (!dataTable) return;\n",
              "\n",
              "        const docLinkHtml = 'Like what you see? Visit the ' +\n",
              "          '<a target=\"_blank\" href=https://colab.research.google.com/notebooks/data_table.ipynb>data table notebook</a>'\n",
              "          + ' to learn more about interactive tables.';\n",
              "        element.innerHTML = '';\n",
              "        dataTable['output_type'] = 'display_data';\n",
              "        await google.colab.output.renderOutput(dataTable, element);\n",
              "        const docLink = document.createElement('div');\n",
              "        docLink.innerHTML = docLinkHtml;\n",
              "        element.appendChild(docLink);\n",
              "      }\n",
              "    </script>\n",
              "  </div>\n",
              "\n",
              "\n",
              "<div id=\"df-9850fae5-8610-4eab-bcfa-2336c5a0e2a5\">\n",
              "  <button class=\"colab-df-quickchart\" onclick=\"quickchart('df-9850fae5-8610-4eab-bcfa-2336c5a0e2a5')\"\n",
              "            title=\"Suggest charts\"\n",
              "            style=\"display:none;\">\n",
              "\n",
              "<svg xmlns=\"http://www.w3.org/2000/svg\" height=\"24px\"viewBox=\"0 0 24 24\"\n",
              "     width=\"24px\">\n",
              "    <g>\n",
              "        <path d=\"M19 3H5c-1.1 0-2 .9-2 2v14c0 1.1.9 2 2 2h14c1.1 0 2-.9 2-2V5c0-1.1-.9-2-2-2zM9 17H7v-7h2v7zm4 0h-2V7h2v10zm4 0h-2v-4h2v4z\"/>\n",
              "    </g>\n",
              "</svg>\n",
              "  </button>\n",
              "\n",
              "<style>\n",
              "  .colab-df-quickchart {\n",
              "      --bg-color: #E8F0FE;\n",
              "      --fill-color: #1967D2;\n",
              "      --hover-bg-color: #E2EBFA;\n",
              "      --hover-fill-color: #174EA6;\n",
              "      --disabled-fill-color: #AAA;\n",
              "      --disabled-bg-color: #DDD;\n",
              "  }\n",
              "\n",
              "  [theme=dark] .colab-df-quickchart {\n",
              "      --bg-color: #3B4455;\n",
              "      --fill-color: #D2E3FC;\n",
              "      --hover-bg-color: #434B5C;\n",
              "      --hover-fill-color: #FFFFFF;\n",
              "      --disabled-bg-color: #3B4455;\n",
              "      --disabled-fill-color: #666;\n",
              "  }\n",
              "\n",
              "  .colab-df-quickchart {\n",
              "    background-color: var(--bg-color);\n",
              "    border: none;\n",
              "    border-radius: 50%;\n",
              "    cursor: pointer;\n",
              "    display: none;\n",
              "    fill: var(--fill-color);\n",
              "    height: 32px;\n",
              "    padding: 0;\n",
              "    width: 32px;\n",
              "  }\n",
              "\n",
              "  .colab-df-quickchart:hover {\n",
              "    background-color: var(--hover-bg-color);\n",
              "    box-shadow: 0 1px 2px rgba(60, 64, 67, 0.3), 0 1px 3px 1px rgba(60, 64, 67, 0.15);\n",
              "    fill: var(--button-hover-fill-color);\n",
              "  }\n",
              "\n",
              "  .colab-df-quickchart-complete:disabled,\n",
              "  .colab-df-quickchart-complete:disabled:hover {\n",
              "    background-color: var(--disabled-bg-color);\n",
              "    fill: var(--disabled-fill-color);\n",
              "    box-shadow: none;\n",
              "  }\n",
              "\n",
              "  .colab-df-spinner {\n",
              "    border: 2px solid var(--fill-color);\n",
              "    border-color: transparent;\n",
              "    border-bottom-color: var(--fill-color);\n",
              "    animation:\n",
              "      spin 1s steps(1) infinite;\n",
              "  }\n",
              "\n",
              "  @keyframes spin {\n",
              "    0% {\n",
              "      border-color: transparent;\n",
              "      border-bottom-color: var(--fill-color);\n",
              "      border-left-color: var(--fill-color);\n",
              "    }\n",
              "    20% {\n",
              "      border-color: transparent;\n",
              "      border-left-color: var(--fill-color);\n",
              "      border-top-color: var(--fill-color);\n",
              "    }\n",
              "    30% {\n",
              "      border-color: transparent;\n",
              "      border-left-color: var(--fill-color);\n",
              "      border-top-color: var(--fill-color);\n",
              "      border-right-color: var(--fill-color);\n",
              "    }\n",
              "    40% {\n",
              "      border-color: transparent;\n",
              "      border-right-color: var(--fill-color);\n",
              "      border-top-color: var(--fill-color);\n",
              "    }\n",
              "    60% {\n",
              "      border-color: transparent;\n",
              "      border-right-color: var(--fill-color);\n",
              "    }\n",
              "    80% {\n",
              "      border-color: transparent;\n",
              "      border-right-color: var(--fill-color);\n",
              "      border-bottom-color: var(--fill-color);\n",
              "    }\n",
              "    90% {\n",
              "      border-color: transparent;\n",
              "      border-bottom-color: var(--fill-color);\n",
              "    }\n",
              "  }\n",
              "</style>\n",
              "\n",
              "  <script>\n",
              "    async function quickchart(key) {\n",
              "      const quickchartButtonEl =\n",
              "        document.querySelector('#' + key + ' button');\n",
              "      quickchartButtonEl.disabled = true;  // To prevent multiple clicks.\n",
              "      quickchartButtonEl.classList.add('colab-df-spinner');\n",
              "      try {\n",
              "        const charts = await google.colab.kernel.invokeFunction(\n",
              "            'suggestCharts', [key], {});\n",
              "      } catch (error) {\n",
              "        console.error('Error during call to suggestCharts:', error);\n",
              "      }\n",
              "      quickchartButtonEl.classList.remove('colab-df-spinner');\n",
              "      quickchartButtonEl.classList.add('colab-df-quickchart-complete');\n",
              "    }\n",
              "    (() => {\n",
              "      let quickchartButtonEl =\n",
              "        document.querySelector('#df-9850fae5-8610-4eab-bcfa-2336c5a0e2a5 button');\n",
              "      quickchartButtonEl.style.display =\n",
              "        google.colab.kernel.accessAllowed ? 'block' : 'none';\n",
              "    })();\n",
              "  </script>\n",
              "</div>\n",
              "\n",
              "  <div id=\"id_7547c289-fc21-4a89-972d-b52dabbde5ca\">\n",
              "    <style>\n",
              "      .colab-df-generate {\n",
              "        background-color: #E8F0FE;\n",
              "        border: none;\n",
              "        border-radius: 50%;\n",
              "        cursor: pointer;\n",
              "        display: none;\n",
              "        fill: #1967D2;\n",
              "        height: 32px;\n",
              "        padding: 0 0 0 0;\n",
              "        width: 32px;\n",
              "      }\n",
              "\n",
              "      .colab-df-generate:hover {\n",
              "        background-color: #E2EBFA;\n",
              "        box-shadow: 0px 1px 2px rgba(60, 64, 67, 0.3), 0px 1px 3px 1px rgba(60, 64, 67, 0.15);\n",
              "        fill: #174EA6;\n",
              "      }\n",
              "\n",
              "      [theme=dark] .colab-df-generate {\n",
              "        background-color: #3B4455;\n",
              "        fill: #D2E3FC;\n",
              "      }\n",
              "\n",
              "      [theme=dark] .colab-df-generate:hover {\n",
              "        background-color: #434B5C;\n",
              "        box-shadow: 0px 1px 3px 1px rgba(0, 0, 0, 0.15);\n",
              "        filter: drop-shadow(0px 1px 2px rgba(0, 0, 0, 0.3));\n",
              "        fill: #FFFFFF;\n",
              "      }\n",
              "    </style>\n",
              "    <button class=\"colab-df-generate\" onclick=\"generateWithVariable('df')\"\n",
              "            title=\"Generate code using this dataframe.\"\n",
              "            style=\"display:none;\">\n",
              "\n",
              "  <svg xmlns=\"http://www.w3.org/2000/svg\" height=\"24px\"viewBox=\"0 0 24 24\"\n",
              "       width=\"24px\">\n",
              "    <path d=\"M7,19H8.4L18.45,9,17,7.55,7,17.6ZM5,21V16.75L18.45,3.32a2,2,0,0,1,2.83,0l1.4,1.43a1.91,1.91,0,0,1,.58,1.4,1.91,1.91,0,0,1-.58,1.4L9.25,21ZM18.45,9,17,7.55Zm-12,3A5.31,5.31,0,0,0,4.9,8.1,5.31,5.31,0,0,0,1,6.5,5.31,5.31,0,0,0,4.9,4.9,5.31,5.31,0,0,0,6.5,1,5.31,5.31,0,0,0,8.1,4.9,5.31,5.31,0,0,0,12,6.5,5.46,5.46,0,0,0,6.5,12Z\"/>\n",
              "  </svg>\n",
              "    </button>\n",
              "    <script>\n",
              "      (() => {\n",
              "      const buttonEl =\n",
              "        document.querySelector('#id_7547c289-fc21-4a89-972d-b52dabbde5ca button.colab-df-generate');\n",
              "      buttonEl.style.display =\n",
              "        google.colab.kernel.accessAllowed ? 'block' : 'none';\n",
              "\n",
              "      buttonEl.onclick = () => {\n",
              "        google.colab.notebook.generateWithVariable('df');\n",
              "      }\n",
              "      })();\n",
              "    </script>\n",
              "  </div>\n",
              "\n",
              "    </div>\n",
              "  </div>\n"
            ],
            "application/vnd.google.colaboratory.intrinsic+json": {
              "type": "dataframe",
              "variable_name": "df",
              "summary": "{\n  \"name\": \"df\",\n  \"rows\": 2,\n  \"fields\": [\n    {\n      \"column\": \"col1\",\n      \"properties\": {\n        \"dtype\": \"number\",\n        \"std\": 0,\n        \"min\": 1,\n        \"max\": 2,\n        \"num_unique_values\": 2,\n        \"samples\": [\n          2,\n          1\n        ],\n        \"semantic_type\": \"\",\n        \"description\": \"\"\n      }\n    },\n    {\n      \"column\": \"col2\",\n      \"properties\": {\n        \"dtype\": \"number\",\n        \"std\": 0,\n        \"min\": 3,\n        \"max\": 4,\n        \"num_unique_values\": 2,\n        \"samples\": [\n          4,\n          3\n        ],\n        \"semantic_type\": \"\",\n        \"description\": \"\"\n      }\n    }\n  ]\n}"
            }
          },
          "metadata": {},
          "execution_count": 4
        }
      ]
    },
    {
      "cell_type": "code",
      "source": [
        "import random\n",
        "data = [random.sample(range(1,46),6) for i in range(20)]\n",
        "df = pd.DataFrame(data)\n",
        "df # 리스트는 가로로"
      ],
      "metadata": {
        "colab": {
          "base_uri": "https://localhost:8080/",
          "height": 676
        },
        "id": "e8Oh-zXkUr8r",
        "outputId": "3dc275b8-f601-43ca-fd0b-1ef413348fed"
      },
      "execution_count": null,
      "outputs": [
        {
          "output_type": "execute_result",
          "data": {
            "text/plain": [
              "     0   1   2   3   4   5\n",
              "0   35  34  33   7  11  39\n",
              "1    1  35  15  43  13   9\n",
              "2   41  19  37   2  34  20\n",
              "3   10  29  11  25  30  21\n",
              "4   24   9  35   6  10  15\n",
              "5   36  29  23  16   7  11\n",
              "6   17  34  35  40  42  12\n",
              "7   41  36  40  12   4  19\n",
              "8   40  16  10  38  32  23\n",
              "9   27  32  39   1  28  24\n",
              "10  23  17  11  25  10  20\n",
              "11   3  43  25  39  44  36\n",
              "12  42  40  41  25  44  10\n",
              "13  35  45  19  14  32  30\n",
              "14  19  33  30  42   8  11\n",
              "15   5  28  11  16  41  22\n",
              "16  34  31  15   2  21  11\n",
              "17  43  44  12  34  27  38\n",
              "18  32   5   6  39  28   9\n",
              "19  32   6  37  23  16   2"
            ],
            "text/html": [
              "\n",
              "  <div id=\"df-3f999daf-3b59-447c-b73e-5a25ca02a692\" class=\"colab-df-container\">\n",
              "    <div>\n",
              "<style scoped>\n",
              "    .dataframe tbody tr th:only-of-type {\n",
              "        vertical-align: middle;\n",
              "    }\n",
              "\n",
              "    .dataframe tbody tr th {\n",
              "        vertical-align: top;\n",
              "    }\n",
              "\n",
              "    .dataframe thead th {\n",
              "        text-align: right;\n",
              "    }\n",
              "</style>\n",
              "<table border=\"1\" class=\"dataframe\">\n",
              "  <thead>\n",
              "    <tr style=\"text-align: right;\">\n",
              "      <th></th>\n",
              "      <th>0</th>\n",
              "      <th>1</th>\n",
              "      <th>2</th>\n",
              "      <th>3</th>\n",
              "      <th>4</th>\n",
              "      <th>5</th>\n",
              "    </tr>\n",
              "  </thead>\n",
              "  <tbody>\n",
              "    <tr>\n",
              "      <th>0</th>\n",
              "      <td>35</td>\n",
              "      <td>34</td>\n",
              "      <td>33</td>\n",
              "      <td>7</td>\n",
              "      <td>11</td>\n",
              "      <td>39</td>\n",
              "    </tr>\n",
              "    <tr>\n",
              "      <th>1</th>\n",
              "      <td>1</td>\n",
              "      <td>35</td>\n",
              "      <td>15</td>\n",
              "      <td>43</td>\n",
              "      <td>13</td>\n",
              "      <td>9</td>\n",
              "    </tr>\n",
              "    <tr>\n",
              "      <th>2</th>\n",
              "      <td>41</td>\n",
              "      <td>19</td>\n",
              "      <td>37</td>\n",
              "      <td>2</td>\n",
              "      <td>34</td>\n",
              "      <td>20</td>\n",
              "    </tr>\n",
              "    <tr>\n",
              "      <th>3</th>\n",
              "      <td>10</td>\n",
              "      <td>29</td>\n",
              "      <td>11</td>\n",
              "      <td>25</td>\n",
              "      <td>30</td>\n",
              "      <td>21</td>\n",
              "    </tr>\n",
              "    <tr>\n",
              "      <th>4</th>\n",
              "      <td>24</td>\n",
              "      <td>9</td>\n",
              "      <td>35</td>\n",
              "      <td>6</td>\n",
              "      <td>10</td>\n",
              "      <td>15</td>\n",
              "    </tr>\n",
              "    <tr>\n",
              "      <th>5</th>\n",
              "      <td>36</td>\n",
              "      <td>29</td>\n",
              "      <td>23</td>\n",
              "      <td>16</td>\n",
              "      <td>7</td>\n",
              "      <td>11</td>\n",
              "    </tr>\n",
              "    <tr>\n",
              "      <th>6</th>\n",
              "      <td>17</td>\n",
              "      <td>34</td>\n",
              "      <td>35</td>\n",
              "      <td>40</td>\n",
              "      <td>42</td>\n",
              "      <td>12</td>\n",
              "    </tr>\n",
              "    <tr>\n",
              "      <th>7</th>\n",
              "      <td>41</td>\n",
              "      <td>36</td>\n",
              "      <td>40</td>\n",
              "      <td>12</td>\n",
              "      <td>4</td>\n",
              "      <td>19</td>\n",
              "    </tr>\n",
              "    <tr>\n",
              "      <th>8</th>\n",
              "      <td>40</td>\n",
              "      <td>16</td>\n",
              "      <td>10</td>\n",
              "      <td>38</td>\n",
              "      <td>32</td>\n",
              "      <td>23</td>\n",
              "    </tr>\n",
              "    <tr>\n",
              "      <th>9</th>\n",
              "      <td>27</td>\n",
              "      <td>32</td>\n",
              "      <td>39</td>\n",
              "      <td>1</td>\n",
              "      <td>28</td>\n",
              "      <td>24</td>\n",
              "    </tr>\n",
              "    <tr>\n",
              "      <th>10</th>\n",
              "      <td>23</td>\n",
              "      <td>17</td>\n",
              "      <td>11</td>\n",
              "      <td>25</td>\n",
              "      <td>10</td>\n",
              "      <td>20</td>\n",
              "    </tr>\n",
              "    <tr>\n",
              "      <th>11</th>\n",
              "      <td>3</td>\n",
              "      <td>43</td>\n",
              "      <td>25</td>\n",
              "      <td>39</td>\n",
              "      <td>44</td>\n",
              "      <td>36</td>\n",
              "    </tr>\n",
              "    <tr>\n",
              "      <th>12</th>\n",
              "      <td>42</td>\n",
              "      <td>40</td>\n",
              "      <td>41</td>\n",
              "      <td>25</td>\n",
              "      <td>44</td>\n",
              "      <td>10</td>\n",
              "    </tr>\n",
              "    <tr>\n",
              "      <th>13</th>\n",
              "      <td>35</td>\n",
              "      <td>45</td>\n",
              "      <td>19</td>\n",
              "      <td>14</td>\n",
              "      <td>32</td>\n",
              "      <td>30</td>\n",
              "    </tr>\n",
              "    <tr>\n",
              "      <th>14</th>\n",
              "      <td>19</td>\n",
              "      <td>33</td>\n",
              "      <td>30</td>\n",
              "      <td>42</td>\n",
              "      <td>8</td>\n",
              "      <td>11</td>\n",
              "    </tr>\n",
              "    <tr>\n",
              "      <th>15</th>\n",
              "      <td>5</td>\n",
              "      <td>28</td>\n",
              "      <td>11</td>\n",
              "      <td>16</td>\n",
              "      <td>41</td>\n",
              "      <td>22</td>\n",
              "    </tr>\n",
              "    <tr>\n",
              "      <th>16</th>\n",
              "      <td>34</td>\n",
              "      <td>31</td>\n",
              "      <td>15</td>\n",
              "      <td>2</td>\n",
              "      <td>21</td>\n",
              "      <td>11</td>\n",
              "    </tr>\n",
              "    <tr>\n",
              "      <th>17</th>\n",
              "      <td>43</td>\n",
              "      <td>44</td>\n",
              "      <td>12</td>\n",
              "      <td>34</td>\n",
              "      <td>27</td>\n",
              "      <td>38</td>\n",
              "    </tr>\n",
              "    <tr>\n",
              "      <th>18</th>\n",
              "      <td>32</td>\n",
              "      <td>5</td>\n",
              "      <td>6</td>\n",
              "      <td>39</td>\n",
              "      <td>28</td>\n",
              "      <td>9</td>\n",
              "    </tr>\n",
              "    <tr>\n",
              "      <th>19</th>\n",
              "      <td>32</td>\n",
              "      <td>6</td>\n",
              "      <td>37</td>\n",
              "      <td>23</td>\n",
              "      <td>16</td>\n",
              "      <td>2</td>\n",
              "    </tr>\n",
              "  </tbody>\n",
              "</table>\n",
              "</div>\n",
              "    <div class=\"colab-df-buttons\">\n",
              "\n",
              "  <div class=\"colab-df-container\">\n",
              "    <button class=\"colab-df-convert\" onclick=\"convertToInteractive('df-3f999daf-3b59-447c-b73e-5a25ca02a692')\"\n",
              "            title=\"Convert this dataframe to an interactive table.\"\n",
              "            style=\"display:none;\">\n",
              "\n",
              "  <svg xmlns=\"http://www.w3.org/2000/svg\" height=\"24px\" viewBox=\"0 -960 960 960\">\n",
              "    <path d=\"M120-120v-720h720v720H120Zm60-500h600v-160H180v160Zm220 220h160v-160H400v160Zm0 220h160v-160H400v160ZM180-400h160v-160H180v160Zm440 0h160v-160H620v160ZM180-180h160v-160H180v160Zm440 0h160v-160H620v160Z\"/>\n",
              "  </svg>\n",
              "    </button>\n",
              "\n",
              "  <style>\n",
              "    .colab-df-container {\n",
              "      display:flex;\n",
              "      gap: 12px;\n",
              "    }\n",
              "\n",
              "    .colab-df-convert {\n",
              "      background-color: #E8F0FE;\n",
              "      border: none;\n",
              "      border-radius: 50%;\n",
              "      cursor: pointer;\n",
              "      display: none;\n",
              "      fill: #1967D2;\n",
              "      height: 32px;\n",
              "      padding: 0 0 0 0;\n",
              "      width: 32px;\n",
              "    }\n",
              "\n",
              "    .colab-df-convert:hover {\n",
              "      background-color: #E2EBFA;\n",
              "      box-shadow: 0px 1px 2px rgba(60, 64, 67, 0.3), 0px 1px 3px 1px rgba(60, 64, 67, 0.15);\n",
              "      fill: #174EA6;\n",
              "    }\n",
              "\n",
              "    .colab-df-buttons div {\n",
              "      margin-bottom: 4px;\n",
              "    }\n",
              "\n",
              "    [theme=dark] .colab-df-convert {\n",
              "      background-color: #3B4455;\n",
              "      fill: #D2E3FC;\n",
              "    }\n",
              "\n",
              "    [theme=dark] .colab-df-convert:hover {\n",
              "      background-color: #434B5C;\n",
              "      box-shadow: 0px 1px 3px 1px rgba(0, 0, 0, 0.15);\n",
              "      filter: drop-shadow(0px 1px 2px rgba(0, 0, 0, 0.3));\n",
              "      fill: #FFFFFF;\n",
              "    }\n",
              "  </style>\n",
              "\n",
              "    <script>\n",
              "      const buttonEl =\n",
              "        document.querySelector('#df-3f999daf-3b59-447c-b73e-5a25ca02a692 button.colab-df-convert');\n",
              "      buttonEl.style.display =\n",
              "        google.colab.kernel.accessAllowed ? 'block' : 'none';\n",
              "\n",
              "      async function convertToInteractive(key) {\n",
              "        const element = document.querySelector('#df-3f999daf-3b59-447c-b73e-5a25ca02a692');\n",
              "        const dataTable =\n",
              "          await google.colab.kernel.invokeFunction('convertToInteractive',\n",
              "                                                    [key], {});\n",
              "        if (!dataTable) return;\n",
              "\n",
              "        const docLinkHtml = 'Like what you see? Visit the ' +\n",
              "          '<a target=\"_blank\" href=https://colab.research.google.com/notebooks/data_table.ipynb>data table notebook</a>'\n",
              "          + ' to learn more about interactive tables.';\n",
              "        element.innerHTML = '';\n",
              "        dataTable['output_type'] = 'display_data';\n",
              "        await google.colab.output.renderOutput(dataTable, element);\n",
              "        const docLink = document.createElement('div');\n",
              "        docLink.innerHTML = docLinkHtml;\n",
              "        element.appendChild(docLink);\n",
              "      }\n",
              "    </script>\n",
              "  </div>\n",
              "\n",
              "\n",
              "<div id=\"df-8dfe2873-f067-469e-86d9-48581742ac1e\">\n",
              "  <button class=\"colab-df-quickchart\" onclick=\"quickchart('df-8dfe2873-f067-469e-86d9-48581742ac1e')\"\n",
              "            title=\"Suggest charts\"\n",
              "            style=\"display:none;\">\n",
              "\n",
              "<svg xmlns=\"http://www.w3.org/2000/svg\" height=\"24px\"viewBox=\"0 0 24 24\"\n",
              "     width=\"24px\">\n",
              "    <g>\n",
              "        <path d=\"M19 3H5c-1.1 0-2 .9-2 2v14c0 1.1.9 2 2 2h14c1.1 0 2-.9 2-2V5c0-1.1-.9-2-2-2zM9 17H7v-7h2v7zm4 0h-2V7h2v10zm4 0h-2v-4h2v4z\"/>\n",
              "    </g>\n",
              "</svg>\n",
              "  </button>\n",
              "\n",
              "<style>\n",
              "  .colab-df-quickchart {\n",
              "      --bg-color: #E8F0FE;\n",
              "      --fill-color: #1967D2;\n",
              "      --hover-bg-color: #E2EBFA;\n",
              "      --hover-fill-color: #174EA6;\n",
              "      --disabled-fill-color: #AAA;\n",
              "      --disabled-bg-color: #DDD;\n",
              "  }\n",
              "\n",
              "  [theme=dark] .colab-df-quickchart {\n",
              "      --bg-color: #3B4455;\n",
              "      --fill-color: #D2E3FC;\n",
              "      --hover-bg-color: #434B5C;\n",
              "      --hover-fill-color: #FFFFFF;\n",
              "      --disabled-bg-color: #3B4455;\n",
              "      --disabled-fill-color: #666;\n",
              "  }\n",
              "\n",
              "  .colab-df-quickchart {\n",
              "    background-color: var(--bg-color);\n",
              "    border: none;\n",
              "    border-radius: 50%;\n",
              "    cursor: pointer;\n",
              "    display: none;\n",
              "    fill: var(--fill-color);\n",
              "    height: 32px;\n",
              "    padding: 0;\n",
              "    width: 32px;\n",
              "  }\n",
              "\n",
              "  .colab-df-quickchart:hover {\n",
              "    background-color: var(--hover-bg-color);\n",
              "    box-shadow: 0 1px 2px rgba(60, 64, 67, 0.3), 0 1px 3px 1px rgba(60, 64, 67, 0.15);\n",
              "    fill: var(--button-hover-fill-color);\n",
              "  }\n",
              "\n",
              "  .colab-df-quickchart-complete:disabled,\n",
              "  .colab-df-quickchart-complete:disabled:hover {\n",
              "    background-color: var(--disabled-bg-color);\n",
              "    fill: var(--disabled-fill-color);\n",
              "    box-shadow: none;\n",
              "  }\n",
              "\n",
              "  .colab-df-spinner {\n",
              "    border: 2px solid var(--fill-color);\n",
              "    border-color: transparent;\n",
              "    border-bottom-color: var(--fill-color);\n",
              "    animation:\n",
              "      spin 1s steps(1) infinite;\n",
              "  }\n",
              "\n",
              "  @keyframes spin {\n",
              "    0% {\n",
              "      border-color: transparent;\n",
              "      border-bottom-color: var(--fill-color);\n",
              "      border-left-color: var(--fill-color);\n",
              "    }\n",
              "    20% {\n",
              "      border-color: transparent;\n",
              "      border-left-color: var(--fill-color);\n",
              "      border-top-color: var(--fill-color);\n",
              "    }\n",
              "    30% {\n",
              "      border-color: transparent;\n",
              "      border-left-color: var(--fill-color);\n",
              "      border-top-color: var(--fill-color);\n",
              "      border-right-color: var(--fill-color);\n",
              "    }\n",
              "    40% {\n",
              "      border-color: transparent;\n",
              "      border-right-color: var(--fill-color);\n",
              "      border-top-color: var(--fill-color);\n",
              "    }\n",
              "    60% {\n",
              "      border-color: transparent;\n",
              "      border-right-color: var(--fill-color);\n",
              "    }\n",
              "    80% {\n",
              "      border-color: transparent;\n",
              "      border-right-color: var(--fill-color);\n",
              "      border-bottom-color: var(--fill-color);\n",
              "    }\n",
              "    90% {\n",
              "      border-color: transparent;\n",
              "      border-bottom-color: var(--fill-color);\n",
              "    }\n",
              "  }\n",
              "</style>\n",
              "\n",
              "  <script>\n",
              "    async function quickchart(key) {\n",
              "      const quickchartButtonEl =\n",
              "        document.querySelector('#' + key + ' button');\n",
              "      quickchartButtonEl.disabled = true;  // To prevent multiple clicks.\n",
              "      quickchartButtonEl.classList.add('colab-df-spinner');\n",
              "      try {\n",
              "        const charts = await google.colab.kernel.invokeFunction(\n",
              "            'suggestCharts', [key], {});\n",
              "      } catch (error) {\n",
              "        console.error('Error during call to suggestCharts:', error);\n",
              "      }\n",
              "      quickchartButtonEl.classList.remove('colab-df-spinner');\n",
              "      quickchartButtonEl.classList.add('colab-df-quickchart-complete');\n",
              "    }\n",
              "    (() => {\n",
              "      let quickchartButtonEl =\n",
              "        document.querySelector('#df-8dfe2873-f067-469e-86d9-48581742ac1e button');\n",
              "      quickchartButtonEl.style.display =\n",
              "        google.colab.kernel.accessAllowed ? 'block' : 'none';\n",
              "    })();\n",
              "  </script>\n",
              "</div>\n",
              "\n",
              "  <div id=\"id_c7887aef-7210-4bec-bc56-7dee6573f8f9\">\n",
              "    <style>\n",
              "      .colab-df-generate {\n",
              "        background-color: #E8F0FE;\n",
              "        border: none;\n",
              "        border-radius: 50%;\n",
              "        cursor: pointer;\n",
              "        display: none;\n",
              "        fill: #1967D2;\n",
              "        height: 32px;\n",
              "        padding: 0 0 0 0;\n",
              "        width: 32px;\n",
              "      }\n",
              "\n",
              "      .colab-df-generate:hover {\n",
              "        background-color: #E2EBFA;\n",
              "        box-shadow: 0px 1px 2px rgba(60, 64, 67, 0.3), 0px 1px 3px 1px rgba(60, 64, 67, 0.15);\n",
              "        fill: #174EA6;\n",
              "      }\n",
              "\n",
              "      [theme=dark] .colab-df-generate {\n",
              "        background-color: #3B4455;\n",
              "        fill: #D2E3FC;\n",
              "      }\n",
              "\n",
              "      [theme=dark] .colab-df-generate:hover {\n",
              "        background-color: #434B5C;\n",
              "        box-shadow: 0px 1px 3px 1px rgba(0, 0, 0, 0.15);\n",
              "        filter: drop-shadow(0px 1px 2px rgba(0, 0, 0, 0.3));\n",
              "        fill: #FFFFFF;\n",
              "      }\n",
              "    </style>\n",
              "    <button class=\"colab-df-generate\" onclick=\"generateWithVariable('df')\"\n",
              "            title=\"Generate code using this dataframe.\"\n",
              "            style=\"display:none;\">\n",
              "\n",
              "  <svg xmlns=\"http://www.w3.org/2000/svg\" height=\"24px\"viewBox=\"0 0 24 24\"\n",
              "       width=\"24px\">\n",
              "    <path d=\"M7,19H8.4L18.45,9,17,7.55,7,17.6ZM5,21V16.75L18.45,3.32a2,2,0,0,1,2.83,0l1.4,1.43a1.91,1.91,0,0,1,.58,1.4,1.91,1.91,0,0,1-.58,1.4L9.25,21ZM18.45,9,17,7.55Zm-12,3A5.31,5.31,0,0,0,4.9,8.1,5.31,5.31,0,0,0,1,6.5,5.31,5.31,0,0,0,4.9,4.9,5.31,5.31,0,0,0,6.5,1,5.31,5.31,0,0,0,8.1,4.9,5.31,5.31,0,0,0,12,6.5,5.46,5.46,0,0,0,6.5,12Z\"/>\n",
              "  </svg>\n",
              "    </button>\n",
              "    <script>\n",
              "      (() => {\n",
              "      const buttonEl =\n",
              "        document.querySelector('#id_c7887aef-7210-4bec-bc56-7dee6573f8f9 button.colab-df-generate');\n",
              "      buttonEl.style.display =\n",
              "        google.colab.kernel.accessAllowed ? 'block' : 'none';\n",
              "\n",
              "      buttonEl.onclick = () => {\n",
              "        google.colab.notebook.generateWithVariable('df');\n",
              "      }\n",
              "      })();\n",
              "    </script>\n",
              "  </div>\n",
              "\n",
              "    </div>\n",
              "  </div>\n"
            ],
            "application/vnd.google.colaboratory.intrinsic+json": {
              "type": "dataframe",
              "variable_name": "df",
              "summary": "{\n  \"name\": \"df\",\n  \"rows\": 20,\n  \"fields\": [\n    {\n      \"column\": 0,\n      \"properties\": {\n        \"dtype\": \"number\",\n        \"std\": 13,\n        \"min\": 1,\n        \"max\": 43,\n        \"num_unique_values\": 17,\n        \"samples\": [\n          35,\n          1,\n          36\n        ],\n        \"semantic_type\": \"\",\n        \"description\": \"\"\n      }\n    },\n    {\n      \"column\": 1,\n      \"properties\": {\n        \"dtype\": \"number\",\n        \"std\": 12,\n        \"min\": 5,\n        \"max\": 45,\n        \"num_unique_values\": 18,\n        \"samples\": [\n          34,\n          35,\n          17\n        ],\n        \"semantic_type\": \"\",\n        \"description\": \"\"\n      }\n    },\n    {\n      \"column\": 2,\n      \"properties\": {\n        \"dtype\": \"number\",\n        \"std\": 12,\n        \"min\": 6,\n        \"max\": 41,\n        \"num_unique_values\": 15,\n        \"samples\": [\n          25,\n          19,\n          33\n        ],\n        \"semantic_type\": \"\",\n        \"description\": \"\"\n      }\n    },\n    {\n      \"column\": 3,\n      \"properties\": {\n        \"dtype\": \"number\",\n        \"std\": 14,\n        \"min\": 1,\n        \"max\": 43,\n        \"num_unique_values\": 15,\n        \"samples\": [\n          1,\n          14,\n          7\n        ],\n        \"semantic_type\": \"\",\n        \"description\": \"\"\n      }\n    },\n    {\n      \"column\": 4,\n      \"properties\": {\n        \"dtype\": \"number\",\n        \"std\": 13,\n        \"min\": 4,\n        \"max\": 44,\n        \"num_unique_values\": 16,\n        \"samples\": [\n          11,\n          13,\n          7\n        ],\n        \"semantic_type\": \"\",\n        \"description\": \"\"\n      }\n    },\n    {\n      \"column\": 5,\n      \"properties\": {\n        \"dtype\": \"number\",\n        \"std\": 10,\n        \"min\": 2,\n        \"max\": 39,\n        \"num_unique_values\": 16,\n        \"samples\": [\n          39,\n          9,\n          11\n        ],\n        \"semantic_type\": \"\",\n        \"description\": \"\"\n      }\n    }\n  ]\n}"
            }
          },
          "metadata": {},
          "execution_count": 6
        }
      ]
    },
    {
      "cell_type": "code",
      "source": [
        "# 이름 붙이기\n",
        "cols = ['name'+str(i) for i in range(20)]\n",
        "df = pd.DataFrame(dict(zip(cols, data)), index=['서울','경기','강원','대구','울산','부산'])\n",
        "df['name0'] # 시리즈, DataFrame --> 시리즈의 집합\n",
        "df['name0'].values # 넘파이 배열\n",
        "df['name0'].index # 인덱스\n",
        "df['name0'].dtype # 데이터 타입\n",
        "df['name0'].value_counts() # 빈도수\n",
        "df['name0'].unique() # 고유값\n",
        "df['name0'].nunique() # 고유값 개수"
      ],
      "metadata": {
        "colab": {
          "base_uri": "https://localhost:8080/"
        },
        "id": "7hxn_wh_VOYk",
        "outputId": "32ca72e0-680a-497c-e7e6-5f9dfa7121ff"
      },
      "execution_count": null,
      "outputs": [
        {
          "output_type": "execute_result",
          "data": {
            "text/plain": [
              "6"
            ]
          },
          "metadata": {},
          "execution_count": 24
        }
      ]
    },
    {
      "cell_type": "code",
      "source": [
        "# https://www.data.go.kr/\n",
        "df = pd.read_csv('/content/drive/MyDrive/datafile/국가보훈부_보훈의료 위탁병원 현황_20231023.csv',encoding='ms949') # 주로 utf8로 표준화 안 해놓음\n",
        "df.head(2)"
      ],
      "metadata": {
        "colab": {
          "base_uri": "https://localhost:8080/",
          "height": 164
        },
        "id": "N-mWIgnnVxu8",
        "outputId": "79c566ba-e1e8-41c2-b969-caa7de6d7af8"
      },
      "execution_count": null,
      "outputs": [
        {
          "output_type": "execute_result",
          "data": {
            "text/plain": [
              "          기준일  연번       지역     위탁병원명  병상수  진료과수          전화번호            주소  \\\n",
              "0  2023-10-23   1  강원도 강릉시    강릉동인병원  383    21  033)651-6167  강릉대로419번길 42   \n",
              "1  2023-10-23   2  강원도 강릉시  강릉연세요양병원   99     3  033)645-1400        옥가로 70   \n",
              "\n",
              "   비고  \n",
              "0  종합  \n",
              "1  요양  "
            ],
            "text/html": [
              "\n",
              "  <div id=\"df-4f99673d-35b2-4da9-a2bf-a8ca40895918\" class=\"colab-df-container\">\n",
              "    <div>\n",
              "<style scoped>\n",
              "    .dataframe tbody tr th:only-of-type {\n",
              "        vertical-align: middle;\n",
              "    }\n",
              "\n",
              "    .dataframe tbody tr th {\n",
              "        vertical-align: top;\n",
              "    }\n",
              "\n",
              "    .dataframe thead th {\n",
              "        text-align: right;\n",
              "    }\n",
              "</style>\n",
              "<table border=\"1\" class=\"dataframe\">\n",
              "  <thead>\n",
              "    <tr style=\"text-align: right;\">\n",
              "      <th></th>\n",
              "      <th>기준일</th>\n",
              "      <th>연번</th>\n",
              "      <th>지역</th>\n",
              "      <th>위탁병원명</th>\n",
              "      <th>병상수</th>\n",
              "      <th>진료과수</th>\n",
              "      <th>전화번호</th>\n",
              "      <th>주소</th>\n",
              "      <th>비고</th>\n",
              "    </tr>\n",
              "  </thead>\n",
              "  <tbody>\n",
              "    <tr>\n",
              "      <th>0</th>\n",
              "      <td>2023-10-23</td>\n",
              "      <td>1</td>\n",
              "      <td>강원도 강릉시</td>\n",
              "      <td>강릉동인병원</td>\n",
              "      <td>383</td>\n",
              "      <td>21</td>\n",
              "      <td>033)651-6167</td>\n",
              "      <td>강릉대로419번길 42</td>\n",
              "      <td>종합</td>\n",
              "    </tr>\n",
              "    <tr>\n",
              "      <th>1</th>\n",
              "      <td>2023-10-23</td>\n",
              "      <td>2</td>\n",
              "      <td>강원도 강릉시</td>\n",
              "      <td>강릉연세요양병원</td>\n",
              "      <td>99</td>\n",
              "      <td>3</td>\n",
              "      <td>033)645-1400</td>\n",
              "      <td>옥가로 70</td>\n",
              "      <td>요양</td>\n",
              "    </tr>\n",
              "  </tbody>\n",
              "</table>\n",
              "</div>\n",
              "    <div class=\"colab-df-buttons\">\n",
              "\n",
              "  <div class=\"colab-df-container\">\n",
              "    <button class=\"colab-df-convert\" onclick=\"convertToInteractive('df-4f99673d-35b2-4da9-a2bf-a8ca40895918')\"\n",
              "            title=\"Convert this dataframe to an interactive table.\"\n",
              "            style=\"display:none;\">\n",
              "\n",
              "  <svg xmlns=\"http://www.w3.org/2000/svg\" height=\"24px\" viewBox=\"0 -960 960 960\">\n",
              "    <path d=\"M120-120v-720h720v720H120Zm60-500h600v-160H180v160Zm220 220h160v-160H400v160Zm0 220h160v-160H400v160ZM180-400h160v-160H180v160Zm440 0h160v-160H620v160ZM180-180h160v-160H180v160Zm440 0h160v-160H620v160Z\"/>\n",
              "  </svg>\n",
              "    </button>\n",
              "\n",
              "  <style>\n",
              "    .colab-df-container {\n",
              "      display:flex;\n",
              "      gap: 12px;\n",
              "    }\n",
              "\n",
              "    .colab-df-convert {\n",
              "      background-color: #E8F0FE;\n",
              "      border: none;\n",
              "      border-radius: 50%;\n",
              "      cursor: pointer;\n",
              "      display: none;\n",
              "      fill: #1967D2;\n",
              "      height: 32px;\n",
              "      padding: 0 0 0 0;\n",
              "      width: 32px;\n",
              "    }\n",
              "\n",
              "    .colab-df-convert:hover {\n",
              "      background-color: #E2EBFA;\n",
              "      box-shadow: 0px 1px 2px rgba(60, 64, 67, 0.3), 0px 1px 3px 1px rgba(60, 64, 67, 0.15);\n",
              "      fill: #174EA6;\n",
              "    }\n",
              "\n",
              "    .colab-df-buttons div {\n",
              "      margin-bottom: 4px;\n",
              "    }\n",
              "\n",
              "    [theme=dark] .colab-df-convert {\n",
              "      background-color: #3B4455;\n",
              "      fill: #D2E3FC;\n",
              "    }\n",
              "\n",
              "    [theme=dark] .colab-df-convert:hover {\n",
              "      background-color: #434B5C;\n",
              "      box-shadow: 0px 1px 3px 1px rgba(0, 0, 0, 0.15);\n",
              "      filter: drop-shadow(0px 1px 2px rgba(0, 0, 0, 0.3));\n",
              "      fill: #FFFFFF;\n",
              "    }\n",
              "  </style>\n",
              "\n",
              "    <script>\n",
              "      const buttonEl =\n",
              "        document.querySelector('#df-4f99673d-35b2-4da9-a2bf-a8ca40895918 button.colab-df-convert');\n",
              "      buttonEl.style.display =\n",
              "        google.colab.kernel.accessAllowed ? 'block' : 'none';\n",
              "\n",
              "      async function convertToInteractive(key) {\n",
              "        const element = document.querySelector('#df-4f99673d-35b2-4da9-a2bf-a8ca40895918');\n",
              "        const dataTable =\n",
              "          await google.colab.kernel.invokeFunction('convertToInteractive',\n",
              "                                                    [key], {});\n",
              "        if (!dataTable) return;\n",
              "\n",
              "        const docLinkHtml = 'Like what you see? Visit the ' +\n",
              "          '<a target=\"_blank\" href=https://colab.research.google.com/notebooks/data_table.ipynb>data table notebook</a>'\n",
              "          + ' to learn more about interactive tables.';\n",
              "        element.innerHTML = '';\n",
              "        dataTable['output_type'] = 'display_data';\n",
              "        await google.colab.output.renderOutput(dataTable, element);\n",
              "        const docLink = document.createElement('div');\n",
              "        docLink.innerHTML = docLinkHtml;\n",
              "        element.appendChild(docLink);\n",
              "      }\n",
              "    </script>\n",
              "  </div>\n",
              "\n",
              "\n",
              "<div id=\"df-32b23047-5952-41fe-a4f4-efe9c7bee17b\">\n",
              "  <button class=\"colab-df-quickchart\" onclick=\"quickchart('df-32b23047-5952-41fe-a4f4-efe9c7bee17b')\"\n",
              "            title=\"Suggest charts\"\n",
              "            style=\"display:none;\">\n",
              "\n",
              "<svg xmlns=\"http://www.w3.org/2000/svg\" height=\"24px\"viewBox=\"0 0 24 24\"\n",
              "     width=\"24px\">\n",
              "    <g>\n",
              "        <path d=\"M19 3H5c-1.1 0-2 .9-2 2v14c0 1.1.9 2 2 2h14c1.1 0 2-.9 2-2V5c0-1.1-.9-2-2-2zM9 17H7v-7h2v7zm4 0h-2V7h2v10zm4 0h-2v-4h2v4z\"/>\n",
              "    </g>\n",
              "</svg>\n",
              "  </button>\n",
              "\n",
              "<style>\n",
              "  .colab-df-quickchart {\n",
              "      --bg-color: #E8F0FE;\n",
              "      --fill-color: #1967D2;\n",
              "      --hover-bg-color: #E2EBFA;\n",
              "      --hover-fill-color: #174EA6;\n",
              "      --disabled-fill-color: #AAA;\n",
              "      --disabled-bg-color: #DDD;\n",
              "  }\n",
              "\n",
              "  [theme=dark] .colab-df-quickchart {\n",
              "      --bg-color: #3B4455;\n",
              "      --fill-color: #D2E3FC;\n",
              "      --hover-bg-color: #434B5C;\n",
              "      --hover-fill-color: #FFFFFF;\n",
              "      --disabled-bg-color: #3B4455;\n",
              "      --disabled-fill-color: #666;\n",
              "  }\n",
              "\n",
              "  .colab-df-quickchart {\n",
              "    background-color: var(--bg-color);\n",
              "    border: none;\n",
              "    border-radius: 50%;\n",
              "    cursor: pointer;\n",
              "    display: none;\n",
              "    fill: var(--fill-color);\n",
              "    height: 32px;\n",
              "    padding: 0;\n",
              "    width: 32px;\n",
              "  }\n",
              "\n",
              "  .colab-df-quickchart:hover {\n",
              "    background-color: var(--hover-bg-color);\n",
              "    box-shadow: 0 1px 2px rgba(60, 64, 67, 0.3), 0 1px 3px 1px rgba(60, 64, 67, 0.15);\n",
              "    fill: var(--button-hover-fill-color);\n",
              "  }\n",
              "\n",
              "  .colab-df-quickchart-complete:disabled,\n",
              "  .colab-df-quickchart-complete:disabled:hover {\n",
              "    background-color: var(--disabled-bg-color);\n",
              "    fill: var(--disabled-fill-color);\n",
              "    box-shadow: none;\n",
              "  }\n",
              "\n",
              "  .colab-df-spinner {\n",
              "    border: 2px solid var(--fill-color);\n",
              "    border-color: transparent;\n",
              "    border-bottom-color: var(--fill-color);\n",
              "    animation:\n",
              "      spin 1s steps(1) infinite;\n",
              "  }\n",
              "\n",
              "  @keyframes spin {\n",
              "    0% {\n",
              "      border-color: transparent;\n",
              "      border-bottom-color: var(--fill-color);\n",
              "      border-left-color: var(--fill-color);\n",
              "    }\n",
              "    20% {\n",
              "      border-color: transparent;\n",
              "      border-left-color: var(--fill-color);\n",
              "      border-top-color: var(--fill-color);\n",
              "    }\n",
              "    30% {\n",
              "      border-color: transparent;\n",
              "      border-left-color: var(--fill-color);\n",
              "      border-top-color: var(--fill-color);\n",
              "      border-right-color: var(--fill-color);\n",
              "    }\n",
              "    40% {\n",
              "      border-color: transparent;\n",
              "      border-right-color: var(--fill-color);\n",
              "      border-top-color: var(--fill-color);\n",
              "    }\n",
              "    60% {\n",
              "      border-color: transparent;\n",
              "      border-right-color: var(--fill-color);\n",
              "    }\n",
              "    80% {\n",
              "      border-color: transparent;\n",
              "      border-right-color: var(--fill-color);\n",
              "      border-bottom-color: var(--fill-color);\n",
              "    }\n",
              "    90% {\n",
              "      border-color: transparent;\n",
              "      border-bottom-color: var(--fill-color);\n",
              "    }\n",
              "  }\n",
              "</style>\n",
              "\n",
              "  <script>\n",
              "    async function quickchart(key) {\n",
              "      const quickchartButtonEl =\n",
              "        document.querySelector('#' + key + ' button');\n",
              "      quickchartButtonEl.disabled = true;  // To prevent multiple clicks.\n",
              "      quickchartButtonEl.classList.add('colab-df-spinner');\n",
              "      try {\n",
              "        const charts = await google.colab.kernel.invokeFunction(\n",
              "            'suggestCharts', [key], {});\n",
              "      } catch (error) {\n",
              "        console.error('Error during call to suggestCharts:', error);\n",
              "      }\n",
              "      quickchartButtonEl.classList.remove('colab-df-spinner');\n",
              "      quickchartButtonEl.classList.add('colab-df-quickchart-complete');\n",
              "    }\n",
              "    (() => {\n",
              "      let quickchartButtonEl =\n",
              "        document.querySelector('#df-32b23047-5952-41fe-a4f4-efe9c7bee17b button');\n",
              "      quickchartButtonEl.style.display =\n",
              "        google.colab.kernel.accessAllowed ? 'block' : 'none';\n",
              "    })();\n",
              "  </script>\n",
              "</div>\n",
              "\n",
              "    </div>\n",
              "  </div>\n"
            ],
            "application/vnd.google.colaboratory.intrinsic+json": {
              "type": "dataframe",
              "variable_name": "df",
              "summary": "{\n  \"name\": \"df\",\n  \"rows\": 629,\n  \"fields\": [\n    {\n      \"column\": \"\\uae30\\uc900\\uc77c\",\n      \"properties\": {\n        \"dtype\": \"object\",\n        \"num_unique_values\": 1,\n        \"samples\": [\n          \"2023-10-23\"\n        ],\n        \"semantic_type\": \"\",\n        \"description\": \"\"\n      }\n    },\n    {\n      \"column\": \"\\uc5f0\\ubc88\",\n      \"properties\": {\n        \"dtype\": \"number\",\n        \"std\": 181,\n        \"min\": 1,\n        \"max\": 629,\n        \"num_unique_values\": 629,\n        \"samples\": [\n          495\n        ],\n        \"semantic_type\": \"\",\n        \"description\": \"\"\n      }\n    },\n    {\n      \"column\": \"\\uc9c0\\uc5ed\",\n      \"properties\": {\n        \"dtype\": \"category\",\n        \"num_unique_values\": 227,\n        \"samples\": [\n          \"\\uac15\\uc6d0\\ub3c4 \\uc778\\uc81c\\uad70\"\n        ],\n        \"semantic_type\": \"\",\n        \"description\": \"\"\n      }\n    },\n    {\n      \"column\": \"\\uc704\\ud0c1\\ubcd1\\uc6d0\\uba85\",\n      \"properties\": {\n        \"dtype\": \"string\",\n        \"num_unique_values\": 627,\n        \"samples\": [\n          \"\\ubcf4\\ub839\\uc544\\uc0b0\\ubcd1\\uc6d0\"\n        ],\n        \"semantic_type\": \"\",\n        \"description\": \"\"\n      }\n    },\n    {\n      \"column\": \"\\ubcd1\\uc0c1\\uc218\",\n      \"properties\": {\n        \"dtype\": \"number\",\n        \"std\": 134,\n        \"min\": 0,\n        \"max\": 866,\n        \"num_unique_values\": 200,\n        \"samples\": [\n          558\n        ],\n        \"semantic_type\": \"\",\n        \"description\": \"\"\n      }\n    },\n    {\n      \"column\": \"\\uc9c4\\ub8cc\\uacfc\\uc218\",\n      \"properties\": {\n        \"dtype\": \"number\",\n        \"std\": 5,\n        \"min\": 0,\n        \"max\": 33,\n        \"num_unique_values\": 34,\n        \"samples\": [\n          8\n        ],\n        \"semantic_type\": \"\",\n        \"description\": \"\"\n      }\n    },\n    {\n      \"column\": \"\\uc804\\ud654\\ubc88\\ud638\",\n      \"properties\": {\n        \"dtype\": \"string\",\n        \"num_unique_values\": 627,\n        \"samples\": [\n          \"041)930-5114\"\n        ],\n        \"semantic_type\": \"\",\n        \"description\": \"\"\n      }\n    },\n    {\n      \"column\": \"\\uc8fc\\uc18c\",\n      \"properties\": {\n        \"dtype\": \"string\",\n        \"num_unique_values\": 628,\n        \"samples\": [\n          \"\\uc8fd\\uc131\\ub85c 136\"\n        ],\n        \"semantic_type\": \"\",\n        \"description\": \"\"\n      }\n    },\n    {\n      \"column\": \"\\ube44\\uace0\",\n      \"properties\": {\n        \"dtype\": \"category\",\n        \"num_unique_values\": 4,\n        \"samples\": [\n          \"\\uc694\\uc591\"\n        ],\n        \"semantic_type\": \"\",\n        \"description\": \"\"\n      }\n    }\n  ]\n}"
            }
          },
          "metadata": {},
          "execution_count": 27
        }
      ]
    },
    {
      "cell_type": "code",
      "source": [
        "df['지역'].value_counts() # 기본이 내림차순으로 출력"
      ],
      "metadata": {
        "colab": {
          "base_uri": "https://localhost:8080/",
          "height": 489
        },
        "id": "EKjcp94rZVFp",
        "outputId": "c82b287f-261a-41cb-96b7-e9ee9014ac7e"
      },
      "execution_count": null,
      "outputs": [
        {
          "output_type": "execute_result",
          "data": {
            "text/plain": [
              "지역\n",
              "경남 창원시     11\n",
              "제주도 제주시     8\n",
              "충북 청주시      7\n",
              "경기도 용인시     6\n",
              "전남 완도군      6\n",
              "           ..\n",
              "경북 칠곡군      1\n",
              "경북 청송군      1\n",
              "경북 울릉군      1\n",
              "경북 영양군      1\n",
              "경기도 이천시     1\n",
              "Name: count, Length: 227, dtype: int64"
            ],
            "text/html": [
              "<div>\n",
              "<style scoped>\n",
              "    .dataframe tbody tr th:only-of-type {\n",
              "        vertical-align: middle;\n",
              "    }\n",
              "\n",
              "    .dataframe tbody tr th {\n",
              "        vertical-align: top;\n",
              "    }\n",
              "\n",
              "    .dataframe thead th {\n",
              "        text-align: right;\n",
              "    }\n",
              "</style>\n",
              "<table border=\"1\" class=\"dataframe\">\n",
              "  <thead>\n",
              "    <tr style=\"text-align: right;\">\n",
              "      <th></th>\n",
              "      <th>count</th>\n",
              "    </tr>\n",
              "    <tr>\n",
              "      <th>지역</th>\n",
              "      <th></th>\n",
              "    </tr>\n",
              "  </thead>\n",
              "  <tbody>\n",
              "    <tr>\n",
              "      <th>경남 창원시</th>\n",
              "      <td>11</td>\n",
              "    </tr>\n",
              "    <tr>\n",
              "      <th>제주도 제주시</th>\n",
              "      <td>8</td>\n",
              "    </tr>\n",
              "    <tr>\n",
              "      <th>충북 청주시</th>\n",
              "      <td>7</td>\n",
              "    </tr>\n",
              "    <tr>\n",
              "      <th>경기도 용인시</th>\n",
              "      <td>6</td>\n",
              "    </tr>\n",
              "    <tr>\n",
              "      <th>전남 완도군</th>\n",
              "      <td>6</td>\n",
              "    </tr>\n",
              "    <tr>\n",
              "      <th>...</th>\n",
              "      <td>...</td>\n",
              "    </tr>\n",
              "    <tr>\n",
              "      <th>경북 칠곡군</th>\n",
              "      <td>1</td>\n",
              "    </tr>\n",
              "    <tr>\n",
              "      <th>경북 청송군</th>\n",
              "      <td>1</td>\n",
              "    </tr>\n",
              "    <tr>\n",
              "      <th>경북 울릉군</th>\n",
              "      <td>1</td>\n",
              "    </tr>\n",
              "    <tr>\n",
              "      <th>경북 영양군</th>\n",
              "      <td>1</td>\n",
              "    </tr>\n",
              "    <tr>\n",
              "      <th>경기도 이천시</th>\n",
              "      <td>1</td>\n",
              "    </tr>\n",
              "  </tbody>\n",
              "</table>\n",
              "<p>227 rows × 1 columns</p>\n",
              "</div><br><label><b>dtype:</b> int64</label>"
            ]
          },
          "metadata": {},
          "execution_count": 28
        }
      ]
    },
    {
      "cell_type": "markdown",
      "source": [
        "넘파이 기본개념\n",
        " - 수학적 계산을 위한 리스트인데.. 구분하기 위해서 넘파이 배열"
      ],
      "metadata": {
        "id": "DMVsGcgGaoNR"
      }
    },
    {
      "cell_type": "code",
      "source": [
        "import numpy as np\n",
        "np.array([1,2,3]) # 리스트 -> 넘파이 배열\n",
        "# 두개의 리스트의 각각의 요소끼리 사칙연산을 해보세요\n",
        "a = random.sample(range(1,10),5)\n",
        "b = random.sample(range(1,10),5)\n",
        "print(a,b)\n",
        "print([x+y for x,y in zip(a,b)])\n",
        "print([x-y for x,y in zip(a,b)])\n",
        "print([x*y for x,y in zip(a,b)])\n",
        "print([x/y for x,y in zip(a,b)])\n",
        "a+b"
      ],
      "metadata": {
        "colab": {
          "base_uri": "https://localhost:8080/"
        },
        "id": "lhyIvBzJZqvR",
        "outputId": "ac1a0ebf-37b1-4b01-de82-f924ec42a393"
      },
      "execution_count": null,
      "outputs": [
        {
          "output_type": "stream",
          "name": "stdout",
          "text": [
            "[8, 6, 9, 4, 5] [7, 4, 9, 6, 8]\n",
            "[15, 10, 18, 10, 13]\n",
            "[1, 2, 0, -2, -3]\n",
            "[56, 24, 81, 24, 40]\n",
            "[1.1428571428571428, 1.5, 1.0, 0.6666666666666666, 0.625]\n"
          ]
        },
        {
          "output_type": "execute_result",
          "data": {
            "text/plain": [
              "[8, 6, 9, 4, 5, 7, 4, 9, 6, 8]"
            ]
          },
          "metadata": {},
          "execution_count": 32
        }
      ]
    },
    {
      "cell_type": "code",
      "source": [
        "a_numpy = np.array(a)\n",
        "b_numpy = np.array(b)\n",
        "print(a_numpy+b_numpy)\n",
        "print(a_numpy-b_numpy)\n",
        "print(a_numpy*b_numpy)\n",
        "a_numpy/b_numpy"
      ],
      "metadata": {
        "colab": {
          "base_uri": "https://localhost:8080/"
        },
        "id": "r5wxjMsubEDU",
        "outputId": "aa479233-fdd3-44d6-e232-92a283da652b"
      },
      "execution_count": null,
      "outputs": [
        {
          "output_type": "stream",
          "name": "stdout",
          "text": [
            "[15 10 18 10 13]\n",
            "[ 1  2  0 -2 -3]\n",
            "[56 24 81 24 40]\n"
          ]
        },
        {
          "output_type": "execute_result",
          "data": {
            "text/plain": [
              "array([1.14285714, 1.5       , 1.        , 0.66666667, 0.625     ])"
            ]
          },
          "metadata": {},
          "execution_count": 34
        }
      ]
    },
    {
      "cell_type": "code",
      "source": [
        "# 도서관리 프로그램\n",
        "# 저자, 제목, 발행연도, isbn 이런 데이터의 자동 순번을 부여 --> 클래스 변수 응용(Serial number 채번)\n",
        "# CRUD\n",
        "# 클래스 형태로 - 다 완성이 되면 모듈로 저장 -> 데이터베이스와 연동(추후) -> Flask or Streamlit 화면구성"
      ],
      "metadata": {
        "id": "Elt-YcuccLyp"
      },
      "execution_count": null,
      "outputs": []
    },
    {
      "cell_type": "markdown",
      "source": [
        "- 기능 명세서\n",
        "- 프로그램 설계서"
      ],
      "metadata": {
        "id": "WAmSxr0kgpC3"
      }
    },
    {
      "cell_type": "code",
      "source": [
        "# 기능 명세서\n",
        "# 1. 메뉴 : 사용자에게 메뉴를 보여주고 선택하게 한다\n",
        "# 2. 생성 : 책이 입고되면 데이터베이스에 책 정보를 입력한다\n",
        "# 3. 삭제 : 조회 후 물리적으로 삭제하지 않고 flag를 두어 업데이트 한다.(y/n)\n",
        "# 4. 조회 : 저자, 제목, 발행연도, isbn 각각 조회가 가능하도록 -> 결과는 리스트나 딕셔너리나... 자료구조형태 객체\n",
        "# 5. 업데이트 : 조회 후 업데이트"
      ],
      "metadata": {
        "id": "aL1jul4mgnzs"
      },
      "execution_count": null,
      "outputs": []
    },
    {
      "cell_type": "code",
      "source": [
        "# 프로그램 설계서\n",
        "# class Book\n",
        " # 책 데이터 및 delete_ny ='n'\n",
        "\n",
        "# class BookStore\n",
        "# 함수명, 클래스명 지정해주고 구체적인 동작 내용을 기술하고 기능명세서의 내용을 반영한다\n",
        "# 메뉴\n",
        " # 함수명 displayMenu()\n",
        " # 기능명세서 번호 : 1\n",
        " # 내용 : 콘솔에 print함수를 이용해서 다음과 같은 기능을 구현한다\n",
        "  # 1. 입력      2. 조회\n",
        "  # 3. 업데이트  4. 삭제\n",
        "  # 5. 종료\n",
        "\n",
        "# 생성\n",
        " # 함수명 createBook()\n",
        " # 기능명세서 번호 : 2\n",
        " # 내용:\n",
        "  # 저자, 제목, 발행년도, isbn = input().split()\n",
        "  # book 객체를 리스트에 저장\n",
        "\n",
        "# 삭제\n",
        " # 함수명 deleteBook()\n",
        " # 기능명세서 번호 : 3\n",
        "  # 조회 후 delete_yn을 y로 업데이트\n",
        "\n",
        "# 조회\n",
        " # 함수명 searchBook()\n",
        " # 기능명세서 번호 : 4\n",
        "  # 조회조건을 설정하고 조회 데이터르 입력받아서 조회한다\n",
        "  # 조회결과를 리스트에 담아 반환한다\n",
        "\n",
        "# 업데이트\n",
        " # 함수명 updateBook()\n",
        " # 기능명세서 번호: 5\n",
        "  # 조회한 데이터를 보여주고 업데이트할 데이터를 선택\n",
        "  # 업데이트할 데이터를 입력받고\n",
        "  # 업데이트 한다"
      ],
      "metadata": {
        "id": "qJJwxRizjRr0"
      },
      "execution_count": null,
      "outputs": []
    },
    {
      "cell_type": "code",
      "source": [
        "class Book: # DTO, VO 데이터 클래스\n",
        "  serial_number = 0\n",
        "  def __init__(self, author, title, year, isbn, amt=1):\n",
        "    Book.serial_number += 1\n",
        "    self.author = author\n",
        "    self.title = title\n",
        "    self.year = year\n",
        "    self.isbn = isbn\n",
        "    self.delete_yn = 'n'\n",
        "    self.amt = amt\n",
        "    self.id = Book.serial_number # PK(primary key)\n",
        "\n",
        "  def __eq__(self,__o: object) -> bool: # 재정의\n",
        "    return self.isbn == __o.isbn\n",
        "  def __ne__(self,__o: object) -> bool: # 재정의\n",
        "    return self.isbn != __o.isbn\n",
        "\n",
        "  def __str__(self):\n",
        "    return f'{self.id} {self.author} {self.title} {self.year} {self.isbn} {self.delete_yn} {self.amt}'"
      ],
      "metadata": {
        "id": "WjZzistxxW5K"
      },
      "execution_count": null,
      "outputs": []
    },
    {
      "cell_type": "code",
      "source": [
        "# 화이트홀 2024-09-01 카를로_로벨리 9791165349936 100\n",
        "author, title, year, isbn, amt = input(\"Input book data(author, title, year, isbn, amt) >\").split()\n",
        "book1 = Book(author, title, year, isbn, amt)\n",
        "books1 = [book1]\n",
        "\n",
        "author, title, year, isbn, amt = input(\"Input book data(author, title, year, isbn, amt) >\").split()\n",
        "book2 = Book(author, title, year, isbn, amt)\n",
        "book2 in books1"
      ],
      "metadata": {
        "colab": {
          "base_uri": "https://localhost:8080/"
        },
        "id": "ShwsRZ7vxf7R",
        "outputId": "13fb9f92-28ce-46dc-db15-5fd7f37f323b"
      },
      "execution_count": null,
      "outputs": [
        {
          "name": "stdout",
          "output_type": "stream",
          "text": [
            "Input book data(author, title, year, isbn, amt) >화이트홀 2024-09-01 카를로_로벨리 9791165349936 100\n",
            "Input book data(author, title, year, isbn, amt) >화이트홀 2024-09-01 카를로_로벨리 9791165349934 100\n"
          ]
        },
        {
          "output_type": "execute_result",
          "data": {
            "text/plain": [
              "False"
            ]
          },
          "metadata": {},
          "execution_count": 19
        }
      ]
    },
    {
      "cell_type": "code",
      "source": [
        "# books = [book,book,book,book,book]"
      ],
      "metadata": {
        "id": "ZbTuO7rtyzId"
      },
      "execution_count": null,
      "outputs": []
    },
    {
      "cell_type": "code",
      "source": [
        "# 프로그램설계서의 메뉴\n",
        "def display_get_Menu():\n",
        "  print('메뉴 번호를 입력하세요')\n",
        "  print('1. 입력\\t\\t2. 조회')\n",
        "  print('3. 업데이트\\t4. 삭제')\n",
        "  print('5. 종료')\n",
        "  menu = input('input > ')\n",
        "  if menu == '1':\n",
        "    return menu\n",
        "  elif menu == '2':\n",
        "    return menu\n",
        "  elif menu == '3':\n",
        "    return menu\n",
        "  elif menu == '4':\n",
        "    return menu\n",
        "  elif menu == '5':\n",
        "    print('프로그램을 종료합니다')\n",
        "  else:\n",
        "    raise Exception(\"잘못된 입력입니다\")\n",
        "print(display_get_Menu())"
      ],
      "metadata": {
        "colab": {
          "base_uri": "https://localhost:8080/"
        },
        "id": "MonrOaqwDyTR",
        "outputId": "588e63ab-d473-4c76-e9bd-41b84d8d8d47"
      },
      "execution_count": null,
      "outputs": [
        {
          "output_type": "stream",
          "name": "stdout",
          "text": [
            "메뉴 번호를 입력하세요\n",
            "1. 입력\t\t2. 조회\n",
            "3. 업데이트\t4. 삭제\n",
            "5. 종료\n",
            "input > 1\n",
            "1\n"
          ]
        }
      ]
    },
    {
      "cell_type": "code",
      "source": [
        "# 프로그램 설계서의 입력\n",
        "def creat_book(bookstore):\n",
        "  author, title, year, isbn, amt = input(\"Input book data(author, title, year, isbn, amt) >\").strip().split()\n",
        "  book1 = Book(author, title, year, isbn, amt)\n",
        "  bookstore.books = book1\n",
        "\n",
        "bookstore = BookStore()\n",
        "creat_book(bookstore)\n",
        "for book in bookstore.books:  # 데이터베이스의 모든 값을 출력\n",
        "  print(book)"
      ],
      "metadata": {
        "colab": {
          "base_uri": "https://localhost:8080/"
        },
        "id": "hA1rHGh7EOWz",
        "outputId": "02b963a4-404c-45e6-ec5c-05525a90c583"
      },
      "execution_count": null,
      "outputs": [
        {
          "output_type": "stream",
          "name": "stdout",
          "text": [
            "Input book data(author, title, year, isbn, amt) >저어자 파파이선  2023 1230001010 40\n",
            "10 저어자 파파이선 2023 1230001010 n 40\n"
          ]
        }
      ]
    },
    {
      "cell_type": "code",
      "source": [
        "# 조회\n",
        "# 조회 조건을 설정하고 검색어를 입력해서 book을 검색\n",
        "# 데이터중에 delete_yn이 n인 항목만 조회\n",
        "# 검색어 조회조건을 입력하면\n",
        "def search_book(bookstore):\n",
        "  search, condition = input(\"검색어 조회조건(검색어, 저자, 제목, 년도, isbn) >\").strip().split()\n",
        "  if condition == '저자':\n",
        "    return [book for book in bookstore.books if book.author == search and book.delete_yn.lower() == 'n']\n",
        "  elif condition == '제목':\n",
        "    return [book for book in bookstore.books if book.title == search and book.delete_yn.lower() == 'n']\n",
        "  elif condition == '년도':\n",
        "    return [book for book in bookstore.books if book.year == search and book.delete_yn.lower() == 'n']\n",
        "  elif condition == 'isbn':\n",
        "    return [book for book in bookstore.books if book.isbn == search and book.delete_yn.lower() == 'n']\n",
        "  else:\n",
        "    raise Exception(\"잘못된 입력입니다\")"
      ],
      "metadata": {
        "id": "lqLzgLXDXKKH"
      },
      "execution_count": null,
      "outputs": []
    },
    {
      "cell_type": "code",
      "source": [
        "result = search_book(bookstore)\n",
        "for data in result:\n",
        "  print(data)"
      ],
      "metadata": {
        "colab": {
          "base_uri": "https://localhost:8080/"
        },
        "id": "x3wZVsG1YW0o",
        "outputId": "7c759910-8d08-4c03-f813-ab466899cc00"
      },
      "execution_count": null,
      "outputs": [
        {
          "output_type": "stream",
          "name": "stdout",
          "text": [
            "검색어 조회조건(검색어, 저자, 제목, 년도, isbn) >저어자 저자\n",
            "10 저어자 파파이선 2023 1230001010 n 40\n"
          ]
        }
      ]
    },
    {
      "cell_type": "code",
      "source": [
        "# 삭제\n",
        "# 조회를 한 후에 삭제하고 싶은 번호를 선택하면\n",
        "# ex) 11 -> 11번에 대한 데이터의 delete_yn = 'y' 업데이트\n",
        "# ex) 11,12 -> 11,12번에 대한 데이터의 delete_yn = 'y' 업데이트\n",
        "result = search_book(bookstore)\n",
        "for data in result:\n",
        "  print(data)\n",
        "\n",
        "delete_str = input('삭제할 번호(여러개일 경우,로 구분) > ').strip().split(',')\n",
        "for id in delete_str: # 숫자로 바꿨으면 map(int, delete_str)\n",
        "  for book in bookstore.books:\n",
        "    if book.id == id:\n",
        "      book.delete_yn = 'y'"
      ],
      "metadata": {
        "colab": {
          "base_uri": "https://localhost:8080/"
        },
        "id": "sEpyhnY1eC7d",
        "outputId": "b5983a62-2be8-4b55-9156-84f8becbc026"
      },
      "execution_count": null,
      "outputs": [
        {
          "name": "stdout",
          "output_type": "stream",
          "text": [
            "검색어 조회조건(검색어, 저자, 제목, 년도, isbn) >저어자 저자\n",
            "10 저어자 파파이선 2023 1230001010 n 40\n",
            "삭제할 번호(여러개일 경우,로 구분) > 10\n"
          ]
        }
      ]
    },
    {
      "cell_type": "code",
      "source": [
        "# 업데이트\n",
        "# 데이터를 조회 -> 업데이트할 번호 한개선택\n",
        "# 순서대로 업데이트할 문장을 입력 -- author, title, year, isbn, amt 순서대로\n",
        "# 해당 데이터로 업데이트를 진행\n",
        "result = search_book(bookstore)\n",
        "for data in result:\n",
        "  print(data)\n",
        "\n",
        "update_id = input('업데이트할 번호 > ')\n",
        "for book in bookstore.books:\n",
        "  if update_id == str(book.id):\n",
        "    author, title, year, isbn, amt = input(\"Input book data(author, title, year, isbn, amt) >\").strip().split()\n",
        "    book.author = author\n",
        "    book.title = title\n",
        "    book.year = year\n",
        "    book.isbn = isbn\n",
        "    book.amt = amt"
      ],
      "metadata": {
        "colab": {
          "base_uri": "https://localhost:8080/"
        },
        "id": "GkGnLZlxgYRy",
        "outputId": "ca418c25-f51c-4221-a4e4-b36c90f11e32"
      },
      "execution_count": null,
      "outputs": [
        {
          "name": "stdout",
          "output_type": "stream",
          "text": [
            "검색어 조회조건(검색어, 저자, 제목, 년도, isbn) >2020 년도\n",
            "10 홍홍홍 파파파 2020 100100 n 100\n",
            "업데이트할 번호 > 10\n",
            "Input book data(author, title, year, isbn, amt) >홍길동 인공지능 2023 10203040 20\n"
          ]
        }
      ]
    },
    {
      "cell_type": "code",
      "source": [
        "# 단위테스트 :\n",
        "# 서점객체생성\n",
        "# 책 객체를 가가가 여러개 만들어서 데이터베이스(서점객체 내부의 리스트)에 저장한다\n",
        "\n",
        "bookstore = BookStore()  # 서점객체\n",
        "# 화이트홀 2024-09-01 카를로_로벨리 9791165349936 100\n",
        "author, title, year, isbn, amt = input(\"Input book data(author, title, year, isbn, amt) >\").strip().split()\n",
        "book1 = Book(author, title, year, isbn, amt)\n",
        "bookstore.books = book1\n",
        "\n",
        "author, title, year, isbn, amt = input(\"Input book data(author, title, year, isbn, amt) >\").strip().split()\n",
        "book2 = Book(author, title, year, isbn, amt)\n",
        "bookstore.books = book2\n",
        "\n",
        "for book in bookstore.books:  # 데이터베이스의 모든 값을 출력\n",
        "  print(book)"
      ],
      "metadata": {
        "colab": {
          "base_uri": "https://localhost:8080/"
        },
        "id": "m9zbL8l4708_",
        "outputId": "1e06660e-c6d1-4395-afb5-fed1a2835164"
      },
      "execution_count": null,
      "outputs": [
        {
          "output_type": "stream",
          "name": "stdout",
          "text": [
            "Input book data(author, title, year, isbn, amt) >화이트홀 2024-09-01 카를로_로벨리 9791165349936 100\n",
            "Input book data(author, title, year, isbn, amt) >화이트홀 2024-09-01 카를로_로벨리 9791165349938 100\n",
            "6 화이트홀 2024-09-01 카를로_로벨리 9791165349936 n 100\n",
            "7 화이트홀 2024-09-01 카를로_로벨리 9791165349938 n 100\n"
          ]
        }
      ]
    },
    {
      "cell_type": "code",
      "source": [
        "class Temp:\n",
        "  def __init__(self, data):\n",
        "    self.data = data\n",
        "  def __eq__(self,o):\n",
        "    return self.data == o.data\n",
        "  def __ne__(self,o):\n",
        "    return self.data != o.data\n",
        "\n",
        "t1 = Temp(1)\n",
        "t2 = Temp(1)\n",
        "t_list = [t1]\n",
        "t2 in t_list"
      ],
      "metadata": {
        "colab": {
          "base_uri": "https://localhost:8080/"
        },
        "id": "SUdeb90xvLLR",
        "outputId": "2dc7e78e-73e4-45e7-845c-68482e5c7e48"
      },
      "execution_count": null,
      "outputs": [
        {
          "output_type": "execute_result",
          "data": {
            "text/plain": [
              "True"
            ]
          },
          "metadata": {},
          "execution_count": 28
        }
      ]
    },
    {
      "cell_type": "code",
      "source": [
        "class Book:\n",
        "  serial_number = 0\n",
        "  def __init__(self,author,title,year,isbn,amt=1):\n",
        "    Book.serial_number += 1  # 고유 순번을 위해 객체생성시 1씩 증가하는 클래스변수\n",
        "    self.author = author\n",
        "    self.title = title\n",
        "    self.year = year\n",
        "    self.isbn = isbn\n",
        "    self.delete_yn = 'n'\n",
        "    self.amt = amt\n",
        "    self.id = Book.serial_number  # PK\n",
        "\n",
        "  def __eq__(self, __o: object) -> bool:  # 재 정의\n",
        "    return self.isbn == __o.isbn\n",
        "  def __ne__(self, __o: object) -> bool:  # 재 정의\n",
        "    return self.isbn != __o.isbn\n",
        "\n",
        "  def __str__(self):\n",
        "    return f'{self.id} {self.author} {self.title} {self.year} {self.isbn} {self.delete_yn} {self.amt}'\n",
        "\n",
        "class BookStore:\n",
        "  def __init__(self) -> None:\n",
        "    self.__books = []  # private  why? 리스트에 book 객체만 담기위해서 직접 접근을 금지\n",
        "\n",
        "  @property  # getter\n",
        "  def books(self):\n",
        "    return self.__books\n",
        "\n",
        "  @books.setter\n",
        "  def books(self,book):\n",
        "    if isinstance(book,Book) and book not in self.__books:  # 중복 체크\n",
        "      self.__books.append(book)\n",
        "    else:  # 사용자 정의 예외를 발생\n",
        "      raise Exception('입력 오류')  # 차후 에 Exception을 상속받은 사용자 정의 예외 클래스가 필요함\n",
        "  # Create\n",
        "  def create_book(self):\n",
        "    author,title,year,isbn,amt = input(\"input book data(author,title,year,isbn,amt) >\").strip().split()\n",
        "    book = Book(author,title,year,isbn,amt)\n",
        "    self.books = book\n",
        "\n",
        "  # Search\n",
        "  def search_book(self):\n",
        "    search, condition = input(\"검색어 조회조건(검색어, [저자, 제목, 년도 ,isbn]) > \").strip().split()\n",
        "    if condition == '저자':\n",
        "      return [ book for book in self.books if book.author == search and book.delete_yn.lower() == 'n']\n",
        "    elif condition == '제목':\n",
        "      return [ book for book in self.books if book.title == search and book.delete_yn.lower() == 'n']\n",
        "    elif condition == '년도':\n",
        "      return [ book for book in self.books if book.year == search and book.delete_yn.lower() == 'n']\n",
        "    elif condition == 'isbn':\n",
        "      return [ book for book in self.books if book.isbn == search and book.delete_yn.lower() == 'n']\n",
        "    else:\n",
        "      raise Exception('조회조건 오류')\n",
        "  # Update\n",
        "  def update_book(self):\n",
        "    update_str =  int(input('업데이트할 번호 > '))\n",
        "    author,title,year,isbn  = input(\"업데이트할 내용을 순서대로 작성(저자, 제목, 년도 ,isbn) > \").strip().split()\n",
        "    for book in self.books:\n",
        "      if book.id == update_str:\n",
        "        book.author = author\n",
        "        book.title = title\n",
        "        book.year = year\n",
        "        book.isbn = isbn\n",
        "        break\n",
        "  # Delete\n",
        "  def delete_book(self):\n",
        "    result = self.search_book()  # 삭제할 책을 찾는다\n",
        "    for data in result:  # 찾은 내용을 출력\n",
        "      print(data)\n",
        "\n",
        "    delete_str =  input('삭제할 번호(여러개일 경우 ,로 구분) > ').strip().split(',')\n",
        "    for id in map(int,delete_str):\n",
        "      for book in self.books:\n",
        "        if book.id == id:\n",
        "          book.delete_yn = 'y'\n",
        "          break\n",
        "# 일반함수\n",
        "def display_get_Menu():\n",
        "  print('1.입력\\t\\t2.조회\\n3.업데이트\\t4.삭제\\n5.종료')\n",
        "  menu_num = int(input(\"input > \"))\n",
        "  if 1<=menu_num<=5:\n",
        "    return menu_num\n",
        "  else:\n",
        "    raise Exception('메뉴번호 오류')"
      ],
      "metadata": {
        "id": "H0d2B1WYm_1L"
      },
      "execution_count": null,
      "outputs": []
    },
    {
      "cell_type": "code",
      "source": [
        "store = BookStore()"
      ],
      "metadata": {
        "id": "DyT9SAk70VWK"
      },
      "execution_count": null,
      "outputs": []
    },
    {
      "cell_type": "code",
      "source": [
        "# 메일 실행부\n",
        "try:\n",
        "  menu_num = display_get_Menu() # 메뉴를 보여주고 사용자로부터 번호를 받는다\n",
        "  if menu_num == 1:\n",
        "    store.create_book()\n",
        "  elif menu_num == 2:\n",
        "    for book in store.search_book():\n",
        "      print(book)\n",
        "  elif menu_num == 3:\n",
        "    for book in store.search_book():   # 검색한 목록을 보여주기\n",
        "      print(book)\n",
        "    store.update_book()\n",
        "  elif menu_num == 4:\n",
        "    store.delete_book()\n",
        "  elif menu_num == 5:\n",
        "    pass\n",
        "except Exception as e:\n",
        "  print(e)"
      ],
      "metadata": {
        "colab": {
          "base_uri": "https://localhost:8080/"
        },
        "id": "oxCiFe5Yrugr",
        "outputId": "9dadeaa8-105a-4495-d8c6-73a22b6a02d9"
      },
      "execution_count": null,
      "outputs": [
        {
          "name": "stdout",
          "output_type": "stream",
          "text": [
            "1.입력\t\t2.조회\n",
            "3.업데이트\t4.삭제\n",
            "5.종료\n",
            "input > 4\n",
            "검색어 조회조건(검색어, [저자, 제목, 년도 ,isbn]) > 2024 년도\n",
            "1 홍길동 인공지능 2024 112244 n 10\n",
            "삭제할 번호(여러개일 경우 ,로 구분) > 1\n"
          ]
        }
      ]
    },
    {
      "cell_type": "code",
      "source": [
        "for i in store.books:\n",
        "  print(i)"
      ],
      "metadata": {
        "colab": {
          "base_uri": "https://localhost:8080/"
        },
        "id": "4UkQHykeupTk",
        "outputId": "b65479ee-af4b-4a3d-ec82-4680765d3173"
      },
      "execution_count": null,
      "outputs": [
        {
          "output_type": "stream",
          "name": "stdout",
          "text": [
            "1 홍길동 인공지능 2024 112244 y 10\n"
          ]
        }
      ]
    },
    {
      "cell_type": "markdown",
      "source": [
        "정리\n",
        " - 함수에 데이터 전달하고 받고\n",
        " - 클래스 안에서 데코레이션.. property"
      ],
      "metadata": {
        "id": "00gGztY6A78w"
      }
    },
    {
      "cell_type": "code",
      "source": [
        "# 함수 정의\n",
        " # 명령어들의 모음"
      ],
      "metadata": {
        "id": "j1uQ0ntpA4cu"
      },
      "execution_count": null,
      "outputs": []
    },
    {
      "cell_type": "code",
      "source": [
        "# 사각형의 넓이를 구하는 코드\n",
        "# 공식...\n",
        "# 가로 * 세로\n",
        "def getRectangleArea(w,h=1,a=1): # defult parameter로 오버로드 불가 문제 대체\n",
        "  # w = 20\n",
        "  # h = 30\n",
        "\n",
        "  return w * h * a"
      ],
      "metadata": {
        "id": "r2XUWLXsBceY"
      },
      "execution_count": null,
      "outputs": []
    },
    {
      "cell_type": "code",
      "source": [
        "getRectangleArea(30, a = 1, h = 2)"
      ],
      "metadata": {
        "colab": {
          "base_uri": "https://localhost:8080/"
        },
        "id": "nH4fKmr7B7rq",
        "outputId": "3f34ce44-58d4-406a-ced0-4f6964460a5d"
      },
      "execution_count": null,
      "outputs": [
        {
          "output_type": "execute_result",
          "data": {
            "text/plain": [
              "60"
            ]
          },
          "metadata": {},
          "execution_count": 20
        }
      ]
    },
    {
      "cell_type": "code",
      "source": [
        "# 함수 - 순서대로 1대 1 매칭"
      ],
      "metadata": {
        "id": "2c6xR4zcCHJX"
      },
      "execution_count": null,
      "outputs": []
    },
    {
      "cell_type": "code",
      "source": [
        "def getSum(*args, count):\n",
        "  return args"
      ],
      "metadata": {
        "id": "EP5z-SkLG2lA"
      },
      "execution_count": null,
      "outputs": []
    },
    {
      "cell_type": "code",
      "source": [
        "getSum(1,10,20,30,40,50, count = 100)"
      ],
      "metadata": {
        "colab": {
          "base_uri": "https://localhost:8080/"
        },
        "id": "A8KSzgaZG92u",
        "outputId": "ed518fb8-69d8-410c-c411-790501370400"
      },
      "execution_count": null,
      "outputs": [
        {
          "output_type": "execute_result",
          "data": {
            "text/plain": [
              "(1, 10, 20, 30, 40, 50)"
            ]
          },
          "metadata": {},
          "execution_count": 28
        }
      ]
    },
    {
      "cell_type": "code",
      "source": [
        "# *args 가변매개변수, 튜플 형태로 전달받는다\n",
        "# **args 가변매개변수, 튜플 형태로 전달받는다 key = value 형태로 전달받은 데이터를 'key':'value인 dict형태로 변환\n",
        "def getSum(**args):\n",
        "  return args"
      ],
      "metadata": {
        "id": "8wIoDiteIyXx"
      },
      "execution_count": null,
      "outputs": []
    },
    {
      "cell_type": "code",
      "source": [
        "getSum(a=10,b=20,c=30)"
      ],
      "metadata": {
        "colab": {
          "base_uri": "https://localhost:8080/"
        },
        "id": "oFIABUv-HrpQ",
        "outputId": "40065fad-536c-44da-a21e-4acd46182014"
      },
      "execution_count": null,
      "outputs": [
        {
          "output_type": "execute_result",
          "data": {
            "text/plain": [
              "{'a': 10, 'b': 20, 'c': 30}"
            ]
          },
          "metadata": {},
          "execution_count": 32
        }
      ]
    },
    {
      "cell_type": "code",
      "source": [],
      "metadata": {
        "id": "5cuBtJ-BI13P"
      },
      "execution_count": null,
      "outputs": []
    }
  ]
}