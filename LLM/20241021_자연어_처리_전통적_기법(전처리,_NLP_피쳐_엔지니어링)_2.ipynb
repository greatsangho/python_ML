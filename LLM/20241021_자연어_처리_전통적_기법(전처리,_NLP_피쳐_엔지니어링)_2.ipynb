{
  "nbformat": 4,
  "nbformat_minor": 0,
  "metadata": {
    "colab": {
      "provenance": [],
      "gpuType": "T4"
    },
    "kernelspec": {
      "name": "python3",
      "display_name": "Python 3"
    },
    "language_info": {
      "name": "python"
    },
    "accelerator": "GPU"
  },
  "cells": [
    {
      "cell_type": "code",
      "execution_count": 1,
      "metadata": {
        "id": "W2HTkM7rf3LK"
      },
      "outputs": [],
      "source": [
        "# RNN 순환 신경망 (이전 상태를 참고하여 가중치 업데이트)"
      ]
    },
    {
      "cell_type": "markdown",
      "source": [
        "- RNN(Recurrent Neural Network)"
      ],
      "metadata": {
        "id": "eWXBfCDGga1H"
      }
    },
    {
      "cell_type": "code",
      "source": [
        "import gdown\n",
        "file_id = '1MaRptad6gke9_Y_t4b0AGStHMcc_JGfz'\n",
        "download_url = f'https://drive.google.com/uc?id={file_id}'\n",
        "gdown.download(download_url, 'train_label.zip', quiet=False)"
      ],
      "metadata": {
        "colab": {
          "base_uri": "https://localhost:8080/",
          "height": 109
        },
        "id": "TrGTLWqNgfZk",
        "outputId": "eee8a2a0-28ed-4f4f-be40-746c61769346"
      },
      "execution_count": 2,
      "outputs": [
        {
          "output_type": "stream",
          "name": "stderr",
          "text": [
            "Downloading...\n",
            "From: https://drive.google.com/uc?id=1MaRptad6gke9_Y_t4b0AGStHMcc_JGfz\n",
            "To: /content/train_label.zip\n",
            "100%|██████████| 5.47M/5.47M [00:00<00:00, 36.3MB/s]\n"
          ]
        },
        {
          "output_type": "execute_result",
          "data": {
            "text/plain": [
              "'train_label.zip'"
            ],
            "application/vnd.google.colaboratory.intrinsic+json": {
              "type": "string"
            }
          },
          "metadata": {},
          "execution_count": 2
        }
      ]
    },
    {
      "cell_type": "code",
      "source": [
        "!unzip train_label.zip"
      ],
      "metadata": {
        "colab": {
          "base_uri": "https://localhost:8080/"
        },
        "id": "71gmPvZ9gkag",
        "outputId": "1500932a-b70d-498a-e679-28d42edad30d"
      },
      "execution_count": 3,
      "outputs": [
        {
          "output_type": "stream",
          "name": "stdout",
          "text": [
            "Archive:  train_label.zip\n",
            "  inflating: train_input.npy         \n",
            "  inflating: train_label.npy         \n"
          ]
        }
      ]
    },
    {
      "cell_type": "code",
      "source": [
        "import pandas as pd\n",
        "import numpy as np"
      ],
      "metadata": {
        "id": "BKKe5ZJEgq5J"
      },
      "execution_count": 4,
      "outputs": []
    },
    {
      "cell_type": "code",
      "source": [
        "train_data = np.load('train_input.npy')\n",
        "train_label = np.load('train_label.npy')"
      ],
      "metadata": {
        "id": "-kheI7RiguJa"
      },
      "execution_count": 5,
      "outputs": []
    },
    {
      "cell_type": "code",
      "source": [
        "train_data.shape, train_label.shape"
      ],
      "metadata": {
        "colab": {
          "base_uri": "https://localhost:8080/"
        },
        "id": "o0LvfzDTiiao",
        "outputId": "efeee572-8247-4c6f-a2a5-1e975d0273b4"
      },
      "execution_count": 6,
      "outputs": [
        {
          "output_type": "execute_result",
          "data": {
            "text/plain": [
              "((25000, 174), (25000,))"
            ]
          },
          "metadata": {},
          "execution_count": 6
        }
      ]
    },
    {
      "cell_type": "code",
      "source": [
        "from sklearn.model_selection import train_test_split\n",
        "x_train,x_val,y_train,y_val = train_test_split(train_data, train_label, random_state=42, train_size=0.2)"
      ],
      "metadata": {
        "id": "Eq1C1_IjikFJ"
      },
      "execution_count": 7,
      "outputs": []
    },
    {
      "cell_type": "code",
      "source": [
        "# x,y의 데이터를 dictionary 형태로 변환\n",
        "def mapping_fn(x,y):\n",
        "  inputs,labels = {'x':x},y\n",
        "  return inputs, labels"
      ],
      "metadata": {
        "id": "cYVMTXlMjACW"
      },
      "execution_count": 8,
      "outputs": []
    },
    {
      "cell_type": "code",
      "source": [
        "# 데이터를 tensor 형태로 변경하면서 섞고 배치단위의 데이터 셋\n",
        "import tensorflow as tf\n",
        "BATCH_SIZE = 16\n",
        "NUM_EPOCHS = 3\n",
        "def train_input_fn():\n",
        "  # x,y 형태의 데이터를 입력 받아서 tensorflow dataset을 만들어줌\n",
        "  dataset = tf.data.Dataset.from_tensor_slices((x_train, y_train))\n",
        "  dataset = dataset.shuffle(buffer_size=50000) # 데이터셋 섞기,50000개의 데이터 단위로 섞는다\n",
        "  dataset = dataset.batch(BATCH_SIZE) # 배치단위로 묶음\n",
        "  dataset = dataset.repeat(count=NUM_EPOCHS) # 반복\n",
        "  dataset = dataset.map(mapping_fn) # 배치 단위의 샘플을 mapping_fn 적용해서 input,label형태로 변환\n",
        "  # 데이터 셋에서 데이터를 하나씩 가져와서 반복하는데 한번 순환하면 초기화 안 함\n",
        "  iterator = dataset.make_one_shot_iterator()\n",
        "  return iterator.get_next() # 배치단위로 리턴\n",
        "\n",
        "def eval_input_fn():\n",
        "  dataset = tf.data.Dataset.from_tensor_slices((x_val,y_val))\n",
        "  dataset = dataset.batch(BATCH_SIZE)\n",
        "  dataset = dataset.map(mapping_fn)\n",
        "  iterator = dataset.make_one_shot_iterator()\n",
        "  return iterator.get_next()"
      ],
      "metadata": {
        "id": "SfUVlE_9jZWg"
      },
      "execution_count": 9,
      "outputs": []
    },
    {
      "cell_type": "code",
      "source": [
        "# features 자연어를 벡터화한 입력데이터\n",
        "WORD_EMBEDDING_DIM = 100\n",
        "HIDDEN_STATE_DIM = 150\n",
        "DENSE_FEATURE_DIM = 150\n",
        "learning_rate = 1e-3 # 0.001\n",
        "def model_fn(features, labels, mode): # mode: train, eval, predict 함수를 만들어 처리\n",
        "  train = mode == tf.estimator.ModeKeys.TRAIN\n",
        "  eval = mode == tf.estimator.ModeKeys.EVAL\n",
        "  predict = mode == tf.estimator.ModeKeys.PREDICT\n",
        "  # 임베딩 레이어\n",
        "  embedding_layer = tf.keras.layers.Embedding(input_dim=10000, output_dim=WORD_EMBEDDING_DIM)(features['x'])\n",
        "  # 과적합 방지를 위해 드랍아웃\n",
        "  emnbedding_layer = tf.keras.layers.Dropout(rate=0.2)(embedding_layer)\n",
        "  # 두개의 LSTM 셀을 사용해서 RNN 계층을 생성 각 셀의 크기는 HIDDEN_STATE_DIM으로 설정\n",
        "  rnn_layers = [tf.nn.rnn_cell.LSTMCell(num_units=size) for size in [HIDDEN_STATE_DIM, HIDDEN_STATE_DIM]]\n",
        "  # 여러개의 LSTM 셀을 하나의 RNN 계층으로 결합해서 깊이 있는 순환 구조를 생성\n",
        "  multi_rnn_cell = tf.nn.rnn_cell.MultiRNNCell(rnn_layers)\n",
        "  outputs, state = tf.nn.dynamic_rnn(cell=multi_rnn_cell,\n",
        "                    inputs= embedding_layer,\n",
        "                    dtype = tf.float32)\n",
        "  # 과적합 방지\n",
        "  outputs = tf.keras.layers.Dropout(0.2)(outputs)\n",
        "  hidden_layer = tf.keras.layers.Dense(units=DENSE_FEATURE_DIM,\n",
        "                                       activation=tf.nn.relu)(outputs[:,-1,:]) # FC 완전 연결 부분\n",
        "  logits = tf.keras.layers.Dropout(0.2)(hidden_layer)\n",
        "  # 최종 예측값(로짓)\n",
        "  logits = tf.squeeze(logits, axis=-1) # 차원이 1인 축을 제거해서 단일 값 변환\n",
        "  sigmoid_logits = tf.nn.sigmoid(logits)\n",
        "  if predict:\n",
        "    predictions = {'sentiment':sigmoid_logits}\n",
        "    return tf.estimator.EstimatorSpec(mode=mode,\n",
        "                                      predictions=predictions)\n",
        "  loss = tf.losses.sigmoid_cross_entropy(labels, logits)\n",
        "  if eval:\n",
        "    accuracy = tf.metrics.accuracy(labels-labels, predictions=tf.round(sigmoid_logits))\n",
        "    eval_metric_ops = {'acc':accuracy}\n",
        "    return tf.estimator.EstimatorSpec(mode=mode, loss=None,\n",
        "                                      eval_metric_ops=eval_metric_ops)\n",
        "  if train:\n",
        "    global_step = tf.train.get_global_step()\n",
        "    train_op = tf.train.AdamOptimizer(learning_rate).minimize(loss, global_step)\n",
        "    return tf.estimator.EstimatorSpec(mode=mode, train_op=train_op, loss=loss)"
      ],
      "metadata": {
        "id": "Q1GQXRELlsVY"
      },
      "execution_count": 10,
      "outputs": []
    },
    {
      "cell_type": "markdown",
      "source": [
        "- model\n",
        "  - tf.estimator.Estimator API를 사용해서 신경망 정의\n",
        "  - 감성분석처럼 이진분류에 사용 LSTM을 포함해서 순환신경망(RNN)을 기반으로"
      ],
      "metadata": {
        "id": "oMh4AOuXl1Le"
      }
    },
    {
      "cell_type": "markdown",
      "source": [
        "- LSTM(Long Short Term Memory)\n",
        "  - RNN의 한 종류, 긴 시퀀스에서 중요한 정보를 잃지 않고 기억할 수 있도록 설계된 메모리 셀 구조\n",
        "  - 셀 상태와\n",
        "    - 장기정보\n",
        "  - 게이트 상태\n",
        "    - 단기정보\n",
        "  - 구조\n",
        "    - 3가지 게이트\n",
        "      - Forget Gate : 이전 셀의 상태를 보고 어떤 정보를 버릴지 결정\n",
        "      - Input Gate : 현재 입력 정보를 가지고 새로 저장할 정보\n",
        "      - Output Gate : 다음 단계로 전달할 정보\n",
        "    - 동작\n",
        "      - Forget Gate : 시그모이드 함수 0에 가까우면 정보를 버리고 1에 가까우면 기억\n",
        "      - Input Gate : sigmoid & tanh 함수조합, 새로운 정보의 비율을 정하고 그 값을 업데이트\n",
        "      - Output Gate : 다음 레이어 전달할 값을 결정\n",
        "    - 게이트들의 조합으로 필요한 정보만 남기고 불필요한 정보를 제거"
      ],
      "metadata": {
        "id": "N5knF60cvSOH"
      }
    },
    {
      "cell_type": "code",
      "source": [
        "# 영화리뷰\n",
        "import tensorflow as tf\n",
        "(x_train,y_train), (x_test, y_test) = tf.keras.datasets.imdb.load_data(num_words=10000)\n",
        "# 문장의 길이를 맞춰줌\n",
        "x_train = tf.keras.preprocessing.sequence.pad_sequences(x_train,\n",
        "                                                        # value=0,\n",
        "                                                        # padding='pre',\n",
        "                                                        maxlen=200)\n",
        "x_test = tf.keras.preprocessing.sequence.pad_sequences(x_test,\n",
        "                                                      #  value=0,\n",
        "                                                      #  padding='pre',\n",
        "                                                       maxlen=200)\n",
        "# 모델\n",
        "model = tf.keras.Sequential([\n",
        "  tf.keras.layers.Embedding(input_dim=10000, output_dim=100, input_length=200),\n",
        "  tf.keras.layers.LSTM(units=128, return_sequences=False), # 마지막 타임스템프만 반환\n",
        "  tf.keras.layers.Dropout(0.2),\n",
        "  tf.keras.layers.Dense(units=1, activation='sigmoid')\n",
        "])\n",
        "model.compile(optimizer='adam', loss='binary_crossentropy', metrics=['accuracy'])\n",
        "model.summary()\n",
        "model.fit(x_train, y_train, epochs=3, batch_size=128, validation_split=0.2)\n",
        "model.evaluate(x_test, y_test)"
      ],
      "metadata": {
        "colab": {
          "base_uri": "https://localhost:8080/",
          "height": 499
        },
        "id": "EPpNZ3czuQRf",
        "outputId": "15a99a91-f625-441f-c5be-2c37664d4831"
      },
      "execution_count": 11,
      "outputs": [
        {
          "output_type": "stream",
          "name": "stdout",
          "text": [
            "Downloading data from https://storage.googleapis.com/tensorflow/tf-keras-datasets/imdb.npz\n",
            "\u001b[1m17464789/17464789\u001b[0m \u001b[32m━━━━━━━━━━━━━━━━━━━━\u001b[0m\u001b[37m\u001b[0m \u001b[1m0s\u001b[0m 0us/step\n"
          ]
        },
        {
          "output_type": "stream",
          "name": "stderr",
          "text": [
            "/usr/local/lib/python3.10/dist-packages/keras/src/layers/core/embedding.py:90: UserWarning: Argument `input_length` is deprecated. Just remove it.\n",
            "  warnings.warn(\n"
          ]
        },
        {
          "output_type": "display_data",
          "data": {
            "text/plain": [
              "\u001b[1mModel: \"sequential\"\u001b[0m\n"
            ],
            "text/html": [
              "<pre style=\"white-space:pre;overflow-x:auto;line-height:normal;font-family:Menlo,'DejaVu Sans Mono',consolas,'Courier New',monospace\"><span style=\"font-weight: bold\">Model: \"sequential\"</span>\n",
              "</pre>\n"
            ]
          },
          "metadata": {}
        },
        {
          "output_type": "display_data",
          "data": {
            "text/plain": [
              "┏━━━━━━━━━━━━━━━━━━━━━━━━━━━━━━━━━━━━━━┳━━━━━━━━━━━━━━━━━━━━━━━━━━━━━┳━━━━━━━━━━━━━━━━━┓\n",
              "┃\u001b[1m \u001b[0m\u001b[1mLayer (type)                        \u001b[0m\u001b[1m \u001b[0m┃\u001b[1m \u001b[0m\u001b[1mOutput Shape               \u001b[0m\u001b[1m \u001b[0m┃\u001b[1m \u001b[0m\u001b[1m        Param #\u001b[0m\u001b[1m \u001b[0m┃\n",
              "┡━━━━━━━━━━━━━━━━━━━━━━━━━━━━━━━━━━━━━━╇━━━━━━━━━━━━━━━━━━━━━━━━━━━━━╇━━━━━━━━━━━━━━━━━┩\n",
              "│ embedding (\u001b[38;5;33mEmbedding\u001b[0m)                │ ?                           │     \u001b[38;5;34m0\u001b[0m (unbuilt) │\n",
              "├──────────────────────────────────────┼─────────────────────────────┼─────────────────┤\n",
              "│ lstm (\u001b[38;5;33mLSTM\u001b[0m)                          │ ?                           │     \u001b[38;5;34m0\u001b[0m (unbuilt) │\n",
              "├──────────────────────────────────────┼─────────────────────────────┼─────────────────┤\n",
              "│ dropout (\u001b[38;5;33mDropout\u001b[0m)                    │ ?                           │     \u001b[38;5;34m0\u001b[0m (unbuilt) │\n",
              "├──────────────────────────────────────┼─────────────────────────────┼─────────────────┤\n",
              "│ dense (\u001b[38;5;33mDense\u001b[0m)                        │ ?                           │     \u001b[38;5;34m0\u001b[0m (unbuilt) │\n",
              "└──────────────────────────────────────┴─────────────────────────────┴─────────────────┘\n"
            ],
            "text/html": [
              "<pre style=\"white-space:pre;overflow-x:auto;line-height:normal;font-family:Menlo,'DejaVu Sans Mono',consolas,'Courier New',monospace\">┏━━━━━━━━━━━━━━━━━━━━━━━━━━━━━━━━━━━━━━┳━━━━━━━━━━━━━━━━━━━━━━━━━━━━━┳━━━━━━━━━━━━━━━━━┓\n",
              "┃<span style=\"font-weight: bold\"> Layer (type)                         </span>┃<span style=\"font-weight: bold\"> Output Shape                </span>┃<span style=\"font-weight: bold\">         Param # </span>┃\n",
              "┡━━━━━━━━━━━━━━━━━━━━━━━━━━━━━━━━━━━━━━╇━━━━━━━━━━━━━━━━━━━━━━━━━━━━━╇━━━━━━━━━━━━━━━━━┩\n",
              "│ embedding (<span style=\"color: #0087ff; text-decoration-color: #0087ff\">Embedding</span>)                │ ?                           │     <span style=\"color: #00af00; text-decoration-color: #00af00\">0</span> (unbuilt) │\n",
              "├──────────────────────────────────────┼─────────────────────────────┼─────────────────┤\n",
              "│ lstm (<span style=\"color: #0087ff; text-decoration-color: #0087ff\">LSTM</span>)                          │ ?                           │     <span style=\"color: #00af00; text-decoration-color: #00af00\">0</span> (unbuilt) │\n",
              "├──────────────────────────────────────┼─────────────────────────────┼─────────────────┤\n",
              "│ dropout (<span style=\"color: #0087ff; text-decoration-color: #0087ff\">Dropout</span>)                    │ ?                           │     <span style=\"color: #00af00; text-decoration-color: #00af00\">0</span> (unbuilt) │\n",
              "├──────────────────────────────────────┼─────────────────────────────┼─────────────────┤\n",
              "│ dense (<span style=\"color: #0087ff; text-decoration-color: #0087ff\">Dense</span>)                        │ ?                           │     <span style=\"color: #00af00; text-decoration-color: #00af00\">0</span> (unbuilt) │\n",
              "└──────────────────────────────────────┴─────────────────────────────┴─────────────────┘\n",
              "</pre>\n"
            ]
          },
          "metadata": {}
        },
        {
          "output_type": "display_data",
          "data": {
            "text/plain": [
              "\u001b[1m Total params: \u001b[0m\u001b[38;5;34m0\u001b[0m (0.00 B)\n"
            ],
            "text/html": [
              "<pre style=\"white-space:pre;overflow-x:auto;line-height:normal;font-family:Menlo,'DejaVu Sans Mono',consolas,'Courier New',monospace\"><span style=\"font-weight: bold\"> Total params: </span><span style=\"color: #00af00; text-decoration-color: #00af00\">0</span> (0.00 B)\n",
              "</pre>\n"
            ]
          },
          "metadata": {}
        },
        {
          "output_type": "display_data",
          "data": {
            "text/plain": [
              "\u001b[1m Trainable params: \u001b[0m\u001b[38;5;34m0\u001b[0m (0.00 B)\n"
            ],
            "text/html": [
              "<pre style=\"white-space:pre;overflow-x:auto;line-height:normal;font-family:Menlo,'DejaVu Sans Mono',consolas,'Courier New',monospace\"><span style=\"font-weight: bold\"> Trainable params: </span><span style=\"color: #00af00; text-decoration-color: #00af00\">0</span> (0.00 B)\n",
              "</pre>\n"
            ]
          },
          "metadata": {}
        },
        {
          "output_type": "display_data",
          "data": {
            "text/plain": [
              "\u001b[1m Non-trainable params: \u001b[0m\u001b[38;5;34m0\u001b[0m (0.00 B)\n"
            ],
            "text/html": [
              "<pre style=\"white-space:pre;overflow-x:auto;line-height:normal;font-family:Menlo,'DejaVu Sans Mono',consolas,'Courier New',monospace\"><span style=\"font-weight: bold\"> Non-trainable params: </span><span style=\"color: #00af00; text-decoration-color: #00af00\">0</span> (0.00 B)\n",
              "</pre>\n"
            ]
          },
          "metadata": {}
        },
        {
          "output_type": "stream",
          "name": "stdout",
          "text": [
            "Epoch 1/3\n",
            "\u001b[1m157/157\u001b[0m \u001b[32m━━━━━━━━━━━━━━━━━━━━\u001b[0m\u001b[37m\u001b[0m \u001b[1m13s\u001b[0m 23ms/step - accuracy: 0.6035 - loss: 0.6451 - val_accuracy: 0.8486 - val_loss: 0.3672\n",
            "Epoch 2/3\n",
            "\u001b[1m157/157\u001b[0m \u001b[32m━━━━━━━━━━━━━━━━━━━━\u001b[0m\u001b[37m\u001b[0m \u001b[1m13s\u001b[0m 18ms/step - accuracy: 0.8774 - loss: 0.3026 - val_accuracy: 0.8560 - val_loss: 0.3434\n",
            "Epoch 3/3\n",
            "\u001b[1m157/157\u001b[0m \u001b[32m━━━━━━━━━━━━━━━━━━━━\u001b[0m\u001b[37m\u001b[0m \u001b[1m3s\u001b[0m 17ms/step - accuracy: 0.9202 - loss: 0.2162 - val_accuracy: 0.8430 - val_loss: 0.3640\n",
            "\u001b[1m782/782\u001b[0m \u001b[32m━━━━━━━━━━━━━━━━━━━━\u001b[0m\u001b[37m\u001b[0m \u001b[1m4s\u001b[0m 5ms/step - accuracy: 0.8394 - loss: 0.3729\n"
          ]
        },
        {
          "output_type": "execute_result",
          "data": {
            "text/plain": [
              "[0.3671480715274811, 0.8424000144004822]"
            ]
          },
          "metadata": {},
          "execution_count": 11
        }
      ]
    },
    {
      "cell_type": "markdown",
      "source": [
        "- 벡터화된 데이터를 가지고 LSTM 모델에 적용\n",
        "- 동일 데이터로 RNN 적용해서 성능 비교"
      ],
      "metadata": {
        "id": "grPeOFHj4hle"
      }
    },
    {
      "cell_type": "code",
      "source": [
        "# 하이퍼 파라메터 정의\n",
        "model_name = 'rnn_classifier_en'\n",
        "batch_size = 128\n",
        "num_epochs = 3\n",
        "vocab_size = 10000\n",
        "# word_vec_size = 100\n",
        "# rnn_hidden_size = 128"
      ],
      "metadata": {
        "id": "L4mfCrRdybgA"
      },
      "execution_count": 12,
      "outputs": []
    },
    {
      "cell_type": "code",
      "source": [
        "class Test():\n",
        "  def __init__(self) -> None:\n",
        "    pass\n",
        "  def __call__(self, x):\n",
        "    print('호출됨 : ',x)\n",
        "t = Test()\n",
        "t(10)\n",
        "\n",
        "# Functional API\n",
        "Test()(100) # 중간에 추가가 쉬움"
      ],
      "metadata": {
        "colab": {
          "base_uri": "https://localhost:8080/"
        },
        "id": "QwTizBFB7B1D",
        "outputId": "dd9745c0-6bdc-4f27-f72d-14ccf32f8e83"
      },
      "execution_count": 13,
      "outputs": [
        {
          "output_type": "stream",
          "name": "stdout",
          "text": [
            "호출됨 :  10\n",
            "호출됨 :  100\n"
          ]
        }
      ]
    },
    {
      "cell_type": "code",
      "source": [
        "# 모델을 클래스\n",
        "class LSTM_Classifier(tf.keras.Model):\n",
        "  def __init__(self) -> None:\n",
        "    super(LSTM_Classifier, self).__init__()\n",
        "    self.embedding = tf.keras.layers.Embedding(input_dim=10000, output_dim=100, input_length=200)\n",
        "    self.lstm1 = tf.keras.layers.LSTM(units=128, return_sequences=True) # 모든 은닉레이어의 타임스엡의 출력을 반환\n",
        "    self.lstm2 = tf.keras.layers.LSTM(units=128) # 스퀀스의 마지막 출력만 반환\n",
        "    self.dropout = tf.keras.layers.Dropout(rate=0.2)\n",
        "    self.fc = tf.keras.layers.Dense(units=10, activation='relu')\n",
        "    self.fc2 = tf.keras.layers.Dense(units=1, activation='sigmoid')\n",
        "  def call(self, x):\n",
        "    x = self.embedding(x)\n",
        "    x = self.lstm1(x)\n",
        "    x = self.lstm2(x)\n",
        "    x = self.dropout(x)\n",
        "    x = self.fc(x)\n",
        "    x = self.fc2(x)\n",
        "    return x"
      ],
      "metadata": {
        "id": "9cZXelZu596r"
      },
      "execution_count": 14,
      "outputs": []
    },
    {
      "cell_type": "code",
      "source": [
        "model = LSTM_Classifier()\n",
        "model.compile(optimizer='adam', loss='binary_crossentropy', metrics=['accuracy'])\n",
        "model.summary()"
      ],
      "metadata": {
        "colab": {
          "base_uri": "https://localhost:8080/",
          "height": 325
        },
        "id": "SU0Hr32m8TqG",
        "outputId": "d090da0b-c894-4b3f-d358-f922ebc44980"
      },
      "execution_count": 15,
      "outputs": [
        {
          "output_type": "display_data",
          "data": {
            "text/plain": [
              "\u001b[1mModel: \"lstm__classifier\"\u001b[0m\n"
            ],
            "text/html": [
              "<pre style=\"white-space:pre;overflow-x:auto;line-height:normal;font-family:Menlo,'DejaVu Sans Mono',consolas,'Courier New',monospace\"><span style=\"font-weight: bold\">Model: \"lstm__classifier\"</span>\n",
              "</pre>\n"
            ]
          },
          "metadata": {}
        },
        {
          "output_type": "display_data",
          "data": {
            "text/plain": [
              "┏━━━━━━━━━━━━━━━━━━━━━━━━━━━━━━━━━━━━━━┳━━━━━━━━━━━━━━━━━━━━━━━━━━━━━┳━━━━━━━━━━━━━━━━━┓\n",
              "┃\u001b[1m \u001b[0m\u001b[1mLayer (type)                        \u001b[0m\u001b[1m \u001b[0m┃\u001b[1m \u001b[0m\u001b[1mOutput Shape               \u001b[0m\u001b[1m \u001b[0m┃\u001b[1m \u001b[0m\u001b[1m        Param #\u001b[0m\u001b[1m \u001b[0m┃\n",
              "┡━━━━━━━━━━━━━━━━━━━━━━━━━━━━━━━━━━━━━━╇━━━━━━━━━━━━━━━━━━━━━━━━━━━━━╇━━━━━━━━━━━━━━━━━┩\n",
              "│ embedding_1 (\u001b[38;5;33mEmbedding\u001b[0m)              │ ?                           │     \u001b[38;5;34m0\u001b[0m (unbuilt) │\n",
              "├──────────────────────────────────────┼─────────────────────────────┼─────────────────┤\n",
              "│ lstm_1 (\u001b[38;5;33mLSTM\u001b[0m)                        │ ?                           │     \u001b[38;5;34m0\u001b[0m (unbuilt) │\n",
              "├──────────────────────────────────────┼─────────────────────────────┼─────────────────┤\n",
              "│ lstm_2 (\u001b[38;5;33mLSTM\u001b[0m)                        │ ?                           │     \u001b[38;5;34m0\u001b[0m (unbuilt) │\n",
              "├──────────────────────────────────────┼─────────────────────────────┼─────────────────┤\n",
              "│ dropout_1 (\u001b[38;5;33mDropout\u001b[0m)                  │ ?                           │     \u001b[38;5;34m0\u001b[0m (unbuilt) │\n",
              "├──────────────────────────────────────┼─────────────────────────────┼─────────────────┤\n",
              "│ dense_1 (\u001b[38;5;33mDense\u001b[0m)                      │ ?                           │     \u001b[38;5;34m0\u001b[0m (unbuilt) │\n",
              "├──────────────────────────────────────┼─────────────────────────────┼─────────────────┤\n",
              "│ dense_2 (\u001b[38;5;33mDense\u001b[0m)                      │ ?                           │     \u001b[38;5;34m0\u001b[0m (unbuilt) │\n",
              "└──────────────────────────────────────┴─────────────────────────────┴─────────────────┘\n"
            ],
            "text/html": [
              "<pre style=\"white-space:pre;overflow-x:auto;line-height:normal;font-family:Menlo,'DejaVu Sans Mono',consolas,'Courier New',monospace\">┏━━━━━━━━━━━━━━━━━━━━━━━━━━━━━━━━━━━━━━┳━━━━━━━━━━━━━━━━━━━━━━━━━━━━━┳━━━━━━━━━━━━━━━━━┓\n",
              "┃<span style=\"font-weight: bold\"> Layer (type)                         </span>┃<span style=\"font-weight: bold\"> Output Shape                </span>┃<span style=\"font-weight: bold\">         Param # </span>┃\n",
              "┡━━━━━━━━━━━━━━━━━━━━━━━━━━━━━━━━━━━━━━╇━━━━━━━━━━━━━━━━━━━━━━━━━━━━━╇━━━━━━━━━━━━━━━━━┩\n",
              "│ embedding_1 (<span style=\"color: #0087ff; text-decoration-color: #0087ff\">Embedding</span>)              │ ?                           │     <span style=\"color: #00af00; text-decoration-color: #00af00\">0</span> (unbuilt) │\n",
              "├──────────────────────────────────────┼─────────────────────────────┼─────────────────┤\n",
              "│ lstm_1 (<span style=\"color: #0087ff; text-decoration-color: #0087ff\">LSTM</span>)                        │ ?                           │     <span style=\"color: #00af00; text-decoration-color: #00af00\">0</span> (unbuilt) │\n",
              "├──────────────────────────────────────┼─────────────────────────────┼─────────────────┤\n",
              "│ lstm_2 (<span style=\"color: #0087ff; text-decoration-color: #0087ff\">LSTM</span>)                        │ ?                           │     <span style=\"color: #00af00; text-decoration-color: #00af00\">0</span> (unbuilt) │\n",
              "├──────────────────────────────────────┼─────────────────────────────┼─────────────────┤\n",
              "│ dropout_1 (<span style=\"color: #0087ff; text-decoration-color: #0087ff\">Dropout</span>)                  │ ?                           │     <span style=\"color: #00af00; text-decoration-color: #00af00\">0</span> (unbuilt) │\n",
              "├──────────────────────────────────────┼─────────────────────────────┼─────────────────┤\n",
              "│ dense_1 (<span style=\"color: #0087ff; text-decoration-color: #0087ff\">Dense</span>)                      │ ?                           │     <span style=\"color: #00af00; text-decoration-color: #00af00\">0</span> (unbuilt) │\n",
              "├──────────────────────────────────────┼─────────────────────────────┼─────────────────┤\n",
              "│ dense_2 (<span style=\"color: #0087ff; text-decoration-color: #0087ff\">Dense</span>)                      │ ?                           │     <span style=\"color: #00af00; text-decoration-color: #00af00\">0</span> (unbuilt) │\n",
              "└──────────────────────────────────────┴─────────────────────────────┴─────────────────┘\n",
              "</pre>\n"
            ]
          },
          "metadata": {}
        },
        {
          "output_type": "display_data",
          "data": {
            "text/plain": [
              "\u001b[1m Total params: \u001b[0m\u001b[38;5;34m0\u001b[0m (0.00 B)\n"
            ],
            "text/html": [
              "<pre style=\"white-space:pre;overflow-x:auto;line-height:normal;font-family:Menlo,'DejaVu Sans Mono',consolas,'Courier New',monospace\"><span style=\"font-weight: bold\"> Total params: </span><span style=\"color: #00af00; text-decoration-color: #00af00\">0</span> (0.00 B)\n",
              "</pre>\n"
            ]
          },
          "metadata": {}
        },
        {
          "output_type": "display_data",
          "data": {
            "text/plain": [
              "\u001b[1m Trainable params: \u001b[0m\u001b[38;5;34m0\u001b[0m (0.00 B)\n"
            ],
            "text/html": [
              "<pre style=\"white-space:pre;overflow-x:auto;line-height:normal;font-family:Menlo,'DejaVu Sans Mono',consolas,'Courier New',monospace\"><span style=\"font-weight: bold\"> Trainable params: </span><span style=\"color: #00af00; text-decoration-color: #00af00\">0</span> (0.00 B)\n",
              "</pre>\n"
            ]
          },
          "metadata": {}
        },
        {
          "output_type": "display_data",
          "data": {
            "text/plain": [
              "\u001b[1m Non-trainable params: \u001b[0m\u001b[38;5;34m0\u001b[0m (0.00 B)\n"
            ],
            "text/html": [
              "<pre style=\"white-space:pre;overflow-x:auto;line-height:normal;font-family:Menlo,'DejaVu Sans Mono',consolas,'Courier New',monospace\"><span style=\"font-weight: bold\"> Non-trainable params: </span><span style=\"color: #00af00; text-decoration-color: #00af00\">0</span> (0.00 B)\n",
              "</pre>\n"
            ]
          },
          "metadata": {}
        }
      ]
    },
    {
      "cell_type": "code",
      "source": [
        "# callback early stopping\n",
        "early_stopping = tf.keras.callbacks.EarlyStopping(monitor='val_loss', patience=4)\n",
        "cp = tf.keras.callbacks.ModelCheckpoint(filepath=f'{model_name}.keras',monitor ='val_loss', verbose = 1,\n",
        "                                        save_best_only=True)"
      ],
      "metadata": {
        "id": "ZJK3jhDW6QOq"
      },
      "execution_count": 16,
      "outputs": []
    },
    {
      "cell_type": "code",
      "source": [
        "history = model.fit(x_train, y_train, epochs=num_epochs, batch_size=batch_size,\n",
        "                    validation_data=(x_val, y_val), callbacks=[early_stopping, cp])"
      ],
      "metadata": {
        "colab": {
          "base_uri": "https://localhost:8080/"
        },
        "id": "E_yXnpI6_AUo",
        "outputId": "da9ebe9e-fa4f-407b-a3d5-3d8bf4b5eedb"
      },
      "execution_count": 17,
      "outputs": [
        {
          "output_type": "stream",
          "name": "stdout",
          "text": [
            "Epoch 1/3\n",
            "\u001b[1m194/196\u001b[0m \u001b[32m━━━━━━━━━━━━━━━━━━━\u001b[0m\u001b[37m━\u001b[0m \u001b[1m0s\u001b[0m 29ms/step - accuracy: 0.6458 - loss: 0.5906\n",
            "Epoch 1: val_loss improved from inf to 2.56033, saving model to rnn_classifier_en.keras\n",
            "\u001b[1m196/196\u001b[0m \u001b[32m━━━━━━━━━━━━━━━━━━━━\u001b[0m\u001b[37m\u001b[0m \u001b[1m10s\u001b[0m 39ms/step - accuracy: 0.6474 - loss: 0.5888 - val_accuracy: 0.5054 - val_loss: 2.5603\n",
            "Epoch 2/3\n",
            "\u001b[1m195/196\u001b[0m \u001b[32m━━━━━━━━━━━━━━━━━━━\u001b[0m\u001b[37m━\u001b[0m \u001b[1m0s\u001b[0m 29ms/step - accuracy: 0.8832 - loss: 0.2971\n",
            "Epoch 2: val_loss improved from 2.56033 to 2.32202, saving model to rnn_classifier_en.keras\n",
            "\u001b[1m196/196\u001b[0m \u001b[32m━━━━━━━━━━━━━━━━━━━━\u001b[0m\u001b[37m\u001b[0m \u001b[1m7s\u001b[0m 37ms/step - accuracy: 0.8832 - loss: 0.2970 - val_accuracy: 0.5001 - val_loss: 2.3220\n",
            "Epoch 3/3\n",
            "\u001b[1m194/196\u001b[0m \u001b[32m━━━━━━━━━━━━━━━━━━━\u001b[0m\u001b[37m━\u001b[0m \u001b[1m0s\u001b[0m 30ms/step - accuracy: 0.9233 - loss: 0.1999\n",
            "Epoch 3: val_loss improved from 2.32202 to 2.13562, saving model to rnn_classifier_en.keras\n",
            "\u001b[1m196/196\u001b[0m \u001b[32m━━━━━━━━━━━━━━━━━━━━\u001b[0m\u001b[37m\u001b[0m \u001b[1m12s\u001b[0m 45ms/step - accuracy: 0.9233 - loss: 0.1999 - val_accuracy: 0.4996 - val_loss: 2.1356\n"
          ]
        }
      ]
    },
    {
      "cell_type": "code",
      "source": [
        "# 모델 로드 -> 예측\n",
        "best_model = model.load_weights(f'{model_name}.keras')\n",
        "best_model.evaluate(x_val, y_val)"
      ],
      "metadata": {
        "colab": {
          "base_uri": "https://localhost:8080/"
        },
        "id": "I5boQGXR_YCv",
        "outputId": "a59d6098-c9fa-4ad4-8800-49db9916e399"
      },
      "execution_count": 21,
      "outputs": [
        {
          "output_type": "stream",
          "name": "stdout",
          "text": [
            "rnn_classifier_en\n"
          ]
        }
      ]
    },
    {
      "cell_type": "code",
      "source": [],
      "metadata": {
        "id": "E22tq2UDBVX_"
      },
      "execution_count": null,
      "outputs": []
    }
  ]
}