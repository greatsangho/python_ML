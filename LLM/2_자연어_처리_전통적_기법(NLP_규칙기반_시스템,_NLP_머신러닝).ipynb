{
  "nbformat": 4,
  "nbformat_minor": 0,
  "metadata": {
    "colab": {
      "provenance": [],
      "gpuType": "T4"
    },
    "kernelspec": {
      "name": "python3",
      "display_name": "Python 3"
    },
    "language_info": {
      "name": "python"
    },
    "accelerator": "GPU"
  },
  "cells": [
    {
      "cell_type": "code",
      "execution_count": 1,
      "metadata": {
        "colab": {
          "base_uri": "https://localhost:8080/",
          "height": 106
        },
        "id": "7G61sBeP88Fl",
        "outputId": "06bc69f9-e803-43ba-a055-a625d4157a5c"
      },
      "outputs": [
        {
          "output_type": "stream",
          "name": "stderr",
          "text": [
            "Downloading...\n",
            "From: https://drive.google.com/uc?id=1EMmSiot45KKtt5OpqKPbfbEri-5T6q6w\n",
            "To: /content/data.zip\n",
            "100%|██████████| 2.60M/2.60M [00:00<00:00, 35.2MB/s]\n"
          ]
        },
        {
          "output_type": "execute_result",
          "data": {
            "text/plain": [
              "'data.zip'"
            ],
            "application/vnd.google.colaboratory.intrinsic+json": {
              "type": "string"
            }
          },
          "metadata": {},
          "execution_count": 1
        }
      ],
      "source": [
        "# 데이터 로드\n",
        "import gdown\n",
        "file_id = '1EMmSiot45KKtt5OpqKPbfbEri-5T6q6w'\n",
        "download_url = f'https://drive.google.com/uc?id={file_id}'\n",
        "gdown.download(download_url, 'data.zip', quiet=False)"
      ]
    },
    {
      "cell_type": "code",
      "source": [
        "!unzip data.zip"
      ],
      "metadata": {
        "colab": {
          "base_uri": "https://localhost:8080/"
        },
        "id": "WFa5BCG99ceU",
        "outputId": "93904121-7f59-4422-eafb-1300c397b738"
      },
      "execution_count": 2,
      "outputs": [
        {
          "output_type": "stream",
          "name": "stdout",
          "text": [
            "Archive:  data.zip\n",
            "  inflating: nsmc_train_label.npy    \n",
            "  inflating: nsmc_test_input.npy     \n",
            "  inflating: nsmc_test_label.npy     \n",
            "  inflating: nsmc_train_input.npy    \n"
          ]
        }
      ]
    },
    {
      "cell_type": "code",
      "source": [
        "import numpy as np"
      ],
      "metadata": {
        "id": "-EcVdJLD9rMO"
      },
      "execution_count": 3,
      "outputs": []
    },
    {
      "cell_type": "code",
      "source": [
        "input_data = np.load('/content/nsmc_train_input.npy')\n",
        "label_data = np.load('/content/nsmc_train_label.npy')"
      ],
      "metadata": {
        "id": "tGZjQkYQ9zom"
      },
      "execution_count": 5,
      "outputs": []
    },
    {
      "cell_type": "code",
      "source": [
        "input_data"
      ],
      "metadata": {
        "colab": {
          "base_uri": "https://localhost:8080/"
        },
        "id": "eBDhTSnt-AnX",
        "outputId": "ec237913-62e3-4c53-a838-9371e9c8a7cb"
      },
      "execution_count": 6,
      "outputs": [
        {
          "output_type": "execute_result",
          "data": {
            "text/plain": [
              "array([[  463,    20,   265, ...,     0,     0,     0],\n",
              "       [  604,     1,   219, ...,   969,   680,    24],\n",
              "       [  393,  2456, 25028, ...,     2,   226,    13],\n",
              "       ...,\n",
              "       [   60,  1458,  5612, ..., 10480, 10415,  1050],\n",
              "       [ 1046,     1,  2271, ...,  1231,   545,  7862],\n",
              "       [    1,  1806,    22, ...,    63,  1290,     1]], dtype=int32)"
            ]
          },
          "metadata": {},
          "execution_count": 6
        }
      ]
    },
    {
      "cell_type": "code",
      "source": [
        "# 데이터 분리 학습용 검증용\n",
        "from sklearn.model_selection import train_test_split\n",
        "x_train,x_val,y_train,v_val = train_test_split(input_data, label_data, test_size=0.2, random_state=42)"
      ],
      "metadata": {
        "id": "Y0DMdWRe-GhJ"
      },
      "execution_count": 7,
      "outputs": []
    },
    {
      "cell_type": "code",
      "source": [
        "# 하이퍼 파라메터\n",
        "model_name = 'cnn_classifier_kr'\n",
        "batch_size = 128\n",
        "num_epochs = 5\n",
        "learning_rate = 0.001\n",
        "max_len = x_train.shape[1]\n",
        "vocab = 45000\n",
        "kargs = {'model_name': model_name,\n",
        "         'vocab': vocab,\n",
        "         'max_len': max_len,\n",
        "         'batch_size': batch_size,\n",
        "         'num_epochs': num_epochs,\n",
        "         'num_filters' : 100,\n",
        "         'dropout_rate' : 0.5,\n",
        "         'hidden_dim' : 250,\n",
        "         'output_dim' : 1,\n",
        "         'lr' : learning_rate}"
      ],
      "metadata": {
        "id": "3Eb-vMGa-gca"
      },
      "execution_count": 31,
      "outputs": []
    },
    {
      "cell_type": "code",
      "source": [
        "x_train.max()"
      ],
      "metadata": {
        "colab": {
          "base_uri": "https://localhost:8080/"
        },
        "id": "fFAdrFDyIS33",
        "outputId": "2f20594c-d8cd-4368-8299-1d03b110202a"
      },
      "execution_count": 30,
      "outputs": [
        {
          "output_type": "execute_result",
          "data": {
            "text/plain": [
              "43756"
            ]
          },
          "metadata": {},
          "execution_count": 30
        }
      ]
    },
    {
      "cell_type": "code",
      "source": [
        "import tensorflow as tf\n",
        "class CNN_Classfier(tf.keras.Model):\n",
        "  def __init__(self, **kargs):\n",
        "    super(CNN_Classfier, self).__init__()\n",
        "    # 임베딩의 입력값은 학습데이터의 인덱스의 최대값보다 커야한다.인덱스는 단어의 인덱스\n",
        "    self.embedding = tf.keras.layers.Embedding(input_dim=kargs['vocab'], output_dim=100)\n",
        "    self.conv_list = [tf.keras.layers.Conv1D(filters=kargs['num_filters'],\n",
        "                                             kernel_size=kernel_size, padding='valid', activation='relu')\n",
        "                                              for kernel_size in [3,3,3] ]\n",
        "    self.pooling = tf.keras.layers.MaxPool1D()\n",
        "    self.dropout = tf.keras.layers.Dropout(kargs['dropout_rate'])\n",
        "    # kernel_constraint=tf.keras.constraints.MaxNorm(max_value=3.) 가중치를 이전상태와 비스하게 만들어서 과적합을 방지\n",
        "    self.fc1 = tf.keras.layers.Dense(units=kargs['hidden_dim'], activation='relu',\n",
        "                                     kernel_constraint=tf.keras.constraints.MaxNorm(max_value=3.))\n",
        "    self.fc2 = tf.keras.layers.Dense(units=kargs['output_dim'], activation='sigmoid',\n",
        "                                     kernel_constraint=tf.keras.constraints.MaxNorm(max_value=3.))\n",
        "  def call(self, x):\n",
        "    x = self.embedding(x)\n",
        "    x = tf.concat([self.pooling(conv(x)) for conv in self.conv_list], axis=-1)  # axis=-1 마지막 축을 기준으로 붙인다\n",
        "    x = tf.keras.layers.Flatten()(x)\n",
        "    x = self.dropout(x)\n",
        "    x = self.fc1(x)\n",
        "    x = self.fc2(x)\n",
        "    return x"
      ],
      "metadata": {
        "id": "JJRgvs1WACU6"
      },
      "execution_count": 34,
      "outputs": []
    },
    {
      "cell_type": "code",
      "source": [
        "# 모델정의\n",
        "model = CNN_Classfier(**kargs)\n",
        "# 컴파일\n",
        "model.compile(optimizer=tf.keras.optimizers.Adam(learning_rate=kargs['lr']),\n",
        "              loss=tf.keras.losses.BinaryCrossentropy(),\n",
        "              metrics=['accuracy'])\n",
        "# 콜벡(필요시)\n",
        "callbacks = [tf.keras.callbacks.EarlyStopping(monitor='val_loss', patience=3, restore_best_weights=True),\n",
        "             tf.keras.callbacks.ModelCheckpoint(filepath='./best_model.keras', monitor='val_loss', save_best_only=True)]\n",
        "# 모델학습\n",
        "history = model.fit(x_train, y_train,\n",
        "                    batch_size=kargs['batch_size'], epochs=kargs['num_epochs'],\n",
        "          validation_data=(x_val, v_val), callbacks=callbacks\n",
        "                    )\n",
        "# 평가\n",
        "x_test = np.load('/content/nsmc_test_input.npy')\n",
        "y_test = np.load('/content/nsmc_test_label.npy')\n",
        "model.load_weights('./best_model.keras')\n",
        "model.evaluate(x_test, y_test)"
      ],
      "metadata": {
        "colab": {
          "base_uri": "https://localhost:8080/"
        },
        "id": "jJqvsXWUACXZ",
        "outputId": "fa561b73-2960-4992-89c0-ed8c4c0a8966"
      },
      "execution_count": 35,
      "outputs": [
        {
          "output_type": "stream",
          "name": "stdout",
          "text": [
            "Epoch 1/5\n",
            "\u001b[1m938/938\u001b[0m \u001b[32m━━━━━━━━━━━━━━━━━━━━\u001b[0m\u001b[37m\u001b[0m \u001b[1m74s\u001b[0m 76ms/step - accuracy: 0.7609 - loss: 0.4734 - val_accuracy: 0.8219 - val_loss: 0.3899\n",
            "Epoch 2/5\n",
            "\u001b[1m938/938\u001b[0m \u001b[32m━━━━━━━━━━━━━━━━━━━━\u001b[0m\u001b[37m\u001b[0m \u001b[1m78s\u001b[0m 72ms/step - accuracy: 0.8774 - loss: 0.2880 - val_accuracy: 0.8185 - val_loss: 0.4023\n",
            "Epoch 3/5\n",
            "\u001b[1m938/938\u001b[0m \u001b[32m━━━━━━━━━━━━━━━━━━━━\u001b[0m\u001b[37m\u001b[0m \u001b[1m81s\u001b[0m 71ms/step - accuracy: 0.9309 - loss: 0.1768 - val_accuracy: 0.8101 - val_loss: 0.4854\n",
            "Epoch 4/5\n",
            "\u001b[1m938/938\u001b[0m \u001b[32m━━━━━━━━━━━━━━━━━━━━\u001b[0m\u001b[37m\u001b[0m \u001b[1m82s\u001b[0m 71ms/step - accuracy: 0.9594 - loss: 0.1049 - val_accuracy: 0.8043 - val_loss: 0.6725\n",
            "\u001b[1m1563/1563\u001b[0m \u001b[32m━━━━━━━━━━━━━━━━━━━━\u001b[0m\u001b[37m\u001b[0m \u001b[1m8s\u001b[0m 5ms/step - accuracy: 0.8234 - loss: 0.3910\n"
          ]
        },
        {
          "output_type": "execute_result",
          "data": {
            "text/plain": [
              "[0.39328625798225403, 0.8223000168800354]"
            ]
          },
          "metadata": {},
          "execution_count": 35
        }
      ]
    },
    {
      "cell_type": "code",
      "source": [],
      "metadata": {
        "id": "43H9MndQD9Zb"
      },
      "execution_count": null,
      "outputs": []
    },
    {
      "cell_type": "code",
      "source": [],
      "metadata": {
        "id": "SKciEG0QLWOB"
      },
      "execution_count": null,
      "outputs": []
    },
    {
      "cell_type": "code",
      "source": [
        "import kagglehub\n",
        "import pandas as pd\n",
        "# Download latest version\n",
        "path = kagglehub.dataset_download(\"quora/question-pairs-dataset\")\n",
        "print(\"Path to dataset files:\", path)"
      ],
      "metadata": {
        "colab": {
          "base_uri": "https://localhost:8080/"
        },
        "id": "1FIcVgiSACaI",
        "outputId": "584366dc-0c79-4c04-b000-08b6f37d233b"
      },
      "execution_count": 36,
      "outputs": [
        {
          "output_type": "stream",
          "name": "stdout",
          "text": [
            "Warning: Looks like you're using an outdated `kagglehub` version, please consider updating (latest version: 0.3.3)\n",
            "Path to dataset files: /root/.cache/kagglehub/datasets/quora/question-pairs-dataset/versions/2\n"
          ]
        }
      ]
    },
    {
      "cell_type": "code",
      "source": [
        "from glob import glob\n",
        "file_path = glob(path+'/*.csv')\n",
        "print(file_path)\n",
        "train_data = pd.read_csv(file_path[0])\n",
        "train_data.head()"
      ],
      "metadata": {
        "colab": {
          "base_uri": "https://localhost:8080/",
          "height": 311
        },
        "collapsed": true,
        "id": "XMHB1gAQDtqC",
        "outputId": "5741c558-2842-4b96-f22f-50ea031bec48"
      },
      "execution_count": 38,
      "outputs": [
        {
          "output_type": "stream",
          "name": "stdout",
          "text": [
            "['/root/.cache/kagglehub/datasets/quora/question-pairs-dataset/versions/2/questions.csv']\n"
          ]
        },
        {
          "output_type": "execute_result",
          "data": {
            "text/plain": [
              "   id  qid1  qid2                                          question1  \\\n",
              "0   0     1     2  What is the step by step guide to invest in sh...   \n",
              "1   1     3     4  What is the story of Kohinoor (Koh-i-Noor) Dia...   \n",
              "2   2     5     6  How can I increase the speed of my internet co...   \n",
              "3   3     7     8  Why am I mentally very lonely? How can I solve...   \n",
              "4   4     9    10  Which one dissolve in water quikly sugar, salt...   \n",
              "\n",
              "                                           question2  is_duplicate  \n",
              "0  What is the step by step guide to invest in sh...             0  \n",
              "1  What would happen if the Indian government sto...             0  \n",
              "2  How can Internet speed be increased by hacking...             0  \n",
              "3  Find the remainder when [math]23^{24}[/math] i...             0  \n",
              "4            Which fish would survive in salt water?             0  "
            ],
            "text/html": [
              "\n",
              "  <div id=\"df-5c2229f8-8d8d-423f-8296-852adc0af6d8\" class=\"colab-df-container\">\n",
              "    <div>\n",
              "<style scoped>\n",
              "    .dataframe tbody tr th:only-of-type {\n",
              "        vertical-align: middle;\n",
              "    }\n",
              "\n",
              "    .dataframe tbody tr th {\n",
              "        vertical-align: top;\n",
              "    }\n",
              "\n",
              "    .dataframe thead th {\n",
              "        text-align: right;\n",
              "    }\n",
              "</style>\n",
              "<table border=\"1\" class=\"dataframe\">\n",
              "  <thead>\n",
              "    <tr style=\"text-align: right;\">\n",
              "      <th></th>\n",
              "      <th>id</th>\n",
              "      <th>qid1</th>\n",
              "      <th>qid2</th>\n",
              "      <th>question1</th>\n",
              "      <th>question2</th>\n",
              "      <th>is_duplicate</th>\n",
              "    </tr>\n",
              "  </thead>\n",
              "  <tbody>\n",
              "    <tr>\n",
              "      <th>0</th>\n",
              "      <td>0</td>\n",
              "      <td>1</td>\n",
              "      <td>2</td>\n",
              "      <td>What is the step by step guide to invest in sh...</td>\n",
              "      <td>What is the step by step guide to invest in sh...</td>\n",
              "      <td>0</td>\n",
              "    </tr>\n",
              "    <tr>\n",
              "      <th>1</th>\n",
              "      <td>1</td>\n",
              "      <td>3</td>\n",
              "      <td>4</td>\n",
              "      <td>What is the story of Kohinoor (Koh-i-Noor) Dia...</td>\n",
              "      <td>What would happen if the Indian government sto...</td>\n",
              "      <td>0</td>\n",
              "    </tr>\n",
              "    <tr>\n",
              "      <th>2</th>\n",
              "      <td>2</td>\n",
              "      <td>5</td>\n",
              "      <td>6</td>\n",
              "      <td>How can I increase the speed of my internet co...</td>\n",
              "      <td>How can Internet speed be increased by hacking...</td>\n",
              "      <td>0</td>\n",
              "    </tr>\n",
              "    <tr>\n",
              "      <th>3</th>\n",
              "      <td>3</td>\n",
              "      <td>7</td>\n",
              "      <td>8</td>\n",
              "      <td>Why am I mentally very lonely? How can I solve...</td>\n",
              "      <td>Find the remainder when [math]23^{24}[/math] i...</td>\n",
              "      <td>0</td>\n",
              "    </tr>\n",
              "    <tr>\n",
              "      <th>4</th>\n",
              "      <td>4</td>\n",
              "      <td>9</td>\n",
              "      <td>10</td>\n",
              "      <td>Which one dissolve in water quikly sugar, salt...</td>\n",
              "      <td>Which fish would survive in salt water?</td>\n",
              "      <td>0</td>\n",
              "    </tr>\n",
              "  </tbody>\n",
              "</table>\n",
              "</div>\n",
              "    <div class=\"colab-df-buttons\">\n",
              "\n",
              "  <div class=\"colab-df-container\">\n",
              "    <button class=\"colab-df-convert\" onclick=\"convertToInteractive('df-5c2229f8-8d8d-423f-8296-852adc0af6d8')\"\n",
              "            title=\"Convert this dataframe to an interactive table.\"\n",
              "            style=\"display:none;\">\n",
              "\n",
              "  <svg xmlns=\"http://www.w3.org/2000/svg\" height=\"24px\" viewBox=\"0 -960 960 960\">\n",
              "    <path d=\"M120-120v-720h720v720H120Zm60-500h600v-160H180v160Zm220 220h160v-160H400v160Zm0 220h160v-160H400v160ZM180-400h160v-160H180v160Zm440 0h160v-160H620v160ZM180-180h160v-160H180v160Zm440 0h160v-160H620v160Z\"/>\n",
              "  </svg>\n",
              "    </button>\n",
              "\n",
              "  <style>\n",
              "    .colab-df-container {\n",
              "      display:flex;\n",
              "      gap: 12px;\n",
              "    }\n",
              "\n",
              "    .colab-df-convert {\n",
              "      background-color: #E8F0FE;\n",
              "      border: none;\n",
              "      border-radius: 50%;\n",
              "      cursor: pointer;\n",
              "      display: none;\n",
              "      fill: #1967D2;\n",
              "      height: 32px;\n",
              "      padding: 0 0 0 0;\n",
              "      width: 32px;\n",
              "    }\n",
              "\n",
              "    .colab-df-convert:hover {\n",
              "      background-color: #E2EBFA;\n",
              "      box-shadow: 0px 1px 2px rgba(60, 64, 67, 0.3), 0px 1px 3px 1px rgba(60, 64, 67, 0.15);\n",
              "      fill: #174EA6;\n",
              "    }\n",
              "\n",
              "    .colab-df-buttons div {\n",
              "      margin-bottom: 4px;\n",
              "    }\n",
              "\n",
              "    [theme=dark] .colab-df-convert {\n",
              "      background-color: #3B4455;\n",
              "      fill: #D2E3FC;\n",
              "    }\n",
              "\n",
              "    [theme=dark] .colab-df-convert:hover {\n",
              "      background-color: #434B5C;\n",
              "      box-shadow: 0px 1px 3px 1px rgba(0, 0, 0, 0.15);\n",
              "      filter: drop-shadow(0px 1px 2px rgba(0, 0, 0, 0.3));\n",
              "      fill: #FFFFFF;\n",
              "    }\n",
              "  </style>\n",
              "\n",
              "    <script>\n",
              "      const buttonEl =\n",
              "        document.querySelector('#df-5c2229f8-8d8d-423f-8296-852adc0af6d8 button.colab-df-convert');\n",
              "      buttonEl.style.display =\n",
              "        google.colab.kernel.accessAllowed ? 'block' : 'none';\n",
              "\n",
              "      async function convertToInteractive(key) {\n",
              "        const element = document.querySelector('#df-5c2229f8-8d8d-423f-8296-852adc0af6d8');\n",
              "        const dataTable =\n",
              "          await google.colab.kernel.invokeFunction('convertToInteractive',\n",
              "                                                    [key], {});\n",
              "        if (!dataTable) return;\n",
              "\n",
              "        const docLinkHtml = 'Like what you see? Visit the ' +\n",
              "          '<a target=\"_blank\" href=https://colab.research.google.com/notebooks/data_table.ipynb>data table notebook</a>'\n",
              "          + ' to learn more about interactive tables.';\n",
              "        element.innerHTML = '';\n",
              "        dataTable['output_type'] = 'display_data';\n",
              "        await google.colab.output.renderOutput(dataTable, element);\n",
              "        const docLink = document.createElement('div');\n",
              "        docLink.innerHTML = docLinkHtml;\n",
              "        element.appendChild(docLink);\n",
              "      }\n",
              "    </script>\n",
              "  </div>\n",
              "\n",
              "\n",
              "<div id=\"df-ef4e78dd-056b-4908-b955-486b602b17f1\">\n",
              "  <button class=\"colab-df-quickchart\" onclick=\"quickchart('df-ef4e78dd-056b-4908-b955-486b602b17f1')\"\n",
              "            title=\"Suggest charts\"\n",
              "            style=\"display:none;\">\n",
              "\n",
              "<svg xmlns=\"http://www.w3.org/2000/svg\" height=\"24px\"viewBox=\"0 0 24 24\"\n",
              "     width=\"24px\">\n",
              "    <g>\n",
              "        <path d=\"M19 3H5c-1.1 0-2 .9-2 2v14c0 1.1.9 2 2 2h14c1.1 0 2-.9 2-2V5c0-1.1-.9-2-2-2zM9 17H7v-7h2v7zm4 0h-2V7h2v10zm4 0h-2v-4h2v4z\"/>\n",
              "    </g>\n",
              "</svg>\n",
              "  </button>\n",
              "\n",
              "<style>\n",
              "  .colab-df-quickchart {\n",
              "      --bg-color: #E8F0FE;\n",
              "      --fill-color: #1967D2;\n",
              "      --hover-bg-color: #E2EBFA;\n",
              "      --hover-fill-color: #174EA6;\n",
              "      --disabled-fill-color: #AAA;\n",
              "      --disabled-bg-color: #DDD;\n",
              "  }\n",
              "\n",
              "  [theme=dark] .colab-df-quickchart {\n",
              "      --bg-color: #3B4455;\n",
              "      --fill-color: #D2E3FC;\n",
              "      --hover-bg-color: #434B5C;\n",
              "      --hover-fill-color: #FFFFFF;\n",
              "      --disabled-bg-color: #3B4455;\n",
              "      --disabled-fill-color: #666;\n",
              "  }\n",
              "\n",
              "  .colab-df-quickchart {\n",
              "    background-color: var(--bg-color);\n",
              "    border: none;\n",
              "    border-radius: 50%;\n",
              "    cursor: pointer;\n",
              "    display: none;\n",
              "    fill: var(--fill-color);\n",
              "    height: 32px;\n",
              "    padding: 0;\n",
              "    width: 32px;\n",
              "  }\n",
              "\n",
              "  .colab-df-quickchart:hover {\n",
              "    background-color: var(--hover-bg-color);\n",
              "    box-shadow: 0 1px 2px rgba(60, 64, 67, 0.3), 0 1px 3px 1px rgba(60, 64, 67, 0.15);\n",
              "    fill: var(--button-hover-fill-color);\n",
              "  }\n",
              "\n",
              "  .colab-df-quickchart-complete:disabled,\n",
              "  .colab-df-quickchart-complete:disabled:hover {\n",
              "    background-color: var(--disabled-bg-color);\n",
              "    fill: var(--disabled-fill-color);\n",
              "    box-shadow: none;\n",
              "  }\n",
              "\n",
              "  .colab-df-spinner {\n",
              "    border: 2px solid var(--fill-color);\n",
              "    border-color: transparent;\n",
              "    border-bottom-color: var(--fill-color);\n",
              "    animation:\n",
              "      spin 1s steps(1) infinite;\n",
              "  }\n",
              "\n",
              "  @keyframes spin {\n",
              "    0% {\n",
              "      border-color: transparent;\n",
              "      border-bottom-color: var(--fill-color);\n",
              "      border-left-color: var(--fill-color);\n",
              "    }\n",
              "    20% {\n",
              "      border-color: transparent;\n",
              "      border-left-color: var(--fill-color);\n",
              "      border-top-color: var(--fill-color);\n",
              "    }\n",
              "    30% {\n",
              "      border-color: transparent;\n",
              "      border-left-color: var(--fill-color);\n",
              "      border-top-color: var(--fill-color);\n",
              "      border-right-color: var(--fill-color);\n",
              "    }\n",
              "    40% {\n",
              "      border-color: transparent;\n",
              "      border-right-color: var(--fill-color);\n",
              "      border-top-color: var(--fill-color);\n",
              "    }\n",
              "    60% {\n",
              "      border-color: transparent;\n",
              "      border-right-color: var(--fill-color);\n",
              "    }\n",
              "    80% {\n",
              "      border-color: transparent;\n",
              "      border-right-color: var(--fill-color);\n",
              "      border-bottom-color: var(--fill-color);\n",
              "    }\n",
              "    90% {\n",
              "      border-color: transparent;\n",
              "      border-bottom-color: var(--fill-color);\n",
              "    }\n",
              "  }\n",
              "</style>\n",
              "\n",
              "  <script>\n",
              "    async function quickchart(key) {\n",
              "      const quickchartButtonEl =\n",
              "        document.querySelector('#' + key + ' button');\n",
              "      quickchartButtonEl.disabled = true;  // To prevent multiple clicks.\n",
              "      quickchartButtonEl.classList.add('colab-df-spinner');\n",
              "      try {\n",
              "        const charts = await google.colab.kernel.invokeFunction(\n",
              "            'suggestCharts', [key], {});\n",
              "      } catch (error) {\n",
              "        console.error('Error during call to suggestCharts:', error);\n",
              "      }\n",
              "      quickchartButtonEl.classList.remove('colab-df-spinner');\n",
              "      quickchartButtonEl.classList.add('colab-df-quickchart-complete');\n",
              "    }\n",
              "    (() => {\n",
              "      let quickchartButtonEl =\n",
              "        document.querySelector('#df-ef4e78dd-056b-4908-b955-486b602b17f1 button');\n",
              "      quickchartButtonEl.style.display =\n",
              "        google.colab.kernel.accessAllowed ? 'block' : 'none';\n",
              "    })();\n",
              "  </script>\n",
              "</div>\n",
              "\n",
              "    </div>\n",
              "  </div>\n"
            ],
            "application/vnd.google.colaboratory.intrinsic+json": {
              "type": "dataframe",
              "variable_name": "train_data"
            }
          },
          "metadata": {},
          "execution_count": 38
        }
      ]
    },
    {
      "cell_type": "code",
      "source": [
        "# 데이터의 개수\n",
        "train_data['is_duplicate'].value_counts()"
      ],
      "metadata": {
        "colab": {
          "base_uri": "https://localhost:8080/",
          "height": 178
        },
        "id": "L-_PeAkELs_l",
        "outputId": "7e4a727c-c8e3-4d84-a5ab-d061886146ad"
      },
      "execution_count": 77,
      "outputs": [
        {
          "output_type": "execute_result",
          "data": {
            "text/plain": [
              "is_duplicate\n",
              "0    255045\n",
              "1    149306\n",
              "Name: count, dtype: int64"
            ],
            "text/html": [
              "<div>\n",
              "<style scoped>\n",
              "    .dataframe tbody tr th:only-of-type {\n",
              "        vertical-align: middle;\n",
              "    }\n",
              "\n",
              "    .dataframe tbody tr th {\n",
              "        vertical-align: top;\n",
              "    }\n",
              "\n",
              "    .dataframe thead th {\n",
              "        text-align: right;\n",
              "    }\n",
              "</style>\n",
              "<table border=\"1\" class=\"dataframe\">\n",
              "  <thead>\n",
              "    <tr style=\"text-align: right;\">\n",
              "      <th></th>\n",
              "      <th>count</th>\n",
              "    </tr>\n",
              "    <tr>\n",
              "      <th>is_duplicate</th>\n",
              "      <th></th>\n",
              "    </tr>\n",
              "  </thead>\n",
              "  <tbody>\n",
              "    <tr>\n",
              "      <th>0</th>\n",
              "      <td>255045</td>\n",
              "    </tr>\n",
              "    <tr>\n",
              "      <th>1</th>\n",
              "      <td>149306</td>\n",
              "    </tr>\n",
              "  </tbody>\n",
              "</table>\n",
              "</div><br><label><b>dtype:</b> int64</label>"
            ]
          },
          "metadata": {},
          "execution_count": 77
        }
      ]
    },
    {
      "cell_type": "code",
      "source": [
        "# 학습용데이터셋 question1 + question2  -> train_set\n",
        "train_data_notna = train_data.dropna()"
      ],
      "metadata": {
        "id": "dnPYBD9zMGzV"
      },
      "execution_count": 42,
      "outputs": []
    },
    {
      "cell_type": "code",
      "source": [],
      "metadata": {
        "colab": {
          "base_uri": "https://localhost:8080/"
        },
        "id": "2FWjQ94pRXRc",
        "outputId": "338b1197-27a8-43d4-8a43-dcdaebdb873d"
      },
      "execution_count": 76,
      "outputs": [
        {
          "output_type": "execute_result",
          "data": {
            "text/plain": [
              "113877"
            ]
          },
          "metadata": {},
          "execution_count": 76
        }
      ]
    },
    {
      "cell_type": "code",
      "source": [
        "train_data_notna.loc[:,'question1'] = train_data_notna['question1'].astype(str)\n",
        "train_data_notna.loc[:,'question2'] = train_data_notna['question2'].astype(str)"
      ],
      "metadata": {
        "id": "4VQRUUsAMj4u"
      },
      "execution_count": 49,
      "outputs": []
    },
    {
      "cell_type": "code",
      "source": [
        "# axis : {0/'index', 1/'columns'}, default 0\n",
        "train_set = pd.concat([train_data_notna['question1'] , train_data_notna['question2']])\n",
        "# 총 데이터개수\n",
        "# 중복된  데이터 개수\n",
        "print(f'총 데이터의 수 : {len(train_data_notna)}')\n",
        "print(f'총 질문의 수 : {len(train_set)}')\n",
        "print(f'반복해서 나타나는 질문의 수 : {train_set.duplicated().sum()}')"
      ],
      "metadata": {
        "colab": {
          "base_uri": "https://localhost:8080/"
        },
        "collapsed": true,
        "id": "0VnoSk-JND1-",
        "outputId": "7fb41118-90ff-49d7-c1b3-4ec15c4dd339"
      },
      "execution_count": 80,
      "outputs": [
        {
          "output_type": "stream",
          "name": "stdout",
          "text": [
            "총 데이터의 수 : 404348\n",
            "총 질문의 수 : 808696\n",
            "반복해서 나타나는 질문의 수 : 271310\n"
          ]
        }
      ]
    },
    {
      "cell_type": "code",
      "source": [
        "# 중복 질문수가 있으면 시각화 - 히스토그램 분포확인하는 용도 X\n",
        "import matplotlib.pyplot as plt\n",
        "plt.hist(train_set.value_counts(),bins=50,color='r',label='word')\n",
        "plt.ylabel('number of question')\n",
        "plt.yscale('log')\n",
        "plt.xlabel('number of word')\n",
        "plt.show()"
      ],
      "metadata": {
        "colab": {
          "base_uri": "https://localhost:8080/",
          "height": 457
        },
        "id": "StdxhwkOPnev",
        "outputId": "fa1ca1e1-6a7a-4973-a6ed-1affbe4f31e2"
      },
      "execution_count": 87,
      "outputs": [
        {
          "output_type": "display_data",
          "data": {
            "text/plain": [
              "<Figure size 640x480 with 1 Axes>"
            ],
            "image/png": "[encoded data removed]"
          },
          "metadata": {}
        }
      ]
    },
    {
      "cell_type": "code",
      "source": [
        "# 중복된 데이터는 value_counts()\n",
        "# 최대 최소 평균 표준편차 중위수\n",
        "train_set.value_counts().describe()"
      ],
      "metadata": {
        "colab": {
          "base_uri": "https://localhost:8080/",
          "height": 335
        },
        "id": "MscRLBTbTvYs",
        "outputId": "0248e358-5b82-429c-9a1e-da1f0ded5968"
      },
      "execution_count": 88,
      "outputs": [
        {
          "output_type": "execute_result",
          "data": {
            "text/plain": [
              "count    537386.000000\n",
              "mean          1.504870\n",
              "std           1.911658\n",
              "min           1.000000\n",
              "25%           1.000000\n",
              "50%           1.000000\n",
              "75%           1.000000\n",
              "max         161.000000\n",
              "Name: count, dtype: float64"
            ],
            "text/html": [
              "<div>\n",
              "<style scoped>\n",
              "    .dataframe tbody tr th:only-of-type {\n",
              "        vertical-align: middle;\n",
              "    }\n",
              "\n",
              "    .dataframe tbody tr th {\n",
              "        vertical-align: top;\n",
              "    }\n",
              "\n",
              "    .dataframe thead th {\n",
              "        text-align: right;\n",
              "    }\n",
              "</style>\n",
              "<table border=\"1\" class=\"dataframe\">\n",
              "  <thead>\n",
              "    <tr style=\"text-align: right;\">\n",
              "      <th></th>\n",
              "      <th>count</th>\n",
              "    </tr>\n",
              "  </thead>\n",
              "  <tbody>\n",
              "    <tr>\n",
              "      <th>count</th>\n",
              "      <td>537386.000000</td>\n",
              "    </tr>\n",
              "    <tr>\n",
              "      <th>mean</th>\n",
              "      <td>1.504870</td>\n",
              "    </tr>\n",
              "    <tr>\n",
              "      <th>std</th>\n",
              "      <td>1.911658</td>\n",
              "    </tr>\n",
              "    <tr>\n",
              "      <th>min</th>\n",
              "      <td>1.000000</td>\n",
              "    </tr>\n",
              "    <tr>\n",
              "      <th>25%</th>\n",
              "      <td>1.000000</td>\n",
              "    </tr>\n",
              "    <tr>\n",
              "      <th>50%</th>\n",
              "      <td>1.000000</td>\n",
              "    </tr>\n",
              "    <tr>\n",
              "      <th>75%</th>\n",
              "      <td>1.000000</td>\n",
              "    </tr>\n",
              "    <tr>\n",
              "      <th>max</th>\n",
              "      <td>161.000000</td>\n",
              "    </tr>\n",
              "  </tbody>\n",
              "</table>\n",
              "</div><br><label><b>dtype:</b> float64</label>"
            ]
          },
          "metadata": {},
          "execution_count": 88
        }
      ]
    },
    {
      "cell_type": "code",
      "source": [
        "# 불균형 확인  is_duplicate\n",
        "train_data_notna['is_duplicate'].value_counts().plot(kind='bar')"
      ],
      "metadata": {
        "colab": {
          "base_uri": "https://localhost:8080/",
          "height": 462
        },
        "id": "3_ib_8a_PxXe",
        "outputId": "cac7468f-a708-40f1-ef0f-4cb03214551c"
      },
      "execution_count": 90,
      "outputs": [
        {
          "output_type": "execute_result",
          "data": {
            "text/plain": [
              "<Axes: xlabel='is_duplicate'>"
            ]
          },
          "metadata": {},
          "execution_count": 90
        },
        {
          "output_type": "display_data",
          "data": {
            "text/plain": [
              "<Figure size 640x480 with 1 Axes>"
            ],
            "image/png": "[encoded data removed]"
          },
          "metadata": {}
        }
      ]
    },
    {
      "cell_type": "code",
      "source": [],
      "metadata": {
        "id": "kzi2zu1XmO2c"
      },
      "execution_count": null,
      "outputs": []
    },
    {
      "cell_type": "code",
      "source": [],
      "metadata": {
        "id": "wYBleBQwmO68"
      },
      "execution_count": null,
      "outputs": []
    },
    {
      "cell_type": "markdown",
      "source": [
        "- 데이터 전처리"
      ],
      "metadata": {
        "id": "Ex4NljT7mPoE"
      }
    },
    {
      "cell_type": "code",
      "source": [
        "import kagglehub\n",
        "import pandas as pd\n",
        "# Download latest version\n",
        "path = kagglehub.dataset_download(\"quora/question-pairs-dataset\")\n",
        "print(\"Path to dataset files:\", path)"
      ],
      "metadata": {
        "colab": {
          "base_uri": "https://localhost:8080/"
        },
        "id": "4Zsfsq86mO98",
        "outputId": "3282e5ef-7b93-492d-a5b3-39494f46fee1"
      },
      "execution_count": 1,
      "outputs": [
        {
          "output_type": "stream",
          "name": "stdout",
          "text": [
            "Warning: Looks like you're using an outdated `kagglehub` version, please consider updating (latest version: 0.3.3)\n",
            "Downloading from https://www.kaggle.com/api/v1/datasets/download/quora/question-pairs-dataset?dataset_version_number=2...\n"
          ]
        },
        {
          "output_type": "stream",
          "name": "stderr",
          "text": [
            "100%|██████████| 20.8M/20.8M [00:00<00:00, 48.0MB/s]"
          ]
        },
        {
          "output_type": "stream",
          "name": "stdout",
          "text": [
            "Extracting files...\n"
          ]
        },
        {
          "output_type": "stream",
          "name": "stderr",
          "text": [
            "\n"
          ]
        },
        {
          "output_type": "stream",
          "name": "stdout",
          "text": [
            "Path to dataset files: /root/.cache/kagglehub/datasets/quora/question-pairs-dataset/versions/2\n"
          ]
        }
      ]
    },
    {
      "cell_type": "code",
      "source": [
        "from glob import glob\n",
        "filepath = glob(path+'/**/*', recursive=True)[0]"
      ],
      "metadata": {
        "id": "r6GIy4U6mPAj"
      },
      "execution_count": 2,
      "outputs": []
    },
    {
      "cell_type": "code",
      "source": [
        "df = pd.read_csv(filepath)\n",
        "df.head()"
      ],
      "metadata": {
        "colab": {
          "base_uri": "https://localhost:8080/",
          "height": 293
        },
        "collapsed": true,
        "id": "EsH7vlRHP7Xo",
        "outputId": "b7feb9d3-2250-4295-958e-f42a0a098e70"
      },
      "execution_count": 3,
      "outputs": [
        {
          "output_type": "execute_result",
          "data": {
            "text/plain": [
              "   id  qid1  qid2                                          question1  \\\n",
              "0   0     1     2  What is the step by step guide to invest in sh...   \n",
              "1   1     3     4  What is the story of Kohinoor (Koh-i-Noor) Dia...   \n",
              "2   2     5     6  How can I increase the speed of my internet co...   \n",
              "3   3     7     8  Why am I mentally very lonely? How can I solve...   \n",
              "4   4     9    10  Which one dissolve in water quikly sugar, salt...   \n",
              "\n",
              "                                           question2  is_duplicate  \n",
              "0  What is the step by step guide to invest in sh...             0  \n",
              "1  What would happen if the Indian government sto...             0  \n",
              "2  How can Internet speed be increased by hacking...             0  \n",
              "3  Find the remainder when [math]23^{24}[/math] i...             0  \n",
              "4            Which fish would survive in salt water?             0  "
            ],
            "text/html": [
              "\n",
              "  <div id=\"df-067fc3c6-7911-411f-8207-70b504ce8cd4\" class=\"colab-df-container\">\n",
              "    <div>\n",
              "<style scoped>\n",
              "    .dataframe tbody tr th:only-of-type {\n",
              "        vertical-align: middle;\n",
              "    }\n",
              "\n",
              "    .dataframe tbody tr th {\n",
              "        vertical-align: top;\n",
              "    }\n",
              "\n",
              "    .dataframe thead th {\n",
              "        text-align: right;\n",
              "    }\n",
              "</style>\n",
              "<table border=\"1\" class=\"dataframe\">\n",
              "  <thead>\n",
              "    <tr style=\"text-align: right;\">\n",
              "      <th></th>\n",
              "      <th>id</th>\n",
              "      <th>qid1</th>\n",
              "      <th>qid2</th>\n",
              "      <th>question1</th>\n",
              "      <th>question2</th>\n",
              "      <th>is_duplicate</th>\n",
              "    </tr>\n",
              "  </thead>\n",
              "  <tbody>\n",
              "    <tr>\n",
              "      <th>0</th>\n",
              "      <td>0</td>\n",
              "      <td>1</td>\n",
              "      <td>2</td>\n",
              "      <td>What is the step by step guide to invest in sh...</td>\n",
              "      <td>What is the step by step guide to invest in sh...</td>\n",
              "      <td>0</td>\n",
              "    </tr>\n",
              "    <tr>\n",
              "      <th>1</th>\n",
              "      <td>1</td>\n",
              "      <td>3</td>\n",
              "      <td>4</td>\n",
              "      <td>What is the story of Kohinoor (Koh-i-Noor) Dia...</td>\n",
              "      <td>What would happen if the Indian government sto...</td>\n",
              "      <td>0</td>\n",
              "    </tr>\n",
              "    <tr>\n",
              "      <th>2</th>\n",
              "      <td>2</td>\n",
              "      <td>5</td>\n",
              "      <td>6</td>\n",
              "      <td>How can I increase the speed of my internet co...</td>\n",
              "      <td>How can Internet speed be increased by hacking...</td>\n",
              "      <td>0</td>\n",
              "    </tr>\n",
              "    <tr>\n",
              "      <th>3</th>\n",
              "      <td>3</td>\n",
              "      <td>7</td>\n",
              "      <td>8</td>\n",
              "      <td>Why am I mentally very lonely? How can I solve...</td>\n",
              "      <td>Find the remainder when [math]23^{24}[/math] i...</td>\n",
              "      <td>0</td>\n",
              "    </tr>\n",
              "    <tr>\n",
              "      <th>4</th>\n",
              "      <td>4</td>\n",
              "      <td>9</td>\n",
              "      <td>10</td>\n",
              "      <td>Which one dissolve in water quikly sugar, salt...</td>\n",
              "      <td>Which fish would survive in salt water?</td>\n",
              "      <td>0</td>\n",
              "    </tr>\n",
              "  </tbody>\n",
              "</table>\n",
              "</div>\n",
              "    <div class=\"colab-df-buttons\">\n",
              "\n",
              "  <div class=\"colab-df-container\">\n",
              "    <button class=\"colab-df-convert\" onclick=\"convertToInteractive('df-067fc3c6-7911-411f-8207-70b504ce8cd4')\"\n",
              "            title=\"Convert this dataframe to an interactive table.\"\n",
              "            style=\"display:none;\">\n",
              "\n",
              "  <svg xmlns=\"http://www.w3.org/2000/svg\" height=\"24px\" viewBox=\"0 -960 960 960\">\n",
              "    <path d=\"M120-120v-720h720v720H120Zm60-500h600v-160H180v160Zm220 220h160v-160H400v160Zm0 220h160v-160H400v160ZM180-400h160v-160H180v160Zm440 0h160v-160H620v160ZM180-180h160v-160H180v160Zm440 0h160v-160H620v160Z\"/>\n",
              "  </svg>\n",
              "    </button>\n",
              "\n",
              "  <style>\n",
              "    .colab-df-container {\n",
              "      display:flex;\n",
              "      gap: 12px;\n",
              "    }\n",
              "\n",
              "    .colab-df-convert {\n",
              "      background-color: #E8F0FE;\n",
              "      border: none;\n",
              "      border-radius: 50%;\n",
              "      cursor: pointer;\n",
              "      display: none;\n",
              "      fill: #1967D2;\n",
              "      height: 32px;\n",
              "      padding: 0 0 0 0;\n",
              "      width: 32px;\n",
              "    }\n",
              "\n",
              "    .colab-df-convert:hover {\n",
              "      background-color: #E2EBFA;\n",
              "      box-shadow: 0px 1px 2px rgba(60, 64, 67, 0.3), 0px 1px 3px 1px rgba(60, 64, 67, 0.15);\n",
              "      fill: #174EA6;\n",
              "    }\n",
              "\n",
              "    .colab-df-buttons div {\n",
              "      margin-bottom: 4px;\n",
              "    }\n",
              "\n",
              "    [theme=dark] .colab-df-convert {\n",
              "      background-color: #3B4455;\n",
              "      fill: #D2E3FC;\n",
              "    }\n",
              "\n",
              "    [theme=dark] .colab-df-convert:hover {\n",
              "      background-color: #434B5C;\n",
              "      box-shadow: 0px 1px 3px 1px rgba(0, 0, 0, 0.15);\n",
              "      filter: drop-shadow(0px 1px 2px rgba(0, 0, 0, 0.3));\n",
              "      fill: #FFFFFF;\n",
              "    }\n",
              "  </style>\n",
              "\n",
              "    <script>\n",
              "      const buttonEl =\n",
              "        document.querySelector('#df-067fc3c6-7911-411f-8207-70b504ce8cd4 button.colab-df-convert');\n",
              "      buttonEl.style.display =\n",
              "        google.colab.kernel.accessAllowed ? 'block' : 'none';\n",
              "\n",
              "      async function convertToInteractive(key) {\n",
              "        const element = document.querySelector('#df-067fc3c6-7911-411f-8207-70b504ce8cd4');\n",
              "        const dataTable =\n",
              "          await google.colab.kernel.invokeFunction('convertToInteractive',\n",
              "                                                    [key], {});\n",
              "        if (!dataTable) return;\n",
              "\n",
              "        const docLinkHtml = 'Like what you see? Visit the ' +\n",
              "          '<a target=\"_blank\" href=https://colab.research.google.com/notebooks/data_table.ipynb>data table notebook</a>'\n",
              "          + ' to learn more about interactive tables.';\n",
              "        element.innerHTML = '';\n",
              "        dataTable['output_type'] = 'display_data';\n",
              "        await google.colab.output.renderOutput(dataTable, element);\n",
              "        const docLink = document.createElement('div');\n",
              "        docLink.innerHTML = docLinkHtml;\n",
              "        element.appendChild(docLink);\n",
              "      }\n",
              "    </script>\n",
              "  </div>\n",
              "\n",
              "\n",
              "<div id=\"df-876519cf-ed9f-4128-9f27-9349b3fe002f\">\n",
              "  <button class=\"colab-df-quickchart\" onclick=\"quickchart('df-876519cf-ed9f-4128-9f27-9349b3fe002f')\"\n",
              "            title=\"Suggest charts\"\n",
              "            style=\"display:none;\">\n",
              "\n",
              "<svg xmlns=\"http://www.w3.org/2000/svg\" height=\"24px\"viewBox=\"0 0 24 24\"\n",
              "     width=\"24px\">\n",
              "    <g>\n",
              "        <path d=\"M19 3H5c-1.1 0-2 .9-2 2v14c0 1.1.9 2 2 2h14c1.1 0 2-.9 2-2V5c0-1.1-.9-2-2-2zM9 17H7v-7h2v7zm4 0h-2V7h2v10zm4 0h-2v-4h2v4z\"/>\n",
              "    </g>\n",
              "</svg>\n",
              "  </button>\n",
              "\n",
              "<style>\n",
              "  .colab-df-quickchart {\n",
              "      --bg-color: #E8F0FE;\n",
              "      --fill-color: #1967D2;\n",
              "      --hover-bg-color: #E2EBFA;\n",
              "      --hover-fill-color: #174EA6;\n",
              "      --disabled-fill-color: #AAA;\n",
              "      --disabled-bg-color: #DDD;\n",
              "  }\n",
              "\n",
              "  [theme=dark] .colab-df-quickchart {\n",
              "      --bg-color: #3B4455;\n",
              "      --fill-color: #D2E3FC;\n",
              "      --hover-bg-color: #434B5C;\n",
              "      --hover-fill-color: #FFFFFF;\n",
              "      --disabled-bg-color: #3B4455;\n",
              "      --disabled-fill-color: #666;\n",
              "  }\n",
              "\n",
              "  .colab-df-quickchart {\n",
              "    background-color: var(--bg-color);\n",
              "    border: none;\n",
              "    border-radius: 50%;\n",
              "    cursor: pointer;\n",
              "    display: none;\n",
              "    fill: var(--fill-color);\n",
              "    height: 32px;\n",
              "    padding: 0;\n",
              "    width: 32px;\n",
              "  }\n",
              "\n",
              "  .colab-df-quickchart:hover {\n",
              "    background-color: var(--hover-bg-color);\n",
              "    box-shadow: 0 1px 2px rgba(60, 64, 67, 0.3), 0 1px 3px 1px rgba(60, 64, 67, 0.15);\n",
              "    fill: var(--button-hover-fill-color);\n",
              "  }\n",
              "\n",
              "  .colab-df-quickchart-complete:disabled,\n",
              "  .colab-df-quickchart-complete:disabled:hover {\n",
              "    background-color: var(--disabled-bg-color);\n",
              "    fill: var(--disabled-fill-color);\n",
              "    box-shadow: none;\n",
              "  }\n",
              "\n",
              "  .colab-df-spinner {\n",
              "    border: 2px solid var(--fill-color);\n",
              "    border-color: transparent;\n",
              "    border-bottom-color: var(--fill-color);\n",
              "    animation:\n",
              "      spin 1s steps(1) infinite;\n",
              "  }\n",
              "\n",
              "  @keyframes spin {\n",
              "    0% {\n",
              "      border-color: transparent;\n",
              "      border-bottom-color: var(--fill-color);\n",
              "      border-left-color: var(--fill-color);\n",
              "    }\n",
              "    20% {\n",
              "      border-color: transparent;\n",
              "      border-left-color: var(--fill-color);\n",
              "      border-top-color: var(--fill-color);\n",
              "    }\n",
              "    30% {\n",
              "      border-color: transparent;\n",
              "      border-left-color: var(--fill-color);\n",
              "      border-top-color: var(--fill-color);\n",
              "      border-right-color: var(--fill-color);\n",
              "    }\n",
              "    40% {\n",
              "      border-color: transparent;\n",
              "      border-right-color: var(--fill-color);\n",
              "      border-top-color: var(--fill-color);\n",
              "    }\n",
              "    60% {\n",
              "      border-color: transparent;\n",
              "      border-right-color: var(--fill-color);\n",
              "    }\n",
              "    80% {\n",
              "      border-color: transparent;\n",
              "      border-right-color: var(--fill-color);\n",
              "      border-bottom-color: var(--fill-color);\n",
              "    }\n",
              "    90% {\n",
              "      border-color: transparent;\n",
              "      border-bottom-color: var(--fill-color);\n",
              "    }\n",
              "  }\n",
              "</style>\n",
              "\n",
              "  <script>\n",
              "    async function quickchart(key) {\n",
              "      const quickchartButtonEl =\n",
              "        document.querySelector('#' + key + ' button');\n",
              "      quickchartButtonEl.disabled = true;  // To prevent multiple clicks.\n",
              "      quickchartButtonEl.classList.add('colab-df-spinner');\n",
              "      try {\n",
              "        const charts = await google.colab.kernel.invokeFunction(\n",
              "            'suggestCharts', [key], {});\n",
              "      } catch (error) {\n",
              "        console.error('Error during call to suggestCharts:', error);\n",
              "      }\n",
              "      quickchartButtonEl.classList.remove('colab-df-spinner');\n",
              "      quickchartButtonEl.classList.add('colab-df-quickchart-complete');\n",
              "    }\n",
              "    (() => {\n",
              "      let quickchartButtonEl =\n",
              "        document.querySelector('#df-876519cf-ed9f-4128-9f27-9349b3fe002f button');\n",
              "      quickchartButtonEl.style.display =\n",
              "        google.colab.kernel.accessAllowed ? 'block' : 'none';\n",
              "    })();\n",
              "  </script>\n",
              "</div>\n",
              "\n",
              "    </div>\n",
              "  </div>\n"
            ],
            "application/vnd.google.colaboratory.intrinsic+json": {
              "type": "dataframe",
              "variable_name": "df"
            }
          },
          "metadata": {},
          "execution_count": 3
        }
      ]
    },
    {
      "cell_type": "code",
      "source": [
        "# 특수문자 제거\n",
        "import string\n",
        "string.punctuation"
      ],
      "metadata": {
        "colab": {
          "base_uri": "https://localhost:8080/",
          "height": 35
        },
        "id": "Xp74PNm4nEhj",
        "outputId": "7ba8c65a-0eed-4ff9-8c6d-e8e5e7315d62"
      },
      "execution_count": 4,
      "outputs": [
        {
          "output_type": "execute_result",
          "data": {
            "text/plain": [
              "'!\"#$%&\\'()*+,-./:;<=>?@[\\\\]^_`{|}~'"
            ],
            "application/vnd.google.colaboratory.intrinsic+json": {
              "type": "string"
            }
          },
          "metadata": {},
          "execution_count": 4
        }
      ]
    },
    {
      "cell_type": "code",
      "source": [
        "# 특수문자 제거하는 정규식\n",
        "import re\n",
        "pattern = f'[{re.escape(string.punctuation)}]'\n",
        "# 1\n",
        "print( re.sub(pattern, '', 'Hello, world!') )\n",
        "\n",
        "# 2\n",
        "re_pattern = re.compile(pattern)\n",
        "print( re_pattern.sub('', 'Hello, world!') )\n"
      ],
      "metadata": {
        "colab": {
          "base_uri": "https://localhost:8080/"
        },
        "id": "9PaGD9l7nSS-",
        "outputId": "b4111f8d-3ac5-4cf3-8c98-44025984291f"
      },
      "execution_count": 5,
      "outputs": [
        {
          "output_type": "stream",
          "name": "stdout",
          "text": [
            "Hello world\n",
            "Hello world\n"
          ]
        }
      ]
    },
    {
      "cell_type": "code",
      "source": [
        "train_pos_data = df[df['is_duplicate'] == 1]\n",
        "train_neg_data = df[df['is_duplicate'] == 0]\n",
        "# 두개 데이터의 차이\n",
        "class_diff = len(train_neg_data) - len(train_pos_data)\n",
        "print(class_diff)\n",
        "# 샘플링 편향을 보이기때문에.. 0, 1 질문의 비율에 따라 샘플링 비율계산\n",
        "# (class_diff / len(train_neg_data)) 비중복 질문에대한 중복질문의 비율\n",
        "sample_frac =1 - (class_diff / len(train_neg_data))  # 비중복 질문의 개수를 줄여서 클래스 균형을 맞춤\n",
        "print(sample_frac)\n",
        "train_neg_data = train_neg_data.sample(frac=sample_frac)  # 비율에 따라서 비 중복 질문 데이터를 샘플링 - undersample과 유사"
      ],
      "metadata": {
        "colab": {
          "base_uri": "https://localhost:8080/"
        },
        "id": "zMumnkewnvaW",
        "outputId": "fe2ef239-c69e-4cb6-e280-1fa0d0b97d59"
      },
      "execution_count": 6,
      "outputs": [
        {
          "output_type": "stream",
          "name": "stdout",
          "text": [
            "105739\n",
            "0.5854104177694133\n"
          ]
        }
      ]
    },
    {
      "cell_type": "code",
      "source": [
        "len(train_pos_data), len(train_neg_data)"
      ],
      "metadata": {
        "colab": {
          "base_uri": "https://localhost:8080/"
        },
        "id": "Fg_uqPc3ole2",
        "outputId": "e47f3674-6f64-4479-9991-972a46e04764"
      },
      "execution_count": 7,
      "outputs": [
        {
          "output_type": "execute_result",
          "data": {
            "text/plain": [
              "(149306, 149306)"
            ]
          },
          "metadata": {},
          "execution_count": 7
        }
      ]
    },
    {
      "cell_type": "code",
      "source": [
        "# 합치기\n",
        "train_data = pd.concat([train_pos_data, train_neg_data])"
      ],
      "metadata": {
        "id": "p2DXSzyMqQNH"
      },
      "execution_count": 8,
      "outputs": []
    },
    {
      "cell_type": "code",
      "source": [
        "train_data = train_data.reset_index(drop=True)"
      ],
      "metadata": {
        "id": "NZLgMaTRqu6V"
      },
      "execution_count": 9,
      "outputs": []
    },
    {
      "cell_type": "code",
      "source": [
        "train_data = train_data.dropna()"
      ],
      "metadata": {
        "id": "vJlzCqMfrAPT"
      },
      "execution_count": 10,
      "outputs": []
    },
    {
      "cell_type": "code",
      "source": [
        "filterred_question1 = train_data['question1'].apply(lambda x: re.sub(pattern, '', x))\n",
        "filterred_question2 = train_data['question2'].apply(lambda x: re.sub(pattern, '', x))"
      ],
      "metadata": {
        "id": "2CLYkdoRpy71"
      },
      "execution_count": 11,
      "outputs": []
    },
    {
      "cell_type": "code",
      "source": [
        "filterred_question1 = filterred_question1.apply(lambda x: x.lower())\n",
        "filterred_question2 = filterred_question2.apply(lambda x: x.lower())"
      ],
      "metadata": {
        "id": "4Mn0ROiLrPbb"
      },
      "execution_count": 12,
      "outputs": []
    },
    {
      "cell_type": "code",
      "source": [
        "import tensorflow as tf\n",
        "import numpy as np\n",
        "# Tokenizer : 패딩작업(동일한크기), 빈도기반 인덱싱 --> 딥러닝 모델의 데이터로 인기\n",
        "from tensorflow.keras.preprocessing.text import Tokenizer\n",
        "tokenizer = Tokenizer() # 숫자 시퀀스로 변환 이 데이터는 딥러닝 모델에 입력할수 있는 형태로 변\n",
        "tokenizer.fit_on_texts(filterred_question1 + filterred_question2)\n",
        "\n",
        "question1_sequence = tokenizer.texts_to_sequences(filterred_question1)\n",
        "question2_sequence = tokenizer.texts_to_sequences(filterred_question2)\n",
        "# 길이를 맞춰준다\n",
        "# padding='post' 시퀀스의 끝에 추가\n",
        "q1_data = tf.keras.preprocessing.sequence.pad_sequences(question1_sequence, maxlen=31,padding='post')\n",
        "q2_data = tf.keras.preprocessing.sequence.pad_sequences(question2_sequence, maxlen=31,padding='post')\n",
        "# 딕셔너리 단어인덱스와 패딩토큰을 저장\n",
        "word_vocab = {}\n",
        "word_vocab = tokenizer.word_index\n",
        "word_vocab['<PAD>'] = 0  # 패딩토큰을 위한 인덱스, 구분자 , 다른인덱스 충돌\n",
        "\n",
        "labels = np.array(train_data['is_duplicate'], dtype=int)"
      ],
      "metadata": {
        "id": "IjKDA2xBrP19"
      },
      "execution_count": 14,
      "outputs": []
    },
    {
      "cell_type": "code",
      "source": [
        "# 환경변수를 저장할 json파일을 생성\n",
        "data_config = {}\n",
        "data_config['vocab'] = word_vocab\n",
        "data_config['vocab_size'] = len(word_vocab)\n",
        "\n",
        "train_q1_data = 'train_q1.npy'\n",
        "train_q2_data = 'train_q2.npy'\n",
        "train_label_data = 'train_label.npy'\n",
        "data_configs = 'data_configs.json'\n",
        "\n",
        "np.save(train_q1_data, q1_data)\n",
        "np.save(train_q2_data, q2_data)\n",
        "np.save(train_label_data, labels)\n",
        "\n",
        "import json\n",
        "json.dump(data_config, open(data_configs, 'w'))"
      ],
      "metadata": {
        "id": "IVRWMKl21Xk4"
      },
      "execution_count": 15,
      "outputs": []
    },
    {
      "cell_type": "markdown",
      "source": [
        "- 머신러닝 VS 딥러닝(LSTM, CNN)"
      ],
      "metadata": {
        "id": "QKzgtaJI3ANo"
      }
    },
    {
      "cell_type": "code",
      "source": [
        "# XGBoost"
      ],
      "metadata": {
        "id": "whWCl3j31Xnn"
      },
      "execution_count": null,
      "outputs": []
    },
    {
      "cell_type": "code",
      "source": [
        "import pandas as pd\n",
        "import numpy as np\n",
        "import json\n",
        "from sklearn.model_selection import train_test_split\n",
        "import tensorflow as tf"
      ],
      "metadata": {
        "id": "nIs1-zfo1Xp4"
      },
      "execution_count": 16,
      "outputs": []
    },
    {
      "cell_type": "code",
      "source": [
        "# 데이터 가져오기\n",
        "train_q1_data = np.load('/content/train_q1.npy')\n",
        "train_q2_data = np.load('/content/train_q2.npy')\n",
        "train_label_data = np.load('/content/train_label.npy')\n",
        "train_input = np.stack((train_q1_data,train_q2_data),axis=1)  # 데이터를 두번째 차원에서 쌍이도록 설정\n",
        "train_q1_data.shape,train_q2_data.shape, train_input.shape  # (298609, 2, 31)\n",
        "# 두개의 입력을 요구하는 모델에 쉽게 적용하기위해서 모양을 맞춤\n",
        "# 두개의 질문쌍을 나타내는 단일구조를 생성, 길이도 동일, cnn, rnn계열에 적용"
      ],
      "metadata": {
        "colab": {
          "base_uri": "https://localhost:8080/"
        },
        "id": "Q7epDovo1XsV",
        "outputId": "a15cc289-afc2-4cff-a4a1-ed6c8a4d757c"
      },
      "execution_count": 17,
      "outputs": [
        {
          "output_type": "execute_result",
          "data": {
            "text/plain": [
              "((298612, 31), (298612, 31), (298612, 2, 31))"
            ]
          },
          "metadata": {},
          "execution_count": 17
        }
      ]
    },
    {
      "cell_type": "code",
      "source": [
        "a = np.array([[1,2,3],[4,5,6]])\n",
        "b = np.array([[7,8,9],[10,11,12]])\n",
        "c = np.stack((a,b),axis=1)\n",
        "print(c.shape)\n",
        "c"
      ],
      "metadata": {
        "colab": {
          "base_uri": "https://localhost:8080/"
        },
        "id": "uVERxtdn53OA",
        "outputId": "afa0140e-eea5-4824-b342-2118f7a920de"
      },
      "execution_count": 18,
      "outputs": [
        {
          "output_type": "stream",
          "name": "stdout",
          "text": [
            "(2, 2, 3)\n"
          ]
        },
        {
          "output_type": "execute_result",
          "data": {
            "text/plain": [
              "array([[[ 1,  2,  3],\n",
              "        [ 7,  8,  9]],\n",
              "\n",
              "       [[ 4,  5,  6],\n",
              "        [10, 11, 12]]])"
            ]
          },
          "metadata": {},
          "execution_count": 18
        }
      ]
    },
    {
      "cell_type": "code",
      "source": [
        "from sklearn.model_selection import train_test_split\n",
        "x_train, x_val, y_train, y_val = train_test_split(train_input, train_label_data, test_size=0.2, random_state=42)"
      ],
      "metadata": {
        "id": "iLyjQmJf6P7V"
      },
      "execution_count": 19,
      "outputs": []
    },
    {
      "cell_type": "code",
      "source": [
        "x_train.shape"
      ],
      "metadata": {
        "colab": {
          "base_uri": "https://localhost:8080/"
        },
        "id": "H1RMww376n-I",
        "outputId": "4f45aa27-80a9-46c0-d662-96b90618d7f3"
      },
      "execution_count": 20,
      "outputs": [
        {
          "output_type": "execute_result",
          "data": {
            "text/plain": [
              "(238889, 2, 31)"
            ]
          },
          "metadata": {},
          "execution_count": 20
        }
      ]
    },
    {
      "cell_type": "code",
      "source": [
        "#1 머신러닝\n",
        "import xgboost as xgb\n",
        "# 각행을 합쳐서 1D 배열을 생성, 각 질문쌍의 벡터를 합쳐서 하나의 벡터로 변환\n",
        "tain_data = xgb.DMatrix(data=x_train.sum(axis=1), label=y_train)\n",
        "eval_data = xgb.DMatrix(data=x_val.sum(axis=1), label=y_val)\n",
        "# 두 개의 데이터를 튜플로 묶어\n",
        "data_list = [(tain_data, 'train'), (eval_data, 'valid')]\n",
        "xgb_model = xgb.train(params={\n",
        "          'objective': 'binary:logistic',  # 이진분류\n",
        "          'eval_metric': 'rmse'\n",
        "        },\n",
        "          dtrain=tain_data,\n",
        "          num_boost_round=1000,  # 1000번의 반복을 통해 모델을 훈련\n",
        "          evals=data_list,\n",
        "          early_stopping_rounds=10)"
      ],
      "metadata": {
        "colab": {
          "base_uri": "https://localhost:8080/"
        },
        "collapsed": true,
        "id": "N2pRDBTt1Xup",
        "outputId": "f4364a59-6034-43c8-b602-f7fa59762d19"
      },
      "execution_count": 21,
      "outputs": [
        {
          "output_type": "stream",
          "name": "stdout",
          "text": [
            "[0]\ttrain-rmse:0.48399\tvalid-rmse:0.48418\n",
            "[1]\ttrain-rmse:0.47333\tvalid-rmse:0.47405\n",
            "[2]\ttrain-rmse:0.46655\tvalid-rmse:0.46731\n",
            "[3]\ttrain-rmse:0.46195\tvalid-rmse:0.46289\n",
            "[4]\ttrain-rmse:0.45818\tvalid-rmse:0.45932\n",
            "[5]\ttrain-rmse:0.45525\tvalid-rmse:0.45663\n",
            "[6]\ttrain-rmse:0.45336\tvalid-rmse:0.45494\n",
            "[7]\ttrain-rmse:0.45198\tvalid-rmse:0.45361\n",
            "[8]\ttrain-rmse:0.45056\tvalid-rmse:0.45236\n",
            "[9]\ttrain-rmse:0.44966\tvalid-rmse:0.45152\n",
            "[10]\ttrain-rmse:0.44775\tvalid-rmse:0.44995\n",
            "[11]\ttrain-rmse:0.44723\tvalid-rmse:0.44949\n",
            "[12]\ttrain-rmse:0.44410\tvalid-rmse:0.44657\n",
            "[13]\ttrain-rmse:0.44315\tvalid-rmse:0.44576\n",
            "[14]\ttrain-rmse:0.44281\tvalid-rmse:0.44549\n",
            "[15]\ttrain-rmse:0.44206\tvalid-rmse:0.44488\n",
            "[16]\ttrain-rmse:0.44180\tvalid-rmse:0.44468\n",
            "[17]\ttrain-rmse:0.44113\tvalid-rmse:0.44409\n",
            "[18]\ttrain-rmse:0.44057\tvalid-rmse:0.44374\n",
            "[19]\ttrain-rmse:0.43941\tvalid-rmse:0.44272\n",
            "[20]\ttrain-rmse:0.43920\tvalid-rmse:0.44259\n",
            "[21]\ttrain-rmse:0.43859\tvalid-rmse:0.44217\n",
            "[22]\ttrain-rmse:0.43845\tvalid-rmse:0.44206\n",
            "[23]\ttrain-rmse:0.43824\tvalid-rmse:0.44190\n",
            "[24]\ttrain-rmse:0.43728\tvalid-rmse:0.44118\n",
            "[25]\ttrain-rmse:0.43711\tvalid-rmse:0.44109\n",
            "[26]\ttrain-rmse:0.43622\tvalid-rmse:0.44040\n",
            "[27]\ttrain-rmse:0.43599\tvalid-rmse:0.44024\n",
            "[28]\ttrain-rmse:0.43520\tvalid-rmse:0.43961\n",
            "[29]\ttrain-rmse:0.43420\tvalid-rmse:0.43873\n",
            "[30]\ttrain-rmse:0.43404\tvalid-rmse:0.43858\n",
            "[31]\ttrain-rmse:0.43383\tvalid-rmse:0.43844\n",
            "[32]\ttrain-rmse:0.43316\tvalid-rmse:0.43793\n",
            "[33]\ttrain-rmse:0.43306\tvalid-rmse:0.43787\n",
            "[34]\ttrain-rmse:0.43294\tvalid-rmse:0.43778\n",
            "[35]\ttrain-rmse:0.43279\tvalid-rmse:0.43770\n",
            "[36]\ttrain-rmse:0.43242\tvalid-rmse:0.43741\n",
            "[37]\ttrain-rmse:0.43210\tvalid-rmse:0.43714\n",
            "[38]\ttrain-rmse:0.43187\tvalid-rmse:0.43700\n",
            "[39]\ttrain-rmse:0.43152\tvalid-rmse:0.43669\n",
            "[40]\ttrain-rmse:0.43141\tvalid-rmse:0.43662\n",
            "[41]\ttrain-rmse:0.43137\tvalid-rmse:0.43657\n",
            "[42]\ttrain-rmse:0.43124\tvalid-rmse:0.43656\n",
            "[43]\ttrain-rmse:0.43086\tvalid-rmse:0.43626\n",
            "[44]\ttrain-rmse:0.43048\tvalid-rmse:0.43605\n",
            "[45]\ttrain-rmse:0.42975\tvalid-rmse:0.43550\n",
            "[46]\ttrain-rmse:0.42945\tvalid-rmse:0.43534\n",
            "[47]\ttrain-rmse:0.42857\tvalid-rmse:0.43461\n",
            "[48]\ttrain-rmse:0.42849\tvalid-rmse:0.43458\n",
            "[49]\ttrain-rmse:0.42835\tvalid-rmse:0.43454\n",
            "[50]\ttrain-rmse:0.42800\tvalid-rmse:0.43429\n",
            "[51]\ttrain-rmse:0.42785\tvalid-rmse:0.43428\n",
            "[52]\ttrain-rmse:0.42779\tvalid-rmse:0.43422\n",
            "[53]\ttrain-rmse:0.42764\tvalid-rmse:0.43416\n",
            "[54]\ttrain-rmse:0.42760\tvalid-rmse:0.43415\n",
            "[55]\ttrain-rmse:0.42754\tvalid-rmse:0.43412\n",
            "[56]\ttrain-rmse:0.42727\tvalid-rmse:0.43394\n",
            "[57]\ttrain-rmse:0.42674\tvalid-rmse:0.43361\n",
            "[58]\ttrain-rmse:0.42627\tvalid-rmse:0.43332\n",
            "[59]\ttrain-rmse:0.42616\tvalid-rmse:0.43328\n",
            "[60]\ttrain-rmse:0.42602\tvalid-rmse:0.43319\n",
            "[61]\ttrain-rmse:0.42590\tvalid-rmse:0.43316\n",
            "[62]\ttrain-rmse:0.42526\tvalid-rmse:0.43273\n",
            "[63]\ttrain-rmse:0.42463\tvalid-rmse:0.43230\n",
            "[64]\ttrain-rmse:0.42400\tvalid-rmse:0.43185\n",
            "[65]\ttrain-rmse:0.42355\tvalid-rmse:0.43164\n",
            "[66]\ttrain-rmse:0.42315\tvalid-rmse:0.43145\n",
            "[67]\ttrain-rmse:0.42313\tvalid-rmse:0.43143\n",
            "[68]\ttrain-rmse:0.42297\tvalid-rmse:0.43137\n",
            "[69]\ttrain-rmse:0.42285\tvalid-rmse:0.43134\n",
            "[70]\ttrain-rmse:0.42275\tvalid-rmse:0.43130\n",
            "[71]\ttrain-rmse:0.42246\tvalid-rmse:0.43118\n",
            "[72]\ttrain-rmse:0.42238\tvalid-rmse:0.43117\n",
            "[73]\ttrain-rmse:0.42236\tvalid-rmse:0.43117\n",
            "[74]\ttrain-rmse:0.42230\tvalid-rmse:0.43116\n",
            "[75]\ttrain-rmse:0.42226\tvalid-rmse:0.43114\n",
            "[76]\ttrain-rmse:0.42196\tvalid-rmse:0.43105\n",
            "[77]\ttrain-rmse:0.42193\tvalid-rmse:0.43102\n",
            "[78]\ttrain-rmse:0.42166\tvalid-rmse:0.43093\n",
            "[79]\ttrain-rmse:0.42113\tvalid-rmse:0.43056\n",
            "[80]\ttrain-rmse:0.42077\tvalid-rmse:0.43040\n",
            "[81]\ttrain-rmse:0.42048\tvalid-rmse:0.43024\n",
            "[82]\ttrain-rmse:0.42012\tvalid-rmse:0.43007\n",
            "[83]\ttrain-rmse:0.42004\tvalid-rmse:0.43004\n",
            "[84]\ttrain-rmse:0.42000\tvalid-rmse:0.43003\n",
            "[85]\ttrain-rmse:0.41960\tvalid-rmse:0.42982\n",
            "[86]\ttrain-rmse:0.41942\tvalid-rmse:0.42969\n",
            "[87]\ttrain-rmse:0.41911\tvalid-rmse:0.42953\n",
            "[88]\ttrain-rmse:0.41866\tvalid-rmse:0.42928\n",
            "[89]\ttrain-rmse:0.41832\tvalid-rmse:0.42916\n",
            "[90]\ttrain-rmse:0.41796\tvalid-rmse:0.42902\n",
            "[91]\ttrain-rmse:0.41760\tvalid-rmse:0.42886\n",
            "[92]\ttrain-rmse:0.41751\tvalid-rmse:0.42884\n",
            "[93]\ttrain-rmse:0.41725\tvalid-rmse:0.42877\n",
            "[94]\ttrain-rmse:0.41716\tvalid-rmse:0.42875\n",
            "[95]\ttrain-rmse:0.41687\tvalid-rmse:0.42864\n",
            "[96]\ttrain-rmse:0.41666\tvalid-rmse:0.42862\n",
            "[97]\ttrain-rmse:0.41663\tvalid-rmse:0.42861\n",
            "[98]\ttrain-rmse:0.41653\tvalid-rmse:0.42859\n",
            "[99]\ttrain-rmse:0.41627\tvalid-rmse:0.42855\n",
            "[100]\ttrain-rmse:0.41623\tvalid-rmse:0.42854\n",
            "[101]\ttrain-rmse:0.41594\tvalid-rmse:0.42845\n",
            "[102]\ttrain-rmse:0.41562\tvalid-rmse:0.42830\n",
            "[103]\ttrain-rmse:0.41544\tvalid-rmse:0.42823\n",
            "[104]\ttrain-rmse:0.41535\tvalid-rmse:0.42820\n",
            "[105]\ttrain-rmse:0.41527\tvalid-rmse:0.42819\n",
            "[106]\ttrain-rmse:0.41518\tvalid-rmse:0.42816\n",
            "[107]\ttrain-rmse:0.41509\tvalid-rmse:0.42810\n",
            "[108]\ttrain-rmse:0.41467\tvalid-rmse:0.42788\n",
            "[109]\ttrain-rmse:0.41429\tvalid-rmse:0.42755\n",
            "[110]\ttrain-rmse:0.41390\tvalid-rmse:0.42731\n",
            "[111]\ttrain-rmse:0.41361\tvalid-rmse:0.42725\n",
            "[112]\ttrain-rmse:0.41357\tvalid-rmse:0.42725\n",
            "[113]\ttrain-rmse:0.41352\tvalid-rmse:0.42723\n",
            "[114]\ttrain-rmse:0.41345\tvalid-rmse:0.42721\n",
            "[115]\ttrain-rmse:0.41338\tvalid-rmse:0.42719\n",
            "[116]\ttrain-rmse:0.41317\tvalid-rmse:0.42716\n",
            "[117]\ttrain-rmse:0.41309\tvalid-rmse:0.42716\n",
            "[118]\ttrain-rmse:0.41289\tvalid-rmse:0.42701\n",
            "[119]\ttrain-rmse:0.41262\tvalid-rmse:0.42690\n",
            "[120]\ttrain-rmse:0.41219\tvalid-rmse:0.42662\n",
            "[121]\ttrain-rmse:0.41190\tvalid-rmse:0.42651\n",
            "[122]\ttrain-rmse:0.41176\tvalid-rmse:0.42647\n",
            "[123]\ttrain-rmse:0.41151\tvalid-rmse:0.42641\n",
            "[124]\ttrain-rmse:0.41136\tvalid-rmse:0.42630\n",
            "[125]\ttrain-rmse:0.41117\tvalid-rmse:0.42625\n",
            "[126]\ttrain-rmse:0.41115\tvalid-rmse:0.42625\n",
            "[127]\ttrain-rmse:0.41105\tvalid-rmse:0.42623\n",
            "[128]\ttrain-rmse:0.41072\tvalid-rmse:0.42611\n",
            "[129]\ttrain-rmse:0.41037\tvalid-rmse:0.42597\n",
            "[130]\ttrain-rmse:0.41015\tvalid-rmse:0.42589\n",
            "[131]\ttrain-rmse:0.41000\tvalid-rmse:0.42585\n",
            "[132]\ttrain-rmse:0.40972\tvalid-rmse:0.42587\n",
            "[133]\ttrain-rmse:0.40962\tvalid-rmse:0.42586\n",
            "[134]\ttrain-rmse:0.40940\tvalid-rmse:0.42578\n",
            "[135]\ttrain-rmse:0.40924\tvalid-rmse:0.42575\n",
            "[136]\ttrain-rmse:0.40883\tvalid-rmse:0.42553\n",
            "[137]\ttrain-rmse:0.40855\tvalid-rmse:0.42534\n",
            "[138]\ttrain-rmse:0.40850\tvalid-rmse:0.42532\n",
            "[139]\ttrain-rmse:0.40829\tvalid-rmse:0.42526\n",
            "[140]\ttrain-rmse:0.40823\tvalid-rmse:0.42526\n",
            "[141]\ttrain-rmse:0.40817\tvalid-rmse:0.42526\n",
            "[142]\ttrain-rmse:0.40808\tvalid-rmse:0.42521\n",
            "[143]\ttrain-rmse:0.40783\tvalid-rmse:0.42511\n",
            "[144]\ttrain-rmse:0.40775\tvalid-rmse:0.42509\n",
            "[145]\ttrain-rmse:0.40746\tvalid-rmse:0.42500\n",
            "[146]\ttrain-rmse:0.40715\tvalid-rmse:0.42493\n",
            "[147]\ttrain-rmse:0.40699\tvalid-rmse:0.42491\n",
            "[148]\ttrain-rmse:0.40688\tvalid-rmse:0.42487\n",
            "[149]\ttrain-rmse:0.40671\tvalid-rmse:0.42483\n",
            "[150]\ttrain-rmse:0.40661\tvalid-rmse:0.42480\n",
            "[151]\ttrain-rmse:0.40628\tvalid-rmse:0.42462\n",
            "[152]\ttrain-rmse:0.40614\tvalid-rmse:0.42463\n",
            "[153]\ttrain-rmse:0.40584\tvalid-rmse:0.42451\n",
            "[154]\ttrain-rmse:0.40578\tvalid-rmse:0.42450\n",
            "[155]\ttrain-rmse:0.40577\tvalid-rmse:0.42451\n",
            "[156]\ttrain-rmse:0.40562\tvalid-rmse:0.42446\n",
            "[157]\ttrain-rmse:0.40536\tvalid-rmse:0.42437\n",
            "[158]\ttrain-rmse:0.40513\tvalid-rmse:0.42430\n",
            "[159]\ttrain-rmse:0.40511\tvalid-rmse:0.42430\n",
            "[160]\ttrain-rmse:0.40504\tvalid-rmse:0.42426\n",
            "[161]\ttrain-rmse:0.40482\tvalid-rmse:0.42424\n",
            "[162]\ttrain-rmse:0.40462\tvalid-rmse:0.42422\n",
            "[163]\ttrain-rmse:0.40444\tvalid-rmse:0.42417\n",
            "[164]\ttrain-rmse:0.40437\tvalid-rmse:0.42419\n",
            "[165]\ttrain-rmse:0.40433\tvalid-rmse:0.42419\n",
            "[166]\ttrain-rmse:0.40423\tvalid-rmse:0.42415\n",
            "[167]\ttrain-rmse:0.40404\tvalid-rmse:0.42418\n",
            "[168]\ttrain-rmse:0.40378\tvalid-rmse:0.42413\n",
            "[169]\ttrain-rmse:0.40361\tvalid-rmse:0.42413\n",
            "[170]\ttrain-rmse:0.40344\tvalid-rmse:0.42412\n",
            "[171]\ttrain-rmse:0.40336\tvalid-rmse:0.42412\n",
            "[172]\ttrain-rmse:0.40313\tvalid-rmse:0.42405\n",
            "[173]\ttrain-rmse:0.40278\tvalid-rmse:0.42390\n",
            "[174]\ttrain-rmse:0.40254\tvalid-rmse:0.42381\n",
            "[175]\ttrain-rmse:0.40251\tvalid-rmse:0.42381\n",
            "[176]\ttrain-rmse:0.40238\tvalid-rmse:0.42377\n",
            "[177]\ttrain-rmse:0.40227\tvalid-rmse:0.42369\n",
            "[178]\ttrain-rmse:0.40203\tvalid-rmse:0.42362\n",
            "[179]\ttrain-rmse:0.40181\tvalid-rmse:0.42357\n",
            "[180]\ttrain-rmse:0.40154\tvalid-rmse:0.42350\n",
            "[181]\ttrain-rmse:0.40142\tvalid-rmse:0.42346\n",
            "[182]\ttrain-rmse:0.40140\tvalid-rmse:0.42346\n",
            "[183]\ttrain-rmse:0.40137\tvalid-rmse:0.42346\n",
            "[184]\ttrain-rmse:0.40125\tvalid-rmse:0.42343\n",
            "[185]\ttrain-rmse:0.40121\tvalid-rmse:0.42342\n",
            "[186]\ttrain-rmse:0.40120\tvalid-rmse:0.42344\n",
            "[187]\ttrain-rmse:0.40111\tvalid-rmse:0.42344\n",
            "[188]\ttrain-rmse:0.40083\tvalid-rmse:0.42335\n",
            "[189]\ttrain-rmse:0.40058\tvalid-rmse:0.42335\n",
            "[190]\ttrain-rmse:0.40031\tvalid-rmse:0.42327\n",
            "[191]\ttrain-rmse:0.40020\tvalid-rmse:0.42321\n",
            "[192]\ttrain-rmse:0.40015\tvalid-rmse:0.42322\n",
            "[193]\ttrain-rmse:0.39989\tvalid-rmse:0.42313\n",
            "[194]\ttrain-rmse:0.39968\tvalid-rmse:0.42307\n",
            "[195]\ttrain-rmse:0.39943\tvalid-rmse:0.42299\n",
            "[196]\ttrain-rmse:0.39924\tvalid-rmse:0.42294\n",
            "[197]\ttrain-rmse:0.39906\tvalid-rmse:0.42293\n",
            "[198]\ttrain-rmse:0.39897\tvalid-rmse:0.42292\n",
            "[199]\ttrain-rmse:0.39873\tvalid-rmse:0.42286\n",
            "[200]\ttrain-rmse:0.39855\tvalid-rmse:0.42284\n",
            "[201]\ttrain-rmse:0.39838\tvalid-rmse:0.42277\n",
            "[202]\ttrain-rmse:0.39829\tvalid-rmse:0.42273\n",
            "[203]\ttrain-rmse:0.39819\tvalid-rmse:0.42273\n",
            "[204]\ttrain-rmse:0.39813\tvalid-rmse:0.42271\n",
            "[205]\ttrain-rmse:0.39809\tvalid-rmse:0.42270\n",
            "[206]\ttrain-rmse:0.39796\tvalid-rmse:0.42267\n",
            "[207]\ttrain-rmse:0.39776\tvalid-rmse:0.42261\n",
            "[208]\ttrain-rmse:0.39764\tvalid-rmse:0.42261\n",
            "[209]\ttrain-rmse:0.39737\tvalid-rmse:0.42251\n",
            "[210]\ttrain-rmse:0.39720\tvalid-rmse:0.42246\n",
            "[211]\ttrain-rmse:0.39697\tvalid-rmse:0.42241\n",
            "[212]\ttrain-rmse:0.39676\tvalid-rmse:0.42239\n",
            "[213]\ttrain-rmse:0.39666\tvalid-rmse:0.42241\n",
            "[214]\ttrain-rmse:0.39649\tvalid-rmse:0.42231\n",
            "[215]\ttrain-rmse:0.39620\tvalid-rmse:0.42225\n",
            "[216]\ttrain-rmse:0.39597\tvalid-rmse:0.42218\n",
            "[217]\ttrain-rmse:0.39578\tvalid-rmse:0.42212\n",
            "[218]\ttrain-rmse:0.39570\tvalid-rmse:0.42213\n",
            "[219]\ttrain-rmse:0.39564\tvalid-rmse:0.42213\n",
            "[220]\ttrain-rmse:0.39539\tvalid-rmse:0.42210\n",
            "[221]\ttrain-rmse:0.39525\tvalid-rmse:0.42203\n",
            "[222]\ttrain-rmse:0.39503\tvalid-rmse:0.42198\n",
            "[223]\ttrain-rmse:0.39482\tvalid-rmse:0.42189\n",
            "[224]\ttrain-rmse:0.39473\tvalid-rmse:0.42186\n",
            "[225]\ttrain-rmse:0.39460\tvalid-rmse:0.42183\n",
            "[226]\ttrain-rmse:0.39451\tvalid-rmse:0.42182\n",
            "[227]\ttrain-rmse:0.39423\tvalid-rmse:0.42179\n",
            "[228]\ttrain-rmse:0.39407\tvalid-rmse:0.42175\n",
            "[229]\ttrain-rmse:0.39392\tvalid-rmse:0.42170\n",
            "[230]\ttrain-rmse:0.39373\tvalid-rmse:0.42165\n",
            "[231]\ttrain-rmse:0.39358\tvalid-rmse:0.42167\n",
            "[232]\ttrain-rmse:0.39348\tvalid-rmse:0.42163\n",
            "[233]\ttrain-rmse:0.39316\tvalid-rmse:0.42150\n",
            "[234]\ttrain-rmse:0.39298\tvalid-rmse:0.42144\n",
            "[235]\ttrain-rmse:0.39275\tvalid-rmse:0.42141\n",
            "[236]\ttrain-rmse:0.39267\tvalid-rmse:0.42142\n",
            "[237]\ttrain-rmse:0.39264\tvalid-rmse:0.42141\n",
            "[238]\ttrain-rmse:0.39261\tvalid-rmse:0.42139\n",
            "[239]\ttrain-rmse:0.39255\tvalid-rmse:0.42138\n",
            "[240]\ttrain-rmse:0.39241\tvalid-rmse:0.42136\n",
            "[241]\ttrain-rmse:0.39217\tvalid-rmse:0.42128\n",
            "[242]\ttrain-rmse:0.39195\tvalid-rmse:0.42121\n",
            "[243]\ttrain-rmse:0.39167\tvalid-rmse:0.42109\n",
            "[244]\ttrain-rmse:0.39147\tvalid-rmse:0.42105\n",
            "[245]\ttrain-rmse:0.39125\tvalid-rmse:0.42100\n",
            "[246]\ttrain-rmse:0.39109\tvalid-rmse:0.42097\n",
            "[247]\ttrain-rmse:0.39087\tvalid-rmse:0.42093\n",
            "[248]\ttrain-rmse:0.39077\tvalid-rmse:0.42091\n",
            "[249]\ttrain-rmse:0.39068\tvalid-rmse:0.42087\n",
            "[250]\ttrain-rmse:0.39066\tvalid-rmse:0.42087\n",
            "[251]\ttrain-rmse:0.39064\tvalid-rmse:0.42087\n",
            "[252]\ttrain-rmse:0.39057\tvalid-rmse:0.42084\n",
            "[253]\ttrain-rmse:0.39054\tvalid-rmse:0.42084\n",
            "[254]\ttrain-rmse:0.39042\tvalid-rmse:0.42082\n",
            "[255]\ttrain-rmse:0.39018\tvalid-rmse:0.42074\n",
            "[256]\ttrain-rmse:0.39013\tvalid-rmse:0.42074\n",
            "[257]\ttrain-rmse:0.38989\tvalid-rmse:0.42072\n",
            "[258]\ttrain-rmse:0.38970\tvalid-rmse:0.42065\n",
            "[259]\ttrain-rmse:0.38946\tvalid-rmse:0.42060\n",
            "[260]\ttrain-rmse:0.38926\tvalid-rmse:0.42057\n",
            "[261]\ttrain-rmse:0.38913\tvalid-rmse:0.42056\n",
            "[262]\ttrain-rmse:0.38890\tvalid-rmse:0.42054\n",
            "[263]\ttrain-rmse:0.38869\tvalid-rmse:0.42051\n",
            "[264]\ttrain-rmse:0.38850\tvalid-rmse:0.42049\n",
            "[265]\ttrain-rmse:0.38837\tvalid-rmse:0.42046\n",
            "[266]\ttrain-rmse:0.38832\tvalid-rmse:0.42044\n",
            "[267]\ttrain-rmse:0.38816\tvalid-rmse:0.42042\n",
            "[268]\ttrain-rmse:0.38790\tvalid-rmse:0.42043\n",
            "[269]\ttrain-rmse:0.38767\tvalid-rmse:0.42041\n",
            "[270]\ttrain-rmse:0.38746\tvalid-rmse:0.42037\n",
            "[271]\ttrain-rmse:0.38736\tvalid-rmse:0.42036\n",
            "[272]\ttrain-rmse:0.38718\tvalid-rmse:0.42033\n",
            "[273]\ttrain-rmse:0.38706\tvalid-rmse:0.42029\n",
            "[274]\ttrain-rmse:0.38685\tvalid-rmse:0.42027\n",
            "[275]\ttrain-rmse:0.38667\tvalid-rmse:0.42025\n",
            "[276]\ttrain-rmse:0.38649\tvalid-rmse:0.42020\n",
            "[277]\ttrain-rmse:0.38639\tvalid-rmse:0.42018\n",
            "[278]\ttrain-rmse:0.38637\tvalid-rmse:0.42017\n",
            "[279]\ttrain-rmse:0.38635\tvalid-rmse:0.42016\n",
            "[280]\ttrain-rmse:0.38624\tvalid-rmse:0.42017\n",
            "[281]\ttrain-rmse:0.38615\tvalid-rmse:0.42015\n",
            "[282]\ttrain-rmse:0.38599\tvalid-rmse:0.42009\n",
            "[283]\ttrain-rmse:0.38577\tvalid-rmse:0.42010\n",
            "[284]\ttrain-rmse:0.38561\tvalid-rmse:0.42010\n",
            "[285]\ttrain-rmse:0.38551\tvalid-rmse:0.42008\n",
            "[286]\ttrain-rmse:0.38549\tvalid-rmse:0.42008\n",
            "[287]\ttrain-rmse:0.38530\tvalid-rmse:0.41998\n",
            "[288]\ttrain-rmse:0.38521\tvalid-rmse:0.41994\n",
            "[289]\ttrain-rmse:0.38498\tvalid-rmse:0.41999\n",
            "[290]\ttrain-rmse:0.38477\tvalid-rmse:0.41997\n",
            "[291]\ttrain-rmse:0.38461\tvalid-rmse:0.41995\n",
            "[292]\ttrain-rmse:0.38444\tvalid-rmse:0.41994\n",
            "[293]\ttrain-rmse:0.38420\tvalid-rmse:0.41989\n",
            "[294]\ttrain-rmse:0.38399\tvalid-rmse:0.41986\n",
            "[295]\ttrain-rmse:0.38379\tvalid-rmse:0.41984\n",
            "[296]\ttrain-rmse:0.38364\tvalid-rmse:0.41987\n",
            "[297]\ttrain-rmse:0.38347\tvalid-rmse:0.41981\n",
            "[298]\ttrain-rmse:0.38338\tvalid-rmse:0.41981\n",
            "[299]\ttrain-rmse:0.38323\tvalid-rmse:0.41977\n",
            "[300]\ttrain-rmse:0.38320\tvalid-rmse:0.41976\n",
            "[301]\ttrain-rmse:0.38314\tvalid-rmse:0.41974\n",
            "[302]\ttrain-rmse:0.38312\tvalid-rmse:0.41973\n",
            "[303]\ttrain-rmse:0.38308\tvalid-rmse:0.41974\n",
            "[304]\ttrain-rmse:0.38306\tvalid-rmse:0.41975\n",
            "[305]\ttrain-rmse:0.38304\tvalid-rmse:0.41974\n",
            "[306]\ttrain-rmse:0.38302\tvalid-rmse:0.41973\n",
            "[307]\ttrain-rmse:0.38302\tvalid-rmse:0.41973\n",
            "[308]\ttrain-rmse:0.38298\tvalid-rmse:0.41972\n",
            "[309]\ttrain-rmse:0.38281\tvalid-rmse:0.41973\n",
            "[310]\ttrain-rmse:0.38270\tvalid-rmse:0.41970\n",
            "[311]\ttrain-rmse:0.38251\tvalid-rmse:0.41969\n",
            "[312]\ttrain-rmse:0.38233\tvalid-rmse:0.41968\n",
            "[313]\ttrain-rmse:0.38213\tvalid-rmse:0.41963\n",
            "[314]\ttrain-rmse:0.38197\tvalid-rmse:0.41961\n",
            "[315]\ttrain-rmse:0.38177\tvalid-rmse:0.41955\n",
            "[316]\ttrain-rmse:0.38162\tvalid-rmse:0.41953\n",
            "[317]\ttrain-rmse:0.38143\tvalid-rmse:0.41952\n",
            "[318]\ttrain-rmse:0.38140\tvalid-rmse:0.41951\n",
            "[319]\ttrain-rmse:0.38125\tvalid-rmse:0.41953\n",
            "[320]\ttrain-rmse:0.38107\tvalid-rmse:0.41952\n",
            "[321]\ttrain-rmse:0.38086\tvalid-rmse:0.41950\n",
            "[322]\ttrain-rmse:0.38074\tvalid-rmse:0.41948\n",
            "[323]\ttrain-rmse:0.38058\tvalid-rmse:0.41945\n",
            "[324]\ttrain-rmse:0.38045\tvalid-rmse:0.41941\n",
            "[325]\ttrain-rmse:0.38042\tvalid-rmse:0.41941\n",
            "[326]\ttrain-rmse:0.38035\tvalid-rmse:0.41940\n",
            "[327]\ttrain-rmse:0.38017\tvalid-rmse:0.41939\n",
            "[328]\ttrain-rmse:0.37998\tvalid-rmse:0.41935\n",
            "[329]\ttrain-rmse:0.37980\tvalid-rmse:0.41929\n",
            "[330]\ttrain-rmse:0.37958\tvalid-rmse:0.41923\n",
            "[331]\ttrain-rmse:0.37938\tvalid-rmse:0.41922\n",
            "[332]\ttrain-rmse:0.37916\tvalid-rmse:0.41920\n",
            "[333]\ttrain-rmse:0.37896\tvalid-rmse:0.41920\n",
            "[334]\ttrain-rmse:0.37881\tvalid-rmse:0.41920\n",
            "[335]\ttrain-rmse:0.37863\tvalid-rmse:0.41911\n",
            "[336]\ttrain-rmse:0.37857\tvalid-rmse:0.41912\n",
            "[337]\ttrain-rmse:0.37847\tvalid-rmse:0.41911\n",
            "[338]\ttrain-rmse:0.37830\tvalid-rmse:0.41907\n",
            "[339]\ttrain-rmse:0.37825\tvalid-rmse:0.41908\n",
            "[340]\ttrain-rmse:0.37819\tvalid-rmse:0.41911\n",
            "[341]\ttrain-rmse:0.37815\tvalid-rmse:0.41911\n",
            "[342]\ttrain-rmse:0.37795\tvalid-rmse:0.41914\n",
            "[343]\ttrain-rmse:0.37773\tvalid-rmse:0.41909\n",
            "[344]\ttrain-rmse:0.37760\tvalid-rmse:0.41905\n",
            "[345]\ttrain-rmse:0.37741\tvalid-rmse:0.41900\n",
            "[346]\ttrain-rmse:0.37725\tvalid-rmse:0.41898\n",
            "[347]\ttrain-rmse:0.37708\tvalid-rmse:0.41895\n",
            "[348]\ttrain-rmse:0.37696\tvalid-rmse:0.41891\n",
            "[349]\ttrain-rmse:0.37674\tvalid-rmse:0.41889\n",
            "[350]\ttrain-rmse:0.37655\tvalid-rmse:0.41887\n",
            "[351]\ttrain-rmse:0.37641\tvalid-rmse:0.41886\n",
            "[352]\ttrain-rmse:0.37633\tvalid-rmse:0.41886\n",
            "[353]\ttrain-rmse:0.37626\tvalid-rmse:0.41887\n",
            "[354]\ttrain-rmse:0.37617\tvalid-rmse:0.41886\n",
            "[355]\ttrain-rmse:0.37612\tvalid-rmse:0.41884\n",
            "[356]\ttrain-rmse:0.37609\tvalid-rmse:0.41883\n",
            "[357]\ttrain-rmse:0.37599\tvalid-rmse:0.41880\n",
            "[358]\ttrain-rmse:0.37595\tvalid-rmse:0.41880\n",
            "[359]\ttrain-rmse:0.37585\tvalid-rmse:0.41881\n",
            "[360]\ttrain-rmse:0.37565\tvalid-rmse:0.41881\n",
            "[361]\ttrain-rmse:0.37547\tvalid-rmse:0.41877\n",
            "[362]\ttrain-rmse:0.37544\tvalid-rmse:0.41877\n",
            "[363]\ttrain-rmse:0.37539\tvalid-rmse:0.41877\n",
            "[364]\ttrain-rmse:0.37519\tvalid-rmse:0.41874\n",
            "[365]\ttrain-rmse:0.37513\tvalid-rmse:0.41875\n",
            "[366]\ttrain-rmse:0.37496\tvalid-rmse:0.41871\n",
            "[367]\ttrain-rmse:0.37481\tvalid-rmse:0.41865\n",
            "[368]\ttrain-rmse:0.37461\tvalid-rmse:0.41860\n",
            "[369]\ttrain-rmse:0.37450\tvalid-rmse:0.41863\n",
            "[370]\ttrain-rmse:0.37448\tvalid-rmse:0.41863\n",
            "[371]\ttrain-rmse:0.37431\tvalid-rmse:0.41862\n",
            "[372]\ttrain-rmse:0.37415\tvalid-rmse:0.41860\n",
            "[373]\ttrain-rmse:0.37401\tvalid-rmse:0.41857\n",
            "[374]\ttrain-rmse:0.37386\tvalid-rmse:0.41856\n",
            "[375]\ttrain-rmse:0.37378\tvalid-rmse:0.41857\n",
            "[376]\ttrain-rmse:0.37375\tvalid-rmse:0.41855\n",
            "[377]\ttrain-rmse:0.37362\tvalid-rmse:0.41857\n",
            "[378]\ttrain-rmse:0.37360\tvalid-rmse:0.41858\n",
            "[379]\ttrain-rmse:0.37359\tvalid-rmse:0.41858\n",
            "[380]\ttrain-rmse:0.37351\tvalid-rmse:0.41859\n",
            "[381]\ttrain-rmse:0.37347\tvalid-rmse:0.41858\n",
            "[382]\ttrain-rmse:0.37343\tvalid-rmse:0.41858\n",
            "[383]\ttrain-rmse:0.37324\tvalid-rmse:0.41859\n",
            "[384]\ttrain-rmse:0.37319\tvalid-rmse:0.41859\n",
            "[385]\ttrain-rmse:0.37306\tvalid-rmse:0.41853\n",
            "[386]\ttrain-rmse:0.37299\tvalid-rmse:0.41855\n",
            "[387]\ttrain-rmse:0.37290\tvalid-rmse:0.41855\n",
            "[388]\ttrain-rmse:0.37272\tvalid-rmse:0.41850\n",
            "[389]\ttrain-rmse:0.37255\tvalid-rmse:0.41850\n",
            "[390]\ttrain-rmse:0.37244\tvalid-rmse:0.41849\n",
            "[391]\ttrain-rmse:0.37229\tvalid-rmse:0.41846\n",
            "[392]\ttrain-rmse:0.37214\tvalid-rmse:0.41846\n",
            "[393]\ttrain-rmse:0.37196\tvalid-rmse:0.41848\n",
            "[394]\ttrain-rmse:0.37177\tvalid-rmse:0.41843\n",
            "[395]\ttrain-rmse:0.37173\tvalid-rmse:0.41843\n",
            "[396]\ttrain-rmse:0.37159\tvalid-rmse:0.41840\n",
            "[397]\ttrain-rmse:0.37140\tvalid-rmse:0.41843\n",
            "[398]\ttrain-rmse:0.37133\tvalid-rmse:0.41841\n",
            "[399]\ttrain-rmse:0.37115\tvalid-rmse:0.41832\n",
            "[400]\ttrain-rmse:0.37096\tvalid-rmse:0.41830\n",
            "[401]\ttrain-rmse:0.37078\tvalid-rmse:0.41829\n",
            "[402]\ttrain-rmse:0.37067\tvalid-rmse:0.41828\n",
            "[403]\ttrain-rmse:0.37052\tvalid-rmse:0.41828\n",
            "[404]\ttrain-rmse:0.37036\tvalid-rmse:0.41827\n",
            "[405]\ttrain-rmse:0.37019\tvalid-rmse:0.41825\n",
            "[406]\ttrain-rmse:0.37001\tvalid-rmse:0.41823\n",
            "[407]\ttrain-rmse:0.36989\tvalid-rmse:0.41822\n",
            "[408]\ttrain-rmse:0.36969\tvalid-rmse:0.41822\n",
            "[409]\ttrain-rmse:0.36954\tvalid-rmse:0.41822\n",
            "[410]\ttrain-rmse:0.36952\tvalid-rmse:0.41821\n",
            "[411]\ttrain-rmse:0.36948\tvalid-rmse:0.41821\n",
            "[412]\ttrain-rmse:0.36932\tvalid-rmse:0.41820\n",
            "[413]\ttrain-rmse:0.36923\tvalid-rmse:0.41820\n",
            "[414]\ttrain-rmse:0.36916\tvalid-rmse:0.41820\n",
            "[415]\ttrain-rmse:0.36906\tvalid-rmse:0.41820\n",
            "[416]\ttrain-rmse:0.36902\tvalid-rmse:0.41821\n",
            "[417]\ttrain-rmse:0.36899\tvalid-rmse:0.41821\n",
            "[418]\ttrain-rmse:0.36895\tvalid-rmse:0.41824\n",
            "[419]\ttrain-rmse:0.36877\tvalid-rmse:0.41823\n",
            "[420]\ttrain-rmse:0.36852\tvalid-rmse:0.41818\n",
            "[421]\ttrain-rmse:0.36835\tvalid-rmse:0.41816\n",
            "[422]\ttrain-rmse:0.36822\tvalid-rmse:0.41813\n",
            "[423]\ttrain-rmse:0.36806\tvalid-rmse:0.41815\n",
            "[424]\ttrain-rmse:0.36789\tvalid-rmse:0.41813\n",
            "[425]\ttrain-rmse:0.36773\tvalid-rmse:0.41812\n",
            "[426]\ttrain-rmse:0.36748\tvalid-rmse:0.41807\n",
            "[427]\ttrain-rmse:0.36737\tvalid-rmse:0.41801\n",
            "[428]\ttrain-rmse:0.36723\tvalid-rmse:0.41796\n",
            "[429]\ttrain-rmse:0.36717\tvalid-rmse:0.41797\n",
            "[430]\ttrain-rmse:0.36703\tvalid-rmse:0.41795\n",
            "[431]\ttrain-rmse:0.36701\tvalid-rmse:0.41795\n",
            "[432]\ttrain-rmse:0.36689\tvalid-rmse:0.41794\n",
            "[433]\ttrain-rmse:0.36686\tvalid-rmse:0.41793\n",
            "[434]\ttrain-rmse:0.36681\tvalid-rmse:0.41791\n",
            "[435]\ttrain-rmse:0.36671\tvalid-rmse:0.41789\n",
            "[436]\ttrain-rmse:0.36662\tvalid-rmse:0.41790\n",
            "[437]\ttrain-rmse:0.36642\tvalid-rmse:0.41787\n",
            "[438]\ttrain-rmse:0.36631\tvalid-rmse:0.41786\n",
            "[439]\ttrain-rmse:0.36616\tvalid-rmse:0.41785\n",
            "[440]\ttrain-rmse:0.36602\tvalid-rmse:0.41785\n",
            "[441]\ttrain-rmse:0.36595\tvalid-rmse:0.41782\n",
            "[442]\ttrain-rmse:0.36588\tvalid-rmse:0.41781\n",
            "[443]\ttrain-rmse:0.36568\tvalid-rmse:0.41780\n",
            "[444]\ttrain-rmse:0.36549\tvalid-rmse:0.41776\n",
            "[445]\ttrain-rmse:0.36538\tvalid-rmse:0.41777\n",
            "[446]\ttrain-rmse:0.36527\tvalid-rmse:0.41776\n",
            "[447]\ttrain-rmse:0.36506\tvalid-rmse:0.41769\n",
            "[448]\ttrain-rmse:0.36489\tvalid-rmse:0.41771\n",
            "[449]\ttrain-rmse:0.36473\tvalid-rmse:0.41773\n",
            "[450]\ttrain-rmse:0.36465\tvalid-rmse:0.41774\n",
            "[451]\ttrain-rmse:0.36446\tvalid-rmse:0.41768\n",
            "[452]\ttrain-rmse:0.36435\tvalid-rmse:0.41769\n",
            "[453]\ttrain-rmse:0.36418\tvalid-rmse:0.41765\n",
            "[454]\ttrain-rmse:0.36409\tvalid-rmse:0.41763\n",
            "[455]\ttrain-rmse:0.36406\tvalid-rmse:0.41764\n",
            "[456]\ttrain-rmse:0.36401\tvalid-rmse:0.41760\n",
            "[457]\ttrain-rmse:0.36398\tvalid-rmse:0.41760\n",
            "[458]\ttrain-rmse:0.36396\tvalid-rmse:0.41759\n",
            "[459]\ttrain-rmse:0.36379\tvalid-rmse:0.41758\n",
            "[460]\ttrain-rmse:0.36362\tvalid-rmse:0.41753\n",
            "[461]\ttrain-rmse:0.36345\tvalid-rmse:0.41751\n",
            "[462]\ttrain-rmse:0.36325\tvalid-rmse:0.41748\n",
            "[463]\ttrain-rmse:0.36315\tvalid-rmse:0.41746\n",
            "[464]\ttrain-rmse:0.36309\tvalid-rmse:0.41742\n",
            "[465]\ttrain-rmse:0.36296\tvalid-rmse:0.41739\n",
            "[466]\ttrain-rmse:0.36290\tvalid-rmse:0.41739\n",
            "[467]\ttrain-rmse:0.36279\tvalid-rmse:0.41737\n",
            "[468]\ttrain-rmse:0.36272\tvalid-rmse:0.41735\n",
            "[469]\ttrain-rmse:0.36271\tvalid-rmse:0.41735\n",
            "[470]\ttrain-rmse:0.36260\tvalid-rmse:0.41735\n",
            "[471]\ttrain-rmse:0.36243\tvalid-rmse:0.41731\n",
            "[472]\ttrain-rmse:0.36222\tvalid-rmse:0.41728\n",
            "[473]\ttrain-rmse:0.36208\tvalid-rmse:0.41725\n",
            "[474]\ttrain-rmse:0.36202\tvalid-rmse:0.41724\n",
            "[475]\ttrain-rmse:0.36182\tvalid-rmse:0.41721\n",
            "[476]\ttrain-rmse:0.36168\tvalid-rmse:0.41720\n",
            "[477]\ttrain-rmse:0.36152\tvalid-rmse:0.41720\n",
            "[478]\ttrain-rmse:0.36131\tvalid-rmse:0.41715\n",
            "[479]\ttrain-rmse:0.36116\tvalid-rmse:0.41713\n",
            "[480]\ttrain-rmse:0.36101\tvalid-rmse:0.41712\n",
            "[481]\ttrain-rmse:0.36089\tvalid-rmse:0.41711\n",
            "[482]\ttrain-rmse:0.36077\tvalid-rmse:0.41714\n",
            "[483]\ttrain-rmse:0.36063\tvalid-rmse:0.41712\n",
            "[484]\ttrain-rmse:0.36049\tvalid-rmse:0.41710\n",
            "[485]\ttrain-rmse:0.36034\tvalid-rmse:0.41707\n",
            "[486]\ttrain-rmse:0.36031\tvalid-rmse:0.41707\n",
            "[487]\ttrain-rmse:0.36019\tvalid-rmse:0.41709\n",
            "[488]\ttrain-rmse:0.36004\tvalid-rmse:0.41710\n",
            "[489]\ttrain-rmse:0.36000\tvalid-rmse:0.41710\n",
            "[490]\ttrain-rmse:0.35998\tvalid-rmse:0.41709\n",
            "[491]\ttrain-rmse:0.35994\tvalid-rmse:0.41707\n",
            "[492]\ttrain-rmse:0.35982\tvalid-rmse:0.41707\n",
            "[493]\ttrain-rmse:0.35969\tvalid-rmse:0.41705\n",
            "[494]\ttrain-rmse:0.35955\tvalid-rmse:0.41706\n",
            "[495]\ttrain-rmse:0.35940\tvalid-rmse:0.41704\n",
            "[496]\ttrain-rmse:0.35927\tvalid-rmse:0.41700\n",
            "[497]\ttrain-rmse:0.35921\tvalid-rmse:0.41698\n",
            "[498]\ttrain-rmse:0.35920\tvalid-rmse:0.41698\n",
            "[499]\ttrain-rmse:0.35917\tvalid-rmse:0.41698\n",
            "[500]\ttrain-rmse:0.35913\tvalid-rmse:0.41699\n",
            "[501]\ttrain-rmse:0.35912\tvalid-rmse:0.41699\n",
            "[502]\ttrain-rmse:0.35905\tvalid-rmse:0.41696\n",
            "[503]\ttrain-rmse:0.35887\tvalid-rmse:0.41699\n",
            "[504]\ttrain-rmse:0.35874\tvalid-rmse:0.41698\n",
            "[505]\ttrain-rmse:0.35864\tvalid-rmse:0.41696\n",
            "[506]\ttrain-rmse:0.35848\tvalid-rmse:0.41692\n",
            "[507]\ttrain-rmse:0.35835\tvalid-rmse:0.41688\n",
            "[508]\ttrain-rmse:0.35828\tvalid-rmse:0.41688\n",
            "[509]\ttrain-rmse:0.35824\tvalid-rmse:0.41688\n",
            "[510]\ttrain-rmse:0.35823\tvalid-rmse:0.41688\n",
            "[511]\ttrain-rmse:0.35820\tvalid-rmse:0.41685\n",
            "[512]\ttrain-rmse:0.35819\tvalid-rmse:0.41685\n",
            "[513]\ttrain-rmse:0.35815\tvalid-rmse:0.41685\n",
            "[514]\ttrain-rmse:0.35804\tvalid-rmse:0.41683\n",
            "[515]\ttrain-rmse:0.35802\tvalid-rmse:0.41682\n",
            "[516]\ttrain-rmse:0.35802\tvalid-rmse:0.41682\n",
            "[517]\ttrain-rmse:0.35788\tvalid-rmse:0.41681\n",
            "[518]\ttrain-rmse:0.35774\tvalid-rmse:0.41677\n",
            "[519]\ttrain-rmse:0.35765\tvalid-rmse:0.41678\n",
            "[520]\ttrain-rmse:0.35761\tvalid-rmse:0.41679\n",
            "[521]\ttrain-rmse:0.35751\tvalid-rmse:0.41678\n",
            "[522]\ttrain-rmse:0.35750\tvalid-rmse:0.41677\n",
            "[523]\ttrain-rmse:0.35737\tvalid-rmse:0.41677\n",
            "[524]\ttrain-rmse:0.35729\tvalid-rmse:0.41677\n",
            "[525]\ttrain-rmse:0.35722\tvalid-rmse:0.41676\n",
            "[526]\ttrain-rmse:0.35713\tvalid-rmse:0.41675\n",
            "[527]\ttrain-rmse:0.35701\tvalid-rmse:0.41673\n",
            "[528]\ttrain-rmse:0.35684\tvalid-rmse:0.41671\n",
            "[529]\ttrain-rmse:0.35671\tvalid-rmse:0.41671\n",
            "[530]\ttrain-rmse:0.35661\tvalid-rmse:0.41670\n",
            "[531]\ttrain-rmse:0.35640\tvalid-rmse:0.41663\n",
            "[532]\ttrain-rmse:0.35619\tvalid-rmse:0.41659\n",
            "[533]\ttrain-rmse:0.35599\tvalid-rmse:0.41660\n",
            "[534]\ttrain-rmse:0.35578\tvalid-rmse:0.41656\n",
            "[535]\ttrain-rmse:0.35563\tvalid-rmse:0.41655\n",
            "[536]\ttrain-rmse:0.35545\tvalid-rmse:0.41653\n",
            "[537]\ttrain-rmse:0.35530\tvalid-rmse:0.41651\n",
            "[538]\ttrain-rmse:0.35511\tvalid-rmse:0.41644\n",
            "[539]\ttrain-rmse:0.35495\tvalid-rmse:0.41647\n",
            "[540]\ttrain-rmse:0.35483\tvalid-rmse:0.41648\n",
            "[541]\ttrain-rmse:0.35465\tvalid-rmse:0.41648\n",
            "[542]\ttrain-rmse:0.35454\tvalid-rmse:0.41648\n",
            "[543]\ttrain-rmse:0.35448\tvalid-rmse:0.41650\n",
            "[544]\ttrain-rmse:0.35439\tvalid-rmse:0.41651\n",
            "[545]\ttrain-rmse:0.35420\tvalid-rmse:0.41651\n",
            "[546]\ttrain-rmse:0.35416\tvalid-rmse:0.41650\n",
            "[547]\ttrain-rmse:0.35411\tvalid-rmse:0.41650\n"
          ]
        }
      ]
    },
    {
      "cell_type": "code",
      "source": [
        "preds = xgb_model.predict(eval_data)\n",
        "preds = [1 if data > 0.5 else 0 for data in preds ]\n",
        "from sklearn.metrics import accuracy_score\n",
        "# 0~1 사이의 확률값이고 실제 정답은 0 1 이기때문에\n",
        "# Classification metrics can't handle a mix of binary and continuous targets\n",
        "print(accuracy_score(y_val, preds))"
      ],
      "metadata": {
        "colab": {
          "base_uri": "https://localhost:8080/"
        },
        "collapsed": true,
        "id": "albt5C-M-Ixe",
        "outputId": "e3b20198-d2d6-4fdc-ec60-094c5afa85e8"
      },
      "execution_count": 22,
      "outputs": [
        {
          "output_type": "stream",
          "name": "stdout",
          "text": [
            "0.7369187750113022\n"
          ]
        }
      ]
    },
    {
      "cell_type": "markdown",
      "source": [
        "- CNN\n",
        "- LSTM"
      ],
      "metadata": {
        "id": "sf6vmnjT86U8"
      }
    },
    {
      "cell_type": "code",
      "source": [
        "import json\n",
        "train_q1_data = np.load('/content/train_q1.npy')\n",
        "train_q2_data = np.load('/content/train_q2.npy')\n",
        "train_label_data = np.load('/content/train_label.npy')\n",
        "prepro_configs = json.load(open('/content/data_configs.json','r'))"
      ],
      "metadata": {
        "id": "_gscZYoR8a-7"
      },
      "execution_count": 23,
      "outputs": []
    },
    {
      "cell_type": "code",
      "source": [
        "prepro_configs['vocab_size']"
      ],
      "metadata": {
        "colab": {
          "base_uri": "https://localhost:8080/"
        },
        "id": "p-tvvkw28bCC",
        "outputId": "5fb6d35e-dabd-4edb-f735-f7febccf5478"
      },
      "execution_count": 24,
      "outputs": [
        {
          "output_type": "execute_result",
          "data": {
            "text/plain": [
              "158937"
            ]
          },
          "metadata": {},
          "execution_count": 24
        }
      ]
    },
    {
      "cell_type": "code",
      "source": [
        "train_q1_data.shape[1]"
      ],
      "metadata": {
        "colab": {
          "base_uri": "https://localhost:8080/"
        },
        "id": "pqoHaSYkFHLk",
        "outputId": "dd71764e-cad7-4038-f800-ffd6f5e33860"
      },
      "execution_count": 25,
      "outputs": [
        {
          "output_type": "execute_result",
          "data": {
            "text/plain": [
              "31"
            ]
          },
          "metadata": {},
          "execution_count": 25
        }
      ]
    },
    {
      "cell_type": "code",
      "source": [
        "# 모델  하이퍼 파라메터\n",
        "model_name = 'cnn_classifier_kr'\n",
        "batch_size = 128\n",
        "num_epochs = 5\n",
        "learning_rate = 0.001\n",
        "max_len = train_q1_data.shape[1]\n",
        "kargs = {'model_name': model_name,\n",
        "         'vocab_size': prepro_configs['vocab_size'],\n",
        "         'word_embedding_dim': 100,\n",
        "         'conv_num_filters': 300,\n",
        "         'conv_window_size':3,\n",
        "         'max_pool_seq_len': max_len,\n",
        "         'sent_embedding_dimension' : 128,\n",
        "         'dropout_rate': 0.2,\n",
        "         'hidden_dimension': 200,\n",
        "         'output_dimension': 1}"
      ],
      "metadata": {
        "id": "9X1_8gGd8bFK"
      },
      "execution_count": 26,
      "outputs": []
    },
    {
      "cell_type": "code",
      "source": [
        "# 모델 생성\n",
        "# 문장 두개, cnn 기반의 유사도모델을 구현 두개의 질문쌍을 비교 두개가 중복된 질문인지 아닌지를 예측\n",
        "# 임베딩 클래스\n",
        "class SentenceEmbedding(tf.keras.layers.Layer):\n",
        "    def __init__(self, **kwargs):\n",
        "        super(SentenceEmbedding, self).__init__()\n",
        "        self.conv = tf.keras.layers.Conv1D(kwargs['conv_num_filters'],kargs['conv_window_size']\n",
        "                                           ,activation = tf.keras.activations.relu,padding = 'same')\n",
        "        self.max_pool = tf.keras.layers.MaxPool1D(kargs['max_pool_seq_len'],1)\n",
        "        self.dense = tf.keras.layers.Dense(kargs['sent_embedding_dimension'],activation='relu')\n",
        "    def call(self,x):\n",
        "      x = self.conv(x)\n",
        "      x = self.max_pool(x)\n",
        "      x = self.dense(x)\n",
        "      return tf.squeeze(x,1)  # 차원이 1인 축을 제거해서 최종 임베딩 벡터를 반환\n"
      ],
      "metadata": {
        "id": "nTRyTI4s961C"
      },
      "execution_count": 27,
      "outputs": []
    },
    {
      "cell_type": "code",
      "source": [
        "# 두 문장의 유사도를 계산하는 딥러닝 모델 정의\n",
        "# 두 문장의 임베딩을 생성- 비교 - 유사성을 이진분류형태로 예측하는 구조\n",
        "class SentenceSimilarity(tf.keras.Model):\n",
        "  def __init__(self, **kwargs):\n",
        "    super(SentenceSimilarity, self).__init__()\n",
        "    self.embedding = tf.keras.layers.Embedding(input_dim=kargs['vocab_size'], # 단어의 총 개수(어휘 크기)\n",
        "                                                output_dim=kargs['word_embedding_dim']) # 임베딩 하는 벡터의 차원 수\n",
        "    self.base_encoder = SentenceEmbedding(**kargs) # 첫번재 문장\n",
        "    self.hyp_encoder = SentenceEmbedding(**kargs) # 두번재 문장\n",
        "    self.dense = tf.keras.layers.Dense(kargs['hidden_dimension'],activation='relu')\n",
        "    self.logit = tf.keras.layers.Dense(1,activation='sigmoid')  # 0~1사이의 확률값을 반환\n",
        "    self.dropout = tf.keras.layers.Dropout(kargs['dropout_rate'])\n",
        "  def call(self, x):\n",
        "    x1, x2 = x\n",
        "    b_x = self.embedding(x1)\n",
        "    h_x = self.embedding(x2)\n",
        "    b_x = self.dropout(b_x)\n",
        "    h_x = self.dropout(h_x)\n",
        "\n",
        "    b_x = self.base_encoder(b_x) # 문장의 특징 벡터로 변환\n",
        "    h_x = self.hyp_encoder(h_x) # 문장의 특징 벡터로 변환\n",
        "\n",
        "    e_x = tf.concat([b_x,h_x],axis=-1)  # 마지막 차원을 기준으로 결합\n",
        "    e_x = tf.keras.layers.Flatten()(e_x) # 2차원을 1차원으로 변환\n",
        "    e_x = self.dense(e_x)\n",
        "    e_x = self.dropout(e_x)\n",
        "    return self.logit(e_x)\n",
        ""
      ],
      "metadata": {
        "id": "IiIAoEa_963r"
      },
      "execution_count": 28,
      "outputs": []
    },
    {
      "cell_type": "code",
      "source": [
        "train_q1_data,train_q2_data\n",
        "train_label_data\n",
        "x1_train,x1_test,x2_train,x2_test,y1_train,y2_test = \\\n",
        " (train_test_split(train_q1_data,train_q2_data,train_label_data,test_size=0.2,random_state=42))"
      ],
      "metadata": {
        "id": "Dr7L_HZYMYua"
      },
      "execution_count": 36,
      "outputs": []
    },
    {
      "cell_type": "code",
      "source": [
        "x1_train.shape,x1_test.shape,x2_train.shape,x2_test.shape,y1_train.shape,y2_test.shape"
      ],
      "metadata": {
        "colab": {
          "base_uri": "https://localhost:8080/"
        },
        "id": "5mWNbQsKSuAl",
        "outputId": "56fb2219-f2cc-48f0-a025-e494677f1c01"
      },
      "execution_count": 37,
      "outputs": [
        {
          "output_type": "execute_result",
          "data": {
            "text/plain": [
              "((238889, 31), (59723, 31), (238889, 31), (59723, 31), (238889,), (59723,))"
            ]
          },
          "metadata": {},
          "execution_count": 37
        }
      ]
    },
    {
      "cell_type": "code",
      "source": [
        "model = SentenceSimilarity(**kargs)\n",
        "model.compile(optimizer=tf.keras.optimizers.Adam(learning_rate=0.001),\n",
        "              loss=tf.keras.losses.BinaryCrossentropy(),\n",
        "              metrics=['accuracy'])\n",
        "history = model.fit( (x1_train,x2_train),y1_train,batch_size= batch_size,epochs=num_epochs,\n",
        "          validation_split=0.1)"
      ],
      "metadata": {
        "colab": {
          "base_uri": "https://localhost:8080/"
        },
        "id": "jodvtGHQ966P",
        "outputId": "c80f9caf-4716-467f-d98c-6975ee4f5fb9"
      },
      "execution_count": 38,
      "outputs": [
        {
          "output_type": "stream",
          "name": "stdout",
          "text": [
            "Epoch 1/5\n",
            "\u001b[1m1680/1680\u001b[0m \u001b[32m━━━━━━━━━━━━━━━━━━━━\u001b[0m\u001b[37m\u001b[0m \u001b[1m18s\u001b[0m 9ms/step - accuracy: 0.6976 - loss: 0.5653 - val_accuracy: 0.7658 - val_loss: 0.4766\n",
            "Epoch 2/5\n",
            "\u001b[1m1680/1680\u001b[0m \u001b[32m━━━━━━━━━━━━━━━━━━━━\u001b[0m\u001b[37m\u001b[0m \u001b[1m17s\u001b[0m 7ms/step - accuracy: 0.8284 - loss: 0.3799 - val_accuracy: 0.7855 - val_loss: 0.4590\n",
            "Epoch 3/5\n",
            "\u001b[1m1680/1680\u001b[0m \u001b[32m━━━━━━━━━━━━━━━━━━━━\u001b[0m\u001b[37m\u001b[0m \u001b[1m12s\u001b[0m 7ms/step - accuracy: 0.9075 - loss: 0.2269 - val_accuracy: 0.7843 - val_loss: 0.5224\n",
            "Epoch 4/5\n",
            "\u001b[1m1680/1680\u001b[0m \u001b[32m━━━━━━━━━━━━━━━━━━━━\u001b[0m\u001b[37m\u001b[0m \u001b[1m12s\u001b[0m 7ms/step - accuracy: 0.9502 - loss: 0.1279 - val_accuracy: 0.7822 - val_loss: 0.6249\n",
            "Epoch 5/5\n",
            "\u001b[1m1680/1680\u001b[0m \u001b[32m━━━━━━━━━━━━━━━━━━━━\u001b[0m\u001b[37m\u001b[0m \u001b[1m21s\u001b[0m 8ms/step - accuracy: 0.9684 - loss: 0.0841 - val_accuracy: 0.7776 - val_loss: 0.7623\n"
          ]
        }
      ]
    },
    {
      "cell_type": "code",
      "source": [
        "preds = model.predict((x1_test,x2_test))"
      ],
      "metadata": {
        "colab": {
          "base_uri": "https://localhost:8080/"
        },
        "id": "PgP3WE-s968u",
        "outputId": "a5d241eb-a44c-4caa-fa1c-fd2a7471fdfe"
      },
      "execution_count": 39,
      "outputs": [
        {
          "output_type": "stream",
          "name": "stdout",
          "text": [
            "\u001b[1m1867/1867\u001b[0m \u001b[32m━━━━━━━━━━━━━━━━━━━━\u001b[0m\u001b[37m\u001b[0m \u001b[1m6s\u001b[0m 3ms/step\n"
          ]
        }
      ]
    },
    {
      "cell_type": "code",
      "source": [
        "preds = [1 if data>0.5 else 0 for data in preds]"
      ],
      "metadata": {
        "id": "Q_ymkDyf96_Q"
      },
      "execution_count": 41,
      "outputs": []
    },
    {
      "cell_type": "code",
      "source": [
        "accuracy_score(y2_test, preds)"
      ],
      "metadata": {
        "colab": {
          "base_uri": "https://localhost:8080/"
        },
        "id": "dZVS4Bf91Xw_",
        "outputId": "31ae45f1-d272-44ba-95f0-44888bd6ef25"
      },
      "execution_count": 43,
      "outputs": [
        {
          "output_type": "execute_result",
          "data": {
            "text/plain": [
              "0.7753126936021298"
            ]
          },
          "metadata": {},
          "execution_count": 43
        }
      ]
    },
    {
      "cell_type": "markdown",
      "source": [
        "- LSTM 모델적용"
      ],
      "metadata": {
        "id": "3l1RMptvUOXf"
      }
    },
    {
      "cell_type": "code",
      "source": [
        "# LSTM 문장의 시퀀스 정보를 추출한다음 두 문장의 벡터간의 거리를 계산해서 유사도를 반환하는 방식\n",
        "class Lstm_Classifier(tf.keras.Model):\n",
        "  def __init__(self, **kargs):\n",
        "    super(Lstm_Classifier, self).__init__()\n",
        "    self.embedding = tf.keras.layers.Embedding(input_dim=kargs['vocab_size'], # 단어의 총 개수(어휘 크기)\n",
        "                                                output_dim=kargs['word_embedding_dim'])\n",
        "    self.lstm = tf.keras.layers.LSTM(kargs['hidden_dimension'],return_sequences=False)  # return_sequences=True 모든 시퀀스의 출력을 반환\n",
        "  def call(self, x):\n",
        "    x1,x2 = x\n",
        "    x1 = self.embedding(x1)\n",
        "    x2 = self.embedding(x2)\n",
        "    x1 = self.lstm(x1)\n",
        "    x2 = self.lstm(x2)\n",
        "    # 유사도 계산 두 문장벡터의 절대값의 차이를 계산 합계\n",
        "    # 축소해서 합계를 구한다\n",
        "    # tf.exp(- .. 맨허튼거리 의 음수를 취해 지수함수를 적용 -- 두 문장의 거리가 클수록 값이 작아지게, 작을수록 유사도가 커지게\n",
        "    x = tf.exp(  -tf.reduce_sum( tf.abs(x1-x2),axis=1 )  )\n",
        "    return x"
      ],
      "metadata": {
        "id": "Tg9lTTuc1XzP"
      },
      "execution_count": 69,
      "outputs": []
    },
    {
      "cell_type": "code",
      "source": [
        "# 2D 텐서\n",
        "a = tf.constant([[[1,2],[3,4],[5,6]],[[10,20],[30,40],[50,60]]])\n",
        "print(a.shape)\n",
        "result = tf.reduce_sum(a, axis=(0,2))\n",
        "result.shape"
      ],
      "metadata": {
        "colab": {
          "base_uri": "https://localhost:8080/"
        },
        "id": "jSLPENmIV4Mw",
        "outputId": "f6b34df4-6c91-4ce7-c03a-ce202edcfe06"
      },
      "execution_count": 57,
      "outputs": [
        {
          "output_type": "stream",
          "name": "stdout",
          "text": [
            "(2, 3, 2)\n"
          ]
        },
        {
          "output_type": "execute_result",
          "data": {
            "text/plain": [
              "TensorShape([3])"
            ]
          },
          "metadata": {},
          "execution_count": 57
        }
      ]
    },
    {
      "cell_type": "code",
      "source": [
        "type(x1_train)"
      ],
      "metadata": {
        "colab": {
          "base_uri": "https://localhost:8080/"
        },
        "id": "pWdeG0eVX3SR",
        "outputId": "60304f65-b66d-4217-f794-790c41e209f3"
      },
      "execution_count": 60,
      "outputs": [
        {
          "output_type": "execute_result",
          "data": {
            "text/plain": [
              "numpy.ndarray"
            ]
          },
          "metadata": {},
          "execution_count": 60
        }
      ]
    },
    {
      "cell_type": "code",
      "source": [
        "model = Lstm_Classifier(**kargs)\n",
        "model.compile(optimizer=tf.keras.optimizers.Adam(learning_rate=0.001),\n",
        "              loss=tf.keras.losses.BinaryCrossentropy(),\n",
        "              metrics=['accuracy'])\n",
        "callbacks  = [\n",
        "    tf.keras.callbacks.EarlyStopping(monitor='val_loss', patience=3, restore_best_weights=True),\n",
        "    tf.keras.callbacks.ModelCheckpoint(filepath='./best_model.keras', monitor='val_loss', save_best_only=True)\n",
        "]\n",
        "history = model.fit( (x1_train,x2_train),y1_train,batch_size= batch_size,epochs=num_epochs,\n",
        "          validation_split=0.1, callbacks=callbacks)"
      ],
      "metadata": {
        "colab": {
          "base_uri": "https://localhost:8080/"
        },
        "id": "jElC5QzCXiUN",
        "outputId": "cd63fdcf-cc31-42ee-ebfb-9f5a2e2c1bf1"
      },
      "execution_count": 70,
      "outputs": [
        {
          "output_type": "stream",
          "name": "stdout",
          "text": [
            "Epoch 1/5\n",
            "\u001b[1m1680/1680\u001b[0m \u001b[32m━━━━━━━━━━━━━━━━━━━━\u001b[0m\u001b[37m\u001b[0m \u001b[1m46s\u001b[0m 23ms/step - accuracy: 0.0160 - loss: 0.6263 - val_accuracy: 0.0321 - val_loss: 0.4772\n",
            "Epoch 2/5\n",
            "\u001b[1m1680/1680\u001b[0m \u001b[32m━━━━━━━━━━━━━━━━━━━━\u001b[0m\u001b[37m\u001b[0m \u001b[1m76s\u001b[0m 23ms/step - accuracy: 0.0122 - loss: 0.4171 - val_accuracy: 0.0267 - val_loss: 0.4607\n",
            "Epoch 3/5\n",
            "\u001b[1m1680/1680\u001b[0m \u001b[32m━━━━━━━━━━━━━━━━━━━━\u001b[0m\u001b[37m\u001b[0m \u001b[1m43s\u001b[0m 24ms/step - accuracy: 0.0127 - loss: 0.3639 - val_accuracy: 0.0267 - val_loss: 0.4571\n",
            "Epoch 4/5\n",
            "\u001b[1m1680/1680\u001b[0m \u001b[32m━━━━━━━━━━━━━━━━━━━━\u001b[0m\u001b[37m\u001b[0m \u001b[1m32s\u001b[0m 19ms/step - accuracy: 0.0170 - loss: 0.3290 - val_accuracy: 0.0267 - val_loss: 0.4628\n",
            "Epoch 5/5\n",
            "\u001b[1m1680/1680\u001b[0m \u001b[32m━━━━━━━━━━━━━━━━━━━━\u001b[0m\u001b[37m\u001b[0m \u001b[1m41s\u001b[0m 19ms/step - accuracy: 0.0160 - loss: 0.2972 - val_accuracy: 0.0267 - val_loss: 0.4583\n"
          ]
        }
      ]
    },
    {
      "cell_type": "code",
      "source": [
        "# 베스트 모델 로드\n",
        "model.load_weights('./best_model.keras')\n",
        "# 평가\n",
        "preds = model.predict((x1_test,x2_test))\n",
        "preds = [1 if data>0.5 else 0 for data in preds]\n",
        "accuracy_score(y2_test, preds)"
      ],
      "metadata": {
        "colab": {
          "base_uri": "https://localhost:8080/"
        },
        "id": "SdAlh8UDXS0z",
        "outputId": "9cf2284b-06f6-4dba-c426-90ad2b20c5fc"
      },
      "execution_count": 71,
      "outputs": [
        {
          "output_type": "stream",
          "name": "stdout",
          "text": [
            "\u001b[1m1867/1867\u001b[0m \u001b[32m━━━━━━━━━━━━━━━━━━━━\u001b[0m\u001b[37m\u001b[0m \u001b[1m5s\u001b[0m 3ms/step\n"
          ]
        },
        {
          "output_type": "execute_result",
          "data": {
            "text/plain": [
              "0.7918557339718366"
            ]
          },
          "metadata": {},
          "execution_count": 71
        }
      ]
    },
    {
      "cell_type": "code",
      "source": [],
      "metadata": {
        "id": "CGGA9bWWXS3r"
      },
      "execution_count": null,
      "outputs": []
    },
    {
      "cell_type": "code",
      "source": [],
      "metadata": {
        "id": "pjY4psTuUA4J"
      },
      "execution_count": null,
      "outputs": []
    },
    {
      "cell_type": "code",
      "source": [],
      "metadata": {
        "id": "lFw5MM3AUA6w"
      },
      "execution_count": null,
      "outputs": []
    },
    {
      "cell_type": "code",
      "source": [],
      "metadata": {
        "id": "q1fILKV0UA9O"
      },
      "execution_count": null,
      "outputs": []
    },
    {
      "cell_type": "code",
      "source": [],
      "metadata": {
        "id": "oRhpqTXAUA_o"
      },
      "execution_count": null,
      "outputs": []
    },
    {
      "cell_type": "code",
      "source": [],
      "metadata": {
        "id": "uqsi4GTDUBCI"
      },
      "execution_count": null,
      "outputs": []
    },
    {
      "cell_type": "code",
      "source": [],
      "metadata": {
        "id": "Limd4txyUBEb"
      },
      "execution_count": null,
      "outputs": []
    },
    {
      "cell_type": "code",
      "source": [],
      "metadata": {
        "id": "cduXdVmMUBHE"
      },
      "execution_count": null,
      "outputs": []
    },
    {
      "cell_type": "code",
      "source": [],
      "metadata": {
        "id": "epEbpJZj1X18"
      },
      "execution_count": null,
      "outputs": []
    },
    {
      "cell_type": "code",
      "source": [
        "(filterred_question1 + filterred_question2)[0]"
      ],
      "metadata": {
        "colab": {
          "base_uri": "https://localhost:8080/",
          "height": 53
        },
        "collapsed": true,
        "id": "o4zDp4tctX8O",
        "outputId": "13b13f5d-cc3f-420e-82cd-b537616f424f"
      },
      "execution_count": 176,
      "outputs": [
        {
          "output_type": "execute_result",
          "data": {
            "text/plain": [
              "'astrology i am a capricorn sun cap moon and cap risingwhat does that say about meim a triple capricorn sun moon and ascendant in capricorn what does this say about me'"
            ],
            "application/vnd.google.colaboratory.intrinsic+json": {
              "type": "string"
            }
          },
          "metadata": {},
          "execution_count": 176
        }
      ]
    },
    {
      "cell_type": "code",
      "source": [
        "question1_sequence[0]"
      ],
      "metadata": {
        "colab": {
          "base_uri": "https://localhost:8080/"
        },
        "id": "shQbXVCMuKYI",
        "outputId": "9993f691-ebae-4847-8b1d-601e0e5a9904"
      },
      "execution_count": 177,
      "outputs": [
        {
          "output_type": "execute_result",
          "data": {
            "text/plain": [
              "[2565, 3, 74, 5, 11414, 982, 5450, 892, 11, 5450, 34131, 21, 26, 240, 45, 64]"
            ]
          },
          "metadata": {},
          "execution_count": 177
        }
      ]
    },
    {
      "cell_type": "code",
      "source": [
        "tokenizer.word_index['i']"
      ],
      "metadata": {
        "colab": {
          "base_uri": "https://localhost:8080/"
        },
        "id": "pG7imWx5u8Rh",
        "outputId": "2c4e0e8a-1ce0-4256-c801-926093892cb7"
      },
      "execution_count": 181,
      "outputs": [
        {
          "output_type": "execute_result",
          "data": {
            "text/plain": [
              "3"
            ]
          },
          "metadata": {},
          "execution_count": 181
        }
      ]
    },
    {
      "cell_type": "code",
      "source": [
        "sample = 'i am a boy boy is hansome'\n",
        "sample_dict = {}\n",
        "# 빈도수\n",
        "for word in sample.split():\n",
        "  if word not in sample_dict:\n",
        "    sample_dict[word] = 1\n",
        "  else:\n",
        "    sample_dict[word] += 1\n",
        "print(sample_dict)\n",
        "# 단어의 고유 인덱스\n",
        "sample_dict = {}\n",
        "count = 1\n",
        "for word in sample.split():\n",
        "  if word not in sample_dict:\n",
        "    sample_dict[word] = count\n",
        "    count += 1\n",
        "print(sample_dict)"
      ],
      "metadata": {
        "colab": {
          "base_uri": "https://localhost:8080/"
        },
        "id": "twGwJsmev6dL",
        "outputId": "635bc042-2fec-4d25-8f7a-8cef8d28518a"
      },
      "execution_count": 183,
      "outputs": [
        {
          "output_type": "stream",
          "name": "stdout",
          "text": [
            "{'i': 1, 'am': 1, 'a': 1, 'boy': 2, 'is': 1, 'hansome': 1}\n",
            "{'i': 1, 'am': 2, 'a': 3, 'boy': 4, 'is': 5, 'hansome': 6}\n"
          ]
        }
      ]
    },
    {
      "cell_type": "code",
      "source": [
        "# 토크나이져 : 딥러닝에 유리, 텍스트 분류, 감성분석, 번역등\n",
        "# 카운트벡터 : 빈도에따라서 벡터화 -> 고차원데이터  분류,군집화 등등 머신러닝등.... 주로 문서의 특성추출"
      ],
      "metadata": {
        "id": "HWrfd51Uwiyt"
      },
      "execution_count": 184,
      "outputs": []
    },
    {
      "cell_type": "code",
      "source": [],
      "metadata": {
        "id": "BOrRfBKMw-pg"
      },
      "execution_count": null,
      "outputs": []
    }
  ]
}