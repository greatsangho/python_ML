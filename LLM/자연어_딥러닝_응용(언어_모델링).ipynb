{
  "nbformat": 4,
  "nbformat_minor": 0,
  "metadata": {
    "colab": {
      "provenance": [],
      "gpuType": "T4"
    },
    "kernelspec": {
      "name": "python3",
      "display_name": "Python 3"
    },
    "language_info": {
      "name": "python"
    },
    "widgets": {
      "application/vnd.jupyter.widget-state+json": {
        "7687f7af2ca14114a768d722758ba4a2": {
          "model_module": "@jupyter-widgets/controls",
          "model_name": "HBoxModel",
          "model_module_version": "1.5.0",
          "state": {
            "_dom_classes": [],
            "_model_module": "@jupyter-widgets/controls",
            "_model_module_version": "1.5.0",
            "_model_name": "HBoxModel",
            "_view_count": null,
            "_view_module": "@jupyter-widgets/controls",
            "_view_module_version": "1.5.0",
            "_view_name": "HBoxView",
            "box_style": "",
            "children": [
              "IPY_MODEL_2508e480462747ad8814c5347be1467a",
              "IPY_MODEL_b05d1742b9684f7ab0746fc8e1943ce8",
              "IPY_MODEL_496189b78b73459c81ccd20106f3ef03"
            ],
            "layout": "IPY_MODEL_f84b52b90b1449a0b0d45174f9581db1"
          }
        },
        "2508e480462747ad8814c5347be1467a": {
          "model_module": "@jupyter-widgets/controls",
          "model_name": "HTMLModel",
          "model_module_version": "1.5.0",
          "state": {
            "_dom_classes": [],
            "_model_module": "@jupyter-widgets/controls",
            "_model_module_version": "1.5.0",
            "_model_name": "HTMLModel",
            "_view_count": null,
            "_view_module": "@jupyter-widgets/controls",
            "_view_module_version": "1.5.0",
            "_view_name": "HTMLView",
            "description": "",
            "description_tooltip": null,
            "layout": "IPY_MODEL_f882a18b29444049b04bcd120401abaa",
            "placeholder": "​",
            "style": "IPY_MODEL_c2db89570be04450b659e94cc0bb2ef5",
            "value": "tokenizer_config.json: 100%"
          }
        },
        "b05d1742b9684f7ab0746fc8e1943ce8": {
          "model_module": "@jupyter-widgets/controls",
          "model_name": "FloatProgressModel",
          "model_module_version": "1.5.0",
          "state": {
            "_dom_classes": [],
            "_model_module": "@jupyter-widgets/controls",
            "_model_module_version": "1.5.0",
            "_model_name": "FloatProgressModel",
            "_view_count": null,
            "_view_module": "@jupyter-widgets/controls",
            "_view_module_version": "1.5.0",
            "_view_name": "ProgressView",
            "bar_style": "success",
            "description": "",
            "description_tooltip": null,
            "layout": "IPY_MODEL_16847ddc2cdc4de5892753ff632af385",
            "max": 49,
            "min": 0,
            "orientation": "horizontal",
            "style": "IPY_MODEL_c78f6ef7033342229ad91810c4ea806a",
            "value": 49
          }
        },
        "496189b78b73459c81ccd20106f3ef03": {
          "model_module": "@jupyter-widgets/controls",
          "model_name": "HTMLModel",
          "model_module_version": "1.5.0",
          "state": {
            "_dom_classes": [],
            "_model_module": "@jupyter-widgets/controls",
            "_model_module_version": "1.5.0",
            "_model_name": "HTMLModel",
            "_view_count": null,
            "_view_module": "@jupyter-widgets/controls",
            "_view_module_version": "1.5.0",
            "_view_name": "HTMLView",
            "description": "",
            "description_tooltip": null,
            "layout": "IPY_MODEL_592830b5bc544d328a2ddae2d7c3fc39",
            "placeholder": "​",
            "style": "IPY_MODEL_8d4ba62b1b234174a19ee5af914b64c8",
            "value": " 49.0/49.0 [00:00&lt;00:00, 1.61kB/s]"
          }
        },
        "f84b52b90b1449a0b0d45174f9581db1": {
          "model_module": "@jupyter-widgets/base",
          "model_name": "LayoutModel",
          "model_module_version": "1.2.0",
          "state": {
            "_model_module": "@jupyter-widgets/base",
            "_model_module_version": "1.2.0",
            "_model_name": "LayoutModel",
            "_view_count": null,
            "_view_module": "@jupyter-widgets/base",
            "_view_module_version": "1.2.0",
            "_view_name": "LayoutView",
            "align_content": null,
            "align_items": null,
            "align_self": null,
            "border": null,
            "bottom": null,
            "display": null,
            "flex": null,
            "flex_flow": null,
            "grid_area": null,
            "grid_auto_columns": null,
            "grid_auto_flow": null,
            "grid_auto_rows": null,
            "grid_column": null,
            "grid_gap": null,
            "grid_row": null,
            "grid_template_areas": null,
            "grid_template_columns": null,
            "grid_template_rows": null,
            "height": null,
            "justify_content": null,
            "justify_items": null,
            "left": null,
            "margin": null,
            "max_height": null,
            "max_width": null,
            "min_height": null,
            "min_width": null,
            "object_fit": null,
            "object_position": null,
            "order": null,
            "overflow": null,
            "overflow_x": null,
            "overflow_y": null,
            "padding": null,
            "right": null,
            "top": null,
            "visibility": null,
            "width": null
          }
        },
        "f882a18b29444049b04bcd120401abaa": {
          "model_module": "@jupyter-widgets/base",
          "model_name": "LayoutModel",
          "model_module_version": "1.2.0",
          "state": {
            "_model_module": "@jupyter-widgets/base",
            "_model_module_version": "1.2.0",
            "_model_name": "LayoutModel",
            "_view_count": null,
            "_view_module": "@jupyter-widgets/base",
            "_view_module_version": "1.2.0",
            "_view_name": "LayoutView",
            "align_content": null,
            "align_items": null,
            "align_self": null,
            "border": null,
            "bottom": null,
            "display": null,
            "flex": null,
            "flex_flow": null,
            "grid_area": null,
            "grid_auto_columns": null,
            "grid_auto_flow": null,
            "grid_auto_rows": null,
            "grid_column": null,
            "grid_gap": null,
            "grid_row": null,
            "grid_template_areas": null,
            "grid_template_columns": null,
            "grid_template_rows": null,
            "height": null,
            "justify_content": null,
            "justify_items": null,
            "left": null,
            "margin": null,
            "max_height": null,
            "max_width": null,
            "min_height": null,
            "min_width": null,
            "object_fit": null,
            "object_position": null,
            "order": null,
            "overflow": null,
            "overflow_x": null,
            "overflow_y": null,
            "padding": null,
            "right": null,
            "top": null,
            "visibility": null,
            "width": null
          }
        },
        "c2db89570be04450b659e94cc0bb2ef5": {
          "model_module": "@jupyter-widgets/controls",
          "model_name": "DescriptionStyleModel",
          "model_module_version": "1.5.0",
          "state": {
            "_model_module": "@jupyter-widgets/controls",
            "_model_module_version": "1.5.0",
            "_model_name": "DescriptionStyleModel",
            "_view_count": null,
            "_view_module": "@jupyter-widgets/base",
            "_view_module_version": "1.2.0",
            "_view_name": "StyleView",
            "description_width": ""
          }
        },
        "16847ddc2cdc4de5892753ff632af385": {
          "model_module": "@jupyter-widgets/base",
          "model_name": "LayoutModel",
          "model_module_version": "1.2.0",
          "state": {
            "_model_module": "@jupyter-widgets/base",
            "_model_module_version": "1.2.0",
            "_model_name": "LayoutModel",
            "_view_count": null,
            "_view_module": "@jupyter-widgets/base",
            "_view_module_version": "1.2.0",
            "_view_name": "LayoutView",
            "align_content": null,
            "align_items": null,
            "align_self": null,
            "border": null,
            "bottom": null,
            "display": null,
            "flex": null,
            "flex_flow": null,
            "grid_area": null,
            "grid_auto_columns": null,
            "grid_auto_flow": null,
            "grid_auto_rows": null,
            "grid_column": null,
            "grid_gap": null,
            "grid_row": null,
            "grid_template_areas": null,
            "grid_template_columns": null,
            "grid_template_rows": null,
            "height": null,
            "justify_content": null,
            "justify_items": null,
            "left": null,
            "margin": null,
            "max_height": null,
            "max_width": null,
            "min_height": null,
            "min_width": null,
            "object_fit": null,
            "object_position": null,
            "order": null,
            "overflow": null,
            "overflow_x": null,
            "overflow_y": null,
            "padding": null,
            "right": null,
            "top": null,
            "visibility": null,
            "width": null
          }
        },
        "c78f6ef7033342229ad91810c4ea806a": {
          "model_module": "@jupyter-widgets/controls",
          "model_name": "ProgressStyleModel",
          "model_module_version": "1.5.0",
          "state": {
            "_model_module": "@jupyter-widgets/controls",
            "_model_module_version": "1.5.0",
            "_model_name": "ProgressStyleModel",
            "_view_count": null,
            "_view_module": "@jupyter-widgets/base",
            "_view_module_version": "1.2.0",
            "_view_name": "StyleView",
            "bar_color": null,
            "description_width": ""
          }
        },
        "592830b5bc544d328a2ddae2d7c3fc39": {
          "model_module": "@jupyter-widgets/base",
          "model_name": "LayoutModel",
          "model_module_version": "1.2.0",
          "state": {
            "_model_module": "@jupyter-widgets/base",
            "_model_module_version": "1.2.0",
            "_model_name": "LayoutModel",
            "_view_count": null,
            "_view_module": "@jupyter-widgets/base",
            "_view_module_version": "1.2.0",
            "_view_name": "LayoutView",
            "align_content": null,
            "align_items": null,
            "align_self": null,
            "border": null,
            "bottom": null,
            "display": null,
            "flex": null,
            "flex_flow": null,
            "grid_area": null,
            "grid_auto_columns": null,
            "grid_auto_flow": null,
            "grid_auto_rows": null,
            "grid_column": null,
            "grid_gap": null,
            "grid_row": null,
            "grid_template_areas": null,
            "grid_template_columns": null,
            "grid_template_rows": null,
            "height": null,
            "justify_content": null,
            "justify_items": null,
            "left": null,
            "margin": null,
            "max_height": null,
            "max_width": null,
            "min_height": null,
            "min_width": null,
            "object_fit": null,
            "object_position": null,
            "order": null,
            "overflow": null,
            "overflow_x": null,
            "overflow_y": null,
            "padding": null,
            "right": null,
            "top": null,
            "visibility": null,
            "width": null
          }
        },
        "8d4ba62b1b234174a19ee5af914b64c8": {
          "model_module": "@jupyter-widgets/controls",
          "model_name": "DescriptionStyleModel",
          "model_module_version": "1.5.0",
          "state": {
            "_model_module": "@jupyter-widgets/controls",
            "_model_module_version": "1.5.0",
            "_model_name": "DescriptionStyleModel",
            "_view_count": null,
            "_view_module": "@jupyter-widgets/base",
            "_view_module_version": "1.2.0",
            "_view_name": "StyleView",
            "description_width": ""
          }
        },
        "5e8218b32b0b4d5db768da177ed09bdf": {
          "model_module": "@jupyter-widgets/controls",
          "model_name": "HBoxModel",
          "model_module_version": "1.5.0",
          "state": {
            "_dom_classes": [],
            "_model_module": "@jupyter-widgets/controls",
            "_model_module_version": "1.5.0",
            "_model_name": "HBoxModel",
            "_view_count": null,
            "_view_module": "@jupyter-widgets/controls",
            "_view_module_version": "1.5.0",
            "_view_name": "HBoxView",
            "box_style": "",
            "children": [
              "IPY_MODEL_d165f19f5d474f5685596b0bed1ac416",
              "IPY_MODEL_189cbd34242e43a394f5b02702b569cd",
              "IPY_MODEL_74e1033bb25e42149baf36a5cb781b99"
            ],
            "layout": "IPY_MODEL_653b4a5567c64016a4420f7ef78aa56a"
          }
        },
        "d165f19f5d474f5685596b0bed1ac416": {
          "model_module": "@jupyter-widgets/controls",
          "model_name": "HTMLModel",
          "model_module_version": "1.5.0",
          "state": {
            "_dom_classes": [],
            "_model_module": "@jupyter-widgets/controls",
            "_model_module_version": "1.5.0",
            "_model_name": "HTMLModel",
            "_view_count": null,
            "_view_module": "@jupyter-widgets/controls",
            "_view_module_version": "1.5.0",
            "_view_name": "HTMLView",
            "description": "",
            "description_tooltip": null,
            "layout": "IPY_MODEL_0937b5c610d14248a579ca38850e27a5",
            "placeholder": "​",
            "style": "IPY_MODEL_abdefc70e51944bca90122af3d207b1a",
            "value": "vocab.txt: 100%"
          }
        },
        "189cbd34242e43a394f5b02702b569cd": {
          "model_module": "@jupyter-widgets/controls",
          "model_name": "FloatProgressModel",
          "model_module_version": "1.5.0",
          "state": {
            "_dom_classes": [],
            "_model_module": "@jupyter-widgets/controls",
            "_model_module_version": "1.5.0",
            "_model_name": "FloatProgressModel",
            "_view_count": null,
            "_view_module": "@jupyter-widgets/controls",
            "_view_module_version": "1.5.0",
            "_view_name": "ProgressView",
            "bar_style": "success",
            "description": "",
            "description_tooltip": null,
            "layout": "IPY_MODEL_2fc83faf34484fc38c7c9d99ca480da2",
            "max": 995526,
            "min": 0,
            "orientation": "horizontal",
            "style": "IPY_MODEL_340b50a4e7b1484a9f3d6a34c3c89ad4",
            "value": 995526
          }
        },
        "74e1033bb25e42149baf36a5cb781b99": {
          "model_module": "@jupyter-widgets/controls",
          "model_name": "HTMLModel",
          "model_module_version": "1.5.0",
          "state": {
            "_dom_classes": [],
            "_model_module": "@jupyter-widgets/controls",
            "_model_module_version": "1.5.0",
            "_model_name": "HTMLModel",
            "_view_count": null,
            "_view_module": "@jupyter-widgets/controls",
            "_view_module_version": "1.5.0",
            "_view_name": "HTMLView",
            "description": "",
            "description_tooltip": null,
            "layout": "IPY_MODEL_467cb653b58d475c9b466a18b5a8c9bf",
            "placeholder": "​",
            "style": "IPY_MODEL_f6f5721c4c0c4bdd8b68749dd94d4a54",
            "value": " 996k/996k [00:00&lt;00:00, 3.79MB/s]"
          }
        },
        "653b4a5567c64016a4420f7ef78aa56a": {
          "model_module": "@jupyter-widgets/base",
          "model_name": "LayoutModel",
          "model_module_version": "1.2.0",
          "state": {
            "_model_module": "@jupyter-widgets/base",
            "_model_module_version": "1.2.0",
            "_model_name": "LayoutModel",
            "_view_count": null,
            "_view_module": "@jupyter-widgets/base",
            "_view_module_version": "1.2.0",
            "_view_name": "LayoutView",
            "align_content": null,
            "align_items": null,
            "align_self": null,
            "border": null,
            "bottom": null,
            "display": null,
            "flex": null,
            "flex_flow": null,
            "grid_area": null,
            "grid_auto_columns": null,
            "grid_auto_flow": null,
            "grid_auto_rows": null,
            "grid_column": null,
            "grid_gap": null,
            "grid_row": null,
            "grid_template_areas": null,
            "grid_template_columns": null,
            "grid_template_rows": null,
            "height": null,
            "justify_content": null,
            "justify_items": null,
            "left": null,
            "margin": null,
            "max_height": null,
            "max_width": null,
            "min_height": null,
            "min_width": null,
            "object_fit": null,
            "object_position": null,
            "order": null,
            "overflow": null,
            "overflow_x": null,
            "overflow_y": null,
            "padding": null,
            "right": null,
            "top": null,
            "visibility": null,
            "width": null
          }
        },
        "0937b5c610d14248a579ca38850e27a5": {
          "model_module": "@jupyter-widgets/base",
          "model_name": "LayoutModel",
          "model_module_version": "1.2.0",
          "state": {
            "_model_module": "@jupyter-widgets/base",
            "_model_module_version": "1.2.0",
            "_model_name": "LayoutModel",
            "_view_count": null,
            "_view_module": "@jupyter-widgets/base",
            "_view_module_version": "1.2.0",
            "_view_name": "LayoutView",
            "align_content": null,
            "align_items": null,
            "align_self": null,
            "border": null,
            "bottom": null,
            "display": null,
            "flex": null,
            "flex_flow": null,
            "grid_area": null,
            "grid_auto_columns": null,
            "grid_auto_flow": null,
            "grid_auto_rows": null,
            "grid_column": null,
            "grid_gap": null,
            "grid_row": null,
            "grid_template_areas": null,
            "grid_template_columns": null,
            "grid_template_rows": null,
            "height": null,
            "justify_content": null,
            "justify_items": null,
            "left": null,
            "margin": null,
            "max_height": null,
            "max_width": null,
            "min_height": null,
            "min_width": null,
            "object_fit": null,
            "object_position": null,
            "order": null,
            "overflow": null,
            "overflow_x": null,
            "overflow_y": null,
            "padding": null,
            "right": null,
            "top": null,
            "visibility": null,
            "width": null
          }
        },
        "abdefc70e51944bca90122af3d207b1a": {
          "model_module": "@jupyter-widgets/controls",
          "model_name": "DescriptionStyleModel",
          "model_module_version": "1.5.0",
          "state": {
            "_model_module": "@jupyter-widgets/controls",
            "_model_module_version": "1.5.0",
            "_model_name": "DescriptionStyleModel",
            "_view_count": null,
            "_view_module": "@jupyter-widgets/base",
            "_view_module_version": "1.2.0",
            "_view_name": "StyleView",
            "description_width": ""
          }
        },
        "2fc83faf34484fc38c7c9d99ca480da2": {
          "model_module": "@jupyter-widgets/base",
          "model_name": "LayoutModel",
          "model_module_version": "1.2.0",
          "state": {
            "_model_module": "@jupyter-widgets/base",
            "_model_module_version": "1.2.0",
            "_model_name": "LayoutModel",
            "_view_count": null,
            "_view_module": "@jupyter-widgets/base",
            "_view_module_version": "1.2.0",
            "_view_name": "LayoutView",
            "align_content": null,
            "align_items": null,
            "align_self": null,
            "border": null,
            "bottom": null,
            "display": null,
            "flex": null,
            "flex_flow": null,
            "grid_area": null,
            "grid_auto_columns": null,
            "grid_auto_flow": null,
            "grid_auto_rows": null,
            "grid_column": null,
            "grid_gap": null,
            "grid_row": null,
            "grid_template_areas": null,
            "grid_template_columns": null,
            "grid_template_rows": null,
            "height": null,
            "justify_content": null,
            "justify_items": null,
            "left": null,
            "margin": null,
            "max_height": null,
            "max_width": null,
            "min_height": null,
            "min_width": null,
            "object_fit": null,
            "object_position": null,
            "order": null,
            "overflow": null,
            "overflow_x": null,
            "overflow_y": null,
            "padding": null,
            "right": null,
            "top": null,
            "visibility": null,
            "width": null
          }
        },
        "340b50a4e7b1484a9f3d6a34c3c89ad4": {
          "model_module": "@jupyter-widgets/controls",
          "model_name": "ProgressStyleModel",
          "model_module_version": "1.5.0",
          "state": {
            "_model_module": "@jupyter-widgets/controls",
            "_model_module_version": "1.5.0",
            "_model_name": "ProgressStyleModel",
            "_view_count": null,
            "_view_module": "@jupyter-widgets/base",
            "_view_module_version": "1.2.0",
            "_view_name": "StyleView",
            "bar_color": null,
            "description_width": ""
          }
        },
        "467cb653b58d475c9b466a18b5a8c9bf": {
          "model_module": "@jupyter-widgets/base",
          "model_name": "LayoutModel",
          "model_module_version": "1.2.0",
          "state": {
            "_model_module": "@jupyter-widgets/base",
            "_model_module_version": "1.2.0",
            "_model_name": "LayoutModel",
            "_view_count": null,
            "_view_module": "@jupyter-widgets/base",
            "_view_module_version": "1.2.0",
            "_view_name": "LayoutView",
            "align_content": null,
            "align_items": null,
            "align_self": null,
            "border": null,
            "bottom": null,
            "display": null,
            "flex": null,
            "flex_flow": null,
            "grid_area": null,
            "grid_auto_columns": null,
            "grid_auto_flow": null,
            "grid_auto_rows": null,
            "grid_column": null,
            "grid_gap": null,
            "grid_row": null,
            "grid_template_areas": null,
            "grid_template_columns": null,
            "grid_template_rows": null,
            "height": null,
            "justify_content": null,
            "justify_items": null,
            "left": null,
            "margin": null,
            "max_height": null,
            "max_width": null,
            "min_height": null,
            "min_width": null,
            "object_fit": null,
            "object_position": null,
            "order": null,
            "overflow": null,
            "overflow_x": null,
            "overflow_y": null,
            "padding": null,
            "right": null,
            "top": null,
            "visibility": null,
            "width": null
          }
        },
        "f6f5721c4c0c4bdd8b68749dd94d4a54": {
          "model_module": "@jupyter-widgets/controls",
          "model_name": "DescriptionStyleModel",
          "model_module_version": "1.5.0",
          "state": {
            "_model_module": "@jupyter-widgets/controls",
            "_model_module_version": "1.5.0",
            "_model_name": "DescriptionStyleModel",
            "_view_count": null,
            "_view_module": "@jupyter-widgets/base",
            "_view_module_version": "1.2.0",
            "_view_name": "StyleView",
            "description_width": ""
          }
        },
        "796bf14cf1d842e58347f53098b1249f": {
          "model_module": "@jupyter-widgets/controls",
          "model_name": "HBoxModel",
          "model_module_version": "1.5.0",
          "state": {
            "_dom_classes": [],
            "_model_module": "@jupyter-widgets/controls",
            "_model_module_version": "1.5.0",
            "_model_name": "HBoxModel",
            "_view_count": null,
            "_view_module": "@jupyter-widgets/controls",
            "_view_module_version": "1.5.0",
            "_view_name": "HBoxView",
            "box_style": "",
            "children": [
              "IPY_MODEL_20fbd9aacd0845398fab3bf9f52c74c6",
              "IPY_MODEL_3f85aa3e65624ff88461f5e769a8a05b",
              "IPY_MODEL_f5a9ced40be945f0becbe5c9ca282ca2"
            ],
            "layout": "IPY_MODEL_49d241228653467bb0dcccda165521a7"
          }
        },
        "20fbd9aacd0845398fab3bf9f52c74c6": {
          "model_module": "@jupyter-widgets/controls",
          "model_name": "HTMLModel",
          "model_module_version": "1.5.0",
          "state": {
            "_dom_classes": [],
            "_model_module": "@jupyter-widgets/controls",
            "_model_module_version": "1.5.0",
            "_model_name": "HTMLModel",
            "_view_count": null,
            "_view_module": "@jupyter-widgets/controls",
            "_view_module_version": "1.5.0",
            "_view_name": "HTMLView",
            "description": "",
            "description_tooltip": null,
            "layout": "IPY_MODEL_befbce6296364593aaade41d07e43e12",
            "placeholder": "​",
            "style": "IPY_MODEL_e195024b28af497a851039e8c00985d7",
            "value": "tokenizer.json: 100%"
          }
        },
        "3f85aa3e65624ff88461f5e769a8a05b": {
          "model_module": "@jupyter-widgets/controls",
          "model_name": "FloatProgressModel",
          "model_module_version": "1.5.0",
          "state": {
            "_dom_classes": [],
            "_model_module": "@jupyter-widgets/controls",
            "_model_module_version": "1.5.0",
            "_model_name": "FloatProgressModel",
            "_view_count": null,
            "_view_module": "@jupyter-widgets/controls",
            "_view_module_version": "1.5.0",
            "_view_name": "ProgressView",
            "bar_style": "success",
            "description": "",
            "description_tooltip": null,
            "layout": "IPY_MODEL_ba694869d92d4fad822aa9c9d7d09643",
            "max": 1961828,
            "min": 0,
            "orientation": "horizontal",
            "style": "IPY_MODEL_54b6be538d8541acaa8f81a2c1d84ee2",
            "value": 1961828
          }
        },
        "f5a9ced40be945f0becbe5c9ca282ca2": {
          "model_module": "@jupyter-widgets/controls",
          "model_name": "HTMLModel",
          "model_module_version": "1.5.0",
          "state": {
            "_dom_classes": [],
            "_model_module": "@jupyter-widgets/controls",
            "_model_module_version": "1.5.0",
            "_model_name": "HTMLModel",
            "_view_count": null,
            "_view_module": "@jupyter-widgets/controls",
            "_view_module_version": "1.5.0",
            "_view_name": "HTMLView",
            "description": "",
            "description_tooltip": null,
            "layout": "IPY_MODEL_c3715c14cdc549b3a49a82b30565ed99",
            "placeholder": "​",
            "style": "IPY_MODEL_d3833c3d83c84141b0f3e676bfef9ef9",
            "value": " 1.96M/1.96M [00:00&lt;00:00, 7.43MB/s]"
          }
        },
        "49d241228653467bb0dcccda165521a7": {
          "model_module": "@jupyter-widgets/base",
          "model_name": "LayoutModel",
          "model_module_version": "1.2.0",
          "state": {
            "_model_module": "@jupyter-widgets/base",
            "_model_module_version": "1.2.0",
            "_model_name": "LayoutModel",
            "_view_count": null,
            "_view_module": "@jupyter-widgets/base",
            "_view_module_version": "1.2.0",
            "_view_name": "LayoutView",
            "align_content": null,
            "align_items": null,
            "align_self": null,
            "border": null,
            "bottom": null,
            "display": null,
            "flex": null,
            "flex_flow": null,
            "grid_area": null,
            "grid_auto_columns": null,
            "grid_auto_flow": null,
            "grid_auto_rows": null,
            "grid_column": null,
            "grid_gap": null,
            "grid_row": null,
            "grid_template_areas": null,
            "grid_template_columns": null,
            "grid_template_rows": null,
            "height": null,
            "justify_content": null,
            "justify_items": null,
            "left": null,
            "margin": null,
            "max_height": null,
            "max_width": null,
            "min_height": null,
            "min_width": null,
            "object_fit": null,
            "object_position": null,
            "order": null,
            "overflow": null,
            "overflow_x": null,
            "overflow_y": null,
            "padding": null,
            "right": null,
            "top": null,
            "visibility": null,
            "width": null
          }
        },
        "befbce6296364593aaade41d07e43e12": {
          "model_module": "@jupyter-widgets/base",
          "model_name": "LayoutModel",
          "model_module_version": "1.2.0",
          "state": {
            "_model_module": "@jupyter-widgets/base",
            "_model_module_version": "1.2.0",
            "_model_name": "LayoutModel",
            "_view_count": null,
            "_view_module": "@jupyter-widgets/base",
            "_view_module_version": "1.2.0",
            "_view_name": "LayoutView",
            "align_content": null,
            "align_items": null,
            "align_self": null,
            "border": null,
            "bottom": null,
            "display": null,
            "flex": null,
            "flex_flow": null,
            "grid_area": null,
            "grid_auto_columns": null,
            "grid_auto_flow": null,
            "grid_auto_rows": null,
            "grid_column": null,
            "grid_gap": null,
            "grid_row": null,
            "grid_template_areas": null,
            "grid_template_columns": null,
            "grid_template_rows": null,
            "height": null,
            "justify_content": null,
            "justify_items": null,
            "left": null,
            "margin": null,
            "max_height": null,
            "max_width": null,
            "min_height": null,
            "min_width": null,
            "object_fit": null,
            "object_position": null,
            "order": null,
            "overflow": null,
            "overflow_x": null,
            "overflow_y": null,
            "padding": null,
            "right": null,
            "top": null,
            "visibility": null,
            "width": null
          }
        },
        "e195024b28af497a851039e8c00985d7": {
          "model_module": "@jupyter-widgets/controls",
          "model_name": "DescriptionStyleModel",
          "model_module_version": "1.5.0",
          "state": {
            "_model_module": "@jupyter-widgets/controls",
            "_model_module_version": "1.5.0",
            "_model_name": "DescriptionStyleModel",
            "_view_count": null,
            "_view_module": "@jupyter-widgets/base",
            "_view_module_version": "1.2.0",
            "_view_name": "StyleView",
            "description_width": ""
          }
        },
        "ba694869d92d4fad822aa9c9d7d09643": {
          "model_module": "@jupyter-widgets/base",
          "model_name": "LayoutModel",
          "model_module_version": "1.2.0",
          "state": {
            "_model_module": "@jupyter-widgets/base",
            "_model_module_version": "1.2.0",
            "_model_name": "LayoutModel",
            "_view_count": null,
            "_view_module": "@jupyter-widgets/base",
            "_view_module_version": "1.2.0",
            "_view_name": "LayoutView",
            "align_content": null,
            "align_items": null,
            "align_self": null,
            "border": null,
            "bottom": null,
            "display": null,
            "flex": null,
            "flex_flow": null,
            "grid_area": null,
            "grid_auto_columns": null,
            "grid_auto_flow": null,
            "grid_auto_rows": null,
            "grid_column": null,
            "grid_gap": null,
            "grid_row": null,
            "grid_template_areas": null,
            "grid_template_columns": null,
            "grid_template_rows": null,
            "height": null,
            "justify_content": null,
            "justify_items": null,
            "left": null,
            "margin": null,
            "max_height": null,
            "max_width": null,
            "min_height": null,
            "min_width": null,
            "object_fit": null,
            "object_position": null,
            "order": null,
            "overflow": null,
            "overflow_x": null,
            "overflow_y": null,
            "padding": null,
            "right": null,
            "top": null,
            "visibility": null,
            "width": null
          }
        },
        "54b6be538d8541acaa8f81a2c1d84ee2": {
          "model_module": "@jupyter-widgets/controls",
          "model_name": "ProgressStyleModel",
          "model_module_version": "1.5.0",
          "state": {
            "_model_module": "@jupyter-widgets/controls",
            "_model_module_version": "1.5.0",
            "_model_name": "ProgressStyleModel",
            "_view_count": null,
            "_view_module": "@jupyter-widgets/base",
            "_view_module_version": "1.2.0",
            "_view_name": "StyleView",
            "bar_color": null,
            "description_width": ""
          }
        },
        "c3715c14cdc549b3a49a82b30565ed99": {
          "model_module": "@jupyter-widgets/base",
          "model_name": "LayoutModel",
          "model_module_version": "1.2.0",
          "state": {
            "_model_module": "@jupyter-widgets/base",
            "_model_module_version": "1.2.0",
            "_model_name": "LayoutModel",
            "_view_count": null,
            "_view_module": "@jupyter-widgets/base",
            "_view_module_version": "1.2.0",
            "_view_name": "LayoutView",
            "align_content": null,
            "align_items": null,
            "align_self": null,
            "border": null,
            "bottom": null,
            "display": null,
            "flex": null,
            "flex_flow": null,
            "grid_area": null,
            "grid_auto_columns": null,
            "grid_auto_flow": null,
            "grid_auto_rows": null,
            "grid_column": null,
            "grid_gap": null,
            "grid_row": null,
            "grid_template_areas": null,
            "grid_template_columns": null,
            "grid_template_rows": null,
            "height": null,
            "justify_content": null,
            "justify_items": null,
            "left": null,
            "margin": null,
            "max_height": null,
            "max_width": null,
            "min_height": null,
            "min_width": null,
            "object_fit": null,
            "object_position": null,
            "order": null,
            "overflow": null,
            "overflow_x": null,
            "overflow_y": null,
            "padding": null,
            "right": null,
            "top": null,
            "visibility": null,
            "width": null
          }
        },
        "d3833c3d83c84141b0f3e676bfef9ef9": {
          "model_module": "@jupyter-widgets/controls",
          "model_name": "DescriptionStyleModel",
          "model_module_version": "1.5.0",
          "state": {
            "_model_module": "@jupyter-widgets/controls",
            "_model_module_version": "1.5.0",
            "_model_name": "DescriptionStyleModel",
            "_view_count": null,
            "_view_module": "@jupyter-widgets/base",
            "_view_module_version": "1.2.0",
            "_view_name": "StyleView",
            "description_width": ""
          }
        },
        "040ccf66df3743f786a4dc5440b16304": {
          "model_module": "@jupyter-widgets/controls",
          "model_name": "HBoxModel",
          "model_module_version": "1.5.0",
          "state": {
            "_dom_classes": [],
            "_model_module": "@jupyter-widgets/controls",
            "_model_module_version": "1.5.0",
            "_model_name": "HBoxModel",
            "_view_count": null,
            "_view_module": "@jupyter-widgets/controls",
            "_view_module_version": "1.5.0",
            "_view_name": "HBoxView",
            "box_style": "",
            "children": [
              "IPY_MODEL_1528042d4b304fe2a270aa4df6d47bf7",
              "IPY_MODEL_f393b2a348e145928e2442f8d3a0fc03",
              "IPY_MODEL_89b3e7d804fa4d338aead15239bfb632"
            ],
            "layout": "IPY_MODEL_9a815cb382fe4aca8f004c5193cc7ad7"
          }
        },
        "1528042d4b304fe2a270aa4df6d47bf7": {
          "model_module": "@jupyter-widgets/controls",
          "model_name": "HTMLModel",
          "model_module_version": "1.5.0",
          "state": {
            "_dom_classes": [],
            "_model_module": "@jupyter-widgets/controls",
            "_model_module_version": "1.5.0",
            "_model_name": "HTMLModel",
            "_view_count": null,
            "_view_module": "@jupyter-widgets/controls",
            "_view_module_version": "1.5.0",
            "_view_name": "HTMLView",
            "description": "",
            "description_tooltip": null,
            "layout": "IPY_MODEL_2a48cdd7e3a744999388ce14b09f74e7",
            "placeholder": "​",
            "style": "IPY_MODEL_293b2089f3864a22baf5a4dcc4f7af88",
            "value": "config.json: 100%"
          }
        },
        "f393b2a348e145928e2442f8d3a0fc03": {
          "model_module": "@jupyter-widgets/controls",
          "model_name": "FloatProgressModel",
          "model_module_version": "1.5.0",
          "state": {
            "_dom_classes": [],
            "_model_module": "@jupyter-widgets/controls",
            "_model_module_version": "1.5.0",
            "_model_name": "FloatProgressModel",
            "_view_count": null,
            "_view_module": "@jupyter-widgets/controls",
            "_view_module_version": "1.5.0",
            "_view_name": "ProgressView",
            "bar_style": "success",
            "description": "",
            "description_tooltip": null,
            "layout": "IPY_MODEL_7ce0e06b237a4fd8a7af544b536c6fd5",
            "max": 625,
            "min": 0,
            "orientation": "horizontal",
            "style": "IPY_MODEL_7a57ae978d004a42be06f95e0677ed10",
            "value": 625
          }
        },
        "89b3e7d804fa4d338aead15239bfb632": {
          "model_module": "@jupyter-widgets/controls",
          "model_name": "HTMLModel",
          "model_module_version": "1.5.0",
          "state": {
            "_dom_classes": [],
            "_model_module": "@jupyter-widgets/controls",
            "_model_module_version": "1.5.0",
            "_model_name": "HTMLModel",
            "_view_count": null,
            "_view_module": "@jupyter-widgets/controls",
            "_view_module_version": "1.5.0",
            "_view_name": "HTMLView",
            "description": "",
            "description_tooltip": null,
            "layout": "IPY_MODEL_08867934f0e841cb9aef347eca14f490",
            "placeholder": "​",
            "style": "IPY_MODEL_0b8d483c42f84157940edf51e63e14e3",
            "value": " 625/625 [00:00&lt;00:00, 14.2kB/s]"
          }
        },
        "9a815cb382fe4aca8f004c5193cc7ad7": {
          "model_module": "@jupyter-widgets/base",
          "model_name": "LayoutModel",
          "model_module_version": "1.2.0",
          "state": {
            "_model_module": "@jupyter-widgets/base",
            "_model_module_version": "1.2.0",
            "_model_name": "LayoutModel",
            "_view_count": null,
            "_view_module": "@jupyter-widgets/base",
            "_view_module_version": "1.2.0",
            "_view_name": "LayoutView",
            "align_content": null,
            "align_items": null,
            "align_self": null,
            "border": null,
            "bottom": null,
            "display": null,
            "flex": null,
            "flex_flow": null,
            "grid_area": null,
            "grid_auto_columns": null,
            "grid_auto_flow": null,
            "grid_auto_rows": null,
            "grid_column": null,
            "grid_gap": null,
            "grid_row": null,
            "grid_template_areas": null,
            "grid_template_columns": null,
            "grid_template_rows": null,
            "height": null,
            "justify_content": null,
            "justify_items": null,
            "left": null,
            "margin": null,
            "max_height": null,
            "max_width": null,
            "min_height": null,
            "min_width": null,
            "object_fit": null,
            "object_position": null,
            "order": null,
            "overflow": null,
            "overflow_x": null,
            "overflow_y": null,
            "padding": null,
            "right": null,
            "top": null,
            "visibility": null,
            "width": null
          }
        },
        "2a48cdd7e3a744999388ce14b09f74e7": {
          "model_module": "@jupyter-widgets/base",
          "model_name": "LayoutModel",
          "model_module_version": "1.2.0",
          "state": {
            "_model_module": "@jupyter-widgets/base",
            "_model_module_version": "1.2.0",
            "_model_name": "LayoutModel",
            "_view_count": null,
            "_view_module": "@jupyter-widgets/base",
            "_view_module_version": "1.2.0",
            "_view_name": "LayoutView",
            "align_content": null,
            "align_items": null,
            "align_self": null,
            "border": null,
            "bottom": null,
            "display": null,
            "flex": null,
            "flex_flow": null,
            "grid_area": null,
            "grid_auto_columns": null,
            "grid_auto_flow": null,
            "grid_auto_rows": null,
            "grid_column": null,
            "grid_gap": null,
            "grid_row": null,
            "grid_template_areas": null,
            "grid_template_columns": null,
            "grid_template_rows": null,
            "height": null,
            "justify_content": null,
            "justify_items": null,
            "left": null,
            "margin": null,
            "max_height": null,
            "max_width": null,
            "min_height": null,
            "min_width": null,
            "object_fit": null,
            "object_position": null,
            "order": null,
            "overflow": null,
            "overflow_x": null,
            "overflow_y": null,
            "padding": null,
            "right": null,
            "top": null,
            "visibility": null,
            "width": null
          }
        },
        "293b2089f3864a22baf5a4dcc4f7af88": {
          "model_module": "@jupyter-widgets/controls",
          "model_name": "DescriptionStyleModel",
          "model_module_version": "1.5.0",
          "state": {
            "_model_module": "@jupyter-widgets/controls",
            "_model_module_version": "1.5.0",
            "_model_name": "DescriptionStyleModel",
            "_view_count": null,
            "_view_module": "@jupyter-widgets/base",
            "_view_module_version": "1.2.0",
            "_view_name": "StyleView",
            "description_width": ""
          }
        },
        "7ce0e06b237a4fd8a7af544b536c6fd5": {
          "model_module": "@jupyter-widgets/base",
          "model_name": "LayoutModel",
          "model_module_version": "1.2.0",
          "state": {
            "_model_module": "@jupyter-widgets/base",
            "_model_module_version": "1.2.0",
            "_model_name": "LayoutModel",
            "_view_count": null,
            "_view_module": "@jupyter-widgets/base",
            "_view_module_version": "1.2.0",
            "_view_name": "LayoutView",
            "align_content": null,
            "align_items": null,
            "align_self": null,
            "border": null,
            "bottom": null,
            "display": null,
            "flex": null,
            "flex_flow": null,
            "grid_area": null,
            "grid_auto_columns": null,
            "grid_auto_flow": null,
            "grid_auto_rows": null,
            "grid_column": null,
            "grid_gap": null,
            "grid_row": null,
            "grid_template_areas": null,
            "grid_template_columns": null,
            "grid_template_rows": null,
            "height": null,
            "justify_content": null,
            "justify_items": null,
            "left": null,
            "margin": null,
            "max_height": null,
            "max_width": null,
            "min_height": null,
            "min_width": null,
            "object_fit": null,
            "object_position": null,
            "order": null,
            "overflow": null,
            "overflow_x": null,
            "overflow_y": null,
            "padding": null,
            "right": null,
            "top": null,
            "visibility": null,
            "width": null
          }
        },
        "7a57ae978d004a42be06f95e0677ed10": {
          "model_module": "@jupyter-widgets/controls",
          "model_name": "ProgressStyleModel",
          "model_module_version": "1.5.0",
          "state": {
            "_model_module": "@jupyter-widgets/controls",
            "_model_module_version": "1.5.0",
            "_model_name": "ProgressStyleModel",
            "_view_count": null,
            "_view_module": "@jupyter-widgets/base",
            "_view_module_version": "1.2.0",
            "_view_name": "StyleView",
            "bar_color": null,
            "description_width": ""
          }
        },
        "08867934f0e841cb9aef347eca14f490": {
          "model_module": "@jupyter-widgets/base",
          "model_name": "LayoutModel",
          "model_module_version": "1.2.0",
          "state": {
            "_model_module": "@jupyter-widgets/base",
            "_model_module_version": "1.2.0",
            "_model_name": "LayoutModel",
            "_view_count": null,
            "_view_module": "@jupyter-widgets/base",
            "_view_module_version": "1.2.0",
            "_view_name": "LayoutView",
            "align_content": null,
            "align_items": null,
            "align_self": null,
            "border": null,
            "bottom": null,
            "display": null,
            "flex": null,
            "flex_flow": null,
            "grid_area": null,
            "grid_auto_columns": null,
            "grid_auto_flow": null,
            "grid_auto_rows": null,
            "grid_column": null,
            "grid_gap": null,
            "grid_row": null,
            "grid_template_areas": null,
            "grid_template_columns": null,
            "grid_template_rows": null,
            "height": null,
            "justify_content": null,
            "justify_items": null,
            "left": null,
            "margin": null,
            "max_height": null,
            "max_width": null,
            "min_height": null,
            "min_width": null,
            "object_fit": null,
            "object_position": null,
            "order": null,
            "overflow": null,
            "overflow_x": null,
            "overflow_y": null,
            "padding": null,
            "right": null,
            "top": null,
            "visibility": null,
            "width": null
          }
        },
        "0b8d483c42f84157940edf51e63e14e3": {
          "model_module": "@jupyter-widgets/controls",
          "model_name": "DescriptionStyleModel",
          "model_module_version": "1.5.0",
          "state": {
            "_model_module": "@jupyter-widgets/controls",
            "_model_module_version": "1.5.0",
            "_model_name": "DescriptionStyleModel",
            "_view_count": null,
            "_view_module": "@jupyter-widgets/base",
            "_view_module_version": "1.2.0",
            "_view_name": "StyleView",
            "description_width": ""
          }
        },
        "bfbf6820c08b4796b53eae84038a7353": {
          "model_module": "@jupyter-widgets/controls",
          "model_name": "HBoxModel",
          "model_module_version": "1.5.0",
          "state": {
            "_dom_classes": [],
            "_model_module": "@jupyter-widgets/controls",
            "_model_module_version": "1.5.0",
            "_model_name": "HBoxModel",
            "_view_count": null,
            "_view_module": "@jupyter-widgets/controls",
            "_view_module_version": "1.5.0",
            "_view_name": "HBoxView",
            "box_style": "",
            "children": [
              "IPY_MODEL_bb786a7e8bae4640b54a3947b29527cc",
              "IPY_MODEL_c2da5dd2101143ab8cfa881c9d778440",
              "IPY_MODEL_69b090b17f6c4b8aae94fb6d0b8dfa75"
            ],
            "layout": "IPY_MODEL_d8b578116e2e40b38129088d38db54e4"
          }
        },
        "bb786a7e8bae4640b54a3947b29527cc": {
          "model_module": "@jupyter-widgets/controls",
          "model_name": "HTMLModel",
          "model_module_version": "1.5.0",
          "state": {
            "_dom_classes": [],
            "_model_module": "@jupyter-widgets/controls",
            "_model_module_version": "1.5.0",
            "_model_name": "HTMLModel",
            "_view_count": null,
            "_view_module": "@jupyter-widgets/controls",
            "_view_module_version": "1.5.0",
            "_view_name": "HTMLView",
            "description": "",
            "description_tooltip": null,
            "layout": "IPY_MODEL_7e0db735143845089d7b06dcf3a1fef9",
            "placeholder": "​",
            "style": "IPY_MODEL_29447a974aef485caea53a0267a48b1e",
            "value": "config.json: 100%"
          }
        },
        "c2da5dd2101143ab8cfa881c9d778440": {
          "model_module": "@jupyter-widgets/controls",
          "model_name": "FloatProgressModel",
          "model_module_version": "1.5.0",
          "state": {
            "_dom_classes": [],
            "_model_module": "@jupyter-widgets/controls",
            "_model_module_version": "1.5.0",
            "_model_name": "FloatProgressModel",
            "_view_count": null,
            "_view_module": "@jupyter-widgets/controls",
            "_view_module_version": "1.5.0",
            "_view_name": "ProgressView",
            "bar_style": "success",
            "description": "",
            "description_tooltip": null,
            "layout": "IPY_MODEL_e13b870df5764f049b0cdb8afba7b168",
            "max": 625,
            "min": 0,
            "orientation": "horizontal",
            "style": "IPY_MODEL_b77e3ec5d4ec47038916dbc28b19050f",
            "value": 625
          }
        },
        "69b090b17f6c4b8aae94fb6d0b8dfa75": {
          "model_module": "@jupyter-widgets/controls",
          "model_name": "HTMLModel",
          "model_module_version": "1.5.0",
          "state": {
            "_dom_classes": [],
            "_model_module": "@jupyter-widgets/controls",
            "_model_module_version": "1.5.0",
            "_model_name": "HTMLModel",
            "_view_count": null,
            "_view_module": "@jupyter-widgets/controls",
            "_view_module_version": "1.5.0",
            "_view_name": "HTMLView",
            "description": "",
            "description_tooltip": null,
            "layout": "IPY_MODEL_f379b02c29684cad8e56e051accb3927",
            "placeholder": "​",
            "style": "IPY_MODEL_523dc9c996614714af46cd5a2e98a968",
            "value": " 625/625 [00:00&lt;00:00, 25.6kB/s]"
          }
        },
        "d8b578116e2e40b38129088d38db54e4": {
          "model_module": "@jupyter-widgets/base",
          "model_name": "LayoutModel",
          "model_module_version": "1.2.0",
          "state": {
            "_model_module": "@jupyter-widgets/base",
            "_model_module_version": "1.2.0",
            "_model_name": "LayoutModel",
            "_view_count": null,
            "_view_module": "@jupyter-widgets/base",
            "_view_module_version": "1.2.0",
            "_view_name": "LayoutView",
            "align_content": null,
            "align_items": null,
            "align_self": null,
            "border": null,
            "bottom": null,
            "display": null,
            "flex": null,
            "flex_flow": null,
            "grid_area": null,
            "grid_auto_columns": null,
            "grid_auto_flow": null,
            "grid_auto_rows": null,
            "grid_column": null,
            "grid_gap": null,
            "grid_row": null,
            "grid_template_areas": null,
            "grid_template_columns": null,
            "grid_template_rows": null,
            "height": null,
            "justify_content": null,
            "justify_items": null,
            "left": null,
            "margin": null,
            "max_height": null,
            "max_width": null,
            "min_height": null,
            "min_width": null,
            "object_fit": null,
            "object_position": null,
            "order": null,
            "overflow": null,
            "overflow_x": null,
            "overflow_y": null,
            "padding": null,
            "right": null,
            "top": null,
            "visibility": null,
            "width": null
          }
        },
        "7e0db735143845089d7b06dcf3a1fef9": {
          "model_module": "@jupyter-widgets/base",
          "model_name": "LayoutModel",
          "model_module_version": "1.2.0",
          "state": {
            "_model_module": "@jupyter-widgets/base",
            "_model_module_version": "1.2.0",
            "_model_name": "LayoutModel",
            "_view_count": null,
            "_view_module": "@jupyter-widgets/base",
            "_view_module_version": "1.2.0",
            "_view_name": "LayoutView",
            "align_content": null,
            "align_items": null,
            "align_self": null,
            "border": null,
            "bottom": null,
            "display": null,
            "flex": null,
            "flex_flow": null,
            "grid_area": null,
            "grid_auto_columns": null,
            "grid_auto_flow": null,
            "grid_auto_rows": null,
            "grid_column": null,
            "grid_gap": null,
            "grid_row": null,
            "grid_template_areas": null,
            "grid_template_columns": null,
            "grid_template_rows": null,
            "height": null,
            "justify_content": null,
            "justify_items": null,
            "left": null,
            "margin": null,
            "max_height": null,
            "max_width": null,
            "min_height": null,
            "min_width": null,
            "object_fit": null,
            "object_position": null,
            "order": null,
            "overflow": null,
            "overflow_x": null,
            "overflow_y": null,
            "padding": null,
            "right": null,
            "top": null,
            "visibility": null,
            "width": null
          }
        },
        "29447a974aef485caea53a0267a48b1e": {
          "model_module": "@jupyter-widgets/controls",
          "model_name": "DescriptionStyleModel",
          "model_module_version": "1.5.0",
          "state": {
            "_model_module": "@jupyter-widgets/controls",
            "_model_module_version": "1.5.0",
            "_model_name": "DescriptionStyleModel",
            "_view_count": null,
            "_view_module": "@jupyter-widgets/base",
            "_view_module_version": "1.2.0",
            "_view_name": "StyleView",
            "description_width": ""
          }
        },
        "e13b870df5764f049b0cdb8afba7b168": {
          "model_module": "@jupyter-widgets/base",
          "model_name": "LayoutModel",
          "model_module_version": "1.2.0",
          "state": {
            "_model_module": "@jupyter-widgets/base",
            "_model_module_version": "1.2.0",
            "_model_name": "LayoutModel",
            "_view_count": null,
            "_view_module": "@jupyter-widgets/base",
            "_view_module_version": "1.2.0",
            "_view_name": "LayoutView",
            "align_content": null,
            "align_items": null,
            "align_self": null,
            "border": null,
            "bottom": null,
            "display": null,
            "flex": null,
            "flex_flow": null,
            "grid_area": null,
            "grid_auto_columns": null,
            "grid_auto_flow": null,
            "grid_auto_rows": null,
            "grid_column": null,
            "grid_gap": null,
            "grid_row": null,
            "grid_template_areas": null,
            "grid_template_columns": null,
            "grid_template_rows": null,
            "height": null,
            "justify_content": null,
            "justify_items": null,
            "left": null,
            "margin": null,
            "max_height": null,
            "max_width": null,
            "min_height": null,
            "min_width": null,
            "object_fit": null,
            "object_position": null,
            "order": null,
            "overflow": null,
            "overflow_x": null,
            "overflow_y": null,
            "padding": null,
            "right": null,
            "top": null,
            "visibility": null,
            "width": null
          }
        },
        "b77e3ec5d4ec47038916dbc28b19050f": {
          "model_module": "@jupyter-widgets/controls",
          "model_name": "ProgressStyleModel",
          "model_module_version": "1.5.0",
          "state": {
            "_model_module": "@jupyter-widgets/controls",
            "_model_module_version": "1.5.0",
            "_model_name": "ProgressStyleModel",
            "_view_count": null,
            "_view_module": "@jupyter-widgets/base",
            "_view_module_version": "1.2.0",
            "_view_name": "StyleView",
            "bar_color": null,
            "description_width": ""
          }
        },
        "f379b02c29684cad8e56e051accb3927": {
          "model_module": "@jupyter-widgets/base",
          "model_name": "LayoutModel",
          "model_module_version": "1.2.0",
          "state": {
            "_model_module": "@jupyter-widgets/base",
            "_model_module_version": "1.2.0",
            "_model_name": "LayoutModel",
            "_view_count": null,
            "_view_module": "@jupyter-widgets/base",
            "_view_module_version": "1.2.0",
            "_view_name": "LayoutView",
            "align_content": null,
            "align_items": null,
            "align_self": null,
            "border": null,
            "bottom": null,
            "display": null,
            "flex": null,
            "flex_flow": null,
            "grid_area": null,
            "grid_auto_columns": null,
            "grid_auto_flow": null,
            "grid_auto_rows": null,
            "grid_column": null,
            "grid_gap": null,
            "grid_row": null,
            "grid_template_areas": null,
            "grid_template_columns": null,
            "grid_template_rows": null,
            "height": null,
            "justify_content": null,
            "justify_items": null,
            "left": null,
            "margin": null,
            "max_height": null,
            "max_width": null,
            "min_height": null,
            "min_width": null,
            "object_fit": null,
            "object_position": null,
            "order": null,
            "overflow": null,
            "overflow_x": null,
            "overflow_y": null,
            "padding": null,
            "right": null,
            "top": null,
            "visibility": null,
            "width": null
          }
        },
        "523dc9c996614714af46cd5a2e98a968": {
          "model_module": "@jupyter-widgets/controls",
          "model_name": "DescriptionStyleModel",
          "model_module_version": "1.5.0",
          "state": {
            "_model_module": "@jupyter-widgets/controls",
            "_model_module_version": "1.5.0",
            "_model_name": "DescriptionStyleModel",
            "_view_count": null,
            "_view_module": "@jupyter-widgets/base",
            "_view_module_version": "1.2.0",
            "_view_name": "StyleView",
            "description_width": ""
          }
        },
        "fb78fc0b701b4b1c994629f9ea6a3dc7": {
          "model_module": "@jupyter-widgets/controls",
          "model_name": "HBoxModel",
          "model_module_version": "1.5.0",
          "state": {
            "_dom_classes": [],
            "_model_module": "@jupyter-widgets/controls",
            "_model_module_version": "1.5.0",
            "_model_name": "HBoxModel",
            "_view_count": null,
            "_view_module": "@jupyter-widgets/controls",
            "_view_module_version": "1.5.0",
            "_view_name": "HBoxView",
            "box_style": "",
            "children": [
              "IPY_MODEL_e1e9017b7b3f461385f99645bee325e1",
              "IPY_MODEL_1e5f8b6830974a3e8f92fa7e2addc6ec",
              "IPY_MODEL_bf4545ee3d2748a58fc7b2347cfd944a"
            ],
            "layout": "IPY_MODEL_9f9c6866d1f940e7aae1e942e5c09fad"
          }
        },
        "e1e9017b7b3f461385f99645bee325e1": {
          "model_module": "@jupyter-widgets/controls",
          "model_name": "HTMLModel",
          "model_module_version": "1.5.0",
          "state": {
            "_dom_classes": [],
            "_model_module": "@jupyter-widgets/controls",
            "_model_module_version": "1.5.0",
            "_model_name": "HTMLModel",
            "_view_count": null,
            "_view_module": "@jupyter-widgets/controls",
            "_view_module_version": "1.5.0",
            "_view_name": "HTMLView",
            "description": "",
            "description_tooltip": null,
            "layout": "IPY_MODEL_c19ea058fb2244ddb9fdedbedd7ee832",
            "placeholder": "​",
            "style": "IPY_MODEL_23683225405d4a789fc29f51ca78fbc3",
            "value": "model.safetensors: 100%"
          }
        },
        "1e5f8b6830974a3e8f92fa7e2addc6ec": {
          "model_module": "@jupyter-widgets/controls",
          "model_name": "FloatProgressModel",
          "model_module_version": "1.5.0",
          "state": {
            "_dom_classes": [],
            "_model_module": "@jupyter-widgets/controls",
            "_model_module_version": "1.5.0",
            "_model_name": "FloatProgressModel",
            "_view_count": null,
            "_view_module": "@jupyter-widgets/controls",
            "_view_module_version": "1.5.0",
            "_view_name": "ProgressView",
            "bar_style": "success",
            "description": "",
            "description_tooltip": null,
            "layout": "IPY_MODEL_b47bc52497764910b34ecce1145f3cb7",
            "max": 714290682,
            "min": 0,
            "orientation": "horizontal",
            "style": "IPY_MODEL_5ec032f8d29a4e2cb5251f5a85eaacbc",
            "value": 714290682
          }
        },
        "bf4545ee3d2748a58fc7b2347cfd944a": {
          "model_module": "@jupyter-widgets/controls",
          "model_name": "HTMLModel",
          "model_module_version": "1.5.0",
          "state": {
            "_dom_classes": [],
            "_model_module": "@jupyter-widgets/controls",
            "_model_module_version": "1.5.0",
            "_model_name": "HTMLModel",
            "_view_count": null,
            "_view_module": "@jupyter-widgets/controls",
            "_view_module_version": "1.5.0",
            "_view_name": "HTMLView",
            "description": "",
            "description_tooltip": null,
            "layout": "IPY_MODEL_4ab738d06e834b2c9c111af010806c18",
            "placeholder": "​",
            "style": "IPY_MODEL_e591852cb0b9440db87c2239b403af26",
            "value": " 714M/714M [00:10&lt;00:00, 92.1MB/s]"
          }
        },
        "9f9c6866d1f940e7aae1e942e5c09fad": {
          "model_module": "@jupyter-widgets/base",
          "model_name": "LayoutModel",
          "model_module_version": "1.2.0",
          "state": {
            "_model_module": "@jupyter-widgets/base",
            "_model_module_version": "1.2.0",
            "_model_name": "LayoutModel",
            "_view_count": null,
            "_view_module": "@jupyter-widgets/base",
            "_view_module_version": "1.2.0",
            "_view_name": "LayoutView",
            "align_content": null,
            "align_items": null,
            "align_self": null,
            "border": null,
            "bottom": null,
            "display": null,
            "flex": null,
            "flex_flow": null,
            "grid_area": null,
            "grid_auto_columns": null,
            "grid_auto_flow": null,
            "grid_auto_rows": null,
            "grid_column": null,
            "grid_gap": null,
            "grid_row": null,
            "grid_template_areas": null,
            "grid_template_columns": null,
            "grid_template_rows": null,
            "height": null,
            "justify_content": null,
            "justify_items": null,
            "left": null,
            "margin": null,
            "max_height": null,
            "max_width": null,
            "min_height": null,
            "min_width": null,
            "object_fit": null,
            "object_position": null,
            "order": null,
            "overflow": null,
            "overflow_x": null,
            "overflow_y": null,
            "padding": null,
            "right": null,
            "top": null,
            "visibility": null,
            "width": null
          }
        },
        "c19ea058fb2244ddb9fdedbedd7ee832": {
          "model_module": "@jupyter-widgets/base",
          "model_name": "LayoutModel",
          "model_module_version": "1.2.0",
          "state": {
            "_model_module": "@jupyter-widgets/base",
            "_model_module_version": "1.2.0",
            "_model_name": "LayoutModel",
            "_view_count": null,
            "_view_module": "@jupyter-widgets/base",
            "_view_module_version": "1.2.0",
            "_view_name": "LayoutView",
            "align_content": null,
            "align_items": null,
            "align_self": null,
            "border": null,
            "bottom": null,
            "display": null,
            "flex": null,
            "flex_flow": null,
            "grid_area": null,
            "grid_auto_columns": null,
            "grid_auto_flow": null,
            "grid_auto_rows": null,
            "grid_column": null,
            "grid_gap": null,
            "grid_row": null,
            "grid_template_areas": null,
            "grid_template_columns": null,
            "grid_template_rows": null,
            "height": null,
            "justify_content": null,
            "justify_items": null,
            "left": null,
            "margin": null,
            "max_height": null,
            "max_width": null,
            "min_height": null,
            "min_width": null,
            "object_fit": null,
            "object_position": null,
            "order": null,
            "overflow": null,
            "overflow_x": null,
            "overflow_y": null,
            "padding": null,
            "right": null,
            "top": null,
            "visibility": null,
            "width": null
          }
        },
        "23683225405d4a789fc29f51ca78fbc3": {
          "model_module": "@jupyter-widgets/controls",
          "model_name": "DescriptionStyleModel",
          "model_module_version": "1.5.0",
          "state": {
            "_model_module": "@jupyter-widgets/controls",
            "_model_module_version": "1.5.0",
            "_model_name": "DescriptionStyleModel",
            "_view_count": null,
            "_view_module": "@jupyter-widgets/base",
            "_view_module_version": "1.2.0",
            "_view_name": "StyleView",
            "description_width": ""
          }
        },
        "b47bc52497764910b34ecce1145f3cb7": {
          "model_module": "@jupyter-widgets/base",
          "model_name": "LayoutModel",
          "model_module_version": "1.2.0",
          "state": {
            "_model_module": "@jupyter-widgets/base",
            "_model_module_version": "1.2.0",
            "_model_name": "LayoutModel",
            "_view_count": null,
            "_view_module": "@jupyter-widgets/base",
            "_view_module_version": "1.2.0",
            "_view_name": "LayoutView",
            "align_content": null,
            "align_items": null,
            "align_self": null,
            "border": null,
            "bottom": null,
            "display": null,
            "flex": null,
            "flex_flow": null,
            "grid_area": null,
            "grid_auto_columns": null,
            "grid_auto_flow": null,
            "grid_auto_rows": null,
            "grid_column": null,
            "grid_gap": null,
            "grid_row": null,
            "grid_template_areas": null,
            "grid_template_columns": null,
            "grid_template_rows": null,
            "height": null,
            "justify_content": null,
            "justify_items": null,
            "left": null,
            "margin": null,
            "max_height": null,
            "max_width": null,
            "min_height": null,
            "min_width": null,
            "object_fit": null,
            "object_position": null,
            "order": null,
            "overflow": null,
            "overflow_x": null,
            "overflow_y": null,
            "padding": null,
            "right": null,
            "top": null,
            "visibility": null,
            "width": null
          }
        },
        "5ec032f8d29a4e2cb5251f5a85eaacbc": {
          "model_module": "@jupyter-widgets/controls",
          "model_name": "ProgressStyleModel",
          "model_module_version": "1.5.0",
          "state": {
            "_model_module": "@jupyter-widgets/controls",
            "_model_module_version": "1.5.0",
            "_model_name": "ProgressStyleModel",
            "_view_count": null,
            "_view_module": "@jupyter-widgets/base",
            "_view_module_version": "1.2.0",
            "_view_name": "StyleView",
            "bar_color": null,
            "description_width": ""
          }
        },
        "4ab738d06e834b2c9c111af010806c18": {
          "model_module": "@jupyter-widgets/base",
          "model_name": "LayoutModel",
          "model_module_version": "1.2.0",
          "state": {
            "_model_module": "@jupyter-widgets/base",
            "_model_module_version": "1.2.0",
            "_model_name": "LayoutModel",
            "_view_count": null,
            "_view_module": "@jupyter-widgets/base",
            "_view_module_version": "1.2.0",
            "_view_name": "LayoutView",
            "align_content": null,
            "align_items": null,
            "align_self": null,
            "border": null,
            "bottom": null,
            "display": null,
            "flex": null,
            "flex_flow": null,
            "grid_area": null,
            "grid_auto_columns": null,
            "grid_auto_flow": null,
            "grid_auto_rows": null,
            "grid_column": null,
            "grid_gap": null,
            "grid_row": null,
            "grid_template_areas": null,
            "grid_template_columns": null,
            "grid_template_rows": null,
            "height": null,
            "justify_content": null,
            "justify_items": null,
            "left": null,
            "margin": null,
            "max_height": null,
            "max_width": null,
            "min_height": null,
            "min_width": null,
            "object_fit": null,
            "object_position": null,
            "order": null,
            "overflow": null,
            "overflow_x": null,
            "overflow_y": null,
            "padding": null,
            "right": null,
            "top": null,
            "visibility": null,
            "width": null
          }
        },
        "e591852cb0b9440db87c2239b403af26": {
          "model_module": "@jupyter-widgets/controls",
          "model_name": "DescriptionStyleModel",
          "model_module_version": "1.5.0",
          "state": {
            "_model_module": "@jupyter-widgets/controls",
            "_model_module_version": "1.5.0",
            "_model_name": "DescriptionStyleModel",
            "_view_count": null,
            "_view_module": "@jupyter-widgets/base",
            "_view_module_version": "1.2.0",
            "_view_name": "StyleView",
            "description_width": ""
          }
        }
      }
    },
    "accelerator": "GPU"
  },
  "cells": [
    {
      "cell_type": "code",
      "execution_count": null,
      "metadata": {
        "id": "6WG7aWjR-WY5"
      },
      "outputs": [],
      "source": []
    },
    {
      "cell_type": "markdown",
      "source": [
        "- Bert(Bidrectional Encoder Representations from Transformers)  \n",
        "  - 트랜스포머 인코더를 쌓아올린구조(Stacked)\n",
        "    - 사용한 인코더의 개수와 어텐션헤드의 수에따라서 세부모델이 분류\n",
        "  - 특징\n",
        "    - Bidirectional : RNN 계열은 순차처리를 하나 트랜스포머 매커니즘을 이용해서 양방향에서 텍스트를 동시에 처리해서 더 강력한 문맥을 이해\n",
        "    - Maksed Language Model : 문장내 일부 단어를 임의로 마스킹해서 예측하는 방향으로 학습\n",
        "    - Next Sentence Prediction : 문장간의 관계도 학습\n",
        "    - Fine_tuning :  미세조정이 가능 다양한 NLP 작업에 적합"
      ],
      "metadata": {
        "id": "LsNHlfSC_CJ1"
      }
    },
    {
      "cell_type": "markdown",
      "source": [
        "![image.png](data:image/png;base64,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)"
      ],
      "metadata": {
        "id": "P0XTGDRD_utk"
      }
    },
    {
      "cell_type": "code",
      "source": [
        "# 버트토크나이져 -> Hugging Face의 transformers 라이브러"
      ],
      "metadata": {
        "id": "6ySM0pt8DIFC"
      },
      "execution_count": 1,
      "outputs": []
    },
    {
      "cell_type": "code",
      "source": [
        "!pip install transformers"
      ],
      "metadata": {
        "colab": {
          "base_uri": "https://localhost:8080/"
        },
        "id": "koTsn4Fw_kmA",
        "outputId": "33632598-0828-489d-bc13-8250aed27390"
      },
      "execution_count": 2,
      "outputs": [
        {
          "output_type": "stream",
          "name": "stdout",
          "text": [
            "Requirement already satisfied: transformers in /usr/local/lib/python3.10/dist-packages (4.44.2)\n",
            "Requirement already satisfied: filelock in /usr/local/lib/python3.10/dist-packages (from transformers) (3.16.1)\n",
            "Requirement already satisfied: huggingface-hub<1.0,>=0.23.2 in /usr/local/lib/python3.10/dist-packages (from transformers) (0.24.7)\n",
            "Requirement already satisfied: numpy>=1.17 in /usr/local/lib/python3.10/dist-packages (from transformers) (1.26.4)\n",
            "Requirement already satisfied: packaging>=20.0 in /usr/local/lib/python3.10/dist-packages (from transformers) (24.1)\n",
            "Requirement already satisfied: pyyaml>=5.1 in /usr/local/lib/python3.10/dist-packages (from transformers) (6.0.2)\n",
            "Requirement already satisfied: regex!=2019.12.17 in /usr/local/lib/python3.10/dist-packages (from transformers) (2024.9.11)\n",
            "Requirement already satisfied: requests in /usr/local/lib/python3.10/dist-packages (from transformers) (2.32.3)\n",
            "Requirement already satisfied: safetensors>=0.4.1 in /usr/local/lib/python3.10/dist-packages (from transformers) (0.4.5)\n",
            "Requirement already satisfied: tokenizers<0.20,>=0.19 in /usr/local/lib/python3.10/dist-packages (from transformers) (0.19.1)\n",
            "Requirement already satisfied: tqdm>=4.27 in /usr/local/lib/python3.10/dist-packages (from transformers) (4.66.5)\n",
            "Requirement already satisfied: fsspec>=2023.5.0 in /usr/local/lib/python3.10/dist-packages (from huggingface-hub<1.0,>=0.23.2->transformers) (2024.6.1)\n",
            "Requirement already satisfied: typing-extensions>=3.7.4.3 in /usr/local/lib/python3.10/dist-packages (from huggingface-hub<1.0,>=0.23.2->transformers) (4.12.2)\n",
            "Requirement already satisfied: charset-normalizer<4,>=2 in /usr/local/lib/python3.10/dist-packages (from requests->transformers) (3.4.0)\n",
            "Requirement already satisfied: idna<4,>=2.5 in /usr/local/lib/python3.10/dist-packages (from requests->transformers) (3.10)\n",
            "Requirement already satisfied: urllib3<3,>=1.21.1 in /usr/local/lib/python3.10/dist-packages (from requests->transformers) (2.2.3)\n",
            "Requirement already satisfied: certifi>=2017.4.17 in /usr/local/lib/python3.10/dist-packages (from requests->transformers) (2024.8.30)\n"
          ]
        }
      ]
    },
    {
      "cell_type": "code",
      "source": [
        "from transformers import BertTokenizer\n",
        "tokenizer = BertTokenizer.from_pretrained('bert-base-multilingual-cased',cashe_dir='bert_ckpt',do_lower_case=False)"
      ],
      "metadata": {
        "colab": {
          "base_uri": "https://localhost:8080/",
          "height": 308,
          "referenced_widgets": [
            "7687f7af2ca14114a768d722758ba4a2",
            "2508e480462747ad8814c5347be1467a",
            "b05d1742b9684f7ab0746fc8e1943ce8",
            "496189b78b73459c81ccd20106f3ef03",
            "f84b52b90b1449a0b0d45174f9581db1",
            "f882a18b29444049b04bcd120401abaa",
            "c2db89570be04450b659e94cc0bb2ef5",
            "16847ddc2cdc4de5892753ff632af385",
            "c78f6ef7033342229ad91810c4ea806a",
            "592830b5bc544d328a2ddae2d7c3fc39",
            "8d4ba62b1b234174a19ee5af914b64c8",
            "5e8218b32b0b4d5db768da177ed09bdf",
            "d165f19f5d474f5685596b0bed1ac416",
            "189cbd34242e43a394f5b02702b569cd",
            "74e1033bb25e42149baf36a5cb781b99",
            "653b4a5567c64016a4420f7ef78aa56a",
            "0937b5c610d14248a579ca38850e27a5",
            "abdefc70e51944bca90122af3d207b1a",
            "2fc83faf34484fc38c7c9d99ca480da2",
            "340b50a4e7b1484a9f3d6a34c3c89ad4",
            "467cb653b58d475c9b466a18b5a8c9bf",
            "f6f5721c4c0c4bdd8b68749dd94d4a54",
            "796bf14cf1d842e58347f53098b1249f",
            "20fbd9aacd0845398fab3bf9f52c74c6",
            "3f85aa3e65624ff88461f5e769a8a05b",
            "f5a9ced40be945f0becbe5c9ca282ca2",
            "49d241228653467bb0dcccda165521a7",
            "befbce6296364593aaade41d07e43e12",
            "e195024b28af497a851039e8c00985d7",
            "ba694869d92d4fad822aa9c9d7d09643",
            "54b6be538d8541acaa8f81a2c1d84ee2",
            "c3715c14cdc549b3a49a82b30565ed99",
            "d3833c3d83c84141b0f3e676bfef9ef9",
            "040ccf66df3743f786a4dc5440b16304",
            "1528042d4b304fe2a270aa4df6d47bf7",
            "f393b2a348e145928e2442f8d3a0fc03",
            "89b3e7d804fa4d338aead15239bfb632",
            "9a815cb382fe4aca8f004c5193cc7ad7",
            "2a48cdd7e3a744999388ce14b09f74e7",
            "293b2089f3864a22baf5a4dcc4f7af88",
            "7ce0e06b237a4fd8a7af544b536c6fd5",
            "7a57ae978d004a42be06f95e0677ed10",
            "08867934f0e841cb9aef347eca14f490",
            "0b8d483c42f84157940edf51e63e14e3"
          ]
        },
        "id": "gXTD6nUHDaE9",
        "outputId": "52ecddbb-d835-4ba1-8017-013b9d4fa21f"
      },
      "execution_count": 3,
      "outputs": [
        {
          "output_type": "stream",
          "name": "stderr",
          "text": [
            "/usr/local/lib/python3.10/dist-packages/huggingface_hub/utils/_token.py:89: UserWarning: \n",
            "The secret `HF_TOKEN` does not exist in your Colab secrets.\n",
            "To authenticate with the Hugging Face Hub, create a token in your settings tab (https://huggingface.co/settings/tokens), set it as secret in your Google Colab and restart your session.\n",
            "You will be able to reuse this secret in all of your notebooks.\n",
            "Please note that authentication is recommended but still optional to access public models or datasets.\n",
            "  warnings.warn(\n"
          ]
        },
        {
          "output_type": "display_data",
          "data": {
            "text/plain": [
              "tokenizer_config.json:   0%|          | 0.00/49.0 [00:00<?, ?B/s]"
            ],
            "application/vnd.jupyter.widget-view+json": {
              "version_major": 2,
              "version_minor": 0,
              "model_id": "7687f7af2ca14114a768d722758ba4a2"
            }
          },
          "metadata": {}
        },
        {
          "output_type": "display_data",
          "data": {
            "text/plain": [
              "vocab.txt:   0%|          | 0.00/996k [00:00<?, ?B/s]"
            ],
            "application/vnd.jupyter.widget-view+json": {
              "version_major": 2,
              "version_minor": 0,
              "model_id": "5e8218b32b0b4d5db768da177ed09bdf"
            }
          },
          "metadata": {}
        },
        {
          "output_type": "display_data",
          "data": {
            "text/plain": [
              "tokenizer.json:   0%|          | 0.00/1.96M [00:00<?, ?B/s]"
            ],
            "application/vnd.jupyter.widget-view+json": {
              "version_major": 2,
              "version_minor": 0,
              "model_id": "796bf14cf1d842e58347f53098b1249f"
            }
          },
          "metadata": {}
        },
        {
          "output_type": "display_data",
          "data": {
            "text/plain": [
              "config.json:   0%|          | 0.00/625 [00:00<?, ?B/s]"
            ],
            "application/vnd.jupyter.widget-view+json": {
              "version_major": 2,
              "version_minor": 0,
              "model_id": "040ccf66df3743f786a4dc5440b16304"
            }
          },
          "metadata": {}
        },
        {
          "output_type": "stream",
          "name": "stderr",
          "text": [
            "/usr/local/lib/python3.10/dist-packages/transformers/tokenization_utils_base.py:1601: FutureWarning: `clean_up_tokenization_spaces` was not set. It will be set to `True` by default. This behavior will be depracted in transformers v4.45, and will be then set to `False` by default. For more details check this issue: https://github.com/huggingface/transformers/issues/31884\n",
            "  warnings.warn(\n"
          ]
        }
      ]
    },
    {
      "cell_type": "code",
      "source": [
        "test_senctence = '안녕하세요, 반갑습니다.'\n",
        "encode = tokenizer.encode(test_senctence) # 시작토큰 [CLS] 끝[SEP]\n",
        "print(f'인코드 : {encode}')\n",
        "print(\"인코드된 텍스트\")\n",
        "# WordPiece방식을 사용해서 단어를 더 작은 단위(서브워드) 로 분할  ##->해당 서브워드가 이전 토큰과 이어진다는 의\n",
        "print(  [tokenizer.decode(token) for token in encode] )\n",
        "print(f'디코드된 테스트 :{tokenizer.decode(encode)}')"
      ],
      "metadata": {
        "colab": {
          "base_uri": "https://localhost:8080/"
        },
        "id": "LFy9QZ-6EsJd",
        "outputId": "32f8cc15-207e-43d0-e73b-e6bb1cd6af62"
      },
      "execution_count": 4,
      "outputs": [
        {
          "output_type": "stream",
          "name": "stdout",
          "text": [
            "인코드 : [101, 9521, 118741, 35506, 24982, 48549, 117, 9321, 118610, 119081, 48345, 119, 102]\n",
            "인코드된 텍스트\n",
            "['[ C L S ]', '안', '# # 녕', '# # 하', '# # 세', '# # 요', ',', '반', '# # 갑', '# # 습', '# # 니 다', '.', '[ S E P ]']\n",
            "디코드된 테스트 :[CLS] 안녕하세요, 반갑습니다. [SEP]\n"
          ]
        }
      ]
    },
    {
      "cell_type": "code",
      "source": [
        "kor_encode=tokenizer.encode('안녕하세요, 반갑습니다.')\n",
        "eng_endcode=tokenizer.encode('Hello world')\n",
        "kor_decode=tokenizer.decode(kor_encode)\n",
        "eng_decode=tokenizer.decode(eng_endcode)\n",
        "print(eng_endcode)\n",
        "print(eng_decode)"
      ],
      "metadata": {
        "colab": {
          "base_uri": "https://localhost:8080/"
        },
        "id": "ThQL0gm_E6BB",
        "outputId": "242c13dd-d1f8-4d54-ea74-0772d44a42b8"
      },
      "execution_count": 5,
      "outputs": [
        {
          "output_type": "stream",
          "name": "stdout",
          "text": [
            "[101, 31178, 11356, 102]\n",
            "[CLS] Hello world [SEP]\n"
          ]
        }
      ]
    },
    {
      "cell_type": "code",
      "source": [
        "# Movie Review\n",
        "import gdown\n",
        "file_id = '1EMFhZ3EHWDAmWNtMr-itxxPYftvTdLVR'\n",
        "download_url = f'https://drive.google.com/uc?id={file_id}'\n",
        "gdown.download(download_url, 'data.zip', quiet=False)\n",
        "!unzip data.zip"
      ],
      "metadata": {
        "colab": {
          "base_uri": "https://localhost:8080/"
        },
        "id": "Aa83iHYeH7nc",
        "outputId": "39646b02-a655-43eb-866e-7460941378e1"
      },
      "execution_count": 6,
      "outputs": [
        {
          "output_type": "stream",
          "name": "stderr",
          "text": [
            "Downloading...\n",
            "From: https://drive.google.com/uc?id=1EMFhZ3EHWDAmWNtMr-itxxPYftvTdLVR\n",
            "To: /content/data.zip\n",
            "100%|██████████| 8.45M/8.45M [00:00<00:00, 27.2MB/s]\n"
          ]
        },
        {
          "output_type": "stream",
          "name": "stdout",
          "text": [
            "Archive:  data.zip\n",
            "  inflating: ratings_test.txt        \n",
            "  inflating: ratings_train.txt       \n"
          ]
        }
      ]
    },
    {
      "cell_type": "code",
      "source": [
        "import pandas as pd\n",
        "train_data = pd.read_csv('ratings_train.txt',sep='\\t')\n",
        "test_data = pd.read_csv('ratings_test.txt',sep='\\t')\n",
        "train_data.head()"
      ],
      "metadata": {
        "colab": {
          "base_uri": "https://localhost:8080/",
          "height": 206
        },
        "id": "OjFpmDSqI-tQ",
        "outputId": "354454cb-9059-4c14-ff25-388a7d0cc0de"
      },
      "execution_count": 7,
      "outputs": [
        {
          "output_type": "execute_result",
          "data": {
            "text/plain": [
              "         id                                           document  label\n",
              "0   9976970                                아 더빙.. 진짜 짜증나네요 목소리      0\n",
              "1   3819312                  흠...포스터보고 초딩영화줄....오버연기조차 가볍지 않구나      1\n",
              "2  10265843                                  너무재밓었다그래서보는것을추천한다      0\n",
              "3   9045019                      교도소 이야기구먼 ..솔직히 재미는 없다..평점 조정      0\n",
              "4   6483659  사이몬페그의 익살스런 연기가 돋보였던 영화!스파이더맨에서 늙어보이기만 했던 커스틴 ...      1"
            ],
            "text/html": [
              "\n",
              "  <div id=\"df-4b8c7696-d92c-44c8-b3e9-5951258bb3fe\" class=\"colab-df-container\">\n",
              "    <div>\n",
              "<style scoped>\n",
              "    .dataframe tbody tr th:only-of-type {\n",
              "        vertical-align: middle;\n",
              "    }\n",
              "\n",
              "    .dataframe tbody tr th {\n",
              "        vertical-align: top;\n",
              "    }\n",
              "\n",
              "    .dataframe thead th {\n",
              "        text-align: right;\n",
              "    }\n",
              "</style>\n",
              "<table border=\"1\" class=\"dataframe\">\n",
              "  <thead>\n",
              "    <tr style=\"text-align: right;\">\n",
              "      <th></th>\n",
              "      <th>id</th>\n",
              "      <th>document</th>\n",
              "      <th>label</th>\n",
              "    </tr>\n",
              "  </thead>\n",
              "  <tbody>\n",
              "    <tr>\n",
              "      <th>0</th>\n",
              "      <td>9976970</td>\n",
              "      <td>아 더빙.. 진짜 짜증나네요 목소리</td>\n",
              "      <td>0</td>\n",
              "    </tr>\n",
              "    <tr>\n",
              "      <th>1</th>\n",
              "      <td>3819312</td>\n",
              "      <td>흠...포스터보고 초딩영화줄....오버연기조차 가볍지 않구나</td>\n",
              "      <td>1</td>\n",
              "    </tr>\n",
              "    <tr>\n",
              "      <th>2</th>\n",
              "      <td>10265843</td>\n",
              "      <td>너무재밓었다그래서보는것을추천한다</td>\n",
              "      <td>0</td>\n",
              "    </tr>\n",
              "    <tr>\n",
              "      <th>3</th>\n",
              "      <td>9045019</td>\n",
              "      <td>교도소 이야기구먼 ..솔직히 재미는 없다..평점 조정</td>\n",
              "      <td>0</td>\n",
              "    </tr>\n",
              "    <tr>\n",
              "      <th>4</th>\n",
              "      <td>6483659</td>\n",
              "      <td>사이몬페그의 익살스런 연기가 돋보였던 영화!스파이더맨에서 늙어보이기만 했던 커스틴 ...</td>\n",
              "      <td>1</td>\n",
              "    </tr>\n",
              "  </tbody>\n",
              "</table>\n",
              "</div>\n",
              "    <div class=\"colab-df-buttons\">\n",
              "\n",
              "  <div class=\"colab-df-container\">\n",
              "    <button class=\"colab-df-convert\" onclick=\"convertToInteractive('df-4b8c7696-d92c-44c8-b3e9-5951258bb3fe')\"\n",
              "            title=\"Convert this dataframe to an interactive table.\"\n",
              "            style=\"display:none;\">\n",
              "\n",
              "  <svg xmlns=\"http://www.w3.org/2000/svg\" height=\"24px\" viewBox=\"0 -960 960 960\">\n",
              "    <path d=\"M120-120v-720h720v720H120Zm60-500h600v-160H180v160Zm220 220h160v-160H400v160Zm0 220h160v-160H400v160ZM180-400h160v-160H180v160Zm440 0h160v-160H620v160ZM180-180h160v-160H180v160Zm440 0h160v-160H620v160Z\"/>\n",
              "  </svg>\n",
              "    </button>\n",
              "\n",
              "  <style>\n",
              "    .colab-df-container {\n",
              "      display:flex;\n",
              "      gap: 12px;\n",
              "    }\n",
              "\n",
              "    .colab-df-convert {\n",
              "      background-color: #E8F0FE;\n",
              "      border: none;\n",
              "      border-radius: 50%;\n",
              "      cursor: pointer;\n",
              "      display: none;\n",
              "      fill: #1967D2;\n",
              "      height: 32px;\n",
              "      padding: 0 0 0 0;\n",
              "      width: 32px;\n",
              "    }\n",
              "\n",
              "    .colab-df-convert:hover {\n",
              "      background-color: #E2EBFA;\n",
              "      box-shadow: 0px 1px 2px rgba(60, 64, 67, 0.3), 0px 1px 3px 1px rgba(60, 64, 67, 0.15);\n",
              "      fill: #174EA6;\n",
              "    }\n",
              "\n",
              "    .colab-df-buttons div {\n",
              "      margin-bottom: 4px;\n",
              "    }\n",
              "\n",
              "    [theme=dark] .colab-df-convert {\n",
              "      background-color: #3B4455;\n",
              "      fill: #D2E3FC;\n",
              "    }\n",
              "\n",
              "    [theme=dark] .colab-df-convert:hover {\n",
              "      background-color: #434B5C;\n",
              "      box-shadow: 0px 1px 3px 1px rgba(0, 0, 0, 0.15);\n",
              "      filter: drop-shadow(0px 1px 2px rgba(0, 0, 0, 0.3));\n",
              "      fill: #FFFFFF;\n",
              "    }\n",
              "  </style>\n",
              "\n",
              "    <script>\n",
              "      const buttonEl =\n",
              "        document.querySelector('#df-4b8c7696-d92c-44c8-b3e9-5951258bb3fe button.colab-df-convert');\n",
              "      buttonEl.style.display =\n",
              "        google.colab.kernel.accessAllowed ? 'block' : 'none';\n",
              "\n",
              "      async function convertToInteractive(key) {\n",
              "        const element = document.querySelector('#df-4b8c7696-d92c-44c8-b3e9-5951258bb3fe');\n",
              "        const dataTable =\n",
              "          await google.colab.kernel.invokeFunction('convertToInteractive',\n",
              "                                                    [key], {});\n",
              "        if (!dataTable) return;\n",
              "\n",
              "        const docLinkHtml = 'Like what you see? Visit the ' +\n",
              "          '<a target=\"_blank\" href=https://colab.research.google.com/notebooks/data_table.ipynb>data table notebook</a>'\n",
              "          + ' to learn more about interactive tables.';\n",
              "        element.innerHTML = '';\n",
              "        dataTable['output_type'] = 'display_data';\n",
              "        await google.colab.output.renderOutput(dataTable, element);\n",
              "        const docLink = document.createElement('div');\n",
              "        docLink.innerHTML = docLinkHtml;\n",
              "        element.appendChild(docLink);\n",
              "      }\n",
              "    </script>\n",
              "  </div>\n",
              "\n",
              "\n",
              "<div id=\"df-f155867b-37b0-46df-80ec-17dd01010fc7\">\n",
              "  <button class=\"colab-df-quickchart\" onclick=\"quickchart('df-f155867b-37b0-46df-80ec-17dd01010fc7')\"\n",
              "            title=\"Suggest charts\"\n",
              "            style=\"display:none;\">\n",
              "\n",
              "<svg xmlns=\"http://www.w3.org/2000/svg\" height=\"24px\"viewBox=\"0 0 24 24\"\n",
              "     width=\"24px\">\n",
              "    <g>\n",
              "        <path d=\"M19 3H5c-1.1 0-2 .9-2 2v14c0 1.1.9 2 2 2h14c1.1 0 2-.9 2-2V5c0-1.1-.9-2-2-2zM9 17H7v-7h2v7zm4 0h-2V7h2v10zm4 0h-2v-4h2v4z\"/>\n",
              "    </g>\n",
              "</svg>\n",
              "  </button>\n",
              "\n",
              "<style>\n",
              "  .colab-df-quickchart {\n",
              "      --bg-color: #E8F0FE;\n",
              "      --fill-color: #1967D2;\n",
              "      --hover-bg-color: #E2EBFA;\n",
              "      --hover-fill-color: #174EA6;\n",
              "      --disabled-fill-color: #AAA;\n",
              "      --disabled-bg-color: #DDD;\n",
              "  }\n",
              "\n",
              "  [theme=dark] .colab-df-quickchart {\n",
              "      --bg-color: #3B4455;\n",
              "      --fill-color: #D2E3FC;\n",
              "      --hover-bg-color: #434B5C;\n",
              "      --hover-fill-color: #FFFFFF;\n",
              "      --disabled-bg-color: #3B4455;\n",
              "      --disabled-fill-color: #666;\n",
              "  }\n",
              "\n",
              "  .colab-df-quickchart {\n",
              "    background-color: var(--bg-color);\n",
              "    border: none;\n",
              "    border-radius: 50%;\n",
              "    cursor: pointer;\n",
              "    display: none;\n",
              "    fill: var(--fill-color);\n",
              "    height: 32px;\n",
              "    padding: 0;\n",
              "    width: 32px;\n",
              "  }\n",
              "\n",
              "  .colab-df-quickchart:hover {\n",
              "    background-color: var(--hover-bg-color);\n",
              "    box-shadow: 0 1px 2px rgba(60, 64, 67, 0.3), 0 1px 3px 1px rgba(60, 64, 67, 0.15);\n",
              "    fill: var(--button-hover-fill-color);\n",
              "  }\n",
              "\n",
              "  .colab-df-quickchart-complete:disabled,\n",
              "  .colab-df-quickchart-complete:disabled:hover {\n",
              "    background-color: var(--disabled-bg-color);\n",
              "    fill: var(--disabled-fill-color);\n",
              "    box-shadow: none;\n",
              "  }\n",
              "\n",
              "  .colab-df-spinner {\n",
              "    border: 2px solid var(--fill-color);\n",
              "    border-color: transparent;\n",
              "    border-bottom-color: var(--fill-color);\n",
              "    animation:\n",
              "      spin 1s steps(1) infinite;\n",
              "  }\n",
              "\n",
              "  @keyframes spin {\n",
              "    0% {\n",
              "      border-color: transparent;\n",
              "      border-bottom-color: var(--fill-color);\n",
              "      border-left-color: var(--fill-color);\n",
              "    }\n",
              "    20% {\n",
              "      border-color: transparent;\n",
              "      border-left-color: var(--fill-color);\n",
              "      border-top-color: var(--fill-color);\n",
              "    }\n",
              "    30% {\n",
              "      border-color: transparent;\n",
              "      border-left-color: var(--fill-color);\n",
              "      border-top-color: var(--fill-color);\n",
              "      border-right-color: var(--fill-color);\n",
              "    }\n",
              "    40% {\n",
              "      border-color: transparent;\n",
              "      border-right-color: var(--fill-color);\n",
              "      border-top-color: var(--fill-color);\n",
              "    }\n",
              "    60% {\n",
              "      border-color: transparent;\n",
              "      border-right-color: var(--fill-color);\n",
              "    }\n",
              "    80% {\n",
              "      border-color: transparent;\n",
              "      border-right-color: var(--fill-color);\n",
              "      border-bottom-color: var(--fill-color);\n",
              "    }\n",
              "    90% {\n",
              "      border-color: transparent;\n",
              "      border-bottom-color: var(--fill-color);\n",
              "    }\n",
              "  }\n",
              "</style>\n",
              "\n",
              "  <script>\n",
              "    async function quickchart(key) {\n",
              "      const quickchartButtonEl =\n",
              "        document.querySelector('#' + key + ' button');\n",
              "      quickchartButtonEl.disabled = true;  // To prevent multiple clicks.\n",
              "      quickchartButtonEl.classList.add('colab-df-spinner');\n",
              "      try {\n",
              "        const charts = await google.colab.kernel.invokeFunction(\n",
              "            'suggestCharts', [key], {});\n",
              "      } catch (error) {\n",
              "        console.error('Error during call to suggestCharts:', error);\n",
              "      }\n",
              "      quickchartButtonEl.classList.remove('colab-df-spinner');\n",
              "      quickchartButtonEl.classList.add('colab-df-quickchart-complete');\n",
              "    }\n",
              "    (() => {\n",
              "      let quickchartButtonEl =\n",
              "        document.querySelector('#df-f155867b-37b0-46df-80ec-17dd01010fc7 button');\n",
              "      quickchartButtonEl.style.display =\n",
              "        google.colab.kernel.accessAllowed ? 'block' : 'none';\n",
              "    })();\n",
              "  </script>\n",
              "</div>\n",
              "\n",
              "    </div>\n",
              "  </div>\n"
            ],
            "application/vnd.google.colaboratory.intrinsic+json": {
              "type": "dataframe",
              "variable_name": "train_data"
            }
          },
          "metadata": {},
          "execution_count": 7
        }
      ]
    },
    {
      "cell_type": "code",
      "source": [
        "# 전처리 : NA drop, duplicate --> reset index"
      ],
      "metadata": {
        "id": "97ArLq2qJORo"
      },
      "execution_count": 8,
      "outputs": []
    },
    {
      "cell_type": "code",
      "source": [
        "train_data.dropna(inplace=True)"
      ],
      "metadata": {
        "id": "pmW_Uam5JpgL"
      },
      "execution_count": 9,
      "outputs": []
    },
    {
      "cell_type": "code",
      "source": [
        "train_data['document'].drop_duplicates(inplace=True)"
      ],
      "metadata": {
        "id": "tB-Es3upMdJa"
      },
      "execution_count": 10,
      "outputs": []
    },
    {
      "cell_type": "code",
      "source": [
        "train_data.reset_index(drop=True,inplace=True)"
      ],
      "metadata": {
        "id": "m-l-tyjtMltL"
      },
      "execution_count": 11,
      "outputs": []
    },
    {
      "cell_type": "code",
      "source": [
        "tokenizer.all_special_tokens"
      ],
      "metadata": {
        "colab": {
          "base_uri": "https://localhost:8080/"
        },
        "id": "jdUWleoMOaX6",
        "outputId": "ed38e568-fec9-4c9d-e786-622372f72b0f"
      },
      "execution_count": 12,
      "outputs": [
        {
          "output_type": "execute_result",
          "data": {
            "text/plain": [
              "['[UNK]', '[SEP]', '[PAD]', '[CLS]', '[MASK]']"
            ]
          },
          "metadata": {},
          "execution_count": 12
        }
      ]
    },
    {
      "cell_type": "code",
      "source": [
        "# Bert tokenizer를 이용해서 입력데이터를 인코딩\n",
        "def bert_tokenizer(sent, MAX_LEN):\n",
        "    encoded_dict = tokenizer.encode_plus(\n",
        "        text = sent,\n",
        "        add_special_tokens = True,  # 스페셜토큰을 포함\n",
        "        max_length = MAX_LEN,       # 최대길이를설정, 패딩 적용\n",
        "        pad_to_max_length = True,   # 길이가 max_length 작으면 패딩을 추가\n",
        "        return_attention_mask = True # 어텐션 마스크 생성 패딩은 0 실제데이터는 1\n",
        "    )\n",
        "    input_id =  encoded_dict['input_ids']\n",
        "    attention_mask = encoded_dict['attention_mask']\n",
        "    token_type_id = encoded_dict['token_type_ids']\n",
        "    return input_id, attention_mask, token_type_id"
      ],
      "metadata": {
        "id": "0ufUK-zJPNj6"
      },
      "execution_count": 13,
      "outputs": []
    },
    {
      "cell_type": "code",
      "source": [
        "MAX_LEN = 39\n",
        "from tqdm import tqdm\n",
        "# 네이버 영화리뷰 -> bert모델이 이해할수 있는 형식으로 변환\n",
        "# 각 문장에 대해서 입력 id, 어텐션 마스크, 토큰타입id를 생성 -> 넘파이로 변환\n",
        "input_ids,attention_masks,token_type_ids,train_data_labels = [],[],[],[]\n",
        "# 문장과 레이블 처리\n",
        "for train_set,train_label in tqdm(zip(train_data['document'],train_data['label']),total=len(train_data)):\n",
        "  try:\n",
        "    input_id, attention_mask, token_type_id = bert_tokenizer(train_set, MAX_LEN)\n",
        "    # 리스트에 추가\n",
        "    input_ids.append(input_id)\n",
        "    attention_masks.append(attention_mask)\n",
        "    token_type_ids.append(token_type_id)\n",
        "    train_data_labels.append(train_label)\n",
        "  except Exception as e:\n",
        "    print(e)\n",
        "    print(train_set)\n"
      ],
      "metadata": {
        "colab": {
          "base_uri": "https://localhost:8080/"
        },
        "id": "8ZM7LMSERXwX",
        "outputId": "5712e61c-abd1-4ab8-fbee-57d04ea5e0ad"
      },
      "execution_count": 14,
      "outputs": [
        {
          "output_type": "stream",
          "name": "stderr",
          "text": [
            "  0%|          | 0/149995 [00:00<?, ?it/s]Truncation was not explicitly activated but `max_length` is provided a specific value, please use `truncation=True` to explicitly truncate examples to max length. Defaulting to 'longest_first' truncation strategy. If you encode pairs of sequences (GLUE-style) with the tokenizer you can select this strategy more precisely by providing a specific strategy to `truncation`.\n",
            "/usr/local/lib/python3.10/dist-packages/transformers/tokenization_utils_base.py:2870: FutureWarning: The `pad_to_max_length` argument is deprecated and will be removed in a future version, use `padding=True` or `padding='longest'` to pad to the longest sequence in the batch, or use `padding='max_length'` to pad to a max length. In this case, you can give a specific length with `max_length` (e.g. `max_length=45`) or leave max_length to None to pad to the maximal input size of the model (e.g. 512 for Bert).\n",
            "  warnings.warn(\n",
            "100%|██████████| 149995/149995 [01:02<00:00, 2418.34it/s]\n"
          ]
        }
      ]
    },
    {
      "cell_type": "code",
      "source": [
        "# 넘파이 배열로 변환\n",
        "import numpy as np\n",
        "train_movie_input_ids = np.array(input_ids,dtype=int)\n",
        "train_movie_attention_masks = np.array(attention_masks,dtype=int)\n",
        "train_movie_type_ids = np.array(token_type_ids,dtype=int)\n",
        "train_movie_inputs = (train_movie_input_ids,train_movie_attention_masks,train_movie_type_ids)"
      ],
      "metadata": {
        "id": "25I7cSZ8Rmqd"
      },
      "execution_count": 15,
      "outputs": []
    },
    {
      "cell_type": "code",
      "source": [
        "# 레이블 배열 생성\n",
        "train_data_labels = np.array(train_data_labels,dtype=int)"
      ],
      "metadata": {
        "id": "ClACW6GUQ9mw"
      },
      "execution_count": 16,
      "outputs": []
    },
    {
      "cell_type": "code",
      "source": [
        "# Bert 모델 클래스 생성  Bert 기반의 분류기를 생성\n",
        "import tensorflow as tf\n",
        "from transformers import TFBertModel\n",
        "class TFBertClassifier(tf.keras.Model):  # model_name 버트 모델명, dir_path 캐쉬경로\n",
        "  def __init__(self, model_name, dir_path, num_class):\n",
        "      super(TFBertClassifier, self).__init__()\n",
        "      self.bert = TFBertModel.from_pretrained(model_name, cache_dir=dir_path)   # 버트에서 제공하는 초기화 메소드\n",
        "      self.dropout = tf.keras.layers.Dropout(self.bert.config.hidden_dropout_prob)\n",
        "      self.classifier = tf.keras.layers.Dense(num_class,\n",
        "                                              # 가중치 텐서를 초기화, 정규분포를 따르는 값을 생성, 특정범위를 초과하는 값은 잘라내고 범위안에서만 값을 샘플링\n",
        "                                              kernel_initializer=tf.keras.initializers.TruncatedNormal(self.bert.config.initializer_range),\n",
        "                                              name=\"classifier\")\n",
        "  def call(self, inputs, attention_mask=None, token_type_ids=None,training=False):\n",
        "    #(sequence_output,pooled_output,(hidden_state),(attentions))\n",
        "    # sequence_output : 모든 토큰에 대한 출력, 각 토큰에대한 문맥적 표현\n",
        "    # pooled_output : 문장의 전체적인 의미를 요약, 문장수준의 분류작업에 사용\n",
        "    # attentions 각 레이어의 어텐션 가중치\n",
        "    outputs = self.bert(inputs, attention_mask, token_type_ids)\n",
        "    pooled_output = outputs[1]\n",
        "    pooled_output = self.dropout(pooled_output, training=training)\n",
        "    logits = self.classifier(pooled_output)\n",
        "    return logits  # num_class 에대한 로짓을 출력  -> 소프맥스 함수에를 이용해서 확률분포 변환될 데이터\n",
        "\n",
        "cls_model = TFBertClassifier(model_name = 'bert-base-multilingual-cased',dir_path='bert_ckpt',num_class=2)"
      ],
      "metadata": {
        "colab": {
          "base_uri": "https://localhost:8080/",
          "height": 191,
          "referenced_widgets": [
            "bfbf6820c08b4796b53eae84038a7353",
            "bb786a7e8bae4640b54a3947b29527cc",
            "c2da5dd2101143ab8cfa881c9d778440",
            "69b090b17f6c4b8aae94fb6d0b8dfa75",
            "d8b578116e2e40b38129088d38db54e4",
            "7e0db735143845089d7b06dcf3a1fef9",
            "29447a974aef485caea53a0267a48b1e",
            "e13b870df5764f049b0cdb8afba7b168",
            "b77e3ec5d4ec47038916dbc28b19050f",
            "f379b02c29684cad8e56e051accb3927",
            "523dc9c996614714af46cd5a2e98a968",
            "fb78fc0b701b4b1c994629f9ea6a3dc7",
            "e1e9017b7b3f461385f99645bee325e1",
            "1e5f8b6830974a3e8f92fa7e2addc6ec",
            "bf4545ee3d2748a58fc7b2347cfd944a",
            "9f9c6866d1f940e7aae1e942e5c09fad",
            "c19ea058fb2244ddb9fdedbedd7ee832",
            "23683225405d4a789fc29f51ca78fbc3",
            "b47bc52497764910b34ecce1145f3cb7",
            "5ec032f8d29a4e2cb5251f5a85eaacbc",
            "4ab738d06e834b2c9c111af010806c18",
            "e591852cb0b9440db87c2239b403af26"
          ]
        },
        "id": "c3UGO4nOVemk",
        "outputId": "a3a8ab3f-5f8d-4b1c-b95f-b78fb39db8c1"
      },
      "execution_count": 17,
      "outputs": [
        {
          "output_type": "display_data",
          "data": {
            "text/plain": [
              "config.json:   0%|          | 0.00/625 [00:00<?, ?B/s]"
            ],
            "application/vnd.jupyter.widget-view+json": {
              "version_major": 2,
              "version_minor": 0,
              "model_id": "bfbf6820c08b4796b53eae84038a7353"
            }
          },
          "metadata": {}
        },
        {
          "output_type": "display_data",
          "data": {
            "text/plain": [
              "model.safetensors:   0%|          | 0.00/714M [00:00<?, ?B/s]"
            ],
            "application/vnd.jupyter.widget-view+json": {
              "version_major": 2,
              "version_minor": 0,
              "model_id": "fb78fc0b701b4b1c994629f9ea6a3dc7"
            }
          },
          "metadata": {}
        },
        {
          "output_type": "stream",
          "name": "stderr",
          "text": [
            "Some weights of the PyTorch model were not used when initializing the TF 2.0 model TFBertModel: ['cls.predictions.transform.LayerNorm.bias', 'cls.seq_relationship.weight', 'cls.predictions.bias', 'cls.predictions.transform.LayerNorm.weight', 'cls.predictions.transform.dense.weight', 'cls.seq_relationship.bias', 'cls.predictions.transform.dense.bias']\n",
            "- This IS expected if you are initializing TFBertModel from a PyTorch model trained on another task or with another architecture (e.g. initializing a TFBertForSequenceClassification model from a BertForPreTraining model).\n",
            "- This IS NOT expected if you are initializing TFBertModel from a PyTorch model that you expect to be exactly identical (e.g. initializing a TFBertForSequenceClassification model from a BertForSequenceClassification model).\n",
            "All the weights of TFBertModel were initialized from the PyTorch model.\n",
            "If your task is similar to the task the model of the checkpoint was trained on, you can already use TFBertModel for predictions without further training.\n"
          ]
        }
      ]
    },
    {
      "cell_type": "code",
      "source": [
        "optimizer = tf.keras.optimizers.Adam(3e-5)\n",
        "loss = tf.keras.losses.SparseCategoricalCrossentropy(from_logits=True)\n",
        "metric = tf.keras.metrics.SparseCategoricalAccuracy('accuracy')\n",
        "cls_model.compile(optimizer=optimizer,loss=loss,metrics=[metric])"
      ],
      "metadata": {
        "id": "vV5wPAtdb7b_"
      },
      "execution_count": 18,
      "outputs": []
    },
    {
      "cell_type": "code",
      "source": [
        "# 콜벡\n",
        "callbacks = [\n",
        "    tf.keras.callbacks.EarlyStopping(monitor='val_accuracy',patience=2,verbose=1),\n",
        "    tf.keras.callbacks.ModelCheckpoint(filepath='bert.keras.h5',monitor='val_accuracy',verbose=1,save_best_only=True,save_weights_only=True)\n",
        "]\n",
        "history = cls_model.fit(train_movie_inputs,train_data_labels,validation_split=0.2,epochs=2,batch_size=64,callbacks=callbacks)"
      ],
      "metadata": {
        "colab": {
          "base_uri": "https://localhost:8080/"
        },
        "id": "dMELkkyKb-Hs",
        "outputId": "a681395d-3973-4108-b80e-bdecec359c4d"
      },
      "execution_count": 19,
      "outputs": [
        {
          "output_type": "stream",
          "name": "stdout",
          "text": [
            "Epoch 1/2\n",
            "1875/1875 [==============================] - ETA: 0s - loss: 0.4070 - accuracy: 0.8109\n",
            "Epoch 1: val_accuracy improved from -inf to 0.84799, saving model to bert.keras.h5\n",
            "1875/1875 [==============================] - 1089s 555ms/step - loss: 0.4070 - accuracy: 0.8109 - val_loss: 0.3455 - val_accuracy: 0.8480\n",
            "Epoch 2/2\n",
            "1875/1875 [==============================] - ETA: 0s - loss: 0.3142 - accuracy: 0.8636\n",
            "Epoch 2: val_accuracy improved from 0.84799 to 0.85873, saving model to bert.keras.h5\n",
            "1875/1875 [==============================] - 1018s 543ms/step - loss: 0.3142 - accuracy: 0.8636 - val_loss: 0.3305 - val_accuracy: 0.8587\n"
          ]
        }
      ]
    },
    {
      "cell_type": "code",
      "source": [
        "# best model 로드\n",
        "\n",
        "import gdown\n",
        "file_id = '1X8738tDugMbQLB_G9K1OeQAqHANa1cgb'\n",
        "download_url = f'https://drive.google.com/uc?id={file_id}'\n",
        "gdown.download(download_url, 'bert.keras.h5', quiet=False)\n",
        "\n",
        "cls_model.load_weights('bert.keras.h5')"
      ],
      "metadata": {
        "id": "tG-1qX48qNme"
      },
      "execution_count": 20,
      "outputs": []
    },
    {
      "cell_type": "code",
      "source": [
        "# 테스트 : 데이터를 버트모델에 입력할수 있는 형식으로 변환  - train 참조해서 작성\n",
        "input_ids,attention_masks,token_type_ids,test_data_labels = [],[],[],[]\n",
        "# 문장과 레이블 처리\n",
        "\n",
        "for test_set,test_label in tqdm(zip(test_data['document'],test_data['label']),total=len(test_data)):\n",
        "  try:\n",
        "    input_id, attention_mask, token_type_id = bert_tokenizer(test_set, MAX_LEN)\n",
        "    # 리스트에 추가\n",
        "    input_ids.append(input_id)\n",
        "    attention_masks.append(attention_mask)\n",
        "    token_type_ids.append(token_type_id)\n",
        "    test_data_labels.append(test_label)\n",
        "  except Exception as e:\n",
        "    print(e)\n",
        "    print(test_set)\n",
        "test_movie_input_ids = np.array(input_ids,dtype=int)\n",
        "test_movie_attention_masks = np.array(attention_masks,dtype=int)\n",
        "test_movie_type_ids = np.array(token_type_ids,dtype=int)\n",
        "test_movie_inputs = (test_movie_input_ids,test_movie_attention_masks,test_movie_type_ids)\n",
        "test_data_labels = np.array(test_data_labels,dtype=int)\n",
        "####################### 테스트 데이터를 버트모델에 맞게 변환한다음 평가\n",
        "result = cls_model.evaluate(test_movie_inputs,test_data_labels, batch_size=64)\n",
        "print(\"test loss, test acc: \", result)"
      ],
      "metadata": {
        "colab": {
          "base_uri": "https://localhost:8080/"
        },
        "id": "4qTEmO8wb-KN",
        "outputId": "b0cb04ec-8593-42b9-8e58-1841ba30ecb0"
      },
      "execution_count": 21,
      "outputs": [
        {
          "output_type": "stream",
          "name": "stderr",
          "text": [
            "  0%|          | 0/50000 [00:00<?, ?it/s]/usr/local/lib/python3.10/dist-packages/transformers/tokenization_utils_base.py:2870: FutureWarning: The `pad_to_max_length` argument is deprecated and will be removed in a future version, use `padding=True` or `padding='longest'` to pad to the longest sequence in the batch, or use `padding='max_length'` to pad to a max length. In this case, you can give a specific length with `max_length` (e.g. `max_length=45`) or leave max_length to None to pad to the maximal input size of the model (e.g. 512 for Bert).\n",
            "  warnings.warn(\n",
            " 13%|█▎        | 6366/50000 [00:01<00:11, 3900.56it/s]"
          ]
        },
        {
          "output_type": "stream",
          "name": "stdout",
          "text": [
            "Input nan is not valid. Should be a string, a list/tuple of strings or a list/tuple of integers.\n",
            "nan\n"
          ]
        },
        {
          "output_type": "stream",
          "name": "stderr",
          "text": [
            " 17%|█▋        | 8576/50000 [00:02<00:11, 3464.51it/s]"
          ]
        },
        {
          "output_type": "stream",
          "name": "stdout",
          "text": [
            "Input nan is not valid. Should be a string, a list/tuple of strings or a list/tuple of integers.\n",
            "nan\n"
          ]
        },
        {
          "output_type": "stream",
          "name": "stderr",
          "text": [
            " 55%|█████▌    | 27739/50000 [00:10<00:06, 3652.36it/s]"
          ]
        },
        {
          "output_type": "stream",
          "name": "stdout",
          "text": [
            "Input nan is not valid. Should be a string, a list/tuple of strings or a list/tuple of integers.\n",
            "nan\n"
          ]
        },
        {
          "output_type": "stream",
          "name": "stderr",
          "text": [
            "100%|██████████| 50000/50000 [00:16<00:00, 3058.21it/s]\n"
          ]
        },
        {
          "output_type": "stream",
          "name": "stdout",
          "text": [
            "782/782 [==============================] - 136s 174ms/step - loss: 0.3334 - accuracy: 0.8579\n",
            "test loss, test acc:  [0.3334480822086334, 0.8578914999961853]\n"
          ]
        }
      ]
    },
    {
      "cell_type": "code",
      "source": [
        "# 임의이 문장을 입력해서 결과 예측(0,1)\n",
        "query = '진정한 배트맨 서사의 시작과 어딘가 아쉬운 빌런과 약간의 지루함'\n",
        "# 버트모델에 맞게 데이터를 토큰화\n",
        "input_id, attention_mask, token_type_id = bert_tokenizer(query,MAX_LEN)\n",
        "input_ids = np.array([input_id])\n",
        "# 입력데이터를 넘파이 배열로 변환\n",
        "attention_masks = np.array([attention_mask])\n",
        "token_type_ids = np.array([token_type_id])\n",
        "# 모델예측 - 값을 두개\n",
        "logits = cls_model.predict([input_ids,attention_masks,token_type_ids])\n",
        "logits = tf.nn.softmax(logits,axis=-1)\n",
        "print(logits)\n",
        "np.argmax(logits)"
      ],
      "metadata": {
        "colab": {
          "base_uri": "https://localhost:8080/"
        },
        "id": "iYDr4xDib-Mu",
        "outputId": "58ef2702-64eb-4e44-8196-dc07ba6ebe48"
      },
      "execution_count": 31,
      "outputs": [
        {
          "output_type": "stream",
          "name": "stdout",
          "text": [
            "1/1 [==============================] - 0s 72ms/step\n",
            "tf.Tensor([[0.6145639 0.3854361]], shape=(1, 2), dtype=float32)\n"
          ]
        },
        {
          "output_type": "execute_result",
          "data": {
            "text/plain": [
              "0"
            ]
          },
          "metadata": {},
          "execution_count": 31
        }
      ]
    },
    {
      "cell_type": "code",
      "source": [],
      "metadata": {
        "id": "kIMx7QishgnO"
      },
      "execution_count": null,
      "outputs": []
    },
    {
      "cell_type": "code",
      "source": [],
      "metadata": {
        "id": "NWZGP8hAb-PO"
      },
      "execution_count": 19,
      "outputs": []
    }
  ]
}