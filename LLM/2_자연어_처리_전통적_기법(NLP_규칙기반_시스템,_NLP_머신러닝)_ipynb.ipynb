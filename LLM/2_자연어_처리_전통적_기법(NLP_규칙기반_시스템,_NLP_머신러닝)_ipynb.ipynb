{
  "nbformat": 4,
  "nbformat_minor": 0,
  "metadata": {
    "colab": {
      "provenance": []
    },
    "kernelspec": {
      "name": "python3",
      "display_name": "Python 3"
    },
    "language_info": {
      "name": "python"
    }
  },
  "cells": [
    {
      "cell_type": "code",
      "execution_count": 1,
      "metadata": {
        "colab": {
          "base_uri": "https://localhost:8080/",
          "height": 106
        },
        "id": "7G61sBeP88Fl",
        "outputId": "06bc69f9-e803-43ba-a055-a625d4157a5c"
      },
      "outputs": [
        {
          "output_type": "stream",
          "name": "stderr",
          "text": [
            "Downloading...\n",
            "From: https://drive.google.com/uc?id=1EMmSiot45KKtt5OpqKPbfbEri-5T6q6w\n",
            "To: /content/data.zip\n",
            "100%|██████████| 2.60M/2.60M [00:00<00:00, 35.2MB/s]\n"
          ]
        },
        {
          "output_type": "execute_result",
          "data": {
            "text/plain": [
              "'data.zip'"
            ],
            "application/vnd.google.colaboratory.intrinsic+json": {
              "type": "string"
            }
          },
          "metadata": {},
          "execution_count": 1
        }
      ],
      "source": [
        "# 데이터 로드\n",
        "import gdown\n",
        "file_id = '1EMmSiot45KKtt5OpqKPbfbEri-5T6q6w'\n",
        "download_url = f'https://drive.google.com/uc?id={file_id}'\n",
        "gdown.download(download_url, 'data.zip', quiet=False)"
      ]
    },
    {
      "cell_type": "code",
      "source": [
        "!unzip data.zip"
      ],
      "metadata": {
        "colab": {
          "base_uri": "https://localhost:8080/"
        },
        "id": "WFa5BCG99ceU",
        "outputId": "93904121-7f59-4422-eafb-1300c397b738"
      },
      "execution_count": 2,
      "outputs": [
        {
          "output_type": "stream",
          "name": "stdout",
          "text": [
            "Archive:  data.zip\n",
            "  inflating: nsmc_train_label.npy    \n",
            "  inflating: nsmc_test_input.npy     \n",
            "  inflating: nsmc_test_label.npy     \n",
            "  inflating: nsmc_train_input.npy    \n"
          ]
        }
      ]
    },
    {
      "cell_type": "code",
      "source": [
        "import numpy as np"
      ],
      "metadata": {
        "id": "-EcVdJLD9rMO"
      },
      "execution_count": 3,
      "outputs": []
    },
    {
      "cell_type": "code",
      "source": [
        "input_data = np.load('/content/nsmc_train_input.npy')\n",
        "label_data = np.load('/content/nsmc_train_label.npy')"
      ],
      "metadata": {
        "id": "tGZjQkYQ9zom"
      },
      "execution_count": 5,
      "outputs": []
    },
    {
      "cell_type": "code",
      "source": [
        "input_data"
      ],
      "metadata": {
        "colab": {
          "base_uri": "https://localhost:8080/"
        },
        "id": "eBDhTSnt-AnX",
        "outputId": "ec237913-62e3-4c53-a838-9371e9c8a7cb"
      },
      "execution_count": 6,
      "outputs": [
        {
          "output_type": "execute_result",
          "data": {
            "text/plain": [
              "array([[  463,    20,   265, ...,     0,     0,     0],\n",
              "       [  604,     1,   219, ...,   969,   680,    24],\n",
              "       [  393,  2456, 25028, ...,     2,   226,    13],\n",
              "       ...,\n",
              "       [   60,  1458,  5612, ..., 10480, 10415,  1050],\n",
              "       [ 1046,     1,  2271, ...,  1231,   545,  7862],\n",
              "       [    1,  1806,    22, ...,    63,  1290,     1]], dtype=int32)"
            ]
          },
          "metadata": {},
          "execution_count": 6
        }
      ]
    },
    {
      "cell_type": "code",
      "source": [
        "# 데이터 분리 학습용 검증용\n",
        "from sklearn.model_selection import train_test_split\n",
        "x_train,x_val,y_train,v_val = train_test_split(input_data, label_data, test_size=0.2, random_state=42)"
      ],
      "metadata": {
        "id": "Y0DMdWRe-GhJ"
      },
      "execution_count": 7,
      "outputs": []
    },
    {
      "cell_type": "code",
      "source": [
        "# 하이퍼 파라메터\n",
        "model_name = 'cnn_classifier_kr'\n",
        "batch_size = 128\n",
        "num_epochs = 5\n",
        "learning_rate = 0.001\n",
        "max_len = x_train.shape[1]\n",
        "vocab = 10000\n",
        "kargs = {'model_name': model_name,\n",
        "         'vocab': vocab,\n",
        "         'max_len': max_len,\n",
        "         'batch_size': batch_size,\n",
        "         'num_epochs': num_epochs,\n",
        "         'num_filters' : 100,\n",
        "         'dropout_rate' : 0.5,\n",
        "         'hidden_dim' : 250,\n",
        "         'output_dim' : 1,\n",
        "         'lr' : learning_rate}"
      ],
      "metadata": {
        "id": "3Eb-vMGa-gca"
      },
      "execution_count": 9,
      "outputs": []
    },
    {
      "cell_type": "code",
      "source": [
        "import tensorflow as tf\n",
        "class CNN_Classfier(tf.keras.Model):\n",
        "  def __init__(self, **kargs):\n",
        "    super(CNN_Classfier, self).__init__()\n",
        "    self.embedding = tf.keras.layers.Embedding(input_dim=kargs['vocab'], output_dim=100)\n",
        "    self.conv_list = [tf.keras.layers.Conv1D(filters=kargs['num_filters'],\n",
        "                                             kernel_size=kernel_size, padding='valid', activation='relu')\n",
        "                                              for kernel_size in [3,4,5] ]\n",
        "    self.pooling = tf.keras.layers.MaxPool1D()\n",
        "    self.dropout = tf.kearas.layers.Dropout(kargs['dropout_rate'])\n",
        "    # kernel_constraint=tf.keras.constraints.MaxNorm(max_value=3.) 가중치를 이전상태와 비스하게 만들어서 과적합을 방지\n",
        "    self.fc1 = tf.keras.layers.Dense(units=kargs['hidden_dim'], activation='relu',\n",
        "                                     kernel_constraint=tf.keras.constraints.MaxNorm(max_value=3.))\n",
        "    self.fc2 = tf.keras.layers.Dense(units=kargs['output_dim'], activation='sigmoid',\n",
        "                                     kernel_constraint=tf.keras.constraints.MaxNorm(max_value=3.))\n",
        "  def call(self, x):\n",
        "    x = self.embedding(x)\n",
        "    x = tf.concat([self.pooling(conv(x)) for conv in self.conv_list], axis=-1)  # axis=-1 마지막 축을 기준으로 붙인다\n",
        "    x = self.fc1(x)\n",
        "    x = self.fc2(x)\n",
        "    return x"
      ],
      "metadata": {
        "id": "JJRgvs1WACU6"
      },
      "execution_count": 11,
      "outputs": []
    },
    {
      "cell_type": "code",
      "source": [
        "# 모델정의\n",
        "# 컴파일\n",
        "# 콜벡(필요시)\n",
        "# 모델학습\n",
        "# 평가"
      ],
      "metadata": {
        "id": "jJqvsXWUACXZ"
      },
      "execution_count": null,
      "outputs": []
    },
    {
      "cell_type": "code",
      "source": [],
      "metadata": {
        "id": "1FIcVgiSACaI"
      },
      "execution_count": null,
      "outputs": []
    },
    {
      "cell_type": "code",
      "source": [],
      "metadata": {
        "id": "NYSfA6mm-9yK"
      },
      "execution_count": null,
      "outputs": []
    }
  ]
}