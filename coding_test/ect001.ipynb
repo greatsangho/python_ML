{
 "cells": [
  {
   "cell_type": "code",
   "execution_count": 2,
   "metadata": {},
   "outputs": [
    {
     "name": "stdout",
     "output_type": "stream",
     "text": [
      "2 2 1 1\n"
     ]
    }
   ],
   "source": [
    "N = 1260\n",
    "fiveH = N //500\n",
    "oneH = (N%500)//100\n",
    "fifty = (N%500)%100//50\n",
    "ten = (N%500)%100%50//10\n",
    "print(fiveH,oneH, fifty,ten)"
   ]
  },
  {
   "cell_type": "code",
   "execution_count": 3,
   "metadata": {},
   "outputs": [
    {
     "name": "stdout",
     "output_type": "stream",
     "text": [
      "6\n"
     ]
    }
   ],
   "source": [
    "N = 1260\n",
    "count = 0\n",
    "\n",
    "coin = [500,100,50,10]\n",
    "for coin in coin:\n",
    "    count += N//coin\n",
    "    N %= coin\n",
    "print(count)"
   ]
  },
  {
   "cell_type": "markdown",
   "metadata": {},
   "source": [
    "큰 수의 법칙"
   ]
  },
  {
   "cell_type": "code",
   "execution_count": 54,
   "metadata": {},
   "outputs": [
    {
     "name": "stdout",
     "output_type": "stream",
     "text": [
      "5 4 2 ['5 3 1 4 2']\n"
     ]
    }
   ],
   "source": [
    "# 입력 받기\n",
    "N,M,K = input().split() # N:배열 크기, M: 더하는 횟수, K: 반복 가능 횟수\n",
    "\n",
    "# 리스트로 저정\n",
    "dong = []\n",
    "for i in N:\n",
    "    temp = input()\n",
    "    dong.append(temp)\n",
    "print(N,M,K,dong)"
   ]
  },
  {
   "cell_type": "code",
   "execution_count": 56,
   "metadata": {},
   "outputs": [
    {
     "data": {
      "text/plain": [
       "(5, 4, 2, ['5', '3', '1', '4', '2'])"
      ]
     },
     "execution_count": 56,
     "metadata": {},
     "output_type": "execute_result"
    }
   ],
   "source": [
    "N = int(N)\n",
    "M = int(M)\n",
    "K = int(K)\n",
    "dong_int = dong[0].split()\n",
    "N, M, K, dong_int"
   ]
  },
  {
   "cell_type": "code",
   "execution_count": 58,
   "metadata": {},
   "outputs": [
    {
     "data": {
      "text/plain": [
       "(5, 4)"
      ]
     },
     "execution_count": 58,
     "metadata": {},
     "output_type": "execute_result"
    }
   ],
   "source": [
    "# 가장 큰 수와 다음 수 가져옴\n",
    "max, sec = 0, 0\n",
    "for j in range(N):\n",
    "    if max < int(dong_int[j]):\n",
    "        max = int(dong_int[j])\n",
    "    elif sec < int(dong_int[j]):\n",
    "        sec = int(dong_int[j])\n",
    "max, sec"
   ]
  },
  {
   "cell_type": "code",
   "execution_count": null,
   "metadata": {},
   "outputs": [],
   "source": []
  }
 ],
 "metadata": {
  "kernelspec": {
   "display_name": "pypandas",
   "language": "python",
   "name": "python3"
  },
  "language_info": {
   "codemirror_mode": {
    "name": "ipython",
    "version": 3
   },
   "file_extension": ".py",
   "mimetype": "text/x-python",
   "name": "python",
   "nbconvert_exporter": "python",
   "pygments_lexer": "ipython3",
   "version": "3.12.4"
  }
 },
 "nbformat": 4,
 "nbformat_minor": 2
}
