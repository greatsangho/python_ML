{
 "cells": [
  {
   "cell_type": "code",
   "execution_count": null,
   "metadata": {},
   "outputs": [],
   "source": [
    "# -*- coding: utf-8 -*-\n",
    "# UTF-8 encoding when using korean\n",
    "num_user, num_txt = input().split()\n",
    "total_id = [i for i in range(1,int(num_user)+1)]\n",
    "total_num = ['0','1','2','3','4','5','6','7','8','9'] #[j for j in range(0,10)]\n",
    "is_empty = 0\n",
    "total_pos = {}\n",
    "\n",
    "# total_pos = {id:pos}\n",
    "logs = [] # id, pos, mes, 삭제여부\n",
    "for k in range(1,int(num_txt)+1):\n",
    "\tur_id, temp = input().split()\n",
    "\tur_id = int(ur_id)\n",
    "\t# message = str()\n",
    "\n",
    "\tif str(temp)[0] not in total_num: # 데이터 쌓기\n",
    "\t\tif ur_id not in total_pos.keys():\n",
    "\t\t\ttotal_pos[ur_id] = 0\n",
    "\t\tis_empty += 1\n",
    "\t\ttotal_pos[ur_id] += 1\n",
    "\t\tlogs.append([ur_id, total_pos[ur_id],temp, 1])\n",
    "\telse: # 데이터 지우기\n",
    "\t\tif total_pos[ur_id] > 0:\n",
    "\t\t\tfor l in logs:\n",
    "\t\t\t\tif l[1] == int(temp):\n",
    "\t\t\t\t\tl[-1] = -1\n",
    "\t\t\t\t\tis_empty -= 1\n",
    "\t\t\t\t\tbreak\n",
    "\t\telse:\n",
    "\t\t\tpass\n",
    "# print(logs)\n",
    "if is_empty < 1:\n",
    "\tprint ('EMPTY')\n",
    "else:\n",
    "\tfor l in logs:\n",
    "\t\tif l[-1] == 1:\n",
    "\t\t\tprint(f'{l[0]} {l[2]}')"
   ]
  },
  {
   "cell_type": "code",
   "execution_count": null,
   "metadata": {},
   "outputs": [],
   "source": [
    "# -*- coding: utf-8 -*-\n",
    "# UTF-8 encoding when using korean\n",
    "user_input = int(input())\n",
    "yesorno = []\n",
    "for i in range(user_input):\n",
    "\ta, b = input().split()\n",
    "\ta = int(a)\n",
    "\tb = int(b)\n",
    "\tif a % b == 0:\n",
    "\t\tyesorno.append('YES')\n",
    "\telse:\n",
    "\t\tyesorno.append('NO')\n",
    "for j in yesorno:\n",
    "\tprint(j)"
   ]
  },
  {
   "cell_type": "code",
   "execution_count": null,
   "metadata": {},
   "outputs": [],
   "source": [
    "# -*- coding: utf-8 -*-\n",
    "# UTF-8 encoding when using korean\n",
    "num_house, num_call = input().split()\n",
    "num_house = int(num_house)\n",
    "num_call = int(num_call)\n",
    "times = 0\n",
    "home = {} # 출동 신고\n",
    "for i in range(num_call):\n",
    "\tsi, ei = input().split() # 신고 출동\n",
    "\tsi = int(si)\n",
    "\tei = int(ei)\n",
    "\tif ei not in home.keys():\n",
    "\t\thome[ei] = si\n",
    "\telif ei in home.keys():\n",
    "\t\tif home[ei] == si:\n",
    "\t\t\tpass\n",
    "\t\telse:\n",
    "\t\t\thome[ei] = -1\n",
    "\t\t\ttimes += 1\n",
    "\t\n",
    "print (times)"
   ]
  }
 ],
 "metadata": {
  "language_info": {
   "name": "python"
  }
 },
 "nbformat": 4,
 "nbformat_minor": 2
}
