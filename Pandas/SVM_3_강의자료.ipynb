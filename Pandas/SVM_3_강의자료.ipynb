{
 "cells": [
  {
   "cell_type": "markdown",
   "metadata": {},
   "source": [
    " - 분류\n",
    "    - 최근접이웃 분류\n",
    "        - 이웃한 데이터의 평균으로 분류나 회귀가 가능        \n",
    "    - 로지스틱 회귀\n",
    "        - 로지스틱함수를 이용해서 데이터를 연속적인 형태로 변경-> 미분가능한 형태, 0 ~ 1 로 데이터를 변경해서 확률로 계산\n",
    "        - 로지스틱함수\n",
    "            - 시그모이드 : 바이너리 즉 이진분류\n",
    "            - 소프트맥스 : 다중분류에 적합\n",
    "        - 경사하강법\n",
    "            - 손실함수의 값이 최소가 되는 방향으로 학습을 이어 나가는 알고리즘 -> 가중치의 변화량 즉. 미분을 적용\n",
    "            - 학습률\n",
    "                - 너무크면.. 오차가 주기적으로 줄어드는게 아니라. 줄어들었다 커졌다를 반복\n",
    "                - 너무 작으면.. 충분한 학습률이 필요\n",
    "                - best한방법은 처음에는 크게 가다가 점점 작게 적용\n",
    "                    - 옵티마이져\n",
    "            - 학습횟수\n",
    "                - 학습률만큼 경사를 내려가는 횟수\n",
    "                - 학습률이 너무작으면 충분한 학습횟수를 가져야 최적의 해를 구할 수 있다\n",
    "\n",
    "    - SVM\n",
    "        - 분류 와 회귀에 사용가능한 모델\n",
    "        - 두 클래스간의 초적의 초 평면을 찾음(경정경계면)\n",
    "        - 초 평면 : 고차원 공간에서 두 클래스를 나누는 경계\n",
    "        - 서포트 벡터 : 두 클래스간의 가장 가까운 데이터 포인트들\n",
    "        - 마진 : 서포트 벡터와 초 평면사이의 거리, svm 이 마진을 최대화 해서 모델의 일반화 능력을 높임\n",
    "        - 커널함수 : 기본적으로 svm 선형분류를 하는데.. 커널 함수를 적용하면 비선형도 가능\n",
    "            - linear : 데이터가 선형으로 분기 가능\n",
    "            - poly : 고차원에서 데이터 분리\n",
    "            - Rbf : 가장많이 사용 비 선형문제에 적합.. 방사형 형태로 경계면을 갖는다\n",
    "    - 결정트리\n",
    "        - **\n",
    " - 회귀"
   ]
  },
  {
   "cell_type": "markdown",
   "metadata": {},
   "source": [
    "- 앞으로 배울 머신러닝 알고리즘\n",
    "- Linear Regression\n",
    "- Logistic Regression\n",
    "- Support Vector Machine\n",
    "- Naive Bayes Algorithm\n",
    "- KNN\n",
    "- Perceptron\n",
    "- Random Forest\n",
    "- Decision Tree\n",
    "- Extra Tree\n",
    "- Gradient Boosting\n",
    "  - Light GBM\n",
    "  - XGBoost\n",
    "  - Catboost\n",
    "  - Stochastic Gradient Descent\n",
    "- Lasso\n",
    "- Kernel Ridge Regression\n",
    "- Bayesian Ridge\n",
    "- Elastic Net Regression\n",
    "- LDA\n",
    "- K-Means Algorithm\n",
    "- CNN\n",
    "- LSTM\n",
    "- PCA\n",
    "- ARIMA"
   ]
  },
  {
   "cell_type": "code",
   "execution_count": null,
   "metadata": {},
   "outputs": [],
   "source": [
    "# 분류 모델을 만들고 싶은 데이터를 가져와서 적용"
   ]
  },
  {
   "cell_type": "markdown",
   "metadata": {},
   "source": []
  }
 ],
 "metadata": {
  "kernelspec": {
   "display_name": "20240909",
   "language": "python",
   "name": "python3"
  },
  "language_info": {
   "codemirror_mode": {
    "name": "ipython",
    "version": 3
   },
   "file_extension": ".py",
   "mimetype": "text/x-python",
   "name": "python",
   "nbconvert_exporter": "python",
   "pygments_lexer": "ipython3",
   "version": "3.12.4"
  }
 },
 "nbformat": 4,
 "nbformat_minor": 2
}
