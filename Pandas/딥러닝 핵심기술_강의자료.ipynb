{
 "cells": [
  {
   "cell_type": "code",
   "execution_count": 1,
   "metadata": {},
   "outputs": [],
   "source": [
    "import numpy as np\n",
    "from sklearn.datasets import load_iris\n",
    "from sklearn.linear_model import Perceptron  # 퍼셉트론... 단일신경망"
   ]
  },
  {
   "cell_type": "code",
   "execution_count": 6,
   "metadata": {},
   "outputs": [
    {
     "data": {
      "text/plain": [
       "array([1, 1])"
      ]
     },
     "execution_count": 6,
     "metadata": {},
     "output_type": "execute_result"
    }
   ],
   "source": [
    "iris = load_iris(as_frame=True)\n",
    "X = iris.data.loc[:,['sepal length (cm)',  'sepal width (cm)']].to_numpy()\n",
    "y = iris.target\n",
    "\n",
    "per_clf = Perceptron(random_state=42)\n",
    "per_clf.fit(X,y)\n",
    "# 2개의 셈플로 예측\n",
    "X_new = [[2,0.5],[3,1]]\n",
    "per_clf.predict(X_new)"
   ]
  },
  {
   "cell_type": "markdown",
   "metadata": {},
   "source": [
    "- 사이킷런으로 구현하는 딥러닝 다층 인공신경망.. MLP"
   ]
  },
  {
   "cell_type": "code",
   "execution_count": 7,
   "metadata": {},
   "outputs": [],
   "source": [
    "from sklearn.datasets import fetch_california_housing\n",
    "from sklearn.model_selection import train_test_split\n",
    "from sklearn.neural_network import MLPRegressor\n",
    "from sklearn.pipeline import make_pipeline\n",
    "from sklearn.preprocessing import StandardScaler"
   ]
  },
  {
   "cell_type": "code",
   "execution_count": 10,
   "metadata": {},
   "outputs": [
    {
     "name": "stdout",
     "output_type": "stream",
     "text": [
      "original size (20640, 8)\n"
     ]
    },
    {
     "data": {
      "text/plain": [
       "((11610, 8), (3870, 8), (5160, 8))"
      ]
     },
     "execution_count": 10,
     "metadata": {},
     "output_type": "execute_result"
    }
   ],
   "source": [
    "df  = fetch_california_housing()\n",
    "X,y = df.data, df.target\n",
    "print(f\"original size {X.shape}\")\n",
    "x_train,x_test,y_train,y_test = train_test_split(X,y,random_state=42)\n",
    "x_train,x_val,y_train,y_vale = train_test_split(x_train,y_train,random_state=42)\n",
    "x_train.shape, x_val.shape, x_test.shape\n"
   ]
  },
  {
   "cell_type": "code",
   "execution_count": 23,
   "metadata": {},
   "outputs": [
    {
     "name": "stdout",
     "output_type": "stream",
     "text": [
      "0.2715743085424065\n",
      "0.7947622485408494\n"
     ]
    }
   ],
   "source": [
    "# 모델 \n",
    "from sklearn.metrics import mean_squared_error\n",
    "from sklearn.metrics import r2_score  # 결정계수\n",
    "mlp_reg = MLPRegressor(hidden_layer_sizes=[50,50,50],random_state=42)\n",
    "pipeline = make_pipeline(StandardScaler(),mlp_reg)\n",
    "pipeline.fit(x_train,y_train)\n",
    "print(mean_squared_error(y_test ,pipeline.predict(x_test)))\n",
    "print(r2_score(y_test ,pipeline.predict(x_test)))"
   ]
  },
  {
   "cell_type": "code",
   "execution_count": null,
   "metadata": {},
   "outputs": [],
   "source": [
    "0.2715743085424065\n",
    "0.7947622485408494"
   ]
  },
  {
   "cell_type": "code",
   "execution_count": null,
   "metadata": {},
   "outputs": [],
   "source": []
  }
 ],
 "metadata": {
  "kernelspec": {
   "display_name": "20240909",
   "language": "python",
   "name": "python3"
  },
  "language_info": {
   "codemirror_mode": {
    "name": "ipython",
    "version": 3
   },
   "file_extension": ".py",
   "mimetype": "text/x-python",
   "name": "python",
   "nbconvert_exporter": "python",
   "pygments_lexer": "ipython3",
   "version": "3.12.4"
  }
 },
 "nbformat": 4,
 "nbformat_minor": 2
}
