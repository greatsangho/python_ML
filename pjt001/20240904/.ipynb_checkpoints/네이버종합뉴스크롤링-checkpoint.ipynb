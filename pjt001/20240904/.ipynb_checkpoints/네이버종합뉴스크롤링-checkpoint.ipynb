{
 "cells": [
  {
   "cell_type": "code",
   "execution_count": 1,
   "id": "1e13fc92-9dc5-4f3f-a09e-6672da5a1a70",
   "metadata": {},
   "outputs": [],
   "source": [
    "# 네이버 뉴스 크롤링\n",
    "# https://news.naver.com/main/list.naver?mode=LPOD&mid=sec&oid=032&listType=paper&date=20240904&page=1\n",
    "# 1 .기사의 href 링크제목과 링크를 크롤링\n",
    "# 2. 수집한 링크를 순서대로 접근해서 상세내용 크롤링\n",
    "# 3. 기사와 링크 내용 순으로 데이터를 결합\n",
    "# 4. 결합한 데이터를 DB에 적재\n",
    "# 5. 기사를 검색할수 있도록 streamlit를 구성해서 검색어로 제목을 검색하고 검색리스트를 보여준다음\n",
    "# 사용자가 항목을 클릭하면 저장한 상세내역을 보여준다"
   ]
  },
  {
   "cell_type": "code",
   "execution_count": 2,
   "id": "66d8028e-4449-40ad-a41c-82f967ae9e71",
   "metadata": {},
   "outputs": [],
   "source": [
    "import urllib.request\n",
    "from sqlalchemy import create_engine\n",
    "from bs4 import BeautifulSoup\n",
    "import urllib.request\n",
    "import pandas as pd"
   ]
  },
  {
   "cell_type": "code",
   "execution_count": 3,
   "id": "aea39542-35aa-47ea-9c98-1078b83b7c8a",
   "metadata": {},
   "outputs": [],
   "source": [
    "#경향신문 032, 국민 일보 005\n",
    "op_news = '005'\n",
    "url = f'https://news.naver.com/main/list.naver?mode=LPOD&mid=sec&oid={op_news}&listType=paper&date=20240904'  \n",
    "html = urllib.request.urlopen(url)\n",
    "soup = BeautifulSoup(html,'html.parser')"
   ]
  },
  {
   "cell_type": "code",
   "execution_count": 4,
   "id": "ee8bf985-310d-4fa3-ba07-6f1dc447ff7b",
   "metadata": {},
   "outputs": [],
   "source": [
    "def getMainArticle(result): # result는 list \n",
    "    articles = soup.select('#main_content > div.list_body.newsflash_body > ul')    \n",
    "    for article in articles:\n",
    "        result += [(data.text, data.attrs['href']) for data in article.find_all('a')[1:]]"
   ]
  },
  {
   "cell_type": "code",
   "execution_count": 5,
   "id": "4995a8d1-bd56-44ae-aa23-e2c73392a1c4",
   "metadata": {},
   "outputs": [
    {
     "data": {
      "text/plain": [
       "[('이름 바꿔 점점 느는 정부 ‘쌈짓돈’ 특활비',\n",
       "  'https://n.news.naver.com/mnews/article/005/0001722683'),\n",
       " ('[포토] 34년 만의 공휴일 국군의날… 기념식 예행연습',\n",
       "  'https://n.news.naver.com/mnews/article/005/0001722676'),\n",
       " ('8월 물가 상승률 2.0%라는데… 장바구니 체감은 “글쎄”',\n",
       "  'https://n.news.naver.com/mnews/article/005/0001722679')]"
      ]
     },
     "execution_count": 5,
     "metadata": {},
     "output_type": "execute_result"
    }
   ],
   "source": [
    "import pandas as pd\n",
    "result = []\n",
    "getMainArticle(result)\n",
    "result[:3]"
   ]
  },
  {
   "cell_type": "code",
   "execution_count": 6,
   "id": "3655c960-9242-4d52-9ad7-d1d7771344a7",
   "metadata": {},
   "outputs": [],
   "source": [
    "###########################"
   ]
  },
  {
   "cell_type": "code",
   "execution_count": 7,
   "id": "485eb62a-8dda-4f45-83d6-2a9d54347d87",
   "metadata": {},
   "outputs": [
    {
     "name": "stdout",
     "output_type": "stream",
     "text": [
      "Requirement already satisfied: tqdm in c:\\users\\playdata\\appdata\\local\\anaconda3\\envs\\pyconda\\lib\\site-packages (4.66.5)\n",
      "Requirement already satisfied: colorama in c:\\users\\playdata\\appdata\\local\\anaconda3\\envs\\pyconda\\lib\\site-packages (from tqdm) (0.4.6)\n"
     ]
    }
   ],
   "source": [
    "!pip install tqdm"
   ]
  },
  {
   "cell_type": "code",
   "execution_count": 8,
   "id": "7dfa7c51-1ed7-40f6-8071-04a84f08d648",
   "metadata": {},
   "outputs": [
    {
     "name": "stderr",
     "output_type": "stream",
     "text": [
      "100%|██████████████████████████████████████████████████████████████████████████████████| 10/10 [00:04<00:00,  2.30it/s]\n"
     ]
    }
   ],
   "source": [
    "from tqdm import tqdm\n",
    "op_news = ['032','005','020','021','081','022','023','025','028','469']\n",
    "result = []\n",
    "for opn in tqdm(op_news):\n",
    "    url = f'https://news.naver.com/main/list.naver?mode=LPOD&mid=sec&oid={opn}&listType=paper&date=20240904'  \n",
    "    html = urllib.request.urlopen(url)\n",
    "    soup = BeautifulSoup(html,'html.parser')\n",
    "    getMainArticle(result)\n",
    "df1 = pd.DataFrame(result,columns=['title','link'])    "
   ]
  },
  {
   "cell_type": "code",
   "execution_count": 9,
   "id": "ce3f19fa-275a-4987-8037-0146c685cbb8",
   "metadata": {},
   "outputs": [
    {
     "data": {
      "text/plain": [
       "'대통령실  국민 안보의식 고취 오는 10월1일 건군 76주년 국군의날이 임시공휴일로 지정됐다.윤석열 대통령은 3일 국무회의를 통과한 국군의날 임시공휴일 지정안을 재가했다고 대통령실이 이날 밝혔다.대통령실은  엄중한 안보 상황 속에서 국방의 중요성과 국군의 존재 가치를 조명해 군의 사기를 진작시키고 국민의 안보 의식을 고취시키기 위해 임시공휴일로 지정했다 며  임시공휴일 지정에 따른 소비 진작 효과로 경제 활성화에도 이바지할 것으로 기대한다 고 밝혔다.국군의날은 1950년 10월1일 6 25전쟁에서 국군이 38선을 돌파한 날을 기념해 1956년 국가공휴일로 지정됐다. 1976년 법정 공휴일로 지정됐다가 1991년부터 공휴일에서 제외됐다. 국군의날이 공휴일이 된 것은 34년 만이다. 앞서 국민의힘은 지난달 25일 고위당정협의회에서 국군의날을 임시공휴일로 지정해달라고 정부에 요청했다.윤 대통령은 이날 국무회의를 통과한 전세사기특별법 개정안과 택시발전법 개정안  전통시장법 시행령 개정령안도 재가했다. 전세사기특별법은 전세사기 피해자에게 공공임대주택을 최대 20년간 지원하는 내용을 골자로 한다. 택시발전법은 이른바 택시 월급제의 전국 확대 시행을 2년 유예하는 내용이고 전통시장법 시행령에는 온누리상품권 사용처를 대폭 확대하는 내용이 담겼다.'"
      ]
     },
     "execution_count": 9,
     "metadata": {},
     "output_type": "execute_result"
    }
   ],
   "source": [
    "# 정규식\n",
    "import re\n",
    "url = 'https://n.news.naver.com/mnews/article/032/0003318882'\n",
    "def getArticle(url):\n",
    "    html = urllib.request.urlopen(url)\n",
    "    soup = BeautifulSoup(html,'html.parser')\n",
    "    article = soup.select('article')[0].text\n",
    "    re_text = re.findall(r'[가-힣0-9\\s.%]+',article)\n",
    "    return ' '.join(re_text).replace('\\n','').replace('\\t','')\n",
    "getArticle(url)"
   ]
  },
  {
   "cell_type": "code",
   "execution_count": 10,
   "id": "6f8ac0e9-c336-4067-9ff6-39f3b7759051",
   "metadata": {},
   "outputs": [
    {
     "name": "stderr",
     "output_type": "stream",
     "text": [
      "100%|████████████████████████████████████████████████████████████████████████████████| 203/203 [01:11<00:00,  2.84it/s]\n"
     ]
    }
   ],
   "source": [
    "lists = [ getArticle(link) for link in tqdm(df1['link']) ]     "
   ]
  },
  {
   "cell_type": "code",
   "execution_count": 11,
   "id": "4f305a69-75a5-45b5-97f7-029efed44f23",
   "metadata": {
    "scrolled": true
   },
   "outputs": [],
   "source": [
    "df1['content'] = lists"
   ]
  },
  {
   "cell_type": "code",
   "execution_count": 12,
   "id": "0444e42b-773b-482c-bf92-e107a18146b2",
   "metadata": {},
   "outputs": [
    {
     "data": {
      "text/html": [
       "<div>\n",
       "<style scoped>\n",
       "    .dataframe tbody tr th:only-of-type {\n",
       "        vertical-align: middle;\n",
       "    }\n",
       "\n",
       "    .dataframe tbody tr th {\n",
       "        vertical-align: top;\n",
       "    }\n",
       "\n",
       "    .dataframe thead th {\n",
       "        text-align: right;\n",
       "    }\n",
       "</style>\n",
       "<table border=\"1\" class=\"dataframe\">\n",
       "  <thead>\n",
       "    <tr style=\"text-align: right;\">\n",
       "      <th></th>\n",
       "      <th>title</th>\n",
       "      <th>link</th>\n",
       "      <th>content</th>\n",
       "    </tr>\n",
       "  </thead>\n",
       "  <tbody>\n",
       "    <tr>\n",
       "      <th>0</th>\n",
       "      <td>“나홀로 응급실 전담…못 받아준 환자가 더 걱정”</td>\n",
       "      <td>https://n.news.naver.com/mnews/article/032/000...</td>\n",
       "      <td>전공의 이탈 6개월째이대목동병원 가보니텅 빈 구급차 전용 주차장 정부가 추석연휴를 ...</td>\n",
       "    </tr>\n",
       "    <tr>\n",
       "      <th>1</th>\n",
       "      <td>인권위 ‘사정기관 인권침해’ 권리구제율 8%로 떨어졌다</td>\n",
       "      <td>https://n.news.naver.com/mnews/article/032/000...</td>\n",
       "      <td>2020년 19.6% 이후 하락세 뚜렷기각 각하율은 2년 연속 증가 일부 상임위원 ...</td>\n",
       "    </tr>\n",
       "    <tr>\n",
       "      <th>2</th>\n",
       "      <td>이재명·한동훈 공감 뒤 ‘지구당 부활’ 급물살···찬반 분분</td>\n",
       "      <td>https://n.news.naver.com/mnews/article/032/000...</td>\n",
       "      <td>한동훈 국민의힘 대표와 이재명 더불어민주당 대표가 1일 국회에서 열린 여야 대표 회...</td>\n",
       "    </tr>\n",
       "    <tr>\n",
       "      <th>3</th>\n",
       "      <td>여야 대표 ‘공감’에…힘 받는 ‘지구당 부활’</td>\n",
       "      <td>https://n.news.naver.com/mnews/article/032/000...</td>\n",
       "      <td>이르면 26일 합의 처리 전망풀뿌리 정치 부활 기대감 속양당 체제 고착화 등 우려도...</td>\n",
       "    </tr>\n",
       "    <tr>\n",
       "      <th>4</th>\n",
       "      <td>내달 1일 국군의날, 임시공휴일로 지정</td>\n",
       "      <td>https://n.news.naver.com/mnews/article/032/000...</td>\n",
       "      <td>대통령실  국민 안보의식 고취 오는 10월1일 건군 76주년 국군의날이 임시공휴일로...</td>\n",
       "    </tr>\n",
       "  </tbody>\n",
       "</table>\n",
       "</div>"
      ],
      "text/plain": [
       "                               title  \\\n",
       "0        “나홀로 응급실 전담…못 받아준 환자가 더 걱정”   \n",
       "1     인권위 ‘사정기관 인권침해’ 권리구제율 8%로 떨어졌다   \n",
       "2  이재명·한동훈 공감 뒤 ‘지구당 부활’ 급물살···찬반 분분   \n",
       "3          여야 대표 ‘공감’에…힘 받는 ‘지구당 부활’   \n",
       "4              내달 1일 국군의날, 임시공휴일로 지정   \n",
       "\n",
       "                                                link  \\\n",
       "0  https://n.news.naver.com/mnews/article/032/000...   \n",
       "1  https://n.news.naver.com/mnews/article/032/000...   \n",
       "2  https://n.news.naver.com/mnews/article/032/000...   \n",
       "3  https://n.news.naver.com/mnews/article/032/000...   \n",
       "4  https://n.news.naver.com/mnews/article/032/000...   \n",
       "\n",
       "                                             content  \n",
       "0  전공의 이탈 6개월째이대목동병원 가보니텅 빈 구급차 전용 주차장 정부가 추석연휴를 ...  \n",
       "1  2020년 19.6% 이후 하락세 뚜렷기각 각하율은 2년 연속 증가 일부 상임위원 ...  \n",
       "2  한동훈 국민의힘 대표와 이재명 더불어민주당 대표가 1일 국회에서 열린 여야 대표 회...  \n",
       "3  이르면 26일 합의 처리 전망풀뿌리 정치 부활 기대감 속양당 체제 고착화 등 우려도...  \n",
       "4  대통령실  국민 안보의식 고취 오는 10월1일 건군 76주년 국군의날이 임시공휴일로...  "
      ]
     },
     "execution_count": 12,
     "metadata": {},
     "output_type": "execute_result"
    }
   ],
   "source": [
    "df1.head()"
   ]
  },
  {
   "cell_type": "code",
   "execution_count": 13,
   "id": "041c88aa-7074-4fd2-adcd-c05865a18d08",
   "metadata": {},
   "outputs": [
    {
     "data": {
      "text/plain": [
       "(203, 3)"
      ]
     },
     "execution_count": 13,
     "metadata": {},
     "output_type": "execute_result"
    }
   ],
   "source": [
    "df1.shape"
   ]
  },
  {
   "cell_type": "code",
   "execution_count": 14,
   "id": "850bd3ca-13b6-4cd0-9c55-edde565170b7",
   "metadata": {},
   "outputs": [],
   "source": [
    "df2 = df1.reset_index().rename(columns={'index':'id'})"
   ]
  },
  {
   "cell_type": "code",
   "execution_count": 15,
   "id": "8f21bad4-8889-4e7f-b198-b6242feef7ea",
   "metadata": {
    "scrolled": true
   },
   "outputs": [
    {
     "ename": "IntegrityError",
     "evalue": "(pymysql.err.IntegrityError) (1062, \"Duplicate entry '0' for key 'news2.PRIMARY'\")\n[SQL: INSERT INTO news2 (id, title, link, content) VALUES (%(id)s, %(title)s, %(link)s, %(content)s)]\n[parameters: [{'id': 0, 'title': '“나홀로 응급실 전담…못 받아준 환자가 더 걱정”', 'link': 'https://n.news.naver.com/mnews/article/032/0003318879', 'content': '전공의 이탈 6개월째이대목동병원 가보니텅 빈 구급차 전용 주차장 정부가 추석연휴를 앞두고 응급실 진료 중단을 막기 위해 군의관 등 인력을 보강하겠다고 밝힌 3일 서울 시내 한 대학병원 권역응급의료센터 앞 텅 빈 구급차 전용 주차장을 환자가 지나가고 있다. 정부는 응급 ... (1901 characters truncated) ...  이르는 상황까지는 아닌 것으로 판단하고 있다 고 했다. 박민수 복지부 2차관은 이날 브리핑에서  현재 응급환자는 점차 감소 추세에 있다 면서  인력 공백을 최소화하기 위해 군의관 공보의 파견  진료지원 간호사 촉탁의 채용 등을 통해 인력을 보강하고 있다 고 밝혔다.'}, {'id': 1, 'title': '인권위 ‘사정기관 인권침해’ 권리구제율 8%로 떨어졌다', 'link': 'https://n.news.naver.com/mnews/article/032/0003318880', 'content': '2020년 19.6% 이후 하락세 뚜렷기각 각하율은 2년 연속 증가 일부 상임위원 의무 등한시 탓 윤석열 정부가 출범한 2022년 이후 국가인권위원회가 권리구제를 한 비율은 줄고 기각 각하 등 종결한 비율은 증가한 것으로 나타났다.3일 윤종군 더불어민주당 의원실이 확 ... (700 characters truncated) ... 위원장의 그간 행보와 무관치 않다. 김 상임위원과 이 상임위원은  소위원회 위원 중 1명만 반대해도 진정을 기각해야 한다 고 주장해왔다.윤 의원은  인권위의 권리구제율이 떨어지는 것은 일부 상임위원들이 보이콧을 감행하는 등 의무를 등한시하고 있기 때문 이라고 말했다.'}, {'id': 2, 'title': '이재명·한동훈 공감 뒤 ‘지구당 부활’ 급물살···찬반 분분', 'link': 'https://n.news.naver.com/mnews/article/032/0003318807', 'content': '한동훈 국민의힘 대표와 이재명 더불어민주당 대표가 1일 국회에서 열린 여야 대표 회담에 앞서 인사하고 있다. 성동훈 기자한동훈 국민의힘 대표와 이재명 더불어민주당 대표가 공감대를 이룬  지구당 부활 이 급물살을 타고 있다. 여야가 이르면 오는 26일 본회의에서 지구당 ... (1607 characters truncated) ... 이 생기면 서울에서 국민의힘이 가져올 의석은 없는데 부산 같은 격전지에서  지구당 부활로 기반을 다진  민주당에게 의석을 뺏길 일만 있다 고 했다. 국민의힘 내에서 지구당 부활에 회의적인 영남권 현역 의원들이 한 대표에 반기를 들어 당내 갈등이 촉발될 가능성도 있다.'}, {'id': 3, 'title': '여야 대표 ‘공감’에…힘 받는 ‘지구당 부활’', 'link': 'https://n.news.naver.com/mnews/article/032/0003318881', 'content': '이르면 26일 합의 처리 전망풀뿌리 정치 부활 기대감 속양당 체제 고착화 등 우려도한동훈 국민의힘 대표와 이재명 더불어민주당 대표가 공감대를 이룬  지구당 부활 이 급물살을 타고 있다. 여야가 이르면 오는 26일 본회의에서 지구당 부활 관련 법안을 합의 처리할 수 있 ... (1256 characters truncated) ... 책이 논의되지 않은 채 부활만 말하는 것은 문제가 있다 면서  지구당 위원장이 아닌 다른 원외 정치인들은 어떻게 되나 라고 반문했다. 이준석 개혁신당 의원은 지난 5월 개혁신당 연석회의에서  지구당이 다시 부활하면 지역 토호와 유착 문제가 생길 수 있다 고 우려했다.'}, {'id': 4, 'title': '내달 1일 국군의날, 임시공휴일로 지정', 'link': 'https://n.news.naver.com/mnews/article/032/0003318882', 'content': '대통령실  국민 안보의식 고취 오는 10월1일 건군 76주년 국군의날이 임시공휴일로 지정됐다.윤석열 대통령은 3일 국무회의를 통과한 국군의날 임시공휴일 지정안을 재가했다고 대통령실이 이날 밝혔다.대통령실은  엄중한 안보 상황 속에서 국방의 중요성과 국군의 존재 가치를 ... (344 characters truncated) ... 령 개정령안도 재가했다. 전세사기특별법은 전세사기 피해자에게 공공임대주택을 최대 20년간 지원하는 내용을 골자로 한다. 택시발전법은 이른바 택시 월급제의 전국 확대 시행을 2년 유예하는 내용이고 전통시장법 시행령에는 온누리상품권 사용처를 대폭 확대하는 내용이 담겼다.'}, {'id': 5, 'title': '세상에 나온 기후 교과서…“들고만 다녀도 캠페인”', 'link': 'https://n.news.naver.com/mnews/article/032/0003318935', 'content': '3년6개월 만에 탄생한 과목  기후변화와 지속가능한 세계 관점 다양성 불평등 등 담아논쟁적 사안 활동자료로 제시학생들  양측 입장에서  고민 청소년 기후 헌법소원 사례도연도별 지구 온도  줄무늬화 저자  표지까지 출판사에 제안올해 처음 기후위기를 다룬 고교 사회과 교 ... (1754 characters truncated) ... 생에게 북극곰으로 기후위기를 설득하기 어렵다 는 의견에 저자들은 연도별 지구 온도를 표시한  가열화 줄무늬 를 출판사에 제안했고 최종 채택됐다. 윤 교사는  학생들이 가열화 줄무늬가 표지인 교과서를 들고 다니는 것 자체가 일종의 기후위기 캠페인이 될 것 이라고 했다.'}, {'id': 6, 'title': '수도권 응급실 11곳 이송 거부…28개월 아이, 한 달째 의식불명', 'link': 'https://n.news.naver.com/mnews/article/032/0003318884', 'content': ' 열경련 위급  수용 문의에도  곤란  답변만분주한 중앙의료원 응급센터 국립중앙의료원 중앙응급의료센터에서 관계자들이 3일 병원 내에 설치된 전광판을 통해 응급의료 현안 대응 현황을 살피고 있다. 연합뉴스응급실 11곳에서 수용 거부를 당한 28개월 아이가 한 달째 의식 ... (282 characters truncated) ...  신고가 접수된 지 1시간5분이 지나서야 12번째 병원인 인천 인하대병원 응급실로 이송됐다. 양은 신고 당시 열경련으로 몸은 경직된 상태였지만 의식은 있었던 것으로 알려졌다. 하지만 의식불명 상태에 빠져 약 한 달째인 이날까지도 의식을 회복하지 못한 것으로 전해졌다.'}, {'id': 7, 'title': '[알림]제54회 대통령기 전국통일구간마라톤대회', 'link': 'https://n.news.naver.com/mnews/article/032/0003318885', 'content': '제54회 대통령기 전국통일구간마라톤대회가 9월8일 서울 경기 통일로 구간에서 열립니다. 이 대회는 1971년 남북적십자회담 개최를 계기로 한반도 평화 정착과 남북 통일의 염원을 담아 시작했습니다. 육상 종목에서 유일하게 대통령 타이틀을 가진 대회로  지난 53년 동안 ... (367 characters truncated) ...   총 11개 팀   시도 대항전 7개 팀   강원  경기  경북  서울  제주  충남  충북   소속 대항전 4개 팀   건국대  계명대  국민체육진흥공단  한국전력공사 주 최   경향신문 대한육상연맹 문 의   경향신문 문화사업국  02 3701 1603 후 원 '}  ... displaying 10 of 203 total bound parameter sets ...  {'id': 201, 'title': '\"재범 위험, 도주 우려\"... 마약류 투약 유아인 1심 법정구속', 'link': 'https://n.news.naver.com/mnews/article/469/0000821235', 'content': '법원  약 의존도 높아 ... 징역 1년공범 지인 최씨는 징역형 집행유예배우 유아인이 3일 오후 서울 서초동 서울중앙지법에서 열린 1심 선고 공판에 참여하기 위해 법정으로 들어서고 있다. 홍인기 기자의료용 마약 상습 투약 혐의 등으로 재판에 넘겨진 배우 유아인 38  ... (1039 characters truncated) ... 받았다. 최씨는 대마 흡연만 유죄로 인정됐고 마약류관리법 위반 향정  방조  범인도피  특정범죄가중처벌법상 보복 협박 등에 대해선 무죄 판결을 받았다. 재판부는  대마 흡연 횟수가 3회로 비교적 적고 단약을 다짐하는 등 재범하지 않을 것을 다짐하고 있다 고 설명했다.'}, {'id': 202, 'title': \"코로나 때 '현장예배' 김문수 장관 1심 무죄→2심 유죄\", 'link': 'https://n.news.naver.com/mnews/article/469/0000821204', 'content': '벌금 250만 원 선고김문수 고용노동부 장관. 뉴시스신종 코로나바이러스 감염증 코로나19  확산 당시 서울시의 집합금지 명령을 어기고 수차례 현장 예배에 참석한 김문수 고용노동부 장관과 사랑제일교회 신도들이 항소심에서 유죄를 선고받았다.서울북부지법 형사항소1 3부 부 ... (396 characters truncated) ...  2심 재판부는 원심과 달리 유죄로 판단했다. 재판부는  코로나 시기 감염병 예방과 억제를 위한 국가와 시민의 노력을 헛되게 만들 수 있었다 며  당시 코로나의 높은 감염성  위험성과 집합금지  조치 위반 등을 고려해 볼 때 죄질이 좋지 않다 고 양형 이유를 밝혔다.'}]]\n(Background on this error at: https://sqlalche.me/e/20/gkpj)",
     "output_type": "error",
     "traceback": [
      "\u001b[1;31m---------------------------------------------------------------------------\u001b[0m",
      "\u001b[1;31mIntegrityError\u001b[0m                            Traceback (most recent call last)",
      "File \u001b[1;32m~\\AppData\\Local\\anaconda3\\envs\\pyconda\\Lib\\site-packages\\sqlalchemy\\engine\\base.py:1936\u001b[0m, in \u001b[0;36mConnection._exec_single_context\u001b[1;34m(self, dialect, context, statement, parameters)\u001b[0m\n\u001b[0;32m   1935\u001b[0m     \u001b[38;5;28;01mif\u001b[39;00m \u001b[38;5;129;01mnot\u001b[39;00m evt_handled:\n\u001b[1;32m-> 1936\u001b[0m         \u001b[38;5;28mself\u001b[39m\u001b[38;5;241m.\u001b[39mdialect\u001b[38;5;241m.\u001b[39mdo_executemany(\n\u001b[0;32m   1937\u001b[0m             cursor,\n\u001b[0;32m   1938\u001b[0m             str_statement,\n\u001b[0;32m   1939\u001b[0m             effective_parameters,\n\u001b[0;32m   1940\u001b[0m             context,\n\u001b[0;32m   1941\u001b[0m         )\n\u001b[0;32m   1942\u001b[0m \u001b[38;5;28;01melif\u001b[39;00m \u001b[38;5;129;01mnot\u001b[39;00m effective_parameters \u001b[38;5;129;01mand\u001b[39;00m context\u001b[38;5;241m.\u001b[39mno_parameters:\n",
      "File \u001b[1;32m~\\AppData\\Local\\anaconda3\\envs\\pyconda\\Lib\\site-packages\\sqlalchemy\\dialects\\mysql\\mysqldb.py:170\u001b[0m, in \u001b[0;36mMySQLDialect_mysqldb.do_executemany\u001b[1;34m(self, cursor, statement, parameters, context)\u001b[0m\n\u001b[0;32m    169\u001b[0m \u001b[38;5;28;01mdef\u001b[39;00m \u001b[38;5;21mdo_executemany\u001b[39m(\u001b[38;5;28mself\u001b[39m, cursor, statement, parameters, context\u001b[38;5;241m=\u001b[39m\u001b[38;5;28;01mNone\u001b[39;00m):\n\u001b[1;32m--> 170\u001b[0m     rowcount \u001b[38;5;241m=\u001b[39m cursor\u001b[38;5;241m.\u001b[39mexecutemany(statement, parameters)\n\u001b[0;32m    171\u001b[0m     \u001b[38;5;28;01mif\u001b[39;00m context \u001b[38;5;129;01mis\u001b[39;00m \u001b[38;5;129;01mnot\u001b[39;00m \u001b[38;5;28;01mNone\u001b[39;00m:\n",
      "File \u001b[1;32m~\\AppData\\Local\\anaconda3\\envs\\pyconda\\Lib\\site-packages\\pymysql\\cursors.py:182\u001b[0m, in \u001b[0;36mCursor.executemany\u001b[1;34m(self, query, args)\u001b[0m\n\u001b[0;32m    181\u001b[0m     \u001b[38;5;28;01massert\u001b[39;00m q_values[\u001b[38;5;241m0\u001b[39m] \u001b[38;5;241m==\u001b[39m \u001b[38;5;124m\"\u001b[39m\u001b[38;5;124m(\u001b[39m\u001b[38;5;124m\"\u001b[39m \u001b[38;5;129;01mand\u001b[39;00m q_values[\u001b[38;5;241m-\u001b[39m\u001b[38;5;241m1\u001b[39m] \u001b[38;5;241m==\u001b[39m \u001b[38;5;124m\"\u001b[39m\u001b[38;5;124m)\u001b[39m\u001b[38;5;124m\"\u001b[39m\n\u001b[1;32m--> 182\u001b[0m     \u001b[38;5;28;01mreturn\u001b[39;00m \u001b[38;5;28mself\u001b[39m\u001b[38;5;241m.\u001b[39m_do_execute_many(\n\u001b[0;32m    183\u001b[0m         q_prefix,\n\u001b[0;32m    184\u001b[0m         q_values,\n\u001b[0;32m    185\u001b[0m         q_postfix,\n\u001b[0;32m    186\u001b[0m         args,\n\u001b[0;32m    187\u001b[0m         \u001b[38;5;28mself\u001b[39m\u001b[38;5;241m.\u001b[39mmax_stmt_length,\n\u001b[0;32m    188\u001b[0m         \u001b[38;5;28mself\u001b[39m\u001b[38;5;241m.\u001b[39m_get_db()\u001b[38;5;241m.\u001b[39mencoding,\n\u001b[0;32m    189\u001b[0m     )\n\u001b[0;32m    191\u001b[0m \u001b[38;5;28mself\u001b[39m\u001b[38;5;241m.\u001b[39mrowcount \u001b[38;5;241m=\u001b[39m \u001b[38;5;28msum\u001b[39m(\u001b[38;5;28mself\u001b[39m\u001b[38;5;241m.\u001b[39mexecute(query, arg) \u001b[38;5;28;01mfor\u001b[39;00m arg \u001b[38;5;129;01min\u001b[39;00m args)\n",
      "File \u001b[1;32m~\\AppData\\Local\\anaconda3\\envs\\pyconda\\Lib\\site-packages\\pymysql\\cursors.py:220\u001b[0m, in \u001b[0;36mCursor._do_execute_many\u001b[1;34m(self, prefix, values, postfix, args, max_stmt_length, encoding)\u001b[0m\n\u001b[0;32m    219\u001b[0m     sql \u001b[38;5;241m+\u001b[39m\u001b[38;5;241m=\u001b[39m v\n\u001b[1;32m--> 220\u001b[0m rows \u001b[38;5;241m+\u001b[39m\u001b[38;5;241m=\u001b[39m \u001b[38;5;28mself\u001b[39m\u001b[38;5;241m.\u001b[39mexecute(sql \u001b[38;5;241m+\u001b[39m postfix)\n\u001b[0;32m    221\u001b[0m \u001b[38;5;28mself\u001b[39m\u001b[38;5;241m.\u001b[39mrowcount \u001b[38;5;241m=\u001b[39m rows\n",
      "File \u001b[1;32m~\\AppData\\Local\\anaconda3\\envs\\pyconda\\Lib\\site-packages\\pymysql\\cursors.py:153\u001b[0m, in \u001b[0;36mCursor.execute\u001b[1;34m(self, query, args)\u001b[0m\n\u001b[0;32m    151\u001b[0m query \u001b[38;5;241m=\u001b[39m \u001b[38;5;28mself\u001b[39m\u001b[38;5;241m.\u001b[39mmogrify(query, args)\n\u001b[1;32m--> 153\u001b[0m result \u001b[38;5;241m=\u001b[39m \u001b[38;5;28mself\u001b[39m\u001b[38;5;241m.\u001b[39m_query(query)\n\u001b[0;32m    154\u001b[0m \u001b[38;5;28mself\u001b[39m\u001b[38;5;241m.\u001b[39m_executed \u001b[38;5;241m=\u001b[39m query\n",
      "File \u001b[1;32m~\\AppData\\Local\\anaconda3\\envs\\pyconda\\Lib\\site-packages\\pymysql\\cursors.py:322\u001b[0m, in \u001b[0;36mCursor._query\u001b[1;34m(self, q)\u001b[0m\n\u001b[0;32m    321\u001b[0m \u001b[38;5;28mself\u001b[39m\u001b[38;5;241m.\u001b[39m_clear_result()\n\u001b[1;32m--> 322\u001b[0m conn\u001b[38;5;241m.\u001b[39mquery(q)\n\u001b[0;32m    323\u001b[0m \u001b[38;5;28mself\u001b[39m\u001b[38;5;241m.\u001b[39m_do_get_result()\n",
      "File \u001b[1;32m~\\AppData\\Local\\anaconda3\\envs\\pyconda\\Lib\\site-packages\\pymysql\\connections.py:563\u001b[0m, in \u001b[0;36mConnection.query\u001b[1;34m(self, sql, unbuffered)\u001b[0m\n\u001b[0;32m    562\u001b[0m \u001b[38;5;28mself\u001b[39m\u001b[38;5;241m.\u001b[39m_execute_command(COMMAND\u001b[38;5;241m.\u001b[39mCOM_QUERY, sql)\n\u001b[1;32m--> 563\u001b[0m \u001b[38;5;28mself\u001b[39m\u001b[38;5;241m.\u001b[39m_affected_rows \u001b[38;5;241m=\u001b[39m \u001b[38;5;28mself\u001b[39m\u001b[38;5;241m.\u001b[39m_read_query_result(unbuffered\u001b[38;5;241m=\u001b[39munbuffered)\n\u001b[0;32m    564\u001b[0m \u001b[38;5;28;01mreturn\u001b[39;00m \u001b[38;5;28mself\u001b[39m\u001b[38;5;241m.\u001b[39m_affected_rows\n",
      "File \u001b[1;32m~\\AppData\\Local\\anaconda3\\envs\\pyconda\\Lib\\site-packages\\pymysql\\connections.py:825\u001b[0m, in \u001b[0;36mConnection._read_query_result\u001b[1;34m(self, unbuffered)\u001b[0m\n\u001b[0;32m    824\u001b[0m     result \u001b[38;5;241m=\u001b[39m MySQLResult(\u001b[38;5;28mself\u001b[39m)\n\u001b[1;32m--> 825\u001b[0m     result\u001b[38;5;241m.\u001b[39mread()\n\u001b[0;32m    826\u001b[0m \u001b[38;5;28mself\u001b[39m\u001b[38;5;241m.\u001b[39m_result \u001b[38;5;241m=\u001b[39m result\n",
      "File \u001b[1;32m~\\AppData\\Local\\anaconda3\\envs\\pyconda\\Lib\\site-packages\\pymysql\\connections.py:1199\u001b[0m, in \u001b[0;36mMySQLResult.read\u001b[1;34m(self)\u001b[0m\n\u001b[0;32m   1198\u001b[0m \u001b[38;5;28;01mtry\u001b[39;00m:\n\u001b[1;32m-> 1199\u001b[0m     first_packet \u001b[38;5;241m=\u001b[39m \u001b[38;5;28mself\u001b[39m\u001b[38;5;241m.\u001b[39mconnection\u001b[38;5;241m.\u001b[39m_read_packet()\n\u001b[0;32m   1201\u001b[0m     \u001b[38;5;28;01mif\u001b[39;00m first_packet\u001b[38;5;241m.\u001b[39mis_ok_packet():\n",
      "File \u001b[1;32m~\\AppData\\Local\\anaconda3\\envs\\pyconda\\Lib\\site-packages\\pymysql\\connections.py:775\u001b[0m, in \u001b[0;36mConnection._read_packet\u001b[1;34m(self, packet_type)\u001b[0m\n\u001b[0;32m    774\u001b[0m         \u001b[38;5;28mself\u001b[39m\u001b[38;5;241m.\u001b[39m_result\u001b[38;5;241m.\u001b[39munbuffered_active \u001b[38;5;241m=\u001b[39m \u001b[38;5;28;01mFalse\u001b[39;00m\n\u001b[1;32m--> 775\u001b[0m     packet\u001b[38;5;241m.\u001b[39mraise_for_error()\n\u001b[0;32m    776\u001b[0m \u001b[38;5;28;01mreturn\u001b[39;00m packet\n",
      "File \u001b[1;32m~\\AppData\\Local\\anaconda3\\envs\\pyconda\\Lib\\site-packages\\pymysql\\protocol.py:219\u001b[0m, in \u001b[0;36mMysqlPacket.raise_for_error\u001b[1;34m(self)\u001b[0m\n\u001b[0;32m    218\u001b[0m     \u001b[38;5;28mprint\u001b[39m(\u001b[38;5;124m\"\u001b[39m\u001b[38;5;124merrno =\u001b[39m\u001b[38;5;124m\"\u001b[39m, errno)\n\u001b[1;32m--> 219\u001b[0m err\u001b[38;5;241m.\u001b[39mraise_mysql_exception(\u001b[38;5;28mself\u001b[39m\u001b[38;5;241m.\u001b[39m_data)\n",
      "File \u001b[1;32m~\\AppData\\Local\\anaconda3\\envs\\pyconda\\Lib\\site-packages\\pymysql\\err.py:150\u001b[0m, in \u001b[0;36mraise_mysql_exception\u001b[1;34m(data)\u001b[0m\n\u001b[0;32m    149\u001b[0m     errorclass \u001b[38;5;241m=\u001b[39m InternalError \u001b[38;5;28;01mif\u001b[39;00m errno \u001b[38;5;241m<\u001b[39m \u001b[38;5;241m1000\u001b[39m \u001b[38;5;28;01melse\u001b[39;00m OperationalError\n\u001b[1;32m--> 150\u001b[0m \u001b[38;5;28;01mraise\u001b[39;00m errorclass(errno, errval)\n",
      "\u001b[1;31mIntegrityError\u001b[0m: (1062, \"Duplicate entry '0' for key 'news2.PRIMARY'\")",
      "\nThe above exception was the direct cause of the following exception:\n",
      "\u001b[1;31mIntegrityError\u001b[0m                            Traceback (most recent call last)",
      "Cell \u001b[1;32mIn[15], line 11\u001b[0m\n\u001b[0;32m      9\u001b[0m engine \u001b[38;5;241m=\u001b[39m create_engine(\u001b[38;5;124mf\u001b[39m\u001b[38;5;124m'\u001b[39m\u001b[38;5;124mmysql+pymysql://\u001b[39m\u001b[38;5;132;01m{\u001b[39;00musername\u001b[38;5;132;01m}\u001b[39;00m\u001b[38;5;124m:\u001b[39m\u001b[38;5;132;01m{\u001b[39;00mpassword\u001b[38;5;132;01m}\u001b[39;00m\u001b[38;5;124m@\u001b[39m\u001b[38;5;132;01m{\u001b[39;00mhost\u001b[38;5;132;01m}\u001b[39;00m\u001b[38;5;124m/\u001b[39m\u001b[38;5;132;01m{\u001b[39;00mdatabase\u001b[38;5;132;01m}\u001b[39;00m\u001b[38;5;124m'\u001b[39m)\n\u001b[0;32m     10\u001b[0m \u001b[38;5;66;03m# DataFrame을 MySQL의 테이블로 삽입 (테이블이 없으면 생성)\u001b[39;00m\n\u001b[1;32m---> 11\u001b[0m df2\u001b[38;5;241m.\u001b[39mto_sql(\u001b[38;5;124m'\u001b[39m\u001b[38;5;124mnews2\u001b[39m\u001b[38;5;124m'\u001b[39m, con\u001b[38;5;241m=\u001b[39mengine, if_exists\u001b[38;5;241m=\u001b[39m\u001b[38;5;124m'\u001b[39m\u001b[38;5;124mappend\u001b[39m\u001b[38;5;124m'\u001b[39m, index\u001b[38;5;241m=\u001b[39m\u001b[38;5;28;01mFalse\u001b[39;00m)\n\u001b[0;32m     12\u001b[0m \u001b[38;5;66;03m# 데이터 삽입 후 연결 해제\u001b[39;00m\n\u001b[0;32m     13\u001b[0m engine\u001b[38;5;241m.\u001b[39mdispose()\n",
      "File \u001b[1;32m~\\AppData\\Local\\anaconda3\\envs\\pyconda\\Lib\\site-packages\\pandas\\util\\_decorators.py:333\u001b[0m, in \u001b[0;36mdeprecate_nonkeyword_arguments.<locals>.decorate.<locals>.wrapper\u001b[1;34m(*args, **kwargs)\u001b[0m\n\u001b[0;32m    327\u001b[0m \u001b[38;5;28;01mif\u001b[39;00m \u001b[38;5;28mlen\u001b[39m(args) \u001b[38;5;241m>\u001b[39m num_allow_args:\n\u001b[0;32m    328\u001b[0m     warnings\u001b[38;5;241m.\u001b[39mwarn(\n\u001b[0;32m    329\u001b[0m         msg\u001b[38;5;241m.\u001b[39mformat(arguments\u001b[38;5;241m=\u001b[39m_format_argument_list(allow_args)),\n\u001b[0;32m    330\u001b[0m         \u001b[38;5;167;01mFutureWarning\u001b[39;00m,\n\u001b[0;32m    331\u001b[0m         stacklevel\u001b[38;5;241m=\u001b[39mfind_stack_level(),\n\u001b[0;32m    332\u001b[0m     )\n\u001b[1;32m--> 333\u001b[0m \u001b[38;5;28;01mreturn\u001b[39;00m func(\u001b[38;5;241m*\u001b[39margs, \u001b[38;5;241m*\u001b[39m\u001b[38;5;241m*\u001b[39mkwargs)\n",
      "File \u001b[1;32m~\\AppData\\Local\\anaconda3\\envs\\pyconda\\Lib\\site-packages\\pandas\\core\\generic.py:3087\u001b[0m, in \u001b[0;36mNDFrame.to_sql\u001b[1;34m(self, name, con, schema, if_exists, index, index_label, chunksize, dtype, method)\u001b[0m\n\u001b[0;32m   2889\u001b[0m \u001b[38;5;250m\u001b[39m\u001b[38;5;124;03m\"\"\"\u001b[39;00m\n\u001b[0;32m   2890\u001b[0m \u001b[38;5;124;03mWrite records stored in a DataFrame to a SQL database.\u001b[39;00m\n\u001b[0;32m   2891\u001b[0m \n\u001b[1;32m   (...)\u001b[0m\n\u001b[0;32m   3083\u001b[0m \u001b[38;5;124;03m[(1,), (None,), (2,)]\u001b[39;00m\n\u001b[0;32m   3084\u001b[0m \u001b[38;5;124;03m\"\"\"\u001b[39;00m  \u001b[38;5;66;03m# noqa: E501\u001b[39;00m\n\u001b[0;32m   3085\u001b[0m \u001b[38;5;28;01mfrom\u001b[39;00m \u001b[38;5;21;01mpandas\u001b[39;00m\u001b[38;5;21;01m.\u001b[39;00m\u001b[38;5;21;01mio\u001b[39;00m \u001b[38;5;28;01mimport\u001b[39;00m sql\n\u001b[1;32m-> 3087\u001b[0m \u001b[38;5;28;01mreturn\u001b[39;00m sql\u001b[38;5;241m.\u001b[39mto_sql(\n\u001b[0;32m   3088\u001b[0m     \u001b[38;5;28mself\u001b[39m,\n\u001b[0;32m   3089\u001b[0m     name,\n\u001b[0;32m   3090\u001b[0m     con,\n\u001b[0;32m   3091\u001b[0m     schema\u001b[38;5;241m=\u001b[39mschema,\n\u001b[0;32m   3092\u001b[0m     if_exists\u001b[38;5;241m=\u001b[39mif_exists,\n\u001b[0;32m   3093\u001b[0m     index\u001b[38;5;241m=\u001b[39mindex,\n\u001b[0;32m   3094\u001b[0m     index_label\u001b[38;5;241m=\u001b[39mindex_label,\n\u001b[0;32m   3095\u001b[0m     chunksize\u001b[38;5;241m=\u001b[39mchunksize,\n\u001b[0;32m   3096\u001b[0m     dtype\u001b[38;5;241m=\u001b[39mdtype,\n\u001b[0;32m   3097\u001b[0m     method\u001b[38;5;241m=\u001b[39mmethod,\n\u001b[0;32m   3098\u001b[0m )\n",
      "File \u001b[1;32m~\\AppData\\Local\\anaconda3\\envs\\pyconda\\Lib\\site-packages\\pandas\\io\\sql.py:842\u001b[0m, in \u001b[0;36mto_sql\u001b[1;34m(frame, name, con, schema, if_exists, index, index_label, chunksize, dtype, method, engine, **engine_kwargs)\u001b[0m\n\u001b[0;32m    837\u001b[0m     \u001b[38;5;28;01mraise\u001b[39;00m \u001b[38;5;167;01mNotImplementedError\u001b[39;00m(\n\u001b[0;32m    838\u001b[0m         \u001b[38;5;124m\"\u001b[39m\u001b[38;5;124m'\u001b[39m\u001b[38;5;124mframe\u001b[39m\u001b[38;5;124m'\u001b[39m\u001b[38;5;124m argument should be either a Series or a DataFrame\u001b[39m\u001b[38;5;124m\"\u001b[39m\n\u001b[0;32m    839\u001b[0m     )\n\u001b[0;32m    841\u001b[0m \u001b[38;5;28;01mwith\u001b[39;00m pandasSQL_builder(con, schema\u001b[38;5;241m=\u001b[39mschema, need_transaction\u001b[38;5;241m=\u001b[39m\u001b[38;5;28;01mTrue\u001b[39;00m) \u001b[38;5;28;01mas\u001b[39;00m pandas_sql:\n\u001b[1;32m--> 842\u001b[0m     \u001b[38;5;28;01mreturn\u001b[39;00m pandas_sql\u001b[38;5;241m.\u001b[39mto_sql(\n\u001b[0;32m    843\u001b[0m         frame,\n\u001b[0;32m    844\u001b[0m         name,\n\u001b[0;32m    845\u001b[0m         if_exists\u001b[38;5;241m=\u001b[39mif_exists,\n\u001b[0;32m    846\u001b[0m         index\u001b[38;5;241m=\u001b[39mindex,\n\u001b[0;32m    847\u001b[0m         index_label\u001b[38;5;241m=\u001b[39mindex_label,\n\u001b[0;32m    848\u001b[0m         schema\u001b[38;5;241m=\u001b[39mschema,\n\u001b[0;32m    849\u001b[0m         chunksize\u001b[38;5;241m=\u001b[39mchunksize,\n\u001b[0;32m    850\u001b[0m         dtype\u001b[38;5;241m=\u001b[39mdtype,\n\u001b[0;32m    851\u001b[0m         method\u001b[38;5;241m=\u001b[39mmethod,\n\u001b[0;32m    852\u001b[0m         engine\u001b[38;5;241m=\u001b[39mengine,\n\u001b[0;32m    853\u001b[0m         \u001b[38;5;241m*\u001b[39m\u001b[38;5;241m*\u001b[39mengine_kwargs,\n\u001b[0;32m    854\u001b[0m     )\n",
      "File \u001b[1;32m~\\AppData\\Local\\anaconda3\\envs\\pyconda\\Lib\\site-packages\\pandas\\io\\sql.py:2018\u001b[0m, in \u001b[0;36mSQLDatabase.to_sql\u001b[1;34m(self, frame, name, if_exists, index, index_label, schema, chunksize, dtype, method, engine, **engine_kwargs)\u001b[0m\n\u001b[0;32m   2006\u001b[0m sql_engine \u001b[38;5;241m=\u001b[39m get_engine(engine)\n\u001b[0;32m   2008\u001b[0m table \u001b[38;5;241m=\u001b[39m \u001b[38;5;28mself\u001b[39m\u001b[38;5;241m.\u001b[39mprep_table(\n\u001b[0;32m   2009\u001b[0m     frame\u001b[38;5;241m=\u001b[39mframe,\n\u001b[0;32m   2010\u001b[0m     name\u001b[38;5;241m=\u001b[39mname,\n\u001b[1;32m   (...)\u001b[0m\n\u001b[0;32m   2015\u001b[0m     dtype\u001b[38;5;241m=\u001b[39mdtype,\n\u001b[0;32m   2016\u001b[0m )\n\u001b[1;32m-> 2018\u001b[0m total_inserted \u001b[38;5;241m=\u001b[39m sql_engine\u001b[38;5;241m.\u001b[39minsert_records(\n\u001b[0;32m   2019\u001b[0m     table\u001b[38;5;241m=\u001b[39mtable,\n\u001b[0;32m   2020\u001b[0m     con\u001b[38;5;241m=\u001b[39m\u001b[38;5;28mself\u001b[39m\u001b[38;5;241m.\u001b[39mcon,\n\u001b[0;32m   2021\u001b[0m     frame\u001b[38;5;241m=\u001b[39mframe,\n\u001b[0;32m   2022\u001b[0m     name\u001b[38;5;241m=\u001b[39mname,\n\u001b[0;32m   2023\u001b[0m     index\u001b[38;5;241m=\u001b[39mindex,\n\u001b[0;32m   2024\u001b[0m     schema\u001b[38;5;241m=\u001b[39mschema,\n\u001b[0;32m   2025\u001b[0m     chunksize\u001b[38;5;241m=\u001b[39mchunksize,\n\u001b[0;32m   2026\u001b[0m     method\u001b[38;5;241m=\u001b[39mmethod,\n\u001b[0;32m   2027\u001b[0m     \u001b[38;5;241m*\u001b[39m\u001b[38;5;241m*\u001b[39mengine_kwargs,\n\u001b[0;32m   2028\u001b[0m )\n\u001b[0;32m   2030\u001b[0m \u001b[38;5;28mself\u001b[39m\u001b[38;5;241m.\u001b[39mcheck_case_sensitive(name\u001b[38;5;241m=\u001b[39mname, schema\u001b[38;5;241m=\u001b[39mschema)\n\u001b[0;32m   2031\u001b[0m \u001b[38;5;28;01mreturn\u001b[39;00m total_inserted\n",
      "File \u001b[1;32m~\\AppData\\Local\\anaconda3\\envs\\pyconda\\Lib\\site-packages\\pandas\\io\\sql.py:1567\u001b[0m, in \u001b[0;36mSQLAlchemyEngine.insert_records\u001b[1;34m(self, table, con, frame, name, index, schema, chunksize, method, **engine_kwargs)\u001b[0m\n\u001b[0;32m   1565\u001b[0m \u001b[38;5;28;01mif\u001b[39;00m re\u001b[38;5;241m.\u001b[39msearch(msg, err_text):\n\u001b[0;32m   1566\u001b[0m     \u001b[38;5;28;01mraise\u001b[39;00m \u001b[38;5;167;01mValueError\u001b[39;00m(\u001b[38;5;124m\"\u001b[39m\u001b[38;5;124minf cannot be used with MySQL\u001b[39m\u001b[38;5;124m\"\u001b[39m) \u001b[38;5;28;01mfrom\u001b[39;00m \u001b[38;5;21;01merr\u001b[39;00m\n\u001b[1;32m-> 1567\u001b[0m \u001b[38;5;28;01mraise\u001b[39;00m err\n",
      "File \u001b[1;32m~\\AppData\\Local\\anaconda3\\envs\\pyconda\\Lib\\site-packages\\pandas\\io\\sql.py:1558\u001b[0m, in \u001b[0;36mSQLAlchemyEngine.insert_records\u001b[1;34m(self, table, con, frame, name, index, schema, chunksize, method, **engine_kwargs)\u001b[0m\n\u001b[0;32m   1555\u001b[0m \u001b[38;5;28;01mfrom\u001b[39;00m \u001b[38;5;21;01msqlalchemy\u001b[39;00m \u001b[38;5;28;01mimport\u001b[39;00m exc\n\u001b[0;32m   1557\u001b[0m \u001b[38;5;28;01mtry\u001b[39;00m:\n\u001b[1;32m-> 1558\u001b[0m     \u001b[38;5;28;01mreturn\u001b[39;00m table\u001b[38;5;241m.\u001b[39minsert(chunksize\u001b[38;5;241m=\u001b[39mchunksize, method\u001b[38;5;241m=\u001b[39mmethod)\n\u001b[0;32m   1559\u001b[0m \u001b[38;5;28;01mexcept\u001b[39;00m exc\u001b[38;5;241m.\u001b[39mStatementError \u001b[38;5;28;01mas\u001b[39;00m err:\n\u001b[0;32m   1560\u001b[0m     \u001b[38;5;66;03m# GH34431\u001b[39;00m\n\u001b[0;32m   1561\u001b[0m     \u001b[38;5;66;03m# https://stackoverflow.com/a/67358288/6067848\u001b[39;00m\n\u001b[0;32m   1562\u001b[0m     msg \u001b[38;5;241m=\u001b[39m \u001b[38;5;124mr\u001b[39m\u001b[38;5;124m\"\"\"\u001b[39m\u001b[38;5;124m(\u001b[39m\u001b[38;5;124m\\\u001b[39m\u001b[38;5;124m(1054, \u001b[39m\u001b[38;5;124m\"\u001b[39m\u001b[38;5;124mUnknown column \u001b[39m\u001b[38;5;124m'\u001b[39m\u001b[38;5;124minf(e0)?\u001b[39m\u001b[38;5;124m'\u001b[39m\u001b[38;5;124m in \u001b[39m\u001b[38;5;124m'\u001b[39m\u001b[38;5;124mfield list\u001b[39m\u001b[38;5;124m'\u001b[39m\u001b[38;5;124m\"\u001b[39m\u001b[38;5;124m\\\u001b[39m\u001b[38;5;124m))(?#\u001b[39m\n\u001b[0;32m   1563\u001b[0m \u001b[38;5;124m    )|inf can not be used with MySQL\u001b[39m\u001b[38;5;124m\"\"\"\u001b[39m\n",
      "File \u001b[1;32m~\\AppData\\Local\\anaconda3\\envs\\pyconda\\Lib\\site-packages\\pandas\\io\\sql.py:1119\u001b[0m, in \u001b[0;36mSQLTable.insert\u001b[1;34m(self, chunksize, method)\u001b[0m\n\u001b[0;32m   1116\u001b[0m     \u001b[38;5;28;01mbreak\u001b[39;00m\n\u001b[0;32m   1118\u001b[0m chunk_iter \u001b[38;5;241m=\u001b[39m \u001b[38;5;28mzip\u001b[39m(\u001b[38;5;241m*\u001b[39m(arr[start_i:end_i] \u001b[38;5;28;01mfor\u001b[39;00m arr \u001b[38;5;129;01min\u001b[39;00m data_list))\n\u001b[1;32m-> 1119\u001b[0m num_inserted \u001b[38;5;241m=\u001b[39m exec_insert(conn, keys, chunk_iter)\n\u001b[0;32m   1120\u001b[0m \u001b[38;5;66;03m# GH 46891\u001b[39;00m\n\u001b[0;32m   1121\u001b[0m \u001b[38;5;28;01mif\u001b[39;00m num_inserted \u001b[38;5;129;01mis\u001b[39;00m \u001b[38;5;129;01mnot\u001b[39;00m \u001b[38;5;28;01mNone\u001b[39;00m:\n",
      "File \u001b[1;32m~\\AppData\\Local\\anaconda3\\envs\\pyconda\\Lib\\site-packages\\pandas\\io\\sql.py:1010\u001b[0m, in \u001b[0;36mSQLTable._execute_insert\u001b[1;34m(self, conn, keys, data_iter)\u001b[0m\n\u001b[0;32m    998\u001b[0m \u001b[38;5;250m\u001b[39m\u001b[38;5;124;03m\"\"\"\u001b[39;00m\n\u001b[0;32m    999\u001b[0m \u001b[38;5;124;03mExecute SQL statement inserting data\u001b[39;00m\n\u001b[0;32m   1000\u001b[0m \n\u001b[1;32m   (...)\u001b[0m\n\u001b[0;32m   1007\u001b[0m \u001b[38;5;124;03m   Each item contains a list of values to be inserted\u001b[39;00m\n\u001b[0;32m   1008\u001b[0m \u001b[38;5;124;03m\"\"\"\u001b[39;00m\n\u001b[0;32m   1009\u001b[0m data \u001b[38;5;241m=\u001b[39m [\u001b[38;5;28mdict\u001b[39m(\u001b[38;5;28mzip\u001b[39m(keys, row)) \u001b[38;5;28;01mfor\u001b[39;00m row \u001b[38;5;129;01min\u001b[39;00m data_iter]\n\u001b[1;32m-> 1010\u001b[0m result \u001b[38;5;241m=\u001b[39m conn\u001b[38;5;241m.\u001b[39mexecute(\u001b[38;5;28mself\u001b[39m\u001b[38;5;241m.\u001b[39mtable\u001b[38;5;241m.\u001b[39minsert(), data)\n\u001b[0;32m   1011\u001b[0m \u001b[38;5;28;01mreturn\u001b[39;00m result\u001b[38;5;241m.\u001b[39mrowcount\n",
      "File \u001b[1;32m~\\AppData\\Local\\anaconda3\\envs\\pyconda\\Lib\\site-packages\\sqlalchemy\\engine\\base.py:1418\u001b[0m, in \u001b[0;36mConnection.execute\u001b[1;34m(self, statement, parameters, execution_options)\u001b[0m\n\u001b[0;32m   1416\u001b[0m     \u001b[38;5;28;01mraise\u001b[39;00m exc\u001b[38;5;241m.\u001b[39mObjectNotExecutableError(statement) \u001b[38;5;28;01mfrom\u001b[39;00m \u001b[38;5;21;01merr\u001b[39;00m\n\u001b[0;32m   1417\u001b[0m \u001b[38;5;28;01melse\u001b[39;00m:\n\u001b[1;32m-> 1418\u001b[0m     \u001b[38;5;28;01mreturn\u001b[39;00m meth(\n\u001b[0;32m   1419\u001b[0m         \u001b[38;5;28mself\u001b[39m,\n\u001b[0;32m   1420\u001b[0m         distilled_parameters,\n\u001b[0;32m   1421\u001b[0m         execution_options \u001b[38;5;129;01mor\u001b[39;00m NO_OPTIONS,\n\u001b[0;32m   1422\u001b[0m     )\n",
      "File \u001b[1;32m~\\AppData\\Local\\anaconda3\\envs\\pyconda\\Lib\\site-packages\\sqlalchemy\\sql\\elements.py:515\u001b[0m, in \u001b[0;36mClauseElement._execute_on_connection\u001b[1;34m(self, connection, distilled_params, execution_options)\u001b[0m\n\u001b[0;32m    513\u001b[0m     \u001b[38;5;28;01mif\u001b[39;00m TYPE_CHECKING:\n\u001b[0;32m    514\u001b[0m         \u001b[38;5;28;01massert\u001b[39;00m \u001b[38;5;28misinstance\u001b[39m(\u001b[38;5;28mself\u001b[39m, Executable)\n\u001b[1;32m--> 515\u001b[0m     \u001b[38;5;28;01mreturn\u001b[39;00m connection\u001b[38;5;241m.\u001b[39m_execute_clauseelement(\n\u001b[0;32m    516\u001b[0m         \u001b[38;5;28mself\u001b[39m, distilled_params, execution_options\n\u001b[0;32m    517\u001b[0m     )\n\u001b[0;32m    518\u001b[0m \u001b[38;5;28;01melse\u001b[39;00m:\n\u001b[0;32m    519\u001b[0m     \u001b[38;5;28;01mraise\u001b[39;00m exc\u001b[38;5;241m.\u001b[39mObjectNotExecutableError(\u001b[38;5;28mself\u001b[39m)\n",
      "File \u001b[1;32m~\\AppData\\Local\\anaconda3\\envs\\pyconda\\Lib\\site-packages\\sqlalchemy\\engine\\base.py:1640\u001b[0m, in \u001b[0;36mConnection._execute_clauseelement\u001b[1;34m(self, elem, distilled_parameters, execution_options)\u001b[0m\n\u001b[0;32m   1628\u001b[0m compiled_cache: Optional[CompiledCacheType] \u001b[38;5;241m=\u001b[39m execution_options\u001b[38;5;241m.\u001b[39mget(\n\u001b[0;32m   1629\u001b[0m     \u001b[38;5;124m\"\u001b[39m\u001b[38;5;124mcompiled_cache\u001b[39m\u001b[38;5;124m\"\u001b[39m, \u001b[38;5;28mself\u001b[39m\u001b[38;5;241m.\u001b[39mengine\u001b[38;5;241m.\u001b[39m_compiled_cache\n\u001b[0;32m   1630\u001b[0m )\n\u001b[0;32m   1632\u001b[0m compiled_sql, extracted_params, cache_hit \u001b[38;5;241m=\u001b[39m elem\u001b[38;5;241m.\u001b[39m_compile_w_cache(\n\u001b[0;32m   1633\u001b[0m     dialect\u001b[38;5;241m=\u001b[39mdialect,\n\u001b[0;32m   1634\u001b[0m     compiled_cache\u001b[38;5;241m=\u001b[39mcompiled_cache,\n\u001b[1;32m   (...)\u001b[0m\n\u001b[0;32m   1638\u001b[0m     linting\u001b[38;5;241m=\u001b[39m\u001b[38;5;28mself\u001b[39m\u001b[38;5;241m.\u001b[39mdialect\u001b[38;5;241m.\u001b[39mcompiler_linting \u001b[38;5;241m|\u001b[39m compiler\u001b[38;5;241m.\u001b[39mWARN_LINTING,\n\u001b[0;32m   1639\u001b[0m )\n\u001b[1;32m-> 1640\u001b[0m ret \u001b[38;5;241m=\u001b[39m \u001b[38;5;28mself\u001b[39m\u001b[38;5;241m.\u001b[39m_execute_context(\n\u001b[0;32m   1641\u001b[0m     dialect,\n\u001b[0;32m   1642\u001b[0m     dialect\u001b[38;5;241m.\u001b[39mexecution_ctx_cls\u001b[38;5;241m.\u001b[39m_init_compiled,\n\u001b[0;32m   1643\u001b[0m     compiled_sql,\n\u001b[0;32m   1644\u001b[0m     distilled_parameters,\n\u001b[0;32m   1645\u001b[0m     execution_options,\n\u001b[0;32m   1646\u001b[0m     compiled_sql,\n\u001b[0;32m   1647\u001b[0m     distilled_parameters,\n\u001b[0;32m   1648\u001b[0m     elem,\n\u001b[0;32m   1649\u001b[0m     extracted_params,\n\u001b[0;32m   1650\u001b[0m     cache_hit\u001b[38;5;241m=\u001b[39mcache_hit,\n\u001b[0;32m   1651\u001b[0m )\n\u001b[0;32m   1652\u001b[0m \u001b[38;5;28;01mif\u001b[39;00m has_events:\n\u001b[0;32m   1653\u001b[0m     \u001b[38;5;28mself\u001b[39m\u001b[38;5;241m.\u001b[39mdispatch\u001b[38;5;241m.\u001b[39mafter_execute(\n\u001b[0;32m   1654\u001b[0m         \u001b[38;5;28mself\u001b[39m,\n\u001b[0;32m   1655\u001b[0m         elem,\n\u001b[1;32m   (...)\u001b[0m\n\u001b[0;32m   1659\u001b[0m         ret,\n\u001b[0;32m   1660\u001b[0m     )\n",
      "File \u001b[1;32m~\\AppData\\Local\\anaconda3\\envs\\pyconda\\Lib\\site-packages\\sqlalchemy\\engine\\base.py:1846\u001b[0m, in \u001b[0;36mConnection._execute_context\u001b[1;34m(self, dialect, constructor, statement, parameters, execution_options, *args, **kw)\u001b[0m\n\u001b[0;32m   1844\u001b[0m     \u001b[38;5;28;01mreturn\u001b[39;00m \u001b[38;5;28mself\u001b[39m\u001b[38;5;241m.\u001b[39m_exec_insertmany_context(dialect, context)\n\u001b[0;32m   1845\u001b[0m \u001b[38;5;28;01melse\u001b[39;00m:\n\u001b[1;32m-> 1846\u001b[0m     \u001b[38;5;28;01mreturn\u001b[39;00m \u001b[38;5;28mself\u001b[39m\u001b[38;5;241m.\u001b[39m_exec_single_context(\n\u001b[0;32m   1847\u001b[0m         dialect, context, statement, parameters\n\u001b[0;32m   1848\u001b[0m     )\n",
      "File \u001b[1;32m~\\AppData\\Local\\anaconda3\\envs\\pyconda\\Lib\\site-packages\\sqlalchemy\\engine\\base.py:1986\u001b[0m, in \u001b[0;36mConnection._exec_single_context\u001b[1;34m(self, dialect, context, statement, parameters)\u001b[0m\n\u001b[0;32m   1983\u001b[0m     result \u001b[38;5;241m=\u001b[39m context\u001b[38;5;241m.\u001b[39m_setup_result_proxy()\n\u001b[0;32m   1985\u001b[0m \u001b[38;5;28;01mexcept\u001b[39;00m \u001b[38;5;167;01mBaseException\u001b[39;00m \u001b[38;5;28;01mas\u001b[39;00m e:\n\u001b[1;32m-> 1986\u001b[0m     \u001b[38;5;28mself\u001b[39m\u001b[38;5;241m.\u001b[39m_handle_dbapi_exception(\n\u001b[0;32m   1987\u001b[0m         e, str_statement, effective_parameters, cursor, context\n\u001b[0;32m   1988\u001b[0m     )\n\u001b[0;32m   1990\u001b[0m \u001b[38;5;28;01mreturn\u001b[39;00m result\n",
      "File \u001b[1;32m~\\AppData\\Local\\anaconda3\\envs\\pyconda\\Lib\\site-packages\\sqlalchemy\\engine\\base.py:2355\u001b[0m, in \u001b[0;36mConnection._handle_dbapi_exception\u001b[1;34m(self, e, statement, parameters, cursor, context, is_sub_exec)\u001b[0m\n\u001b[0;32m   2353\u001b[0m \u001b[38;5;28;01melif\u001b[39;00m should_wrap:\n\u001b[0;32m   2354\u001b[0m     \u001b[38;5;28;01massert\u001b[39;00m sqlalchemy_exception \u001b[38;5;129;01mis\u001b[39;00m \u001b[38;5;129;01mnot\u001b[39;00m \u001b[38;5;28;01mNone\u001b[39;00m\n\u001b[1;32m-> 2355\u001b[0m     \u001b[38;5;28;01mraise\u001b[39;00m sqlalchemy_exception\u001b[38;5;241m.\u001b[39mwith_traceback(exc_info[\u001b[38;5;241m2\u001b[39m]) \u001b[38;5;28;01mfrom\u001b[39;00m \u001b[38;5;21;01me\u001b[39;00m\n\u001b[0;32m   2356\u001b[0m \u001b[38;5;28;01melse\u001b[39;00m:\n\u001b[0;32m   2357\u001b[0m     \u001b[38;5;28;01massert\u001b[39;00m exc_info[\u001b[38;5;241m1\u001b[39m] \u001b[38;5;129;01mis\u001b[39;00m \u001b[38;5;129;01mnot\u001b[39;00m \u001b[38;5;28;01mNone\u001b[39;00m\n",
      "File \u001b[1;32m~\\AppData\\Local\\anaconda3\\envs\\pyconda\\Lib\\site-packages\\sqlalchemy\\engine\\base.py:1936\u001b[0m, in \u001b[0;36mConnection._exec_single_context\u001b[1;34m(self, dialect, context, statement, parameters)\u001b[0m\n\u001b[0;32m   1934\u001b[0m                 \u001b[38;5;28;01mbreak\u001b[39;00m\n\u001b[0;32m   1935\u001b[0m     \u001b[38;5;28;01mif\u001b[39;00m \u001b[38;5;129;01mnot\u001b[39;00m evt_handled:\n\u001b[1;32m-> 1936\u001b[0m         \u001b[38;5;28mself\u001b[39m\u001b[38;5;241m.\u001b[39mdialect\u001b[38;5;241m.\u001b[39mdo_executemany(\n\u001b[0;32m   1937\u001b[0m             cursor,\n\u001b[0;32m   1938\u001b[0m             str_statement,\n\u001b[0;32m   1939\u001b[0m             effective_parameters,\n\u001b[0;32m   1940\u001b[0m             context,\n\u001b[0;32m   1941\u001b[0m         )\n\u001b[0;32m   1942\u001b[0m \u001b[38;5;28;01melif\u001b[39;00m \u001b[38;5;129;01mnot\u001b[39;00m effective_parameters \u001b[38;5;129;01mand\u001b[39;00m context\u001b[38;5;241m.\u001b[39mno_parameters:\n\u001b[0;32m   1943\u001b[0m     \u001b[38;5;28;01mif\u001b[39;00m \u001b[38;5;28mself\u001b[39m\u001b[38;5;241m.\u001b[39mdialect\u001b[38;5;241m.\u001b[39m_has_events:\n",
      "File \u001b[1;32m~\\AppData\\Local\\anaconda3\\envs\\pyconda\\Lib\\site-packages\\sqlalchemy\\dialects\\mysql\\mysqldb.py:170\u001b[0m, in \u001b[0;36mMySQLDialect_mysqldb.do_executemany\u001b[1;34m(self, cursor, statement, parameters, context)\u001b[0m\n\u001b[0;32m    169\u001b[0m \u001b[38;5;28;01mdef\u001b[39;00m \u001b[38;5;21mdo_executemany\u001b[39m(\u001b[38;5;28mself\u001b[39m, cursor, statement, parameters, context\u001b[38;5;241m=\u001b[39m\u001b[38;5;28;01mNone\u001b[39;00m):\n\u001b[1;32m--> 170\u001b[0m     rowcount \u001b[38;5;241m=\u001b[39m cursor\u001b[38;5;241m.\u001b[39mexecutemany(statement, parameters)\n\u001b[0;32m    171\u001b[0m     \u001b[38;5;28;01mif\u001b[39;00m context \u001b[38;5;129;01mis\u001b[39;00m \u001b[38;5;129;01mnot\u001b[39;00m \u001b[38;5;28;01mNone\u001b[39;00m:\n\u001b[0;32m    172\u001b[0m         context\u001b[38;5;241m.\u001b[39m_rowcount \u001b[38;5;241m=\u001b[39m rowcount\n",
      "File \u001b[1;32m~\\AppData\\Local\\anaconda3\\envs\\pyconda\\Lib\\site-packages\\pymysql\\cursors.py:182\u001b[0m, in \u001b[0;36mCursor.executemany\u001b[1;34m(self, query, args)\u001b[0m\n\u001b[0;32m    180\u001b[0m     q_postfix \u001b[38;5;241m=\u001b[39m m\u001b[38;5;241m.\u001b[39mgroup(\u001b[38;5;241m3\u001b[39m) \u001b[38;5;129;01mor\u001b[39;00m \u001b[38;5;124m\"\u001b[39m\u001b[38;5;124m\"\u001b[39m\n\u001b[0;32m    181\u001b[0m     \u001b[38;5;28;01massert\u001b[39;00m q_values[\u001b[38;5;241m0\u001b[39m] \u001b[38;5;241m==\u001b[39m \u001b[38;5;124m\"\u001b[39m\u001b[38;5;124m(\u001b[39m\u001b[38;5;124m\"\u001b[39m \u001b[38;5;129;01mand\u001b[39;00m q_values[\u001b[38;5;241m-\u001b[39m\u001b[38;5;241m1\u001b[39m] \u001b[38;5;241m==\u001b[39m \u001b[38;5;124m\"\u001b[39m\u001b[38;5;124m)\u001b[39m\u001b[38;5;124m\"\u001b[39m\n\u001b[1;32m--> 182\u001b[0m     \u001b[38;5;28;01mreturn\u001b[39;00m \u001b[38;5;28mself\u001b[39m\u001b[38;5;241m.\u001b[39m_do_execute_many(\n\u001b[0;32m    183\u001b[0m         q_prefix,\n\u001b[0;32m    184\u001b[0m         q_values,\n\u001b[0;32m    185\u001b[0m         q_postfix,\n\u001b[0;32m    186\u001b[0m         args,\n\u001b[0;32m    187\u001b[0m         \u001b[38;5;28mself\u001b[39m\u001b[38;5;241m.\u001b[39mmax_stmt_length,\n\u001b[0;32m    188\u001b[0m         \u001b[38;5;28mself\u001b[39m\u001b[38;5;241m.\u001b[39m_get_db()\u001b[38;5;241m.\u001b[39mencoding,\n\u001b[0;32m    189\u001b[0m     )\n\u001b[0;32m    191\u001b[0m \u001b[38;5;28mself\u001b[39m\u001b[38;5;241m.\u001b[39mrowcount \u001b[38;5;241m=\u001b[39m \u001b[38;5;28msum\u001b[39m(\u001b[38;5;28mself\u001b[39m\u001b[38;5;241m.\u001b[39mexecute(query, arg) \u001b[38;5;28;01mfor\u001b[39;00m arg \u001b[38;5;129;01min\u001b[39;00m args)\n\u001b[0;32m    192\u001b[0m \u001b[38;5;28;01mreturn\u001b[39;00m \u001b[38;5;28mself\u001b[39m\u001b[38;5;241m.\u001b[39mrowcount\n",
      "File \u001b[1;32m~\\AppData\\Local\\anaconda3\\envs\\pyconda\\Lib\\site-packages\\pymysql\\cursors.py:220\u001b[0m, in \u001b[0;36mCursor._do_execute_many\u001b[1;34m(self, prefix, values, postfix, args, max_stmt_length, encoding)\u001b[0m\n\u001b[0;32m    218\u001b[0m         sql \u001b[38;5;241m+\u001b[39m\u001b[38;5;241m=\u001b[39m \u001b[38;5;124mb\u001b[39m\u001b[38;5;124m\"\u001b[39m\u001b[38;5;124m,\u001b[39m\u001b[38;5;124m\"\u001b[39m\n\u001b[0;32m    219\u001b[0m     sql \u001b[38;5;241m+\u001b[39m\u001b[38;5;241m=\u001b[39m v\n\u001b[1;32m--> 220\u001b[0m rows \u001b[38;5;241m+\u001b[39m\u001b[38;5;241m=\u001b[39m \u001b[38;5;28mself\u001b[39m\u001b[38;5;241m.\u001b[39mexecute(sql \u001b[38;5;241m+\u001b[39m postfix)\n\u001b[0;32m    221\u001b[0m \u001b[38;5;28mself\u001b[39m\u001b[38;5;241m.\u001b[39mrowcount \u001b[38;5;241m=\u001b[39m rows\n\u001b[0;32m    222\u001b[0m \u001b[38;5;28;01mreturn\u001b[39;00m rows\n",
      "File \u001b[1;32m~\\AppData\\Local\\anaconda3\\envs\\pyconda\\Lib\\site-packages\\pymysql\\cursors.py:153\u001b[0m, in \u001b[0;36mCursor.execute\u001b[1;34m(self, query, args)\u001b[0m\n\u001b[0;32m    149\u001b[0m     \u001b[38;5;28;01mpass\u001b[39;00m\n\u001b[0;32m    151\u001b[0m query \u001b[38;5;241m=\u001b[39m \u001b[38;5;28mself\u001b[39m\u001b[38;5;241m.\u001b[39mmogrify(query, args)\n\u001b[1;32m--> 153\u001b[0m result \u001b[38;5;241m=\u001b[39m \u001b[38;5;28mself\u001b[39m\u001b[38;5;241m.\u001b[39m_query(query)\n\u001b[0;32m    154\u001b[0m \u001b[38;5;28mself\u001b[39m\u001b[38;5;241m.\u001b[39m_executed \u001b[38;5;241m=\u001b[39m query\n\u001b[0;32m    155\u001b[0m \u001b[38;5;28;01mreturn\u001b[39;00m result\n",
      "File \u001b[1;32m~\\AppData\\Local\\anaconda3\\envs\\pyconda\\Lib\\site-packages\\pymysql\\cursors.py:322\u001b[0m, in \u001b[0;36mCursor._query\u001b[1;34m(self, q)\u001b[0m\n\u001b[0;32m    320\u001b[0m conn \u001b[38;5;241m=\u001b[39m \u001b[38;5;28mself\u001b[39m\u001b[38;5;241m.\u001b[39m_get_db()\n\u001b[0;32m    321\u001b[0m \u001b[38;5;28mself\u001b[39m\u001b[38;5;241m.\u001b[39m_clear_result()\n\u001b[1;32m--> 322\u001b[0m conn\u001b[38;5;241m.\u001b[39mquery(q)\n\u001b[0;32m    323\u001b[0m \u001b[38;5;28mself\u001b[39m\u001b[38;5;241m.\u001b[39m_do_get_result()\n\u001b[0;32m    324\u001b[0m \u001b[38;5;28;01mreturn\u001b[39;00m \u001b[38;5;28mself\u001b[39m\u001b[38;5;241m.\u001b[39mrowcount\n",
      "File \u001b[1;32m~\\AppData\\Local\\anaconda3\\envs\\pyconda\\Lib\\site-packages\\pymysql\\connections.py:563\u001b[0m, in \u001b[0;36mConnection.query\u001b[1;34m(self, sql, unbuffered)\u001b[0m\n\u001b[0;32m    561\u001b[0m     sql \u001b[38;5;241m=\u001b[39m sql\u001b[38;5;241m.\u001b[39mencode(\u001b[38;5;28mself\u001b[39m\u001b[38;5;241m.\u001b[39mencoding, \u001b[38;5;124m\"\u001b[39m\u001b[38;5;124msurrogateescape\u001b[39m\u001b[38;5;124m\"\u001b[39m)\n\u001b[0;32m    562\u001b[0m \u001b[38;5;28mself\u001b[39m\u001b[38;5;241m.\u001b[39m_execute_command(COMMAND\u001b[38;5;241m.\u001b[39mCOM_QUERY, sql)\n\u001b[1;32m--> 563\u001b[0m \u001b[38;5;28mself\u001b[39m\u001b[38;5;241m.\u001b[39m_affected_rows \u001b[38;5;241m=\u001b[39m \u001b[38;5;28mself\u001b[39m\u001b[38;5;241m.\u001b[39m_read_query_result(unbuffered\u001b[38;5;241m=\u001b[39munbuffered)\n\u001b[0;32m    564\u001b[0m \u001b[38;5;28;01mreturn\u001b[39;00m \u001b[38;5;28mself\u001b[39m\u001b[38;5;241m.\u001b[39m_affected_rows\n",
      "File \u001b[1;32m~\\AppData\\Local\\anaconda3\\envs\\pyconda\\Lib\\site-packages\\pymysql\\connections.py:825\u001b[0m, in \u001b[0;36mConnection._read_query_result\u001b[1;34m(self, unbuffered)\u001b[0m\n\u001b[0;32m    823\u001b[0m \u001b[38;5;28;01melse\u001b[39;00m:\n\u001b[0;32m    824\u001b[0m     result \u001b[38;5;241m=\u001b[39m MySQLResult(\u001b[38;5;28mself\u001b[39m)\n\u001b[1;32m--> 825\u001b[0m     result\u001b[38;5;241m.\u001b[39mread()\n\u001b[0;32m    826\u001b[0m \u001b[38;5;28mself\u001b[39m\u001b[38;5;241m.\u001b[39m_result \u001b[38;5;241m=\u001b[39m result\n\u001b[0;32m    827\u001b[0m \u001b[38;5;28;01mif\u001b[39;00m result\u001b[38;5;241m.\u001b[39mserver_status \u001b[38;5;129;01mis\u001b[39;00m \u001b[38;5;129;01mnot\u001b[39;00m \u001b[38;5;28;01mNone\u001b[39;00m:\n",
      "File \u001b[1;32m~\\AppData\\Local\\anaconda3\\envs\\pyconda\\Lib\\site-packages\\pymysql\\connections.py:1199\u001b[0m, in \u001b[0;36mMySQLResult.read\u001b[1;34m(self)\u001b[0m\n\u001b[0;32m   1197\u001b[0m \u001b[38;5;28;01mdef\u001b[39;00m \u001b[38;5;21mread\u001b[39m(\u001b[38;5;28mself\u001b[39m):\n\u001b[0;32m   1198\u001b[0m     \u001b[38;5;28;01mtry\u001b[39;00m:\n\u001b[1;32m-> 1199\u001b[0m         first_packet \u001b[38;5;241m=\u001b[39m \u001b[38;5;28mself\u001b[39m\u001b[38;5;241m.\u001b[39mconnection\u001b[38;5;241m.\u001b[39m_read_packet()\n\u001b[0;32m   1201\u001b[0m         \u001b[38;5;28;01mif\u001b[39;00m first_packet\u001b[38;5;241m.\u001b[39mis_ok_packet():\n\u001b[0;32m   1202\u001b[0m             \u001b[38;5;28mself\u001b[39m\u001b[38;5;241m.\u001b[39m_read_ok_packet(first_packet)\n",
      "File \u001b[1;32m~\\AppData\\Local\\anaconda3\\envs\\pyconda\\Lib\\site-packages\\pymysql\\connections.py:775\u001b[0m, in \u001b[0;36mConnection._read_packet\u001b[1;34m(self, packet_type)\u001b[0m\n\u001b[0;32m    773\u001b[0m     \u001b[38;5;28;01mif\u001b[39;00m \u001b[38;5;28mself\u001b[39m\u001b[38;5;241m.\u001b[39m_result \u001b[38;5;129;01mis\u001b[39;00m \u001b[38;5;129;01mnot\u001b[39;00m \u001b[38;5;28;01mNone\u001b[39;00m \u001b[38;5;129;01mand\u001b[39;00m \u001b[38;5;28mself\u001b[39m\u001b[38;5;241m.\u001b[39m_result\u001b[38;5;241m.\u001b[39munbuffered_active \u001b[38;5;129;01mis\u001b[39;00m \u001b[38;5;28;01mTrue\u001b[39;00m:\n\u001b[0;32m    774\u001b[0m         \u001b[38;5;28mself\u001b[39m\u001b[38;5;241m.\u001b[39m_result\u001b[38;5;241m.\u001b[39munbuffered_active \u001b[38;5;241m=\u001b[39m \u001b[38;5;28;01mFalse\u001b[39;00m\n\u001b[1;32m--> 775\u001b[0m     packet\u001b[38;5;241m.\u001b[39mraise_for_error()\n\u001b[0;32m    776\u001b[0m \u001b[38;5;28;01mreturn\u001b[39;00m packet\n",
      "File \u001b[1;32m~\\AppData\\Local\\anaconda3\\envs\\pyconda\\Lib\\site-packages\\pymysql\\protocol.py:219\u001b[0m, in \u001b[0;36mMysqlPacket.raise_for_error\u001b[1;34m(self)\u001b[0m\n\u001b[0;32m    217\u001b[0m \u001b[38;5;28;01mif\u001b[39;00m DEBUG:\n\u001b[0;32m    218\u001b[0m     \u001b[38;5;28mprint\u001b[39m(\u001b[38;5;124m\"\u001b[39m\u001b[38;5;124merrno =\u001b[39m\u001b[38;5;124m\"\u001b[39m, errno)\n\u001b[1;32m--> 219\u001b[0m err\u001b[38;5;241m.\u001b[39mraise_mysql_exception(\u001b[38;5;28mself\u001b[39m\u001b[38;5;241m.\u001b[39m_data)\n",
      "File \u001b[1;32m~\\AppData\\Local\\anaconda3\\envs\\pyconda\\Lib\\site-packages\\pymysql\\err.py:150\u001b[0m, in \u001b[0;36mraise_mysql_exception\u001b[1;34m(data)\u001b[0m\n\u001b[0;32m    148\u001b[0m \u001b[38;5;28;01mif\u001b[39;00m errorclass \u001b[38;5;129;01mis\u001b[39;00m \u001b[38;5;28;01mNone\u001b[39;00m:\n\u001b[0;32m    149\u001b[0m     errorclass \u001b[38;5;241m=\u001b[39m InternalError \u001b[38;5;28;01mif\u001b[39;00m errno \u001b[38;5;241m<\u001b[39m \u001b[38;5;241m1000\u001b[39m \u001b[38;5;28;01melse\u001b[39;00m OperationalError\n\u001b[1;32m--> 150\u001b[0m \u001b[38;5;28;01mraise\u001b[39;00m errorclass(errno, errval)\n",
      "\u001b[1;31mIntegrityError\u001b[0m: (pymysql.err.IntegrityError) (1062, \"Duplicate entry '0' for key 'news2.PRIMARY'\")\n[SQL: INSERT INTO news2 (id, title, link, content) VALUES (%(id)s, %(title)s, %(link)s, %(content)s)]\n[parameters: [{'id': 0, 'title': '“나홀로 응급실 전담…못 받아준 환자가 더 걱정”', 'link': 'https://n.news.naver.com/mnews/article/032/0003318879', 'content': '전공의 이탈 6개월째이대목동병원 가보니텅 빈 구급차 전용 주차장 정부가 추석연휴를 앞두고 응급실 진료 중단을 막기 위해 군의관 등 인력을 보강하겠다고 밝힌 3일 서울 시내 한 대학병원 권역응급의료센터 앞 텅 빈 구급차 전용 주차장을 환자가 지나가고 있다. 정부는 응급 ... (1901 characters truncated) ...  이르는 상황까지는 아닌 것으로 판단하고 있다 고 했다. 박민수 복지부 2차관은 이날 브리핑에서  현재 응급환자는 점차 감소 추세에 있다 면서  인력 공백을 최소화하기 위해 군의관 공보의 파견  진료지원 간호사 촉탁의 채용 등을 통해 인력을 보강하고 있다 고 밝혔다.'}, {'id': 1, 'title': '인권위 ‘사정기관 인권침해’ 권리구제율 8%로 떨어졌다', 'link': 'https://n.news.naver.com/mnews/article/032/0003318880', 'content': '2020년 19.6% 이후 하락세 뚜렷기각 각하율은 2년 연속 증가 일부 상임위원 의무 등한시 탓 윤석열 정부가 출범한 2022년 이후 국가인권위원회가 권리구제를 한 비율은 줄고 기각 각하 등 종결한 비율은 증가한 것으로 나타났다.3일 윤종군 더불어민주당 의원실이 확 ... (700 characters truncated) ... 위원장의 그간 행보와 무관치 않다. 김 상임위원과 이 상임위원은  소위원회 위원 중 1명만 반대해도 진정을 기각해야 한다 고 주장해왔다.윤 의원은  인권위의 권리구제율이 떨어지는 것은 일부 상임위원들이 보이콧을 감행하는 등 의무를 등한시하고 있기 때문 이라고 말했다.'}, {'id': 2, 'title': '이재명·한동훈 공감 뒤 ‘지구당 부활’ 급물살···찬반 분분', 'link': 'https://n.news.naver.com/mnews/article/032/0003318807', 'content': '한동훈 국민의힘 대표와 이재명 더불어민주당 대표가 1일 국회에서 열린 여야 대표 회담에 앞서 인사하고 있다. 성동훈 기자한동훈 국민의힘 대표와 이재명 더불어민주당 대표가 공감대를 이룬  지구당 부활 이 급물살을 타고 있다. 여야가 이르면 오는 26일 본회의에서 지구당 ... (1607 characters truncated) ... 이 생기면 서울에서 국민의힘이 가져올 의석은 없는데 부산 같은 격전지에서  지구당 부활로 기반을 다진  민주당에게 의석을 뺏길 일만 있다 고 했다. 국민의힘 내에서 지구당 부활에 회의적인 영남권 현역 의원들이 한 대표에 반기를 들어 당내 갈등이 촉발될 가능성도 있다.'}, {'id': 3, 'title': '여야 대표 ‘공감’에…힘 받는 ‘지구당 부활’', 'link': 'https://n.news.naver.com/mnews/article/032/0003318881', 'content': '이르면 26일 합의 처리 전망풀뿌리 정치 부활 기대감 속양당 체제 고착화 등 우려도한동훈 국민의힘 대표와 이재명 더불어민주당 대표가 공감대를 이룬  지구당 부활 이 급물살을 타고 있다. 여야가 이르면 오는 26일 본회의에서 지구당 부활 관련 법안을 합의 처리할 수 있 ... (1256 characters truncated) ... 책이 논의되지 않은 채 부활만 말하는 것은 문제가 있다 면서  지구당 위원장이 아닌 다른 원외 정치인들은 어떻게 되나 라고 반문했다. 이준석 개혁신당 의원은 지난 5월 개혁신당 연석회의에서  지구당이 다시 부활하면 지역 토호와 유착 문제가 생길 수 있다 고 우려했다.'}, {'id': 4, 'title': '내달 1일 국군의날, 임시공휴일로 지정', 'link': 'https://n.news.naver.com/mnews/article/032/0003318882', 'content': '대통령실  국민 안보의식 고취 오는 10월1일 건군 76주년 국군의날이 임시공휴일로 지정됐다.윤석열 대통령은 3일 국무회의를 통과한 국군의날 임시공휴일 지정안을 재가했다고 대통령실이 이날 밝혔다.대통령실은  엄중한 안보 상황 속에서 국방의 중요성과 국군의 존재 가치를 ... (344 characters truncated) ... 령 개정령안도 재가했다. 전세사기특별법은 전세사기 피해자에게 공공임대주택을 최대 20년간 지원하는 내용을 골자로 한다. 택시발전법은 이른바 택시 월급제의 전국 확대 시행을 2년 유예하는 내용이고 전통시장법 시행령에는 온누리상품권 사용처를 대폭 확대하는 내용이 담겼다.'}, {'id': 5, 'title': '세상에 나온 기후 교과서…“들고만 다녀도 캠페인”', 'link': 'https://n.news.naver.com/mnews/article/032/0003318935', 'content': '3년6개월 만에 탄생한 과목  기후변화와 지속가능한 세계 관점 다양성 불평등 등 담아논쟁적 사안 활동자료로 제시학생들  양측 입장에서  고민 청소년 기후 헌법소원 사례도연도별 지구 온도  줄무늬화 저자  표지까지 출판사에 제안올해 처음 기후위기를 다룬 고교 사회과 교 ... (1754 characters truncated) ... 생에게 북극곰으로 기후위기를 설득하기 어렵다 는 의견에 저자들은 연도별 지구 온도를 표시한  가열화 줄무늬 를 출판사에 제안했고 최종 채택됐다. 윤 교사는  학생들이 가열화 줄무늬가 표지인 교과서를 들고 다니는 것 자체가 일종의 기후위기 캠페인이 될 것 이라고 했다.'}, {'id': 6, 'title': '수도권 응급실 11곳 이송 거부…28개월 아이, 한 달째 의식불명', 'link': 'https://n.news.naver.com/mnews/article/032/0003318884', 'content': ' 열경련 위급  수용 문의에도  곤란  답변만분주한 중앙의료원 응급센터 국립중앙의료원 중앙응급의료센터에서 관계자들이 3일 병원 내에 설치된 전광판을 통해 응급의료 현안 대응 현황을 살피고 있다. 연합뉴스응급실 11곳에서 수용 거부를 당한 28개월 아이가 한 달째 의식 ... (282 characters truncated) ...  신고가 접수된 지 1시간5분이 지나서야 12번째 병원인 인천 인하대병원 응급실로 이송됐다. 양은 신고 당시 열경련으로 몸은 경직된 상태였지만 의식은 있었던 것으로 알려졌다. 하지만 의식불명 상태에 빠져 약 한 달째인 이날까지도 의식을 회복하지 못한 것으로 전해졌다.'}, {'id': 7, 'title': '[알림]제54회 대통령기 전국통일구간마라톤대회', 'link': 'https://n.news.naver.com/mnews/article/032/0003318885', 'content': '제54회 대통령기 전국통일구간마라톤대회가 9월8일 서울 경기 통일로 구간에서 열립니다. 이 대회는 1971년 남북적십자회담 개최를 계기로 한반도 평화 정착과 남북 통일의 염원을 담아 시작했습니다. 육상 종목에서 유일하게 대통령 타이틀을 가진 대회로  지난 53년 동안 ... (367 characters truncated) ...   총 11개 팀   시도 대항전 7개 팀   강원  경기  경북  서울  제주  충남  충북   소속 대항전 4개 팀   건국대  계명대  국민체육진흥공단  한국전력공사 주 최   경향신문 대한육상연맹 문 의   경향신문 문화사업국  02 3701 1603 후 원 '}  ... displaying 10 of 203 total bound parameter sets ...  {'id': 201, 'title': '\"재범 위험, 도주 우려\"... 마약류 투약 유아인 1심 법정구속', 'link': 'https://n.news.naver.com/mnews/article/469/0000821235', 'content': '법원  약 의존도 높아 ... 징역 1년공범 지인 최씨는 징역형 집행유예배우 유아인이 3일 오후 서울 서초동 서울중앙지법에서 열린 1심 선고 공판에 참여하기 위해 법정으로 들어서고 있다. 홍인기 기자의료용 마약 상습 투약 혐의 등으로 재판에 넘겨진 배우 유아인 38  ... (1039 characters truncated) ... 받았다. 최씨는 대마 흡연만 유죄로 인정됐고 마약류관리법 위반 향정  방조  범인도피  특정범죄가중처벌법상 보복 협박 등에 대해선 무죄 판결을 받았다. 재판부는  대마 흡연 횟수가 3회로 비교적 적고 단약을 다짐하는 등 재범하지 않을 것을 다짐하고 있다 고 설명했다.'}, {'id': 202, 'title': \"코로나 때 '현장예배' 김문수 장관 1심 무죄→2심 유죄\", 'link': 'https://n.news.naver.com/mnews/article/469/0000821204', 'content': '벌금 250만 원 선고김문수 고용노동부 장관. 뉴시스신종 코로나바이러스 감염증 코로나19  확산 당시 서울시의 집합금지 명령을 어기고 수차례 현장 예배에 참석한 김문수 고용노동부 장관과 사랑제일교회 신도들이 항소심에서 유죄를 선고받았다.서울북부지법 형사항소1 3부 부 ... (396 characters truncated) ...  2심 재판부는 원심과 달리 유죄로 판단했다. 재판부는  코로나 시기 감염병 예방과 억제를 위한 국가와 시민의 노력을 헛되게 만들 수 있었다 며  당시 코로나의 높은 감염성  위험성과 집합금지  조치 위반 등을 고려해 볼 때 죄질이 좋지 않다 고 양형 이유를 밝혔다.'}]]\n(Background on this error at: https://sqlalche.me/e/20/gkpj)"
     ]
    }
   ],
   "source": [
    "# DB에 저장\n",
    "from sqlalchemy import create_engine\n",
    "# MySQL 데이터베이스 연결 생성\n",
    "username = 'root'\n",
    "password = '1234'\n",
    "host = 'localhost'\n",
    "database = 'mydatabase'\n",
    "# SQLAlchemy 엔진 생성\n",
    "engine = create_engine(f'mysql+pymysql://{username}:{password}@{host}/{database}')\n",
    "# DataFrame을 MySQL의 테이블로 삽입 (테이블이 없으면 생성)\n",
    "df2.to_sql('news2', con=engine, if_exists='append', index=False)\n",
    "# 데이터 삽입 후 연결 해제\n",
    "engine.dispose()"
   ]
  },
  {
   "cell_type": "code",
   "execution_count": null,
   "id": "668a81d9-728c-40cf-a24a-ffada5027dbf",
   "metadata": {},
   "outputs": [],
   "source": []
  }
 ],
 "metadata": {
  "kernelspec": {
   "display_name": "Python 3 (ipykernel)",
   "language": "python",
   "name": "python3"
  },
  "language_info": {
   "codemirror_mode": {
    "name": "ipython",
    "version": 3
   },
   "file_extension": ".py",
   "mimetype": "text/x-python",
   "name": "python",
   "nbconvert_exporter": "python",
   "pygments_lexer": "ipython3",
   "version": "3.12.4"
  }
 },
 "nbformat": 4,
 "nbformat_minor": 5
}
