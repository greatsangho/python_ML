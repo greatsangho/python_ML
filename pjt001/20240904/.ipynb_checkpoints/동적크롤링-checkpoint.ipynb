{
 "cells": [
  {
   "cell_type": "code",
   "execution_count": 1,
   "id": "ef1688f0-0793-49bc-80f2-c8850a106671",
   "metadata": {
    "collapsed": true,
    "jupyter": {
     "outputs_hidden": true
    }
   },
   "outputs": [
    {
     "name": "stdout",
     "output_type": "stream",
     "text": [
      "Collecting selenium\n",
      "  Downloading selenium-4.24.0-py3-none-any.whl.metadata (7.1 kB)\n",
      "Requirement already satisfied: urllib3<3,>=1.26 in c:\\users\\user\\miniconda3\\envs\\mysql_phython\\lib\\site-packages (from urllib3[socks]<3,>=1.26->selenium) (2.2.2)\n",
      "Collecting trio~=0.17 (from selenium)\n",
      "  Downloading trio-0.26.2-py3-none-any.whl.metadata (8.6 kB)\n",
      "Collecting trio-websocket~=0.9 (from selenium)\n",
      "  Downloading trio_websocket-0.11.1-py3-none-any.whl.metadata (4.7 kB)\n",
      "Requirement already satisfied: certifi>=2021.10.8 in c:\\users\\user\\miniconda3\\envs\\mysql_phython\\lib\\site-packages (from selenium) (2024.7.4)\n",
      "Requirement already satisfied: typing_extensions~=4.9 in c:\\users\\user\\miniconda3\\envs\\mysql_phython\\lib\\site-packages (from selenium) (4.11.0)\n",
      "Requirement already satisfied: websocket-client~=1.8 in c:\\users\\user\\miniconda3\\envs\\mysql_phython\\lib\\site-packages (from selenium) (1.8.0)\n",
      "Collecting attrs>=23.2.0 (from trio~=0.17->selenium)\n",
      "  Downloading attrs-24.2.0-py3-none-any.whl.metadata (11 kB)\n",
      "Collecting sortedcontainers (from trio~=0.17->selenium)\n",
      "  Downloading sortedcontainers-2.4.0-py2.py3-none-any.whl.metadata (10 kB)\n",
      "Requirement already satisfied: idna in c:\\users\\user\\miniconda3\\envs\\mysql_phython\\lib\\site-packages (from trio~=0.17->selenium) (3.7)\n",
      "Collecting outcome (from trio~=0.17->selenium)\n",
      "  Downloading outcome-1.3.0.post0-py2.py3-none-any.whl.metadata (2.6 kB)\n",
      "Requirement already satisfied: sniffio>=1.3.0 in c:\\users\\user\\miniconda3\\envs\\mysql_phython\\lib\\site-packages (from trio~=0.17->selenium) (1.3.0)\n",
      "Requirement already satisfied: cffi>=1.14 in c:\\users\\user\\miniconda3\\envs\\mysql_phython\\lib\\site-packages (from trio~=0.17->selenium) (1.16.0)\n",
      "Collecting wsproto>=0.14 (from trio-websocket~=0.9->selenium)\n",
      "  Downloading wsproto-1.2.0-py3-none-any.whl.metadata (5.6 kB)\n",
      "Requirement already satisfied: pysocks!=1.5.7,<2.0,>=1.5.6 in c:\\users\\user\\miniconda3\\envs\\mysql_phython\\lib\\site-packages (from urllib3[socks]<3,>=1.26->selenium) (1.7.1)\n",
      "Requirement already satisfied: pycparser in c:\\users\\user\\miniconda3\\envs\\mysql_phython\\lib\\site-packages (from cffi>=1.14->trio~=0.17->selenium) (2.21)\n",
      "Collecting h11<1,>=0.9.0 (from wsproto>=0.14->trio-websocket~=0.9->selenium)\n",
      "  Downloading h11-0.14.0-py3-none-any.whl.metadata (8.2 kB)\n",
      "Downloading selenium-4.24.0-py3-none-any.whl (9.6 MB)\n",
      "   ---------------------------------------- 0.0/9.6 MB ? eta -:--:--\n",
      "   ----- ---------------------------------- 1.3/9.6 MB 16.6 MB/s eta 0:00:01\n",
      "   ------------- -------------------------- 3.1/9.6 MB 9.7 MB/s eta 0:00:01\n",
      "   -------------------------- ------------- 6.3/9.6 MB 11.7 MB/s eta 0:00:01\n",
      "   ------------------------------------- -- 8.9/9.6 MB 12.0 MB/s eta 0:00:01\n",
      "   ---------------------------------------- 9.6/9.6 MB 10.3 MB/s eta 0:00:00\n",
      "Downloading trio-0.26.2-py3-none-any.whl (475 kB)\n",
      "Downloading trio_websocket-0.11.1-py3-none-any.whl (17 kB)\n",
      "Downloading attrs-24.2.0-py3-none-any.whl (63 kB)\n",
      "Downloading wsproto-1.2.0-py3-none-any.whl (24 kB)\n",
      "Downloading outcome-1.3.0.post0-py2.py3-none-any.whl (10 kB)\n",
      "Downloading sortedcontainers-2.4.0-py2.py3-none-any.whl (29 kB)\n",
      "Downloading h11-0.14.0-py3-none-any.whl (58 kB)\n",
      "Installing collected packages: sortedcontainers, h11, attrs, wsproto, outcome, trio, trio-websocket, selenium\n",
      "  Attempting uninstall: attrs\n",
      "    Found existing installation: attrs 23.1.0\n",
      "    Uninstalling attrs-23.1.0:\n",
      "      Successfully uninstalled attrs-23.1.0\n",
      "Successfully installed attrs-24.2.0 h11-0.14.0 outcome-1.3.0.post0 selenium-4.24.0 sortedcontainers-2.4.0 trio-0.26.2 trio-websocket-0.11.1 wsproto-1.2.0\n"
     ]
    }
   ],
   "source": [
    "# pip install selenium\n",
    "!pip install selenium"
   ]
  },
  {
   "cell_type": "code",
   "execution_count": 2,
   "id": "86b14f56-7ba2-469a-bfc4-48c028575d2b",
   "metadata": {},
   "outputs": [],
   "source": [
    "from selenium import webdriver"
   ]
  },
  {
   "cell_type": "code",
   "execution_count": 57,
   "id": "63c31024-3403-4fb5-9662-d877c208cfa0",
   "metadata": {},
   "outputs": [],
   "source": [
    "# web driver 객체 생성\n",
    "wd = webdriver.Chrome()"
   ]
  },
  {
   "cell_type": "code",
   "execution_count": 54,
   "id": "335f8075-f81c-4e6f-b468-f273f8296880",
   "metadata": {},
   "outputs": [],
   "source": [
    "# 최초 한번 실행\n",
    "# 브라우져의 특성상.. 네트웍으로 데이터를 받아서 랜더링--> sleep을 줘서 기다려줘야 한다. 대략 1~2초\n",
    "wd.get('https://www.coffeebeankorea.com/store/store.asp')"
   ]
  },
  {
   "cell_type": "code",
   "execution_count": 27,
   "id": "96561b0e-78fc-4f39-8296-4a82bf2d9a90",
   "metadata": {},
   "outputs": [],
   "source": [
    "# 자바스크립트 실행도 페이지를 로딩하는것으로 동일하게 sleep을 적당히 줘서  기다려야 한다.\n",
    "wd.execute_script(\"storePop2(31)\")"
   ]
  },
  {
   "cell_type": "code",
   "execution_count": 28,
   "id": "b1bdedb6-c6ae-47c7-8f19-e476c4a52dbe",
   "metadata": {},
   "outputs": [],
   "source": [
    "from bs4 import BeautifulSoup\n",
    "html = wd.page_source  # 페이지 정보를 가지고 있음  html정보\n",
    "soup = BeautifulSoup(html, 'html.parser') # html 정보를 파싱"
   ]
  },
  {
   "cell_type": "code",
   "execution_count": 33,
   "id": "eb0be195-b3a5-4c95-87c5-0e1529c5b058",
   "metadata": {},
   "outputs": [
    {
     "data": {
      "text/plain": [
       "'삼성봉은사거리점'"
      ]
     },
     "execution_count": 33,
     "metadata": {},
     "output_type": "execute_result"
    }
   ],
   "source": [
    "soup.select('#matizCoverLayer0Content > div > div > div.store_txt > h2')[0].text"
   ]
  },
  {
   "cell_type": "code",
   "execution_count": 34,
   "id": "aeefdecc-3c7e-446d-90f4-4eee6d1a457f",
   "metadata": {},
   "outputs": [
    {
     "data": {
      "text/plain": [
       "[<tr> <th>영업시간</th> <td> 평일 07:00-22:30 | 주말/공휴일 07:00-22:00</td> </tr>,\n",
       " <tr> <th>주차</th> <td>건물뒷편주차장(기계주차식)<br/>평일 최초 30분 2,000원 / 1시간 5,000원 (구매영수증 지참시 30분 2,000원 / 1시간 3,500원)<br/>1시간 초과시 10분당 1,000원 (평일,주말 동일)</td> </tr>,\n",
       " <tr> <th>주소</th> <td>서울시 강남구 영동대로 607 1,2층  <!--span class=\"lot\">(서울시 강남구 영동대로 607 1,2층)</span--></td> </tr>,\n",
       " <tr> <th>전화번호</th> <td>02-3443-5618</td> </tr>,\n",
       " <tr> <th rowspan=\"2\">기타 정보</th> <td class=\"best\">식약처 인증 위생등급 매우 우수매장</td> </tr>,\n",
       " <tr> <td class=\"hallcake\">홀케익 당일 수령가능</td> </tr>]"
      ]
     },
     "execution_count": 34,
     "metadata": {},
     "output_type": "execute_result"
    }
   ],
   "source": [
    "tr_lists = soup.select('#matizCoverLayer0Content > div > div > div.store_txt > table > tbody > tr')\n",
    "tr_lists"
   ]
  },
  {
   "cell_type": "code",
   "execution_count": 49,
   "id": "0104e1e4-6a6e-492a-9f9f-442d020392f7",
   "metadata": {},
   "outputs": [
    {
     "data": {
      "text/plain": [
       "{'영업시간': '평일 07:00-22:30 | 주말/공휴일 07:00-22:00',\n",
       " '주차': '건물뒷편주차장(기계주차식)평일 최초 30분 2,000원 / 1시간 5,000원 (구매영수증 지참시 30분 2,000원 / 1시간 3,500원)1시간 초과시 10분당 1,000원 (평일,주말 동일)',\n",
       " '주소': '서울시 강남구 영동대로 607 1,2층',\n",
       " '전화번호': '02-3443-5618',\n",
       " '기타정보': '식약처 인증 위생등급 매우 우수매장'}"
      ]
     },
     "execution_count": 49,
     "metadata": {},
     "output_type": "execute_result"
    }
   ],
   "source": [
    "sub_titls = ['영업시간','주차','주소','전화번호','기타정보']\n",
    "content = [tr.td.text.strip() for tr in tr_lists]\n",
    "dict(zip(sub_titls,content))    "
   ]
  },
  {
   "cell_type": "markdown",
   "id": "d47974e9-7db5-40ad-9b64-d756dd3ed505",
   "metadata": {},
   "source": [
    "## 하나의 셀로 합치기"
   ]
  },
  {
   "cell_type": "code",
   "execution_count": 51,
   "id": "ea6d98a7-f2fe-445e-a84b-6df7199503ec",
   "metadata": {},
   "outputs": [],
   "source": [
    "from selenium import webdriver\n",
    "from bs4 import BeautifulSoup\n",
    "import time  # sleep(1)  1초"
   ]
  },
  {
   "cell_type": "code",
   "execution_count": null,
   "id": "6f3b015c-4e6a-451e-b535-6f551e97736f",
   "metadata": {},
   "outputs": [],
   "source": [
    "wd = webdriver.Chrome()"
   ]
  },
  {
   "cell_type": "code",
   "execution_count": 69,
   "id": "5ebb9beb-9750-47cc-8a76-4e4f4365d1c7",
   "metadata": {
    "collapsed": true,
    "jupyter": {
     "outputs_hidden": true
    }
   },
   "outputs": [
    {
     "name": "stdout",
     "output_type": "stream",
     "text": [
      "0 1 2 4 5 7 8 9 10 11 13 14 16 19 20 21 22 23 24 25 26 27 30 32 33 34 37 38 39 40 41 42 43 44 47 48 50 54 56 57 58 60 62 64 65 67 68 69 70 71 72 73 74 75 76 77 78 79 80 81 82 83 84 85 86 87 88 89 90 91 92 93 94 95 96 97 98 99 100 101 102 103 104 105 106 107 108 109 110 111 112 113 114 115 116 117 118 119 120 121 122 123 124 125 126 127 128 129 130 131 132 133 134 135 136 137 138 139 140 141 142 143 144 145 146 147 148 149 150 151 152 153 154 155 156 157 158 159 160 161 162 163 164 165 166 167 168 169 170 171 172 173 174 175 176 177 178 179 180 181 182 183 184 185 186 187 188 189 190 191 192 193 194 195 196 197 198 199 200 201 202 203 204 205 206 207 208 209 210 211 212 213 214 215 216 217 218 219 220 221 222 223 224 225 226 227 228 229 230 231 232 233 234 235 236 237 238 239 240 241 242 243 244 245 246 247 248 249 250 251 252 253 254 255 256 257 258 259 260 261 262 263 264 265 266 267 268 269 270 271 272 273 274 275 276 277 278 279 280 281 282 283 284 285 286 287 288 289 290 291 292 293 294 295 296 297 298 299 300 301 302 303 304 305 306 307 308 309 310 311 312 313 314 315 316 317 318 319 320 321 322 323 324 325 326 327 328 329 330 331 332 333 334 335 336 337 338 339 340 341 342 343 344 345 346 347 348 349 350 351 352 353 354 355 356 357 358 359 360 361 362 363 364 365 366 367 368 369 370 371 372 373 374 375 376 377 378 379 380 381 382 383 384 385 386 387 388 389 390 391 392 393 394 395 396 397 398 399 400 401 402 403 404 405 406 407 408 409 410 411 412 413 414 415 416 417 418 419 420 421 422 423 424 425 426 427 428 429 430 431 432 433 434 435 436 437 438 439 440 441 442 443 444 445 446 447 448 449 450 451 452 453 454 455 456 457 458 459 460 461 462 463 464 465 466 467 468 469 470 471 472 473 474 475 476 477 478 479 480 481 482 483 484 485 486 487 488 489 490 491 492 493 494 495 496 497 498 499 "
     ]
    }
   ],
   "source": [
    "store_lilst = []\n",
    "for i in range(500):\n",
    "    try:\n",
    "        wd.get('https://www.coffeebeankorea.com/store/store.asp')\n",
    "        time.sleep(1)\n",
    "        wd.execute_script(f\"storePop2({i})\")\n",
    "        time.sleep(1)\n",
    "        html = wd.page_source  # 페이지 정보를 가지고 있음  html정보\n",
    "        soup = BeautifulSoup(html, 'html.parser') # html 정보를 파싱\n",
    "        store_name = soup.select('#matizCoverLayer0Content > div > div > div.store_txt > h2')[0].text\n",
    "        tr_lists = soup.select('#matizCoverLayer0Content > div > div > div.store_txt > table > tbody > tr')\n",
    "        sub_titls = ['영업시간','주차','주소','전화번호','기타정보']\n",
    "        content = [tr.td.text.strip() for tr in tr_lists]\n",
    "        store_dict = dict(zip(sub_titls,content))  \n",
    "        store_dict['매장명'] = store_name\n",
    "        store_lilst.append(store_dict)\n",
    "    except:\n",
    "        print(i,end=\" \")"
   ]
  },
  {
   "cell_type": "code",
   "execution_count": 80,
   "id": "1593c514-7738-4449-b7e0-2a5536630769",
   "metadata": {},
   "outputs": [
    {
     "data": {
      "text/html": [
       "<div>\n",
       "<style scoped>\n",
       "    .dataframe tbody tr th:only-of-type {\n",
       "        vertical-align: middle;\n",
       "    }\n",
       "\n",
       "    .dataframe tbody tr th {\n",
       "        vertical-align: top;\n",
       "    }\n",
       "\n",
       "    .dataframe thead th {\n",
       "        text-align: right;\n",
       "    }\n",
       "</style>\n",
       "<table border=\"1\" class=\"dataframe\">\n",
       "  <thead>\n",
       "    <tr style=\"text-align: right;\">\n",
       "      <th></th>\n",
       "      <th>매장명</th>\n",
       "      <th>영업시간</th>\n",
       "      <th>주차</th>\n",
       "      <th>주소</th>\n",
       "      <th>전화번호</th>\n",
       "      <th>기타정보</th>\n",
       "    </tr>\n",
       "  </thead>\n",
       "  <tbody>\n",
       "    <tr>\n",
       "      <th>0</th>\n",
       "      <td>차병원점</td>\n",
       "      <td>평일 07:00~18:00 | 토요일 07:00~15:00 | 일.공휴일 휴무</td>\n",
       "      <td>병원주차장 이용가능 (병원방문시 무료)</td>\n",
       "      <td>서울시 강남구 논현로 566 강남차병원1층</td>\n",
       "      <td>02-538-7615</td>\n",
       "      <td>식약처 인증 위생등급 매우 우수매장</td>\n",
       "    </tr>\n",
       "    <tr>\n",
       "      <th>1</th>\n",
       "      <td>강남대로점</td>\n",
       "      <td>월-금 06:30-23:00 | 토 07:30-23:00 | 일,공휴일 08:00-...</td>\n",
       "      <td>15,000원 이상 구매시 1시간 무료 주차 가능(건물 지하 주차장 이용, 대형 차...</td>\n",
       "      <td>서울시 서초구 강남대로 369 1층</td>\n",
       "      <td>02-588-5778</td>\n",
       "      <td>NaN</td>\n",
       "    </tr>\n",
       "    <tr>\n",
       "      <th>2</th>\n",
       "      <td>청담에스점</td>\n",
       "      <td>월-금 07:00~22:00 | 토 07:30~22:00 | 일/공휴일 07:30~...</td>\n",
       "      <td>건물지하 주차가능(5,000원 이상 구매시 30분 무료지급/10,000원 이상 구매...</td>\n",
       "      <td>서울시 강남구 압구정로 461 네이처포엠빌딩B108,109호</td>\n",
       "      <td>02-548-6052</td>\n",
       "      <td>NaN</td>\n",
       "    </tr>\n",
       "    <tr>\n",
       "      <th>3</th>\n",
       "      <td>역삼점</td>\n",
       "      <td>월-금 07:00~23:00 | 토 08:00~23:00 | 일 08:00~22:00</td>\n",
       "      <td>무료주차불가</td>\n",
       "      <td>서울시 강남구 논현로 512  지상1,2층</td>\n",
       "      <td>02-569-8051</td>\n",
       "      <td>NaN</td>\n",
       "    </tr>\n",
       "    <tr>\n",
       "      <th>4</th>\n",
       "      <td>청담성당점</td>\n",
       "      <td>월-금 07:00~21:00 | 토 07:30~21:00 | 일/공휴일 07:30~...</td>\n",
       "      <td>발렛주차가능 / 최초 1시간 4000원 / 1시간당 추가시 2000원</td>\n",
       "      <td>서울시 강남구 삼성로 716 LEE76빌딩2층</td>\n",
       "      <td>02-542-2053</td>\n",
       "      <td>홀케익 당일 수령가능</td>\n",
       "    </tr>\n",
       "    <tr>\n",
       "      <th>5</th>\n",
       "      <td>영동점</td>\n",
       "      <td>월-금 07:00~23:00 | 토 08:00~23:00 | 일/공휴일 09:00~...</td>\n",
       "      <td>주차불가</td>\n",
       "      <td>서울 서초구 반포동 736-17 P빌딩 2층</td>\n",
       "      <td>02-3443-2096</td>\n",
       "      <td>NaN</td>\n",
       "    </tr>\n",
       "    <tr>\n",
       "      <th>6</th>\n",
       "      <td>논현팍스타워점</td>\n",
       "      <td>월-금 07:00~21:00 | 토/일 09:00~20:00</td>\n",
       "      <td>5,000원 이상 구매시1시간 무료주차 (건물 지하3층 주차장)</td>\n",
       "      <td>서울시 강남구 논현 231-13호 팍스타워지하1층</td>\n",
       "      <td>02-513-3870</td>\n",
       "      <td>NaN</td>\n",
       "    </tr>\n",
       "    <tr>\n",
       "      <th>7</th>\n",
       "      <td>삼성오크우드점</td>\n",
       "      <td>월-목 07:00~21:00 | 금 07:00~22:00 | 주말 08:00~22:00</td>\n",
       "      <td>승용차-최초 30분 2,400원/15분당 1,200원/1일 주차시 4만 8천원 화물...</td>\n",
       "      <td>서울 강남구 테헤란로87길 46 지하 2층</td>\n",
       "      <td>02-3466-8507</td>\n",
       "      <td>NaN</td>\n",
       "    </tr>\n",
       "    <tr>\n",
       "      <th>8</th>\n",
       "      <td>삼성봉은사거리점</td>\n",
       "      <td>평일 07:00-22:30 | 주말/공휴일 07:00-22:00</td>\n",
       "      <td>건물뒷편주차장(기계주차식)평일 최초 30분 2,000원 / 1시간 5,000원 (구...</td>\n",
       "      <td>서울시 강남구 영동대로 607 1,2층</td>\n",
       "      <td>02-3443-5618</td>\n",
       "      <td>식약처 인증 위생등급 매우 우수매장</td>\n",
       "    </tr>\n",
       "    <tr>\n",
       "      <th>9</th>\n",
       "      <td>잠실신천점</td>\n",
       "      <td>월-금 07:00~22:00 | 주말&amp;공휴일 07:00~21:00</td>\n",
       "      <td>1시간 무료주차가능-건물옆에 주차타워(기계주차식)-대형차량불가반려동물 출입 가능</td>\n",
       "      <td>서울시 송파구 석촌호수로 118 1층</td>\n",
       "      <td>02-416-9520</td>\n",
       "      <td>펫 프렌들리 매장</td>\n",
       "    </tr>\n",
       "    <tr>\n",
       "      <th>10</th>\n",
       "      <td>서초지파이브점</td>\n",
       "      <td>월-토 07:00~22:00 I 일 08:00~22:00</td>\n",
       "      <td>1만원이상 구매시 1시간 무료 주차, 2만원이상 구매시 2시간 무료 주차(매장 최대...</td>\n",
       "      <td>서울시 서초구 서초동 1685-8호 101~2호,113~4호,121호</td>\n",
       "      <td>02-3477-5580</td>\n",
       "      <td>NaN</td>\n",
       "    </tr>\n",
       "    <tr>\n",
       "      <th>11</th>\n",
       "      <td>방배카페골목점</td>\n",
       "      <td>월-일 08:00~22:30</td>\n",
       "      <td>커피빈 이용시 건물 주차장 조건부 이용가능 [기본료 발렛비 1000원 부과] 고객 ...</td>\n",
       "      <td>서울특별시 서초구 방배중앙로 187</td>\n",
       "      <td>02-592-7794</td>\n",
       "      <td>NaN</td>\n",
       "    </tr>\n",
       "    <tr>\n",
       "      <th>12</th>\n",
       "      <td>역삼포스틸타워뒷점</td>\n",
       "      <td>평일 07:00~22:00 | 토요일 08:00~22:00 | 일,공휴일 09:00...</td>\n",
       "      <td></td>\n",
       "      <td>서울시 강남구 테헤란로 20길 10 쓰리엠타워1층</td>\n",
       "      <td>02-554-9962</td>\n",
       "      <td>NaN</td>\n",
       "    </tr>\n",
       "    <tr>\n",
       "      <th>13</th>\n",
       "      <td>삼성봉은사로점</td>\n",
       "      <td>매일 07:00~22:00</td>\n",
       "      <td>유료주차 최초 30분 2,000원 초과시 15분당 1,000원 . 일요일  무료주차</td>\n",
       "      <td>서울시 강남구 봉은사로 628 엘슨빌딩1층</td>\n",
       "      <td>02-538-4523</td>\n",
       "      <td>NaN</td>\n",
       "    </tr>\n",
       "    <tr>\n",
       "      <th>14</th>\n",
       "      <td>매봉역점</td>\n",
       "      <td>월-금 07:00~22:00 | 토 07:30~22:00 | 일 08:00-21:00</td>\n",
       "      <td>주차공간따로 없음.</td>\n",
       "      <td>서울시 강남구 논현로 38길 42 418호</td>\n",
       "      <td>02-529-9947</td>\n",
       "      <td>NaN</td>\n",
       "    </tr>\n",
       "    <tr>\n",
       "      <th>15</th>\n",
       "      <td>남부터미널역점</td>\n",
       "      <td>월-일 07:00~22:00</td>\n",
       "      <td>1시간 무료주차 가능 / 1시간 이후 시간당 3,000원 금액발생 (건물1층 기계식...</td>\n",
       "      <td>서울시 서초구 서초중앙로 43 로얄타워1층</td>\n",
       "      <td>02-523-3671</td>\n",
       "      <td>NaN</td>\n",
       "    </tr>\n",
       "    <tr>\n",
       "      <th>16</th>\n",
       "      <td>강남역랭기지타워점</td>\n",
       "      <td>월~금 07:00-21:00 | 토,일 07:30~21:00</td>\n",
       "      <td>30분 무료주차 10분 추가시 1,000원</td>\n",
       "      <td>서울시 강남구 테헤란로4길 28 826-28호 1층</td>\n",
       "      <td>02-563-3655</td>\n",
       "      <td>NaN</td>\n",
       "    </tr>\n",
       "    <tr>\n",
       "      <th>17</th>\n",
       "      <td>도심공항타워점</td>\n",
       "      <td>월-수 : 6:30-22:00 | 목,금 : 6:30-23:00 | 주말&amp;공휴일 :...</td>\n",
       "      <td>유료주차 (코엑스몰 주차장)</td>\n",
       "      <td>서울시 강남구 테헤란로87길 36 공항타워 1층</td>\n",
       "      <td>02-2016-5330</td>\n",
       "      <td>NaN</td>\n",
       "    </tr>\n",
       "    <tr>\n",
       "      <th>18</th>\n",
       "      <td>광화문점</td>\n",
       "      <td>월-금 07:00~23:00 | 토요일 7:30~23:00 | 일/공휴일 09:00...</td>\n",
       "      <td>브루잉 바 이용 가능유료주차 최초 30분 2,000원, 10분당 1,000원</td>\n",
       "      <td>서울 종로구 서린동 136 센트리얼빌딩 1층</td>\n",
       "      <td>02-3210-2326</td>\n",
       "      <td>홀케익 당일 수령가능</td>\n",
       "    </tr>\n",
       "    <tr>\n",
       "      <th>19</th>\n",
       "      <td>경희궁의아침점</td>\n",
       "      <td>월-금 07:00-21:00 | 토요일 09:00-21:00 | 일요일/공휴일 09...</td>\n",
       "      <td>건물지하3층 주차장( 1시간 무료주차 가능)</td>\n",
       "      <td>서울시 종로구 새문안로3길 23 경희궁아침상가4단지105외</td>\n",
       "      <td>02-730-8896</td>\n",
       "      <td>홀케익 당일 수령가능</td>\n",
       "    </tr>\n",
       "    <tr>\n",
       "      <th>20</th>\n",
       "      <td>홍대역점</td>\n",
       "      <td>월~일 08:00 ~ 24:00</td>\n",
       "      <td>(콘센트 이용 가능) / 주차 불가</td>\n",
       "      <td>서울시 마포구 홍익로 6길 26</td>\n",
       "      <td>02-333-4278</td>\n",
       "      <td>홀케익 당일 수령가능</td>\n",
       "    </tr>\n",
       "    <tr>\n",
       "      <th>21</th>\n",
       "      <td>종로관철동점</td>\n",
       "      <td>월-금 07:00~24:00  | 토 08:00~24:00 | 일,공휴일 08:00...</td>\n",
       "      <td>무료주차불가 주변 유료주차장이용</td>\n",
       "      <td>서울시 종로구 청계천로 83 11-4호 지하1,지상1~3층</td>\n",
       "      <td>02-738-5333</td>\n",
       "      <td>NaN</td>\n",
       "    </tr>\n",
       "  </tbody>\n",
       "</table>\n",
       "</div>"
      ],
      "text/plain": [
       "          매장명  ...                 기타정보\n",
       "0        차병원점  ...  식약처 인증 위생등급 매우 우수매장\n",
       "1       강남대로점  ...                  NaN\n",
       "2       청담에스점  ...                  NaN\n",
       "3         역삼점  ...                  NaN\n",
       "4       청담성당점  ...          홀케익 당일 수령가능\n",
       "5         영동점  ...                  NaN\n",
       "6     논현팍스타워점  ...                  NaN\n",
       "7     삼성오크우드점  ...                  NaN\n",
       "8    삼성봉은사거리점  ...  식약처 인증 위생등급 매우 우수매장\n",
       "9       잠실신천점  ...            펫 프렌들리 매장\n",
       "10    서초지파이브점  ...                  NaN\n",
       "11    방배카페골목점  ...                  NaN\n",
       "12  역삼포스틸타워뒷점  ...                  NaN\n",
       "13    삼성봉은사로점  ...                  NaN\n",
       "14       매봉역점  ...                  NaN\n",
       "15    남부터미널역점  ...                  NaN\n",
       "16  강남역랭기지타워점  ...                  NaN\n",
       "17    도심공항타워점  ...                  NaN\n",
       "18       광화문점  ...          홀케익 당일 수령가능\n",
       "19    경희궁의아침점  ...          홀케익 당일 수령가능\n",
       "20       홍대역점  ...          홀케익 당일 수령가능\n",
       "21     종로관철동점  ...                  NaN\n",
       "\n",
       "[22 rows x 6 columns]"
      ]
     },
     "execution_count": 80,
     "metadata": {},
     "output_type": "execute_result"
    }
   ],
   "source": [
    "import pandas as pd\n",
    "df = pd.DataFrame(store_lilst)\n",
    "df = df[ [list(df.columns)[-1]] +  list(df.columns)[:-1] ]\n",
    "df"
   ]
  },
  {
   "cell_type": "markdown",
   "id": "86b3c247-7ba4-4247-8fc9-a16aa67f9046",
   "metadata": {},
   "source": [
    "## 두번째 방법\n",
    "    - webdriver를 이용하는 방법"
   ]
  },
  {
   "cell_type": "code",
   "execution_count": 255,
   "id": "2e1ce493-41bb-4975-80f7-614a8f38d1fb",
   "metadata": {},
   "outputs": [],
   "source": [
    "# 지역검색\n",
    "wd = webdriver.Chrome()  # 드라이버 로드및 브라우져 동적으로 실행\n",
    "wd.get('https://www.coffeebeankorea.com/store/store.asp')  # 크롤링할 주소를 입력\n",
    "html = wd.page_source  # 페이지 정보를 가지고 있음  html정보 "
   ]
  },
  {
   "cell_type": "code",
   "execution_count": 256,
   "id": "7f526710-d2c9-4c3c-adb3-e82877ebbb3f",
   "metadata": {},
   "outputs": [],
   "source": [
    "# 지역검색에 대한 링크 클릭\n",
    "from selenium.webdriver.common.by import By\n",
    "soup = BeautifulSoup(html, 'html.parser') # html 정보를 파싱\n",
    "selenium_el = wd.find_element(By.ID,'region_srh')  # 지역검색을 클릭\n",
    "selenium_el.click()"
   ]
  },
  {
   "cell_type": "code",
   "execution_count": 263,
   "id": "62192e44-f52f-4772-8d24-5c75b28eecbe",
   "metadata": {},
   "outputs": [
    {
     "name": "stdout",
     "output_type": "stream",
     "text": [
      "7\n",
      "9\n",
      "11\n"
     ]
    }
   ],
   "source": [
    "# dropdown = wd.find_element(By.ID,'localTitle')\n",
    "# dropdown.click()\n",
    "# time.sleep(1)    \n",
    "result = []\n",
    "for i in range(1,12):\n",
    "    try:\n",
    "        dropdown = wd.find_element(By.ID,'localTitle')   # 시도를 선택해주세요 를 클릭\n",
    "        dropdown.click()\n",
    "        # time.sleep(0.5)   \n",
    "\n",
    "        dropdown = wd.find_element(By.XPATH,f'//*[@id=\"storeLocal\"]/li[{i}]/a')  # 1 서울 ~ 11  드랍다운메뉴중에 하나를 클릭\n",
    "        dropdown.click()    \n",
    "        # time.sleep(0.5)   \n",
    "        \n",
    "        html = wd.page_source  #  현재 페이지 정보를 html로 변환\n",
    "        soup = BeautifulSoup(html, 'html.parser') # html 정보를 파싱\n",
    "        shop_lists = soup.select('ul#storeListUL>li')    # 매장정보 리스트\n",
    "        for shop in shop_lists:\n",
    "            result.append(\n",
    "                [shop.find('span').text.strip(),\n",
    "                ','.join([tag.text.strip() for tag in shop.find('p',class_='tag').select('span') ]),\n",
    "                shop.find('p',class_='address').text.strip(),\n",
    "                shop.find('p',class_='tel').text.strip()\n",
    "                ]\n",
    "            )\n",
    "    except Exception as e:\n",
    "        print(i)"
   ]
  },
  {
   "cell_type": "code",
   "execution_count": 262,
   "id": "b30c7e06-c623-4cb6-ace9-539140b6f7c8",
   "metadata": {},
   "outputs": [
    {
     "data": {
      "text/html": [
       "<div>\n",
       "<style scoped>\n",
       "    .dataframe tbody tr th:only-of-type {\n",
       "        vertical-align: middle;\n",
       "    }\n",
       "\n",
       "    .dataframe tbody tr th {\n",
       "        vertical-align: top;\n",
       "    }\n",
       "\n",
       "    .dataframe thead th {\n",
       "        text-align: right;\n",
       "    }\n",
       "</style>\n",
       "<table border=\"1\" class=\"dataframe\">\n",
       "  <thead>\n",
       "    <tr style=\"text-align: right;\">\n",
       "      <th></th>\n",
       "      <th>0</th>\n",
       "      <th>1</th>\n",
       "      <th>2</th>\n",
       "      <th>3</th>\n",
       "    </tr>\n",
       "  </thead>\n",
       "  <tbody>\n",
       "    <tr>\n",
       "      <th>0</th>\n",
       "      <td>브라이튼여의도점</td>\n",
       "      <td>디카페인,두유,와이파이,케익수령</td>\n",
       "      <td>서울특별시 영등포구 국제금융로 39, 앵커원 1층</td>\n",
       "      <td>02-952-9577</td>\n",
       "    </tr>\n",
       "    <tr>\n",
       "      <th>1</th>\n",
       "      <td>역삼KSA한국표준협회교육센터점</td>\n",
       "      <td>디카페인,두유,와이파이,케익수령</td>\n",
       "      <td>서울시 강남구 역삼동 738번지 1층</td>\n",
       "      <td>02-488-5912</td>\n",
       "    </tr>\n",
       "    <tr>\n",
       "      <th>2</th>\n",
       "      <td>삼성본관빌딩점</td>\n",
       "      <td>디카페인,두유,와이파이,캡슐판매,케익수령</td>\n",
       "      <td>서울특별시 중구 세종대로 67 삼성 본관빌딩 1층 후문 로비 일부</td>\n",
       "      <td>02-720-5561</td>\n",
       "    </tr>\n",
       "    <tr>\n",
       "      <th>3</th>\n",
       "      <td>고대안암병원신관점</td>\n",
       "      <td>디카페인,두유,와이파이,캡슐판매,케익수령</td>\n",
       "      <td>서울특별시 성북구 고려대로 73</td>\n",
       "      <td>02-544-6823</td>\n",
       "    </tr>\n",
       "    <tr>\n",
       "      <th>4</th>\n",
       "      <td>압구정로데오2호점</td>\n",
       "      <td>디카페인,두유,주차가능,와이파이,캡슐판매,케익수령</td>\n",
       "      <td>서울특별시 강남구 선릉로 157길 22 2층</td>\n",
       "      <td>02-3444-9973</td>\n",
       "    </tr>\n",
       "    <tr>\n",
       "      <th>...</th>\n",
       "      <td>...</td>\n",
       "      <td>...</td>\n",
       "      <td>...</td>\n",
       "      <td>...</td>\n",
       "    </tr>\n",
       "    <tr>\n",
       "      <th>131</th>\n",
       "      <td>부산서면점</td>\n",
       "      <td>디카페인,두유,와이파이,케익수령,홀케익</td>\n",
       "      <td>부산 부산진구 서면로 62-1 에이스메디컬타워 1F</td>\n",
       "      <td>051-802-4282</td>\n",
       "    </tr>\n",
       "    <tr>\n",
       "      <th>132</th>\n",
       "      <td>부산광복동점</td>\n",
       "      <td>디카페인,두유,와이파이,흡연가능,전자담배 사용가능,케익수령,딜리버리</td>\n",
       "      <td>부산광역시 중구 창선동 2가 8-2</td>\n",
       "      <td>051-243-9105</td>\n",
       "    </tr>\n",
       "    <tr>\n",
       "      <th>133</th>\n",
       "      <td>제주애월DT점</td>\n",
       "      <td>디카페인,두유,주차가능,드라이브 스루,반려동물,홀케익</td>\n",
       "      <td>제주도 제주시 애월읍 애월해안로 560</td>\n",
       "      <td>064-799-3670</td>\n",
       "    </tr>\n",
       "    <tr>\n",
       "      <th>134</th>\n",
       "      <td>제주아라점</td>\n",
       "      <td>디카페인,두유,주차가능,와이파이</td>\n",
       "      <td>제주도 제주시 연북로 511</td>\n",
       "      <td>064-758-1194</td>\n",
       "    </tr>\n",
       "    <tr>\n",
       "      <th>135</th>\n",
       "      <td>청주지웰시티점</td>\n",
       "      <td>디카페인,두유,주차가능,와이파이,흡연가능,전자담배 사용가능,캡슐판매,케익수령,딜리버...</td>\n",
       "      <td>충북 청주시 흥덕구 대농로 17 지웰시티몰 1층 124-1,125,126호</td>\n",
       "      <td>043-238-3151</td>\n",
       "    </tr>\n",
       "  </tbody>\n",
       "</table>\n",
       "<p>136 rows × 4 columns</p>\n",
       "</div>"
      ],
      "text/plain": [
       "                    0  ...             3\n",
       "0            브라이튼여의도점  ...   02-952-9577\n",
       "1    역삼KSA한국표준협회교육센터점  ...   02-488-5912\n",
       "2             삼성본관빌딩점  ...   02-720-5561\n",
       "3           고대안암병원신관점  ...   02-544-6823\n",
       "4           압구정로데오2호점  ...  02-3444-9973\n",
       "..                ...  ...           ...\n",
       "131             부산서면점  ...  051-802-4282\n",
       "132            부산광복동점  ...  051-243-9105\n",
       "133           제주애월DT점  ...  064-799-3670\n",
       "134             제주아라점  ...  064-758-1194\n",
       "135           청주지웰시티점  ...  043-238-3151\n",
       "\n",
       "[136 rows x 4 columns]"
      ]
     },
     "execution_count": 262,
     "metadata": {},
     "output_type": "execute_result"
    }
   ],
   "source": [
    "import pandas as  pd\n",
    "pd.DataFrame(result)"
   ]
  },
  {
   "cell_type": "code",
   "execution_count": null,
   "id": "0bcd270a-e39f-4ffb-9e64-66fe58cf7f64",
   "metadata": {},
   "outputs": [],
   "source": []
  }
 ],
 "metadata": {
  "kernelspec": {
   "display_name": "Python 3 (ipykernel)",
   "language": "python",
   "name": "python3"
  },
  "language_info": {
   "codemirror_mode": {
    "name": "ipython",
    "version": 3
   },
   "file_extension": ".py",
   "mimetype": "text/x-python",
   "name": "python",
   "nbconvert_exporter": "python",
   "pygments_lexer": "ipython3",
   "version": "3.12.4"
  }
 },
 "nbformat": 4,
 "nbformat_minor": 5
}
