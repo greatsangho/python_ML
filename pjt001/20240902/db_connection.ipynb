{
 "cells": [
  {
   "cell_type": "code",
   "execution_count": null,
   "id": "1dbc4dcb-7ca0-4ab6-8e84-4964319ae683",
   "metadata": {},
   "outputs": [],
   "source": [
    "import pymysql\n",
    "import pandas as pd\n",
    "\n",
    "# 데이터베이스 연결 설정\n",
    "def get_database_connection():\n",
    "    connection = pymysql.connect(\n",
    "        host=\"localhost\",\n",
    "        user=\"root\",\n",
    "        password=\"1234\",\n",
    "        database=\"mydatabase\",\n",
    "        charset='utf8mb4',\n",
    "        cursorclass=pymysql.cursors.DictCursor\n",
    "    )\n",
    "    return connection\n",
    "\n",
    "# CREATE: 새로운 레코드 삽입\n",
    "def insert_record(name, age, city):\n",
    "    connection = get_database_connection()\n",
    "    cursor = connection.cursor()\n",
    "    query = \"INSERT INTO news(content) VALUES (%s)\"\n",
    "    cursor.execute(query, (connect)\n",
    "    connection.commit()\n",
    "    connection.close()\n",
    "\n",
    "# READ: 테이블에서 모든 레코드 가져오기\n",
    "def fetch_all_records():\n",
    "    connection = get_database_connection()\n",
    "    query = \"SELECT * FROM news\"\n",
    "    df = pd.read_sql(query, connection)\n",
    "    connection.close()\n",
    "    return df\n",
    "\n",
    "# # UPDATE: 특정 레코드 업데이트\n",
    "# def update_record(record_id, name, age, city):\n",
    "#     connection = get_database_connection()\n",
    "#     cursor = connection.cursor()\n",
    "#     query = \"UPDATE your_table_name SET name = %s, age = %s, city = %s WHERE id = %s\"\n",
    "#     cursor.execute(query, (name, age, city, record_id))\n",
    "#     connection.commit()\n",
    "#     connection.close()\n",
    "\n",
    "# # DELETE: 특정 레코드 삭제\n",
    "# def delete_record(record_id):\n",
    "#     connection = get_database_connection()\n",
    "#     cursor = connection.cursor()\n",
    "#     query = \"DELETE FROM your_table_name WHERE id = %s\"\n",
    "#     cursor.execute(query, (record_id,))\n",
    "#     connection.commit()\n",
    "#     connection.close()\n"
   ]
  }
 ],
 "metadata": {
  "kernelspec": {
   "display_name": "Python 3 (ipykernel)",
   "language": "python",
   "name": "python3"
  },
  "language_info": {
   "codemirror_mode": {
    "name": "ipython",
    "version": 3
   },
   "file_extension": ".py",
   "mimetype": "text/x-python",
   "name": "python",
   "nbconvert_exporter": "python",
   "pygments_lexer": "ipython3",
   "version": "3.12.4"
  }
 },
 "nbformat": 4,
 "nbformat_minor": 5
}
