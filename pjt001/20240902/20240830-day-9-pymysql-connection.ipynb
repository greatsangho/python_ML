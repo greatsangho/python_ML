{
 "cells": [
  {
   "cell_type": "code",
   "execution_count": 19,
   "id": "4b7176a2-913f-482e-8f12-a161c0eda8c7",
   "metadata": {},
   "outputs": [],
   "source": [
    "import pymysql"
   ]
  },
  {
   "cell_type": "code",
   "execution_count": 21,
   "id": "9116256f-652d-4d56-8554-47374fdd6b6a",
   "metadata": {},
   "outputs": [],
   "source": [
    "# mysql 데이터베이스 연결\n",
    "connection = pymysql.connect(\n",
    "    host = '127.0.0.1',\n",
    "    user = 'root',\n",
    "    password = '1234',\n",
    "    database = 'bookrental',\n",
    "    charset = 'utf8mb4',\n",
    "    cursorclass = pymysql.cursors.DictCursor  # 결과를 딕셔너리 형태로 변환\n",
    ")"
   ]
  },
  {
   "cell_type": "code",
   "execution_count": 22,
   "id": "39de2b77-7678-45b7-8694-e204943c212d",
   "metadata": {},
   "outputs": [
    {
     "data": {
      "text/plain": [
       "<pymysql.connections.Connection at 0x2106e422960>"
      ]
     },
     "execution_count": 22,
     "metadata": {},
     "output_type": "execute_result"
    }
   ],
   "source": [
    "connection"
   ]
  },
  {
   "cell_type": "code",
   "execution_count": 30,
   "id": "9deaf5d1-b6a8-41b8-af9e-b221aeaae8f5",
   "metadata": {},
   "outputs": [
    {
     "name": "stdout",
     "output_type": "stream",
     "text": [
      "데이터 생성되었음........\n",
      "{'customer_id': 'c001', 'customer_name': '고객1'}\n",
      "{'customer_id': 'c002', 'customer_name': '고객2'}\n",
      "{'customer_id': 'c003', 'customer_name': '고객3'}\n",
      "{'customer_id': 'c004', 'customer_name': '고객4'}\n",
      "{'customer_id': 'c005', 'customer_name': '고객5'}\n",
      "{'customer_id': 'c009', 'customer_name': '고객1'}\n",
      "{'customer_id': 'c010', 'customer_name': '고객1'}\n"
     ]
    }
   ],
   "source": [
    "try:\n",
    "    # 커서\n",
    "    with connection.cursor() as cursor:\n",
    "        # 데이터 삽입 - insert\n",
    "        sql = \"insert into customertbl values ('c009','고객1')\"\n",
    "        cursor.execute(sql)\n",
    "        connection.commit()  # 변경사항을 저장\n",
    "        print('데이터 생성되었음........')\n",
    "        \n",
    "        # 데이터 조회\n",
    "        sql = 'select * from customertbl'\n",
    "        cursor.execute(sql)\n",
    "        result = cursor.fetchall()\n",
    "        for row in result:\n",
    "            print(row)\n",
    "\n",
    "except Exception as e:\n",
    "    print(e)\n"
   ]
  },
  {
   "cell_type": "code",
   "execution_count": null,
   "id": "c52b42fc-b3fc-4a73-ae0f-3773fe5ba340",
   "metadata": {},
   "outputs": [],
   "source": []
  }
 ],
 "metadata": {
  "kernelspec": {
   "display_name": "Python 3 (ipykernel)",
   "language": "python",
   "name": "python3"
  },
  "language_info": {
   "codemirror_mode": {
    "name": "ipython",
    "version": 3
   },
   "file_extension": ".py",
   "mimetype": "text/x-python",
   "name": "python",
   "nbconvert_exporter": "python",
   "pygments_lexer": "ipython3",
   "version": "3.12.4"
  }
 },
 "nbformat": 4,
 "nbformat_minor": 5
}
