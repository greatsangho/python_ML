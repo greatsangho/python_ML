{
 "cells": [
  {
   "cell_type": "markdown",
   "id": "cbe514ab-1599-4842-90d0-f664518c28ce",
   "metadata": {},
   "source": [
    "## 데이터 베이스 구축"
   ]
  },
  {
   "cell_type": "code",
   "execution_count": 11,
   "id": "8881a54e-518f-4ab1-9a46-439fe596b9c5",
   "metadata": {},
   "outputs": [],
   "source": [
    "# 필요한 라이브러리\n",
    "\n",
    "import pymysql\n",
    "import pandas as pd"
   ]
  },
  {
   "cell_type": "code",
   "execution_count": 12,
   "id": "295a55d1-acb9-4bda-83f2-3c8b4622d40d",
   "metadata": {},
   "outputs": [],
   "source": [
    "# MySQL 데이터 베이스 생성 함수\n",
    "\n",
    "def create_database(database_name:str, username = 'root', password = 'BEA02050509!', host = 'localhost'):\n",
    "    '''\n",
    "    원하는 데이터베이스 이름을 문자열로 해서 함수 인수로 넣어주면 됩니다.\n",
    "    그리고 password 인수 값에는 각자의 MySQL 패스워드 값으로 바꿔주세요.\n",
    "    '''\n",
    "    \n",
    "    connection = pymysql.connect(\n",
    "    host = host,\n",
    "    user = username, \n",
    "    password = password)\n",
    "    \n",
    "    with connection.cursor() as cursor:\n",
    "        cursor.execute(f\"create database {database_name}\")\n",
    "    connection.commit()\n",
    "    connection.close()"
   ]
  },
  {
   "cell_type": "code",
   "execution_count": 13,
   "id": "0067fd2b-afe2-45e7-a2ef-ccebc44896dd",
   "metadata": {},
   "outputs": [],
   "source": [
    "# 데이터 베이스 생성 함수 실행\n",
    "\n",
    "database_name = \"first_project\"\n",
    "\n",
    "create_database(database_name)"
   ]
  },
  {
   "cell_type": "code",
   "execution_count": 14,
   "id": "5d3ff868-52f7-4532-9873-6b92284398ec",
   "metadata": {},
   "outputs": [],
   "source": [
    "# 데이터 베이스 접근 함수\n",
    "\n",
    "def get_connection(database_name, username = 'root', password = 'BEA02050509!', host = 'localhost'):\n",
    "    conn = pymysql.connect(\n",
    "        host = host,\n",
    "        user = username,\n",
    "        password = password,\n",
    "        database = database_name,\n",
    "        charset = 'utf8mb4',\n",
    "        cursorclass = pymysql.cursors.DictCursor\n",
    "    )\n",
    "    return conn"
   ]
  },
  {
   "cell_type": "code",
   "execution_count": 15,
   "id": "2a97937e-8e78-4df6-a192-56875876fcca",
   "metadata": {},
   "outputs": [],
   "source": [
    "# 연도 테이블 생성 함수\n",
    "\n",
    "def year_table(update:list=None):\n",
    "    '''\n",
    "    처음에 2019~2023년의 연도 테이블을 만든다.\n",
    "    그리고 나중에 이후 연도를 추가로 넣고 싶으면,\n",
    "    update 인수에 리스트를 넣어준다.\n",
    "    '''\n",
    "    \n",
    "    if update == None:\n",
    "        year_values = list(range(2019, 2024))\n",
    "    \n",
    "        connection = get_connection(database_name)\n",
    "        with connection.cursor() as cursor:\n",
    "            cursor.execute(\"CREATE TABLE IF NOT EXISTS year (year_id INT AUTO_INCREMENT NOT NULL PRIMARY KEY, year INT NOT NULL)\")\n",
    "            for i in year_values:\n",
    "                sql = f\"INSERT INTO year (year) VALUES ({i})\"   # INSERT INTO 테이블_이름 (열_이름) VALUES (값)\n",
    "                cursor.execute(sql)\n",
    "\n",
    "        connection.commit()\n",
    "        connection.close()\n",
    "    else:\n",
    "        connection = get_connection(database_name)\n",
    "        with connection.cursor() as cursor:\n",
    "            for i in update:\n",
    "                sql = f\"INSERT INTO year (year) VALUES ({i})\"\n",
    "                cursor.execute(sql)\n",
    "\n",
    "        connection.commit()\n",
    "        connection.close()"
   ]
  },
  {
   "cell_type": "code",
   "execution_count": 16,
   "id": "ff89f997-171e-4a69-9ee1-29df97cbd501",
   "metadata": {},
   "outputs": [],
   "source": [
    "# 연도 테이블 생성 함수 실행\n",
    "\n",
    "year_table()"
   ]
  },
  {
   "cell_type": "code",
   "execution_count": 17,
   "id": "35ad1552-14ca-4efe-a21e-961b7df45067",
   "metadata": {},
   "outputs": [],
   "source": [
    "# 차종 테이블 생성 함수\n",
    "\n",
    "def car_type():\n",
    "    '''\n",
    "    차종 테이블은 차종이 고정되어 있으므로, 데이터를 따로 받지 않는다.\n",
    "    '''\n",
    "\n",
    "    car_type = ['승용', '승합', '화물', '특수']\n",
    "\n",
    "    connection = get_connection(database_name)\n",
    "    with connection.cursor() as cursor:\n",
    "        cursor.execute(\"CREATE TABLE IF NOT EXISTS car_type (car_id INT AUTO_INCREMENT NOT NULL PRIMARY KEY, type VARCHAR(2) NOT NULL)\")\n",
    "        for i in car_type:\n",
    "            sql = f\"INSERT INTO car_type (type) VALUES ('{i}')\"\n",
    "            cursor.execute(sql)\n",
    "            \n",
    "    connection.commit()\n",
    "    connection.close()"
   ]
  },
  {
   "cell_type": "code",
   "execution_count": 18,
   "id": "d865dff9-075c-4d5b-af8e-4aba1e8330f0",
   "metadata": {},
   "outputs": [],
   "source": [
    "# 차종 테이블 생성 함수 실행\n",
    "\n",
    "car_type()"
   ]
  },
  {
   "cell_type": "code",
   "execution_count": 19,
   "id": "e06fe6bf-c394-453a-ac25-66905125d4ce",
   "metadata": {},
   "outputs": [],
   "source": [
    "# 데이터 입력 함수\n",
    "\n",
    "def Insert_data(filename:str, update:list=None):\n",
    "    '''\n",
    "    연도별 차종별 데이터가 함께 있는 파일의 이름을 문자열로 넣어 준다.\n",
    "    초기 데이터 삽입 이후에 추가로 데이터를 넣고 싶다면,\n",
    "    데이터 파일명에다가 연도 리스트 또한 update 인수를 통해 전달해준다.\n",
    "    '''\n",
    "    \n",
    "    len_type = list(range(1,5))\n",
    "    data = pd.read_csv(filename)\n",
    "\n",
    "    connection = get_connection(database_name)\n",
    "    with connection.cursor() as cursor:\n",
    "        cursor.execute(\"CREATE TABLE IF NOT EXISTS car_amount (id INT AUTO_INCREMENT NOT NULL PRIMARY KEY, year_id INT NOT NULL, car_id INT NOT NULL, amount INT NOT NULL, FOREIGN KEY (year_id) REFERENCES year(year_id), FOREIGN KEY (car_id) REFERENCES car_type(car_id))\")\n",
    "    connection.commit()\n",
    "    connection.close()\n",
    "        \n",
    "    connection = get_connection(database_name)\n",
    "    with connection.cursor() as cursor:\n",
    "        sql = \"SELECT COUNT(year_id) AS total FROM year\"\n",
    "        cursor.execute(sql)\n",
    "        result = cursor.fetchone()\n",
    "        len_year = result['total'] + 1\n",
    "        \n",
    "        if update == None:\n",
    "            year_list = list(range(1, len_year))\n",
    "            for i in year_list:\n",
    "                for j in len_type:\n",
    "                    value = int(data.iloc[i-1,j])\n",
    "                    sql = f\"INSERT INTO car_amount (year_id, car_id, amount) VALUES ({i}, {j}, {value})\"\n",
    "                    cursor.execute(sql)\n",
    "        else:\n",
    "            year_table(update)\n",
    "            new_year_list = list(range(len_year, len_year + len(update)))\n",
    "            for i in new_year_list:\n",
    "                for j in len_type:\n",
    "                    value = int(data.iloc[i-len_year,j])\n",
    "                    sql = f\"INSERT INTO car_amount (year_id, car_id, amount) VALUES ({i}, {j}, {value})\"\n",
    "                    cursor.execute(sql)\n",
    "\n",
    "    connection.commit()\n",
    "    connection.close()"
   ]
  },
  {
   "cell_type": "code",
   "execution_count": 20,
   "id": "6e4d6381-1f5b-4287-a267-9c7dbadef69d",
   "metadata": {},
   "outputs": [],
   "source": [
    "# 데이터 입력 함수 실행\n",
    "\n",
    "Insert_data('car.csv')"
   ]
  }
 ],
 "metadata": {
  "kernelspec": {
   "display_name": "Python 3 (ipykernel)",
   "language": "python",
   "name": "python3"
  },
  "language_info": {
   "codemirror_mode": {
    "name": "ipython",
    "version": 3
   },
   "file_extension": ".py",
   "mimetype": "text/x-python",
   "name": "python",
   "nbconvert_exporter": "python",
   "pygments_lexer": "ipython3",
   "version": "3.12.4"
  }
 },
 "nbformat": 4,
 "nbformat_minor": 5
}
