{
  "cells": [
    {
      "cell_type": "markdown",
      "metadata": {
        "id": "1xZA4Uam9HRM"
      },
      "source": [
        "- 딥러닝\n",
        "  - 지도학습\n",
        "    - 예측\n",
        "    - 분류\n",
        "  - 비지도학습\n",
        "    - 차원축소\n",
        "    - 오토인코더\n",
        "    - 군집"
      ]
    },
    {
      "cell_type": "markdown",
      "metadata": {
        "id": "5R72qw8Y9L2J"
      },
      "source": [
        "- 텐서플로 : 예측\n"
      ]
    },
    {
      "cell_type": "code",
      "execution_count": null,
      "metadata": {
        "id": "9ZaB3NUG9N8O"
      },
      "outputs": [],
      "source": [
        "import tensorflow as tf"
      ]
    },
    {
      "cell_type": "code",
      "execution_count": null,
      "metadata": {
        "colab": {
          "base_uri": "https://localhost:8080/"
        },
        "id": "BeRiZXX79Pyl",
        "outputId": "4473a74c-2b6e-4f62-e113-a990593774c4"
      },
      "outputs": [
        {
          "name": "stdout",
          "output_type": "stream",
          "text": [
            "Downloading data from https://storage.googleapis.com/tensorflow/tf-keras-datasets/california_housing.npz\n",
            "\u001b[1m743530/743530\u001b[0m \u001b[32m━━━━━━━━━━━━━━━━━━━━\u001b[0m\u001b[37m\u001b[0m \u001b[1m0s\u001b[0m 0us/step\n"
          ]
        }
      ],
      "source": [
        "from sklearn.model_selection import train_test_split\n",
        "(x,y),(x_test, y_test) = tf.keras.datasets.california_housing.load_data()\n",
        "x_train,x_val,y_train,y_val =  train_test_split(x,y,random_state=123)"
      ]
    },
    {
      "cell_type": "code",
      "execution_count": null,
      "metadata": {
        "colab": {
          "base_uri": "https://localhost:8080/"
        },
        "id": "yUwbzygn9R2M",
        "outputId": "9c069a30-bdff-4acc-a20f-16ffcd076d15"
      },
      "outputs": [
        {
          "data": {
            "text/plain": [
              "(12384, 8)"
            ]
          },
          "execution_count": 13,
          "metadata": {},
          "output_type": "execute_result"
        }
      ],
      "source": [
        "x_train.shape"
      ]
    },
    {
      "cell_type": "code",
      "execution_count": null,
      "metadata": {
        "id": "C5j0BSTj9TdS"
      },
      "outputs": [],
      "source": [
        "from sklearn.preprocessing import StandardScaler\n",
        "scaler = StandardScaler()\n",
        "x_train = scaler.fit_transform(x_train)\n",
        "x_val = scaler.transform(x_val)\n",
        "x_test = scaler.transform(x_test)"
      ]
    },
    {
      "cell_type": "code",
      "execution_count": null,
      "metadata": {
        "colab": {
          "base_uri": "https://localhost:8080/"
        },
        "id": "j7_ggokA9VU5",
        "outputId": "f9fcf047-2271-4035-9a7a-93302bbae120"
      },
      "outputs": [
        {
          "name": "stderr",
          "output_type": "stream",
          "text": [
            "/usr/local/lib/python3.10/dist-packages/keras/src/layers/core/dense.py:87: UserWarning: Do not pass an `input_shape`/`input_dim` argument to a layer. When using Sequential models, prefer using an `Input(shape)` object as the first layer in the model instead.\n",
            "  super().__init__(activity_regularizer=activity_regularizer, **kwargs)\n"
          ]
        },
        {
          "name": "stdout",
          "output_type": "stream",
          "text": [
            "Epoch 1/20\n",
            "\u001b[1m387/387\u001b[0m \u001b[32m━━━━━━━━━━━━━━━━━━━━\u001b[0m\u001b[37m\u001b[0m \u001b[1m4s\u001b[0m 5ms/step - loss: 56764379136.0000 - val_loss: 54639267840.0000\n",
            "Epoch 2/20\n",
            "\u001b[1m387/387\u001b[0m \u001b[32m━━━━━━━━━━━━━━━━━━━━\u001b[0m\u001b[37m\u001b[0m \u001b[1m1s\u001b[0m 3ms/step - loss: 56175038464.0000 - val_loss: 53936353280.0000\n",
            "Epoch 3/20\n",
            "\u001b[1m387/387\u001b[0m \u001b[32m━━━━━━━━━━━━━━━━━━━━\u001b[0m\u001b[37m\u001b[0m \u001b[1m1s\u001b[0m 3ms/step - loss: 55847616512.0000 - val_loss: 52224823296.0000\n",
            "Epoch 4/20\n",
            "\u001b[1m387/387\u001b[0m \u001b[32m━━━━━━━━━━━━━━━━━━━━\u001b[0m\u001b[37m\u001b[0m \u001b[1m1s\u001b[0m 2ms/step - loss: 53910781952.0000 - val_loss: 49334755328.0000\n",
            "Epoch 5/20\n",
            "\u001b[1m387/387\u001b[0m \u001b[32m━━━━━━━━━━━━━━━━━━━━\u001b[0m\u001b[37m\u001b[0m \u001b[1m1s\u001b[0m 2ms/step - loss: 49927278592.0000 - val_loss: 45330354176.0000\n",
            "Epoch 6/20\n",
            "\u001b[1m387/387\u001b[0m \u001b[32m━━━━━━━━━━━━━━━━━━━━\u001b[0m\u001b[37m\u001b[0m \u001b[1m1s\u001b[0m 2ms/step - loss: 46170775552.0000 - val_loss: 40504090624.0000\n",
            "Epoch 7/20\n",
            "\u001b[1m387/387\u001b[0m \u001b[32m━━━━━━━━━━━━━━━━━━━━\u001b[0m\u001b[37m\u001b[0m \u001b[1m1s\u001b[0m 2ms/step - loss: 39856082944.0000 - val_loss: 35186630656.0000\n",
            "Epoch 8/20\n",
            "\u001b[1m387/387\u001b[0m \u001b[32m━━━━━━━━━━━━━━━━━━━━\u001b[0m\u001b[37m\u001b[0m \u001b[1m1s\u001b[0m 2ms/step - loss: 35033899008.0000 - val_loss: 29890387968.0000\n",
            "Epoch 9/20\n",
            "\u001b[1m387/387\u001b[0m \u001b[32m━━━━━━━━━━━━━━━━━━━━\u001b[0m\u001b[37m\u001b[0m \u001b[1m2s\u001b[0m 5ms/step - loss: 29860831232.0000 - val_loss: 24999092224.0000\n",
            "Epoch 10/20\n",
            "\u001b[1m387/387\u001b[0m \u001b[32m━━━━━━━━━━━━━━━━━━━━\u001b[0m\u001b[37m\u001b[0m \u001b[1m4s\u001b[0m 8ms/step - loss: 24937979904.0000 - val_loss: 20864489472.0000\n",
            "Epoch 11/20\n",
            "\u001b[1m387/387\u001b[0m \u001b[32m━━━━━━━━━━━━━━━━━━━━\u001b[0m\u001b[37m\u001b[0m \u001b[1m5s\u001b[0m 7ms/step - loss: 21092950016.0000 - val_loss: 17643390976.0000\n",
            "Epoch 12/20\n",
            "\u001b[1m387/387\u001b[0m \u001b[32m━━━━━━━━━━━━━━━━━━━━\u001b[0m\u001b[37m\u001b[0m \u001b[1m6s\u001b[0m 8ms/step - loss: 18028670976.0000 - val_loss: 15377509376.0000\n",
            "Epoch 13/20\n",
            "\u001b[1m387/387\u001b[0m \u001b[32m━━━━━━━━━━━━━━━━━━━━\u001b[0m\u001b[37m\u001b[0m \u001b[1m5s\u001b[0m 8ms/step - loss: 15565868032.0000 - val_loss: 13878811648.0000\n",
            "Epoch 14/20\n",
            "\u001b[1m387/387\u001b[0m \u001b[32m━━━━━━━━━━━━━━━━━━━━\u001b[0m\u001b[37m\u001b[0m \u001b[1m4s\u001b[0m 5ms/step - loss: 14022246400.0000 - val_loss: 12887932928.0000\n",
            "Epoch 15/20\n",
            "\u001b[1m387/387\u001b[0m \u001b[32m━━━━━━━━━━━━━━━━━━━━\u001b[0m\u001b[37m\u001b[0m \u001b[1m1s\u001b[0m 2ms/step - loss: 13366597632.0000 - val_loss: 12151840768.0000\n",
            "Epoch 16/20\n",
            "\u001b[1m387/387\u001b[0m \u001b[32m━━━━━━━━━━━━━━━━━━━━\u001b[0m\u001b[37m\u001b[0m \u001b[1m1s\u001b[0m 2ms/step - loss: 11892475904.0000 - val_loss: 11535060992.0000\n",
            "Epoch 17/20\n",
            "\u001b[1m387/387\u001b[0m \u001b[32m━━━━━━━━━━━━━━━━━━━━\u001b[0m\u001b[37m\u001b[0m \u001b[1m1s\u001b[0m 2ms/step - loss: 11717775360.0000 - val_loss: 10985641984.0000\n",
            "Epoch 18/20\n",
            "\u001b[1m387/387\u001b[0m \u001b[32m━━━━━━━━━━━━━━━━━━━━\u001b[0m\u001b[37m\u001b[0m \u001b[1m1s\u001b[0m 2ms/step - loss: 11294071808.0000 - val_loss: 10482532352.0000\n",
            "Epoch 19/20\n",
            "\u001b[1m387/387\u001b[0m \u001b[32m━━━━━━━━━━━━━━━━━━━━\u001b[0m\u001b[37m\u001b[0m \u001b[1m1s\u001b[0m 2ms/step - loss: 11074716672.0000 - val_loss: 10024300544.0000\n",
            "Epoch 20/20\n",
            "\u001b[1m387/387\u001b[0m \u001b[32m━━━━━━━━━━━━━━━━━━━━\u001b[0m\u001b[37m\u001b[0m \u001b[1m1s\u001b[0m 2ms/step - loss: 10504441856.0000 - val_loss: 9588433920.0000\n",
            "\u001b[1m129/129\u001b[0m \u001b[32m━━━━━━━━━━━━━━━━━━━━\u001b[0m\u001b[37m\u001b[0m \u001b[1m0s\u001b[0m 1ms/step - loss: 10057238528.0000\n",
            "test loss : 9596366848.0\n",
            "\u001b[1m129/129\u001b[0m \u001b[32m━━━━━━━━━━━━━━━━━━━━\u001b[0m\u001b[37m\u001b[0m \u001b[1m0s\u001b[0m 2ms/step\n",
            "r2score : 0.27816176414489746\n"
          ]
        }
      ],
      "source": [
        "# 모델 구성\n",
        "model = tf.keras.Sequential([\n",
        "    tf.keras.layers.Dense(30,activation='relu',input_shape=x_train.shape[1:]),\n",
        "    tf.keras.layers.Dense(15,activation='relu'),\n",
        "    tf.keras.layers.Dense(1)\n",
        "])\n",
        "model.compile(loss='mse',optimizer='adam')\n",
        "hist = model.fit(x_train,y_train,validation_data=(x_val,y_val),epochs=20, batch_size=32)\n",
        "test_loss = model.evaluate(x_test,y_test)\n",
        "print(f\"test loss : {test_loss}\")\n",
        "from sklearn.metrics import r2_score\n",
        "y_pred = model.predict(x_test)\n",
        "r2score = r2_score(y_test,y_pred)\n",
        "print(f\"r2score : {r2score}\")"
      ]
    },
    {
      "cell_type": "code",
      "execution_count": null,
      "metadata": {
        "colab": {
          "base_uri": "https://localhost:8080/"
        },
        "id": "YUT8_33u9Y6B",
        "outputId": "9069f2c9-c5ea-48f2-8495-73ea8f6d7952"
      },
      "outputs": [
        {
          "name": "stdout",
          "output_type": "stream",
          "text": [
            "r2score : 0.8009251430972663\n"
          ]
        }
      ],
      "source": [
        "# 머신러닝 RendomForest\n",
        "from sklearn.ensemble import RandomForestRegressor\n",
        "model = RandomForestRegressor()\n",
        "model.fit(x_train,y_train)\n",
        "model.score(x_test,y_test)\n",
        "y_pred = model.predict(x_test)\n",
        "r2score = r2_score(y_test,y_pred)\n",
        "print(f\"r2score : {r2score}\")"
      ]
    },
    {
      "cell_type": "code",
      "execution_count": null,
      "metadata": {
        "id": "tFH9FOSDzh_K"
      },
      "outputs": [],
      "source": [
        "# 파이토치 -- 텐서구조의 자료구조\n",
        "# gpu(cuda) cpu 세팅\n",
        "# 클래스 형태\n",
        "# 데이터셋과 데이터로더(배치크기만큼) --> 상속, 클래스\n",
        "  # getitem, len\n",
        "# 모델 : 상속을 받아서 클래스\n",
        "  # forward : 전방계산, init에서 정의한 각 레이어를 결합\n",
        "\n",
        "# 학습루프 for\n",
        "  # for -- epoch\n",
        "    #  for -- batch\n",
        "      # 옵티마이져 초기화(기울기)\n",
        "      # 모델에 학습용 데이터 넣어서 예측값\n",
        "      # 손실함수를 정의해서 손실값을 구하고\n",
        "      # 손실값을 backward (기울기 계산)\n",
        "      # 옵티마이져를 통해서 기울기를 적용/업데이트"
      ]
    },
    {
      "cell_type": "code",
      "execution_count": null,
      "metadata": {
        "colab": {
          "base_uri": "https://localhost:8080/"
        },
        "id": "w62C7CN91lBJ",
        "outputId": "6897dab3-f571-407c-bc4c-b4a635a2aa63"
      },
      "outputs": [
        {
          "data": {
            "text/plain": [
              "torch.Size([12384, 1])"
            ]
          },
          "execution_count": 17,
          "metadata": {},
          "output_type": "execute_result"
        }
      ],
      "source": [
        "x_train.shape,y_train.shape\n",
        "torch.tensor(y_train, dtype=torch.float32).unsqueeze(-1).shape"
      ]
    },
    {
      "cell_type": "code",
      "execution_count": null,
      "metadata": {
        "colab": {
          "base_uri": "https://localhost:8080/"
        },
        "id": "NO7mCm5M0Yd9",
        "outputId": "670248d7-7be6-459a-ef57-560ce645f85f"
      },
      "outputs": [
        {
          "name": "stderr",
          "output_type": "stream",
          "text": [
            "epoch : 1 loss : 61792763904.0: 100%|██████████| 387/387 [00:02<00:00, 133.24it/s]\n",
            "epoch : 2 loss : 43447566336.0: 100%|██████████| 387/387 [00:02<00:00, 143.45it/s]\n",
            "epoch : 3 loss : 51303477248.0: 100%|██████████| 387/387 [00:02<00:00, 135.56it/s]\n",
            "epoch : 4 loss : 53322854400.0: 100%|██████████| 387/387 [00:03<00:00, 110.24it/s]\n",
            "epoch : 5 loss : 27683880960.0: 100%|██████████| 387/387 [00:03<00:00, 123.85it/s]\n",
            "epoch : 6 loss : 28970055680.0: 100%|██████████| 387/387 [00:02<00:00, 138.40it/s]\n",
            "epoch : 7 loss : 33254488064.0: 100%|██████████| 387/387 [00:02<00:00, 142.24it/s]\n",
            "epoch : 8 loss : 22196211712.0: 100%|██████████| 387/387 [00:02<00:00, 142.23it/s]\n",
            "epoch : 9 loss : 15890817024.0: 100%|██████████| 387/387 [00:03<00:00, 115.10it/s]\n",
            "epoch : 10 loss : 8289514496.0: 100%|██████████| 387/387 [00:03<00:00, 115.55it/s]\n",
            "epoch : 11 loss : 10978404352.0: 100%|██████████| 387/387 [00:02<00:00, 145.18it/s]\n",
            "epoch : 12 loss : 5003429888.0: 100%|██████████| 387/387 [00:02<00:00, 148.48it/s]\n",
            "epoch : 13 loss : 13846652928.0: 100%|██████████| 387/387 [00:02<00:00, 142.73it/s]\n",
            "epoch : 14 loss : 19008931840.0: 100%|██████████| 387/387 [00:02<00:00, 132.80it/s]\n",
            "epoch : 15 loss : 7615918080.0: 100%|██████████| 387/387 [00:03<00:00, 117.99it/s]\n",
            "epoch : 16 loss : 21729976320.0: 100%|██████████| 387/387 [00:03<00:00, 119.90it/s]\n",
            "epoch : 17 loss : 5720035840.0: 100%|██████████| 387/387 [00:02<00:00, 144.50it/s]\n",
            "epoch : 18 loss : 7602552320.0: 100%|██████████| 387/387 [00:04<00:00, 93.25it/s] \n",
            "epoch : 19 loss : 8386004992.0: 100%|██████████| 387/387 [00:02<00:00, 141.73it/s]\n",
            "epoch : 20 loss : 7494410240.0: 100%|██████████| 387/387 [00:03<00:00, 111.02it/s]\n",
            "<ipython-input-18-c49c9efcae5b>:52: FutureWarning: You are using `torch.load` with `weights_only=False` (the current default value), which uses the default pickle module implicitly. It is possible to construct malicious pickle data which will execute arbitrary code during unpickling (See https://github.com/pytorch/pytorch/blob/main/SECURITY.md#untrusted-models for more details). In a future release, the default value for `weights_only` will be flipped to `True`. This limits the functions that could be executed during unpickling. Arbitrary objects will no longer be allowed to be loaded via this mode unless they are explicitly allowlisted by the user via `torch.serialization.add_safe_globals`. We recommend you start setting `weights_only=True` for any use case where you don't have full control of the loaded file. Please open an issue on GitHub for any issues related to this experimental feature.\n",
            "  model.load_state_dict(torch.load('california.pth'))\n"
          ]
        },
        {
          "name": "stdout",
          "output_type": "stream",
          "text": [
            "test loss : 8409751038.015504\n",
            "r2score : 0.3674190044403076\n"
          ]
        }
      ],
      "source": [
        "import torch\n",
        "import torch.nn as nn\n",
        "class DatasetCalifornia(torch.utils.data.Dataset):\n",
        "  def __init__(self, x, y):\n",
        "    self.x = torch.tensor(x, dtype=torch.float32)\n",
        "    self.y = torch.tensor(y, dtype=torch.float32).unsqueeze(-1)\n",
        "  def __len__(self):\n",
        "    return len(self.x)\n",
        "  def __getitem__(self,idx):\n",
        "    return self.x[idx], self.y[idx]\n",
        "\n",
        "from torch.utils.data import DataLoader\n",
        "train_dataset = DatasetCalifornia(x_train, y_train)\n",
        "val_dataset = DatasetCalifornia(x_val, y_val)\n",
        "test_dataset = DatasetCalifornia(x_test, y_test)\n",
        "\n",
        "train_dataloader = DataLoader(train_dataset, batch_size=32, shuffle=True)\n",
        "val_dataloader = DataLoader(val_dataset, batch_size=32, shuffle=True)\n",
        "test_dataloader = DataLoader(test_dataset, batch_size=32, shuffle=True)\n",
        "\n",
        "# 모델생성\n",
        "class CaliforniaModel(nn.Module):\n",
        "  def __init__(self):\n",
        "    super(CaliforniaModel,self).__init__()\n",
        "    self.fc1 = nn.Linear(x_train.shape[1],30)\n",
        "    self.fc2 = nn.Linear(30,15)\n",
        "    self.fc3 = nn.Linear(15,1)\n",
        "  def forward(self,x):\n",
        "    x = torch.relu(self.fc1(x))\n",
        "    x = torch.relu(self.fc2(x))\n",
        "    x = self.fc3(x)\n",
        "    return x\n",
        "model = CaliforniaModel()\n",
        "optimizer = torch.optim.Adam(model.parameters(), lr=1e-3) # 옵티마이져\n",
        "loss_fn = nn.MSELoss() # 손실함수\n",
        "# 학습루프\n",
        "from tqdm import tqdm\n",
        "epochs = 20\n",
        "for epoch in range(epochs):\n",
        "  iterator = tqdm(train_dataloader)\n",
        "  for x,y in iterator:\n",
        "    optimizer.zero_grad()  # 기울기 초기화\n",
        "    y_pred = model(x)  # 예측\n",
        "    loss = loss_fn(y_pred,y) # 손실값(텐서)\n",
        "    loss.backward() # 기울기 계산\n",
        "    optimizer.step() # 기울기 업데이트\n",
        "    iterator.set_description(f\"epoch : {epoch+1} loss : {loss.item()}\")\n",
        "# 모델을 저장\n",
        "torch.save(model.state_dict(),'california.pth')\n",
        "# 모델 불러오기\n",
        "model = CaliforniaModel()\n",
        "model.load_state_dict(torch.load('california.pth'))\n",
        "test_loss = 0.0\n",
        "with torch.no_grad():\n",
        "  for x,y in test_dataloader:\n",
        "    y_pred = model(x)\n",
        "    loss = loss_fn(y_pred,y)\n",
        "    test_loss += loss.item()\n",
        "test_loss /= len(test_dataloader)\n",
        "print(f\"test loss : {test_loss}\")\n",
        "from sklearn.metrics import r2_score\n",
        "y_pred = model(torch.tensor(x_test, dtype=torch.float32))\n",
        "r2score = r2_score(y_test,y_pred.detach().numpy() )\n",
        "print(f\"r2score : {r2score}\")"
      ]
    },
    {
      "cell_type": "markdown",
      "metadata": {
        "id": "HFI5_ELACyUH"
      },
      "source": [
        "- 분류\n",
        "  - 텐서플로\n",
        "  - 파이토치"
      ]
    },
    {
      "cell_type": "code",
      "execution_count": 21,
      "metadata": {
        "colab": {
          "base_uri": "https://localhost:8080/"
        },
        "id": "oOPY6sLh147b",
        "outputId": "c23897c9-d8aa-4e5d-d325-74f6c89cafd8"
      },
      "outputs": [
        {
          "name": "stdout",
          "output_type": "stream",
          "text": [
            "Downloading data from https://storage.googleapis.com/tensorflow/tf-keras-datasets/train-labels-idx1-ubyte.gz\n",
            "\u001b[1m29515/29515\u001b[0m \u001b[32m━━━━━━━━━━━━━━━━━━━━\u001b[0m\u001b[37m\u001b[0m \u001b[1m0s\u001b[0m 0us/step\n",
            "Downloading data from https://storage.googleapis.com/tensorflow/tf-keras-datasets/train-images-idx3-ubyte.gz\n",
            "\u001b[1m26421880/26421880\u001b[0m \u001b[32m━━━━━━━━━━━━━━━━━━━━\u001b[0m\u001b[37m\u001b[0m \u001b[1m0s\u001b[0m 0us/step\n",
            "Downloading data from https://storage.googleapis.com/tensorflow/tf-keras-datasets/t10k-labels-idx1-ubyte.gz\n",
            "\u001b[1m5148/5148\u001b[0m \u001b[32m━━━━━━━━━━━━━━━━━━━━\u001b[0m\u001b[37m\u001b[0m \u001b[1m0s\u001b[0m 1us/step\n",
            "Downloading data from https://storage.googleapis.com/tensorflow/tf-keras-datasets/t10k-images-idx3-ubyte.gz\n",
            "\u001b[1m4422102/4422102\u001b[0m \u001b[32m━━━━━━━━━━━━━━━━━━━━\u001b[0m\u001b[37m\u001b[0m \u001b[1m0s\u001b[0m 0us/step\n"
          ]
        }
      ],
      "source": [
        "# fashinmnist 분류\n",
        "import tensorflow as tf\n",
        "(x,y),(x_test,y_test) = tf.keras.datasets.fashion_mnist.load_data()"
      ]
    },
    {
      "cell_type": "code",
      "execution_count": 23,
      "metadata": {
        "id": "DEKr2yqMC8rI"
      },
      "outputs": [],
      "source": [
        "# 텐서플로\n",
        "x = x/255.0\n",
        "x_test = x_test/255.0"
      ]
    },
    {
      "cell_type": "code",
      "execution_count": 24,
      "metadata": {
        "id": "tLQejt6mDyix"
      },
      "outputs": [],
      "source": [
        "from sklearn.model_selection import train_test_split\n",
        "x_train,x_val,y_train,y_val = train_test_split(x,y,random_state=123)"
      ]
    },
    {
      "cell_type": "code",
      "execution_count": 26,
      "metadata": {
        "colab": {
          "base_uri": "https://localhost:8080/"
        },
        "id": "azM7IwnWD3UB",
        "outputId": "c94db3c6-3cb7-4206-d34e-4abb63299e58"
      },
      "outputs": [
        {
          "name": "stderr",
          "output_type": "stream",
          "text": [
            "/usr/local/lib/python3.10/dist-packages/keras/src/layers/convolutional/base_conv.py:107: UserWarning: Do not pass an `input_shape`/`input_dim` argument to a layer. When using Sequential models, prefer using an `Input(shape)` object as the first layer in the model instead.\n",
            "  super().__init__(activity_regularizer=activity_regularizer, **kwargs)\n"
          ]
        },
        {
          "name": "stdout",
          "output_type": "stream",
          "text": [
            "Epoch 1/10\n",
            "\u001b[1m1407/1407\u001b[0m \u001b[32m━━━━━━━━━━━━━━━━━━━━\u001b[0m\u001b[37m\u001b[0m \u001b[1m166s\u001b[0m 116ms/step - accuracy: 0.5443 - loss: 1.2107 - val_accuracy: 0.7840 - val_loss: 0.5823\n",
            "Epoch 2/10\n",
            "\u001b[1m1407/1407\u001b[0m \u001b[32m━━━━━━━━━━━━━━━━━━━━\u001b[0m\u001b[37m\u001b[0m \u001b[1m197s\u001b[0m 113ms/step - accuracy: 0.7998 - loss: 0.5318 - val_accuracy: 0.8243 - val_loss: 0.4981\n",
            "Epoch 3/10\n",
            "\u001b[1m1407/1407\u001b[0m \u001b[32m━━━━━━━━━━━━━━━━━━━━\u001b[0m\u001b[37m\u001b[0m \u001b[1m209s\u001b[0m 118ms/step - accuracy: 0.8337 - loss: 0.4539 - val_accuracy: 0.8340 - val_loss: 0.4551\n",
            "Epoch 4/10\n",
            "\u001b[1m1407/1407\u001b[0m \u001b[32m━━━━━━━━━━━━━━━━━━━━\u001b[0m\u001b[37m\u001b[0m \u001b[1m193s\u001b[0m 112ms/step - accuracy: 0.8467 - loss: 0.4276 - val_accuracy: 0.8504 - val_loss: 0.4151\n",
            "Epoch 5/10\n",
            "\u001b[1m1407/1407\u001b[0m \u001b[32m━━━━━━━━━━━━━━━━━━━━\u001b[0m\u001b[37m\u001b[0m \u001b[1m203s\u001b[0m 112ms/step - accuracy: 0.8571 - loss: 0.3942 - val_accuracy: 0.8567 - val_loss: 0.4076\n",
            "Epoch 6/10\n",
            "\u001b[1m1407/1407\u001b[0m \u001b[32m━━━━━━━━━━━━━━━━━━━━\u001b[0m\u001b[37m\u001b[0m \u001b[1m166s\u001b[0m 118ms/step - accuracy: 0.8648 - loss: 0.3742 - val_accuracy: 0.8597 - val_loss: 0.3946\n",
            "Epoch 7/10\n",
            "\u001b[1m1407/1407\u001b[0m \u001b[32m━━━━━━━━━━━━━━━━━━━━\u001b[0m\u001b[37m\u001b[0m \u001b[1m226s\u001b[0m 135ms/step - accuracy: 0.8721 - loss: 0.3473 - val_accuracy: 0.8668 - val_loss: 0.3723\n",
            "Epoch 8/10\n",
            "\u001b[1m1407/1407\u001b[0m \u001b[32m━━━━━━━━━━━━━━━━━━━━\u001b[0m\u001b[37m\u001b[0m \u001b[1m255s\u001b[0m 181ms/step - accuracy: 0.8753 - loss: 0.3398 - val_accuracy: 0.8714 - val_loss: 0.3647\n",
            "Epoch 9/10\n",
            "\u001b[1m1407/1407\u001b[0m \u001b[32m━━━━━━━━━━━━━━━━━━━━\u001b[0m\u001b[37m\u001b[0m \u001b[1m244s\u001b[0m 173ms/step - accuracy: 0.8804 - loss: 0.3229 - val_accuracy: 0.8709 - val_loss: 0.3628\n",
            "Epoch 10/10\n",
            "\u001b[1m1407/1407\u001b[0m \u001b[32m━━━━━━━━━━━━━━━━━━━━\u001b[0m\u001b[37m\u001b[0m \u001b[1m239s\u001b[0m 157ms/step - accuracy: 0.8851 - loss: 0.3118 - val_accuracy: 0.8588 - val_loss: 0.3851\n",
            "\u001b[1m313/313\u001b[0m \u001b[32m━━━━━━━━━━━━━━━━━━━━\u001b[0m\u001b[37m\u001b[0m \u001b[1m10s\u001b[0m 32ms/step - accuracy: 0.8524 - loss: 0.4111\n",
            "test loss : 0.4014351963996887\n",
            "test acc : 0.8526999950408936\n",
            "\u001b[1m313/313\u001b[0m \u001b[32m━━━━━━━━━━━━━━━━━━━━\u001b[0m\u001b[37m\u001b[0m \u001b[1m11s\u001b[0m 34ms/step\n",
            "              precision    recall  f1-score   support\n",
            "\n",
            "           0       0.87      0.68      0.76      1000\n",
            "           1       1.00      0.94      0.97      1000\n",
            "           2       0.73      0.83      0.78      1000\n",
            "           3       0.88      0.87      0.87      1000\n",
            "           4       0.86      0.59      0.70      1000\n",
            "           5       0.97      0.96      0.96      1000\n",
            "           6       0.53      0.77      0.63      1000\n",
            "           7       0.94      0.96      0.95      1000\n",
            "           8       0.95      0.97      0.96      1000\n",
            "           9       0.96      0.95      0.96      1000\n",
            "\n",
            "    accuracy                           0.85     10000\n",
            "   macro avg       0.87      0.85      0.86     10000\n",
            "weighted avg       0.87      0.85      0.86     10000\n",
            "\n"
          ]
        }
      ],
      "source": [
        "# c-p-c-p-c-flatten-fc1-fc1 # 채널정보 주어야 함\n",
        "tensorflow_model = tf.keras.Sequential([\n",
        "    # 입력 레이어\n",
        "    tf.keras.layers.Input(shape=x_train.shape[1:]),\n",
        "    # 채널정보 추가\n",
        "    tf.keras.layers.Reshape((28,28,1)),\n",
        "    tf.keras.layers.Conv2D(32,(3,3),activation='relu',input_shape=(28,28,1)),\n",
        "    tf.keras.layers.Conv2D(64,(3,3),activation='relu'),\n",
        "    tf.keras.layers.MaxPooling2D((2,2)),\n",
        "    tf.keras.layers.Conv2D(64,(3,3),activation='relu'),\n",
        "    tf.keras.layers.Flatten(),\n",
        "    tf.keras.layers.Dense(64,activation='relu'),\n",
        "    tf.keras.layers.Dense(10,activation='softmax')\n",
        "])\n",
        "tensorflow_model.compile(loss='sparse_categorical_crossentropy',optimizer='adam',metrics=['accuracy'])\n",
        "tensorflow_model.fit(x_train,y_train,validation_data=(x_val,y_val),epochs=10,batch_size=32)\n",
        "test_loss, test_acc = tensorflow_model.evaluate(x_test,y_test)\n",
        "print(f\"test loss : {test_loss}\")\n",
        "print(f\"test acc : {test_acc}\")\n",
        "from sklearn.metrics import classification_report\n",
        "import numpy as np\n",
        "y_pred = tensorflow_model.predict(x_test)\n",
        "y_pred = np.argmax(y_pred,axis=1) # 10개 클래스에 대한 각각의 확률값의 최고값에 해당하는 인덱스가 곧 클래스번호\n",
        "print(classification_report(y_test,y_pred))"
      ]
    },
    {
      "cell_type": "code",
      "execution_count": 5,
      "metadata": {
        "colab": {
          "base_uri": "https://localhost:8080/"
        },
        "id": "5uN2kcMEFefo",
        "outputId": "19aeaa34-f018-4984-8c39-13eb1e68fb28"
      },
      "outputs": [
        {
          "ename": "TypeError",
          "evalue": "Unable to convert function return value to a Python type! The signature was\n\t() -> handle",
          "output_type": "error",
          "traceback": [
            "\u001b[1;31m---------------------------------------------------------------------------\u001b[0m",
            "\u001b[1;31mTypeError\u001b[0m                                 Traceback (most recent call last)",
            "Cell \u001b[1;32mIn[5], line 1\u001b[0m\n\u001b[1;32m----> 1\u001b[0m \u001b[38;5;28;01mimport\u001b[39;00m \u001b[38;5;21;01mtensorflow\u001b[39;00m \u001b[38;5;28;01mas\u001b[39;00m \u001b[38;5;21;01mtf\u001b[39;00m\n\u001b[0;32m      2\u001b[0m \u001b[38;5;28;01mimport\u001b[39;00m \u001b[38;5;21;01mtorch\u001b[39;00m\n\u001b[0;32m      3\u001b[0m \u001b[38;5;28;01mimport\u001b[39;00m \u001b[38;5;21;01mtorch\u001b[39;00m\u001b[38;5;21;01m.\u001b[39;00m\u001b[38;5;21;01mnn\u001b[39;00m \u001b[38;5;28;01mas\u001b[39;00m \u001b[38;5;21;01mnn\u001b[39;00m\n",
            "File \u001b[1;32mc:\\Users\\Playdata\\AppData\\Local\\anaconda3\\envs\\directml\\lib\\site-packages\\tensorflow\\__init__.py:37\u001b[0m\n\u001b[0;32m     34\u001b[0m \u001b[38;5;28;01mimport\u001b[39;00m \u001b[38;5;21;01msys\u001b[39;00m \u001b[38;5;28;01mas\u001b[39;00m \u001b[38;5;21;01m_sys\u001b[39;00m\n\u001b[0;32m     35\u001b[0m \u001b[38;5;28;01mimport\u001b[39;00m \u001b[38;5;21;01mtyping\u001b[39;00m \u001b[38;5;28;01mas\u001b[39;00m \u001b[38;5;21;01m_typing\u001b[39;00m\n\u001b[1;32m---> 37\u001b[0m \u001b[38;5;28;01mfrom\u001b[39;00m \u001b[38;5;21;01mtensorflow\u001b[39;00m\u001b[38;5;21;01m.\u001b[39;00m\u001b[38;5;21;01mpython\u001b[39;00m\u001b[38;5;21;01m.\u001b[39;00m\u001b[38;5;21;01mtools\u001b[39;00m \u001b[38;5;28;01mimport\u001b[39;00m module_util \u001b[38;5;28;01mas\u001b[39;00m _module_util\n\u001b[0;32m     38\u001b[0m \u001b[38;5;28;01mfrom\u001b[39;00m \u001b[38;5;21;01mtensorflow\u001b[39;00m\u001b[38;5;21;01m.\u001b[39;00m\u001b[38;5;21;01mpython\u001b[39;00m\u001b[38;5;21;01m.\u001b[39;00m\u001b[38;5;21;01mutil\u001b[39;00m\u001b[38;5;21;01m.\u001b[39;00m\u001b[38;5;21;01mlazy_loader\u001b[39;00m \u001b[38;5;28;01mimport\u001b[39;00m LazyLoader \u001b[38;5;28;01mas\u001b[39;00m _LazyLoader\n\u001b[0;32m     40\u001b[0m \u001b[38;5;66;03m# Make sure code inside the TensorFlow codebase can use tf2.enabled() at import.\u001b[39;00m\n",
            "File \u001b[1;32mc:\\Users\\Playdata\\AppData\\Local\\anaconda3\\envs\\directml\\lib\\site-packages\\tensorflow\\python\\__init__.py:42\u001b[0m\n\u001b[0;32m     37\u001b[0m \u001b[38;5;28;01mfrom\u001b[39;00m \u001b[38;5;21;01mtensorflow\u001b[39;00m\u001b[38;5;21;01m.\u001b[39;00m\u001b[38;5;21;01mpython\u001b[39;00m\u001b[38;5;21;01m.\u001b[39;00m\u001b[38;5;21;01meager\u001b[39;00m \u001b[38;5;28;01mimport\u001b[39;00m context\n\u001b[0;32m     39\u001b[0m \u001b[38;5;66;03m# pylint: enable=wildcard-import\u001b[39;00m\n\u001b[0;32m     40\u001b[0m \n\u001b[0;32m     41\u001b[0m \u001b[38;5;66;03m# Bring in subpackages.\u001b[39;00m\n\u001b[1;32m---> 42\u001b[0m \u001b[38;5;28;01mfrom\u001b[39;00m \u001b[38;5;21;01mtensorflow\u001b[39;00m\u001b[38;5;21;01m.\u001b[39;00m\u001b[38;5;21;01mpython\u001b[39;00m \u001b[38;5;28;01mimport\u001b[39;00m data\n\u001b[0;32m     43\u001b[0m \u001b[38;5;28;01mfrom\u001b[39;00m \u001b[38;5;21;01mtensorflow\u001b[39;00m\u001b[38;5;21;01m.\u001b[39;00m\u001b[38;5;21;01mpython\u001b[39;00m \u001b[38;5;28;01mimport\u001b[39;00m distribute\n\u001b[0;32m     44\u001b[0m \u001b[38;5;66;03m# from tensorflow.python import keras\u001b[39;00m\n",
            "File \u001b[1;32mc:\\Users\\Playdata\\AppData\\Local\\anaconda3\\envs\\directml\\lib\\site-packages\\tensorflow\\python\\data\\__init__.py:21\u001b[0m\n\u001b[0;32m     15\u001b[0m \u001b[38;5;124;03m\"\"\"`tf.data.Dataset` API for input pipelines.\u001b[39;00m\n\u001b[0;32m     16\u001b[0m \n\u001b[0;32m     17\u001b[0m \u001b[38;5;124;03mSee [Importing Data](https://tensorflow.org/guide/data) for an overview.\u001b[39;00m\n\u001b[0;32m     18\u001b[0m \u001b[38;5;124;03m\"\"\"\u001b[39;00m\n\u001b[0;32m     20\u001b[0m \u001b[38;5;66;03m# pylint: disable=unused-import\u001b[39;00m\n\u001b[1;32m---> 21\u001b[0m \u001b[38;5;28;01mfrom\u001b[39;00m \u001b[38;5;21;01mtensorflow\u001b[39;00m\u001b[38;5;21;01m.\u001b[39;00m\u001b[38;5;21;01mpython\u001b[39;00m\u001b[38;5;21;01m.\u001b[39;00m\u001b[38;5;21;01mdata\u001b[39;00m \u001b[38;5;28;01mimport\u001b[39;00m experimental\n\u001b[0;32m     22\u001b[0m \u001b[38;5;28;01mfrom\u001b[39;00m \u001b[38;5;21;01mtensorflow\u001b[39;00m\u001b[38;5;21;01m.\u001b[39;00m\u001b[38;5;21;01mpython\u001b[39;00m\u001b[38;5;21;01m.\u001b[39;00m\u001b[38;5;21;01mdata\u001b[39;00m\u001b[38;5;21;01m.\u001b[39;00m\u001b[38;5;21;01mops\u001b[39;00m\u001b[38;5;21;01m.\u001b[39;00m\u001b[38;5;21;01mdataset_ops\u001b[39;00m \u001b[38;5;28;01mimport\u001b[39;00m AUTOTUNE\n\u001b[0;32m     23\u001b[0m \u001b[38;5;28;01mfrom\u001b[39;00m \u001b[38;5;21;01mtensorflow\u001b[39;00m\u001b[38;5;21;01m.\u001b[39;00m\u001b[38;5;21;01mpython\u001b[39;00m\u001b[38;5;21;01m.\u001b[39;00m\u001b[38;5;21;01mdata\u001b[39;00m\u001b[38;5;21;01m.\u001b[39;00m\u001b[38;5;21;01mops\u001b[39;00m\u001b[38;5;21;01m.\u001b[39;00m\u001b[38;5;21;01mdataset_ops\u001b[39;00m \u001b[38;5;28;01mimport\u001b[39;00m Dataset\n",
            "File \u001b[1;32mc:\\Users\\Playdata\\AppData\\Local\\anaconda3\\envs\\directml\\lib\\site-packages\\tensorflow\\python\\data\\experimental\\__init__.py:96\u001b[0m\n\u001b[0;32m     15\u001b[0m \u001b[38;5;124;03m\"\"\"Experimental API for building input pipelines.\u001b[39;00m\n\u001b[0;32m     16\u001b[0m \n\u001b[0;32m     17\u001b[0m \u001b[38;5;124;03mThis module contains experimental `Dataset` sources and transformations that can\u001b[39;00m\n\u001b[1;32m   (...)\u001b[0m\n\u001b[0;32m     92\u001b[0m \u001b[38;5;124;03m@@UNKNOWN_CARDINALITY\u001b[39;00m\n\u001b[0;32m     93\u001b[0m \u001b[38;5;124;03m\"\"\"\u001b[39;00m\n\u001b[0;32m     95\u001b[0m \u001b[38;5;66;03m# pylint: disable=unused-import\u001b[39;00m\n\u001b[1;32m---> 96\u001b[0m \u001b[38;5;28;01mfrom\u001b[39;00m \u001b[38;5;21;01mtensorflow\u001b[39;00m\u001b[38;5;21;01m.\u001b[39;00m\u001b[38;5;21;01mpython\u001b[39;00m\u001b[38;5;21;01m.\u001b[39;00m\u001b[38;5;21;01mdata\u001b[39;00m\u001b[38;5;21;01m.\u001b[39;00m\u001b[38;5;21;01mexperimental\u001b[39;00m \u001b[38;5;28;01mimport\u001b[39;00m service\n\u001b[0;32m     97\u001b[0m \u001b[38;5;28;01mfrom\u001b[39;00m \u001b[38;5;21;01mtensorflow\u001b[39;00m\u001b[38;5;21;01m.\u001b[39;00m\u001b[38;5;21;01mpython\u001b[39;00m\u001b[38;5;21;01m.\u001b[39;00m\u001b[38;5;21;01mdata\u001b[39;00m\u001b[38;5;21;01m.\u001b[39;00m\u001b[38;5;21;01mexperimental\u001b[39;00m\u001b[38;5;21;01m.\u001b[39;00m\u001b[38;5;21;01mops\u001b[39;00m\u001b[38;5;21;01m.\u001b[39;00m\u001b[38;5;21;01mbatching\u001b[39;00m \u001b[38;5;28;01mimport\u001b[39;00m dense_to_ragged_batch\n\u001b[0;32m     98\u001b[0m \u001b[38;5;28;01mfrom\u001b[39;00m \u001b[38;5;21;01mtensorflow\u001b[39;00m\u001b[38;5;21;01m.\u001b[39;00m\u001b[38;5;21;01mpython\u001b[39;00m\u001b[38;5;21;01m.\u001b[39;00m\u001b[38;5;21;01mdata\u001b[39;00m\u001b[38;5;21;01m.\u001b[39;00m\u001b[38;5;21;01mexperimental\u001b[39;00m\u001b[38;5;21;01m.\u001b[39;00m\u001b[38;5;21;01mops\u001b[39;00m\u001b[38;5;21;01m.\u001b[39;00m\u001b[38;5;21;01mbatching\u001b[39;00m \u001b[38;5;28;01mimport\u001b[39;00m dense_to_sparse_batch\n",
            "File \u001b[1;32mc:\\Users\\Playdata\\AppData\\Local\\anaconda3\\envs\\directml\\lib\\site-packages\\tensorflow\\python\\data\\experimental\\service\\__init__.py:419\u001b[0m\n\u001b[0;32m      1\u001b[0m \u001b[38;5;66;03m# Copyright 2020 The TensorFlow Authors. All Rights Reserved.\u001b[39;00m\n\u001b[0;32m      2\u001b[0m \u001b[38;5;66;03m#\u001b[39;00m\n\u001b[0;32m      3\u001b[0m \u001b[38;5;66;03m# Licensed under the Apache License, Version 2.0 (the \"License\");\u001b[39;00m\n\u001b[1;32m   (...)\u001b[0m\n\u001b[0;32m     13\u001b[0m \u001b[38;5;66;03m# limitations under the License.\u001b[39;00m\n\u001b[0;32m     14\u001b[0m \u001b[38;5;66;03m# ==============================================================================\u001b[39;00m\n\u001b[0;32m     15\u001b[0m \u001b[38;5;124;03m\"\"\"API for using the tf.data service.\u001b[39;00m\n\u001b[0;32m     16\u001b[0m \n\u001b[0;32m     17\u001b[0m \u001b[38;5;124;03mThis module contains:\u001b[39;00m\n\u001b[1;32m   (...)\u001b[0m\n\u001b[0;32m    416\u001b[0m \u001b[38;5;124;03m  job of ParameterServerStrategy).\u001b[39;00m\n\u001b[0;32m    417\u001b[0m \u001b[38;5;124;03m\"\"\"\u001b[39;00m\n\u001b[1;32m--> 419\u001b[0m \u001b[38;5;28;01mfrom\u001b[39;00m \u001b[38;5;21;01mtensorflow\u001b[39;00m\u001b[38;5;21;01m.\u001b[39;00m\u001b[38;5;21;01mpython\u001b[39;00m\u001b[38;5;21;01m.\u001b[39;00m\u001b[38;5;21;01mdata\u001b[39;00m\u001b[38;5;21;01m.\u001b[39;00m\u001b[38;5;21;01mexperimental\u001b[39;00m\u001b[38;5;21;01m.\u001b[39;00m\u001b[38;5;21;01mops\u001b[39;00m\u001b[38;5;21;01m.\u001b[39;00m\u001b[38;5;21;01mdata_service_ops\u001b[39;00m \u001b[38;5;28;01mimport\u001b[39;00m distribute\n\u001b[0;32m    420\u001b[0m \u001b[38;5;28;01mfrom\u001b[39;00m \u001b[38;5;21;01mtensorflow\u001b[39;00m\u001b[38;5;21;01m.\u001b[39;00m\u001b[38;5;21;01mpython\u001b[39;00m\u001b[38;5;21;01m.\u001b[39;00m\u001b[38;5;21;01mdata\u001b[39;00m\u001b[38;5;21;01m.\u001b[39;00m\u001b[38;5;21;01mexperimental\u001b[39;00m\u001b[38;5;21;01m.\u001b[39;00m\u001b[38;5;21;01mops\u001b[39;00m\u001b[38;5;21;01m.\u001b[39;00m\u001b[38;5;21;01mdata_service_ops\u001b[39;00m \u001b[38;5;28;01mimport\u001b[39;00m from_dataset_id\n\u001b[0;32m    421\u001b[0m \u001b[38;5;28;01mfrom\u001b[39;00m \u001b[38;5;21;01mtensorflow\u001b[39;00m\u001b[38;5;21;01m.\u001b[39;00m\u001b[38;5;21;01mpython\u001b[39;00m\u001b[38;5;21;01m.\u001b[39;00m\u001b[38;5;21;01mdata\u001b[39;00m\u001b[38;5;21;01m.\u001b[39;00m\u001b[38;5;21;01mexperimental\u001b[39;00m\u001b[38;5;21;01m.\u001b[39;00m\u001b[38;5;21;01mops\u001b[39;00m\u001b[38;5;21;01m.\u001b[39;00m\u001b[38;5;21;01mdata_service_ops\u001b[39;00m \u001b[38;5;28;01mimport\u001b[39;00m register_dataset\n",
            "File \u001b[1;32mc:\\Users\\Playdata\\AppData\\Local\\anaconda3\\envs\\directml\\lib\\site-packages\\tensorflow\\python\\data\\experimental\\ops\\data_service_ops.py:24\u001b[0m\n\u001b[0;32m     22\u001b[0m \u001b[38;5;28;01mfrom\u001b[39;00m \u001b[38;5;21;01mtensorflow\u001b[39;00m\u001b[38;5;21;01m.\u001b[39;00m\u001b[38;5;21;01mpython\u001b[39;00m \u001b[38;5;28;01mimport\u001b[39;00m tf2\n\u001b[0;32m     23\u001b[0m \u001b[38;5;28;01mfrom\u001b[39;00m \u001b[38;5;21;01mtensorflow\u001b[39;00m\u001b[38;5;21;01m.\u001b[39;00m\u001b[38;5;21;01mpython\u001b[39;00m\u001b[38;5;21;01m.\u001b[39;00m\u001b[38;5;21;01mcompat\u001b[39;00m \u001b[38;5;28;01mimport\u001b[39;00m compat\n\u001b[1;32m---> 24\u001b[0m \u001b[38;5;28;01mfrom\u001b[39;00m \u001b[38;5;21;01mtensorflow\u001b[39;00m\u001b[38;5;21;01m.\u001b[39;00m\u001b[38;5;21;01mpython\u001b[39;00m\u001b[38;5;21;01m.\u001b[39;00m\u001b[38;5;21;01mdata\u001b[39;00m\u001b[38;5;21;01m.\u001b[39;00m\u001b[38;5;21;01mexperimental\u001b[39;00m\u001b[38;5;21;01m.\u001b[39;00m\u001b[38;5;21;01mops\u001b[39;00m \u001b[38;5;28;01mimport\u001b[39;00m compression_ops\n\u001b[0;32m     25\u001b[0m \u001b[38;5;28;01mfrom\u001b[39;00m \u001b[38;5;21;01mtensorflow\u001b[39;00m\u001b[38;5;21;01m.\u001b[39;00m\u001b[38;5;21;01mpython\u001b[39;00m\u001b[38;5;21;01m.\u001b[39;00m\u001b[38;5;21;01mdata\u001b[39;00m\u001b[38;5;21;01m.\u001b[39;00m\u001b[38;5;21;01mexperimental\u001b[39;00m\u001b[38;5;21;01m.\u001b[39;00m\u001b[38;5;21;01mservice\u001b[39;00m \u001b[38;5;28;01mimport\u001b[39;00m _pywrap_server_lib\n\u001b[0;32m     26\u001b[0m \u001b[38;5;28;01mfrom\u001b[39;00m \u001b[38;5;21;01mtensorflow\u001b[39;00m\u001b[38;5;21;01m.\u001b[39;00m\u001b[38;5;21;01mpython\u001b[39;00m\u001b[38;5;21;01m.\u001b[39;00m\u001b[38;5;21;01mdata\u001b[39;00m\u001b[38;5;21;01m.\u001b[39;00m\u001b[38;5;21;01mexperimental\u001b[39;00m\u001b[38;5;21;01m.\u001b[39;00m\u001b[38;5;21;01mservice\u001b[39;00m \u001b[38;5;28;01mimport\u001b[39;00m _pywrap_utils\n",
            "File \u001b[1;32mc:\\Users\\Playdata\\AppData\\Local\\anaconda3\\envs\\directml\\lib\\site-packages\\tensorflow\\python\\data\\experimental\\ops\\compression_ops.py:16\u001b[0m\n\u001b[0;32m      1\u001b[0m \u001b[38;5;66;03m# Copyright 2020 The TensorFlow Authors. All Rights Reserved.\u001b[39;00m\n\u001b[0;32m      2\u001b[0m \u001b[38;5;66;03m#\u001b[39;00m\n\u001b[0;32m      3\u001b[0m \u001b[38;5;66;03m# Licensed under the Apache License, Version 2.0 (the \"License\");\u001b[39;00m\n\u001b[1;32m   (...)\u001b[0m\n\u001b[0;32m     13\u001b[0m \u001b[38;5;66;03m# limitations under the License.\u001b[39;00m\n\u001b[0;32m     14\u001b[0m \u001b[38;5;66;03m# ==============================================================================\u001b[39;00m\n\u001b[0;32m     15\u001b[0m \u001b[38;5;124;03m\"\"\"Ops for compressing and uncompressing dataset elements.\"\"\"\u001b[39;00m\n\u001b[1;32m---> 16\u001b[0m \u001b[38;5;28;01mfrom\u001b[39;00m \u001b[38;5;21;01mtensorflow\u001b[39;00m\u001b[38;5;21;01m.\u001b[39;00m\u001b[38;5;21;01mpython\u001b[39;00m\u001b[38;5;21;01m.\u001b[39;00m\u001b[38;5;21;01mdata\u001b[39;00m\u001b[38;5;21;01m.\u001b[39;00m\u001b[38;5;21;01mutil\u001b[39;00m \u001b[38;5;28;01mimport\u001b[39;00m structure\n\u001b[0;32m     17\u001b[0m \u001b[38;5;28;01mfrom\u001b[39;00m \u001b[38;5;21;01mtensorflow\u001b[39;00m\u001b[38;5;21;01m.\u001b[39;00m\u001b[38;5;21;01mpython\u001b[39;00m\u001b[38;5;21;01m.\u001b[39;00m\u001b[38;5;21;01mops\u001b[39;00m \u001b[38;5;28;01mimport\u001b[39;00m gen_experimental_dataset_ops \u001b[38;5;28;01mas\u001b[39;00m ged_ops\n\u001b[0;32m     20\u001b[0m \u001b[38;5;28;01mdef\u001b[39;00m \u001b[38;5;21mcompress\u001b[39m(element):\n",
            "File \u001b[1;32mc:\\Users\\Playdata\\AppData\\Local\\anaconda3\\envs\\directml\\lib\\site-packages\\tensorflow\\python\\data\\util\\structure.py:23\u001b[0m\n\u001b[0;32m     20\u001b[0m \u001b[38;5;28;01mimport\u001b[39;00m \u001b[38;5;21;01msix\u001b[39;00m\n\u001b[0;32m     21\u001b[0m \u001b[38;5;28;01mimport\u001b[39;00m \u001b[38;5;21;01mwrapt\u001b[39;00m\n\u001b[1;32m---> 23\u001b[0m \u001b[38;5;28;01mfrom\u001b[39;00m \u001b[38;5;21;01mtensorflow\u001b[39;00m\u001b[38;5;21;01m.\u001b[39;00m\u001b[38;5;21;01mpython\u001b[39;00m\u001b[38;5;21;01m.\u001b[39;00m\u001b[38;5;21;01mdata\u001b[39;00m\u001b[38;5;21;01m.\u001b[39;00m\u001b[38;5;21;01mutil\u001b[39;00m \u001b[38;5;28;01mimport\u001b[39;00m nest\n\u001b[0;32m     24\u001b[0m \u001b[38;5;28;01mfrom\u001b[39;00m \u001b[38;5;21;01mtensorflow\u001b[39;00m\u001b[38;5;21;01m.\u001b[39;00m\u001b[38;5;21;01mpython\u001b[39;00m\u001b[38;5;21;01m.\u001b[39;00m\u001b[38;5;21;01mframework\u001b[39;00m \u001b[38;5;28;01mimport\u001b[39;00m composite_tensor\n\u001b[0;32m     25\u001b[0m \u001b[38;5;28;01mfrom\u001b[39;00m \u001b[38;5;21;01mtensorflow\u001b[39;00m\u001b[38;5;21;01m.\u001b[39;00m\u001b[38;5;21;01mpython\u001b[39;00m\u001b[38;5;21;01m.\u001b[39;00m\u001b[38;5;21;01mframework\u001b[39;00m \u001b[38;5;28;01mimport\u001b[39;00m ops\n",
            "File \u001b[1;32mc:\\Users\\Playdata\\AppData\\Local\\anaconda3\\envs\\directml\\lib\\site-packages\\tensorflow\\python\\data\\util\\nest.py:36\u001b[0m\n\u001b[0;32m     16\u001b[0m \u001b[38;5;124;03m\"\"\"## Functions for working with arbitrarily nested sequences of elements.\u001b[39;00m\n\u001b[0;32m     17\u001b[0m \n\u001b[0;32m     18\u001b[0m \u001b[38;5;124;03mNOTE(mrry): This fork of the `tensorflow.python.util.nest` module\u001b[39;00m\n\u001b[1;32m   (...)\u001b[0m\n\u001b[0;32m     31\u001b[0m \u001b[38;5;124;03m   arrays.\u001b[39;00m\n\u001b[0;32m     32\u001b[0m \u001b[38;5;124;03m\"\"\"\u001b[39;00m\n\u001b[0;32m     34\u001b[0m \u001b[38;5;28;01mimport\u001b[39;00m \u001b[38;5;21;01msix\u001b[39;00m \u001b[38;5;28;01mas\u001b[39;00m \u001b[38;5;21;01m_six\u001b[39;00m\n\u001b[1;32m---> 36\u001b[0m \u001b[38;5;28;01mfrom\u001b[39;00m \u001b[38;5;21;01mtensorflow\u001b[39;00m\u001b[38;5;21;01m.\u001b[39;00m\u001b[38;5;21;01mpython\u001b[39;00m\u001b[38;5;21;01m.\u001b[39;00m\u001b[38;5;21;01mframework\u001b[39;00m \u001b[38;5;28;01mimport\u001b[39;00m sparse_tensor \u001b[38;5;28;01mas\u001b[39;00m _sparse_tensor\n\u001b[0;32m     37\u001b[0m \u001b[38;5;28;01mfrom\u001b[39;00m \u001b[38;5;21;01mtensorflow\u001b[39;00m\u001b[38;5;21;01m.\u001b[39;00m\u001b[38;5;21;01mpython\u001b[39;00m\u001b[38;5;21;01m.\u001b[39;00m\u001b[38;5;21;01mutil\u001b[39;00m \u001b[38;5;28;01mimport\u001b[39;00m _pywrap_utils\n\u001b[0;32m     38\u001b[0m \u001b[38;5;28;01mfrom\u001b[39;00m \u001b[38;5;21;01mtensorflow\u001b[39;00m\u001b[38;5;21;01m.\u001b[39;00m\u001b[38;5;21;01mpython\u001b[39;00m\u001b[38;5;21;01m.\u001b[39;00m\u001b[38;5;21;01mutil\u001b[39;00m \u001b[38;5;28;01mimport\u001b[39;00m nest\n",
            "File \u001b[1;32mc:\\Users\\Playdata\\AppData\\Local\\anaconda3\\envs\\directml\\lib\\site-packages\\tensorflow\\python\\framework\\sparse_tensor.py:24\u001b[0m\n\u001b[0;32m     22\u001b[0m \u001b[38;5;28;01mfrom\u001b[39;00m \u001b[38;5;21;01mtensorflow\u001b[39;00m\u001b[38;5;21;01m.\u001b[39;00m\u001b[38;5;21;01mpython\u001b[39;00m \u001b[38;5;28;01mimport\u001b[39;00m tf2\n\u001b[0;32m     23\u001b[0m \u001b[38;5;28;01mfrom\u001b[39;00m \u001b[38;5;21;01mtensorflow\u001b[39;00m\u001b[38;5;21;01m.\u001b[39;00m\u001b[38;5;21;01mpython\u001b[39;00m\u001b[38;5;21;01m.\u001b[39;00m\u001b[38;5;21;01mframework\u001b[39;00m \u001b[38;5;28;01mimport\u001b[39;00m composite_tensor\n\u001b[1;32m---> 24\u001b[0m \u001b[38;5;28;01mfrom\u001b[39;00m \u001b[38;5;21;01mtensorflow\u001b[39;00m\u001b[38;5;21;01m.\u001b[39;00m\u001b[38;5;21;01mpython\u001b[39;00m\u001b[38;5;21;01m.\u001b[39;00m\u001b[38;5;21;01mframework\u001b[39;00m \u001b[38;5;28;01mimport\u001b[39;00m constant_op\n\u001b[0;32m     25\u001b[0m \u001b[38;5;28;01mfrom\u001b[39;00m \u001b[38;5;21;01mtensorflow\u001b[39;00m\u001b[38;5;21;01m.\u001b[39;00m\u001b[38;5;21;01mpython\u001b[39;00m\u001b[38;5;21;01m.\u001b[39;00m\u001b[38;5;21;01mframework\u001b[39;00m \u001b[38;5;28;01mimport\u001b[39;00m dtypes\n\u001b[0;32m     26\u001b[0m \u001b[38;5;28;01mfrom\u001b[39;00m \u001b[38;5;21;01mtensorflow\u001b[39;00m\u001b[38;5;21;01m.\u001b[39;00m\u001b[38;5;21;01mpython\u001b[39;00m\u001b[38;5;21;01m.\u001b[39;00m\u001b[38;5;21;01mframework\u001b[39;00m \u001b[38;5;28;01mimport\u001b[39;00m ops\n",
            "File \u001b[1;32mc:\\Users\\Playdata\\AppData\\Local\\anaconda3\\envs\\directml\\lib\\site-packages\\tensorflow\\python\\framework\\constant_op.py:25\u001b[0m\n\u001b[0;32m     23\u001b[0m \u001b[38;5;28;01mfrom\u001b[39;00m \u001b[38;5;21;01mtensorflow\u001b[39;00m\u001b[38;5;21;01m.\u001b[39;00m\u001b[38;5;21;01mcore\u001b[39;00m\u001b[38;5;21;01m.\u001b[39;00m\u001b[38;5;21;01mframework\u001b[39;00m \u001b[38;5;28;01mimport\u001b[39;00m types_pb2\n\u001b[0;32m     24\u001b[0m \u001b[38;5;28;01mfrom\u001b[39;00m \u001b[38;5;21;01mtensorflow\u001b[39;00m\u001b[38;5;21;01m.\u001b[39;00m\u001b[38;5;21;01mpython\u001b[39;00m\u001b[38;5;21;01m.\u001b[39;00m\u001b[38;5;21;01meager\u001b[39;00m \u001b[38;5;28;01mimport\u001b[39;00m context\n\u001b[1;32m---> 25\u001b[0m \u001b[38;5;28;01mfrom\u001b[39;00m \u001b[38;5;21;01mtensorflow\u001b[39;00m\u001b[38;5;21;01m.\u001b[39;00m\u001b[38;5;21;01mpython\u001b[39;00m\u001b[38;5;21;01m.\u001b[39;00m\u001b[38;5;21;01meager\u001b[39;00m \u001b[38;5;28;01mimport\u001b[39;00m execute\n\u001b[0;32m     26\u001b[0m \u001b[38;5;28;01mfrom\u001b[39;00m \u001b[38;5;21;01mtensorflow\u001b[39;00m\u001b[38;5;21;01m.\u001b[39;00m\u001b[38;5;21;01mpython\u001b[39;00m\u001b[38;5;21;01m.\u001b[39;00m\u001b[38;5;21;01mframework\u001b[39;00m \u001b[38;5;28;01mimport\u001b[39;00m dtypes\n\u001b[0;32m     27\u001b[0m \u001b[38;5;28;01mfrom\u001b[39;00m \u001b[38;5;21;01mtensorflow\u001b[39;00m\u001b[38;5;21;01m.\u001b[39;00m\u001b[38;5;21;01mpython\u001b[39;00m\u001b[38;5;21;01m.\u001b[39;00m\u001b[38;5;21;01mframework\u001b[39;00m \u001b[38;5;28;01mimport\u001b[39;00m op_callbacks\n",
            "File \u001b[1;32mc:\\Users\\Playdata\\AppData\\Local\\anaconda3\\envs\\directml\\lib\\site-packages\\tensorflow\\python\\eager\\execute.py:23\u001b[0m\n\u001b[0;32m     21\u001b[0m \u001b[38;5;28;01mfrom\u001b[39;00m \u001b[38;5;21;01mtensorflow\u001b[39;00m\u001b[38;5;21;01m.\u001b[39;00m\u001b[38;5;21;01mpython\u001b[39;00m \u001b[38;5;28;01mimport\u001b[39;00m pywrap_tfe\n\u001b[0;32m     22\u001b[0m \u001b[38;5;28;01mfrom\u001b[39;00m \u001b[38;5;21;01mtensorflow\u001b[39;00m\u001b[38;5;21;01m.\u001b[39;00m\u001b[38;5;21;01mpython\u001b[39;00m\u001b[38;5;21;01m.\u001b[39;00m\u001b[38;5;21;01meager\u001b[39;00m \u001b[38;5;28;01mimport\u001b[39;00m core\n\u001b[1;32m---> 23\u001b[0m \u001b[38;5;28;01mfrom\u001b[39;00m \u001b[38;5;21;01mtensorflow\u001b[39;00m\u001b[38;5;21;01m.\u001b[39;00m\u001b[38;5;21;01mpython\u001b[39;00m\u001b[38;5;21;01m.\u001b[39;00m\u001b[38;5;21;01mframework\u001b[39;00m \u001b[38;5;28;01mimport\u001b[39;00m dtypes\n\u001b[0;32m     24\u001b[0m \u001b[38;5;28;01mfrom\u001b[39;00m \u001b[38;5;21;01mtensorflow\u001b[39;00m\u001b[38;5;21;01m.\u001b[39;00m\u001b[38;5;21;01mpython\u001b[39;00m\u001b[38;5;21;01m.\u001b[39;00m\u001b[38;5;21;01mframework\u001b[39;00m \u001b[38;5;28;01mimport\u001b[39;00m ops\n\u001b[0;32m     25\u001b[0m \u001b[38;5;28;01mfrom\u001b[39;00m \u001b[38;5;21;01mtensorflow\u001b[39;00m\u001b[38;5;21;01m.\u001b[39;00m\u001b[38;5;21;01mpython\u001b[39;00m\u001b[38;5;21;01m.\u001b[39;00m\u001b[38;5;21;01mframework\u001b[39;00m \u001b[38;5;28;01mimport\u001b[39;00m tensor_shape\n",
            "File \u001b[1;32mc:\\Users\\Playdata\\AppData\\Local\\anaconda3\\envs\\directml\\lib\\site-packages\\tensorflow\\python\\framework\\dtypes.py:34\u001b[0m\n\u001b[0;32m     31\u001b[0m \u001b[38;5;28;01mfrom\u001b[39;00m \u001b[38;5;21;01mtensorflow\u001b[39;00m\u001b[38;5;21;01m.\u001b[39;00m\u001b[38;5;21;01mpython\u001b[39;00m\u001b[38;5;21;01m.\u001b[39;00m\u001b[38;5;21;01mtypes\u001b[39;00m \u001b[38;5;28;01mimport\u001b[39;00m trace\n\u001b[0;32m     32\u001b[0m \u001b[38;5;28;01mfrom\u001b[39;00m \u001b[38;5;21;01mtensorflow\u001b[39;00m\u001b[38;5;21;01m.\u001b[39;00m\u001b[38;5;21;01mcore\u001b[39;00m\u001b[38;5;21;01m.\u001b[39;00m\u001b[38;5;21;01mfunction\u001b[39;00m \u001b[38;5;28;01mimport\u001b[39;00m trace_type\n\u001b[1;32m---> 34\u001b[0m _np_bfloat16 \u001b[38;5;241m=\u001b[39m \u001b[43m_pywrap_bfloat16\u001b[49m\u001b[38;5;241;43m.\u001b[39;49m\u001b[43mTF_bfloat16_type\u001b[49m\u001b[43m(\u001b[49m\u001b[43m)\u001b[49m\n\u001b[0;32m     37\u001b[0m \u001b[38;5;28;01mclass\u001b[39;00m \u001b[38;5;21;01mDTypeMeta\u001b[39;00m(\u001b[38;5;28mtype\u001b[39m(_dtypes\u001b[38;5;241m.\u001b[39mDType), abc\u001b[38;5;241m.\u001b[39mABCMeta):\n\u001b[0;32m     38\u001b[0m   \u001b[38;5;28;01mpass\u001b[39;00m\n",
            "\u001b[1;31mTypeError\u001b[0m: Unable to convert function return value to a Python type! The signature was\n\t() -> handle"
          ]
        }
      ],
      "source": [
        "import tensorflow as tf\n",
        "import torch\n",
        "import torch.nn as nn\n",
        "from torch.utils.data import DataLoader\n",
        "from tqdm import tqdm\n",
        "# from torch import cuda\n",
        "# fashionmnist 분류\n",
        "(x,y),(x_test,y_test) = tf.keras.datasets.fashion_mnist.load_data()\n",
        "\n",
        "x = x / 255.0\n",
        "x_test = x_test / 255.0\n",
        "x_train,x_val,y_train,y_val = train_test_split(x,y,stratify=y,random_state=45)\n",
        "\n",
        "class FashionMnistDataset(torch.utils.data.Dataset):\n",
        "  def __init__(self, x, y):\n",
        "    self.x = torch.tensor(x, dtype=torch.float32)\n",
        "    self.x = self.x.unsqueeze(1)  #origin (none, 28 28) (none,1,28,28)\n",
        "    self.y = torch.tensor(y, dtype=torch.long)\n",
        "  def __len__(self):\n",
        "    return len(self.x)\n",
        "  def __getitem__(self,idx):\n",
        "    return self.x[idx], self.y[idx]\n",
        "# 데이터 로더\n",
        "train_dataset = FashionMnistDataset(x_train, y_train)\n",
        "val_dataset = FashionMnistDataset(x_val, y_val)\n",
        "test_dataset = FashionMnistDataset(x_test, y_test)\n",
        "\n",
        "train_loader = DataLoader(train_dataset, batch_size=32, shuffle=True)\n",
        "val_loader = DataLoader(val_dataset, batch_size=32, shuffle=True)\n",
        "test_loader = DataLoader(test_dataset, batch_size=32, shuffle=True)\n",
        "\n",
        "# 모델 정의\n",
        "# c-p-c-p-c-flattern-fc-fc\n",
        "class FashionMnist(nn.Module):\n",
        "  def __init__(self):\n",
        "    super(FashionMnist,self).__init__()\n",
        "    self.conv1 = nn.Conv2d(1,32,kernel_size=3,stride=1,padding=1)  # same padding\n",
        "    self.pool1 = nn.MaxPool2d(kernel_size=2,stride=2) # 14 14\n",
        "    self.conv2 = nn.Conv2d(32,64,kernel_size=3,stride=1,padding=1)  # same padding\n",
        "    self.pool2 = nn.MaxPool2d(kernel_size=2,stride=2) # 7 7\n",
        "    self.conv3 = nn.Conv2d(64,128,kernel_size=3,stride=1,padding=1)  # same padding\n",
        "    self.flatten = nn.Flatten()\n",
        "    self.fc1 = nn.Linear(128*7*7,128)\n",
        "    self.fc2 = nn.Linear(128,10)\n",
        "  def forward(self,x):\n",
        "    x = torch.relu( self.conv1(x) )\n",
        "    x = self.pool1(x)\n",
        "    x = torch.relu( self.conv2(x) )\n",
        "    x = self.pool2(x)\n",
        "    x = self.conv3(x)\n",
        "    x = self.flatten(x)\n",
        "    x = torch.relu(self.fc1(x))\n",
        "    x = self.fc2(x)\n",
        "    return x\n",
        "\n",
        "# device = cuda if torch.cuda.is_available() else 'cpu'\n",
        "import torch_directml\n",
        "device = torch_directml.device()\n",
        "\n",
        "model = FashionMnist()\n",
        "optimizer = torch.optim.Adam(model.parameters(), lr=1e-3) # 옵티마이져\n",
        "loss_fn = nn.CrossEntropyLoss() # 손실함수\n",
        "# 학습루프\n",
        "# 파이토치의 conv 는 (batchsize,channel,....)\n",
        "for epoch in range(10):\n",
        "  iterator = tqdm(train_loader)\n",
        "  for x,y in iterator:\n",
        "    x = x.to(device)\n",
        "    y = y.to(device)\n",
        "    optimizer.zero_grad()\n",
        "    y_pred = model(x)\n",
        "    loss = loss_fn(y_pred,y)\n",
        "    loss.backward()\n",
        "    optimizer.step()\n",
        "    iterator.set_description(f\"epoch : {epoch+1} loss : {loss.item()}\")\n",
        "\n",
        "# 모델을 저장\n",
        "torch.save(model.state_dict(),'fashionmnist.pth')\n",
        "# 모델 불러오기\n",
        "model = FashionMnist()\n",
        "model.load_state_dict(torch.load('fashionmnist.pth'))\n",
        "# 모델 평가\n",
        "test_loss = 0.0\n",
        "with torch.no_grad():\n",
        "  for x,y in test_loader:\n",
        "    y_pred = model(x)\n",
        "    loss = loss_fn(y_pred,y)\n",
        "    test_loss += loss.item()\n",
        "test_loss /= len(test_loader)\n",
        "print(f\"test loss : {test_loss}\")"
      ]
    },
    {
      "cell_type": "code",
      "execution_count": 8,
      "metadata": {},
      "outputs": [
        {
          "ename": "TypeError",
          "evalue": "Unable to convert function return value to a Python type! The signature was\n\t() -> handle",
          "output_type": "error",
          "traceback": [
            "\u001b[1;31m---------------------------------------------------------------------------\u001b[0m",
            "\u001b[1;31mTypeError\u001b[0m                                 Traceback (most recent call last)",
            "Cell \u001b[1;32mIn[8], line 1\u001b[0m\n\u001b[1;32m----> 1\u001b[0m \u001b[38;5;28;01mimport\u001b[39;00m \u001b[38;5;21;01mtensorflow\u001b[39;00m \u001b[38;5;28;01mas\u001b[39;00m \u001b[38;5;21;01mtf\u001b[39;00m\n\u001b[0;32m      2\u001b[0m tf\u001b[38;5;241m.\u001b[39mversion\n",
            "File \u001b[1;32mc:\\Users\\Playdata\\AppData\\Local\\anaconda3\\envs\\directml\\lib\\site-packages\\tensorflow\\__init__.py:37\u001b[0m\n\u001b[0;32m     34\u001b[0m \u001b[38;5;28;01mimport\u001b[39;00m \u001b[38;5;21;01msys\u001b[39;00m \u001b[38;5;28;01mas\u001b[39;00m \u001b[38;5;21;01m_sys\u001b[39;00m\n\u001b[0;32m     35\u001b[0m \u001b[38;5;28;01mimport\u001b[39;00m \u001b[38;5;21;01mtyping\u001b[39;00m \u001b[38;5;28;01mas\u001b[39;00m \u001b[38;5;21;01m_typing\u001b[39;00m\n\u001b[1;32m---> 37\u001b[0m \u001b[38;5;28;01mfrom\u001b[39;00m \u001b[38;5;21;01mtensorflow\u001b[39;00m\u001b[38;5;21;01m.\u001b[39;00m\u001b[38;5;21;01mpython\u001b[39;00m\u001b[38;5;21;01m.\u001b[39;00m\u001b[38;5;21;01mtools\u001b[39;00m \u001b[38;5;28;01mimport\u001b[39;00m module_util \u001b[38;5;28;01mas\u001b[39;00m _module_util\n\u001b[0;32m     38\u001b[0m \u001b[38;5;28;01mfrom\u001b[39;00m \u001b[38;5;21;01mtensorflow\u001b[39;00m\u001b[38;5;21;01m.\u001b[39;00m\u001b[38;5;21;01mpython\u001b[39;00m\u001b[38;5;21;01m.\u001b[39;00m\u001b[38;5;21;01mutil\u001b[39;00m\u001b[38;5;21;01m.\u001b[39;00m\u001b[38;5;21;01mlazy_loader\u001b[39;00m \u001b[38;5;28;01mimport\u001b[39;00m LazyLoader \u001b[38;5;28;01mas\u001b[39;00m _LazyLoader\n\u001b[0;32m     40\u001b[0m \u001b[38;5;66;03m# Make sure code inside the TensorFlow codebase can use tf2.enabled() at import.\u001b[39;00m\n",
            "File \u001b[1;32mc:\\Users\\Playdata\\AppData\\Local\\anaconda3\\envs\\directml\\lib\\site-packages\\tensorflow\\python\\__init__.py:42\u001b[0m\n\u001b[0;32m     37\u001b[0m \u001b[38;5;28;01mfrom\u001b[39;00m \u001b[38;5;21;01mtensorflow\u001b[39;00m\u001b[38;5;21;01m.\u001b[39;00m\u001b[38;5;21;01mpython\u001b[39;00m\u001b[38;5;21;01m.\u001b[39;00m\u001b[38;5;21;01meager\u001b[39;00m \u001b[38;5;28;01mimport\u001b[39;00m context\n\u001b[0;32m     39\u001b[0m \u001b[38;5;66;03m# pylint: enable=wildcard-import\u001b[39;00m\n\u001b[0;32m     40\u001b[0m \n\u001b[0;32m     41\u001b[0m \u001b[38;5;66;03m# Bring in subpackages.\u001b[39;00m\n\u001b[1;32m---> 42\u001b[0m \u001b[38;5;28;01mfrom\u001b[39;00m \u001b[38;5;21;01mtensorflow\u001b[39;00m\u001b[38;5;21;01m.\u001b[39;00m\u001b[38;5;21;01mpython\u001b[39;00m \u001b[38;5;28;01mimport\u001b[39;00m data\n\u001b[0;32m     43\u001b[0m \u001b[38;5;28;01mfrom\u001b[39;00m \u001b[38;5;21;01mtensorflow\u001b[39;00m\u001b[38;5;21;01m.\u001b[39;00m\u001b[38;5;21;01mpython\u001b[39;00m \u001b[38;5;28;01mimport\u001b[39;00m distribute\n\u001b[0;32m     44\u001b[0m \u001b[38;5;66;03m# from tensorflow.python import keras\u001b[39;00m\n",
            "File \u001b[1;32mc:\\Users\\Playdata\\AppData\\Local\\anaconda3\\envs\\directml\\lib\\site-packages\\tensorflow\\python\\data\\__init__.py:21\u001b[0m\n\u001b[0;32m     15\u001b[0m \u001b[38;5;124;03m\"\"\"`tf.data.Dataset` API for input pipelines.\u001b[39;00m\n\u001b[0;32m     16\u001b[0m \n\u001b[0;32m     17\u001b[0m \u001b[38;5;124;03mSee [Importing Data](https://tensorflow.org/guide/data) for an overview.\u001b[39;00m\n\u001b[0;32m     18\u001b[0m \u001b[38;5;124;03m\"\"\"\u001b[39;00m\n\u001b[0;32m     20\u001b[0m \u001b[38;5;66;03m# pylint: disable=unused-import\u001b[39;00m\n\u001b[1;32m---> 21\u001b[0m \u001b[38;5;28;01mfrom\u001b[39;00m \u001b[38;5;21;01mtensorflow\u001b[39;00m\u001b[38;5;21;01m.\u001b[39;00m\u001b[38;5;21;01mpython\u001b[39;00m\u001b[38;5;21;01m.\u001b[39;00m\u001b[38;5;21;01mdata\u001b[39;00m \u001b[38;5;28;01mimport\u001b[39;00m experimental\n\u001b[0;32m     22\u001b[0m \u001b[38;5;28;01mfrom\u001b[39;00m \u001b[38;5;21;01mtensorflow\u001b[39;00m\u001b[38;5;21;01m.\u001b[39;00m\u001b[38;5;21;01mpython\u001b[39;00m\u001b[38;5;21;01m.\u001b[39;00m\u001b[38;5;21;01mdata\u001b[39;00m\u001b[38;5;21;01m.\u001b[39;00m\u001b[38;5;21;01mops\u001b[39;00m\u001b[38;5;21;01m.\u001b[39;00m\u001b[38;5;21;01mdataset_ops\u001b[39;00m \u001b[38;5;28;01mimport\u001b[39;00m AUTOTUNE\n\u001b[0;32m     23\u001b[0m \u001b[38;5;28;01mfrom\u001b[39;00m \u001b[38;5;21;01mtensorflow\u001b[39;00m\u001b[38;5;21;01m.\u001b[39;00m\u001b[38;5;21;01mpython\u001b[39;00m\u001b[38;5;21;01m.\u001b[39;00m\u001b[38;5;21;01mdata\u001b[39;00m\u001b[38;5;21;01m.\u001b[39;00m\u001b[38;5;21;01mops\u001b[39;00m\u001b[38;5;21;01m.\u001b[39;00m\u001b[38;5;21;01mdataset_ops\u001b[39;00m \u001b[38;5;28;01mimport\u001b[39;00m Dataset\n",
            "File \u001b[1;32mc:\\Users\\Playdata\\AppData\\Local\\anaconda3\\envs\\directml\\lib\\site-packages\\tensorflow\\python\\data\\experimental\\__init__.py:96\u001b[0m\n\u001b[0;32m     15\u001b[0m \u001b[38;5;124;03m\"\"\"Experimental API for building input pipelines.\u001b[39;00m\n\u001b[0;32m     16\u001b[0m \n\u001b[0;32m     17\u001b[0m \u001b[38;5;124;03mThis module contains experimental `Dataset` sources and transformations that can\u001b[39;00m\n\u001b[1;32m   (...)\u001b[0m\n\u001b[0;32m     92\u001b[0m \u001b[38;5;124;03m@@UNKNOWN_CARDINALITY\u001b[39;00m\n\u001b[0;32m     93\u001b[0m \u001b[38;5;124;03m\"\"\"\u001b[39;00m\n\u001b[0;32m     95\u001b[0m \u001b[38;5;66;03m# pylint: disable=unused-import\u001b[39;00m\n\u001b[1;32m---> 96\u001b[0m \u001b[38;5;28;01mfrom\u001b[39;00m \u001b[38;5;21;01mtensorflow\u001b[39;00m\u001b[38;5;21;01m.\u001b[39;00m\u001b[38;5;21;01mpython\u001b[39;00m\u001b[38;5;21;01m.\u001b[39;00m\u001b[38;5;21;01mdata\u001b[39;00m\u001b[38;5;21;01m.\u001b[39;00m\u001b[38;5;21;01mexperimental\u001b[39;00m \u001b[38;5;28;01mimport\u001b[39;00m service\n\u001b[0;32m     97\u001b[0m \u001b[38;5;28;01mfrom\u001b[39;00m \u001b[38;5;21;01mtensorflow\u001b[39;00m\u001b[38;5;21;01m.\u001b[39;00m\u001b[38;5;21;01mpython\u001b[39;00m\u001b[38;5;21;01m.\u001b[39;00m\u001b[38;5;21;01mdata\u001b[39;00m\u001b[38;5;21;01m.\u001b[39;00m\u001b[38;5;21;01mexperimental\u001b[39;00m\u001b[38;5;21;01m.\u001b[39;00m\u001b[38;5;21;01mops\u001b[39;00m\u001b[38;5;21;01m.\u001b[39;00m\u001b[38;5;21;01mbatching\u001b[39;00m \u001b[38;5;28;01mimport\u001b[39;00m dense_to_ragged_batch\n\u001b[0;32m     98\u001b[0m \u001b[38;5;28;01mfrom\u001b[39;00m \u001b[38;5;21;01mtensorflow\u001b[39;00m\u001b[38;5;21;01m.\u001b[39;00m\u001b[38;5;21;01mpython\u001b[39;00m\u001b[38;5;21;01m.\u001b[39;00m\u001b[38;5;21;01mdata\u001b[39;00m\u001b[38;5;21;01m.\u001b[39;00m\u001b[38;5;21;01mexperimental\u001b[39;00m\u001b[38;5;21;01m.\u001b[39;00m\u001b[38;5;21;01mops\u001b[39;00m\u001b[38;5;21;01m.\u001b[39;00m\u001b[38;5;21;01mbatching\u001b[39;00m \u001b[38;5;28;01mimport\u001b[39;00m dense_to_sparse_batch\n",
            "File \u001b[1;32mc:\\Users\\Playdata\\AppData\\Local\\anaconda3\\envs\\directml\\lib\\site-packages\\tensorflow\\python\\data\\experimental\\service\\__init__.py:419\u001b[0m\n\u001b[0;32m      1\u001b[0m \u001b[38;5;66;03m# Copyright 2020 The TensorFlow Authors. All Rights Reserved.\u001b[39;00m\n\u001b[0;32m      2\u001b[0m \u001b[38;5;66;03m#\u001b[39;00m\n\u001b[0;32m      3\u001b[0m \u001b[38;5;66;03m# Licensed under the Apache License, Version 2.0 (the \"License\");\u001b[39;00m\n\u001b[1;32m   (...)\u001b[0m\n\u001b[0;32m     13\u001b[0m \u001b[38;5;66;03m# limitations under the License.\u001b[39;00m\n\u001b[0;32m     14\u001b[0m \u001b[38;5;66;03m# ==============================================================================\u001b[39;00m\n\u001b[0;32m     15\u001b[0m \u001b[38;5;124;03m\"\"\"API for using the tf.data service.\u001b[39;00m\n\u001b[0;32m     16\u001b[0m \n\u001b[0;32m     17\u001b[0m \u001b[38;5;124;03mThis module contains:\u001b[39;00m\n\u001b[1;32m   (...)\u001b[0m\n\u001b[0;32m    416\u001b[0m \u001b[38;5;124;03m  job of ParameterServerStrategy).\u001b[39;00m\n\u001b[0;32m    417\u001b[0m \u001b[38;5;124;03m\"\"\"\u001b[39;00m\n\u001b[1;32m--> 419\u001b[0m \u001b[38;5;28;01mfrom\u001b[39;00m \u001b[38;5;21;01mtensorflow\u001b[39;00m\u001b[38;5;21;01m.\u001b[39;00m\u001b[38;5;21;01mpython\u001b[39;00m\u001b[38;5;21;01m.\u001b[39;00m\u001b[38;5;21;01mdata\u001b[39;00m\u001b[38;5;21;01m.\u001b[39;00m\u001b[38;5;21;01mexperimental\u001b[39;00m\u001b[38;5;21;01m.\u001b[39;00m\u001b[38;5;21;01mops\u001b[39;00m\u001b[38;5;21;01m.\u001b[39;00m\u001b[38;5;21;01mdata_service_ops\u001b[39;00m \u001b[38;5;28;01mimport\u001b[39;00m distribute\n\u001b[0;32m    420\u001b[0m \u001b[38;5;28;01mfrom\u001b[39;00m \u001b[38;5;21;01mtensorflow\u001b[39;00m\u001b[38;5;21;01m.\u001b[39;00m\u001b[38;5;21;01mpython\u001b[39;00m\u001b[38;5;21;01m.\u001b[39;00m\u001b[38;5;21;01mdata\u001b[39;00m\u001b[38;5;21;01m.\u001b[39;00m\u001b[38;5;21;01mexperimental\u001b[39;00m\u001b[38;5;21;01m.\u001b[39;00m\u001b[38;5;21;01mops\u001b[39;00m\u001b[38;5;21;01m.\u001b[39;00m\u001b[38;5;21;01mdata_service_ops\u001b[39;00m \u001b[38;5;28;01mimport\u001b[39;00m from_dataset_id\n\u001b[0;32m    421\u001b[0m \u001b[38;5;28;01mfrom\u001b[39;00m \u001b[38;5;21;01mtensorflow\u001b[39;00m\u001b[38;5;21;01m.\u001b[39;00m\u001b[38;5;21;01mpython\u001b[39;00m\u001b[38;5;21;01m.\u001b[39;00m\u001b[38;5;21;01mdata\u001b[39;00m\u001b[38;5;21;01m.\u001b[39;00m\u001b[38;5;21;01mexperimental\u001b[39;00m\u001b[38;5;21;01m.\u001b[39;00m\u001b[38;5;21;01mops\u001b[39;00m\u001b[38;5;21;01m.\u001b[39;00m\u001b[38;5;21;01mdata_service_ops\u001b[39;00m \u001b[38;5;28;01mimport\u001b[39;00m register_dataset\n",
            "File \u001b[1;32mc:\\Users\\Playdata\\AppData\\Local\\anaconda3\\envs\\directml\\lib\\site-packages\\tensorflow\\python\\data\\experimental\\ops\\data_service_ops.py:24\u001b[0m\n\u001b[0;32m     22\u001b[0m \u001b[38;5;28;01mfrom\u001b[39;00m \u001b[38;5;21;01mtensorflow\u001b[39;00m\u001b[38;5;21;01m.\u001b[39;00m\u001b[38;5;21;01mpython\u001b[39;00m \u001b[38;5;28;01mimport\u001b[39;00m tf2\n\u001b[0;32m     23\u001b[0m \u001b[38;5;28;01mfrom\u001b[39;00m \u001b[38;5;21;01mtensorflow\u001b[39;00m\u001b[38;5;21;01m.\u001b[39;00m\u001b[38;5;21;01mpython\u001b[39;00m\u001b[38;5;21;01m.\u001b[39;00m\u001b[38;5;21;01mcompat\u001b[39;00m \u001b[38;5;28;01mimport\u001b[39;00m compat\n\u001b[1;32m---> 24\u001b[0m \u001b[38;5;28;01mfrom\u001b[39;00m \u001b[38;5;21;01mtensorflow\u001b[39;00m\u001b[38;5;21;01m.\u001b[39;00m\u001b[38;5;21;01mpython\u001b[39;00m\u001b[38;5;21;01m.\u001b[39;00m\u001b[38;5;21;01mdata\u001b[39;00m\u001b[38;5;21;01m.\u001b[39;00m\u001b[38;5;21;01mexperimental\u001b[39;00m\u001b[38;5;21;01m.\u001b[39;00m\u001b[38;5;21;01mops\u001b[39;00m \u001b[38;5;28;01mimport\u001b[39;00m compression_ops\n\u001b[0;32m     25\u001b[0m \u001b[38;5;28;01mfrom\u001b[39;00m \u001b[38;5;21;01mtensorflow\u001b[39;00m\u001b[38;5;21;01m.\u001b[39;00m\u001b[38;5;21;01mpython\u001b[39;00m\u001b[38;5;21;01m.\u001b[39;00m\u001b[38;5;21;01mdata\u001b[39;00m\u001b[38;5;21;01m.\u001b[39;00m\u001b[38;5;21;01mexperimental\u001b[39;00m\u001b[38;5;21;01m.\u001b[39;00m\u001b[38;5;21;01mservice\u001b[39;00m \u001b[38;5;28;01mimport\u001b[39;00m _pywrap_server_lib\n\u001b[0;32m     26\u001b[0m \u001b[38;5;28;01mfrom\u001b[39;00m \u001b[38;5;21;01mtensorflow\u001b[39;00m\u001b[38;5;21;01m.\u001b[39;00m\u001b[38;5;21;01mpython\u001b[39;00m\u001b[38;5;21;01m.\u001b[39;00m\u001b[38;5;21;01mdata\u001b[39;00m\u001b[38;5;21;01m.\u001b[39;00m\u001b[38;5;21;01mexperimental\u001b[39;00m\u001b[38;5;21;01m.\u001b[39;00m\u001b[38;5;21;01mservice\u001b[39;00m \u001b[38;5;28;01mimport\u001b[39;00m _pywrap_utils\n",
            "File \u001b[1;32mc:\\Users\\Playdata\\AppData\\Local\\anaconda3\\envs\\directml\\lib\\site-packages\\tensorflow\\python\\data\\experimental\\ops\\compression_ops.py:16\u001b[0m\n\u001b[0;32m      1\u001b[0m \u001b[38;5;66;03m# Copyright 2020 The TensorFlow Authors. All Rights Reserved.\u001b[39;00m\n\u001b[0;32m      2\u001b[0m \u001b[38;5;66;03m#\u001b[39;00m\n\u001b[0;32m      3\u001b[0m \u001b[38;5;66;03m# Licensed under the Apache License, Version 2.0 (the \"License\");\u001b[39;00m\n\u001b[1;32m   (...)\u001b[0m\n\u001b[0;32m     13\u001b[0m \u001b[38;5;66;03m# limitations under the License.\u001b[39;00m\n\u001b[0;32m     14\u001b[0m \u001b[38;5;66;03m# ==============================================================================\u001b[39;00m\n\u001b[0;32m     15\u001b[0m \u001b[38;5;124;03m\"\"\"Ops for compressing and uncompressing dataset elements.\"\"\"\u001b[39;00m\n\u001b[1;32m---> 16\u001b[0m \u001b[38;5;28;01mfrom\u001b[39;00m \u001b[38;5;21;01mtensorflow\u001b[39;00m\u001b[38;5;21;01m.\u001b[39;00m\u001b[38;5;21;01mpython\u001b[39;00m\u001b[38;5;21;01m.\u001b[39;00m\u001b[38;5;21;01mdata\u001b[39;00m\u001b[38;5;21;01m.\u001b[39;00m\u001b[38;5;21;01mutil\u001b[39;00m \u001b[38;5;28;01mimport\u001b[39;00m structure\n\u001b[0;32m     17\u001b[0m \u001b[38;5;28;01mfrom\u001b[39;00m \u001b[38;5;21;01mtensorflow\u001b[39;00m\u001b[38;5;21;01m.\u001b[39;00m\u001b[38;5;21;01mpython\u001b[39;00m\u001b[38;5;21;01m.\u001b[39;00m\u001b[38;5;21;01mops\u001b[39;00m \u001b[38;5;28;01mimport\u001b[39;00m gen_experimental_dataset_ops \u001b[38;5;28;01mas\u001b[39;00m ged_ops\n\u001b[0;32m     20\u001b[0m \u001b[38;5;28;01mdef\u001b[39;00m \u001b[38;5;21mcompress\u001b[39m(element):\n",
            "File \u001b[1;32mc:\\Users\\Playdata\\AppData\\Local\\anaconda3\\envs\\directml\\lib\\site-packages\\tensorflow\\python\\data\\util\\structure.py:23\u001b[0m\n\u001b[0;32m     20\u001b[0m \u001b[38;5;28;01mimport\u001b[39;00m \u001b[38;5;21;01msix\u001b[39;00m\n\u001b[0;32m     21\u001b[0m \u001b[38;5;28;01mimport\u001b[39;00m \u001b[38;5;21;01mwrapt\u001b[39;00m\n\u001b[1;32m---> 23\u001b[0m \u001b[38;5;28;01mfrom\u001b[39;00m \u001b[38;5;21;01mtensorflow\u001b[39;00m\u001b[38;5;21;01m.\u001b[39;00m\u001b[38;5;21;01mpython\u001b[39;00m\u001b[38;5;21;01m.\u001b[39;00m\u001b[38;5;21;01mdata\u001b[39;00m\u001b[38;5;21;01m.\u001b[39;00m\u001b[38;5;21;01mutil\u001b[39;00m \u001b[38;5;28;01mimport\u001b[39;00m nest\n\u001b[0;32m     24\u001b[0m \u001b[38;5;28;01mfrom\u001b[39;00m \u001b[38;5;21;01mtensorflow\u001b[39;00m\u001b[38;5;21;01m.\u001b[39;00m\u001b[38;5;21;01mpython\u001b[39;00m\u001b[38;5;21;01m.\u001b[39;00m\u001b[38;5;21;01mframework\u001b[39;00m \u001b[38;5;28;01mimport\u001b[39;00m composite_tensor\n\u001b[0;32m     25\u001b[0m \u001b[38;5;28;01mfrom\u001b[39;00m \u001b[38;5;21;01mtensorflow\u001b[39;00m\u001b[38;5;21;01m.\u001b[39;00m\u001b[38;5;21;01mpython\u001b[39;00m\u001b[38;5;21;01m.\u001b[39;00m\u001b[38;5;21;01mframework\u001b[39;00m \u001b[38;5;28;01mimport\u001b[39;00m ops\n",
            "File \u001b[1;32mc:\\Users\\Playdata\\AppData\\Local\\anaconda3\\envs\\directml\\lib\\site-packages\\tensorflow\\python\\data\\util\\nest.py:36\u001b[0m\n\u001b[0;32m     16\u001b[0m \u001b[38;5;124;03m\"\"\"## Functions for working with arbitrarily nested sequences of elements.\u001b[39;00m\n\u001b[0;32m     17\u001b[0m \n\u001b[0;32m     18\u001b[0m \u001b[38;5;124;03mNOTE(mrry): This fork of the `tensorflow.python.util.nest` module\u001b[39;00m\n\u001b[1;32m   (...)\u001b[0m\n\u001b[0;32m     31\u001b[0m \u001b[38;5;124;03m   arrays.\u001b[39;00m\n\u001b[0;32m     32\u001b[0m \u001b[38;5;124;03m\"\"\"\u001b[39;00m\n\u001b[0;32m     34\u001b[0m \u001b[38;5;28;01mimport\u001b[39;00m \u001b[38;5;21;01msix\u001b[39;00m \u001b[38;5;28;01mas\u001b[39;00m \u001b[38;5;21;01m_six\u001b[39;00m\n\u001b[1;32m---> 36\u001b[0m \u001b[38;5;28;01mfrom\u001b[39;00m \u001b[38;5;21;01mtensorflow\u001b[39;00m\u001b[38;5;21;01m.\u001b[39;00m\u001b[38;5;21;01mpython\u001b[39;00m\u001b[38;5;21;01m.\u001b[39;00m\u001b[38;5;21;01mframework\u001b[39;00m \u001b[38;5;28;01mimport\u001b[39;00m sparse_tensor \u001b[38;5;28;01mas\u001b[39;00m _sparse_tensor\n\u001b[0;32m     37\u001b[0m \u001b[38;5;28;01mfrom\u001b[39;00m \u001b[38;5;21;01mtensorflow\u001b[39;00m\u001b[38;5;21;01m.\u001b[39;00m\u001b[38;5;21;01mpython\u001b[39;00m\u001b[38;5;21;01m.\u001b[39;00m\u001b[38;5;21;01mutil\u001b[39;00m \u001b[38;5;28;01mimport\u001b[39;00m _pywrap_utils\n\u001b[0;32m     38\u001b[0m \u001b[38;5;28;01mfrom\u001b[39;00m \u001b[38;5;21;01mtensorflow\u001b[39;00m\u001b[38;5;21;01m.\u001b[39;00m\u001b[38;5;21;01mpython\u001b[39;00m\u001b[38;5;21;01m.\u001b[39;00m\u001b[38;5;21;01mutil\u001b[39;00m \u001b[38;5;28;01mimport\u001b[39;00m nest\n",
            "File \u001b[1;32mc:\\Users\\Playdata\\AppData\\Local\\anaconda3\\envs\\directml\\lib\\site-packages\\tensorflow\\python\\framework\\sparse_tensor.py:24\u001b[0m\n\u001b[0;32m     22\u001b[0m \u001b[38;5;28;01mfrom\u001b[39;00m \u001b[38;5;21;01mtensorflow\u001b[39;00m\u001b[38;5;21;01m.\u001b[39;00m\u001b[38;5;21;01mpython\u001b[39;00m \u001b[38;5;28;01mimport\u001b[39;00m tf2\n\u001b[0;32m     23\u001b[0m \u001b[38;5;28;01mfrom\u001b[39;00m \u001b[38;5;21;01mtensorflow\u001b[39;00m\u001b[38;5;21;01m.\u001b[39;00m\u001b[38;5;21;01mpython\u001b[39;00m\u001b[38;5;21;01m.\u001b[39;00m\u001b[38;5;21;01mframework\u001b[39;00m \u001b[38;5;28;01mimport\u001b[39;00m composite_tensor\n\u001b[1;32m---> 24\u001b[0m \u001b[38;5;28;01mfrom\u001b[39;00m \u001b[38;5;21;01mtensorflow\u001b[39;00m\u001b[38;5;21;01m.\u001b[39;00m\u001b[38;5;21;01mpython\u001b[39;00m\u001b[38;5;21;01m.\u001b[39;00m\u001b[38;5;21;01mframework\u001b[39;00m \u001b[38;5;28;01mimport\u001b[39;00m constant_op\n\u001b[0;32m     25\u001b[0m \u001b[38;5;28;01mfrom\u001b[39;00m \u001b[38;5;21;01mtensorflow\u001b[39;00m\u001b[38;5;21;01m.\u001b[39;00m\u001b[38;5;21;01mpython\u001b[39;00m\u001b[38;5;21;01m.\u001b[39;00m\u001b[38;5;21;01mframework\u001b[39;00m \u001b[38;5;28;01mimport\u001b[39;00m dtypes\n\u001b[0;32m     26\u001b[0m \u001b[38;5;28;01mfrom\u001b[39;00m \u001b[38;5;21;01mtensorflow\u001b[39;00m\u001b[38;5;21;01m.\u001b[39;00m\u001b[38;5;21;01mpython\u001b[39;00m\u001b[38;5;21;01m.\u001b[39;00m\u001b[38;5;21;01mframework\u001b[39;00m \u001b[38;5;28;01mimport\u001b[39;00m ops\n",
            "File \u001b[1;32mc:\\Users\\Playdata\\AppData\\Local\\anaconda3\\envs\\directml\\lib\\site-packages\\tensorflow\\python\\framework\\constant_op.py:25\u001b[0m\n\u001b[0;32m     23\u001b[0m \u001b[38;5;28;01mfrom\u001b[39;00m \u001b[38;5;21;01mtensorflow\u001b[39;00m\u001b[38;5;21;01m.\u001b[39;00m\u001b[38;5;21;01mcore\u001b[39;00m\u001b[38;5;21;01m.\u001b[39;00m\u001b[38;5;21;01mframework\u001b[39;00m \u001b[38;5;28;01mimport\u001b[39;00m types_pb2\n\u001b[0;32m     24\u001b[0m \u001b[38;5;28;01mfrom\u001b[39;00m \u001b[38;5;21;01mtensorflow\u001b[39;00m\u001b[38;5;21;01m.\u001b[39;00m\u001b[38;5;21;01mpython\u001b[39;00m\u001b[38;5;21;01m.\u001b[39;00m\u001b[38;5;21;01meager\u001b[39;00m \u001b[38;5;28;01mimport\u001b[39;00m context\n\u001b[1;32m---> 25\u001b[0m \u001b[38;5;28;01mfrom\u001b[39;00m \u001b[38;5;21;01mtensorflow\u001b[39;00m\u001b[38;5;21;01m.\u001b[39;00m\u001b[38;5;21;01mpython\u001b[39;00m\u001b[38;5;21;01m.\u001b[39;00m\u001b[38;5;21;01meager\u001b[39;00m \u001b[38;5;28;01mimport\u001b[39;00m execute\n\u001b[0;32m     26\u001b[0m \u001b[38;5;28;01mfrom\u001b[39;00m \u001b[38;5;21;01mtensorflow\u001b[39;00m\u001b[38;5;21;01m.\u001b[39;00m\u001b[38;5;21;01mpython\u001b[39;00m\u001b[38;5;21;01m.\u001b[39;00m\u001b[38;5;21;01mframework\u001b[39;00m \u001b[38;5;28;01mimport\u001b[39;00m dtypes\n\u001b[0;32m     27\u001b[0m \u001b[38;5;28;01mfrom\u001b[39;00m \u001b[38;5;21;01mtensorflow\u001b[39;00m\u001b[38;5;21;01m.\u001b[39;00m\u001b[38;5;21;01mpython\u001b[39;00m\u001b[38;5;21;01m.\u001b[39;00m\u001b[38;5;21;01mframework\u001b[39;00m \u001b[38;5;28;01mimport\u001b[39;00m op_callbacks\n",
            "File \u001b[1;32mc:\\Users\\Playdata\\AppData\\Local\\anaconda3\\envs\\directml\\lib\\site-packages\\tensorflow\\python\\eager\\execute.py:23\u001b[0m\n\u001b[0;32m     21\u001b[0m \u001b[38;5;28;01mfrom\u001b[39;00m \u001b[38;5;21;01mtensorflow\u001b[39;00m\u001b[38;5;21;01m.\u001b[39;00m\u001b[38;5;21;01mpython\u001b[39;00m \u001b[38;5;28;01mimport\u001b[39;00m pywrap_tfe\n\u001b[0;32m     22\u001b[0m \u001b[38;5;28;01mfrom\u001b[39;00m \u001b[38;5;21;01mtensorflow\u001b[39;00m\u001b[38;5;21;01m.\u001b[39;00m\u001b[38;5;21;01mpython\u001b[39;00m\u001b[38;5;21;01m.\u001b[39;00m\u001b[38;5;21;01meager\u001b[39;00m \u001b[38;5;28;01mimport\u001b[39;00m core\n\u001b[1;32m---> 23\u001b[0m \u001b[38;5;28;01mfrom\u001b[39;00m \u001b[38;5;21;01mtensorflow\u001b[39;00m\u001b[38;5;21;01m.\u001b[39;00m\u001b[38;5;21;01mpython\u001b[39;00m\u001b[38;5;21;01m.\u001b[39;00m\u001b[38;5;21;01mframework\u001b[39;00m \u001b[38;5;28;01mimport\u001b[39;00m dtypes\n\u001b[0;32m     24\u001b[0m \u001b[38;5;28;01mfrom\u001b[39;00m \u001b[38;5;21;01mtensorflow\u001b[39;00m\u001b[38;5;21;01m.\u001b[39;00m\u001b[38;5;21;01mpython\u001b[39;00m\u001b[38;5;21;01m.\u001b[39;00m\u001b[38;5;21;01mframework\u001b[39;00m \u001b[38;5;28;01mimport\u001b[39;00m ops\n\u001b[0;32m     25\u001b[0m \u001b[38;5;28;01mfrom\u001b[39;00m \u001b[38;5;21;01mtensorflow\u001b[39;00m\u001b[38;5;21;01m.\u001b[39;00m\u001b[38;5;21;01mpython\u001b[39;00m\u001b[38;5;21;01m.\u001b[39;00m\u001b[38;5;21;01mframework\u001b[39;00m \u001b[38;5;28;01mimport\u001b[39;00m tensor_shape\n",
            "File \u001b[1;32mc:\\Users\\Playdata\\AppData\\Local\\anaconda3\\envs\\directml\\lib\\site-packages\\tensorflow\\python\\framework\\dtypes.py:34\u001b[0m\n\u001b[0;32m     31\u001b[0m \u001b[38;5;28;01mfrom\u001b[39;00m \u001b[38;5;21;01mtensorflow\u001b[39;00m\u001b[38;5;21;01m.\u001b[39;00m\u001b[38;5;21;01mpython\u001b[39;00m\u001b[38;5;21;01m.\u001b[39;00m\u001b[38;5;21;01mtypes\u001b[39;00m \u001b[38;5;28;01mimport\u001b[39;00m trace\n\u001b[0;32m     32\u001b[0m \u001b[38;5;28;01mfrom\u001b[39;00m \u001b[38;5;21;01mtensorflow\u001b[39;00m\u001b[38;5;21;01m.\u001b[39;00m\u001b[38;5;21;01mcore\u001b[39;00m\u001b[38;5;21;01m.\u001b[39;00m\u001b[38;5;21;01mfunction\u001b[39;00m \u001b[38;5;28;01mimport\u001b[39;00m trace_type\n\u001b[1;32m---> 34\u001b[0m _np_bfloat16 \u001b[38;5;241m=\u001b[39m \u001b[43m_pywrap_bfloat16\u001b[49m\u001b[38;5;241;43m.\u001b[39;49m\u001b[43mTF_bfloat16_type\u001b[49m\u001b[43m(\u001b[49m\u001b[43m)\u001b[49m\n\u001b[0;32m     37\u001b[0m \u001b[38;5;28;01mclass\u001b[39;00m \u001b[38;5;21;01mDTypeMeta\u001b[39;00m(\u001b[38;5;28mtype\u001b[39m(_dtypes\u001b[38;5;241m.\u001b[39mDType), abc\u001b[38;5;241m.\u001b[39mABCMeta):\n\u001b[0;32m     38\u001b[0m   \u001b[38;5;28;01mpass\u001b[39;00m\n",
            "\u001b[1;31mTypeError\u001b[0m: Unable to convert function return value to a Python type! The signature was\n\t() -> handle"
          ]
        }
      ],
      "source": [
        "import tensorflow as tf\n",
        "tf.version"
      ]
    },
    {
      "cell_type": "code",
      "execution_count": 7,
      "metadata": {
        "id": "NU5o_kBiUg5j"
      },
      "outputs": [
        {
          "ename": "ModuleNotFoundError",
          "evalue": "No module named 'sklearn'",
          "output_type": "error",
          "traceback": [
            "\u001b[1;31m---------------------------------------------------------------------------\u001b[0m",
            "\u001b[1;31mModuleNotFoundError\u001b[0m                       Traceback (most recent call last)",
            "Cell \u001b[1;32mIn[7], line 1\u001b[0m\n\u001b[1;32m----> 1\u001b[0m \u001b[38;5;28;01mfrom\u001b[39;00m \u001b[38;5;21;01msklearn\u001b[39;00m\u001b[38;5;21;01m.\u001b[39;00m\u001b[38;5;21;01mmetrics\u001b[39;00m \u001b[38;5;28;01mimport\u001b[39;00m classification_report\n\u001b[0;32m      2\u001b[0m \u001b[38;5;28;01mimport\u001b[39;00m \u001b[38;5;21;01mnumpy\u001b[39;00m \u001b[38;5;28;01mas\u001b[39;00m \u001b[38;5;21;01mnp\u001b[39;00m\n\u001b[0;32m      3\u001b[0m y_pred \u001b[38;5;241m=\u001b[39m model(torch\u001b[38;5;241m.\u001b[39mtensor(x_test, dtype\u001b[38;5;241m=\u001b[39mtorch\u001b[38;5;241m.\u001b[39mfloat32))\n",
            "\u001b[1;31mModuleNotFoundError\u001b[0m: No module named 'sklearn'"
          ]
        }
      ],
      "source": [
        "from sklearn.metrics import classification_report\n",
        "import numpy as np\n",
        "y_pred = model(torch.tensor(x_test, dtype=torch.float32))\n",
        "y_pred = np.argmax(y_pred,axis=1)\n",
        "classification_report(y_test,y_pred.detach().numpy())"
      ]
    },
    {
      "cell_type": "markdown",
      "metadata": {
        "id": "bB_N3-8JRSE7"
      },
      "source": [
        "![image.png](data:image/png;base64,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)"
      ]
    },
    {
      "cell_type": "code",
      "execution_count": null,
      "metadata": {
        "id": "bXSEr3EqQ8Ow"
      },
      "outputs": [],
      "source": []
    }
  ],
  "metadata": {
    "colab": {
      "provenance": []
    },
    "kernelspec": {
      "display_name": "Python 3",
      "name": "python3"
    },
    "language_info": {
      "codemirror_mode": {
        "name": "ipython",
        "version": 3
      },
      "file_extension": ".py",
      "mimetype": "text/x-python",
      "name": "python",
      "nbconvert_exporter": "python",
      "pygments_lexer": "ipython3",
      "version": "3.9.20"
    }
  },
  "nbformat": 4,
  "nbformat_minor": 0
}
