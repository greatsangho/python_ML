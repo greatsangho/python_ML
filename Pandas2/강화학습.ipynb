{
  "nbformat": 4,
  "nbformat_minor": 0,
  "metadata": {
    "colab": {
      "provenance": []
    },
    "kernelspec": {
      "name": "python3",
      "display_name": "Python 3"
    },
    "language_info": {
      "name": "python"
    }
  },
  "cells": [
    {
      "cell_type": "markdown",
      "source": [
        " - 강화학습\n",
        "   - 자전거 타기\n",
        "   - 스키너의 행동심리학\n",
        "   - 바둑 ,비디오 게임\n",
        "\n",
        "- 학습사이클\n",
        "  - 행동(에이전트) ->상태변화 ->보상\n",
        "\n",
        "- 다중 손잡이 밴딧 문제\n",
        "- OpenAI  gym라이브러리\n",
        "\n",
        "- 에이전트/환경 : 특정환경에서 행동을 취함, 행동에 대한 결과(보상)\n",
        "- 상태 : 현재상태, 에이전트가 이 상태를 바탕으로 행동을\n",
        "결정\n",
        "- 행동 : 에이전트가 취할수 있는 선택\n",
        "- 보상 : 행동에 대한 피드백\n",
        "- 정책 : 에이전트가 특정상태에서 어떤 행동알 선택할지 전략\n",
        "- 가치 함수 : 보상의 총합"
      ],
      "metadata": {
        "id": "pmK_7Szq9Aee"
      }
    },
    {
      "cell_type": "markdown",
      "source": [
        " - 다중손잡이 밴딧\n",
        "  - 1을 넣고 여러손잡이중에서 하나를  골라서 당기면 1잃거나 얻음\n",
        "  - 손잡이마다가 승률이정해져 있음, 사용자는 모름\n",
        "  - 행동의 집합(손잡이1,손잡이2,손잡이3,손잡이4,손잡이5)\n",
        "  - 보상의 집합 - {-1. 1}\n",
        "  - 행동 -> 상태 변화 -> 보상의 학습 사이클에서 상태가 없는 단순한 문제\n"
      ],
      "metadata": {
        "id": "l8OwDuS9-yZ7"
      }
    },
    {
      "cell_type": "code",
      "source": [
        "# 탐험형 탐색\n",
        "  # 처음부터 끝가지 무작위로 선택하는 극단적인 탐험형 탐색\n",
        "# 탐사형 정책\n",
        "  # 몇번 시도해 보고 이후에는 그때까의 승률이 가장 높은 손잡이만 당기는\n",
        "# 균형이 중요함 : 현재까지 높은 확률을 보이는 손잡이를 더 자주 당기지만 일정한 비율로 다른 손잡이도 시도하는 정책\n",
        "# 에피소드 : 강화학습에서 게임시작~마칠때 까지\n"
      ],
      "metadata": {
        "id": "uOnZzZqw9sa9"
      },
      "execution_count": null,
      "outputs": []
    },
    {
      "cell_type": "code",
      "source": [
        "import numpy as np\n",
        "arms_profit = [0.4,0.12,0.52,0.6,0.25]  # 승률\n",
        "n_arms = len(arms_profit)\n",
        "# 손잡이를 당기는 횟수(에피소드의 길이)\n",
        "n_trai = 1000\n",
        "# 손잡이 당기는 시뮬레이션 함수\n",
        "def pull_bandit(handle):\n",
        "  q = np.random.random()  # 0~ 1사이의 난수\n",
        "  if q < arms_profit[handle]:\n",
        "    return 1\n",
        "  else:\n",
        "    return -1\n",
        "# 랜덤 탐색정책 : 무작위로 손잡이를 당기고 보상을 기록하는 함수\n",
        "def random_exploration():\n",
        "  episode = []\n",
        "  num = np.zeros(n_arms)\n",
        "  wins = np.zeros(n_arms)\n",
        "  for i in range(n_trai):\n",
        "    h = np.random.randint(0,n_arms)\n",
        "    reward = pull_bandit(h)\n",
        "    episode.append([h,reward])\n",
        "    num[h] += 1\n",
        "    wins[h] += reward\n",
        "  return episode,(num,wins)\n",
        "\n",
        "e,r = random_exploration()\n",
        "r\n",
        "result = [ r[1][i]/r[0][i] if r[0][i] > 0 else 0.0  for i in range(n_arms) ]\n",
        "print(f\"손잡이별 승리 확률 : {result}\")\n",
        "wins = [ 2*r[1][i] - r[0][i] for i in range(n_arms)]  # 2*승리횟수 - 당긴횟수\n",
        "print(f\"손잡이별 수익 : {wins}\")\n"
      ],
      "metadata": {
        "colab": {
          "base_uri": "https://localhost:8080/"
        },
        "id": "57yhPMR-9sdt",
        "outputId": "c4677938-da43-48a6-fb69-7cfc66a1e068"
      },
      "execution_count": 23,
      "outputs": [
        {
          "output_type": "stream",
          "name": "stdout",
          "text": [
            "손잡이별 승리 확률 : [-0.1504424778761062, -0.7754010695187166, 0.058823529411764705, 0.2708333333333333, -0.5384615384615384]\n",
            "손잡이별 수익 : [-294.0, -477.0, -165.0, -88.0, -432.0]\n"
          ]
        }
      ]
    },
    {
      "cell_type": "code",
      "source": [],
      "metadata": {
        "id": "pzhIetSH9sgV"
      },
      "execution_count": null,
      "outputs": []
    },
    {
      "cell_type": "code",
      "source": [],
      "metadata": {
        "id": "4Vage2IE9sjF"
      },
      "execution_count": null,
      "outputs": []
    },
    {
      "cell_type": "code",
      "source": [],
      "metadata": {
        "id": "_bIGc74V9sl3"
      },
      "execution_count": null,
      "outputs": []
    },
    {
      "cell_type": "code",
      "execution_count": 3,
      "metadata": {
        "colab": {
          "base_uri": "https://localhost:8080/"
        },
        "collapsed": true,
        "id": "NbOlaCNS4UAK",
        "outputId": "dbf82f87-2c98-4397-800d-86cb777adb61"
      },
      "outputs": [
        {
          "output_type": "stream",
          "name": "stdout",
          "text": [
            "Requirement already satisfied: gym in /usr/local/lib/python3.10/dist-packages (0.25.2)\n",
            "Requirement already satisfied: numpy>=1.18.0 in /usr/local/lib/python3.10/dist-packages (from gym) (1.26.4)\n",
            "Requirement already satisfied: cloudpickle>=1.2.0 in /usr/local/lib/python3.10/dist-packages (from gym) (2.2.1)\n",
            "Requirement already satisfied: gym-notices>=0.0.4 in /usr/local/lib/python3.10/dist-packages (from gym) (0.0.8)\n",
            "Requirement already satisfied: torch in /usr/local/lib/python3.10/dist-packages (2.4.1+cu121)\n",
            "Requirement already satisfied: torchvision in /usr/local/lib/python3.10/dist-packages (0.19.1+cu121)\n",
            "Requirement already satisfied: torchaudio in /usr/local/lib/python3.10/dist-packages (2.4.1+cu121)\n",
            "Requirement already satisfied: filelock in /usr/local/lib/python3.10/dist-packages (from torch) (3.16.1)\n",
            "Requirement already satisfied: typing-extensions>=4.8.0 in /usr/local/lib/python3.10/dist-packages (from torch) (4.12.2)\n",
            "Requirement already satisfied: sympy in /usr/local/lib/python3.10/dist-packages (from torch) (1.13.3)\n",
            "Requirement already satisfied: networkx in /usr/local/lib/python3.10/dist-packages (from torch) (3.3)\n",
            "Requirement already satisfied: jinja2 in /usr/local/lib/python3.10/dist-packages (from torch) (3.1.4)\n",
            "Requirement already satisfied: fsspec in /usr/local/lib/python3.10/dist-packages (from torch) (2024.6.1)\n",
            "Requirement already satisfied: numpy in /usr/local/lib/python3.10/dist-packages (from torchvision) (1.26.4)\n",
            "Requirement already satisfied: pillow!=8.3.*,>=5.3.0 in /usr/local/lib/python3.10/dist-packages (from torchvision) (10.4.0)\n",
            "Requirement already satisfied: MarkupSafe>=2.0 in /usr/local/lib/python3.10/dist-packages (from jinja2->torch) (2.1.5)\n",
            "Requirement already satisfied: mpmath<1.4,>=1.1.0 in /usr/local/lib/python3.10/dist-packages (from sympy->torch) (1.3.0)\n"
          ]
        }
      ],
      "source": [
        "!pip install gym\n",
        "!pip install torch torchvision torchaudio"
      ]
    },
    {
      "cell_type": "code",
      "source": [
        "import gym\n",
        "import numpy as np\n",
        "import random\n",
        "import torch\n",
        "import torch.nn as nn\n",
        "import torch.optim as optim\n",
        "from collections import deque\n",
        "import matplotlib.pyplot as plt\n",
        "\n",
        "# DQN 네트워크 정의\n",
        "class DQN(nn.Module):\n",
        "    def __init__(self, state_size, action_size):\n",
        "        super(DQN, self).__init__()\n",
        "        self.fc1 = nn.Linear(state_size, 24)  # state_size 관측값의 차원\n",
        "        self.fc2 = nn.Linear(24, 24)\n",
        "        self.fc3 = nn.Linear(24, action_size)  # 가능한 행동의 수\n",
        "\n",
        "    def forward(self, x):\n",
        "        x = torch.relu(self.fc1(x))\n",
        "        x = torch.relu(self.fc2(x))\n",
        "        return self.fc3(x)\n",
        "\n",
        "# DQN 에이전트 클래스 정의\n",
        "class DQNAgent:\n",
        "    def __init__(self, state_size, action_size):\n",
        "        self.state_size = state_size\n",
        "        self.action_size = action_size\n",
        "        self.memory = deque(maxlen=2000)\n",
        "        self.gamma = 0.99  # 할인 계수\n",
        "        self.epsilon = 1.0  # 탐사 확률\n",
        "        self.epsilon_min = 0.01\n",
        "        self.epsilon_decay = 0.995\n",
        "        self.learning_rate = 0.001\n",
        "        self.model = DQN(state_size, action_size)\n",
        "        self.optimizer = optim.Adam(self.model.parameters(), lr=self.learning_rate)\n",
        "        self.criterion = nn.MSELoss()\n",
        "\n",
        "    def remember(self, state, action, reward, next_state, done):\n",
        "        self.memory.append((state, action, reward, next_state, done))\n",
        "\n",
        "    def act(self, state):\n",
        "        if np.random.rand() <= self.epsilon:\n",
        "            return random.randrange(self.action_size)\n",
        "        state = torch.FloatTensor(state).unsqueeze(0)\n",
        "        q_values = self.model(state)\n",
        "        return np.argmax(q_values.detach().numpy())\n",
        "\n",
        "    def replay(self, batch_size):\n",
        "        if len(self.memory) < batch_size:\n",
        "            return\n",
        "        batch = random.sample(self.memory, batch_size)\n",
        "        for state, action, reward, next_state, done in batch:\n",
        "            target = reward\n",
        "            if not done:\n",
        "                target += self.gamma * np.amax(self.model(torch.FloatTensor(next_state)).detach().numpy())\n",
        "            target_f = self.model(torch.FloatTensor(state))\n",
        "            target_f = target_f.clone()  # Clone the target_f tensor to avoid in-place modification\n",
        "            target_f[action] = target  # 1차원 텐서로 처리\n",
        "            self.optimizer.zero_grad()\n",
        "            loss = self.criterion(self.model(torch.FloatTensor(state)), target_f)\n",
        "            loss.backward()\n",
        "            self.optimizer.step()\n",
        "\n",
        "# Hyperparameters\n",
        "EPISODES = 1000\n",
        "BATCH_SIZE = 32\n",
        "\n",
        "# 환경 초기화\n",
        "env = gym.make(\"CartPole-v1\", new_step_api=True)  # 새로운 API 사용\n",
        "state_size = env.observation_space.shape[0]\n",
        "action_size = env.action_space.n\n",
        "agent = DQNAgent(state_size, action_size)\n",
        "\n",
        "rewards = []\n",
        "\n",
        "# DQN 학습\n",
        "for e in range(EPISODES):\n",
        "    state = env.reset()  # 상태 초기화\n",
        "    total_reward = 0\n",
        "    done = False\n",
        "    while not done:\n",
        "        action = agent.act(state)\n",
        "        next_state, reward, done, truncated, _ = env.step(action)  # 새로운 API에 맞게 수정\n",
        "        agent.remember(state, action, reward, next_state, done)\n",
        "        state = next_state\n",
        "        total_reward += reward\n",
        "\n",
        "    agent.replay(BATCH_SIZE)\n",
        "    rewards.append(total_reward)\n",
        "\n",
        "    if agent.epsilon > agent.epsilon_min:\n",
        "        agent.epsilon *= agent.epsilon_decay\n",
        "\n",
        "    if e % 100 == 0:\n",
        "        print(f\"Episode: {e}, Reward: {total_reward}, Epsilon: {agent.epsilon:.2f}\")\n",
        "\n",
        "# 보상 시각화\n",
        "plt.plot(rewards)\n",
        "plt.xlabel('Episode')\n",
        "plt.ylabel('Total Reward')\n",
        "plt.title('Rewards over Episodes')\n",
        "plt.show()\n",
        "\n",
        "env.close()\n"
      ],
      "metadata": {
        "colab": {
          "base_uri": "https://localhost:8080/",
          "height": 651
        },
        "collapsed": true,
        "id": "RZDpDfY84Xyr",
        "outputId": "9aacc5ae-0bfa-442f-8283-c9d5c09f82c3"
      },
      "execution_count": 9,
      "outputs": [
        {
          "output_type": "stream",
          "name": "stdout",
          "text": [
            "Episode: 0, Reward: 13.0, Epsilon: 0.99\n",
            "Episode: 100, Reward: 11.0, Epsilon: 0.60\n",
            "Episode: 200, Reward: 10.0, Epsilon: 0.37\n",
            "Episode: 300, Reward: 41.0, Epsilon: 0.22\n",
            "Episode: 400, Reward: 30.0, Epsilon: 0.13\n",
            "Episode: 500, Reward: 41.0, Epsilon: 0.08\n",
            "Episode: 600, Reward: 114.0, Epsilon: 0.05\n",
            "Episode: 700, Reward: 107.0, Epsilon: 0.03\n",
            "Episode: 800, Reward: 111.0, Epsilon: 0.02\n",
            "Episode: 900, Reward: 243.0, Epsilon: 0.01\n"
          ]
        },
        {
          "output_type": "display_data",
          "data": {
            "text/plain": [
              "<Figure size 640x480 with 1 Axes>"
            ],
            "image/png": "[encoded data removed]"
          },
          "metadata": {}
        }
      ]
    },
    {
      "cell_type": "code",
      "source": [],
      "metadata": {
        "id": "bX9DJJml4dEy"
      },
      "execution_count": null,
      "outputs": []
    }
  ]
}